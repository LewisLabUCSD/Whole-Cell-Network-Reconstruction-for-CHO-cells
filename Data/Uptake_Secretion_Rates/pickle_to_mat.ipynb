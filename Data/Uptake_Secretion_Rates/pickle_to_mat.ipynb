{
 "cells": [
  {
   "cell_type": "code",
   "execution_count": 1,
   "id": "333e287c",
   "metadata": {},
   "outputs": [],
   "source": [
    "import pickle\n",
    "import scipy.io\n",
    "\n",
    "# Load the pickle file\n",
    "with open('uptake_secretion_wt_sim_p0p2.pkl', 'rb') as f:\n",
    "    data = pickle.load(f)\n",
    "\n",
    "# Save the data to a .mat file for MATLAB\n",
    "scipy.io.savemat('uptake_secretion_wt_sim_p0p2.mat', {'data': data})\n"
   ]
  },
  {
   "cell_type": "code",
   "execution_count": null,
   "id": "f186ac2f",
   "metadata": {},
   "outputs": [],
   "source": []
  }
 ],
 "metadata": {
  "kernelspec": {
   "display_name": "Python 3 (ipykernel)",
   "language": "python",
   "name": "python3"
  },
  "language_info": {
   "codemirror_mode": {
    "name": "ipython",
    "version": 3
   },
   "file_extension": ".py",
   "mimetype": "text/x-python",
   "name": "python",
   "nbconvert_exporter": "python",
   "pygments_lexer": "ipython3",
   "version": "3.9.13"
  }
 },
 "nbformat": 4,
 "nbformat_minor": 5
}
