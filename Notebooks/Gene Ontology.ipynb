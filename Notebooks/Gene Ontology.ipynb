{
 "cells": [
  {
   "cell_type": "code",
   "execution_count": 127,
   "id": "ef439c15",
   "metadata": {},
   "outputs": [],
   "source": [
    "from biomart import BiomartServer\n",
    "\n",
    "def get_gene_ontology_biomart(gene_id, host='http://www.ensembl.org/biomart/martservice'):\n",
    "    server = BiomartServer(host)\n",
    "    database = server.databases['ENSEMBL_MART_ENSEMBL']\n",
    "    dataset = database.datasets['cgchok1gshd_gene_ensembl']\n",
    "  \n",
    "    \n",
    "    attributes = [\n",
    "        'ensembl_gene_id',\n",
    "        'go_id',\n",
    "        'go_term',\n",
    "        'namespace'\n",
    "    ]\n",
    "\n",
    "    filters = {\n",
    "        'ensembl_gene_id': gene_id\n",
    "    }\n",
    "\n",
    "    #response = dataset.search(attributes=attributes, filters=filters)\n",
    "    #response = dataset.search({'attributes':['ensembl_gene_id','go_id','go_linkage_type']})\n",
    "            \n",
    "    \n",
    "    response = dataset.search({\n",
    "        'filters': {\n",
    "            'ensembl_gene_id':'ENSCGRG00015017497'\n",
    "        },\n",
    "        'attributes': [\n",
    "            'ensembl_gene_id','go_id','go_linkage_type']\n",
    "    })\n",
    "\n",
    "    go_terms = []\n",
    "    for record in response.iter_lines():\n",
    "        record = record.decode('utf-8')\n",
    "        fields = record.strip().split('\\t')\n",
    "        print(fields[0])\n",
    "        print(fields[1])\n",
    "        print(fields[2])\n",
    "        print(fields[3])\n",
    "        print(fields[4])\n",
    "        print(fields[5])\n",
    "        print(fields[6])\n",
    "        break\n",
    "        go_term = {\n",
    "            'id': fields[1],\n",
    "            'name': fields[2],\n",
    "            'namespace': fields[3]\n",
    "        }\n",
    "        \n",
    "        go_terms.append(go_term)\n",
    "    return go_terms\n"
   ]
  },
  {
   "cell_type": "code",
   "execution_count": 128,
   "id": "1aaadf8a",
   "metadata": {},
   "outputs": [],
   "source": [
    "go_terms = get_gene_ontology_biomart('ENSCGRG00015017497')"
   ]
  },
  {
   "cell_type": "code",
   "execution_count": null,
   "id": "824f6c98",
   "metadata": {},
   "outputs": [],
   "source": []
  }
 ],
 "metadata": {
  "kernelspec": {
   "display_name": "Python 3 (ipykernel)",
   "language": "python",
   "name": "python3"
  },
  "language_info": {
   "codemirror_mode": {
    "name": "ipython",
    "version": 3
   },
   "file_extension": ".py",
   "mimetype": "text/x-python",
   "name": "python",
   "nbconvert_exporter": "python",
   "pygments_lexer": "ipython3",
   "version": "3.10.8"
  }
 },
 "nbformat": 4,
 "nbformat_minor": 5
}
