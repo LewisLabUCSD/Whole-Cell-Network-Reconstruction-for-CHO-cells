{
 "cells": [
  {
   "cell_type": "code",
   "execution_count": 1,
   "id": "450f12c2",
   "metadata": {},
   "outputs": [],
   "source": [
    "import pandas as pd"
   ]
  },
  {
   "cell_type": "code",
   "execution_count": 2,
   "id": "a7f9ff72",
   "metadata": {},
   "outputs": [],
   "source": [
    "#Read excel files and create the dfs\n",
    "hefzi_df = pd.read_excel('../Data/iCHOv1_Reconstruction.xlsx', header = 1)\n",
    "fouladiha_df = pd.read_excel('../Data/10529_2020_3021_MOESM1_ESM.xlsx', 'Supplementary Table 10', header = 1)\n",
    "yeo_df = pd.read_excel('../Data/Supplementary Data.xlsx', 'Data S2')"
   ]
  },
  {
   "cell_type": "code",
   "execution_count": 3,
   "id": "745a3124",
   "metadata": {},
   "outputs": [],
   "source": [
    "#Standarization of the columns names\n",
    "fouladiha_df.rename(columns = {'Abbreviation':'Reaction', 'Description':'Reaction Name', 'Reaction':'Reaction Formula'}, inplace = True)\n",
    "yeo_df.rename(columns = {'Rxn':'Reaction', 'Subsystem (iCHO1766)':'Subsystem'}, inplace = True)\n",
    "\n",
    "# Addition of a 'tag' column\n",
    "hefzi_df.insert(loc=0, column='tag', value='hef')\n",
    "fouladiha_df.insert(loc=0, column='tag', value='fou')\n",
    "yeo_df.insert(loc=0, column='tag', value='yeo')\n",
    "\n",
    "\n",
    "#fouladiha_df = fouladiha_df[['Reaction', 'Reaction Name', 'Subsystem', 'Reaction Formula', 'GPR']]"
   ]
  },
  {
   "cell_type": "code",
   "execution_count": 4,
   "id": "20a6ae9c",
   "metadata": {},
   "outputs": [],
   "source": [
    "cols = hefzi_df.columns.to_list()+fouladiha_df.columns.to_list()+yeo_df.columns.to_list()\n",
    "\n",
    "# Eliminate repetitive values in the 'cols' list\n",
    "cols = [cols[i] for i in range(len(cols)) if i == cols.index(cols[i])]"
   ]
  },
  {
   "cell_type": "code",
   "execution_count": 5,
   "id": "381c546e",
   "metadata": {},
   "outputs": [],
   "source": [
    "def add_col(df):\n",
    "    '''\n",
    "    This function adds the remaining columns from the cols list \n",
    "    to an existing df that are not contained in such df\n",
    "    '''\n",
    "    df.columns\n",
    "    add_col = []\n",
    "    for col in cols:\n",
    "        if col not in df.columns:\n",
    "            add_col.append(col)\n",
    "    df = df.reindex(columns = df.columns.tolist() + add_col)\n",
    "    return df"
   ]
  },
  {
   "cell_type": "code",
   "execution_count": 6,
   "id": "fcad1b6a",
   "metadata": {},
   "outputs": [],
   "source": [
    "hefzi_df = add_col(hefzi_df)\n",
    "fouladiha_df = add_col(fouladiha_df)\n",
    "yeo_df = add_col(yeo_df)"
   ]
  },
  {
   "cell_type": "code",
   "execution_count": 7,
   "id": "11ec5b2b",
   "metadata": {},
   "outputs": [],
   "source": [
    "# Reorder columns in all datasets the same way\n",
    "fouladiha_df = fouladiha_df[['tag', 'Reaction', 'Reaction Name', 'Reaction Formula', 'GPR', 'Subsystem', 'Subsystem (iCHO2291)', 'Genes', 'Protein', 'EC Number', 'Mol wt', 'kcat_forward', 'kcat_backward', 'Reversible','Lower bound', 'Upper bound', 'Objective', 'Curation Notes', 'References']]\n",
    "yeo_df = yeo_df[['tag', 'Reaction', 'Reaction Name', 'Reaction Formula', 'GPR', 'Subsystem', 'Subsystem (iCHO2291)', 'Genes', 'Protein', 'EC Number', 'Mol wt', 'kcat_forward', 'kcat_backward', 'Reversible','Lower bound', 'Upper bound', 'Objective', 'Curation Notes', 'References']]\n",
    "hefzi_df = hefzi_df[['tag', 'Reaction', 'Reaction Name', 'Reaction Formula', 'GPR', 'Subsystem', 'Subsystem (iCHO2291)', 'Genes', 'Protein', 'EC Number', 'Mol wt', 'kcat_forward', 'kcat_backward', 'Reversible','Lower bound', 'Upper bound', 'Objective', 'Curation Notes', 'References']]"
   ]
  },
  {
   "cell_type": "code",
   "execution_count": 8,
   "id": "203bbe97",
   "metadata": {},
   "outputs": [],
   "source": [
    "# Merge all the df into a unified df\n",
    "all_dfs = pd.concat([hefzi_df, fouladiha_df, yeo_df])\n",
    "all_dfs = all_dfs.reset_index(drop = True)"
   ]
  },
  {
   "cell_type": "code",
   "execution_count": 9,
   "id": "ad29741f",
   "metadata": {},
   "outputs": [],
   "source": [
    "# Group the entire dataset by reaction name \n",
    "all_dfs = all_dfs.groupby(['Reaction'], group_keys=True).apply(lambda x: x)\n",
    "\n",
    "# Save merged datasets as Excel file\n",
    "all_dfs.to_excel('../Data/all_dfs.xlsx')"
   ]
  },
  {
   "cell_type": "code",
   "execution_count": null,
   "id": "40d212c3",
   "metadata": {},
   "outputs": [],
   "source": []
  },
  {
   "cell_type": "code",
   "execution_count": null,
   "id": "111e4043",
   "metadata": {},
   "outputs": [],
   "source": [
    "all_dfs"
   ]
  },
  {
   "cell_type": "code",
   "execution_count": null,
   "id": "986345c3",
   "metadata": {},
   "outputs": [],
   "source": []
  }
 ],
 "metadata": {
  "kernelspec": {
   "display_name": "Python 3 (ipykernel)",
   "language": "python",
   "name": "python3"
  },
  "language_info": {
   "codemirror_mode": {
    "name": "ipython",
    "version": 3
   },
   "file_extension": ".py",
   "mimetype": "text/x-python",
   "name": "python",
   "nbconvert_exporter": "python",
   "pygments_lexer": "ipython3",
   "version": "3.10.8"
  }
 },
 "nbformat": 4,
 "nbformat_minor": 5
}
