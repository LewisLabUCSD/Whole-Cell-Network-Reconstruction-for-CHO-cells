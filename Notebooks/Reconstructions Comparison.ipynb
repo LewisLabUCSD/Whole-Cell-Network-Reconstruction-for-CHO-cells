{
 "cells": [
  {
   "cell_type": "code",
   "execution_count": null,
   "id": "f793376b",
   "metadata": {},
   "outputs": [],
   "source": [
    "import pandas as pd\n",
    "from cobra.io import read_sbml_model, load_json_model, load_matlab_model\n",
    "from cobra.flux_analysis import find_blocked_reactions\n",
    "from utils import detect_dead_ends"
   ]
  },
  {
   "cell_type": "code",
   "execution_count": null,
   "id": "2d8b6c09",
   "metadata": {},
   "outputs": [],
   "source": [
    "icho1766 = read_sbml_model('../Data/reconciliation/models/iCHOv1_final.xml')\n",
    "icho2291 = read_sbml_model('../Data/Reconciliation/models/iCHO2291.xml')\n",
    "icho2101 = load_matlab_model('../../Data/Reconciliation/models/iCHO2101.mat')\n",
    "iCHO3000 = load_json_model('iCHOv3_CHO_17012024.json')"
   ]
  },
  {
   "cell_type": "code",
   "execution_count": 7,
   "id": "0a707ccf",
   "metadata": {},
   "outputs": [
    {
     "name": "stdout",
     "output_type": "stream",
     "text": [
      "biomass_specific: 0.1104 DNA_c + 0.2212 RNA_c + 0.0687 glc_D_c + 0.192 lipid_c + 5.0549 protein_c --> \n",
      "BIOMASS\n",
      "-------------------------------------------------\n",
      "lipid_specific: 0.0153 ak2gchol_cho_c + 0.1994 chsterol_c + 0.0083 clpn_cho_c + 0.0085 dag_cho_c + 0.0011 lpe_cho_c + 0.019 pa_cho_c + 0.0121 pail_cho_c + 0.3257 pchol_cho_c + 0.1097 pe_cho_c + 0.0206 pglyc_cho_e + 0.0487 ps_cho_c + 0.2316 sphmyln_cho_c --> lipid_c\n",
      "BIOMASS\n",
      "-------------------------------------------------\n",
      "protein_specific: 0.0781 ala_L_c + 0.0636 arg_L_c + 0.0489 asn_L_c + 0.0489 asp_L_c + 1.306 atp_c + 0.0194 cys_L_c + 0.0609 gln_L_c + 0.0609 glu_L_c + 0.0866 gly_c + 2.0 gtp_c + 2.306 h2o_c + 0.0191 his_L_c + 0.0374 ile_L_c + 0.0849 leu_L_c + 0.0716 lys_L_c + 0.019 met_L_c + 0.0342 phe_L_c + 0.056 pro_L_c + 0.0684 ser_L_c + 0.0531 thr_L_c + 0.0083 trp_L_c + 0.029 tyr_L_c + 0.0517 val_L_c --> 0.306 adp_c + amp_c + 2.0 gdp_c + 3.306 h_c + 2.306 pi_c + ppi_c + protein_c\n",
      "BIOMASS\n",
      "-------------------------------------------------\n",
      "DNA: 1.372 atp_c + 0.293500001099245 datp_c + 0.206499998900755 dctp_c + 0.206499998900755 dgtp_c + 0.293500001099245 dttp_c + 1.372 h2o_c --> DNA_c + 1.372 adp_c + 1.372 h_c + 1.372 pi_c + ppi_c\n",
      "BIOMASS\n",
      "-------------------------------------------------\n",
      "RNA: 0.667900002186051 atp_c + 0.249499999910303 ctp_c + 0.263799999144032 gtp_c + 0.4 h2o_c + 0.218799998759614 utp_c --> RNA_c + 0.4 adp_c + 0.4 h_c + 0.4 pi_c + ppi_c\n",
      "BIOMASS\n",
      "-------------------------------------------------\n"
     ]
    }
   ],
   "source": [
    "for r in model.reactions:\n",
    "    if r.subsystem == 'BIOMASS':\n",
    "        print(r)\n",
    "        print(r.subsystem)\n",
    "        print('-------------------------------------------------')\n",
    "        "
   ]
  },
  {
   "cell_type": "code",
   "execution_count": 8,
   "id": "8fc03777",
   "metadata": {},
   "outputs": [
    {
     "data": {
      "text/html": [
       "<strong><em>Optimal</em> solution with objective value 0.033</strong><br><div>\n",
       "<style scoped>\n",
       "    .dataframe tbody tr th:only-of-type {\n",
       "        vertical-align: middle;\n",
       "    }\n",
       "\n",
       "    .dataframe tbody tr th {\n",
       "        vertical-align: top;\n",
       "    }\n",
       "\n",
       "    .dataframe thead th {\n",
       "        text-align: right;\n",
       "    }\n",
       "</style>\n",
       "<table border=\"1\" class=\"dataframe\">\n",
       "  <thead>\n",
       "    <tr style=\"text-align: right;\">\n",
       "      <th></th>\n",
       "      <th>fluxes</th>\n",
       "      <th>reduced_costs</th>\n",
       "    </tr>\n",
       "  </thead>\n",
       "  <tbody>\n",
       "    <tr>\n",
       "      <th>4NPHSULT</th>\n",
       "      <td>0.000000</td>\n",
       "      <td>0.0</td>\n",
       "    </tr>\n",
       "    <tr>\n",
       "      <th>FAH1</th>\n",
       "      <td>0.000000</td>\n",
       "      <td>0.0</td>\n",
       "    </tr>\n",
       "    <tr>\n",
       "      <th>FAH2</th>\n",
       "      <td>0.000000</td>\n",
       "      <td>0.0</td>\n",
       "    </tr>\n",
       "    <tr>\n",
       "      <th>FAH3</th>\n",
       "      <td>0.000000</td>\n",
       "      <td>0.0</td>\n",
       "    </tr>\n",
       "    <tr>\n",
       "      <th>P4502C18</th>\n",
       "      <td>0.000000</td>\n",
       "      <td>0.0</td>\n",
       "    </tr>\n",
       "    <tr>\n",
       "      <th>...</th>\n",
       "      <td>...</td>\n",
       "      <td>...</td>\n",
       "    </tr>\n",
       "    <tr>\n",
       "      <th>biomass_specific</th>\n",
       "      <td>0.032781</td>\n",
       "      <td>0.0</td>\n",
       "    </tr>\n",
       "    <tr>\n",
       "      <th>lipid_specific</th>\n",
       "      <td>0.006294</td>\n",
       "      <td>0.0</td>\n",
       "    </tr>\n",
       "    <tr>\n",
       "      <th>protein_specific</th>\n",
       "      <td>0.165707</td>\n",
       "      <td>0.0</td>\n",
       "    </tr>\n",
       "    <tr>\n",
       "      <th>DNA</th>\n",
       "      <td>0.003619</td>\n",
       "      <td>0.0</td>\n",
       "    </tr>\n",
       "    <tr>\n",
       "      <th>RNA</th>\n",
       "      <td>0.007251</td>\n",
       "      <td>0.0</td>\n",
       "    </tr>\n",
       "  </tbody>\n",
       "</table>\n",
       "<p>4740 rows × 2 columns</p>\n",
       "</div>"
      ],
      "text/plain": [
       "<Solution 0.033 at 0x2906f00d0>"
      ]
     },
     "execution_count": 8,
     "metadata": {},
     "output_type": "execute_result"
    }
   ],
   "source": [
    "model.objective = 'biomass_specific'\n",
    "model.optimize()"
   ]
  },
  {
   "cell_type": "code",
   "execution_count": 13,
   "id": "aaad14cc",
   "metadata": {},
   "outputs": [
    {
     "name": "stdout",
     "output_type": "stream",
     "text": [
      "AGLPC_cho: ak2g_cho_c + cdpchol_c --> ak2gchol_cho_c + cmp_c + h2o_c + h_c\n",
      "lipid_specific: 0.0153 ak2gchol_cho_c + 0.1994 chsterol_c + 0.0083 clpn_cho_c + 0.0085 dag_cho_c + 0.0011 lpe_cho_c + 0.019 pa_cho_c + 0.0121 pail_cho_c + 0.3257 pchol_cho_c + 0.1097 pe_cho_c + 0.0206 pglyc_cho_e + 0.0487 ps_cho_c + 0.2316 sphmyln_cho_c --> lipid_c\n",
      "PLA2_cho: ak2gchol_cho_c + h2o_c --> Rtotal_PCO_c + ak2lgchol_cho_c + h_c\n"
     ]
    }
   ],
   "source": [
    "aagp = model.metabolites.get_by_id('ak2gchol_cho_c')\n",
    "for r in aagp.reactions:\n",
    "    print(r)"
   ]
  },
  {
   "cell_type": "code",
   "execution_count": 14,
   "id": "82712b62",
   "metadata": {},
   "outputs": [
    {
     "name": "stdout",
     "output_type": "stream",
     "text": [
      "AGLPH_cho: ak2gp_cho_c + h2o_c --> ak2g_cho_c + pi_c\n",
      "AGLPC_cho: ak2g_cho_c + cdpchol_c --> ak2gchol_cho_c + cmp_c + h2o_c + h_c\n"
     ]
    }
   ],
   "source": [
    "aag = model.metabolites.get_by_id('ak2g_cho_c')\n",
    "for r in aag.reactions:\n",
    "    print(r)"
   ]
  },
  {
   "cell_type": "code",
   "execution_count": 22,
   "id": "a58cb857",
   "metadata": {},
   "outputs": [
    {
     "name": "stdout",
     "output_type": "stream",
     "text": [
      "AGLPC_cho: ak2g_cho_c + cdpchol_c --> ak2gchol_cho_c + cmp_c + h2o_c + h_c\n",
      "CHLPCTD: cholp_c + ctp_c + h_c --> cdpchol_c + ppi_c\n",
      "CEPTC_cho: cdpchol_c + dag_cho_c --> cmp_c + h_c + pchol_cho_c\n"
     ]
    }
   ],
   "source": [
    "cdpchol = model.metabolites.get_by_id('cdpchol_c')\n",
    "for r in cdpchol.reactions:\n",
    "    print(r)"
   ]
  },
  {
   "cell_type": "code",
   "execution_count": 23,
   "id": "167900e0",
   "metadata": {},
   "outputs": [
    {
     "name": "stdout",
     "output_type": "stream",
     "text": [
      "CHOLK: atp_c + chol_c --> adp_c + cholp_c + h_c\n",
      "CHOLPtg: cholp_c <=> cholp_g\n",
      "SMPD4_cho: h2o_c + spc_cho_c --> cholp_c + h_c + sphings_c\n",
      "CHLPCTD: cholp_c + ctp_c + h_c --> cdpchol_c + ppi_c\n",
      "CHOLPtl: cholp_c <=> cholp_l\n",
      "r0789: HC01842_c + amet_c <=> ahcys_c + cholp_c\n",
      "SMPDE: h2o_c + sphmyln_cho_c --> cholp_c + crm_cho_c + h_c\n",
      "CHLP: cholp_c + h2o_c --> chol_c + pi_c\n"
     ]
    }
   ],
   "source": [
    "cholp_c = model.metabolites.get_by_id('cholp_c')\n",
    "for r in cholp_c.reactions:\n",
    "    print(r)"
   ]
  },
  {
   "cell_type": "code",
   "execution_count": 17,
   "id": "f1ca1b9c",
   "metadata": {},
   "outputs": [
    {
     "name": "stdout",
     "output_type": "stream",
     "text": [
      "AGLPR_cho: akdhap_cho_c + h_c + nadph_c --> akgp_cho_c + nadp_c\n",
      "AGPex_cho: akdhap_cho_c <=> akdhap_cho_x\n"
     ]
    }
   ],
   "source": [
    "akdhap = model.metabolites.get_by_id('akdhap_cho_c')\n",
    "for r in akdhap.reactions:\n",
    "    print(r)"
   ]
  },
  {
   "cell_type": "code",
   "execution_count": 18,
   "id": "107123ac",
   "metadata": {},
   "outputs": [
    {
     "name": "stdout",
     "output_type": "stream",
     "text": [
      "AGPex_cho: akdhap_cho_c <=> akdhap_cho_x\n",
      "AGPSx_cho: adhap_cho_x + alkylR1oh_x --> Rtotal_PCO_x + akdhap_cho_x + h_x\n"
     ]
    }
   ],
   "source": [
    "akdhapx = model.metabolites.get_by_id('akdhap_cho_x')\n",
    "for r in akdhapx.reactions:\n",
    "    print(r)"
   ]
  },
  {
   "cell_type": "code",
   "execution_count": 19,
   "id": "c927a5ce",
   "metadata": {},
   "outputs": [
    {
     "name": "stdout",
     "output_type": "stream",
     "text": [
      "R10104: Rtotalcoa_PCO_x + 2.0 h_x + 2.0 nadph_x <=> alkylR1oh_x + coa_x + 2.0 nadp_x\n",
      "AGPSx_cho: adhap_cho_x + alkylR1oh_x --> Rtotal_PCO_x + akdhap_cho_x + h_x\n"
     ]
    }
   ],
   "source": [
    "alkylR1oh_x = model.metabolites.get_by_id('alkylR1oh_x')\n",
    "for r in alkylR1oh_x.reactions:\n",
    "    print(r)"
   ]
  },
  {
   "cell_type": "code",
   "execution_count": 20,
   "id": "efc1c8f3",
   "metadata": {},
   "outputs": [
    {
     "name": "stdout",
     "output_type": "stream",
     "text": [
      "DHAPAx_cho: Rtotalcoa_PCO_x + dhap_x --> adhap_cho_x + coa_x\n",
      "AGPSx_cho: adhap_cho_x + alkylR1oh_x --> Rtotal_PCO_x + akdhap_cho_x + h_x\n"
     ]
    }
   ],
   "source": [
    "adhap_cho_x = model.metabolites.get_by_id('adhap_cho_x')\n",
    "for r in adhap_cho_x.reactions:\n",
    "    print(r)"
   ]
  },
  {
   "cell_type": "code",
   "execution_count": 21,
   "id": "786d399d",
   "metadata": {},
   "outputs": [
    {
     "data": {
      "text/html": [
       "\n",
       "        <table>\n",
       "            <tr>\n",
       "                <td><strong>Reaction identifier</strong></td><td>R10104</td>\n",
       "            </tr><tr>\n",
       "                <td><strong>Name</strong></td><td>M_alkylR1oh_x synthesis</td>\n",
       "            </tr><tr>\n",
       "                <td><strong>Memory address</strong></td>\n",
       "                <td>0x29010fdf0</td>\n",
       "            </tr><tr>\n",
       "                <td><strong>Stoichiometry</strong></td>\n",
       "                <td>\n",
       "                    <p style='text-align:right'>Rtotalcoa_PCO_x + 2.0 h_x + 2.0 nadph_x <=> alkylR1oh_x + coa_x + 2.0 nadp_x</p>\n",
       "                    <p style='text-align:right'>M_Rtotalcoa_PCO_x + 2.0 proton + 2.0 NADPH(-4) <=> hydroxy alkyl chain + Coenzyme A + 2.0 NADP(-3)</p>\n",
       "                </td>\n",
       "            </tr><tr>\n",
       "                <td><strong>GPR</strong></td><td></td>\n",
       "            </tr><tr>\n",
       "                <td><strong>Lower bound</strong></td><td>-1000.0</td>\n",
       "            </tr><tr>\n",
       "                <td><strong>Upper bound</strong></td><td>1000.0</td>\n",
       "            </tr>\n",
       "        </table>\n",
       "        "
      ],
      "text/plain": [
       "<Reaction R10104 at 0x29010fdf0>"
      ]
     },
     "execution_count": 21,
     "metadata": {},
     "output_type": "execute_result"
    }
   ],
   "source": [
    "R10104 = model.reactions.get_by_id('R10104')\n",
    "R10104"
   ]
  },
  {
   "cell_type": "code",
   "execution_count": 8,
   "id": "fb8f72b3",
   "metadata": {},
   "outputs": [
    {
     "name": "stdout",
     "output_type": "stream",
     "text": [
      "500 reactions analized\n",
      "1000 reactions analized\n",
      "1500 reactions analized\n",
      "2000 reactions analized\n",
      "2500 reactions analized\n",
      "3000 reactions analized\n",
      "3500 reactions analized\n",
      "4000 reactions analized\n",
      "4500 reactions analized\n"
     ]
    }
   ],
   "source": [
    "##### ----- FVA ----- #####\n",
    "import utils\n",
    "\n",
    "model.solver = 'gurobi'\n",
    "\n",
    "\n",
    "for rxn_exchange in model.exchanges:\n",
    "    rxn_exchange.bounds = (-1000, 1000)\n",
    "minmax = utils.runMinMax_Single(model, end_rxn_index=None)\n",
    "\n",
    "##### Print Reactions with the min and max fluxes #####\n",
    "with open('temp/FVA_Results.txt', 'w') as f:\n",
    "    for i, j in enumerate(minmax):\n",
    "        print(model.reactions[i].id, \"Min: \",j[0], \"Max: \", j[1], file=f)\n",
    "        \n",
    "##### Print Blocked Reactions #####\n",
    "with open('temp/Blocked_Reactions.txt', 'w') as f:\n",
    "    for i, j in enumerate(minmax):\n",
    "        if j[0] == 0 and j[1] == 0:\n",
    "            print(model.reactions[i].id, \"Min: \",j[0], \"Max: \", j[1], file=f)"
   ]
  },
  {
   "cell_type": "code",
   "execution_count": null,
   "id": "730683c2",
   "metadata": {},
   "outputs": [],
   "source": []
  }
 ],
 "metadata": {
  "kernelspec": {
   "display_name": "Python 3 (ipykernel)",
   "language": "python",
   "name": "python3"
  },
  "language_info": {
   "codemirror_mode": {
    "name": "ipython",
    "version": 3
   },
   "file_extension": ".py",
   "mimetype": "text/x-python",
   "name": "python",
   "nbconvert_exporter": "python",
   "pygments_lexer": "ipython3",
   "version": "3.10.8"
  }
 },
 "nbformat": 4,
 "nbformat_minor": 5
}
