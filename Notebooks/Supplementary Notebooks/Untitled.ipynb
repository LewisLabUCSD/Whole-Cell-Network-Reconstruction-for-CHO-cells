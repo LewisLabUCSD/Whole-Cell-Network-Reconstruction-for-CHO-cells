{
 "cells": [
  {
   "cell_type": "code",
   "execution_count": 1,
   "id": "01550c88",
   "metadata": {},
   "outputs": [
    {
     "name": "stderr",
     "output_type": "stream",
     "text": [
      "/Users/pablodigiusto/miniforge3/envs/mncho/lib/python3.10/site-packages/scipy/__init__.py:146: UserWarning: A NumPy version >=1.16.5 and <1.23.0 is required for this version of SciPy (detected version 1.23.4\n",
      "  warnings.warn(f\"A NumPy version >={np_minversion} and <{np_maxversion}\"\n"
     ]
    }
   ],
   "source": [
    "import pandas as pd\n",
    "import cobra\n",
    "from cobra.io import load_matlab_model\n",
    "from cobra.util import create_stoichiometric_matrix\n",
    "from tqdm.notebook import tqdm"
   ]
  },
  {
   "cell_type": "code",
   "execution_count": 2,
   "id": "aeaf9406",
   "metadata": {},
   "outputs": [
    {
     "name": "stderr",
     "output_type": "stream",
     "text": [
      "This model seems to have confidenceScores instead of rxnConfidenceScores field. Will use confidenceScores for what rxnConfidenceScores represents.\n",
      "No defined compartments in model newmodel. Compartments will be deduced heuristically using regular expressions.\n",
      "Using regular expression found the following compartments:c, e, g, l, m, n, r, x\n"
     ]
    },
    {
     "ename": "IndexError",
     "evalue": "list index out of range",
     "output_type": "error",
     "traceback": [
      "\u001b[0;31m---------------------------------------------------------------------------\u001b[0m",
      "\u001b[0;31mIndexError\u001b[0m                                Traceback (most recent call last)",
      "Cell \u001b[0;32mIn[2], line 2\u001b[0m\n\u001b[1;32m      1\u001b[0m \u001b[38;5;66;03m# Read the model using the cobrapy library\u001b[39;00m\n\u001b[0;32m----> 2\u001b[0m model \u001b[38;5;241m=\u001b[39m \u001b[43mload_matlab_model\u001b[49m\u001b[43m(\u001b[49m\u001b[38;5;124;43m'\u001b[39;49m\u001b[38;5;124;43m../../Data/Reconciliation/models/iCHO2101.mat\u001b[39;49m\u001b[38;5;124;43m'\u001b[39;49m\u001b[43m)\u001b[49m\n\u001b[1;32m      4\u001b[0m \u001b[38;5;66;03m# Create dataframe from the model with the attributes that we are interested in\u001b[39;00m\n\u001b[1;32m      5\u001b[0m attributes \u001b[38;5;241m=\u001b[39m []\n",
      "File \u001b[0;32m~/miniforge3/envs/mncho/lib/python3.10/site-packages/cobra/io/mat.py:341\u001b[0m, in \u001b[0;36mload_matlab_model\u001b[0;34m(infile_path, variable_name, inf)\u001b[0m\n\u001b[1;32m    339\u001b[0m \u001b[38;5;28;01mfor\u001b[39;00m possible_name \u001b[38;5;129;01min\u001b[39;00m possible_names:\n\u001b[1;32m    340\u001b[0m     \u001b[38;5;28;01mtry\u001b[39;00m:\n\u001b[0;32m--> 341\u001b[0m         \u001b[38;5;28;01mreturn\u001b[39;00m \u001b[43mfrom_mat_struct\u001b[49m\u001b[43m(\u001b[49m\u001b[43mdata\u001b[49m\u001b[43m[\u001b[49m\u001b[43mpossible_name\u001b[49m\u001b[43m]\u001b[49m\u001b[43m,\u001b[49m\u001b[43m \u001b[49m\u001b[43mmodel_id\u001b[49m\u001b[38;5;241;43m=\u001b[39;49m\u001b[43mpossible_name\u001b[49m\u001b[43m,\u001b[49m\u001b[43m \u001b[49m\u001b[43minf\u001b[49m\u001b[38;5;241;43m=\u001b[39;49m\u001b[43minf\u001b[49m\u001b[43m)\u001b[49m\n\u001b[1;32m    342\u001b[0m     \u001b[38;5;28;01mexcept\u001b[39;00m \u001b[38;5;167;01mValueError\u001b[39;00m \u001b[38;5;28;01mas\u001b[39;00m e:\n\u001b[1;32m    343\u001b[0m         \u001b[38;5;28mprint\u001b[39m(\u001b[38;5;124mf\u001b[39m\u001b[38;5;124m\"\u001b[39m\u001b[38;5;124mSome problem with the model, causing error \u001b[39m\u001b[38;5;132;01m{\u001b[39;00me\u001b[38;5;132;01m}\u001b[39;00m\u001b[38;5;124m\"\u001b[39m)\n",
      "File \u001b[0;32m~/miniforge3/envs/mncho/lib/python3.10/site-packages/cobra/io/mat.py:828\u001b[0m, in \u001b[0;36mfrom_mat_struct\u001b[0;34m(mat_struct, model_id, inf)\u001b[0m\n\u001b[1;32m    826\u001b[0m     new_metabolite\u001b[38;5;241m.\u001b[39mname \u001b[38;5;241m=\u001b[39m met_names[i]\n\u001b[1;32m    827\u001b[0m \u001b[38;5;28;01mif\u001b[39;00m met_charges:\n\u001b[0;32m--> 828\u001b[0m     new_metabolite\u001b[38;5;241m.\u001b[39mcharge \u001b[38;5;241m=\u001b[39m \u001b[43mmet_charges\u001b[49m\u001b[43m[\u001b[49m\u001b[43mi\u001b[49m\u001b[43m]\u001b[49m\n\u001b[1;32m    829\u001b[0m \u001b[38;5;28;01mif\u001b[39;00m met_formulas:\n\u001b[1;32m    830\u001b[0m     new_metabolite\u001b[38;5;241m.\u001b[39mformula \u001b[38;5;241m=\u001b[39m met_formulas[i]\n",
      "\u001b[0;31mIndexError\u001b[0m: list index out of range"
     ]
    }
   ],
   "source": [
    "# Read the model using the cobrapy library\n",
    "model = load_matlab_model('../../Data/Reconciliation/models/iCHO2101.mat')\n",
    "\n",
    "# Create dataframe from the model with the attributes that we are interested in\n",
    "attributes = []\n",
    "for reaction in tqdm(model.reactions):\n",
    "    attributes.append([reaction.id, reaction.name, reaction.reaction, reaction.gpr, \n",
    "                       reaction.subsystem, reaction.lower_bound, reaction.upper_bound])\n",
    "\n",
    "df1 = pd.DataFrame(data=attributes, columns=['Reaction', 'Reaction Name', 'Reaction Formula', 'GPR', 'Subsystem', 'Lower bound', 'Upper bound'])\n",
    "df1"
   ]
  },
  {
   "cell_type": "code",
   "execution_count": 4,
   "id": "ec395365",
   "metadata": {},
   "outputs": [
    {
     "name": "stderr",
     "output_type": "stream",
     "text": [
      "This model seems to have confidenceScores instead of rxnConfidenceScores field. Will use confidenceScores for what rxnConfidenceScores represents.\n",
      "No defined compartments in model newmodel. Compartments will be deduced heuristically using regular expressions.\n",
      "Using regular expression found the following compartments:c, e, g, l, m, n, r, x\n"
     ]
    },
    {
     "ename": "IndexError",
     "evalue": "list index out of range",
     "output_type": "error",
     "traceback": [
      "\u001b[0;31m---------------------------------------------------------------------------\u001b[0m",
      "\u001b[0;31mIndexError\u001b[0m                                Traceback (most recent call last)",
      "Cell \u001b[0;32mIn[4], line 1\u001b[0m\n\u001b[0;32m----> 1\u001b[0m model \u001b[38;5;241m=\u001b[39m \u001b[43mload_matlab_model\u001b[49m\u001b[43m(\u001b[49m\u001b[38;5;124;43m'\u001b[39;49m\u001b[38;5;124;43m../../Data/Reconciliation/models/iCHO2101.mat\u001b[39;49m\u001b[38;5;124;43m'\u001b[39;49m\u001b[43m)\u001b[49m\n",
      "File \u001b[0;32m~/miniforge3/envs/mncho/lib/python3.10/site-packages/cobra/io/mat.py:341\u001b[0m, in \u001b[0;36mload_matlab_model\u001b[0;34m(infile_path, variable_name, inf)\u001b[0m\n\u001b[1;32m    339\u001b[0m \u001b[38;5;28;01mfor\u001b[39;00m possible_name \u001b[38;5;129;01min\u001b[39;00m possible_names:\n\u001b[1;32m    340\u001b[0m     \u001b[38;5;28;01mtry\u001b[39;00m:\n\u001b[0;32m--> 341\u001b[0m         \u001b[38;5;28;01mreturn\u001b[39;00m \u001b[43mfrom_mat_struct\u001b[49m\u001b[43m(\u001b[49m\u001b[43mdata\u001b[49m\u001b[43m[\u001b[49m\u001b[43mpossible_name\u001b[49m\u001b[43m]\u001b[49m\u001b[43m,\u001b[49m\u001b[43m \u001b[49m\u001b[43mmodel_id\u001b[49m\u001b[38;5;241;43m=\u001b[39;49m\u001b[43mpossible_name\u001b[49m\u001b[43m,\u001b[49m\u001b[43m \u001b[49m\u001b[43minf\u001b[49m\u001b[38;5;241;43m=\u001b[39;49m\u001b[43minf\u001b[49m\u001b[43m)\u001b[49m\n\u001b[1;32m    342\u001b[0m     \u001b[38;5;28;01mexcept\u001b[39;00m \u001b[38;5;167;01mValueError\u001b[39;00m \u001b[38;5;28;01mas\u001b[39;00m e:\n\u001b[1;32m    343\u001b[0m         \u001b[38;5;28mprint\u001b[39m(\u001b[38;5;124mf\u001b[39m\u001b[38;5;124m\"\u001b[39m\u001b[38;5;124mSome problem with the model, causing error \u001b[39m\u001b[38;5;132;01m{\u001b[39;00me\u001b[38;5;132;01m}\u001b[39;00m\u001b[38;5;124m\"\u001b[39m)\n",
      "File \u001b[0;32m~/miniforge3/envs/mncho/lib/python3.10/site-packages/cobra/io/mat.py:828\u001b[0m, in \u001b[0;36mfrom_mat_struct\u001b[0;34m(mat_struct, model_id, inf)\u001b[0m\n\u001b[1;32m    826\u001b[0m     new_metabolite\u001b[38;5;241m.\u001b[39mname \u001b[38;5;241m=\u001b[39m met_names[i]\n\u001b[1;32m    827\u001b[0m \u001b[38;5;28;01mif\u001b[39;00m met_charges:\n\u001b[0;32m--> 828\u001b[0m     new_metabolite\u001b[38;5;241m.\u001b[39mcharge \u001b[38;5;241m=\u001b[39m \u001b[43mmet_charges\u001b[49m\u001b[43m[\u001b[49m\u001b[43mi\u001b[49m\u001b[43m]\u001b[49m\n\u001b[1;32m    829\u001b[0m \u001b[38;5;28;01mif\u001b[39;00m met_formulas:\n\u001b[1;32m    830\u001b[0m     new_metabolite\u001b[38;5;241m.\u001b[39mformula \u001b[38;5;241m=\u001b[39m met_formulas[i]\n",
      "\u001b[0;31mIndexError\u001b[0m: list index out of range"
     ]
    }
   ],
   "source": [
    "model = load_matlab_model('../../Data/Reconciliation/models/iCHO2101.mat')"
   ]
  },
  {
   "cell_type": "code",
   "execution_count": null,
   "id": "2cc32e58",
   "metadata": {},
   "outputs": [],
   "source": []
  }
 ],
 "metadata": {
  "kernelspec": {
   "display_name": "Python 3 (ipykernel)",
   "language": "python",
   "name": "python3"
  },
  "language_info": {
   "codemirror_mode": {
    "name": "ipython",
    "version": 3
   },
   "file_extension": ".py",
   "mimetype": "text/x-python",
   "name": "python",
   "nbconvert_exporter": "python",
   "pygments_lexer": "ipython3",
   "version": "3.10.8"
  }
 },
 "nbformat": 4,
 "nbformat_minor": 5
}
