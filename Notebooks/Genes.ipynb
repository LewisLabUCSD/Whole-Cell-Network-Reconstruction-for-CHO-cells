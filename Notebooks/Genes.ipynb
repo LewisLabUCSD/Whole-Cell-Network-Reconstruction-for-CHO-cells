{
 "cells": [
  {
   "cell_type": "markdown",
   "id": "57a5e96e",
   "metadata": {},
   "source": [
    "# Genes\n",
    "The following notebook retrieves all the genes involved in the reactions from the **\"Rxns\" Sheet** in Google Sheet file. Then, information regarding the genes is retrieved from different databases and a **\"Genes\" Sheet** is generated and updated."
   ]
  },
  {
   "cell_type": "code",
   "execution_count": 1,
   "id": "08228a07",
   "metadata": {},
   "outputs": [],
   "source": [
    "import pandas as pd\n",
    "import numpy as np\n",
    "import time\n",
    "from tqdm.notebook import tqdm\n",
    "\n",
    "from google_sheet import GoogleSheet\n",
    "from utils import get_gene_info"
   ]
  },
  {
   "cell_type": "markdown",
   "id": "ac38d2d7",
   "metadata": {},
   "source": [
    "### 1. Generate \"rxns\" and \"genes\" datasets\n",
    "The \"rxns\" dataset contains all the reactions with their GPR associations. The \"genes\" dataset contains all the information of the genes/GPR involved in our reconstruction."
   ]
  },
  {
   "cell_type": "code",
   "execution_count": 2,
   "id": "19d8026b",
   "metadata": {},
   "outputs": [],
   "source": [
    "KEY_FILE_PATH = 'credentials.json'\n",
    "SPREADSHEET_ID = '1MlBXeHIKw8k8fZyXm-sN__AHTRSunJxar_-bqvukZws'\n",
    "\n",
    "# Initialize the GoogleSheet object\n",
    "sheet = GoogleSheet(SPREADSHEET_ID, KEY_FILE_PATH)\n",
    "\n",
    "# Read data from the Google Sheet\n",
    "sheet_rxns = 'Rxns'\n",
    "sheet_genes = 'Genes'\n",
    "\n",
    "rxns = sheet.read_google_sheet(sheet_rxns)\n",
    "genes = sheet.read_google_sheet(sheet_genes)"
   ]
  },
  {
   "cell_type": "markdown",
   "id": "de13c811",
   "metadata": {},
   "source": [
    "### 2. Create the a \"gene_list\" with all the genes involved in our reconstruction\n",
    "We extract the gene IDs from the GPR annotations in the **\"rxns\" df**. This information is only retrieved from the **GPR_final** column."
   ]
  },
  {
   "cell_type": "code",
   "execution_count": 3,
   "id": "b0f61d39",
   "metadata": {},
   "outputs": [
    {
     "data": {
      "text/plain": [
       "3045"
      ]
     },
     "execution_count": 3,
     "metadata": {},
     "output_type": "execute_result"
    }
   ],
   "source": [
    "# Generation of gene_list from all the genes in the \"Whole Cell Network Reconstruction in CHO Cells\" dataset\n",
    "import re\n",
    "\n",
    "gene_list = []\n",
    "human_gene_list = []\n",
    "for index, row in rxns.iterrows():\n",
    "    if row['GPR_final'] != '':\n",
    "        gprs = str(row['GPR_final'])\n",
    "        gpr = re.findall(r'\\b[hH]?\\d+\\b', gprs)\n",
    "        for g in gpr:\n",
    "            if g.lower().startswith('h'):  # we convert to lower case to catch both 'h' and 'H'\n",
    "                human_gene_list.append(int(g[1:]))  # remove 'h' and convert to int before appending\n",
    "            else:\n",
    "                gene_list.append(int(g))  # convert to int before appending\n",
    "\n",
    "gene_list = list(set(gene_list))\n",
    "len(gene_list)"
   ]
  },
  {
   "cell_type": "markdown",
   "id": "e9c5c853",
   "metadata": {},
   "source": [
    "### 3. Replace remaining Human Gene IDs in our dataset with CHO Gene IDs\n",
    "Using the **cho2human_mapping** file, we replace the Human gene IDs with those of CHO, these IDs were not spotted when we first added the Recon3D reactions."
   ]
  },
  {
   "cell_type": "code",
   "execution_count": 4,
   "id": "fd3c0d42",
   "metadata": {},
   "outputs": [
    {
     "data": {
      "text/plain": [
       "{}"
      ]
     },
     "execution_count": 4,
     "metadata": {},
     "output_type": "execute_result"
    }
   ],
   "source": [
    "# Build a dictionary with human gene IDs as keys and CHO gene IDs as values\n",
    "orthologs = pd.read_csv('../Data/Orthologs/cho2human_mapping.tsv', sep='\\t')\n",
    "human_to_cho_dict = dict(zip(orthologs['HUMAN_ID'], orthologs['CHO_ID']))\n",
    "\n",
    "def replace_human_ids_with_cho_ids(s):\n",
    "    replaced_dict = {}\n",
    "    if isinstance(s, str):\n",
    "        genes = re.findall(r'\\b[hH]?\\d+\\b', s)\n",
    "        for gene in genes:\n",
    "            if gene.lower().startswith('h'):  # if gene ID starts with 'h' or 'H'\n",
    "                human_id = int(gene[1:])  # remove 'h' and convert to int\n",
    "                if human_id in human_to_cho_dict:  # if human gene ID is in the dictionary\n",
    "                    cho_id = human_to_cho_dict[human_id]  # get corresponding CHO gene ID\n",
    "                    s = s.replace(gene, str(cho_id))  # replace human gene ID with CHO gene ID in the string\n",
    "                    replaced_dict[gene] = cho_id\n",
    "    return s, replaced_dict\n",
    "\n",
    "# Initialize a dictionary to store replacements\n",
    "replacements = {}\n",
    "\n",
    "# Apply the function and update the replacements dictionary\n",
    "for i in range(len(rxns)):\n",
    "    rxns.at[i, 'GPR_final'], replacements_dict = replace_human_ids_with_cho_ids(rxns.at[i, 'GPR_final'])\n",
    "    replacements.update(replacements_dict)\n",
    "\n",
    "# Now, 'replacements' is a dictionary where keys are the original gene IDs and values are the replaced CHO gene IDs\n",
    "replacements"
   ]
  },
  {
   "cell_type": "code",
   "execution_count": 5,
   "id": "cc309360",
   "metadata": {},
   "outputs": [
    {
     "name": "stdout",
     "output_type": "stream",
     "text": [
      "No changes to the original Rxns Sheet\n"
     ]
    }
   ],
   "source": [
    "######################################\n",
    "#### ---------------------------- ####\n",
    "#### ---- Update Rxns Sheet ----- ####\n",
    "#### ---------------------------- ####\n",
    "######################################\n",
    "if replacements:\n",
    "    sheet.update_google_sheet(sheet_rxns, rxns)\n",
    "    print(\"Google Sheet updated.\")\n",
    "elif not replacements:\n",
    "    print(\"No changes to the original Rxns Sheet\")"
   ]
  },
  {
   "cell_type": "markdown",
   "id": "ed00e36d",
   "metadata": {},
   "source": [
    "### 3. Add the genes from the \"gene_list\" to the genes df\n",
    "Using a list of all the genes included in the dataset we can retrieve information from the NIH database regarding Gene Symbol, Gene Name, Gene Ensembl ID, and mRNA ID and protein ID using the function get_gene_info()."
   ]
  },
  {
   "cell_type": "code",
   "execution_count": 7,
   "id": "236d1799",
   "metadata": {},
   "outputs": [
    {
     "data": {
      "application/vnd.jupyter.widget-view+json": {
       "model_id": "55622e982a4a4132a248114e9e6ca772",
       "version_major": 2,
       "version_minor": 0
      },
      "text/plain": [
       "  0%|          | 0/3045 [00:00<?, ?it/s]"
      ]
     },
     "metadata": {},
     "output_type": "display_data"
    },
    {
     "name": "stdout",
     "output_type": "stream",
     "text": [
      "30100754813\n",
      "Gene 30100754813 does not have PICR Ensembl ID\n",
      "Gene (30100754813, 'ycf15') is a Vitis cinerea Gene\n",
      "A total of 0 Genes were added to the dataset\n"
     ]
    }
   ],
   "source": [
    "import time\n",
    "from urllib.error import HTTPError\n",
    "from Bio.Entrez.Parser import ValidationError\n",
    "\n",
    "max_retries = 5  # Set the maximum number of retries\n",
    "c = 0\n",
    "\n",
    "for g in tqdm(gene_list):\n",
    "    if str(g) not in list(genes['Gene Entrez ID']):\n",
    "        retry = True\n",
    "        retries = 0\n",
    "        while retry:\n",
    "            try:\n",
    "                print(g)\n",
    "                organism, gene_symbol, gene_name, gene_description, picr_ensembl_id, chok1gs_ensembl_id, mRNA_ncbi_id, protein_ncbi_id, go_terms = get_gene_info(g)\n",
    "                if organism == 'Cricetulus griseus':\n",
    "                    new_row_data = {'Gene Entrez ID': g, 'Gene Symbol': gene_symbol, 'Gene Name': gene_name, 'Gene Description': gene_description,\n",
    "                                    'PICR Ensembl ID': picr_ensembl_id, 'CHOK1GS Ensembl ID': chok1gs_ensembl_id, 'Transcript ID': mRNA_ncbi_id,\n",
    "                                    'Protein ID': protein_ncbi_id, 'GO Terms': go_terms}\n",
    "                    new_row_df = pd.DataFrame(new_row_data, index=[len(genes)])\n",
    "                    genes = pd.concat([genes, new_row_df])\n",
    "                    c+=1\n",
    "                    retry = False\n",
    "                elif organism != 'Cricetulus griseus':\n",
    "                    print(f'Gene {g,gene_symbol} is a {organism} Gene')\n",
    "                    break\n",
    "            except ValidationError:\n",
    "                print(f'Gene {g} not found')\n",
    "                retry = False\n",
    "                continue\n",
    "            except HTTPError:\n",
    "                retries += 1\n",
    "                if retries > max_retries:\n",
    "                    print(f'HTTP Error, reached maximum retries ({max_retries}) for gene {g}')\n",
    "                    break\n",
    "                else:\n",
    "                    print(f'HTTP Error, retrying with gene {g}')\n",
    "                    time.sleep(1)\n",
    "                    \n",
    "print(f'A total of {c} Genes were added to the dataset')"
   ]
  },
  {
   "cell_type": "code",
   "execution_count": 8,
   "id": "b2abe8ec",
   "metadata": {},
   "outputs": [
    {
     "name": "stdout",
     "output_type": "stream",
     "text": [
      "No new genes added.\n",
      "No changes to the original Genes Sheet.\n"
     ]
    }
   ],
   "source": [
    "#######################################\n",
    "#### ----------------------------- ####\n",
    "#### ---- Update Genes Sheet ----- ####\n",
    "#### ----------------------------- ####\n",
    "#######################################\n",
    "if c > 0:\n",
    "    sheet.update_google_sheet(sheet_genes, genes)\n",
    "    print(\"Google Sheet updated.\")\n",
    "elif c == 0:\n",
    "    print(\"No new genes added.\")\n",
    "    print(\"No changes to the original Genes Sheet.\")"
   ]
  },
  {
   "cell_type": "markdown",
   "id": "c2218925",
   "metadata": {},
   "source": [
    "### 4. Eliminate unwanted genes\n",
    "We iterate over the entire dataset to spot **Human genes** in order to eliminate them"
   ]
  },
  {
   "cell_type": "code",
   "execution_count": null,
   "id": "b810d3c0",
   "metadata": {},
   "outputs": [],
   "source": [
    "# Make a copy of the DataFrame to avoid changing the original while iterating\n",
    "erased = 0\n",
    "genes_copy = genes.copy()\n",
    "\n",
    "for index, row in tqdm(genes.iterrows(), total=genes.shape[0]):\n",
    "    g = row['Gene Entrez ID']\n",
    "    retry = True\n",
    "    retries = 0\n",
    "    while retry:\n",
    "        try:\n",
    "            organism, gene_symbol, gene_name, gene_description, picr_ensembl_id, chok1gs_ensembl_id, mRNA_ncbi_id, protein_ncbi_id, go_terms = get_gene_info(g)\n",
    "            if organism == 'Homo sapiens':\n",
    "                genes_copy = genes_copy.drop(index)\n",
    "                print(f'Gene {g,gene_symbol} erased from dataset')\n",
    "                erased+=1\n",
    "                retry = False\n",
    "            else:\n",
    "                retry = False\n",
    "        except ValidationError:\n",
    "            print(f'Gene {g} not found')\n",
    "            retry = False\n",
    "            continue\n",
    "        except HTTPError:\n",
    "            retries += 1\n",
    "            if retries > max_retries:\n",
    "                print(f'HTTP Error, reached maximum retries ({max_retries}) for gene {g}')\n",
    "                break\n",
    "            else:\n",
    "                print(f'HTTP Error, retrying with gene {g}')\n",
    "                time.sleep(1)\n",
    "\n",
    "# Replace the original DataFrame with the updated one\n",
    "genes = genes_copy\n",
    "print(f'A total of {erased} Genes were erased from the original dataset')"
   ]
  },
  {
   "cell_type": "code",
   "execution_count": null,
   "id": "a459ea77",
   "metadata": {},
   "outputs": [],
   "source": [
    "#######################################\n",
    "#### ----------------------------- ####\n",
    "#### ---- Update Genes Sheet ----- ####\n",
    "#### ----------------------------- ####\n",
    "#######################################\n",
    "if erased > 0:\n",
    "    sheet.update_google_sheet(sheet_genes, genes)\n",
    "    print(\"Google Sheet updated.\")\n",
    "elif erased == 0:\n",
    "    print(\"No erased genes.\")\n",
    "    print(\"No changes to the original Genes Sheet.\")"
   ]
  },
  {
   "cell_type": "code",
   "execution_count": null,
   "id": "2f3b506a",
   "metadata": {},
   "outputs": [],
   "source": [
    "for g in tqdm(gene_list):\n",
    "    if g not in list(genes['Gene Entrez ID']):\n",
    "        try:\n",
    "            gene_symbol, gene_name, gene_description, picr_ensembl_id, chok1gs_ensembl_id, mRNA_ncbi_id, protein_ncbi_id, go_terms = get_gene_info(g)\n",
    "            new_row_data = {'Gene Entrez ID': g, 'Gene Symbol': gene_symbol, 'Gene Name': gene_name, 'Gene Description': gene_description,\n",
    "                            'PICR Ensembl ID': picr_ensembl_id, 'CHOK1GS Ensembl ID': chok1gs_ensembl_id, 'Transcript ID': mRNA_ncbi_id,\n",
    "                            'Protein ID': protein_ncbi_id, 'GO Terms': go_terms}\n",
    "            new_row_df = pd.DataFrame(new_row_data, index=[len(genes)])\n",
    "            genes = pd.concat([genes, new_row_df])\n",
    "        except KeyError:\n",
    "            print(f'Gene {g} not found')\n",
    "            continue"
   ]
  },
  {
   "cell_type": "code",
   "execution_count": null,
   "id": "3dfcbfb5",
   "metadata": {},
   "outputs": [],
   "source": [
    "# Fetch information from the NIH database\n",
    "\n",
    "\n",
    "# Complete null or blank information in the already generated \"Genes Sheet\" dataset\n",
    "for i,row in genes.iterrows():\n",
    "    if row['Gene Entrez ID'] == '':\n",
    "        for g in gene_list:\n",
    "            gene_sheet_list = [str(x) for x in genes['Gene Entrez ID']]\n",
    "            if g not in gene_sheet_list:\n",
    "                gene_symbol, gene_name, gene_description, picr_ensembl_id, chok1gs_ensembl_id, mRNA_ncbi_id, protein_ncbi_id, go_terms = get_gene_info(g)\n",
    "                row['Gene Entrez ID'] = g\n",
    "                row['Gene Symbol'] = gene_symbol\n",
    "                row['Gene Name'] = gene_name\n",
    "                row['Gene Description'] = gene_description\n",
    "                row['PICR Ensembl ID'] = picr_ensembl_id\n",
    "                row['CHOK1GS Ensembl ID'] = chok1gs_ensembl_id\n",
    "                row['Transcript ID'] = mRNA_ncbi_id\n",
    "                row['Protein ID'] = protein_ncbi_id\n",
    "                row['GO Terms'] = go_terms\n",
    "                break          \n",
    "    elif row['Gene Entrez ID'] != '' and (row['Gene Symbol'] == '' or row['Gene Name'] == '' or row['PICR Ensembl ID'] == '' or row['Transcript ID'] == '' or row['Protein ID'] == ''):\n",
    "        row['Gene Symbol'] = gene_symbol\n",
    "        row['Gene Name'] = gene_name\n",
    "        row['Gene Description'] = gene_description\n",
    "        row['PICR Ensembl ID'] = picr_ensembl_id\n",
    "        row['CHOK1GS Ensembl ID'] = chok1gs_ensembl_id\n",
    "        row['Transcript ID'] = mRNA_ncbi_id\n",
    "        row['Protein ID'] = protein_ncbi_id\n",
    "        row['GO Terms'] = go_terms\n",
    "'''\n",
    "# Add genes from the gene_list that are not yet in the \"Genes Sheet\" dataset\n",
    "for g in gene_list:\n",
    "    # the first try/except is to avoid overwritting data in case there already some info in the dataset\n",
    "    try:\n",
    "        gene_sheet_list = [str(x) for x in df['Gene Entrez ID']]\n",
    "        id = max(df['Index']) + 2\n",
    "    except:\n",
    "        gene_sheet_list = []\n",
    "        id = 2\n",
    "    if gene not in gene_sheet_list:\n",
    "        try:\n",
    "            gene_symbol, gene_name, gene_description, picr_ensembl_id, chok1gs_ensembl_id, mRNA_ncbi_id, protein_ncbi_id, go_terms = get_gene_info(gene)\n",
    "            print(id-1)\n",
    "            genes_sheet.update_cell(id,1,id-1)\n",
    "            time.sleep(5)\n",
    "            genes_sheet.update_cell(id,2,gene)\n",
    "            time.sleep(5)\n",
    "            genes_sheet.update_cell(id,3,gene_symbol)\n",
    "            time.sleep(5)\n",
    "            genes_sheet.update_cell(id,4,gene_name)\n",
    "            time.sleep(5)\n",
    "            genes_sheet.update_cell(id,5,gene_description)\n",
    "            time.sleep(5)\n",
    "            genes_sheet.update_cell(id,6,picr_ensembl_id)\n",
    "            time.sleep(5)\n",
    "            genes_sheet.update_cell(id,7,chok1gs_ensembl_id)\n",
    "            time.sleep(5)\n",
    "            genes_sheet.update_cell(id,8,mRNA_ncbi_id)\n",
    "            time.sleep(5)\n",
    "            genes_sheet.update_cell(id,9,protein_ncbi_id)\n",
    "            time.sleep(5)\n",
    "            genes_sheet.update_cell(id,10,go_terms)\n",
    "        except:\n",
    "            print('Google API quota exceeded')\n",
    "            time.sleep(5)\n",
    "            continue\n",
    "            \n",
    "'''"
   ]
  },
  {
   "cell_type": "code",
   "execution_count": null,
   "id": "f702b0d0",
   "metadata": {},
   "outputs": [],
   "source": [
    "genes"
   ]
  },
  {
   "cell_type": "code",
   "execution_count": null,
   "id": "73daf8e8",
   "metadata": {},
   "outputs": [],
   "source": [
    "get_gene_info('100750772')"
   ]
  },
  {
   "cell_type": "code",
   "execution_count": null,
   "id": "30b59d4d",
   "metadata": {},
   "outputs": [],
   "source": [
    "from Bio import Entrez\n",
    "Entrez.email = 'account1@theta-ocean-377718.iam.gserviceaccount.com'\n",
    "handle = Entrez.efetch(db='gene', id='3979190', retmode='xml')\n",
    "record = Entrez.read(handle)[0]\n",
    "\n",
    "#gene_name = record['Entrezgene_gene']['Gene-ref']['Gene-ref_desc']\n",
    "#gene_symbol = record['Entrezgene_gene']['Gene-ref']['Gene-ref_locus']\n",
    "\n",
    "human_handle = Entrez.efetch(db='gene', id='3979190', retmode='xml')\n",
    "human_record = Entrez.read(human_handle)[0]\n",
    "if 'Entrezgene_comments' in human_record and 'Gene-commentary_comment' in human_record['Entrezgene_comments'][0]:\n",
    "    human_gene_description = human_record['Entrezgene_comments'][0]['Gene-commentary_comment'][0]['String']\n",
    "elif 'Entrezgene_summary' in human_record:\n",
    "    human_gene_description = human_record['Entrezgene_summary']\n",
    "else:\n",
    "    human_gene_description = ''"
   ]
  },
  {
   "cell_type": "markdown",
   "id": "40d44cdb",
   "metadata": {},
   "source": [
    "#### Get the CHO genome and map the IDs"
   ]
  },
  {
   "cell_type": "code",
   "execution_count": null,
   "id": "e34657fb",
   "metadata": {},
   "outputs": [],
   "source": [
    "from Bio import Entrez\n",
    "import math\n",
    "import time\n",
    "import ssl\n",
    "from urllib.error import HTTPError\n",
    "import socket\n",
    "from Bio.Entrez.Parser import CorruptedXMLError\n",
    "Entrez.email = \"athand01@gmail.com\"\n",
    "\n",
    "u_g = pd.read_excel('list of EntrezIDs.xlsx')\n",
    "\n",
    "ncbi_geneName_list = []\n",
    "ncbi_protein_NP_weirdName = []\n",
    "ncbi_geneID_list = []\n",
    "ncbi_gene_exon_size = []\n",
    "ncbi_genomic_location = []\n",
    "counter = 0\n",
    "for ncbi_gene in u_g['NCBI_ID'][0:5]:\n",
    "    protein_NP_weirdName = []\n",
    "\n",
    "    if not math.isnan(ncbi_gene):   \n",
    "\n",
    "        ncbi_gene = int(ncbi_gene)                  \n",
    "        max_retries = 3\n",
    "        retries = 0\n",
    "        gene_found = True\n",
    "        while retries < max_retries and gene_found:\n",
    "\n",
    "            try:\n",
    "                search_results = Entrez.esearch(db=\"gene\", term=ncbi_gene)\n",
    "                record = Entrez.read(search_results)\n",
    "                # Check if any gene records were found\n",
    "                if int(record[\"Count\"]) > 0:\n",
    "\n",
    "                    # Get the Gene ID of the first result\n",
    "                    gene_id = record[\"IdList\"][0]\n",
    "\n",
    "                    # Fetch the gene information\n",
    "                    fetch_tries = 0\n",
    "                    fetch_found = True\n",
    "                    while fetch_tries < 3 and fetch_found:\n",
    "                        gene_info = Entrez.efetch(db=\"gene\", id=gene_id, retmode=\"xml\")\n",
    "                        fetch_tries += 1\n",
    "                        try:\n",
    "                            gene_record = Entrez.read(gene_info)\n",
    "                            fetch_found = False\n",
    "                        except CorruptedXMLError as xml_error:\n",
    "                            time.sleep(3)\n",
    "                            fetch_tries += 1\n",
    "\n",
    "                    gene_name_dict = gene_record[0]['Entrezgene_gene']['Gene-ref']\n",
    "                    gene_name = gene_name_dict['Gene-ref_locus']\n",
    "                    gene_ncbiID = gene_record[0]['Entrezgene_track-info']['Gene-track']['Gene-track_geneid']\n",
    "                    \n",
    "                    # Get the location in the genome\n",
    "                    locus = gene_record[0].get('Entrezgene_locus', {})\n",
    "                    start = locus[0]['Gene-commentary_seqs'][0]['Seq-loc_int']['Seq-interval']['Seq-interval_from']\n",
    "                    end = locus[0]['Gene-commentary_seqs'][0]['Seq-loc_int']['Seq-interval']['Seq-interval_to']\n",
    "                    gene_location = start\n",
    "\n",
    "                    # Get Exons\n",
    "                    properties = gene_record[0]['Entrezgene_properties']\n",
    "                    exon = None\n",
    "                    for prop in properties:\n",
    "                        if prop['Gene-commentary_label'] == 'Exon count':\n",
    "                            exon = prop['Gene-commentary_text']\n",
    "                            break\n",
    "                    if exon is None:\n",
    "                        print(gene_record)\n",
    "                        KeyError\n",
    "\n",
    "                    try:\n",
    "                        protein_NP_weirdName = gene_record[0]['Entrezgene_locus'][0]['Gene-commentary_products'][0]['Gene-commentary_products'][0]['Gene-commentary_accession']\n",
    "                    except:\n",
    "                        protein_NP_weirdName = gene_record[0]['Entrezgene_locus'][0]['Gene-commentary_products'][0]['Gene-commentary_accession']\n",
    "\n",
    "                else:\n",
    "                    gene_ncbiID = '-----'\n",
    "                    gene_name = '-----'\n",
    "                    protein_NP_weirdName = '-----'\n",
    "                    exon = '-----'\n",
    "                    gene_location = '-----'\n",
    "\n",
    "                gene_found = False\n",
    "                search_results.close()\n",
    "    \n",
    "            except HTTPError as e:\n",
    "\n",
    "                retries += 1\n",
    "                time.sleep(3)\n",
    "            except ssl.SSLError as e:\n",
    "\n",
    "                retries += 1\n",
    "                time.sleep(3)\n",
    "            except ConnectionResetError as e:\n",
    "\n",
    "                retries += 1\n",
    "                time.sleep(3)\n",
    "            except socket.error as e:\n",
    "\n",
    "                retries += 1\n",
    "                time.sleep(3)\n",
    "\n",
    "        if retries >= max_retries:\n",
    "            gene_name = '-----'\n",
    "            gene_ncbiID = '-----'\n",
    "            protein_NP_weirdName = '-----'\n",
    "            exon = '-----'\n",
    "            gene_location = '-----'\n",
    "    else:\n",
    "        gene_name = ncbi_gene\n",
    "        gene_ncbiID = ncbi_gene\n",
    "        protein_NP_weirdName = ncbi_gene\n",
    "        exon = ncbi_gene\n",
    "        gene_location = ncbi_gene\n",
    "\n",
    "    ncbi_geneName_list.append(gene_name)\n",
    "    ncbi_geneID_list.append(gene_ncbiID)\n",
    "    ncbi_protein_NP_weirdName.append(protein_NP_weirdName)\n",
    "    ncbi_gene_exon_size.append(exon)\n",
    "    ncbi_genomic_location.append(gene_location)\n",
    "    print(counter, gene_name, ncbi_gene, gene_ncbiID, protein_NP_weirdName, gene_location, exon)\n",
    "    counter += 1\n",
    "\n",
    "u_g['NCBI_geneName'] = ncbi_geneName_list\n",
    "u_g['NCBI_ID'] = ncbi_geneID_list\n",
    "u_g['NCBI_NP'] = ncbi_protein_NP_weirdName\n",
    "u_g['Exons'] = ncbi_gene_exon_size\n",
    "u_g['Genomic_Location'] = ncbi_genomic_location\n",
    "display(u_g)\n",
    "# excel_file_path = 'Uniprot_GeneName_ProteinName_NCBIgenename_temp_.xlsx'\n",
    "# u_g.to_excel(excel_file_path, index=False) "
   ]
  }
 ],
 "metadata": {
  "kernelspec": {
   "display_name": "Python 3 (ipykernel)",
   "language": "python",
   "name": "python3"
  },
  "language_info": {
   "codemirror_mode": {
    "name": "ipython",
    "version": 3
   },
   "file_extension": ".py",
   "mimetype": "text/x-python",
   "name": "python",
   "nbconvert_exporter": "python",
   "pygments_lexer": "ipython3",
   "version": "3.9.16"
  },
  "toc": {
   "base_numbering": 1,
   "nav_menu": {},
   "number_sections": true,
   "sideBar": true,
   "skip_h1_title": false,
   "title_cell": "Table of Contents",
   "title_sidebar": "Contents",
   "toc_cell": false,
   "toc_position": {},
   "toc_section_display": true,
   "toc_window_display": false
  }
 },
 "nbformat": 4,
 "nbformat_minor": 5
}
