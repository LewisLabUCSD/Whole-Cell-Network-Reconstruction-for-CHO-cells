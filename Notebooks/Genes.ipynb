{
 "cells": [
  {
   "cell_type": "markdown",
   "id": "57a5e96e",
   "metadata": {},
   "source": [
    "# Whole Cell Network Reconstruction in CHO Cells\n",
    "The following notebook retrieves and updates information in the \"Whole Cell Network Reconstruction for CHO Cells\" Google Sheet file."
   ]
  },
  {
   "cell_type": "markdown",
   "id": "ac38d2d7",
   "metadata": {},
   "source": [
    "### 1. Access and retrieve information from the Google Sheet file through the Google Sheet API\n",
    "Using the gspread library we can access the Google Sheet file and create a pandas df to visualize it."
   ]
  },
  {
   "cell_type": "code",
   "execution_count": 1,
   "id": "08228a07",
   "metadata": {},
   "outputs": [],
   "source": [
    "import gspread\n",
    "import pandas as pd\n",
    "import numpy as np"
   ]
  },
  {
   "cell_type": "code",
   "execution_count": 2,
   "id": "19d8026b",
   "metadata": {},
   "outputs": [],
   "source": [
    "# give service account details to gspread\n",
    "sa = gspread.service_account(filename='credentials.json')\n",
    "\n",
    "# sa is a gspread client, which can be used for connecting to the sheets\n",
    "# by using the open method and the sheet name.\n",
    "cho_recon = sa.open('CHO Network Reconstruction')\n",
    "\n",
    "# we also need to specify the page name before getting the data. In this case we use the Rxns sheet.\n",
    "rxns_sheet = cho_recon.worksheet('Rxns')"
   ]
  },
  {
   "cell_type": "code",
   "execution_count": null,
   "id": "493b0118",
   "metadata": {},
   "outputs": [],
   "source": [
    "# visualization of all the sheets in our dataset\n",
    "for sheets in cho_recon:\n",
    "    print(sheets)"
   ]
  },
  {
   "cell_type": "code",
   "execution_count": null,
   "id": "74e42af9",
   "metadata": {},
   "outputs": [],
   "source": [
    "# We can extract the data using the get_all_records method and create a pd DataFrame\n",
    "df = pd.DataFrame(rxns_sheet.get_all_records())\n",
    "df"
   ]
  },
  {
   "cell_type": "markdown",
   "id": "de13c811",
   "metadata": {},
   "source": [
    "### 2. Add information to the \"Genes\" sheet"
   ]
  },
  {
   "cell_type": "markdown",
   "id": "432f5744",
   "metadata": {},
   "source": [
    "Using a list of all the genes included in the dataset we can retrieve information from the NIH database regarding Gene Symbol, Gene Name, Gene Ensembl ID, and mRNA ID and protein ID"
   ]
  },
  {
   "cell_type": "code",
   "execution_count": 5,
   "id": "b0f61d39",
   "metadata": {},
   "outputs": [],
   "source": [
    "# Generation of gene_list from all the genes in the \"Whole Cell Network Reconstruction in CHO Cells\" dataset\n",
    "import re\n",
    "\n",
    "gene_list = []\n",
    "for index, row in df.iterrows():\n",
    "    if row['GPR_final'] != '':\n",
    "        gpr = str(row['GPR_final'])\n",
    "        num = re.findall(r'\\d+', gpr)\n",
    "        for n in num:\n",
    "            gene_list.append(n)\n",
    "        \n",
    "gene_list = list(set(gene_list))"
   ]
  },
  {
   "cell_type": "code",
   "execution_count": null,
   "id": "3dfcbfb5",
   "metadata": {},
   "outputs": [],
   "source": [
    "# Fetch information from the NIH database\n",
    "import time\n",
    "from utils import get_gene_info\n",
    "\n",
    "# Open the Genes excel Sheet\n",
    "cho_temporary = sa.open('CHO Network Reconstruction')\n",
    "genes_sheet = cho_temporary.worksheet('Genes')\n",
    "df = pd.DataFrame(genes_sheet.get_all_records())\n",
    "df = df.set_index('Index')\n",
    "\n",
    "# Complete null or blank information in the already generated \"Genes Sheet\" dataset\n",
    "for i,row in df.iterrows():\n",
    "    if row['Gene Entrez ID'] == '':\n",
    "        for gene in gene_list:\n",
    "            gene_sheet_list = [str(x) for x in df['Gene Entrez ID']]\n",
    "            if gene not in gene_sheet_list:\n",
    "                print(i)\n",
    "                gene_symbol, gene_name, gene_description, picr_ensembl_id, chok1gs_ensembl_id, mRNA_ncbi_id, protein_ncbi_id, go_terms = get_gene_info(gene)\n",
    "                genes_sheet.update_cell(i+1,1,i)\n",
    "                time.sleep(5)\n",
    "                genes_sheet.update_cell(i+1,2,gene)\n",
    "                time.sleep(5)\n",
    "                genes_sheet.update_cell(i+1,3,gene_symbol)\n",
    "                time.sleep(5)\n",
    "                genes_sheet.update_cell(i+1,4,gene_name)\n",
    "                time.sleep(5)\n",
    "                genes_sheet.update_cell(i+1,5,gene_description)\n",
    "                time.sleep(5)\n",
    "                genes_sheet.update_cell(i+1,6,picr_ensembl_id)\n",
    "                time.sleep(5)\n",
    "                genes_sheet.update_cell(i+1,7,chok1gs_ensembl_id)\n",
    "                time.sleep(5)\n",
    "                genes_sheet.update_cell(i+1,8,mRNA_ncbi_id)\n",
    "                time.sleep(5)\n",
    "                genes_sheet.update_cell(i+1,9,protein_ncbi_id)\n",
    "                time.sleep(5)\n",
    "                genes_sheet.update_cell(i+1,10,go_terms)\n",
    "                break\n",
    "    elif row['Gene Entrez ID'] != '' and (row['Gene Symbol'] == '' or row['Gene Name'] == '' or row['PICR Ensembl ID'] == '' or row['Transcript ID'] == '' or row['Protein ID'] == ''):\n",
    "        print(i)\n",
    "        gene_symbol, gene_name, gene_description, picr_ensembl_id, chok1gs_ensembl_id, mRNA_ncbi_id, protein_ncbi_id, go_terms = get_gene_info(row['Gene Entrez ID'])\n",
    "        genes_sheet.update_cell(i+1,3,gene_symbol)\n",
    "        time.sleep(5)\n",
    "        genes_sheet.update_cell(i+1,4,gene_name)\n",
    "        time.sleep(5)\n",
    "        genes_sheet.update_cell(i+1,5,gene_description)\n",
    "        time.sleep(5)\n",
    "        genes_sheet.update_cell(i+1,6,picr_ensembl_id)\n",
    "        time.sleep(5)\n",
    "        genes_sheet.update_cell(i+1,7,chok1gs_ensembl_id)\n",
    "        time.sleep(5)\n",
    "        genes_sheet.update_cell(i+1,8,mRNA_ncbi_id)\n",
    "        time.sleep(5)\n",
    "        genes_sheet.update_cell(i+1,9,protein_ncbi_id)\n",
    "        time.sleep(5)\n",
    "        genes_sheet.update_cell(i+1,10,go_terms)\n",
    "\n",
    "# Add genes from the gene_list that are not yet in the \"Genes Sheet\" dataset\n",
    "for gene in gene_list:\n",
    "    df = pd.DataFrame(genes_sheet.get_all_records())\n",
    "    # the first try/except is to avoid overwritting data in case there already some info in the dataset\n",
    "    try:\n",
    "        gene_sheet_list = [str(x) for x in df['Gene Entrez ID']]\n",
    "        id = max(df['Index']) + 2\n",
    "    except:\n",
    "        gene_sheet_list = []\n",
    "        id = 2\n",
    "    if gene not in gene_sheet_list:\n",
    "        try:\n",
    "            gene_symbol, gene_name, gene_description, picr_ensembl_id, chok1gs_ensembl_id, mRNA_ncbi_id, protein_ncbi_id, go_terms = get_gene_info(gene)\n",
    "            print(id-1)\n",
    "            genes_sheet.update_cell(id,1,id-1)\n",
    "            time.sleep(5)\n",
    "            genes_sheet.update_cell(id,2,gene)\n",
    "            time.sleep(5)\n",
    "            genes_sheet.update_cell(id,3,gene_symbol)\n",
    "            time.sleep(5)\n",
    "            genes_sheet.update_cell(id,4,gene_name)\n",
    "            time.sleep(5)\n",
    "            genes_sheet.update_cell(id,5,gene_description)\n",
    "            time.sleep(5)\n",
    "            genes_sheet.update_cell(id,6,picr_ensembl_id)\n",
    "            time.sleep(5)\n",
    "            genes_sheet.update_cell(id,7,chok1gs_ensembl_id)\n",
    "            time.sleep(5)\n",
    "            genes_sheet.update_cell(id,8,mRNA_ncbi_id)\n",
    "            time.sleep(5)\n",
    "            genes_sheet.update_cell(id,9,protein_ncbi_id)\n",
    "            time.sleep(5)\n",
    "            genes_sheet.update_cell(id,10,go_terms)\n",
    "        except:\n",
    "            print('Google API quota exceeded')\n",
    "            time.sleep(5)\n",
    "            continue"
   ]
  },
  {
   "cell_type": "markdown",
   "id": "39c438b7",
   "metadata": {},
   "source": [
    "### 3 GPR Rules Final"
   ]
  },
  {
   "cell_type": "code",
   "execution_count": null,
   "id": "b114ce7b",
   "metadata": {},
   "outputs": [],
   "source": [
    "# Read the google excel spreadsheet\n",
    "sa = gspread.service_account(filename='credentials.json')\n",
    "cho_temporary = sa.open('temporary')\n",
    "rxns_sheet = cho_temporary.worksheet('Rxns')\n",
    "rxns_sheet_dataframe = pd.DataFrame(rxns_sheet.get_all_records())\n",
    "rxns_sheet_dataframe = rxns_sheet_dataframe.set_index('Index')\n",
    "\n",
    "# Create dataframes\n",
    "Final_Genes = rxns_sheet_dataframe.iloc[:,9]\n",
    "Final_Than_Genes = rxns_sheet_dataframe.iloc[:,10]"
   ]
  },
  {
   "cell_type": "code",
   "execution_count": null,
   "id": "959ce6fb",
   "metadata": {},
   "outputs": [],
   "source": [
    "# Check for empty cells and replace\n",
    "counter = 0 \n",
    "for g in Final_Genes:\n",
    "    if g ==\"\":\n",
    "        Final_Genes[counter] = Final_Than_Genes[counter]\n",
    "    counter += 1\n",
    "    \n",
    "# Write the lists to a txt file\n",
    "with open('OutputGPR_Final.txt', 'w') as f:\n",
    "    # write each item in the list to the file\n",
    "    for item in Final_Genes:\n",
    "        f.write(str(item) + '\\n')"
   ]
  },
  {
   "attachments": {},
   "cell_type": "markdown",
   "id": "a31d8689",
   "metadata": {},
   "source": [
    "### Curate GPRs"
   ]
  },
  {
   "cell_type": "code",
   "execution_count": 83,
   "id": "c19557e8",
   "metadata": {},
   "outputs": [],
   "source": [
    "def balance_parentheses(string):\n",
    "    stack = []\n",
    "    for i in range(len(string)):\n",
    "        if string[i] == \"(\":\n",
    "            stack.append(i)\n",
    "        elif string[i] == \")\":\n",
    "            if len(stack) == 0:\n",
    "                return False\n",
    "            stack.pop()\n",
    "    if len(stack) > 0:\n",
    "        return False\n",
    "    else:\n",
    "        return string\n",
    "\n",
    "df = pd.DataFrame(rxns_sheet.get_all_records())\n",
    "df['GPR_final']\n",
    "\n",
    "Final_Genes = []\n",
    "\n",
    "for counter, gpr in enumerate(df['GPR_final'][0:300]):\n",
    "    string = str(gpr)\n",
    "    if balance_parentheses(string):\n",
    "        string = balance_parentheses(string)\n",
    "        Final_Genes.append(string)\n",
    "\n",
    "    else:\n",
    "        new_string = ''\n",
    "        for char in string:\n",
    "            if char == '(':\n",
    "                new_string += ''\n",
    "            elif char == ')':\n",
    "                new_string += ''\n",
    "            else:\n",
    "                new_string += char\n",
    "        Final_Genes.append(new_string)\n",
    "\n",
    "with open('CuratedGPRs.txt', 'w') as f:\n",
    "    for item in Final_Genes:\n",
    "        f.write(str(item) + '\\n')"
   ]
  }
 ],
 "metadata": {
  "kernelspec": {
   "display_name": "Python 3 (ipykernel)",
   "language": "python",
   "name": "python3"
  },
  "language_info": {
   "codemirror_mode": {
    "name": "ipython",
    "version": 3
   },
   "file_extension": ".py",
   "mimetype": "text/x-python",
   "name": "python",
   "nbconvert_exporter": "python",
   "pygments_lexer": "ipython3",
   "version": "3.9.16"
  }
 },
 "nbformat": 4,
 "nbformat_minor": 5
}
