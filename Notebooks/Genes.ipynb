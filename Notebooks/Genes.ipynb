{
 "cells": [
  {
   "cell_type": "markdown",
   "id": "57a5e96e",
   "metadata": {},
   "source": [
    "# Genes\n",
    "The following notebook retrieves all the genes involved in the reactions from the **\"Rxns\" Sheet** in Google Sheet file. Then, information regarding the genes is retrieved from different databases and a **\"Genes\" Sheet** is generated and updated."
   ]
  },
  {
   "cell_type": "code",
   "execution_count": 1,
   "id": "08228a07",
   "metadata": {},
   "outputs": [],
   "source": [
    "import pandas as pd\n",
    "import numpy as np\n",
    "import time\n",
    "from tqdm.notebook import tqdm\n",
    "\n",
    "from google_sheet import GoogleSheet\n",
    "from utils import get_gene_info"
   ]
  },
  {
   "cell_type": "markdown",
   "id": "ac38d2d7",
   "metadata": {},
   "source": [
    "### 1. Generate \"rxns\" and \"genes\" datasets\n",
    "The \"rxns\" dataset contains all the reactions with their GPR associations. The \"genes\" dataset contains all the information of the genes/GPR involved in our reconstruction."
   ]
  },
  {
   "cell_type": "code",
   "execution_count": 2,
   "id": "19d8026b",
   "metadata": {},
   "outputs": [],
   "source": [
    "KEY_FILE_PATH = 'credentials.json'\n",
    "SPREADSHEET_ID = '1MlBXeHIKw8k8fZyXm-sN__AHTRSunJxar_-bqvukZws'\n",
    "\n",
    "# Initialize the GoogleSheet object\n",
    "sheet = GoogleSheet(SPREADSHEET_ID, KEY_FILE_PATH)\n",
    "\n",
    "# Read data from the Google Sheet\n",
    "sheet_rxns = 'Rxns'\n",
    "sheet_genes = 'Genes'\n",
    "\n",
    "rxns = sheet.read_google_sheet(sheet_rxns)\n",
    "genes = sheet.read_google_sheet(sheet_genes)"
   ]
  },
  {
   "cell_type": "markdown",
   "id": "de13c811",
   "metadata": {},
   "source": [
    "### 2. Create the a \"gene_list\" with all the genes involved in our reconstruction\n",
    "We extract the gene IDs from the GPR annotations in the **\"rxns\" df**. This information is only retrieved from the **GPR_final** column."
   ]
  },
  {
   "cell_type": "code",
   "execution_count": 3,
   "id": "b0f61d39",
   "metadata": {},
   "outputs": [
    {
     "data": {
      "text/plain": [
       "3045"
      ]
     },
     "execution_count": 3,
     "metadata": {},
     "output_type": "execute_result"
    }
   ],
   "source": [
    "# Generation of gene_list from all the genes in the \"Whole Cell Network Reconstruction in CHO Cells\" dataset\n",
    "import re\n",
    "\n",
    "gene_list = []\n",
    "human_gene_list = []\n",
    "for index, row in rxns.iterrows():\n",
    "    if row['GPR_final'] != '':\n",
    "        gprs = str(row['GPR_final'])\n",
    "        gpr = re.findall(r'\\b[hH]?\\d+\\b', gprs)\n",
    "        for g in gpr:\n",
    "            if g.lower().startswith('h'):  # we convert to lower case to catch both 'h' and 'H'\n",
    "                human_gene_list.append(int(g[1:]))  # remove 'h' and convert to int before appending\n",
    "            else:\n",
    "                gene_list.append(int(g))  # convert to int before appending\n",
    "\n",
    "gene_list = list(set(gene_list))\n",
    "len(gene_list)"
   ]
  },
  {
   "cell_type": "markdown",
   "id": "e9c5c853",
   "metadata": {},
   "source": [
    "### 3. Replace remaining Human Gene IDs in our dataset with CHO Gene IDs\n",
    "Using the **cho2human_mapping** file, we replace the Human gene IDs with those of CHO, these IDs were not spotted when we first added the Recon3D reactions."
   ]
  },
  {
   "cell_type": "code",
   "execution_count": 4,
   "id": "fd3c0d42",
   "metadata": {},
   "outputs": [
    {
     "data": {
      "text/plain": [
       "{}"
      ]
     },
     "execution_count": 4,
     "metadata": {},
     "output_type": "execute_result"
    }
   ],
   "source": [
    "# Build a dictionary with human gene IDs as keys and CHO gene IDs as values\n",
    "orthologs = pd.read_csv('../Data/Orthologs/cho2human_mapping.tsv', sep='\\t')\n",
    "human_to_cho_dict = dict(zip(orthologs['HUMAN_ID'], orthologs['CHO_ID']))\n",
    "\n",
    "def replace_human_ids_with_cho_ids(s):\n",
    "    replaced_dict = {}\n",
    "    if isinstance(s, str):\n",
    "        genes = re.findall(r'\\b[hH]?\\d+\\b', s)\n",
    "        for gene in genes:\n",
    "            if gene.lower().startswith('h'):  # if gene ID starts with 'h' or 'H'\n",
    "                human_id = int(gene[1:])  # remove 'h' and convert to int\n",
    "                if human_id in human_to_cho_dict:  # if human gene ID is in the dictionary\n",
    "                    cho_id = human_to_cho_dict[human_id]  # get corresponding CHO gene ID\n",
    "                    s = s.replace(gene, str(cho_id))  # replace human gene ID with CHO gene ID in the string\n",
    "                    replaced_dict[gene] = cho_id\n",
    "    return s, replaced_dict\n",
    "\n",
    "# Initialize a dictionary to store replacements\n",
    "replacements = {}\n",
    "\n",
    "# Apply the function and update the replacements dictionary\n",
    "for i in range(len(rxns)):\n",
    "    rxns.at[i, 'GPR_final'], replacements_dict = replace_human_ids_with_cho_ids(rxns.at[i, 'GPR_final'])\n",
    "    replacements.update(replacements_dict)\n",
    "\n",
    "# Now, 'replacements' is a dictionary where keys are the original gene IDs and values are the replaced CHO gene IDs\n",
    "replacements"
   ]
  },
  {
   "cell_type": "code",
   "execution_count": 5,
   "id": "cc309360",
   "metadata": {},
   "outputs": [
    {
     "name": "stdout",
     "output_type": "stream",
     "text": [
      "No changes to the original Rxns Sheet\n"
     ]
    }
   ],
   "source": [
    "######################################\n",
    "#### ---------------------------- ####\n",
    "#### ---- Update Rxns Sheet ----- ####\n",
    "#### ---------------------------- ####\n",
    "######################################\n",
    "if replacements:\n",
    "    sheet.update_google_sheet(sheet_rxns, rxns)\n",
    "    print(\"Google Sheet updated.\")\n",
    "elif not replacements:\n",
    "    print(\"No changes to the original Rxns Sheet\")"
   ]
  },
  {
   "cell_type": "markdown",
   "id": "ed00e36d",
   "metadata": {},
   "source": [
    "### 3. Add the genes from the \"gene_list\" to the genes df\n",
    "Using a list of all the genes included in the dataset we can retrieve information from the NIH database regarding Gene Symbol, Gene Name, Gene Ensembl ID, and mRNA ID and protein ID using the function get_gene_info()."
   ]
  },
  {
   "cell_type": "code",
   "execution_count": 7,
   "id": "236d1799",
   "metadata": {},
   "outputs": [
    {
     "data": {
      "application/vnd.jupyter.widget-view+json": {
       "model_id": "55622e982a4a4132a248114e9e6ca772",
       "version_major": 2,
       "version_minor": 0
      },
      "text/plain": [
       "  0%|          | 0/3045 [00:00<?, ?it/s]"
      ]
     },
     "metadata": {},
     "output_type": "display_data"
    },
    {
     "name": "stdout",
     "output_type": "stream",
     "text": [
      "30100754813\n",
      "Gene 30100754813 does not have PICR Ensembl ID\n",
      "Gene (30100754813, 'ycf15') is a Vitis cinerea Gene\n",
      "A total of 0 Genes were added to the dataset\n"
     ]
    }
   ],
   "source": [
    "import time\n",
    "from urllib.error import HTTPError\n",
    "from Bio.Entrez.Parser import ValidationError\n",
    "\n",
    "max_retries = 5  # Set the maximum number of retries\n",
    "c = 0\n",
    "\n",
    "for g in tqdm(gene_list):\n",
    "    if str(g) not in list(genes['Gene Entrez ID']):\n",
    "        retry = True\n",
    "        retries = 0\n",
    "        while retry:\n",
    "            try:\n",
    "                print(g)\n",
    "                organism, gene_symbol, gene_name, gene_description, picr_ensembl_id, chok1gs_ensembl_id, mRNA_ncbi_id, protein_ncbi_id, go_terms = get_gene_info(g)\n",
    "                if organism == 'Cricetulus griseus':\n",
    "                    new_row_data = {'Gene Entrez ID': g, 'Gene Symbol': gene_symbol, 'Gene Name': gene_name, 'Gene Description': gene_description,\n",
    "                                    'PICR Ensembl ID': picr_ensembl_id, 'CHOK1GS Ensembl ID': chok1gs_ensembl_id, 'Transcript ID': mRNA_ncbi_id,\n",
    "                                    'Protein ID': protein_ncbi_id, 'GO Terms': go_terms}\n",
    "                    new_row_df = pd.DataFrame(new_row_data, index=[len(genes)])\n",
    "                    genes = pd.concat([genes, new_row_df])\n",
    "                    c+=1\n",
    "                    retry = False\n",
    "                elif organism != 'Cricetulus griseus':\n",
    "                    print(f'Gene {g,gene_symbol} is a {organism} Gene')\n",
    "                    break\n",
    "            except ValidationError:\n",
    "                print(f'Gene {g} not found')\n",
    "                retry = False\n",
    "                continue\n",
    "            except HTTPError:\n",
    "                retries += 1\n",
    "                if retries > max_retries:\n",
    "                    print(f'HTTP Error, reached maximum retries ({max_retries}) for gene {g}')\n",
    "                    break\n",
    "                else:\n",
    "                    print(f'HTTP Error, retrying with gene {g}')\n",
    "                    time.sleep(1)\n",
    "                    \n",
    "print(f'A total of {c} Genes were added to the dataset')"
   ]
  },
  {
   "cell_type": "code",
   "execution_count": 8,
   "id": "b2abe8ec",
   "metadata": {},
   "outputs": [
    {
     "name": "stdout",
     "output_type": "stream",
     "text": [
      "No new genes added.\n",
      "No changes to the original Genes Sheet.\n"
     ]
    }
   ],
   "source": [
    "#######################################\n",
    "#### ----------------------------- ####\n",
    "#### ---- Update Genes Sheet ----- ####\n",
    "#### ----------------------------- ####\n",
    "#######################################\n",
    "if c > 0:\n",
    "    sheet.update_google_sheet(sheet_genes, genes)\n",
    "    print(\"Google Sheet updated.\")\n",
    "elif c == 0:\n",
    "    print(\"No new genes added.\")\n",
    "    print(\"No changes to the original Genes Sheet.\")"
   ]
  },
  {
   "cell_type": "markdown",
   "id": "c2218925",
   "metadata": {},
   "source": [
    "### 4. Eliminate unwanted genes\n",
    "We iterate over the entire dataset to spot **Human genes** in order to eliminate them"
   ]
  },
  {
   "cell_type": "code",
   "execution_count": null,
   "id": "b810d3c0",
   "metadata": {},
   "outputs": [],
   "source": [
    "# Make a copy of the DataFrame to avoid changing the original while iterating\n",
    "erased = 0\n",
    "genes_copy = genes.copy()\n",
    "\n",
    "for index, row in tqdm(genes.iterrows(), total=genes.shape[0]):\n",
    "    g = row['Gene Entrez ID']\n",
    "    retry = True\n",
    "    retries = 0\n",
    "    while retry:\n",
    "        try:\n",
    "            organism, gene_symbol, gene_name, gene_description, picr_ensembl_id, chok1gs_ensembl_id, mRNA_ncbi_id, protein_ncbi_id, go_terms = get_gene_info(g)\n",
    "            if organism == 'Homo sapiens':\n",
    "                genes_copy = genes_copy.drop(index)\n",
    "                print(f'Gene {g,gene_symbol} erased from dataset')\n",
    "                erased+=1\n",
    "                retry = False\n",
    "            else:\n",
    "                retry = False\n",
    "        except ValidationError:\n",
    "            print(f'Gene {g} not found')\n",
    "            retry = False\n",
    "            continue\n",
    "        except HTTPError:\n",
    "            retries += 1\n",
    "            if retries > max_retries:\n",
    "                print(f'HTTP Error, reached maximum retries ({max_retries}) for gene {g}')\n",
    "                break\n",
    "            else:\n",
    "                print(f'HTTP Error, retrying with gene {g}')\n",
    "                time.sleep(1)\n",
    "\n",
    "# Replace the original DataFrame with the updated one\n",
    "genes = genes_copy\n",
    "print(f'A total of {erased} Genes were erased from the original dataset')"
   ]
  },
  {
   "cell_type": "code",
   "execution_count": null,
   "id": "a459ea77",
   "metadata": {},
   "outputs": [],
   "source": [
    "#######################################\n",
    "#### ----------------------------- ####\n",
    "#### ---- Update Genes Sheet ----- ####\n",
    "#### ----------------------------- ####\n",
    "#######################################\n",
    "if erased > 0:\n",
    "    sheet.update_google_sheet(sheet_genes, genes)\n",
    "    print(\"Google Sheet updated.\")\n",
    "elif erased == 0:\n",
    "    print(\"No erased genes.\")\n",
    "    print(\"No changes to the original Genes Sheet.\")"
   ]
  },
  {
   "cell_type": "code",
   "execution_count": null,
   "id": "2f3b506a",
   "metadata": {},
   "outputs": [],
   "source": [
    "for g in tqdm(gene_list):\n",
    "    if g not in list(genes['Gene Entrez ID']):\n",
    "        try:\n",
    "            gene_symbol, gene_name, gene_description, picr_ensembl_id, chok1gs_ensembl_id, mRNA_ncbi_id, protein_ncbi_id, go_terms = get_gene_info(g)\n",
    "            new_row_data = {'Gene Entrez ID': g, 'Gene Symbol': gene_symbol, 'Gene Name': gene_name, 'Gene Description': gene_description,\n",
    "                            'PICR Ensembl ID': picr_ensembl_id, 'CHOK1GS Ensembl ID': chok1gs_ensembl_id, 'Transcript ID': mRNA_ncbi_id,\n",
    "                            'Protein ID': protein_ncbi_id, 'GO Terms': go_terms}\n",
    "            new_row_df = pd.DataFrame(new_row_data, index=[len(genes)])\n",
    "            genes = pd.concat([genes, new_row_df])\n",
    "        except KeyError:\n",
    "            print(f'Gene {g} not found')\n",
    "            continue"
   ]
  },
  {
   "cell_type": "code",
   "execution_count": null,
   "id": "3dfcbfb5",
   "metadata": {},
   "outputs": [],
   "source": [
    "# Fetch information from the NIH database\n",
    "\n",
    "\n",
    "# Complete null or blank information in the already generated \"Genes Sheet\" dataset\n",
    "for i,row in genes.iterrows():\n",
    "    if row['Gene Entrez ID'] == '':\n",
    "        for g in gene_list:\n",
    "            gene_sheet_list = [str(x) for x in genes['Gene Entrez ID']]\n",
    "            if g not in gene_sheet_list:\n",
    "                gene_symbol, gene_name, gene_description, picr_ensembl_id, chok1gs_ensembl_id, mRNA_ncbi_id, protein_ncbi_id, go_terms = get_gene_info(g)\n",
    "                row['Gene Entrez ID'] = g\n",
    "                row['Gene Symbol'] = gene_symbol\n",
    "                row['Gene Name'] = gene_name\n",
    "                row['Gene Description'] = gene_description\n",
    "                row['PICR Ensembl ID'] = picr_ensembl_id\n",
    "                row['CHOK1GS Ensembl ID'] = chok1gs_ensembl_id\n",
    "                row['Transcript ID'] = mRNA_ncbi_id\n",
    "                row['Protein ID'] = protein_ncbi_id\n",
    "                row['GO Terms'] = go_terms\n",
    "                break          \n",
    "    elif row['Gene Entrez ID'] != '' and (row['Gene Symbol'] == '' or row['Gene Name'] == '' or row['PICR Ensembl ID'] == '' or row['Transcript ID'] == '' or row['Protein ID'] == ''):\n",
    "        row['Gene Symbol'] = gene_symbol\n",
    "        row['Gene Name'] = gene_name\n",
    "        row['Gene Description'] = gene_description\n",
    "        row['PICR Ensembl ID'] = picr_ensembl_id\n",
    "        row['CHOK1GS Ensembl ID'] = chok1gs_ensembl_id\n",
    "        row['Transcript ID'] = mRNA_ncbi_id\n",
    "        row['Protein ID'] = protein_ncbi_id\n",
    "        row['GO Terms'] = go_terms\n",
    "'''\n",
    "# Add genes from the gene_list that are not yet in the \"Genes Sheet\" dataset\n",
    "for g in gene_list:\n",
    "    # the first try/except is to avoid overwritting data in case there already some info in the dataset\n",
    "    try:\n",
    "        gene_sheet_list = [str(x) for x in df['Gene Entrez ID']]\n",
    "        id = max(df['Index']) + 2\n",
    "    except:\n",
    "        gene_sheet_list = []\n",
    "        id = 2\n",
    "    if gene not in gene_sheet_list:\n",
    "        try:\n",
    "            gene_symbol, gene_name, gene_description, picr_ensembl_id, chok1gs_ensembl_id, mRNA_ncbi_id, protein_ncbi_id, go_terms = get_gene_info(gene)\n",
    "            print(id-1)\n",
    "            genes_sheet.update_cell(id,1,id-1)\n",
    "            time.sleep(5)\n",
    "            genes_sheet.update_cell(id,2,gene)\n",
    "            time.sleep(5)\n",
    "            genes_sheet.update_cell(id,3,gene_symbol)\n",
    "            time.sleep(5)\n",
    "            genes_sheet.update_cell(id,4,gene_name)\n",
    "            time.sleep(5)\n",
    "            genes_sheet.update_cell(id,5,gene_description)\n",
    "            time.sleep(5)\n",
    "            genes_sheet.update_cell(id,6,picr_ensembl_id)\n",
    "            time.sleep(5)\n",
    "            genes_sheet.update_cell(id,7,chok1gs_ensembl_id)\n",
    "            time.sleep(5)\n",
    "            genes_sheet.update_cell(id,8,mRNA_ncbi_id)\n",
    "            time.sleep(5)\n",
    "            genes_sheet.update_cell(id,9,protein_ncbi_id)\n",
    "            time.sleep(5)\n",
    "            genes_sheet.update_cell(id,10,go_terms)\n",
    "        except:\n",
    "            print('Google API quota exceeded')\n",
    "            time.sleep(5)\n",
    "            continue\n",
    "            \n",
    "'''"
   ]
  },
  {
   "cell_type": "code",
   "execution_count": null,
   "id": "f702b0d0",
   "metadata": {},
   "outputs": [],
   "source": [
    "genes"
   ]
  },
  {
   "cell_type": "code",
   "execution_count": null,
   "id": "73daf8e8",
   "metadata": {},
   "outputs": [],
   "source": [
    "get_gene_info('100750772')"
   ]
  },
  {
   "cell_type": "code",
   "execution_count": null,
   "id": "30b59d4d",
   "metadata": {},
   "outputs": [],
   "source": [
    "from Bio import Entrez\n",
    "Entrez.email = 'account1@theta-ocean-377718.iam.gserviceaccount.com'\n",
    "handle = Entrez.efetch(db='gene', id='3979190', retmode='xml')\n",
    "record = Entrez.read(handle)[0]\n",
    "\n",
    "#gene_name = record['Entrezgene_gene']['Gene-ref']['Gene-ref_desc']\n",
    "#gene_symbol = record['Entrezgene_gene']['Gene-ref']['Gene-ref_locus']\n",
    "\n",
    "human_handle = Entrez.efetch(db='gene', id='3979190', retmode='xml')\n",
    "human_record = Entrez.read(human_handle)[0]\n",
    "if 'Entrezgene_comments' in human_record and 'Gene-commentary_comment' in human_record['Entrezgene_comments'][0]:\n",
    "    human_gene_description = human_record['Entrezgene_comments'][0]['Gene-commentary_comment'][0]['String']\n",
    "elif 'Entrezgene_summary' in human_record:\n",
    "    human_gene_description = human_record['Entrezgene_summary']\n",
    "else:\n",
    "    human_gene_description = ''"
   ]
  },
  {
   "cell_type": "markdown",
   "id": "40d44cdb",
   "metadata": {},
   "source": [
    "#### Get the CHO genome and map the IDs"
   ]
  },
  {
   "cell_type": "code",
   "execution_count": 50,
   "id": "e34657fb",
   "metadata": {},
   "outputs": [
    {
     "name": "stdout",
     "output_type": "stream",
     "text": [
      "0 Scap [] 100689048 22 FOUND AA_Seq NP_001230965 ['G3HKR2', 'P97260', 'Q2WEK9', 'P97260.1'] ['22937', '235623', '1613731', '1613731', '1613731'] ['human', 'mouse', 'BioGRID', 'BioGRID', 'BioGRID']\n",
      "1 Nsf [] 100770898 2 FOUND AA_Seq XP_007606206 ['A0A9J7JQ85', 'P18708', 'A0A9J7JQ85', 'P18708', 'A0A9J7JZI0', 'P18708.1'] ['4905', '18195'] ['human', 'mouse']\n",
      "2 Abcb1 ['PGP1', 'PGY1', 'Abcb1a'] 100682536 30 FOUND AA_Seq NP_001230917 ['A0A8C2M5L7', 'G3HRY0', 'P21448', 'Q80W58', 'A0A8C2M5L7', 'A0A8C2M5L7', 'A0A8C2M5L7', 'P21448.2'] ['207751'] ['AW113832']\n"
     ]
    }
   ],
   "source": [
    "import pandas as pd\n",
    "from Bio import Entrez\n",
    "import math\n",
    "import time\n",
    "import ssl\n",
    "from urllib.error import HTTPError\n",
    "import socket\n",
    "from Bio.Entrez.Parser import CorruptedXMLError\n",
    "\n",
    "def get_uniprot_from_dict(dictionary, uniprotIDs, target_key, target_value1,  target_value2):\n",
    "    for key, value in dictionary.items():\n",
    "        if key == target_key and (value == target_value1 or value == target_value2):\n",
    "            uniprotIDs.append(dictionary.get('Dbtag_tag', {}).get('Object-id', {}).get('Object-id_str'))            \n",
    "        if isinstance(value, dict):\n",
    "            get_uniprot_from_dict(value, uniprotIDs, target_key, target_value1, target_value2)\n",
    "        elif isinstance(value, list):\n",
    "            for item in value:\n",
    "                if isinstance(item, dict):\n",
    "                    get_uniprot_from_dict(item, uniprotIDs, target_key, target_value1, target_value2)        \n",
    "    return uniprotIDs\n",
    "def get_human_mouse_orthologs(dictionary, orthologs, target_key, target_value1):\n",
    "    for key, value in dictionary.items():\n",
    "        if key == target_key and (value == target_value1):\n",
    "            orthologs.append(dictionary.get('Dbtag_tag', {}).get('Object-id', {}).get('Object-id_id'))        \n",
    "        if isinstance(value, dict):\n",
    "            get_human_mouse_orthologs(value, orthologs, target_key, target_value1)\n",
    "        elif isinstance(value, list):\n",
    "            for item in value:\n",
    "                if isinstance(item, dict):\n",
    "                    get_human_mouse_orthologs(item, orthologs, target_key, target_value1)        \n",
    "    return orthologs\n",
    "    \n",
    "\n",
    "                    \n",
    "Entrez.email = \"athand01@gmail.com\"\n",
    "\n",
    "u_g = pd.read_excel('../CHO_Genome.xlsx')\n",
    "\n",
    "ncbi_geneName_list = []\n",
    "ncbi_geneName_alsoknownas_list = []\n",
    "ncbi_protein_NP_weirdName = []\n",
    "ncbi_geneID_list = []\n",
    "ncbi_gene_exon_size = []\n",
    "# ncbi_genomic_location = []\n",
    "uniprot_IDs = []\n",
    "orthologs_genes = []\n",
    "orthologs_organism = []\n",
    "aa_sequences = []\n",
    "\n",
    "counter = 0\n",
    "for ncbi_gene in u_g['NCBI GeneID'][counter:]:\n",
    "\n",
    "    protein_NP_weirdName = []\n",
    "    if not math.isnan(ncbi_gene):   \n",
    "        ncbi_gene = int(ncbi_gene)                  \n",
    "        max_retries = 3\n",
    "        retries = 0\n",
    "        gene_found = True\n",
    "        while retries < max_retries and gene_found:\n",
    "\n",
    "            try:\n",
    "\n",
    "                search_results = Entrez.esearch(db=\"gene\", term=ncbi_gene)            \n",
    "                record = Entrez.read(search_results)\n",
    "\n",
    "                # Check if any gene records were found\n",
    "                if int(record[\"Count\"]) > 0:\n",
    "\n",
    "                    # Get the Gene ID of the first result\n",
    "                    gene_id = record[\"IdList\"][0]\n",
    "\n",
    "                    # Fetch the gene information, maximum 3 tries\n",
    "                    fetch_tries = 0\n",
    "                    fetch_found = True\n",
    "                    while fetch_tries < 3 and fetch_found:\n",
    "\n",
    "                        gene_info = Entrez.efetch(db=\"gene\", id=gene_id, retmode=\"xml\")           \n",
    "                        fetch_tries += 1\n",
    "                        try:\n",
    "                            gene_record = Entrez.read(gene_info)\n",
    "                            fetch_found = False\n",
    "                        except CorruptedXMLError as xml_error:\n",
    "                            time.sleep(3)\n",
    "                            fetch_tries += 1\n",
    "\n",
    "                    # Get the gene name and gene NCBI ID\n",
    "                    if 'Gene-ref_locus' in gene_record[0]['Entrezgene_gene']['Gene-ref']:\n",
    "                        gene_name = gene_record[0]['Entrezgene_gene']['Gene-ref']['Gene-ref_locus']                        \n",
    "                    else:\n",
    "                        gene_name = gene_record[0]['Entrezgene_gene']['Gene-ref']['Gene-ref_locus-tag']\n",
    "\n",
    "                    if 'Gene-ref_syn' in gene_record[0]['Entrezgene_gene']['Gene-ref']:\n",
    "                        gene_name_alsoknownas = gene_record[0]['Entrezgene_gene']['Gene-ref']['Gene-ref_syn']\n",
    "                    else:\n",
    "                        gene_name_alsoknownas = []\n",
    "                    gene_ncbiID = gene_record[0]['Entrezgene_track-info']['Gene-track']['Gene-track_geneid']\n",
    "\n",
    "                    # Get UniprotIDs\n",
    "                    gene_uniprotIDs = (get_uniprot_from_dict(gene_record[0], [], 'Dbtag_db', 'UniProtKB/TrEMBL', 'UniProtKB/Swiss-Prot'))\n",
    "\n",
    "                    # Add sub-cellular localization\n",
    "                    # Add protein-protein interaction\n",
    "                    \n",
    "                    # Get the location in the genome\n",
    "                    # locus = gene_record[0].get('Entrezgene_locus', {})\n",
    "                    # start = locus[0]['Gene-commentary_seqs'][0]['Seq-loc_int']['Seq-interval']['Seq-interval_from']\n",
    "                    # end = locus[0]['Gene-commentary_seqs'][0]['Seq-loc_int']['Seq-interval']['Seq-interval_to']\n",
    "                    # gene_location = start\n",
    "\n",
    "                    # Get number of Exons\n",
    "                    properties = gene_record[0]['Entrezgene_properties']\n",
    "                    exon = None\n",
    "                    for prop in properties:\n",
    "                        if prop['Gene-commentary_label'] == 'Exon count':\n",
    "                            exon = prop['Gene-commentary_text']\n",
    "                            break\n",
    "                    if exon is None:                        \n",
    "                        KeyError\n",
    "                    \n",
    "                    # Get the gene weird NP name\n",
    "                    if 'Gene-commentary_products' in gene_record[0]['Entrezgene_locus'][0]:\n",
    "                        try:\n",
    "                            protein_NP_weirdName = gene_record[0]['Entrezgene_locus'][0]['Gene-commentary_products'][0]['Gene-commentary_products'][0]['Gene-commentary_accession']\n",
    "                            \n",
    "                        except:\n",
    "                            if 'Gene-commentary_accession' in gene_record[0]['Entrezgene_locus'][0]['Gene-commentary_products'][0]:\n",
    "                                protein_NP_weirdName = gene_record[0]['Entrezgene_locus'][0]['Gene-commentary_products'][0]['Gene-commentary_accession']\n",
    "                                \n",
    "                            else:\n",
    "                                if 'Gene-commentary_label' in gene_record[0]['Entrezgene_locus'][0]['Gene-commentary_products'][0]:\n",
    "                                    protein_NP_weirdName = gene_record[0]['Entrezgene_locus'][0]['Gene-commentary_products'][0]['Gene-commentary_label']\n",
    "                                else:\n",
    "                                    protein_NP_weirdName = '-----'\n",
    "                    else:\n",
    "                        protein_NP_weirdName = '-----'\n",
    "\n",
    "                    # Get Human and Mouse Orthologs\n",
    "                    orthologs_organism_list = []\n",
    "                    orthologs = []     \n",
    "                    if 'Entrezgene_comments' in gene_record[0]:\n",
    "                        for Entrezgene_comments_LOOP in gene_record[0]['Entrezgene_comments']:\n",
    "                            if 'Gene-commentary_comment' in Entrezgene_comments_LOOP:\n",
    "                                for Gene_commentary_comment_LOOP in Entrezgene_comments_LOOP['Gene-commentary_comment']:\n",
    "                                    if 'Gene-commentary_source' in Gene_commentary_comment_LOOP:\n",
    "                                        if 'Object-id_id' in Gene_commentary_comment_LOOP['Gene-commentary_source'][0]['Other-source_src']['Dbtag']['Dbtag_tag']['Object-id']:\n",
    "                                            orthologs.append(Gene_commentary_comment_LOOP['Gene-commentary_source'][0]['Other-source_src']['Dbtag']['Dbtag_tag']['Object-id']['Object-id_id'])\n",
    "                                        else:\n",
    "                                            orthologs.append(Gene_commentary_comment_LOOP['Gene-commentary_source'][0]['Other-source_src']['Dbtag']['Dbtag_tag']['Object-id']['Object-id_str'])\n",
    "                                        orthologs_organism_list.append(Gene_commentary_comment_LOOP['Gene-commentary_source'][0]['Other-source_anchor'])                    \n",
    "                    \n",
    "\n",
    "                    # Get the sequence\n",
    "                    aa_bool = 'NOT Found AA_Seq'\n",
    "                    if protein_NP_weirdName != '-----':\n",
    "                        try:\n",
    "                            handle = Entrez.efetch(db=\"protein\", id=protein_NP_weirdName, rettype=\"fasta\")\n",
    "                            record = handle.read()\n",
    "                            amino_acid_sequence = ''.join(record.split('\\n')[1:])\n",
    "                            aa_bool = 'FOUND AA_Seq'\n",
    "                        except:\n",
    "                            handle = Entrez.efetch(db=\"nucleotide\", id=protein_NP_weirdName, rettype=\"fasta\")\n",
    "                            record = handle.read()\n",
    "                            amino_acid_sequence = ''.join(record.split('\\n')[1:])\n",
    "                            aa_bool = 'FOUND AA_Seq'\n",
    "\n",
    "                # If there are no matches for the EntrezID at NCBI then return -----\n",
    "                else:\n",
    "                    gene_ncbiID = '-----'\n",
    "                    gene_name = '-----'\n",
    "                    gene_name_alsoknownas = '-----'\n",
    "                    protein_NP_weirdName = '-----'\n",
    "                    exon = '-----'\n",
    "                    # gene_location = '-----'                    \n",
    "                    uniprot_IDs = '-----'\n",
    "                    amino_acid_sequence = '-----'\n",
    "\n",
    "                gene_found = False\n",
    "                search_results.close()\n",
    "    \n",
    "            # Handle exceptions\n",
    "            except HTTPError as e:\n",
    "\n",
    "                retries += 1\n",
    "                time.sleep(3)\n",
    "            except ssl.SSLError as e:\n",
    "\n",
    "                retries += 1\n",
    "                time.sleep(3)\n",
    "            except ConnectionResetError as e:\n",
    "\n",
    "                retries += 1\n",
    "                time.sleep(3)\n",
    "            except socket.error as e:\n",
    "\n",
    "                retries += 1\n",
    "                time.sleep(3)\n",
    "    \n",
    "        # If the maximum fetch attempts reached, return ------\n",
    "        if retries >= max_retries:\n",
    "            gene_name = ncbi_gene\n",
    "            gene_name_alsoknownas = '-----'\n",
    "            gene_ncbiID = '-----'\n",
    "            protein_NP_weirdName = '-----'\n",
    "            exon = '-----'\n",
    "            # gene_location = '-----'\n",
    "            gene_uniprotIDs = '-----'\n",
    "            orthologs = '-----'\n",
    "            orthologs_organism_list = '-----'\n",
    "            amino_acid_sequence = '-----'\n",
    "    \n",
    "    # If for some reason the ncbi_gene is nto a number, then return the ncbi_gene for all cases\n",
    "    else:\n",
    "        gene_name = ncbi_gene\n",
    "        gene_name_alsoknownas = ncbi_gene\n",
    "        gene_ncbiID = ncbi_gene\n",
    "        protein_NP_weirdName = ncbi_gene\n",
    "        exon = ncbi_gene\n",
    "        # gene_location = ncbi_gene\n",
    "        amino_acid_sequence = ncbi_gene\n",
    "\n",
    "    ncbi_geneName_list.append(gene_name)\n",
    "    ncbi_geneName_alsoknownas_list.append(gene_name_alsoknownas)\n",
    "    ncbi_geneID_list.append(gene_ncbiID)\n",
    "    ncbi_protein_NP_weirdName.append(protein_NP_weirdName)\n",
    "    ncbi_gene_exon_size.append(exon)\n",
    "    # ncbi_genomic_location.append(gene_location)\n",
    "    uniprot_IDs.append(gene_uniprotIDs)\n",
    "    orthologs_genes.append(orthologs)\n",
    "    orthologs_organism.append(orthologs_organism_list)\n",
    "    aa_sequences.append(amino_acid_sequence)\n",
    "\n",
    "    print(counter, gene_name, gene_name_alsoknownas, gene_ncbiID, exon, aa_bool, protein_NP_weirdName, gene_uniprotIDs, orthologs, orthologs_organism_list)\n",
    "    counter += 1\n",
    "    if counter % 1000 == 0:\n",
    "        data = {\n",
    "            'NCBI_ID': ncbi_geneID_list,\n",
    "            'Gene_Name': ncbi_geneName_list,\n",
    "            'NP_Name': ncbi_protein_NP_weirdName,\n",
    "            'Uniprot_ID': uniprot_IDs,\n",
    "            'Ortholog_Genes': orthologs_genes,\n",
    "            'Ortholog_Organisms': orthologs_organism,\n",
    "            'Exon Number': ncbi_gene_exon_size,\n",
    "            'Sequence': aa_sequences\n",
    "        }\n",
    "        df = pd.DataFrame(data)\n",
    "        file_path = 'GeneIDs_' + str(counter) + '.xlsx'\n",
    "        df.to_excel(file_path, index=False)\n"
   ]
  },
  {
   "cell_type": "code",
   "execution_count": 49,
   "id": "6fc691fb",
   "metadata": {},
   "outputs": [
    {
     "data": {
      "text/plain": [
       "'TCACACGGCATGGCTCGGGGCGGGCGGGGTTTGCGCCTCCAGGGTTTGCTTTCGCGCCTCTTGCTCTACGTCACTGTGTGCTTACGCGCCGAGCTTTGAAAATGCAGCGGGAGCTAGTGAGTTTCCCGCTGTCTCCCACGGTGCGAGTGAAGCTGGTGGCTGCGGGTTTCCAGACGGCCGAGGACGTCCTGGGGGTGAAGCCCTCTGAGCTCAGCAAAGAAGTTGGGATATCTAAAGAGGAAGCTTTAGAAACTCTACAAATTGTAAGAAGAGAGAGTCTCACAGACAAACCCAGATGTGCTGGTGCATCTGTGGCAGGCAAGAAGTACACCGCACTGGAACTTCTTGAGCAGGAGCACACCCAGGGCTTCATAATCACCTTCTGCTCAGCGCTAGATAACATTCTTGGGGGTGGAATACCCCTAATGAAAACAACGGAAGTTTGTGGTGTACCAGGTGTTGGAAAAACACAGTTATGTATGCAGTTGGCAGTGGATGTGCAGATTCCAGAGTGTTTTGGAGGAGTGGCAGGTGAAGCAGTGTTTATTGATACGGAGGGAAGTTTTATGGTTGATAGAGTGGTCACCCTTGCAAATGCCTGCATTCAGCACCTTCACCTTATAGCAGGAACACACAAGGATGAAGAACACCAGAAAGCCTTGGAGGGCTTTACTCTTGAAAATATTCTTTCTCATATTTATTATTTCCGTTGTCATGATTATACTGAGTTGCTGGCACAAGTCTATCTCCTTCCAGATTTCCTTTCAAATCATTCAAAGGTGCAGTTAGTGATAATAGATGGCATTGCTCTTCCTTTTCGACATGACCTTGATGATCTATCCCTTCGTACTCGATTACTAAATGGCCTTGCCCAACAAATGATCAGCCTGGCAAATAATCACAGATTAGCTGTTTGCAACATTGTACAAGTCACCAAGCCAGAAGGAGTCCACAATACCATTTCAGATCACACCACAGGGATTTAGAGATGCTGCTGTCACTGCTTCTTCATCACAGACAGAAGGTTCTTCAAATCTCCGGAAACGGTCACGAGAACCAGAGGAAGGATGCTGATCCAAAACTAATATTAGGAATCTGGAAGCTGCCACTATCCTTAGGCTGAAGGAGAATGGAAGATGATGTTTTCAGAGCTCAGAGACTCGGATACCTGTCCAGCCTGAAGTCCAGTGAACAAACAAGGGGAGCAAAGTCACCAAGGAGATAAAACAGGCTCAACACTGAGACAAGGGAGAAGAGAAATGCTCTGGCTGTTTTGCTCTCCTCACTTAAATTTCTTGTCAGTGCCTCCCACTGGGCAAATGACAACTGAAAGACAGCTGTCACTGAAGCCCAGTGAATGCAGCCTAAGCAGGTCAGCTCTGCAGCAGTGTGGAGTGGAACAAGGAAGGAAAGAATGGATATGGTAGCAAAATGGACAGTCAATTCTTTTTAAAAATCAACTTTATTGAGGTTTAATTTATGTACAATATACTTATTTTAAATGTATATTTTAAGCCTTTTACATGCTAGGCAAGTGCTCTATCACTGAGCTACATTCCTATTATCTTTAATGTATACTTTGATAATTTCATAACTCAGATAATCCCCCCGGTTACAATAGATAACATTGTTGTCCTTTTTTTTTTTT'"
      ]
     },
     "execution_count": 49,
     "metadata": {},
     "output_type": "execute_result"
    }
   ],
   "source": [
    "if 'Gene-commentary_products' in gene_record[0]['Entrezgene_locus'][0]:\n",
    "    try:\n",
    "        protein_NP_weirdName = gene_record[0]['Entrezgene_locus'][0]['Gene-commentary_products'][0]['Gene-commentary_products'][0]['Gene-commentary_accession']\n",
    "        \n",
    "    except:\n",
    "        if 'Gene-commentary_accession' in gene_record[0]['Entrezgene_locus'][0]['Gene-commentary_products'][0]:\n",
    "            protein_NP_weirdName = gene_record[0]['Entrezgene_locus'][0]['Gene-commentary_products'][0]['Gene-commentary_accession']\n",
    "            \n",
    "        else:\n",
    "            if 'Gene-commentary_label' in gene_record[0]['Entrezgene_locus'][0]['Gene-commentary_products'][0]:\n",
    "                protein_NP_weirdName = gene_record[0]['Entrezgene_locus'][0]['Gene-commentary_products'][0]['Gene-commentary_label']\n",
    "            else:\n",
    "                protein_NP_weirdName = '-----'\n",
    "else:\n",
    "    protein_NP_weirdName = '-----'\n",
    "handle = Entrez.efetch(db=\"nucleotide\", id=protein_NP_weirdName, rettype=\"fasta\")\n",
    "record = handle.read()\n",
    "amino_acid_sequence = ''.join(record.split('\\n')[1:])\n",
    "amino_acid_sequence"
   ]
  },
  {
   "cell_type": "code",
   "execution_count": 47,
   "metadata": {},
   "outputs": [
    {
     "data": {
      "text/plain": [
       "[{'Gene-commentary_type': StringElement('14', attributes={'value': 'miscRNA'}), 'Gene-commentary_heading': 'Reference', 'Gene-commentary_label': 'transcript variant X4', 'Gene-commentary_accession': 'XR_003490098', 'Gene-commentary_version': '2', 'Gene-commentary_genomic-coords': [{'Seq-loc_mix': {'Seq-loc-mix': [{'Seq-loc_int': {'Seq-interval': {'Seq-interval_from': '490454', 'Seq-interval_to': '490672', 'Seq-interval_strand': {'Na-strand': StringElement('', attributes={'value': 'plus'})}, 'Seq-interval_id': {'Seq-id': {'Seq-id_gi': '351517545'}}}}}, {'Seq-loc_int': {'Seq-interval': {'Seq-interval_from': '491633', 'Seq-interval_to': '491891', 'Seq-interval_strand': {'Na-strand': StringElement('', attributes={'value': 'plus'})}, 'Seq-interval_id': {'Seq-id': {'Seq-id_gi': '351517545'}}}}}, {'Seq-loc_int': {'Seq-interval': {'Seq-interval_from': '492700', 'Seq-interval_to': '492866', 'Seq-interval_strand': {'Na-strand': StringElement('', attributes={'value': 'plus'})}, 'Seq-interval_id': {'Seq-id': {'Seq-id_gi': '351517545'}}}}}, {'Seq-loc_int': {'Seq-interval': {'Seq-interval_from': '496084', 'Seq-interval_to': '496217', 'Seq-interval_strand': {'Na-strand': StringElement('', attributes={'value': 'plus'})}, 'Seq-interval_id': {'Seq-id': {'Seq-id_gi': '351517545'}}}}}, {'Seq-loc_int': {'Seq-interval': {'Seq-interval_from': '498866', 'Seq-interval_to': '498997', 'Seq-interval_strand': {'Na-strand': StringElement('', attributes={'value': 'plus'})}, 'Seq-interval_id': {'Seq-id': {'Seq-id_gi': '351517545'}}}}}, {'Seq-loc_int': {'Seq-interval': {'Seq-interval_from': '513940', 'Seq-interval_to': '514000', 'Seq-interval_strand': {'Na-strand': StringElement('', attributes={'value': 'plus'})}, 'Seq-interval_id': {'Seq-id': {'Seq-id_gi': '351517545'}}}}}, {'Seq-loc_int': {'Seq-interval': {'Seq-interval_from': '515470', 'Seq-interval_to': '515583', 'Seq-interval_strand': {'Na-strand': StringElement('', attributes={'value': 'plus'})}, 'Seq-interval_id': {'Seq-id': {'Seq-id_gi': '351517545'}}}}}, {'Seq-loc_int': {'Seq-interval': {'Seq-interval_from': '525920', 'Seq-interval_to': '526481', 'Seq-interval_strand': {'Na-strand': StringElement('', attributes={'value': 'plus'})}, 'Seq-interval_id': {'Seq-id': {'Seq-id_gi': '351517545'}}}}}]}}], 'Gene-commentary_seqs': [{'Seq-loc_whole': {'Seq-id': {'Seq-id_gi': '1868057955'}}}], 'Gene-commentary_rna': {'RNA-ref': {'RNA-ref_type': StringElement('', attributes={'value': 'miscRNA'}), 'RNA-ref_ext': {'RNA-ref_ext_gen': {'RNA-gen': {'RNA-gen_product': 'RAD51 paralog C, transcript variant X4'}}}}}}, {'Gene-commentary_type': StringElement('14', attributes={'value': 'miscRNA'}), 'Gene-commentary_heading': 'Reference', 'Gene-commentary_label': 'transcript variant X5', 'Gene-commentary_accession': 'XR_004773659', 'Gene-commentary_version': '1', 'Gene-commentary_genomic-coords': [{'Seq-loc_mix': {'Seq-loc-mix': [{'Seq-loc_int': {'Seq-interval': {'Seq-interval_from': '490454', 'Seq-interval_to': '490672', 'Seq-interval_strand': {'Na-strand': StringElement('', attributes={'value': 'plus'})}, 'Seq-interval_id': {'Seq-id': {'Seq-id_gi': '351517545'}}}}}, {'Seq-loc_int': {'Seq-interval': {'Seq-interval_from': '491633', 'Seq-interval_to': '491891', 'Seq-interval_strand': {'Na-strand': StringElement('', attributes={'value': 'plus'})}, 'Seq-interval_id': {'Seq-id': {'Seq-id_gi': '351517545'}}}}}, {'Seq-loc_int': {'Seq-interval': {'Seq-interval_from': '492700', 'Seq-interval_to': '492866', 'Seq-interval_strand': {'Na-strand': StringElement('', attributes={'value': 'plus'})}, 'Seq-interval_id': {'Seq-id': {'Seq-id_gi': '351517545'}}}}}, {'Seq-loc_int': {'Seq-interval': {'Seq-interval_from': '496084', 'Seq-interval_to': '496217', 'Seq-interval_strand': {'Na-strand': StringElement('', attributes={'value': 'plus'})}, 'Seq-interval_id': {'Seq-id': {'Seq-id_gi': '351517545'}}}}}, {'Seq-loc_int': {'Seq-interval': {'Seq-interval_from': '498866', 'Seq-interval_to': '498997', 'Seq-interval_strand': {'Na-strand': StringElement('', attributes={'value': 'plus'})}, 'Seq-interval_id': {'Seq-id': {'Seq-id_gi': '351517545'}}}}}, {'Seq-loc_int': {'Seq-interval': {'Seq-interval_from': '513940', 'Seq-interval_to': '514000', 'Seq-interval_strand': {'Na-strand': StringElement('', attributes={'value': 'plus'})}, 'Seq-interval_id': {'Seq-id': {'Seq-id_gi': '351517545'}}}}}, {'Seq-loc_int': {'Seq-interval': {'Seq-interval_from': '515470', 'Seq-interval_to': '515583', 'Seq-interval_strand': {'Na-strand': StringElement('', attributes={'value': 'plus'})}, 'Seq-interval_id': {'Seq-id': {'Seq-id_gi': '351517545'}}}}}, {'Seq-loc_int': {'Seq-interval': {'Seq-interval_from': '525925', 'Seq-interval_to': '526481', 'Seq-interval_strand': {'Na-strand': StringElement('', attributes={'value': 'plus'})}, 'Seq-interval_id': {'Seq-id': {'Seq-id_gi': '351517545'}}}}}]}}], 'Gene-commentary_seqs': [{'Seq-loc_whole': {'Seq-id': {'Seq-id_gi': '1868057956'}}}], 'Gene-commentary_rna': {'RNA-ref': {'RNA-ref_type': StringElement('', attributes={'value': 'miscRNA'}), 'RNA-ref_ext': {'RNA-ref_ext_gen': {'RNA-gen': {'RNA-gen_product': 'RAD51 paralog C, transcript variant X5'}}}}}}, {'Gene-commentary_type': StringElement('14', attributes={'value': 'miscRNA'}), 'Gene-commentary_heading': 'Reference', 'Gene-commentary_label': 'transcript variant X7', 'Gene-commentary_accession': 'XR_004773661', 'Gene-commentary_version': '1', 'Gene-commentary_genomic-coords': [{'Seq-loc_mix': {'Seq-loc-mix': [{'Seq-loc_int': {'Seq-interval': {'Seq-interval_from': '490454', 'Seq-interval_to': '490672', 'Seq-interval_strand': {'Na-strand': StringElement('', attributes={'value': 'plus'})}, 'Seq-interval_id': {'Seq-id': {'Seq-id_gi': '351517545'}}}}}, {'Seq-loc_int': {'Seq-interval': {'Seq-interval_from': '491633', 'Seq-interval_to': '491891', 'Seq-interval_strand': {'Na-strand': StringElement('', attributes={'value': 'plus'})}, 'Seq-interval_id': {'Seq-id': {'Seq-id_gi': '351517545'}}}}}, {'Seq-loc_int': {'Seq-interval': {'Seq-interval_from': '492700', 'Seq-interval_to': '492866', 'Seq-interval_strand': {'Na-strand': StringElement('', attributes={'value': 'plus'})}, 'Seq-interval_id': {'Seq-id': {'Seq-id_gi': '351517545'}}}}}, {'Seq-loc_int': {'Seq-interval': {'Seq-interval_from': '496084', 'Seq-interval_to': '496217', 'Seq-interval_strand': {'Na-strand': StringElement('', attributes={'value': 'plus'})}, 'Seq-interval_id': {'Seq-id': {'Seq-id_gi': '351517545'}}}}}, {'Seq-loc_int': {'Seq-interval': {'Seq-interval_from': '498866', 'Seq-interval_to': '498997', 'Seq-interval_strand': {'Na-strand': StringElement('', attributes={'value': 'plus'})}, 'Seq-interval_id': {'Seq-id': {'Seq-id_gi': '351517545'}}}}}, {'Seq-loc_int': {'Seq-interval': {'Seq-interval_from': '513940', 'Seq-interval_to': '514000', 'Seq-interval_strand': {'Na-strand': StringElement('', attributes={'value': 'plus'})}, 'Seq-interval_id': {'Seq-id': {'Seq-id_gi': '351517545'}}}}}, {'Seq-loc_int': {'Seq-interval': {'Seq-interval_from': '515470', 'Seq-interval_to': '515583', 'Seq-interval_strand': {'Na-strand': StringElement('', attributes={'value': 'plus'})}, 'Seq-interval_id': {'Seq-id': {'Seq-id_gi': '351517545'}}}}}, {'Seq-loc_int': {'Seq-interval': {'Seq-interval_from': '522268', 'Seq-interval_to': '523553', 'Seq-interval_strand': {'Na-strand': StringElement('', attributes={'value': 'plus'})}, 'Seq-interval_id': {'Seq-id': {'Seq-id_gi': '351517545'}}}}}]}}], 'Gene-commentary_seqs': [{'Seq-loc_whole': {'Seq-id': {'Seq-id_gi': '1868057958'}}}], 'Gene-commentary_rna': {'RNA-ref': {'RNA-ref_type': StringElement('', attributes={'value': 'miscRNA'}), 'RNA-ref_ext': {'RNA-ref_ext_gen': {'RNA-gen': {'RNA-gen_product': 'RAD51 paralog C, transcript variant X7'}}}}}}, {'Gene-commentary_type': StringElement('14', attributes={'value': 'miscRNA'}), 'Gene-commentary_heading': 'Reference', 'Gene-commentary_label': 'transcript variant X6', 'Gene-commentary_accession': 'XR_004773660', 'Gene-commentary_version': '1', 'Gene-commentary_genomic-coords': [{'Seq-loc_mix': {'Seq-loc-mix': [{'Seq-loc_int': {'Seq-interval': {'Seq-interval_from': '490454', 'Seq-interval_to': '490672', 'Seq-interval_strand': {'Na-strand': StringElement('', attributes={'value': 'plus'})}, 'Seq-interval_id': {'Seq-id': {'Seq-id_gi': '351517545'}}}}}, {'Seq-loc_int': {'Seq-interval': {'Seq-interval_from': '491633', 'Seq-interval_to': '491891', 'Seq-interval_strand': {'Na-strand': StringElement('', attributes={'value': 'plus'})}, 'Seq-interval_id': {'Seq-id': {'Seq-id_gi': '351517545'}}}}}, {'Seq-loc_int': {'Seq-interval': {'Seq-interval_from': '492700', 'Seq-interval_to': '492866', 'Seq-interval_strand': {'Na-strand': StringElement('', attributes={'value': 'plus'})}, 'Seq-interval_id': {'Seq-id': {'Seq-id_gi': '351517545'}}}}}, {'Seq-loc_int': {'Seq-interval': {'Seq-interval_from': '496084', 'Seq-interval_to': '496217', 'Seq-interval_strand': {'Na-strand': StringElement('', attributes={'value': 'plus'})}, 'Seq-interval_id': {'Seq-id': {'Seq-id_gi': '351517545'}}}}}, {'Seq-loc_int': {'Seq-interval': {'Seq-interval_from': '498866', 'Seq-interval_to': '498997', 'Seq-interval_strand': {'Na-strand': StringElement('', attributes={'value': 'plus'})}, 'Seq-interval_id': {'Seq-id': {'Seq-id_gi': '351517545'}}}}}, {'Seq-loc_int': {'Seq-interval': {'Seq-interval_from': '513940', 'Seq-interval_to': '514000', 'Seq-interval_strand': {'Na-strand': StringElement('', attributes={'value': 'plus'})}, 'Seq-interval_id': {'Seq-id': {'Seq-id_gi': '351517545'}}}}}, {'Seq-loc_int': {'Seq-interval': {'Seq-interval_from': '515470', 'Seq-interval_to': '515583', 'Seq-interval_strand': {'Na-strand': StringElement('', attributes={'value': 'plus'})}, 'Seq-interval_id': {'Seq-id': {'Seq-id_gi': '351517545'}}}}}, {'Seq-loc_int': {'Seq-interval': {'Seq-interval_from': '521585', 'Seq-interval_to': '521741', 'Seq-interval_strand': {'Na-strand': StringElement('', attributes={'value': 'plus'})}, 'Seq-interval_id': {'Seq-id': {'Seq-id_gi': '351517545'}}}}}]}}], 'Gene-commentary_seqs': [{'Seq-loc_whole': {'Seq-id': {'Seq-id_gi': '1868057957'}}}], 'Gene-commentary_rna': {'RNA-ref': {'RNA-ref_type': StringElement('', attributes={'value': 'miscRNA'}), 'RNA-ref_ext': {'RNA-ref_ext_gen': {'RNA-gen': {'RNA-gen_product': 'RAD51 paralog C, transcript variant X6'}}}}}}, {'Gene-commentary_type': StringElement('3', attributes={'value': 'mRNA'}), 'Gene-commentary_heading': 'Reference', 'Gene-commentary_label': 'transcript variant X1', 'Gene-commentary_accession': 'XM_007644354', 'Gene-commentary_version': '4', 'Gene-commentary_genomic-coords': [{'Seq-loc_mix': {'Seq-loc-mix': [{'Seq-loc_int': {'Seq-interval': {'Seq-interval_from': '490454', 'Seq-interval_to': '490672', 'Seq-interval_strand': {'Na-strand': StringElement('', attributes={'value': 'plus'})}, 'Seq-interval_id': {'Seq-id': {'Seq-id_gi': '351517545'}}}}}, {'Seq-loc_int': {'Seq-interval': {'Seq-interval_from': '491633', 'Seq-interval_to': '491891', 'Seq-interval_strand': {'Na-strand': StringElement('', attributes={'value': 'plus'})}, 'Seq-interval_id': {'Seq-id': {'Seq-id_gi': '351517545'}}}}}, {'Seq-loc_int': {'Seq-interval': {'Seq-interval_from': '492700', 'Seq-interval_to': '492866', 'Seq-interval_strand': {'Na-strand': StringElement('', attributes={'value': 'plus'})}, 'Seq-interval_id': {'Seq-id': {'Seq-id_gi': '351517545'}}}}}, {'Seq-loc_int': {'Seq-interval': {'Seq-interval_from': '496084', 'Seq-interval_to': '496217', 'Seq-interval_strand': {'Na-strand': StringElement('', attributes={'value': 'plus'})}, 'Seq-interval_id': {'Seq-id': {'Seq-id_gi': '351517545'}}}}}, {'Seq-loc_int': {'Seq-interval': {'Seq-interval_from': '498866', 'Seq-interval_to': '498997', 'Seq-interval_strand': {'Na-strand': StringElement('', attributes={'value': 'plus'})}, 'Seq-interval_id': {'Seq-id': {'Seq-id_gi': '351517545'}}}}}, {'Seq-loc_int': {'Seq-interval': {'Seq-interval_from': '502863', 'Seq-interval_to': '502929', 'Seq-interval_strand': {'Na-strand': StringElement('', attributes={'value': 'plus'})}, 'Seq-interval_id': {'Seq-id': {'Seq-id_gi': '351517545'}}}}}, {'Seq-loc_int': {'Seq-interval': {'Seq-interval_from': '504413', 'Seq-interval_to': '504473', 'Seq-interval_strand': {'Na-strand': StringElement('', attributes={'value': 'plus'})}, 'Seq-interval_id': {'Seq-id': {'Seq-id_gi': '351517545'}}}}}, {'Seq-loc_int': {'Seq-interval': {'Seq-interval_from': '513940', 'Seq-interval_to': '514000', 'Seq-interval_strand': {'Na-strand': StringElement('', attributes={'value': 'plus'})}, 'Seq-interval_id': {'Seq-id': {'Seq-id_gi': '351517545'}}}}}, {'Seq-loc_int': {'Seq-interval': {'Seq-interval_from': '515470', 'Seq-interval_to': '515583', 'Seq-interval_strand': {'Na-strand': StringElement('', attributes={'value': 'plus'})}, 'Seq-interval_id': {'Seq-id': {'Seq-id_gi': '351517545'}}}}}, {'Seq-loc_int': {'Seq-interval': {'Seq-interval_from': '525925', 'Seq-interval_to': '526481', 'Seq-interval_strand': {'Na-strand': StringElement('', attributes={'value': 'plus'})}, 'Seq-interval_id': {'Seq-id': {'Seq-id_gi': '351517545'}}}}}]}}], 'Gene-commentary_seqs': [{'Seq-loc_whole': {'Seq-id': {'Seq-id_gi': '1868057952'}}}], 'Gene-commentary_products': [{'Gene-commentary_type': StringElement('8', attributes={'value': 'peptide'}), 'Gene-commentary_heading': 'Reference', 'Gene-commentary_label': 'isoform X1', 'Gene-commentary_accession': 'XP_007642544', 'Gene-commentary_version': '1', 'Gene-commentary_genomic-coords': [{'Seq-loc_mix': {'Seq-loc-mix': [{'Seq-loc_int': {'Seq-interval': {'Seq-interval_from': '490555', 'Seq-interval_to': '490672', 'Seq-interval_strand': {'Na-strand': StringElement('', attributes={'value': 'plus'})}, 'Seq-interval_id': {'Seq-id': {'Seq-id_gi': '351517545'}}}}}, {'Seq-loc_int': {'Seq-interval': {'Seq-interval_from': '491633', 'Seq-interval_to': '491891', 'Seq-interval_strand': {'Na-strand': StringElement('', attributes={'value': 'plus'})}, 'Seq-interval_id': {'Seq-id': {'Seq-id_gi': '351517545'}}}}}, {'Seq-loc_int': {'Seq-interval': {'Seq-interval_from': '492700', 'Seq-interval_to': '492866', 'Seq-interval_strand': {'Na-strand': StringElement('', attributes={'value': 'plus'})}, 'Seq-interval_id': {'Seq-id': {'Seq-id_gi': '351517545'}}}}}, {'Seq-loc_int': {'Seq-interval': {'Seq-interval_from': '496084', 'Seq-interval_to': '496217', 'Seq-interval_strand': {'Na-strand': StringElement('', attributes={'value': 'plus'})}, 'Seq-interval_id': {'Seq-id': {'Seq-id_gi': '351517545'}}}}}, {'Seq-loc_int': {'Seq-interval': {'Seq-interval_from': '498866', 'Seq-interval_to': '498997', 'Seq-interval_strand': {'Na-strand': StringElement('', attributes={'value': 'plus'})}, 'Seq-interval_id': {'Seq-id': {'Seq-id_gi': '351517545'}}}}}, {'Seq-loc_int': {'Seq-interval': {'Seq-interval_from': '502863', 'Seq-interval_to': '502929', 'Seq-interval_strand': {'Na-strand': StringElement('', attributes={'value': 'plus'})}, 'Seq-interval_id': {'Seq-id': {'Seq-id_gi': '351517545'}}}}}, {'Seq-loc_int': {'Seq-interval': {'Seq-interval_from': '504413', 'Seq-interval_to': '504473', 'Seq-interval_strand': {'Na-strand': StringElement('', attributes={'value': 'plus'})}, 'Seq-interval_id': {'Seq-id': {'Seq-id_gi': '351517545'}}}}}, {'Seq-loc_int': {'Seq-interval': {'Seq-interval_from': '513940', 'Seq-interval_to': '514000', 'Seq-interval_strand': {'Na-strand': StringElement('', attributes={'value': 'plus'})}, 'Seq-interval_id': {'Seq-id': {'Seq-id_gi': '351517545'}}}}}, {'Seq-loc_int': {'Seq-interval': {'Seq-interval_from': '515470', 'Seq-interval_to': '515571', 'Seq-interval_strand': {'Na-strand': StringElement('', attributes={'value': 'plus'})}, 'Seq-interval_id': {'Seq-id': {'Seq-id_gi': '351517545'}}}}}]}}], 'Gene-commentary_seqs': [{'Seq-loc_whole': {'Seq-id': {'Seq-id_gi': '625201657'}}}]}]}, {'Gene-commentary_type': StringElement('3', attributes={'value': 'mRNA'}), 'Gene-commentary_heading': 'Reference', 'Gene-commentary_label': 'transcript variant X3', 'Gene-commentary_accession': 'XM_007644355', 'Gene-commentary_version': '4', 'Gene-commentary_genomic-coords': [{'Seq-loc_mix': {'Seq-loc-mix': [{'Seq-loc_int': {'Seq-interval': {'Seq-interval_from': '490454', 'Seq-interval_to': '490672', 'Seq-interval_strand': {'Na-strand': StringElement('', attributes={'value': 'plus'})}, 'Seq-interval_id': {'Seq-id': {'Seq-id_gi': '351517545'}}}}}, {'Seq-loc_int': {'Seq-interval': {'Seq-interval_from': '491633', 'Seq-interval_to': '491891', 'Seq-interval_strand': {'Na-strand': StringElement('', attributes={'value': 'plus'})}, 'Seq-interval_id': {'Seq-id': {'Seq-id_gi': '351517545'}}}}}, {'Seq-loc_int': {'Seq-interval': {'Seq-interval_from': '492700', 'Seq-interval_to': '492866', 'Seq-interval_strand': {'Na-strand': StringElement('', attributes={'value': 'plus'})}, 'Seq-interval_id': {'Seq-id': {'Seq-id_gi': '351517545'}}}}}, {'Seq-loc_int': {'Seq-interval': {'Seq-interval_from': '496084', 'Seq-interval_to': '496217', 'Seq-interval_strand': {'Na-strand': StringElement('', attributes={'value': 'plus'})}, 'Seq-interval_id': {'Seq-id': {'Seq-id_gi': '351517545'}}}}}, {'Seq-loc_int': {'Seq-interval': {'Seq-interval_from': '498866', 'Seq-interval_to': '498997', 'Seq-interval_strand': {'Na-strand': StringElement('', attributes={'value': 'plus'})}, 'Seq-interval_id': {'Seq-id': {'Seq-id_gi': '351517545'}}}}}, {'Seq-loc_int': {'Seq-interval': {'Seq-interval_from': '502863', 'Seq-interval_to': '502929', 'Seq-interval_strand': {'Na-strand': StringElement('', attributes={'value': 'plus'})}, 'Seq-interval_id': {'Seq-id': {'Seq-id_gi': '351517545'}}}}}, {'Seq-loc_int': {'Seq-interval': {'Seq-interval_from': '504413', 'Seq-interval_to': '504473', 'Seq-interval_strand': {'Na-strand': StringElement('', attributes={'value': 'plus'})}, 'Seq-interval_id': {'Seq-id': {'Seq-id_gi': '351517545'}}}}}, {'Seq-loc_int': {'Seq-interval': {'Seq-interval_from': '513940', 'Seq-interval_to': '514000', 'Seq-interval_strand': {'Na-strand': StringElement('', attributes={'value': 'plus'})}, 'Seq-interval_id': {'Seq-id': {'Seq-id_gi': '351517545'}}}}}, {'Seq-loc_int': {'Seq-interval': {'Seq-interval_from': '515470', 'Seq-interval_to': '515583', 'Seq-interval_strand': {'Na-strand': StringElement('', attributes={'value': 'plus'})}, 'Seq-interval_id': {'Seq-id': {'Seq-id_gi': '351517545'}}}}}, {'Seq-loc_int': {'Seq-interval': {'Seq-interval_from': '522268', 'Seq-interval_to': '523551', 'Seq-interval_strand': {'Na-strand': StringElement('', attributes={'value': 'plus'})}, 'Seq-interval_id': {'Seq-id': {'Seq-id_gi': '351517545'}}}}}]}}], 'Gene-commentary_seqs': [{'Seq-loc_whole': {'Seq-id': {'Seq-id_gi': '1868057954'}}}], 'Gene-commentary_products': [{'Gene-commentary_type': StringElement('8', attributes={'value': 'peptide'}), 'Gene-commentary_heading': 'Reference', 'Gene-commentary_label': 'isoform X1', 'Gene-commentary_accession': 'XP_007642545', 'Gene-commentary_version': '1', 'Gene-commentary_genomic-coords': [{'Seq-loc_mix': {'Seq-loc-mix': [{'Seq-loc_int': {'Seq-interval': {'Seq-interval_from': '490555', 'Seq-interval_to': '490672', 'Seq-interval_strand': {'Na-strand': StringElement('', attributes={'value': 'plus'})}, 'Seq-interval_id': {'Seq-id': {'Seq-id_gi': '351517545'}}}}}, {'Seq-loc_int': {'Seq-interval': {'Seq-interval_from': '491633', 'Seq-interval_to': '491891', 'Seq-interval_strand': {'Na-strand': StringElement('', attributes={'value': 'plus'})}, 'Seq-interval_id': {'Seq-id': {'Seq-id_gi': '351517545'}}}}}, {'Seq-loc_int': {'Seq-interval': {'Seq-interval_from': '492700', 'Seq-interval_to': '492866', 'Seq-interval_strand': {'Na-strand': StringElement('', attributes={'value': 'plus'})}, 'Seq-interval_id': {'Seq-id': {'Seq-id_gi': '351517545'}}}}}, {'Seq-loc_int': {'Seq-interval': {'Seq-interval_from': '496084', 'Seq-interval_to': '496217', 'Seq-interval_strand': {'Na-strand': StringElement('', attributes={'value': 'plus'})}, 'Seq-interval_id': {'Seq-id': {'Seq-id_gi': '351517545'}}}}}, {'Seq-loc_int': {'Seq-interval': {'Seq-interval_from': '498866', 'Seq-interval_to': '498997', 'Seq-interval_strand': {'Na-strand': StringElement('', attributes={'value': 'plus'})}, 'Seq-interval_id': {'Seq-id': {'Seq-id_gi': '351517545'}}}}}, {'Seq-loc_int': {'Seq-interval': {'Seq-interval_from': '502863', 'Seq-interval_to': '502929', 'Seq-interval_strand': {'Na-strand': StringElement('', attributes={'value': 'plus'})}, 'Seq-interval_id': {'Seq-id': {'Seq-id_gi': '351517545'}}}}}, {'Seq-loc_int': {'Seq-interval': {'Seq-interval_from': '504413', 'Seq-interval_to': '504473', 'Seq-interval_strand': {'Na-strand': StringElement('', attributes={'value': 'plus'})}, 'Seq-interval_id': {'Seq-id': {'Seq-id_gi': '351517545'}}}}}, {'Seq-loc_int': {'Seq-interval': {'Seq-interval_from': '513940', 'Seq-interval_to': '514000', 'Seq-interval_strand': {'Na-strand': StringElement('', attributes={'value': 'plus'})}, 'Seq-interval_id': {'Seq-id': {'Seq-id_gi': '351517545'}}}}}, {'Seq-loc_int': {'Seq-interval': {'Seq-interval_from': '515470', 'Seq-interval_to': '515571', 'Seq-interval_strand': {'Na-strand': StringElement('', attributes={'value': 'plus'})}, 'Seq-interval_id': {'Seq-id': {'Seq-id_gi': '351517545'}}}}}]}}], 'Gene-commentary_seqs': [{'Seq-loc_whole': {'Seq-id': {'Seq-id_gi': '625201659'}}}]}]}, {'Gene-commentary_type': StringElement('3', attributes={'value': 'mRNA'}), 'Gene-commentary_heading': 'Reference', 'Gene-commentary_label': 'transcript variant X2', 'Gene-commentary_accession': 'XM_007644356', 'Gene-commentary_version': '4', 'Gene-commentary_genomic-coords': [{'Seq-loc_mix': {'Seq-loc-mix': [{'Seq-loc_int': {'Seq-interval': {'Seq-interval_from': '490454', 'Seq-interval_to': '490672', 'Seq-interval_strand': {'Na-strand': StringElement('', attributes={'value': 'plus'})}, 'Seq-interval_id': {'Seq-id': {'Seq-id_gi': '351517545'}}}}}, {'Seq-loc_int': {'Seq-interval': {'Seq-interval_from': '491633', 'Seq-interval_to': '491891', 'Seq-interval_strand': {'Na-strand': StringElement('', attributes={'value': 'plus'})}, 'Seq-interval_id': {'Seq-id': {'Seq-id_gi': '351517545'}}}}}, {'Seq-loc_int': {'Seq-interval': {'Seq-interval_from': '492700', 'Seq-interval_to': '492866', 'Seq-interval_strand': {'Na-strand': StringElement('', attributes={'value': 'plus'})}, 'Seq-interval_id': {'Seq-id': {'Seq-id_gi': '351517545'}}}}}, {'Seq-loc_int': {'Seq-interval': {'Seq-interval_from': '496084', 'Seq-interval_to': '496217', 'Seq-interval_strand': {'Na-strand': StringElement('', attributes={'value': 'plus'})}, 'Seq-interval_id': {'Seq-id': {'Seq-id_gi': '351517545'}}}}}, {'Seq-loc_int': {'Seq-interval': {'Seq-interval_from': '498866', 'Seq-interval_to': '498997', 'Seq-interval_strand': {'Na-strand': StringElement('', attributes={'value': 'plus'})}, 'Seq-interval_id': {'Seq-id': {'Seq-id_gi': '351517545'}}}}}, {'Seq-loc_int': {'Seq-interval': {'Seq-interval_from': '502863', 'Seq-interval_to': '502929', 'Seq-interval_strand': {'Na-strand': StringElement('', attributes={'value': 'plus'})}, 'Seq-interval_id': {'Seq-id': {'Seq-id_gi': '351517545'}}}}}, {'Seq-loc_int': {'Seq-interval': {'Seq-interval_from': '504413', 'Seq-interval_to': '504473', 'Seq-interval_strand': {'Na-strand': StringElement('', attributes={'value': 'plus'})}, 'Seq-interval_id': {'Seq-id': {'Seq-id_gi': '351517545'}}}}}, {'Seq-loc_int': {'Seq-interval': {'Seq-interval_from': '513940', 'Seq-interval_to': '514000', 'Seq-interval_strand': {'Na-strand': StringElement('', attributes={'value': 'plus'})}, 'Seq-interval_id': {'Seq-id': {'Seq-id_gi': '351517545'}}}}}, {'Seq-loc_int': {'Seq-interval': {'Seq-interval_from': '515470', 'Seq-interval_to': '515583', 'Seq-interval_strand': {'Na-strand': StringElement('', attributes={'value': 'plus'})}, 'Seq-interval_id': {'Seq-id': {'Seq-id_gi': '351517545'}}}}}, {'Seq-loc_int': {'Seq-interval': {'Seq-interval_from': '521585', 'Seq-interval_to': '521741', 'Seq-interval_strand': {'Na-strand': StringElement('', attributes={'value': 'plus'})}, 'Seq-interval_id': {'Seq-id': {'Seq-id_gi': '351517545'}}}}}]}}], 'Gene-commentary_seqs': [{'Seq-loc_whole': {'Seq-id': {'Seq-id_gi': '1868057953'}}}], 'Gene-commentary_products': [{'Gene-commentary_type': StringElement('8', attributes={'value': 'peptide'}), 'Gene-commentary_heading': 'Reference', 'Gene-commentary_label': 'isoform X1', 'Gene-commentary_accession': 'XP_007642546', 'Gene-commentary_version': '1', 'Gene-commentary_genomic-coords': [{'Seq-loc_mix': {'Seq-loc-mix': [{'Seq-loc_int': {'Seq-interval': {'Seq-interval_from': '490555', 'Seq-interval_to': '490672', 'Seq-interval_strand': {'Na-strand': StringElement('', attributes={'value': 'plus'})}, 'Seq-interval_id': {'Seq-id': {'Seq-id_gi': '351517545'}}}}}, {'Seq-loc_int': {'Seq-interval': {'Seq-interval_from': '491633', 'Seq-interval_to': '491891', 'Seq-interval_strand': {'Na-strand': StringElement('', attributes={'value': 'plus'})}, 'Seq-interval_id': {'Seq-id': {'Seq-id_gi': '351517545'}}}}}, {'Seq-loc_int': {'Seq-interval': {'Seq-interval_from': '492700', 'Seq-interval_to': '492866', 'Seq-interval_strand': {'Na-strand': StringElement('', attributes={'value': 'plus'})}, 'Seq-interval_id': {'Seq-id': {'Seq-id_gi': '351517545'}}}}}, {'Seq-loc_int': {'Seq-interval': {'Seq-interval_from': '496084', 'Seq-interval_to': '496217', 'Seq-interval_strand': {'Na-strand': StringElement('', attributes={'value': 'plus'})}, 'Seq-interval_id': {'Seq-id': {'Seq-id_gi': '351517545'}}}}}, {'Seq-loc_int': {'Seq-interval': {'Seq-interval_from': '498866', 'Seq-interval_to': '498997', 'Seq-interval_strand': {'Na-strand': StringElement('', attributes={'value': 'plus'})}, 'Seq-interval_id': {'Seq-id': {'Seq-id_gi': '351517545'}}}}}, {'Seq-loc_int': {'Seq-interval': {'Seq-interval_from': '502863', 'Seq-interval_to': '502929', 'Seq-interval_strand': {'Na-strand': StringElement('', attributes={'value': 'plus'})}, 'Seq-interval_id': {'Seq-id': {'Seq-id_gi': '351517545'}}}}}, {'Seq-loc_int': {'Seq-interval': {'Seq-interval_from': '504413', 'Seq-interval_to': '504473', 'Seq-interval_strand': {'Na-strand': StringElement('', attributes={'value': 'plus'})}, 'Seq-interval_id': {'Seq-id': {'Seq-id_gi': '351517545'}}}}}, {'Seq-loc_int': {'Seq-interval': {'Seq-interval_from': '513940', 'Seq-interval_to': '514000', 'Seq-interval_strand': {'Na-strand': StringElement('', attributes={'value': 'plus'})}, 'Seq-interval_id': {'Seq-id': {'Seq-id_gi': '351517545'}}}}}, {'Seq-loc_int': {'Seq-interval': {'Seq-interval_from': '515470', 'Seq-interval_to': '515571', 'Seq-interval_strand': {'Na-strand': StringElement('', attributes={'value': 'plus'})}, 'Seq-interval_id': {'Seq-id': {'Seq-id_gi': '351517545'}}}}}]}}], 'Gene-commentary_seqs': [{'Seq-loc_whole': {'Seq-id': {'Seq-id_gi': '625201661'}}}]}]}, {'Gene-commentary_type': StringElement('3', attributes={'value': 'mRNA'}), 'Gene-commentary_heading': 'Reference', 'Gene-commentary_accession': 'NM_001244076', 'Gene-commentary_version': '1', 'Gene-commentary_genomic-coords': [{'Seq-loc_mix': {'Seq-loc-mix': [{'Seq-loc_int': {'Seq-interval': {'Seq-interval_from': '490469', 'Seq-interval_to': '490672', 'Seq-interval_strand': {'Na-strand': StringElement('', attributes={'value': 'plus'})}, 'Seq-interval_id': {'Seq-id': {'Seq-id_gi': '351517545'}}}}}, {'Seq-loc_int': {'Seq-interval': {'Seq-interval_from': '491633', 'Seq-interval_to': '491891', 'Seq-interval_strand': {'Na-strand': StringElement('', attributes={'value': 'plus'})}, 'Seq-interval_id': {'Seq-id': {'Seq-id_gi': '351517545'}}}}}, {'Seq-loc_int': {'Seq-interval': {'Seq-interval_from': '492700', 'Seq-interval_to': '492866', 'Seq-interval_strand': {'Na-strand': StringElement('', attributes={'value': 'plus'})}, 'Seq-interval_id': {'Seq-id': {'Seq-id_gi': '351517545'}}}}}, {'Seq-loc_int': {'Seq-interval': {'Seq-interval_from': '496084', 'Seq-interval_to': '496217', 'Seq-interval_strand': {'Na-strand': StringElement('', attributes={'value': 'plus'})}, 'Seq-interval_id': {'Seq-id': {'Seq-id_gi': '351517545'}}}}}, {'Seq-loc_int': {'Seq-interval': {'Seq-interval_from': '498866', 'Seq-interval_to': '498997', 'Seq-interval_strand': {'Na-strand': StringElement('', attributes={'value': 'plus'})}, 'Seq-interval_id': {'Seq-id': {'Seq-id_gi': '351517545'}}}}}, {'Seq-loc_int': {'Seq-interval': {'Seq-interval_from': '502863', 'Seq-interval_to': '502929', 'Seq-interval_strand': {'Na-strand': StringElement('', attributes={'value': 'plus'})}, 'Seq-interval_id': {'Seq-id': {'Seq-id_gi': '351517545'}}}}}, {'Seq-loc_int': {'Seq-interval': {'Seq-interval_from': '504413', 'Seq-interval_to': '504473', 'Seq-interval_strand': {'Na-strand': StringElement('', attributes={'value': 'plus'})}, 'Seq-interval_id': {'Seq-id': {'Seq-id_gi': '351517545'}}}}}, {'Seq-loc_int': {'Seq-interval': {'Seq-interval_from': '513940', 'Seq-interval_to': '514000', 'Seq-interval_strand': {'Na-strand': StringElement('', attributes={'value': 'plus'})}, 'Seq-interval_id': {'Seq-id': {'Seq-id_gi': '351517545'}}}}}, {'Seq-loc_int': {'Seq-interval': {'Seq-interval_from': '515470', 'Seq-interval_to': '515583', 'Seq-interval_strand': {'Na-strand': StringElement('', attributes={'value': 'plus'})}, 'Seq-interval_id': {'Seq-id': {'Seq-id_gi': '351517545'}}}}}, {'Seq-loc_int': {'Seq-interval': {'Seq-interval_from': '525920', 'Seq-interval_to': '526007', 'Seq-interval_strand': {'Na-strand': StringElement('', attributes={'value': 'plus'})}, 'Seq-interval_id': {'Seq-id': {'Seq-id_gi': '351517545'}}}}}]}}], 'Gene-commentary_seqs': [{'Seq-loc_whole': {'Seq-id': {'Seq-id_gi': '346644686'}}}], 'Gene-commentary_products': [{'Gene-commentary_type': StringElement('8', attributes={'value': 'peptide'}), 'Gene-commentary_heading': 'Reference', 'Gene-commentary_accession': 'NP_001231005', 'Gene-commentary_version': '1', 'Gene-commentary_genomic-coords': [{'Seq-loc_mix': {'Seq-loc-mix': [{'Seq-loc_int': {'Seq-interval': {'Seq-interval_from': '490555', 'Seq-interval_to': '490672', 'Seq-interval_strand': {'Na-strand': StringElement('', attributes={'value': 'plus'})}, 'Seq-interval_id': {'Seq-id': {'Seq-id_gi': '351517545'}}}}}, {'Seq-loc_int': {'Seq-interval': {'Seq-interval_from': '491633', 'Seq-interval_to': '491891', 'Seq-interval_strand': {'Na-strand': StringElement('', attributes={'value': 'plus'})}, 'Seq-interval_id': {'Seq-id': {'Seq-id_gi': '351517545'}}}}}, {'Seq-loc_int': {'Seq-interval': {'Seq-interval_from': '492700', 'Seq-interval_to': '492866', 'Seq-interval_strand': {'Na-strand': StringElement('', attributes={'value': 'plus'})}, 'Seq-interval_id': {'Seq-id': {'Seq-id_gi': '351517545'}}}}}, {'Seq-loc_int': {'Seq-interval': {'Seq-interval_from': '496084', 'Seq-interval_to': '496217', 'Seq-interval_strand': {'Na-strand': StringElement('', attributes={'value': 'plus'})}, 'Seq-interval_id': {'Seq-id': {'Seq-id_gi': '351517545'}}}}}, {'Seq-loc_int': {'Seq-interval': {'Seq-interval_from': '498866', 'Seq-interval_to': '498997', 'Seq-interval_strand': {'Na-strand': StringElement('', attributes={'value': 'plus'})}, 'Seq-interval_id': {'Seq-id': {'Seq-id_gi': '351517545'}}}}}, {'Seq-loc_int': {'Seq-interval': {'Seq-interval_from': '502863', 'Seq-interval_to': '502929', 'Seq-interval_strand': {'Na-strand': StringElement('', attributes={'value': 'plus'})}, 'Seq-interval_id': {'Seq-id': {'Seq-id_gi': '351517545'}}}}}, {'Seq-loc_int': {'Seq-interval': {'Seq-interval_from': '504413', 'Seq-interval_to': '504473', 'Seq-interval_strand': {'Na-strand': StringElement('', attributes={'value': 'plus'})}, 'Seq-interval_id': {'Seq-id': {'Seq-id_gi': '351517545'}}}}}, {'Seq-loc_int': {'Seq-interval': {'Seq-interval_from': '513940', 'Seq-interval_to': '514000', 'Seq-interval_strand': {'Na-strand': StringElement('', attributes={'value': 'plus'})}, 'Seq-interval_id': {'Seq-id': {'Seq-id_gi': '351517545'}}}}}, {'Seq-loc_int': {'Seq-interval': {'Seq-interval_from': '515470', 'Seq-interval_to': '515571', 'Seq-interval_strand': {'Na-strand': StringElement('', attributes={'value': 'plus'})}, 'Seq-interval_id': {'Seq-id': {'Seq-id_gi': '351517545'}}}}}]}}], 'Gene-commentary_seqs': [{'Seq-loc_whole': {'Seq-id': {'Seq-id_gi': '346644687'}}}]}]}]"
      ]
     },
     "execution_count": 47,
     "metadata": {},
     "output_type": "execute_result"
    }
   ],
   "source": [
    "gene_record[0]['Entrezgene_locus'][0]['Gene-commentary_products']"
   ]
  },
  {
   "cell_type": "code",
   "execution_count": 39,
   "id": "90b61225",
   "metadata": {},
   "outputs": [
    {
     "ename": "HTTPError",
     "evalue": "HTTP Error 400: Bad Request",
     "output_type": "error",
     "traceback": [
      "\u001b[1;31m---------------------------------------------------------------------------\u001b[0m",
      "\u001b[1;31mHTTPError\u001b[0m                                 Traceback (most recent call last)",
      "\u001b[1;32mc:\\Users\\a.antonakoudis\\OneDrive - Sartorius Corporate Administration GmbH\\Documents\\Projects\\UCSD Project\\Whole-Cell-Network-Reconstruction-for-CHO-cells-2\\Notebooks\\Genes.ipynb Cell 23\u001b[0m line \u001b[0;36m1\n\u001b[1;32m----> <a href='vscode-notebook-cell:/c%3A/Users/a.antonakoudis/OneDrive%20-%20Sartorius%20Corporate%20Administration%20GmbH/Documents/Projects/UCSD%20Project/Whole-Cell-Network-Reconstruction-for-CHO-cells-2/Notebooks/Genes.ipynb#X33sZmlsZQ%3D%3D?line=0'>1</a>\u001b[0m handle \u001b[39m=\u001b[39m Entrez\u001b[39m.\u001b[39;49mefetch(db\u001b[39m=\u001b[39;49m\u001b[39m\"\u001b[39;49m\u001b[39mprotein\u001b[39;49m\u001b[39m\"\u001b[39;49m, \u001b[39mid\u001b[39;49m\u001b[39m=\u001b[39;49mprotein_NP_weirdName, rettype\u001b[39m=\u001b[39;49m\u001b[39m\"\u001b[39;49m\u001b[39mfasta\u001b[39;49m\u001b[39m\"\u001b[39;49m)\n\u001b[0;32m      <a href='vscode-notebook-cell:/c%3A/Users/a.antonakoudis/OneDrive%20-%20Sartorius%20Corporate%20Administration%20GmbH/Documents/Projects/UCSD%20Project/Whole-Cell-Network-Reconstruction-for-CHO-cells-2/Notebooks/Genes.ipynb#X33sZmlsZQ%3D%3D?line=1'>2</a>\u001b[0m record \u001b[39m=\u001b[39m handle\u001b[39m.\u001b[39mread()\n\u001b[0;32m      <a href='vscode-notebook-cell:/c%3A/Users/a.antonakoudis/OneDrive%20-%20Sartorius%20Corporate%20Administration%20GmbH/Documents/Projects/UCSD%20Project/Whole-Cell-Network-Reconstruction-for-CHO-cells-2/Notebooks/Genes.ipynb#X33sZmlsZQ%3D%3D?line=2'>3</a>\u001b[0m amino_acid_sequence \u001b[39m=\u001b[39m \u001b[39m'\u001b[39m\u001b[39m'\u001b[39m\u001b[39m.\u001b[39mjoin(record\u001b[39m.\u001b[39msplit(\u001b[39m'\u001b[39m\u001b[39m\\n\u001b[39;00m\u001b[39m'\u001b[39m)[\u001b[39m1\u001b[39m:])\n",
      "File \u001b[1;32mc:\\Users\\a.antonakoudis\\AppData\\Local\\anaconda3\\envs\\UCSD_GEM\\lib\\site-packages\\Bio\\Entrez\\__init__.py:196\u001b[0m, in \u001b[0;36mefetch\u001b[1;34m(db, **keywords)\u001b[0m\n\u001b[0;32m    194\u001b[0m variables\u001b[39m.\u001b[39mupdate(keywords)\n\u001b[0;32m    195\u001b[0m request \u001b[39m=\u001b[39m _build_request(cgi, variables)\n\u001b[1;32m--> 196\u001b[0m \u001b[39mreturn\u001b[39;00m _open(request)\n",
      "File \u001b[1;32mc:\\Users\\a.antonakoudis\\AppData\\Local\\anaconda3\\envs\\UCSD_GEM\\lib\\site-packages\\Bio\\Entrez\\__init__.py:594\u001b[0m, in \u001b[0;36m_open\u001b[1;34m(request)\u001b[0m\n\u001b[0;32m    592\u001b[0m \u001b[39mfor\u001b[39;00m i \u001b[39min\u001b[39;00m \u001b[39mrange\u001b[39m(max_tries):\n\u001b[0;32m    593\u001b[0m     \u001b[39mtry\u001b[39;00m:\n\u001b[1;32m--> 594\u001b[0m         handle \u001b[39m=\u001b[39m urlopen(request)\n\u001b[0;32m    595\u001b[0m     \u001b[39mexcept\u001b[39;00m HTTPError \u001b[39mas\u001b[39;00m exception:\n\u001b[0;32m    596\u001b[0m         \u001b[39m# Reraise if the final try fails\u001b[39;00m\n\u001b[0;32m    597\u001b[0m         \u001b[39mif\u001b[39;00m i \u001b[39m>\u001b[39m\u001b[39m=\u001b[39m max_tries \u001b[39m-\u001b[39m \u001b[39m1\u001b[39m:\n",
      "File \u001b[1;32mc:\\Users\\a.antonakoudis\\AppData\\Local\\anaconda3\\envs\\UCSD_GEM\\lib\\urllib\\request.py:214\u001b[0m, in \u001b[0;36murlopen\u001b[1;34m(url, data, timeout, cafile, capath, cadefault, context)\u001b[0m\n\u001b[0;32m    212\u001b[0m \u001b[39melse\u001b[39;00m:\n\u001b[0;32m    213\u001b[0m     opener \u001b[39m=\u001b[39m _opener\n\u001b[1;32m--> 214\u001b[0m \u001b[39mreturn\u001b[39;00m opener\u001b[39m.\u001b[39;49mopen(url, data, timeout)\n",
      "File \u001b[1;32mc:\\Users\\a.antonakoudis\\AppData\\Local\\anaconda3\\envs\\UCSD_GEM\\lib\\urllib\\request.py:523\u001b[0m, in \u001b[0;36mOpenerDirector.open\u001b[1;34m(self, fullurl, data, timeout)\u001b[0m\n\u001b[0;32m    521\u001b[0m \u001b[39mfor\u001b[39;00m processor \u001b[39min\u001b[39;00m \u001b[39mself\u001b[39m\u001b[39m.\u001b[39mprocess_response\u001b[39m.\u001b[39mget(protocol, []):\n\u001b[0;32m    522\u001b[0m     meth \u001b[39m=\u001b[39m \u001b[39mgetattr\u001b[39m(processor, meth_name)\n\u001b[1;32m--> 523\u001b[0m     response \u001b[39m=\u001b[39m meth(req, response)\n\u001b[0;32m    525\u001b[0m \u001b[39mreturn\u001b[39;00m response\n",
      "File \u001b[1;32mc:\\Users\\a.antonakoudis\\AppData\\Local\\anaconda3\\envs\\UCSD_GEM\\lib\\urllib\\request.py:632\u001b[0m, in \u001b[0;36mHTTPErrorProcessor.http_response\u001b[1;34m(self, request, response)\u001b[0m\n\u001b[0;32m    629\u001b[0m \u001b[39m# According to RFC 2616, \"2xx\" code indicates that the client's\u001b[39;00m\n\u001b[0;32m    630\u001b[0m \u001b[39m# request was successfully received, understood, and accepted.\u001b[39;00m\n\u001b[0;32m    631\u001b[0m \u001b[39mif\u001b[39;00m \u001b[39mnot\u001b[39;00m (\u001b[39m200\u001b[39m \u001b[39m<\u001b[39m\u001b[39m=\u001b[39m code \u001b[39m<\u001b[39m \u001b[39m300\u001b[39m):\n\u001b[1;32m--> 632\u001b[0m     response \u001b[39m=\u001b[39m \u001b[39mself\u001b[39;49m\u001b[39m.\u001b[39;49mparent\u001b[39m.\u001b[39;49merror(\n\u001b[0;32m    633\u001b[0m         \u001b[39m'\u001b[39;49m\u001b[39mhttp\u001b[39;49m\u001b[39m'\u001b[39;49m, request, response, code, msg, hdrs)\n\u001b[0;32m    635\u001b[0m \u001b[39mreturn\u001b[39;00m response\n",
      "File \u001b[1;32mc:\\Users\\a.antonakoudis\\AppData\\Local\\anaconda3\\envs\\UCSD_GEM\\lib\\urllib\\request.py:561\u001b[0m, in \u001b[0;36mOpenerDirector.error\u001b[1;34m(self, proto, *args)\u001b[0m\n\u001b[0;32m    559\u001b[0m \u001b[39mif\u001b[39;00m http_err:\n\u001b[0;32m    560\u001b[0m     args \u001b[39m=\u001b[39m (\u001b[39mdict\u001b[39m, \u001b[39m'\u001b[39m\u001b[39mdefault\u001b[39m\u001b[39m'\u001b[39m, \u001b[39m'\u001b[39m\u001b[39mhttp_error_default\u001b[39m\u001b[39m'\u001b[39m) \u001b[39m+\u001b[39m orig_args\n\u001b[1;32m--> 561\u001b[0m     \u001b[39mreturn\u001b[39;00m \u001b[39mself\u001b[39;49m\u001b[39m.\u001b[39;49m_call_chain(\u001b[39m*\u001b[39;49margs)\n",
      "File \u001b[1;32mc:\\Users\\a.antonakoudis\\AppData\\Local\\anaconda3\\envs\\UCSD_GEM\\lib\\urllib\\request.py:494\u001b[0m, in \u001b[0;36mOpenerDirector._call_chain\u001b[1;34m(self, chain, kind, meth_name, *args)\u001b[0m\n\u001b[0;32m    492\u001b[0m \u001b[39mfor\u001b[39;00m handler \u001b[39min\u001b[39;00m handlers:\n\u001b[0;32m    493\u001b[0m     func \u001b[39m=\u001b[39m \u001b[39mgetattr\u001b[39m(handler, meth_name)\n\u001b[1;32m--> 494\u001b[0m     result \u001b[39m=\u001b[39m func(\u001b[39m*\u001b[39;49margs)\n\u001b[0;32m    495\u001b[0m     \u001b[39mif\u001b[39;00m result \u001b[39mis\u001b[39;00m \u001b[39mnot\u001b[39;00m \u001b[39mNone\u001b[39;00m:\n\u001b[0;32m    496\u001b[0m         \u001b[39mreturn\u001b[39;00m result\n",
      "File \u001b[1;32mc:\\Users\\a.antonakoudis\\AppData\\Local\\anaconda3\\envs\\UCSD_GEM\\lib\\urllib\\request.py:641\u001b[0m, in \u001b[0;36mHTTPDefaultErrorHandler.http_error_default\u001b[1;34m(self, req, fp, code, msg, hdrs)\u001b[0m\n\u001b[0;32m    640\u001b[0m \u001b[39mdef\u001b[39;00m \u001b[39mhttp_error_default\u001b[39m(\u001b[39mself\u001b[39m, req, fp, code, msg, hdrs):\n\u001b[1;32m--> 641\u001b[0m     \u001b[39mraise\u001b[39;00m HTTPError(req\u001b[39m.\u001b[39mfull_url, code, msg, hdrs, fp)\n",
      "\u001b[1;31mHTTPError\u001b[0m: HTTP Error 400: Bad Request"
     ]
    }
   ],
   "source": [
    "handle = Entrez.efetch(db=\"protein\", id=protein_NP_weirdName, rettype=\"fasta\")\n",
    "record = handle.read()\n",
    "amino_acid_sequence = ''.join(record.split('\\n')[1:])\n",
    "amino_acid_sequence"
   ]
  },
  {
   "cell_type": "code",
   "execution_count": 26,
   "id": "20309e63",
   "metadata": {},
   "outputs": [
    {
     "data": {
      "text/plain": [
       "'MMKRQLHRMRQLAHTGSLGRTPETAEFLGEDLLQVEQRLEPAKRAAHNVHKRLQACLQGQSGADMDKRVKKLPLMALSTTMAESFKELDPDSSMGKALEMSCAIQNQLARILAEFEMTLERDVLQPLSRLSEEELPAILKHKKSLQKLVSDWNTLKSRLSQAAKNSGSSQGLGGGPSSHSHITTANKVETLKEEEEELKKKVEQCKDEYLADLYHFTTKEDSYANYFIHLLEIQADYHRRSLTSLDTALAELRDNHSQADLSPLMVAAPISRVYGVSLRTHLEELGRDIALPIEACVLMLLSEGMQEEGLFRLAAGASVLKRLKQTMASDPHSLEEFCSDPHAVAGALKSYLRELPEPLMTSDLYDDWMRAASLKEPGARLEALRDVCSRLPQENFSNLRYLMKFLALLAEEQEVNKMTPSNIAIVLGPNLLWPPEKEGDQTQLDAASVSSIQVVGVVEALIQNAETLFPGDINFSVSGIFSALAPQEKVSSQRTSEELPPAAAPTPAATPVPASTAVKERTESDLPKPASPKVSRSPMEMVASAEDMTRRTKRPAPARPTMPPPQPSSTRSSPPAPPLPPGSSSPGTPQALPRRLVGTSLRAPTVPPPLPPVPPQPARRQSRRLPASPSPASPGPVISNMPAQVDQGMAIEDRGGPEAVGGHPTPPVLPPQPRPRGLTSETD'"
      ]
     },
     "metadata": {},
     "output_type": "display_data"
    }
   ],
   "source": [
    "handle = Entrez.efetch(db=\"protein\", id='XP_016835084', rettype=\"fasta\")\n",
    "record = handle.read()\n",
    "amino_acid_sequence = ''.join(record.split('\\n')[1:])\n",
    "display(amino_acid_sequence)"
   ]
  },
  {
   "cell_type": "code",
   "execution_count": 9,
   "id": "61015c42",
   "metadata": {},
   "outputs": [],
   "source": [
    "import pandas as pd\n",
    "All_Genes = pd.DataFrame()\n",
    "\n",
    "for i in range(1000, 35000, 1000):\n",
    "    Genes_temp = pd.read_excel('GeneIDs_' + str(i) + '.xlsx')\n",
    "    All_Genes = pd.concat([All_Genes, Genes_temp], ignore_index=True)\n",
    "All_Genes.to_excel('All_Genes.xlsx', index=False)"
   ]
  }
 ],
 "metadata": {
  "kernelspec": {
   "display_name": "Python 3 (ipykernel)",
   "language": "python",
   "name": "python3"
  },
  "language_info": {
   "codemirror_mode": {
    "name": "ipython",
    "version": 3
   },
   "file_extension": ".py",
   "mimetype": "text/x-python",
   "name": "python",
   "nbconvert_exporter": "python",
   "pygments_lexer": "ipython3",
   "version": "3.9.16"
  },
  "toc": {
   "base_numbering": 1,
   "nav_menu": {},
   "number_sections": true,
   "sideBar": true,
   "skip_h1_title": false,
   "title_cell": "Table of Contents",
   "title_sidebar": "Contents",
   "toc_cell": false,
   "toc_position": {},
   "toc_section_display": true,
   "toc_window_display": false
  }
 },
 "nbformat": 4,
 "nbformat_minor": 5
}
