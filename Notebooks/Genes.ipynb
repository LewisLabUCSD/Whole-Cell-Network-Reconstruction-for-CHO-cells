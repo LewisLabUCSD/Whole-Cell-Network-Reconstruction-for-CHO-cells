{
 "cells": [
  {
   "cell_type": "markdown",
   "id": "57a5e96e",
   "metadata": {},
   "source": [
    "# Whole Cell Network Reconstruction in CHO Cells\n",
    "The following notebook retrieves and updates information in the \"Whole Cell Network Reconstruction for CHO Cells\" Google Sheet file."
   ]
  },
  {
   "cell_type": "markdown",
   "id": "ac38d2d7",
   "metadata": {},
   "source": [
    "### 1. Access and retrieve information from the Google Sheet file through the Google Sheet API\n",
    "Using the gspread library we can access the Google Sheet file and create a pandas df to visualize it."
   ]
  },
  {
   "cell_type": "code",
   "execution_count": null,
   "id": "08228a07",
   "metadata": {},
   "outputs": [],
   "source": [
    "import gspread\n",
    "import pandas as pd\n",
    "import numpy as np\n",
    "import time\n",
    "from tqdm.notebook import tqdm\n",
    "\n",
    "from google_sheet import GoogleSheet\n",
    "from utils import get_gene_info"
   ]
  },
  {
   "cell_type": "code",
   "execution_count": null,
   "id": "19d8026b",
   "metadata": {},
   "outputs": [],
   "source": [
    "KEY_FILE_PATH = 'credentials.json'\n",
    "SPREADSHEET_ID = '1MlBXeHIKw8k8fZyXm-sN__AHTRSunJxar_-bqvukZws'\n",
    "\n",
    "# Initialize the GoogleSheet object\n",
    "sheet = GoogleSheet(SPREADSHEET_ID, KEY_FILE_PATH)\n",
    "\n",
    "# Read data from the Google Sheet\n",
    "sheet_rxns = 'Rxns'\n",
    "sheet_genes = 'Genes'\n",
    "\n",
    "rxns = sheet.read_google_sheet(sheet_rxns)\n",
    "genes = sheet.read_google_sheet(sheet_genes)"
   ]
  },
  {
   "cell_type": "code",
   "execution_count": null,
   "id": "1672c4ba",
   "metadata": {},
   "outputs": [],
   "source": [
    "rxns"
   ]
  },
  {
   "cell_type": "markdown",
   "id": "de13c811",
   "metadata": {},
   "source": [
    "### 2. Add information to the \"Genes\" sheet"
   ]
  },
  {
   "cell_type": "markdown",
   "id": "432f5744",
   "metadata": {},
   "source": [
    "Using a list of all the genes included in the dataset we can retrieve information from the NIH database regarding Gene Symbol, Gene Name, Gene Ensembl ID, and mRNA ID and protein ID"
   ]
  },
  {
   "cell_type": "code",
   "execution_count": null,
   "id": "b0f61d39",
   "metadata": {},
   "outputs": [],
   "source": [
    "# Generation of gene_list from all the genes in the \"Whole Cell Network Reconstruction in CHO Cells\" dataset\n",
    "import re\n",
    "\n",
    "gene_list = []\n",
    "for index, row in rxns.iterrows():\n",
    "    if row['GPR_final'] != '':\n",
    "        gpr = str(row['GPR_final'])\n",
    "        num = re.findall(r'\\d+', gpr)\n",
    "        for n in num:\n",
    "            gene_list.append(n)\n",
    "        \n",
    "gene_list = list(set(gene_list))"
   ]
  },
  {
   "cell_type": "code",
   "execution_count": null,
   "id": "63ecb5f9",
   "metadata": {},
   "outputs": [],
   "source": [
    "gene_list"
   ]
  },
  {
   "cell_type": "code",
   "execution_count": null,
   "id": "236d1799",
   "metadata": {},
   "outputs": [],
   "source": [
    "import time\n",
    "from Bio.Entrez.Parser import ValidationError\n",
    "\n",
    "for g in tqdm(gene_list):\n",
    "    if g not in list(genes['Gene Entrez ID']):\n",
    "        retry = True\n",
    "        while retry:\n",
    "            try:\n",
    "                print(g)\n",
    "                gene_symbol, gene_name, gene_description, picr_ensembl_id, chok1gs_ensembl_id, mRNA_ncbi_id, protein_ncbi_id, go_terms = get_gene_info(g)\n",
    "                new_row_data = {'Gene Entrez ID': g, 'Gene Symbol': gene_symbol, 'Gene Name': gene_name, 'Gene Description': gene_description,\n",
    "                                'PICR Ensembl ID': picr_ensembl_id, 'CHOK1GS Ensembl ID': chok1gs_ensembl_id, 'Transcript ID': mRNA_ncbi_id,\n",
    "                                'Protein ID': protein_ncbi_id, 'GO Terms': go_terms}\n",
    "                new_row_df = pd.DataFrame(new_row_data, index=[len(genes)])\n",
    "                genes = pd.concat([genes, new_row_df])\n",
    "                retry = False\n",
    "            except ValidationError:\n",
    "                print(f'Gene {g} not found')\n",
    "                retry = False\n",
    "                continue\n",
    "            except HTTPError:\n",
    "                print(f'HTTP Error, retrying with gene {g}')\n",
    "                time.sleep(1)"
   ]
  },
  {
   "cell_type": "code",
   "execution_count": null,
   "id": "b810d3c0",
   "metadata": {},
   "outputs": [],
   "source": [
    "genes"
   ]
  },
  {
   "cell_type": "code",
   "execution_count": null,
   "id": "a459ea77",
   "metadata": {},
   "outputs": [],
   "source": [
    "sheet.update_google_sheet(sheet_genes, genes)\n",
    "print(\"Google Sheet updated.\")"
   ]
  },
  {
   "cell_type": "code",
   "execution_count": null,
   "id": "2f3b506a",
   "metadata": {},
   "outputs": [],
   "source": [
    "for g in tqdm(gene_list):\n",
    "    if g not in list(genes['Gene Entrez ID']):\n",
    "        try:\n",
    "            gene_symbol, gene_name, gene_description, picr_ensembl_id, chok1gs_ensembl_id, mRNA_ncbi_id, protein_ncbi_id, go_terms = get_gene_info(g)\n",
    "            new_row_data = {'Gene Entrez ID': g, 'Gene Symbol': gene_symbol, 'Gene Name': gene_name, 'Gene Description': gene_description,\n",
    "                            'PICR Ensembl ID': picr_ensembl_id, 'CHOK1GS Ensembl ID': chok1gs_ensembl_id, 'Transcript ID': mRNA_ncbi_id,\n",
    "                            'Protein ID': protein_ncbi_id, 'GO Terms': go_terms}\n",
    "            new_row_df = pd.DataFrame(new_row_data, index=[len(genes)])\n",
    "            genes = pd.concat([genes, new_row_df])\n",
    "        except KeyError:\n",
    "            print(f'Gene {g} not found')\n",
    "            continue"
   ]
  },
  {
   "cell_type": "code",
   "execution_count": null,
   "id": "3dfcbfb5",
   "metadata": {},
   "outputs": [],
   "source": [
    "# Fetch information from the NIH database\n",
    "\n",
    "\n",
    "# Complete null or blank information in the already generated \"Genes Sheet\" dataset\n",
    "for i,row in genes.iterrows():\n",
    "    if row['Gene Entrez ID'] == '':\n",
    "        for g in gene_list:\n",
    "            gene_sheet_list = [str(x) for x in genes['Gene Entrez ID']]\n",
    "            if g not in gene_sheet_list:\n",
    "                gene_symbol, gene_name, gene_description, picr_ensembl_id, chok1gs_ensembl_id, mRNA_ncbi_id, protein_ncbi_id, go_terms = get_gene_info(g)\n",
    "                row['Gene Entrez ID'] = g\n",
    "                row['Gene Symbol'] = gene_symbol\n",
    "                row['Gene Name'] = gene_name\n",
    "                row['Gene Description'] = gene_description\n",
    "                row['PICR Ensembl ID'] = picr_ensembl_id\n",
    "                row['CHOK1GS Ensembl ID'] = chok1gs_ensembl_id\n",
    "                row['Transcript ID'] = mRNA_ncbi_id\n",
    "                row['Protein ID'] = protein_ncbi_id\n",
    "                row['GO Terms'] = go_terms\n",
    "                break          \n",
    "    elif row['Gene Entrez ID'] != '' and (row['Gene Symbol'] == '' or row['Gene Name'] == '' or row['PICR Ensembl ID'] == '' or row['Transcript ID'] == '' or row['Protein ID'] == ''):\n",
    "        row['Gene Symbol'] = gene_symbol\n",
    "        row['Gene Name'] = gene_name\n",
    "        row['Gene Description'] = gene_description\n",
    "        row['PICR Ensembl ID'] = picr_ensembl_id\n",
    "        row['CHOK1GS Ensembl ID'] = chok1gs_ensembl_id\n",
    "        row['Transcript ID'] = mRNA_ncbi_id\n",
    "        row['Protein ID'] = protein_ncbi_id\n",
    "        row['GO Terms'] = go_terms\n",
    "'''\n",
    "# Add genes from the gene_list that are not yet in the \"Genes Sheet\" dataset\n",
    "for g in gene_list:\n",
    "    # the first try/except is to avoid overwritting data in case there already some info in the dataset\n",
    "    try:\n",
    "        gene_sheet_list = [str(x) for x in df['Gene Entrez ID']]\n",
    "        id = max(df['Index']) + 2\n",
    "    except:\n",
    "        gene_sheet_list = []\n",
    "        id = 2\n",
    "    if gene not in gene_sheet_list:\n",
    "        try:\n",
    "            gene_symbol, gene_name, gene_description, picr_ensembl_id, chok1gs_ensembl_id, mRNA_ncbi_id, protein_ncbi_id, go_terms = get_gene_info(gene)\n",
    "            print(id-1)\n",
    "            genes_sheet.update_cell(id,1,id-1)\n",
    "            time.sleep(5)\n",
    "            genes_sheet.update_cell(id,2,gene)\n",
    "            time.sleep(5)\n",
    "            genes_sheet.update_cell(id,3,gene_symbol)\n",
    "            time.sleep(5)\n",
    "            genes_sheet.update_cell(id,4,gene_name)\n",
    "            time.sleep(5)\n",
    "            genes_sheet.update_cell(id,5,gene_description)\n",
    "            time.sleep(5)\n",
    "            genes_sheet.update_cell(id,6,picr_ensembl_id)\n",
    "            time.sleep(5)\n",
    "            genes_sheet.update_cell(id,7,chok1gs_ensembl_id)\n",
    "            time.sleep(5)\n",
    "            genes_sheet.update_cell(id,8,mRNA_ncbi_id)\n",
    "            time.sleep(5)\n",
    "            genes_sheet.update_cell(id,9,protein_ncbi_id)\n",
    "            time.sleep(5)\n",
    "            genes_sheet.update_cell(id,10,go_terms)\n",
    "        except:\n",
    "            print('Google API quota exceeded')\n",
    "            time.sleep(5)\n",
    "            continue\n",
    "            \n",
    "'''"
   ]
  },
  {
   "cell_type": "code",
   "execution_count": null,
   "id": "f702b0d0",
   "metadata": {},
   "outputs": [],
   "source": [
    "genes"
   ]
  },
  {
   "cell_type": "code",
   "execution_count": null,
   "id": "73daf8e8",
   "metadata": {},
   "outputs": [],
   "source": [
    "get_gene_info('100750772')"
   ]
  },
  {
   "cell_type": "code",
   "execution_count": null,
   "id": "30b59d4d",
   "metadata": {},
   "outputs": [],
   "source": [
    "from Bio import Entrez\n",
    "Entrez.email = 'account1@theta-ocean-377718.iam.gserviceaccount.com'\n",
    "handle = Entrez.efetch(db='gene', id='3979190', retmode='xml')\n",
    "record = Entrez.read(handle)[0]\n",
    "\n",
    "#gene_name = record['Entrezgene_gene']['Gene-ref']['Gene-ref_desc']\n",
    "#gene_symbol = record['Entrezgene_gene']['Gene-ref']['Gene-ref_locus']\n",
    "\n",
    "human_handle = Entrez.efetch(db='gene', id='3979190', retmode='xml')\n",
    "human_record = Entrez.read(human_handle)[0]\n",
    "if 'Entrezgene_comments' in human_record and 'Gene-commentary_comment' in human_record['Entrezgene_comments'][0]:\n",
    "    human_gene_description = human_record['Entrezgene_comments'][0]['Gene-commentary_comment'][0]['String']\n",
    "elif 'Entrezgene_summary' in human_record:\n",
    "    human_gene_description = human_record['Entrezgene_summary']\n",
    "else:\n",
    "    human_gene_description = ''"
   ]
  }
 ],
 "metadata": {
  "kernelspec": {
   "display_name": "Python 3 (ipykernel)",
   "language": "python",
   "name": "python3"
  },
  "language_info": {
   "codemirror_mode": {
    "name": "ipython",
    "version": 3
   },
   "file_extension": ".py",
   "mimetype": "text/x-python",
   "name": "python",
   "nbconvert_exporter": "python",
   "pygments_lexer": "ipython3",
   "version": "3.10.8"
  },
  "toc": {
   "base_numbering": 1,
   "nav_menu": {},
   "number_sections": true,
   "sideBar": true,
   "skip_h1_title": false,
   "title_cell": "Table of Contents",
   "title_sidebar": "Contents",
   "toc_cell": false,
   "toc_position": {},
   "toc_section_display": true,
   "toc_window_display": false
  }
 },
 "nbformat": 4,
 "nbformat_minor": 5
}
