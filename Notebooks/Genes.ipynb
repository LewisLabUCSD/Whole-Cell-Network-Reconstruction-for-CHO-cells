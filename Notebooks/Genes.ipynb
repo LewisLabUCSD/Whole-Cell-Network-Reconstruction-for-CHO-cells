{
 "cells": [
  {
   "cell_type": "markdown",
   "id": "57a5e96e",
   "metadata": {},
   "source": [
    "# Genes\n",
    "The following notebook retrieves all the genes involved in the reactions from the **\"Rxns\" Sheet** in Google Sheet file. Then, information regarding the genes is retrieved from different databases and a **\"Genes\" Sheet** is generated and updated."
   ]
  },
  {
   "cell_type": "code",
   "execution_count": 1,
   "id": "08228a07",
   "metadata": {},
   "outputs": [],
   "source": [
    "import pandas as pd\n",
    "import numpy as np\n",
    "import time\n",
    "from tqdm.notebook import tqdm\n",
    "\n",
    "from google_sheet import GoogleSheet\n",
    "from utils import get_gene_info"
   ]
  },
  {
   "cell_type": "markdown",
   "id": "ac38d2d7",
   "metadata": {},
   "source": [
    "### 1. Generate \"rxns\" and \"genes\" datasets\n",
    "The \"rxns\" dataset contains all the reactions with their GPR associations. The \"genes\" dataset contains all the information of the genes/GPR involved in our reconstruction."
   ]
  },
  {
   "cell_type": "code",
   "execution_count": 2,
   "id": "19d8026b",
   "metadata": {},
   "outputs": [],
   "source": [
    "KEY_FILE_PATH = 'credentials.json'\n",
    "SPREADSHEET_ID = '1MlBXeHIKw8k8fZyXm-sN__AHTRSunJxar_-bqvukZws'\n",
    "\n",
    "# Initialize the GoogleSheet object\n",
    "sheet = GoogleSheet(SPREADSHEET_ID, KEY_FILE_PATH)\n",
    "\n",
    "# Read data from the Google Sheet\n",
    "sheet_rxns = 'Rxns'\n",
    "sheet_genes = 'Genes'\n",
    "\n",
    "rxns = sheet.read_google_sheet(sheet_rxns)\n",
    "genes = sheet.read_google_sheet(sheet_genes)"
   ]
  },
  {
   "cell_type": "markdown",
   "id": "de13c811",
   "metadata": {},
   "source": [
    "### 2. Create the a \"gene_list\" with all the genes involved in our reconstruction\n",
    "We extract the gene IDs from the GPR annotations in the **\"rxns\" df**. This information is only retrieved from the **GPR_final** column."
   ]
  },
  {
   "cell_type": "code",
   "execution_count": 3,
   "id": "b0f61d39",
   "metadata": {},
   "outputs": [
    {
     "data": {
      "text/plain": [
       "3045"
      ]
     },
     "execution_count": 3,
     "metadata": {},
     "output_type": "execute_result"
    }
   ],
   "source": [
    "# Generation of gene_list from all the genes in the \"Whole Cell Network Reconstruction in CHO Cells\" dataset\n",
    "import re\n",
    "\n",
    "gene_list = []\n",
    "human_gene_list = []\n",
    "for index, row in rxns.iterrows():\n",
    "    if row['GPR_final'] != '':\n",
    "        gprs = str(row['GPR_final'])\n",
    "        gpr = re.findall(r'\\b[hH]?\\d+\\b', gprs)\n",
    "        for g in gpr:\n",
    "            if g.lower().startswith('h'):  # we convert to lower case to catch both 'h' and 'H'\n",
    "                human_gene_list.append(int(g[1:]))  # remove 'h' and convert to int before appending\n",
    "            else:\n",
    "                gene_list.append(int(g))  # convert to int before appending\n",
    "\n",
    "gene_list = list(set(gene_list))\n",
    "len(gene_list)"
   ]
  },
  {
   "cell_type": "markdown",
   "id": "e9c5c853",
   "metadata": {},
   "source": [
    "### 3. Replace remaining Human Gene IDs in our dataset with CHO Gene IDs\n",
    "Using the **cho2human_mapping** file, we replace the Human gene IDs with those of CHO, these IDs were not spotted when we first added the Recon3D reactions."
   ]
  },
  {
   "cell_type": "code",
   "execution_count": 4,
   "id": "fd3c0d42",
   "metadata": {},
   "outputs": [
    {
     "data": {
      "text/plain": [
       "{}"
      ]
     },
     "execution_count": 4,
     "metadata": {},
     "output_type": "execute_result"
    }
   ],
   "source": [
    "# Build a dictionary with human gene IDs as keys and CHO gene IDs as values\n",
    "orthologs = pd.read_csv('../Data/Orthologs/cho2human_mapping.tsv', sep='\\t')\n",
    "human_to_cho_dict = dict(zip(orthologs['HUMAN_ID'], orthologs['CHO_ID']))\n",
    "\n",
    "def replace_human_ids_with_cho_ids(s):\n",
    "    replaced_dict = {}\n",
    "    if isinstance(s, str):\n",
    "        genes = re.findall(r'\\b[hH]?\\d+\\b', s)\n",
    "        for gene in genes:\n",
    "            if gene.lower().startswith('h'):  # if gene ID starts with 'h' or 'H'\n",
    "                human_id = int(gene[1:])  # remove 'h' and convert to int\n",
    "                if human_id in human_to_cho_dict:  # if human gene ID is in the dictionary\n",
    "                    cho_id = human_to_cho_dict[human_id]  # get corresponding CHO gene ID\n",
    "                    s = s.replace(gene, str(cho_id))  # replace human gene ID with CHO gene ID in the string\n",
    "                    replaced_dict[gene] = cho_id\n",
    "    return s, replaced_dict\n",
    "\n",
    "# Initialize a dictionary to store replacements\n",
    "replacements = {}\n",
    "\n",
    "# Apply the function and update the replacements dictionary\n",
    "for i in range(len(rxns)):\n",
    "    rxns.at[i, 'GPR_final'], replacements_dict = replace_human_ids_with_cho_ids(rxns.at[i, 'GPR_final'])\n",
    "    replacements.update(replacements_dict)\n",
    "\n",
    "# Now, 'replacements' is a dictionary where keys are the original gene IDs and values are the replaced CHO gene IDs\n",
    "replacements"
   ]
  },
  {
   "cell_type": "code",
   "execution_count": 5,
   "id": "cc309360",
   "metadata": {},
   "outputs": [
    {
     "name": "stdout",
     "output_type": "stream",
     "text": [
      "No changes to the original Rxns Sheet\n"
     ]
    }
   ],
   "source": [
    "######################################\n",
    "#### ---------------------------- ####\n",
    "#### ---- Update Rxns Sheet ----- ####\n",
    "#### ---------------------------- ####\n",
    "######################################\n",
    "if replacements:\n",
    "    sheet.update_google_sheet(sheet_rxns, rxns)\n",
    "    print(\"Google Sheet updated.\")\n",
    "elif not replacements:\n",
    "    print(\"No changes to the original Rxns Sheet\")"
   ]
  },
  {
   "cell_type": "markdown",
   "id": "ed00e36d",
   "metadata": {},
   "source": [
    "### 3. Add the genes from the \"gene_list\" to the genes df\n",
    "Using a list of all the genes included in the dataset we can retrieve information from the NIH database regarding Gene Symbol, Gene Name, Gene Ensembl ID, and mRNA ID and protein ID using the function get_gene_info()."
   ]
  },
  {
   "cell_type": "code",
   "execution_count": 7,
   "id": "236d1799",
   "metadata": {},
   "outputs": [
    {
     "data": {
      "application/vnd.jupyter.widget-view+json": {
       "model_id": "55622e982a4a4132a248114e9e6ca772",
       "version_major": 2,
       "version_minor": 0
      },
      "text/plain": [
       "  0%|          | 0/3045 [00:00<?, ?it/s]"
      ]
     },
     "metadata": {},
     "output_type": "display_data"
    },
    {
     "name": "stdout",
     "output_type": "stream",
     "text": [
      "30100754813\n",
      "Gene 30100754813 does not have PICR Ensembl ID\n",
      "Gene (30100754813, 'ycf15') is a Vitis cinerea Gene\n",
      "A total of 0 Genes were added to the dataset\n"
     ]
    }
   ],
   "source": [
    "import time\n",
    "from urllib.error import HTTPError\n",
    "from Bio.Entrez.Parser import ValidationError\n",
    "\n",
    "max_retries = 5  # Set the maximum number of retries\n",
    "c = 0\n",
    "\n",
    "for g in tqdm(gene_list):\n",
    "    if str(g) not in list(genes['Gene Entrez ID']):\n",
    "        retry = True\n",
    "        retries = 0\n",
    "        while retry:\n",
    "            try:\n",
    "                print(g)\n",
    "                organism, gene_symbol, gene_name, gene_description, picr_ensembl_id, chok1gs_ensembl_id, mRNA_ncbi_id, protein_ncbi_id, go_terms = get_gene_info(g)\n",
    "                if organism == 'Cricetulus griseus':\n",
    "                    new_row_data = {'Gene Entrez ID': g, 'Gene Symbol': gene_symbol, 'Gene Name': gene_name, 'Gene Description': gene_description,\n",
    "                                    'PICR Ensembl ID': picr_ensembl_id, 'CHOK1GS Ensembl ID': chok1gs_ensembl_id, 'Transcript ID': mRNA_ncbi_id,\n",
    "                                    'Protein ID': protein_ncbi_id, 'GO Terms': go_terms}\n",
    "                    new_row_df = pd.DataFrame(new_row_data, index=[len(genes)])\n",
    "                    genes = pd.concat([genes, new_row_df])\n",
    "                    c+=1\n",
    "                    retry = False\n",
    "                elif organism != 'Cricetulus griseus':\n",
    "                    print(f'Gene {g,gene_symbol} is a {organism} Gene')\n",
    "                    break\n",
    "            except ValidationError:\n",
    "                print(f'Gene {g} not found')\n",
    "                retry = False\n",
    "                continue\n",
    "            except HTTPError:\n",
    "                retries += 1\n",
    "                if retries > max_retries:\n",
    "                    print(f'HTTP Error, reached maximum retries ({max_retries}) for gene {g}')\n",
    "                    break\n",
    "                else:\n",
    "                    print(f'HTTP Error, retrying with gene {g}')\n",
    "                    time.sleep(1)\n",
    "                    \n",
    "print(f'A total of {c} Genes were added to the dataset')"
   ]
  },
  {
   "cell_type": "code",
   "execution_count": 8,
   "id": "b2abe8ec",
   "metadata": {},
   "outputs": [
    {
     "name": "stdout",
     "output_type": "stream",
     "text": [
      "No new genes added.\n",
      "No changes to the original Genes Sheet.\n"
     ]
    }
   ],
   "source": [
    "#######################################\n",
    "#### ----------------------------- ####\n",
    "#### ---- Update Genes Sheet ----- ####\n",
    "#### ----------------------------- ####\n",
    "#######################################\n",
    "if c > 0:\n",
    "    sheet.update_google_sheet(sheet_genes, genes)\n",
    "    print(\"Google Sheet updated.\")\n",
    "elif c == 0:\n",
    "    print(\"No new genes added.\")\n",
    "    print(\"No changes to the original Genes Sheet.\")"
   ]
  },
  {
   "cell_type": "markdown",
   "id": "c2218925",
   "metadata": {},
   "source": [
    "### 4. Eliminate unwanted genes\n",
    "We iterate over the entire dataset to spot **Human genes** in order to eliminate them"
   ]
  },
  {
   "cell_type": "code",
   "execution_count": null,
   "id": "b810d3c0",
   "metadata": {},
   "outputs": [],
   "source": [
    "# Make a copy of the DataFrame to avoid changing the original while iterating\n",
    "erased = 0\n",
    "genes_copy = genes.copy()\n",
    "\n",
    "for index, row in tqdm(genes.iterrows(), total=genes.shape[0]):\n",
    "    g = row['Gene Entrez ID']\n",
    "    retry = True\n",
    "    retries = 0\n",
    "    while retry:\n",
    "        try:\n",
    "            organism, gene_symbol, gene_name, gene_description, picr_ensembl_id, chok1gs_ensembl_id, mRNA_ncbi_id, protein_ncbi_id, go_terms = get_gene_info(g)\n",
    "            if organism == 'Homo sapiens':\n",
    "                genes_copy = genes_copy.drop(index)\n",
    "                print(f'Gene {g,gene_symbol} erased from dataset')\n",
    "                erased+=1\n",
    "                retry = False\n",
    "            else:\n",
    "                retry = False\n",
    "        except ValidationError:\n",
    "            print(f'Gene {g} not found')\n",
    "            retry = False\n",
    "            continue\n",
    "        except HTTPError:\n",
    "            retries += 1\n",
    "            if retries > max_retries:\n",
    "                print(f'HTTP Error, reached maximum retries ({max_retries}) for gene {g}')\n",
    "                break\n",
    "            else:\n",
    "                print(f'HTTP Error, retrying with gene {g}')\n",
    "                time.sleep(1)\n",
    "\n",
    "# Replace the original DataFrame with the updated one\n",
    "genes = genes_copy\n",
    "print(f'A total of {erased} Genes were erased from the original dataset')"
   ]
  },
  {
   "cell_type": "code",
   "execution_count": null,
   "id": "a459ea77",
   "metadata": {},
   "outputs": [],
   "source": [
    "#######################################\n",
    "#### ----------------------------- ####\n",
    "#### ---- Update Genes Sheet ----- ####\n",
    "#### ----------------------------- ####\n",
    "#######################################\n",
    "if erased > 0:\n",
    "    sheet.update_google_sheet(sheet_genes, genes)\n",
    "    print(\"Google Sheet updated.\")\n",
    "elif erased == 0:\n",
    "    print(\"No erased genes.\")\n",
    "    print(\"No changes to the original Genes Sheet.\")"
   ]
  },
  {
   "cell_type": "code",
   "execution_count": null,
   "id": "2f3b506a",
   "metadata": {},
   "outputs": [],
   "source": [
    "for g in tqdm(gene_list):\n",
    "    if g not in list(genes['Gene Entrez ID']):\n",
    "        try:\n",
    "            gene_symbol, gene_name, gene_description, picr_ensembl_id, chok1gs_ensembl_id, mRNA_ncbi_id, protein_ncbi_id, go_terms = get_gene_info(g)\n",
    "            new_row_data = {'Gene Entrez ID': g, 'Gene Symbol': gene_symbol, 'Gene Name': gene_name, 'Gene Description': gene_description,\n",
    "                            'PICR Ensembl ID': picr_ensembl_id, 'CHOK1GS Ensembl ID': chok1gs_ensembl_id, 'Transcript ID': mRNA_ncbi_id,\n",
    "                            'Protein ID': protein_ncbi_id, 'GO Terms': go_terms}\n",
    "            new_row_df = pd.DataFrame(new_row_data, index=[len(genes)])\n",
    "            genes = pd.concat([genes, new_row_df])\n",
    "        except KeyError:\n",
    "            print(f'Gene {g} not found')\n",
    "            continue"
   ]
  },
  {
   "cell_type": "code",
   "execution_count": null,
   "id": "3dfcbfb5",
   "metadata": {},
   "outputs": [],
   "source": [
    "# Fetch information from the NIH database\n",
    "\n",
    "\n",
    "# Complete null or blank information in the already generated \"Genes Sheet\" dataset\n",
    "for i,row in genes.iterrows():\n",
    "    if row['Gene Entrez ID'] == '':\n",
    "        for g in gene_list:\n",
    "            gene_sheet_list = [str(x) for x in genes['Gene Entrez ID']]\n",
    "            if g not in gene_sheet_list:\n",
    "                gene_symbol, gene_name, gene_description, picr_ensembl_id, chok1gs_ensembl_id, mRNA_ncbi_id, protein_ncbi_id, go_terms = get_gene_info(g)\n",
    "                row['Gene Entrez ID'] = g\n",
    "                row['Gene Symbol'] = gene_symbol\n",
    "                row['Gene Name'] = gene_name\n",
    "                row['Gene Description'] = gene_description\n",
    "                row['PICR Ensembl ID'] = picr_ensembl_id\n",
    "                row['CHOK1GS Ensembl ID'] = chok1gs_ensembl_id\n",
    "                row['Transcript ID'] = mRNA_ncbi_id\n",
    "                row['Protein ID'] = protein_ncbi_id\n",
    "                row['GO Terms'] = go_terms\n",
    "                break          \n",
    "    elif row['Gene Entrez ID'] != '' and (row['Gene Symbol'] == '' or row['Gene Name'] == '' or row['PICR Ensembl ID'] == '' or row['Transcript ID'] == '' or row['Protein ID'] == ''):\n",
    "        row['Gene Symbol'] = gene_symbol\n",
    "        row['Gene Name'] = gene_name\n",
    "        row['Gene Description'] = gene_description\n",
    "        row['PICR Ensembl ID'] = picr_ensembl_id\n",
    "        row['CHOK1GS Ensembl ID'] = chok1gs_ensembl_id\n",
    "        row['Transcript ID'] = mRNA_ncbi_id\n",
    "        row['Protein ID'] = protein_ncbi_id\n",
    "        row['GO Terms'] = go_terms\n",
    "'''\n",
    "# Add genes from the gene_list that are not yet in the \"Genes Sheet\" dataset\n",
    "for g in gene_list:\n",
    "    # the first try/except is to avoid overwritting data in case there already some info in the dataset\n",
    "    try:\n",
    "        gene_sheet_list = [str(x) for x in df['Gene Entrez ID']]\n",
    "        id = max(df['Index']) + 2\n",
    "    except:\n",
    "        gene_sheet_list = []\n",
    "        id = 2\n",
    "    if gene not in gene_sheet_list:\n",
    "        try:\n",
    "            gene_symbol, gene_name, gene_description, picr_ensembl_id, chok1gs_ensembl_id, mRNA_ncbi_id, protein_ncbi_id, go_terms = get_gene_info(gene)\n",
    "            print(id-1)\n",
    "            genes_sheet.update_cell(id,1,id-1)\n",
    "            time.sleep(5)\n",
    "            genes_sheet.update_cell(id,2,gene)\n",
    "            time.sleep(5)\n",
    "            genes_sheet.update_cell(id,3,gene_symbol)\n",
    "            time.sleep(5)\n",
    "            genes_sheet.update_cell(id,4,gene_name)\n",
    "            time.sleep(5)\n",
    "            genes_sheet.update_cell(id,5,gene_description)\n",
    "            time.sleep(5)\n",
    "            genes_sheet.update_cell(id,6,picr_ensembl_id)\n",
    "            time.sleep(5)\n",
    "            genes_sheet.update_cell(id,7,chok1gs_ensembl_id)\n",
    "            time.sleep(5)\n",
    "            genes_sheet.update_cell(id,8,mRNA_ncbi_id)\n",
    "            time.sleep(5)\n",
    "            genes_sheet.update_cell(id,9,protein_ncbi_id)\n",
    "            time.sleep(5)\n",
    "            genes_sheet.update_cell(id,10,go_terms)\n",
    "        except:\n",
    "            print('Google API quota exceeded')\n",
    "            time.sleep(5)\n",
    "            continue\n",
    "            \n",
    "'''"
   ]
  },
  {
   "cell_type": "code",
   "execution_count": null,
   "id": "f702b0d0",
   "metadata": {},
   "outputs": [],
   "source": [
    "genes"
   ]
  },
  {
   "cell_type": "code",
   "execution_count": null,
   "id": "73daf8e8",
   "metadata": {},
   "outputs": [],
   "source": [
    "get_gene_info('100750772')"
   ]
  },
  {
   "cell_type": "code",
   "execution_count": null,
   "id": "30b59d4d",
   "metadata": {},
   "outputs": [],
   "source": [
    "from Bio import Entrez\n",
    "Entrez.email = 'account1@theta-ocean-377718.iam.gserviceaccount.com'\n",
    "handle = Entrez.efetch(db='gene', id='3979190', retmode='xml')\n",
    "record = Entrez.read(handle)[0]\n",
    "\n",
    "#gene_name = record['Entrezgene_gene']['Gene-ref']['Gene-ref_desc']\n",
    "#gene_symbol = record['Entrezgene_gene']['Gene-ref']['Gene-ref_locus']\n",
    "\n",
    "human_handle = Entrez.efetch(db='gene', id='3979190', retmode='xml')\n",
    "human_record = Entrez.read(human_handle)[0]\n",
    "if 'Entrezgene_comments' in human_record and 'Gene-commentary_comment' in human_record['Entrezgene_comments'][0]:\n",
    "    human_gene_description = human_record['Entrezgene_comments'][0]['Gene-commentary_comment'][0]['String']\n",
    "elif 'Entrezgene_summary' in human_record:\n",
    "    human_gene_description = human_record['Entrezgene_summary']\n",
    "else:\n",
    "    human_gene_description = ''"
   ]
  },
  {
   "cell_type": "markdown",
   "id": "40d44cdb",
   "metadata": {},
   "source": [
    "#### Get the CHO genome and map the IDs"
   ]
  },
  {
   "cell_type": "code",
   "execution_count": 41,
   "id": "f04660af",
   "metadata": {},
   "outputs": [],
   "source": [
    "import pandas as pd\n",
    "from Bio import Entrez\n",
    "import math\n",
    "import time\n",
    "import ssl\n",
    "from urllib.error import HTTPError\n",
    "import socket\n",
    "from Bio.Entrez.Parser import CorruptedXMLError\n",
    "\n",
    "def get_uniprot_from_dict(dictionary, uniprotIDs, target_key, target_value1,  target_value2):\n",
    "    for key, value in dictionary.items():\n",
    "        if key == target_key and (value == target_value1 or value == target_value2):\n",
    "            uniprotIDs.append(dictionary.get('Dbtag_tag', {}).get('Object-id', {}).get('Object-id_str'))            \n",
    "        if isinstance(value, dict):\n",
    "            get_uniprot_from_dict(value, uniprotIDs, target_key, target_value1, target_value2)\n",
    "        elif isinstance(value, list):\n",
    "            for item in value:\n",
    "                if isinstance(item, dict):\n",
    "                    get_uniprot_from_dict(item, uniprotIDs, target_key, target_value1, target_value2)        \n",
    "    return uniprotIDs\n",
    "\n",
    "def get_human_mouse_orthologs(dictionary, orthologs, target_key, target_value1):\n",
    "    for key, value in dictionary.items():\n",
    "        if key == target_key and (value == target_value1):\n",
    "            orthologs.append(dictionary.get('Dbtag_tag', {}).get('Object-id', {}).get('Object-id_id'))        \n",
    "        if isinstance(value, dict):\n",
    "            get_human_mouse_orthologs(value, orthologs, target_key, target_value1)\n",
    "        elif isinstance(value, list):\n",
    "            for item in value:\n",
    "                if isinstance(item, dict):\n",
    "                    get_human_mouse_orthologs(item, orthologs, target_key, target_value1)        \n",
    "    return orthologs\n",
    "                    \n",
    "# Entrez.email = \"athand01@gmail.com\"\n",
    "Entrez.email = \"a.antonakoudis@sartorius.com\"\n",
    "u_g = pd.read_excel('../CHO_Genome.xlsx')\n",
    "GO_terms = pd.read_csv('orthologs&GO.txt')"
   ]
  },
  {
   "cell_type": "code",
   "execution_count": 192,
   "id": "e34657fb",
   "metadata": {},
   "outputs": [
    {
     "name": "stdout",
     "output_type": "stream",
     "text": [
      "GENE:  Slco1b3 ----- [] ----- 100774298 ----- solute carrier organic anion transporter family member 1B3 ----- This gene encodes a liver ... ----- ['GO:0055085', 'GO:002285 ... ----- [] ----- 14 ----- 8 ----- minus ----- 28234 ----- 28253\n",
      "XP_035312248\n",
      "ASSEMBLY SPECIFC GENE: S1, S2,  100774298 ----- NW_003613944 ----- 886110 ----- 936246 ----- XM_035456357 ----- Reference CriGri_1.0 Primary Assembly\n",
      "XP_035304859\n",
      "ASSEMBLY SPECIFC GENE: S1, S2,  100774298 ----- NC_048601 ----- 7490477 ----- 7541006 ----- XM_035448968 ----- Alternate CriGri-PICRH-1.0\n"
     ]
    }
   ],
   "source": [
    "gene_symbol_list = []\n",
    "\n",
    "gene_synoyms = []\n",
    "ncbi_protein_NP_weirdName = []\n",
    "ncbi_geneID_list = []\n",
    "ncbi_gene_exon_size = []\n",
    "# ncbi_genomic_location = []\n",
    "uniprot_IDs = []\n",
    "orthologs_genes = []\n",
    "orthologs_organism = []\n",
    "aa_sequences = []\n",
    "gene_record = []\n",
    "\n",
    "counter = 0\n",
    "# for gene_EntrezID in u_g['NCBI GeneID'][counter:1]:\n",
    "if True:\n",
    "    gene_EntrezID = 100774298\n",
    "    protein_NP_weirdName = []\n",
    "    if not math.isnan(gene_EntrezID):   \n",
    "        gene_EntrezID = int(gene_EntrezID)                  \n",
    "        max_retries = 3\n",
    "        retries = 0\n",
    "        gene_found = True\n",
    "        while retries < max_retries and gene_found:\n",
    "\n",
    "            try:\n",
    "\n",
    "                search_results = Entrez.esearch(db=\"gene\", term = gene_EntrezID)            \n",
    "                record = Entrez.read(search_results)\n",
    "\n",
    "                # Check if any gene records were found\n",
    "                if int(record[\"Count\"]) > 0:\n",
    "\n",
    "                    # Get the Gene ID of the first result\n",
    "                    gene_id = record[\"IdList\"][0]\n",
    "\n",
    "                    # Fetch the gene information, maximum 3 tries\n",
    "                    fetch_tries = 0\n",
    "                    fetch_found = True\n",
    "                    while fetch_tries < 3 and fetch_found:\n",
    "\n",
    "                        gene_info = Entrez.efetch(db=\"gene\", id=gene_id, retmode=\"xml\")           \n",
    "                        fetch_tries += 1\n",
    "                        try:\n",
    "                            gene_record = Entrez.read(gene_info)\n",
    "                            fetch_found = False\n",
    "                        except CorruptedXMLError as xml_error:\n",
    "                            time.sleep(3)\n",
    "                            fetch_tries += 1\n",
    "\n",
    "                    # Get the gene name and gene NCBI ID\n",
    "                    if 'Gene-ref_locus' in gene_record[0]['Entrezgene_gene']['Gene-ref']:\n",
    "                        gene_symbol = gene_record[0]['Entrezgene_gene']['Gene-ref']['Gene-ref_locus']                        \n",
    "                    else:\n",
    "                        gene_symbol = gene_record[0]['Entrezgene_gene']['Gene-ref']['Gene-ref_locus-tag']\n",
    "                \n",
    "                    # Get the Gene Synonyms\n",
    "                    if 'Gene-ref_syn' in gene_record[0]['Entrezgene_gene']['Gene-ref']:\n",
    "                        gene_synonyms = gene_record[0]['Entrezgene_gene']['Gene-ref']['Gene-ref_syn']\n",
    "                    else:\n",
    "                        gene_synonyms = []\n",
    "                    gene_ncbiID = gene_record[0]['Entrezgene_track-info']['Gene-track']['Gene-track_geneid']\n",
    "\n",
    "                    # Get the Gene Description\n",
    "\n",
    "                    # Get UniprotIDs\n",
    "                    gene_uniprotIDs = (get_uniprot_from_dict(gene_record[0], [], 'Dbtag_db', 'UniProtKB/TrEMBL', 'UniProtKB/Swiss-Prot'))\n",
    "\n",
    "                    # Get the Gene Name\n",
    "                    gene_name = gene_record[0]['Entrezgene_gene']['Gene-ref']['Gene-ref_desc']\n",
    "\n",
    "                    # Get the chromosome\n",
    "                    chromosome = int(gene_record[0]['Entrezgene_source']['BioSource']['BioSource_subtype'][0]['SubSource_name'])\n",
    "\n",
    "                    # Add sub-cellular localization\n",
    "                    # Add protein-protein interaction\n",
    "                    \n",
    "                    # Get the location in the genome\n",
    "                    # locus = gene_record[0].get('Entrezgene_locus', {})\n",
    "                    # start = locus[0]['Gene-commentary_seqs'][0]['Seq-loc_int']['Seq-interval']['Seq-interval_from']\n",
    "                    # end = locus[0]['Gene-commentary_seqs'][0]['Seq-loc_int']['Seq-interval']['Seq-interval_to']\n",
    "                    # gene_location = start\n",
    "\n",
    "                    # Get number of Exons\n",
    "                    exon_count = int(gene_record[0]['Entrezgene_properties'][0]['Gene-commentary_text'])\n",
    "\n",
    "                    # Get the Strand\n",
    "                    strand = gene_record[0]['Entrezgene_locus'][0]['Gene-commentary_seqs'][0]['Seq-loc_int']['Seq-interval']['Seq-interval_strand']['Na-strand'].attributes['value']\n",
    "                    \n",
    "                    # Get the gene weird NP name\n",
    "                    if 'Gene-commentary_products' in gene_record[0]['Entrezgene_locus'][0]:\n",
    "                        try:\n",
    "                            protein_NP_weirdName = gene_record[0]['Entrezgene_locus'][0]['Gene-commentary_products'][0]['Gene-commentary_products'][0]['Gene-commentary_accession']\n",
    "                            \n",
    "                        except:\n",
    "                            if 'Gene-commentary_accession' in gene_record[0]['Entrezgene_locus'][0]['Gene-commentary_products'][0]:\n",
    "                                protein_NP_weirdName = gene_record[0]['Entrezgene_locus'][0]['Gene-commentary_products'][0]['Gene-commentary_accession']\n",
    "                                \n",
    "                            else:\n",
    "                                if 'Gene-commentary_label' in gene_record[0]['Entrezgene_locus'][0]['Gene-commentary_products'][0]:\n",
    "                                    protein_NP_weirdName = gene_record[0]['Entrezgene_locus'][0]['Gene-commentary_products'][0]['Gene-commentary_label']\n",
    "                                else:\n",
    "                                    protein_NP_weirdName = '-----'\n",
    "                    else:\n",
    "                        protein_NP_weirdName = '-----'\n",
    "\n",
    "                    # Get Human and Mouse Orthologs\n",
    "                    orthologs_organism_list = []\n",
    "                    orthologs = []     \n",
    "                    if 'Entrezgene_comments' in gene_record[0]:\n",
    "                        for Entrezgene_comments_LOOP in gene_record[0]['Entrezgene_comments']:\n",
    "                            if 'Gene-commentary_comment' in Entrezgene_comments_LOOP:\n",
    "                                for Gene_commentary_comment_LOOP in Entrezgene_comments_LOOP['Gene-commentary_comment']:\n",
    "                                    if 'Gene-commentary_source' in Gene_commentary_comment_LOOP:\n",
    "                                        if 'Object-id_id' in Gene_commentary_comment_LOOP['Gene-commentary_source'][0]['Other-source_src']['Dbtag']['Dbtag_tag']['Object-id']:\n",
    "                                            orthologs.append(Gene_commentary_comment_LOOP['Gene-commentary_source'][0]['Other-source_src']['Dbtag']['Dbtag_tag']['Object-id']['Object-id_id'])\n",
    "                                        else:\n",
    "                                            orthologs.append(Gene_commentary_comment_LOOP['Gene-commentary_source'][0]['Other-source_src']['Dbtag']['Dbtag_tag']['Object-id']['Object-id_str'])\n",
    "                                        orthologs_organism_list.append(Gene_commentary_comment_LOOP['Gene-commentary_source'][0]['Other-source_anchor'])                    \n",
    "                    human_ortholog_EntrezID = orthologs[orthologs_organism_list.index('human')]\n",
    "                    mouse_ortholog_EntrezID = orthologs[orthologs_organism_list.index('mouse')]\n",
    "                    \n",
    "                    # Get Gene Description\n",
    "                    search_results_human = Entrez.esearch(db=\"gene\", term=orthologs[orthologs_organism_list.index('human')])     \n",
    "                    record_human = Entrez.read(search_results_human)\n",
    "                    gene_id_human = record_human[\"IdList\"][0]\n",
    "                    gene_info_human = Entrez.efetch(db=\"gene\", id=gene_id_human, retmode=\"xml\")           \n",
    "                    gene_record_human = Entrez.read(gene_info_human)\n",
    "                    gene_description = gene_record_human[0]['Entrezgene_summary']\n",
    "\n",
    "                    # Get GO terms\n",
    "                    result = GO_terms[GO_terms['CHO GeneID'] == str(gene_EntrezID)]['GO_ids'].values\n",
    "                    if result.size > 0:\n",
    "                        go_terms = result[0]\n",
    "                    else:\n",
    "                        go_terms = None\n",
    "\n",
    "                    # Get the sequence                \n",
    "                    aa_bool = 'NOT Found AA_Seq'\n",
    "                    if protein_NP_weirdName != '-----':\n",
    "                        try:\n",
    "                            handle = Entrez.efetch(db=\"protein\", id=protein_NP_weirdName, rettype=\"fasta\")\n",
    "                            record = handle.read()\n",
    "                            amino_acid_sequence = ''.join(record.split('\\n')[1:])\n",
    "                            aa_bool = 'FOUND AA_Seq'\n",
    "                        except:\n",
    "                            handle = Entrez.efetch(db=\"nucleotide\", id=protein_NP_weirdName, rettype=\"fasta\")\n",
    "                            record = handle.read()\n",
    "                            amino_acid_sequence = ''.join(record.split('\\n')[1:])\n",
    "                            aa_bool = 'FOUND AA_Seq'\n",
    "                    # Get the COG terms\n",
    "                    cogs = []\n",
    "\n",
    "                # If there are no matches for the EntrezID at NCBI then return -----\n",
    "                else:\n",
    "                    gene_ncbiID = '-----'\n",
    "                    gene_symbol = '-----'\n",
    "                    gene_name_alsoknownas = '-----'\n",
    "                    protein_NP_weirdName = '-----'\n",
    "                    exon = '-----'\n",
    "                    # gene_location = '-----'                    \n",
    "                    uniprot_IDs = '-----'\n",
    "                    amino_acid_sequence = '-----'\n",
    "\n",
    "                gene_found = False\n",
    "                search_results.close()\n",
    "    \n",
    "            # Handle exceptions\n",
    "            except HTTPError as e:\n",
    "\n",
    "                retries += 1\n",
    "                time.sleep(3)\n",
    "            except ssl.SSLError as e:\n",
    "\n",
    "                retries += 1\n",
    "                time.sleep(3)\n",
    "            except ConnectionResetError as e:\n",
    "\n",
    "                retries += 1\n",
    "                time.sleep(3)\n",
    "            except socket.error as e:\n",
    "\n",
    "                retries += 1\n",
    "                time.sleep(3)\n",
    "    \n",
    "        # If the maximum fetch attempts reached, return ------\n",
    "        if retries >= max_retries:\n",
    "            gene_symbol = ncbi_gene\n",
    "            gene_synonyms = '-----'\n",
    "            gene_ncbiID = '-----'\n",
    "            protein_NP_weirdName = '-----'\n",
    "            exon = '-----'\n",
    "            # gene_location = '-----'\n",
    "            gene_uniprotIDs = '-----'\n",
    "            orthologs = '-----'\n",
    "            orthologs_organism_list = '-----'\n",
    "            amino_acid_sequence = '-----'\n",
    "    \n",
    "    # If for some reason the ncbi_gene is nto a number, then return the ncbi_gene for all cases\n",
    "    else:\n",
    "        gene_symbol = ncbi_gene\n",
    "        gene_synonyms = ncbi_gene\n",
    "        gene_ncbiID = ncbi_gene\n",
    "        protein_NP_weirdName = ncbi_gene\n",
    "        exon = ncbi_gene\n",
    "        # gene_location = ncbi_gene\n",
    "        amino_acid_sequence = ncbi_gene\n",
    "\n",
    "    # Append the lists with the data\n",
    "    # gene_symbol_list.append(gene_symbol)\n",
    "    # ncbi_geneName_alsoknownas_list.append(gene_name_alsoknownas)\n",
    "    # ncbi_geneID_list.append(gene_ncbiID)\n",
    "    # ncbi_protein_NP_weirdName.append(protein_NP_weirdName)\n",
    "    # ncbi_gene_exon_size.append(exon)\n",
    "    # # ncbi_genomic_location.append(gene_location)\n",
    "    # uniprot_IDs.append(gene_uniprotIDs)\n",
    "    # orthologs_genes.append(orthologs)\n",
    "    # orthologs_organism.append(orthologs_organism_list)\n",
    "    # aa_sequences.append(amino_acid_sequence)\n",
    "\n",
    "    # print(counter, gene_name, gene_name_alsoknownas, gene_ncbiID, exon, aa_bool, protein_NP_weirdName, gene_uniprotIDs, orthologs, orthologs_organism_list)\n",
    "    # print(gene_symbol, gene_synonyms, gene_EntrezID, gene_name, gene_description, go_terms, cogs, exon_count, chromosome, strand, human_ortholog_EntrezID, mouse_ortholog_EntrezID, assembly_specific_gene_symbol, gene_references)\n",
    "    \n",
    "    # Loop over the Genes\n",
    "    print(\"GENE: \", gene_symbol, \"-----\", gene_synonyms, \"-----\", gene_EntrezID, \"-----\", gene_name, \"-----\", gene_description[0:25], \"... -----\", go_terms[0:25], \"... -----\", cogs, \"-----\", exon_count, \"-----\", chromosome, \"-----\", strand, \"-----\", human_ortholog_EntrezID, \"-----\", mouse_ortholog_EntrezID)\n",
    "    \n",
    "    # Loop over the assembly specifics\n",
    "    for assembly_specific_gene in gene_record[0]['Entrezgene_locus']:\n",
    "        assembly_id = assembly_specific_gene['Gene-commentary_heading']\n",
    "        location_sequence = assembly_specific_gene['Gene-commentary_accession']\n",
    "        start_range = assembly_specific_gene['Gene-commentary_seqs'][0]['Seq-loc_int']['Seq-interval']['Seq-interval_from']\n",
    "        end_range = assembly_specific_gene['Gene-commentary_seqs'][0]['Seq-loc_int']['Seq-interval']['Seq-interval_to']\n",
    "        transcript_sequence_ID = assembly_specific_gene['Gene-commentary_products'][0]['Gene-commentary_accession']\n",
    "        print(\"ASSEMBLY SPECIFC GENE: S1, S2, \", gene_EntrezID, \"-----\", location_sequence, \"-----\", start_range, \"-----\", end_range, \"-----\", transcript_sequence_ID, \"-----\", assembly_id)\n",
    "\n",
    "        # Loop over the Transcripts and proteins\n",
    "        for transcripts in assembly_specific_gene['Gene-commentary_products']:\n",
    "            \n",
    "            # Loop over products\n",
    "            for proteins in transcripts['Gene-commentary_products']:\n",
    "\n",
    "                print(\"TRANSCRIPTS: \", transcript_sequence_ID, \"-----\", proteins['Gene-commentary_accession'], \"-----\")\n",
    "                print(\"PROTEINS: \", proteins['Gene-commentary_accession'])\n",
    "        \n",
    "\n",
    "\n",
    "    counter += 1\n",
    "    # if counter % 1000 == 0:\n",
    "    #     data = {\n",
    "    #         'NCBI_ID': ncbi_geneID_list,\n",
    "    #         'Gene_Name': ncbi_geneName_list,\n",
    "    #         'NP_Name': ncbi_protein_NP_weirdName,\n",
    "    #         'Uniprot_ID': uniprot_IDs,\n",
    "    #         'Ortholog_Genes': orthologs_genes,\n",
    "    #         'Ortholog_Organisms': orthologs_organism,\n",
    "    #         'Exon Number': ncbi_gene_exon_size,\n",
    "    #         'Sequence': aa_sequences\n",
    "    #     }\n",
    "    #     df = pd.DataFrame(data)\n",
    "    #     file_path = 'GeneIDs_' + str(counter) + '.xlsx'\n",
    "    #     df.to_excel(file_path, index=False)\n"
   ]
  },
  {
   "cell_type": "code",
   "execution_count": 198,
   "id": "5e196b5d",
   "metadata": {},
   "outputs": [
    {
     "name": "stdout",
     "output_type": "stream",
     "text": [
      "TRANSCRIPTS:  XM_035448968 ----- XP_035304859 -----\n",
      "PROTEINS:  XP_035304859\n"
     ]
    }
   ],
   "source": [
    "for transcripts in assembly_specific_gene['Gene-commentary_products']:\n",
    "    \n",
    "    # Loop over products\n",
    "    for proteins in transcripts['Gene-commentary_products']:\n",
    "\n",
    "        print(\"TRANSCRIPTS: \", transcript_sequence_ID, \"-----\", proteins['Gene-commentary_accession'], \"-----\")\n",
    "        print(\"PROTEINS: \", proteins['Gene-commentary_accession'])"
   ]
  },
  {
   "cell_type": "code",
   "execution_count": 196,
   "id": "bbd7020a",
   "metadata": {},
   "outputs": [
    {
     "data": {
      "text/plain": [
       "[{'Gene-commentary_type': StringElement('8', attributes={'value': 'peptide'}), 'Gene-commentary_heading': 'Reference', 'Gene-commentary_accession': 'XP_035304859', 'Gene-commentary_version': '1', 'Gene-commentary_genomic-coords': [{'Seq-loc_mix': {'Seq-loc-mix': [{'Seq-loc_int': {'Seq-interval': {'Seq-interval_from': '7540923', 'Seq-interval_to': '7541006', 'Seq-interval_strand': {'Na-strand': StringElement('', attributes={'value': 'minus'})}, 'Seq-interval_id': {'Seq-id': {'Seq-id_gi': '1859291611'}}}}}, {'Seq-loc_int': {'Seq-interval': {'Seq-interval_from': '7524876', 'Seq-interval_to': '7525017', 'Seq-interval_strand': {'Na-strand': StringElement('', attributes={'value': 'minus'})}, 'Seq-interval_id': {'Seq-id': {'Seq-id_gi': '1859291611'}}}}}, {'Seq-loc_int': {'Seq-interval': {'Seq-interval_from': '7520567', 'Seq-interval_to': '7520699', 'Seq-interval_strand': {'Na-strand': StringElement('', attributes={'value': 'minus'})}, 'Seq-interval_id': {'Seq-id': {'Seq-id_gi': '1859291611'}}}}}, {'Seq-loc_int': {'Seq-interval': {'Seq-interval_from': '7517581', 'Seq-interval_to': '7517693', 'Seq-interval_strand': {'Na-strand': StringElement('', attributes={'value': 'minus'})}, 'Seq-interval_id': {'Seq-id': {'Seq-id_gi': '1859291611'}}}}}, {'Seq-loc_int': {'Seq-interval': {'Seq-interval_from': '7515983', 'Seq-interval_to': '7516129', 'Seq-interval_strand': {'Na-strand': StringElement('', attributes={'value': 'minus'})}, 'Seq-interval_id': {'Seq-id': {'Seq-id_gi': '1859291611'}}}}}, {'Seq-loc_int': {'Seq-interval': {'Seq-interval_from': '7515360', 'Seq-interval_to': '7515458', 'Seq-interval_strand': {'Na-strand': StringElement('', attributes={'value': 'minus'})}, 'Seq-interval_id': {'Seq-id': {'Seq-id_gi': '1859291611'}}}}}, {'Seq-loc_int': {'Seq-interval': {'Seq-interval_from': '7511837', 'Seq-interval_to': '7512079', 'Seq-interval_strand': {'Na-strand': StringElement('', attributes={'value': 'minus'})}, 'Seq-interval_id': {'Seq-id': {'Seq-id_gi': '1859291611'}}}}}, {'Seq-loc_int': {'Seq-interval': {'Seq-interval_from': '7508047', 'Seq-interval_to': '7508211', 'Seq-interval_strand': {'Na-strand': StringElement('', attributes={'value': 'minus'})}, 'Seq-interval_id': {'Seq-id': {'Seq-id_gi': '1859291611'}}}}}, {'Seq-loc_int': {'Seq-interval': {'Seq-interval_from': '7506799', 'Seq-interval_to': '7506994', 'Seq-interval_strand': {'Na-strand': StringElement('', attributes={'value': 'minus'})}, 'Seq-interval_id': {'Seq-id': {'Seq-id_gi': '1859291611'}}}}}, {'Seq-loc_int': {'Seq-interval': {'Seq-interval_from': '7505424', 'Seq-interval_to': '7505595', 'Seq-interval_strand': {'Na-strand': StringElement('', attributes={'value': 'minus'})}, 'Seq-interval_id': {'Seq-id': {'Seq-id_gi': '1859291611'}}}}}, {'Seq-loc_int': {'Seq-interval': {'Seq-interval_from': '7503512', 'Seq-interval_to': '7503693', 'Seq-interval_strand': {'Na-strand': StringElement('', attributes={'value': 'minus'})}, 'Seq-interval_id': {'Seq-id': {'Seq-id_gi': '1859291611'}}}}}, {'Seq-loc_int': {'Seq-interval': {'Seq-interval_from': '7499190', 'Seq-interval_to': '7499254', 'Seq-interval_strand': {'Na-strand': StringElement('', attributes={'value': 'minus'})}, 'Seq-interval_id': {'Seq-id': {'Seq-id_gi': '1859291611'}}}}}, {'Seq-loc_int': {'Seq-interval': {'Seq-interval_from': '7492531', 'Seq-interval_to': '7492648', 'Seq-interval_strand': {'Na-strand': StringElement('', attributes={'value': 'minus'})}, 'Seq-interval_id': {'Seq-id': {'Seq-id_gi': '1859291611'}}}}}, {'Seq-loc_int': {'Seq-interval': {'Seq-interval_from': '7490477', 'Seq-interval_to': '7490693', 'Seq-interval_strand': {'Na-strand': StringElement('', attributes={'value': 'minus'})}, 'Seq-interval_id': {'Seq-id': {'Seq-id_gi': '1859291611'}}}}}]}}], 'Gene-commentary_seqs': [{'Seq-loc_whole': {'Seq-id': {'Seq-id_gi': '1868363664'}}}]}]"
      ]
     },
     "execution_count": 196,
     "metadata": {},
     "output_type": "execute_result"
    }
   ],
   "source": [
    "assembly_specific_gene['Gene-commentary_products'][0]['Gene-commentary_products']"
   ]
  },
  {
   "cell_type": "code",
   "execution_count": 188,
   "id": "f16bbf19",
   "metadata": {},
   "outputs": [
    {
     "name": "stdout",
     "output_type": "stream",
     "text": [
      "Entrezgene_track-info {'Gene-track': {'Gene-track_geneid': '100689048', 'Gene-track_status': StringElement('0', attributes={'value': 'live'}), 'Gene-track_create-date': {'Date': {'Date_std': {'Date-std': {'Date-std_year': '2011', 'Date-std_month': '9', 'Date-std_day': '8'}}}}, 'Gene-track_update-date': {'Date': {'Date_std': {'Date-std': {'Date-std_year': '2023', 'Date-std_month': '10', 'Date-std_day': '22', 'Date-std_hour': '16', 'Date-std_minute': '41', 'Date-std_second': '0'}}}}}}\n",
      "Entrezgene_type 6\n",
      "Entrezgene_source {'BioSource': {'BioSource_genome': StringElement('1', attributes={'value': 'genomic'}), 'BioSource_origin': StringElement('1', attributes={'value': 'natural'}), 'BioSource_org': {'Org-ref': {'Org-ref_taxname': 'Cricetulus griseus', 'Org-ref_common': 'Chinese hamster', 'Org-ref_db': [{'Dbtag_db': 'taxon', 'Dbtag_tag': {'Object-id': {'Object-id_id': '10029'}}}], 'Org-ref_orgname': {'OrgName': {'OrgName_name': {'OrgName_name_binomial': {'BinomialOrgName': {'BinomialOrgName_genus': 'Cricetulus', 'BinomialOrgName_species': 'griseus'}}}, 'OrgName_attrib': 'specified', 'OrgName_lineage': 'Eukaryota; Metazoa; Chordata; Craniata; Vertebrata; Euteleostomi; Mammalia; Eutheria; Euarchontoglires; Glires; Rodentia; Myomorpha; Muroidea; Cricetidae; Cricetinae; Cricetulus', 'OrgName_gcode': '1', 'OrgName_mgcode': '2', 'OrgName_div': 'ROD'}}}}, 'BioSource_subtype': [{'SubSource_subtype': StringElement('1', attributes={'value': 'chromosome'}), 'SubSource_name': '4'}]}}\n",
      "Entrezgene_gene {'Gene-ref': {'Gene-ref_locus': 'Scap', 'Gene-ref_desc': 'SREBF chaperone', 'Gene-ref_db': [{'Dbtag_db': 'Ensembl', 'Dbtag_tag': {'Object-id': {'Object-id_str': 'ENSCGRG00015017113'}}}], 'Gene-ref_locus-tag': 'I79_011291'}}\n",
      "Entrezgene_prot {'Prot-ref': {'Prot-ref_name': ['SREBP cleavage-activating protein'], 'Prot-ref_desc': 'sterol regulatory element-binding protein cleavage-activating protein'}}\n",
      "Entrezgene_gene-source {'Gene-source': {'Gene-source_src': 'LocusLink', 'Gene-source_src-int': '100689048', 'Gene-source_src-str2': '100689048'}}\n",
      "Entrezgene_locus [{'Gene-commentary_type': StringElement('1', attributes={'value': 'genomic'}), 'Gene-commentary_heading': 'Reference CriGri_1.0 Primary Assembly', 'Gene-commentary_label': 'NW_003614047 Unplaced Scaffold Reference CriGri_1.0 Primary Assembly', 'Gene-commentary_accession': 'NW_003614047', 'Gene-commentary_version': '1', 'Gene-commentary_seqs': [{'Seq-loc_int': {'Seq-interval': {'Seq-interval_from': '910892', 'Seq-interval_to': '941247', 'Seq-interval_strand': {'Na-strand': StringElement('', attributes={'value': 'plus'})}, 'Seq-interval_id': {'Seq-id': {'Seq-id_gi': '351517502'}}, 'Seq-interval_fuzz-from': {'Int-fuzz': {'Int-fuzz_lim': StringElement('', attributes={'value': 'lt'})}}}}}], 'Gene-commentary_products': [{'Gene-commentary_type': StringElement('3', attributes={'value': 'mRNA'}), 'Gene-commentary_heading': 'Reference', 'Gene-commentary_accession': 'NM_001244036', 'Gene-commentary_version': '1', 'Gene-commentary_genomic-coords': [{'Seq-loc_mix': {'Seq-loc-mix': [{'Seq-loc_int': {'Seq-interval': {'Seq-interval_from': '910892', 'Seq-interval_to': '911112', 'Seq-interval_strand': {'Na-strand': StringElement('', attributes={'value': 'plus'})}, 'Seq-interval_id': {'Seq-id': {'Seq-id_gi': '351517502'}}, 'Seq-interval_fuzz-from': {'Int-fuzz': {'Int-fuzz_lim': StringElement('', attributes={'value': 'lt'})}}}}}, {'Seq-loc_int': {'Seq-interval': {'Seq-interval_from': '919004', 'Seq-interval_to': '919133', 'Seq-interval_strand': {'Na-strand': StringElement('', attributes={'value': 'plus'})}, 'Seq-interval_id': {'Seq-id': {'Seq-id_gi': '351517502'}}}}}, {'Seq-loc_int': {'Seq-interval': {'Seq-interval_from': '928903', 'Seq-interval_to': '929060', 'Seq-interval_strand': {'Na-strand': StringElement('', attributes={'value': 'plus'})}, 'Seq-interval_id': {'Seq-id': {'Seq-id_gi': '351517502'}}}}}, {'Seq-loc_int': {'Seq-interval': {'Seq-interval_from': '929727', 'Seq-interval_to': '929947', 'Seq-interval_strand': {'Na-strand': StringElement('', attributes={'value': 'plus'})}, 'Seq-interval_id': {'Seq-id': {'Seq-id_gi': '351517502'}}}}}, {'Seq-loc_int': {'Seq-interval': {'Seq-interval_from': '930142', 'Seq-interval_to': '930247', 'Seq-interval_strand': {'Na-strand': StringElement('', attributes={'value': 'plus'})}, 'Seq-interval_id': {'Seq-id': {'Seq-id_gi': '351517502'}}}}}, {'Seq-loc_int': {'Seq-interval': {'Seq-interval_from': '930761', 'Seq-interval_to': '930933', 'Seq-interval_strand': {'Na-strand': StringElement('', attributes={'value': 'plus'})}, 'Seq-interval_id': {'Seq-id': {'Seq-id_gi': '351517502'}}}}}, {'Seq-loc_int': {'Seq-interval': {'Seq-interval_from': '931272', 'Seq-interval_to': '931398', 'Seq-interval_strand': {'Na-strand': StringElement('', attributes={'value': 'plus'})}, 'Seq-interval_id': {'Seq-id': {'Seq-id_gi': '351517502'}}}}}, {'Seq-loc_int': {'Seq-interval': {'Seq-interval_from': '933203', 'Seq-interval_to': '933315', 'Seq-interval_strand': {'Na-strand': StringElement('', attributes={'value': 'plus'})}, 'Seq-interval_id': {'Seq-id': {'Seq-id_gi': '351517502'}}}}}, {'Seq-loc_int': {'Seq-interval': {'Seq-interval_from': '934537', 'Seq-interval_to': '934631', 'Seq-interval_strand': {'Na-strand': StringElement('', attributes={'value': 'plus'})}, 'Seq-interval_id': {'Seq-id': {'Seq-id_gi': '351517502'}}}}}, {'Seq-loc_int': {'Seq-interval': {'Seq-interval_from': '935426', 'Seq-interval_to': '935524', 'Seq-interval_strand': {'Na-strand': StringElement('', attributes={'value': 'plus'})}, 'Seq-interval_id': {'Seq-id': {'Seq-id_gi': '351517502'}}}}}, {'Seq-loc_int': {'Seq-interval': {'Seq-interval_from': '935653', 'Seq-interval_to': '935871', 'Seq-interval_strand': {'Na-strand': StringElement('', attributes={'value': 'plus'})}, 'Seq-interval_id': {'Seq-id': {'Seq-id_gi': '351517502'}}}}}, {'Seq-loc_int': {'Seq-interval': {'Seq-interval_from': '936484', 'Seq-interval_to': '936860', 'Seq-interval_strand': {'Na-strand': StringElement('', attributes={'value': 'plus'})}, 'Seq-interval_id': {'Seq-id': {'Seq-id_gi': '351517502'}}}}}, {'Seq-loc_int': {'Seq-interval': {'Seq-interval_from': '937230', 'Seq-interval_to': '937418', 'Seq-interval_strand': {'Na-strand': StringElement('', attributes={'value': 'plus'})}, 'Seq-interval_id': {'Seq-id': {'Seq-id_gi': '351517502'}}}}}, {'Seq-loc_int': {'Seq-interval': {'Seq-interval_from': '937504', 'Seq-interval_to': '937705', 'Seq-interval_strand': {'Na-strand': StringElement('', attributes={'value': 'plus'})}, 'Seq-interval_id': {'Seq-id': {'Seq-id_gi': '351517502'}}}}}, {'Seq-loc_int': {'Seq-interval': {'Seq-interval_from': '937778', 'Seq-interval_to': '937893', 'Seq-interval_strand': {'Na-strand': StringElement('', attributes={'value': 'plus'})}, 'Seq-interval_id': {'Seq-id': {'Seq-id_gi': '351517502'}}}}}, {'Seq-loc_int': {'Seq-interval': {'Seq-interval_from': '937973', 'Seq-interval_to': '938484', 'Seq-interval_strand': {'Na-strand': StringElement('', attributes={'value': 'plus'})}, 'Seq-interval_id': {'Seq-id': {'Seq-id_gi': '351517502'}}}}}, {'Seq-loc_int': {'Seq-interval': {'Seq-interval_from': '938644', 'Seq-interval_to': '938731', 'Seq-interval_strand': {'Na-strand': StringElement('', attributes={'value': 'plus'})}, 'Seq-interval_id': {'Seq-id': {'Seq-id_gi': '351517502'}}}}}, {'Seq-loc_int': {'Seq-interval': {'Seq-interval_from': '939870', 'Seq-interval_to': '939952', 'Seq-interval_strand': {'Na-strand': StringElement('', attributes={'value': 'plus'})}, 'Seq-interval_id': {'Seq-id': {'Seq-id_gi': '351517502'}}}}}, {'Seq-loc_int': {'Seq-interval': {'Seq-interval_from': '940048', 'Seq-interval_to': '940214', 'Seq-interval_strand': {'Na-strand': StringElement('', attributes={'value': 'plus'})}, 'Seq-interval_id': {'Seq-id': {'Seq-id_gi': '351517502'}}}}}, {'Seq-loc_int': {'Seq-interval': {'Seq-interval_from': '940347', 'Seq-interval_to': '940427', 'Seq-interval_strand': {'Na-strand': StringElement('', attributes={'value': 'plus'})}, 'Seq-interval_id': {'Seq-id': {'Seq-id_gi': '351517502'}}}}}, {'Seq-loc_int': {'Seq-interval': {'Seq-interval_from': '940559', 'Seq-interval_to': '940765', 'Seq-interval_strand': {'Na-strand': StringElement('', attributes={'value': 'plus'})}, 'Seq-interval_id': {'Seq-id': {'Seq-id_gi': '351517502'}}}}}, {'Seq-loc_int': {'Seq-interval': {'Seq-interval_from': '940842', 'Seq-interval_to': '941247', 'Seq-interval_strand': {'Na-strand': StringElement('', attributes={'value': 'plus'})}, 'Seq-interval_id': {'Seq-id': {'Seq-id_gi': '351517502'}}}}}]}}], 'Gene-commentary_seqs': [{'Seq-loc_whole': {'Seq-id': {'Seq-id_gi': '345842375'}}}], 'Gene-commentary_products': [{'Gene-commentary_type': StringElement('8', attributes={'value': 'peptide'}), 'Gene-commentary_heading': 'Reference', 'Gene-commentary_accession': 'NP_001230965', 'Gene-commentary_version': '1', 'Gene-commentary_genomic-coords': [{'Seq-loc_mix': {'Seq-loc-mix': [{'Seq-loc_int': {'Seq-interval': {'Seq-interval_from': '910991', 'Seq-interval_to': '911112', 'Seq-interval_strand': {'Na-strand': StringElement('', attributes={'value': 'plus'})}, 'Seq-interval_id': {'Seq-id': {'Seq-id_gi': '351517502'}}}}}, {'Seq-loc_int': {'Seq-interval': {'Seq-interval_from': '919004', 'Seq-interval_to': '919133', 'Seq-interval_strand': {'Na-strand': StringElement('', attributes={'value': 'plus'})}, 'Seq-interval_id': {'Seq-id': {'Seq-id_gi': '351517502'}}}}}, {'Seq-loc_int': {'Seq-interval': {'Seq-interval_from': '928903', 'Seq-interval_to': '929060', 'Seq-interval_strand': {'Na-strand': StringElement('', attributes={'value': 'plus'})}, 'Seq-interval_id': {'Seq-id': {'Seq-id_gi': '351517502'}}}}}, {'Seq-loc_int': {'Seq-interval': {'Seq-interval_from': '929727', 'Seq-interval_to': '929947', 'Seq-interval_strand': {'Na-strand': StringElement('', attributes={'value': 'plus'})}, 'Seq-interval_id': {'Seq-id': {'Seq-id_gi': '351517502'}}}}}, {'Seq-loc_int': {'Seq-interval': {'Seq-interval_from': '930142', 'Seq-interval_to': '930247', 'Seq-interval_strand': {'Na-strand': StringElement('', attributes={'value': 'plus'})}, 'Seq-interval_id': {'Seq-id': {'Seq-id_gi': '351517502'}}}}}, {'Seq-loc_int': {'Seq-interval': {'Seq-interval_from': '930761', 'Seq-interval_to': '930933', 'Seq-interval_strand': {'Na-strand': StringElement('', attributes={'value': 'plus'})}, 'Seq-interval_id': {'Seq-id': {'Seq-id_gi': '351517502'}}}}}, {'Seq-loc_int': {'Seq-interval': {'Seq-interval_from': '931272', 'Seq-interval_to': '931398', 'Seq-interval_strand': {'Na-strand': StringElement('', attributes={'value': 'plus'})}, 'Seq-interval_id': {'Seq-id': {'Seq-id_gi': '351517502'}}}}}, {'Seq-loc_int': {'Seq-interval': {'Seq-interval_from': '933203', 'Seq-interval_to': '933315', 'Seq-interval_strand': {'Na-strand': StringElement('', attributes={'value': 'plus'})}, 'Seq-interval_id': {'Seq-id': {'Seq-id_gi': '351517502'}}}}}, {'Seq-loc_int': {'Seq-interval': {'Seq-interval_from': '934537', 'Seq-interval_to': '934631', 'Seq-interval_strand': {'Na-strand': StringElement('', attributes={'value': 'plus'})}, 'Seq-interval_id': {'Seq-id': {'Seq-id_gi': '351517502'}}}}}, {'Seq-loc_int': {'Seq-interval': {'Seq-interval_from': '935426', 'Seq-interval_to': '935524', 'Seq-interval_strand': {'Na-strand': StringElement('', attributes={'value': 'plus'})}, 'Seq-interval_id': {'Seq-id': {'Seq-id_gi': '351517502'}}}}}, {'Seq-loc_int': {'Seq-interval': {'Seq-interval_from': '935653', 'Seq-interval_to': '935871', 'Seq-interval_strand': {'Na-strand': StringElement('', attributes={'value': 'plus'})}, 'Seq-interval_id': {'Seq-id': {'Seq-id_gi': '351517502'}}}}}, {'Seq-loc_int': {'Seq-interval': {'Seq-interval_from': '936484', 'Seq-interval_to': '936860', 'Seq-interval_strand': {'Na-strand': StringElement('', attributes={'value': 'plus'})}, 'Seq-interval_id': {'Seq-id': {'Seq-id_gi': '351517502'}}}}}, {'Seq-loc_int': {'Seq-interval': {'Seq-interval_from': '937230', 'Seq-interval_to': '937418', 'Seq-interval_strand': {'Na-strand': StringElement('', attributes={'value': 'plus'})}, 'Seq-interval_id': {'Seq-id': {'Seq-id_gi': '351517502'}}}}}, {'Seq-loc_int': {'Seq-interval': {'Seq-interval_from': '937504', 'Seq-interval_to': '937705', 'Seq-interval_strand': {'Na-strand': StringElement('', attributes={'value': 'plus'})}, 'Seq-interval_id': {'Seq-id': {'Seq-id_gi': '351517502'}}}}}, {'Seq-loc_int': {'Seq-interval': {'Seq-interval_from': '937778', 'Seq-interval_to': '937893', 'Seq-interval_strand': {'Na-strand': StringElement('', attributes={'value': 'plus'})}, 'Seq-interval_id': {'Seq-id': {'Seq-id_gi': '351517502'}}}}}, {'Seq-loc_int': {'Seq-interval': {'Seq-interval_from': '937973', 'Seq-interval_to': '938484', 'Seq-interval_strand': {'Na-strand': StringElement('', attributes={'value': 'plus'})}, 'Seq-interval_id': {'Seq-id': {'Seq-id_gi': '351517502'}}}}}, {'Seq-loc_int': {'Seq-interval': {'Seq-interval_from': '938644', 'Seq-interval_to': '938731', 'Seq-interval_strand': {'Na-strand': StringElement('', attributes={'value': 'plus'})}, 'Seq-interval_id': {'Seq-id': {'Seq-id_gi': '351517502'}}}}}, {'Seq-loc_int': {'Seq-interval': {'Seq-interval_from': '939870', 'Seq-interval_to': '939952', 'Seq-interval_strand': {'Na-strand': StringElement('', attributes={'value': 'plus'})}, 'Seq-interval_id': {'Seq-id': {'Seq-id_gi': '351517502'}}}}}, {'Seq-loc_int': {'Seq-interval': {'Seq-interval_from': '940048', 'Seq-interval_to': '940214', 'Seq-interval_strand': {'Na-strand': StringElement('', attributes={'value': 'plus'})}, 'Seq-interval_id': {'Seq-id': {'Seq-id_gi': '351517502'}}}}}, {'Seq-loc_int': {'Seq-interval': {'Seq-interval_from': '940347', 'Seq-interval_to': '940427', 'Seq-interval_strand': {'Na-strand': StringElement('', attributes={'value': 'plus'})}, 'Seq-interval_id': {'Seq-id': {'Seq-id_gi': '351517502'}}}}}, {'Seq-loc_int': {'Seq-interval': {'Seq-interval_from': '940559', 'Seq-interval_to': '940765', 'Seq-interval_strand': {'Na-strand': StringElement('', attributes={'value': 'plus'})}, 'Seq-interval_id': {'Seq-id': {'Seq-id_gi': '351517502'}}}}}, {'Seq-loc_int': {'Seq-interval': {'Seq-interval_from': '940842', 'Seq-interval_to': '941087', 'Seq-interval_strand': {'Na-strand': StringElement('', attributes={'value': 'plus'})}, 'Seq-interval_id': {'Seq-id': {'Seq-id_gi': '351517502'}}}}}]}}], 'Gene-commentary_seqs': [{'Seq-loc_whole': {'Seq-id': {'Seq-id_gi': '345842376'}}}]}]}]}, {'Gene-commentary_type': StringElement('1', attributes={'value': 'genomic'}), 'Gene-commentary_heading': 'Alternate CriGri-PICRH-1.0', 'Gene-commentary_label': 'Chromosome 4 Alternate CriGri-PICRH-1.0', 'Gene-commentary_accession': 'NC_048597', 'Gene-commentary_version': '1', 'Gene-commentary_seqs': [{'Seq-loc_int': {'Seq-interval': {'Seq-interval_from': '217832647', 'Seq-interval_to': '217863219', 'Seq-interval_strand': {'Na-strand': StringElement('', attributes={'value': 'plus'})}, 'Seq-interval_id': {'Seq-id': {'Seq-id_gi': '1859291803'}}, 'Seq-interval_fuzz-from': {'Int-fuzz': {'Int-fuzz_lim': StringElement('', attributes={'value': 'lt'})}}}}}], 'Gene-commentary_products': [{'Gene-commentary_type': StringElement('3', attributes={'value': 'mRNA'}), 'Gene-commentary_heading': 'Reference', 'Gene-commentary_accession': 'NM_001244036', 'Gene-commentary_version': '1', 'Gene-commentary_genomic-coords': [{'Seq-loc_mix': {'Seq-loc-mix': [{'Seq-loc_int': {'Seq-interval': {'Seq-interval_from': '217832647', 'Seq-interval_to': '217832867', 'Seq-interval_strand': {'Na-strand': StringElement('', attributes={'value': 'plus'})}, 'Seq-interval_id': {'Seq-id': {'Seq-id_gi': '1859291803'}}, 'Seq-interval_fuzz-from': {'Int-fuzz': {'Int-fuzz_lim': StringElement('', attributes={'value': 'lt'})}}}}}, {'Seq-loc_int': {'Seq-interval': {'Seq-interval_from': '217840853', 'Seq-interval_to': '217840982', 'Seq-interval_strand': {'Na-strand': StringElement('', attributes={'value': 'plus'})}, 'Seq-interval_id': {'Seq-id': {'Seq-id_gi': '1859291803'}}}}}, {'Seq-loc_int': {'Seq-interval': {'Seq-interval_from': '217850842', 'Seq-interval_to': '217850999', 'Seq-interval_strand': {'Na-strand': StringElement('', attributes={'value': 'plus'})}, 'Seq-interval_id': {'Seq-id': {'Seq-id_gi': '1859291803'}}}}}, {'Seq-loc_int': {'Seq-interval': {'Seq-interval_from': '217851666', 'Seq-interval_to': '217851886', 'Seq-interval_strand': {'Na-strand': StringElement('', attributes={'value': 'plus'})}, 'Seq-interval_id': {'Seq-id': {'Seq-id_gi': '1859291803'}}}}}, {'Seq-loc_int': {'Seq-interval': {'Seq-interval_from': '217852081', 'Seq-interval_to': '217852186', 'Seq-interval_strand': {'Na-strand': StringElement('', attributes={'value': 'plus'})}, 'Seq-interval_id': {'Seq-id': {'Seq-id_gi': '1859291803'}}}}}, {'Seq-loc_int': {'Seq-interval': {'Seq-interval_from': '217852700', 'Seq-interval_to': '217852872', 'Seq-interval_strand': {'Na-strand': StringElement('', attributes={'value': 'plus'})}, 'Seq-interval_id': {'Seq-id': {'Seq-id_gi': '1859291803'}}}}}, {'Seq-loc_int': {'Seq-interval': {'Seq-interval_from': '217853211', 'Seq-interval_to': '217853337', 'Seq-interval_strand': {'Na-strand': StringElement('', attributes={'value': 'plus'})}, 'Seq-interval_id': {'Seq-id': {'Seq-id_gi': '1859291803'}}}}}, {'Seq-loc_int': {'Seq-interval': {'Seq-interval_from': '217855142', 'Seq-interval_to': '217855254', 'Seq-interval_strand': {'Na-strand': StringElement('', attributes={'value': 'plus'})}, 'Seq-interval_id': {'Seq-id': {'Seq-id_gi': '1859291803'}}}}}, {'Seq-loc_int': {'Seq-interval': {'Seq-interval_from': '217856476', 'Seq-interval_to': '217856570', 'Seq-interval_strand': {'Na-strand': StringElement('', attributes={'value': 'plus'})}, 'Seq-interval_id': {'Seq-id': {'Seq-id_gi': '1859291803'}}}}}, {'Seq-loc_int': {'Seq-interval': {'Seq-interval_from': '217857365', 'Seq-interval_to': '217857463', 'Seq-interval_strand': {'Na-strand': StringElement('', attributes={'value': 'plus'})}, 'Seq-interval_id': {'Seq-id': {'Seq-id_gi': '1859291803'}}}}}, {'Seq-loc_int': {'Seq-interval': {'Seq-interval_from': '217857592', 'Seq-interval_to': '217857810', 'Seq-interval_strand': {'Na-strand': StringElement('', attributes={'value': 'plus'})}, 'Seq-interval_id': {'Seq-id': {'Seq-id_gi': '1859291803'}}}}}, {'Seq-loc_int': {'Seq-interval': {'Seq-interval_from': '217858425', 'Seq-interval_to': '217858801', 'Seq-interval_strand': {'Na-strand': StringElement('', attributes={'value': 'plus'})}, 'Seq-interval_id': {'Seq-id': {'Seq-id_gi': '1859291803'}}}}}, {'Seq-loc_int': {'Seq-interval': {'Seq-interval_from': '217859171', 'Seq-interval_to': '217859333', 'Seq-interval_strand': {'Na-strand': StringElement('', attributes={'value': 'plus'})}, 'Seq-interval_id': {'Seq-id': {'Seq-id_gi': '1859291803'}}, 'Seq-interval_fuzz-to': {'Int-fuzz': {'Int-fuzz_lim': StringElement('', attributes={'value': 'gt'})}}}}}, {'Seq-loc_int': {'Seq-interval': {'Seq-interval_from': '217860584', 'Seq-interval_to': '217860595', 'Seq-interval_strand': {'Na-strand': StringElement('', attributes={'value': 'plus'})}, 'Seq-interval_id': {'Seq-id': {'Seq-id_gi': '1859291803'}}, 'Seq-interval_fuzz-from': {'Int-fuzz': {'Int-fuzz_lim': StringElement('', attributes={'value': 'lt'})}}, 'Seq-interval_fuzz-to': {'Int-fuzz': {'Int-fuzz_lim': StringElement('', attributes={'value': 'gt'})}}}}}, {'Seq-loc_int': {'Seq-interval': {'Seq-interval_from': '217860618', 'Seq-interval_to': '217860703', 'Seq-interval_strand': {'Na-strand': StringElement('', attributes={'value': 'plus'})}, 'Seq-interval_id': {'Seq-id': {'Seq-id_gi': '1859291803'}}, 'Seq-interval_fuzz-from': {'Int-fuzz': {'Int-fuzz_lim': StringElement('', attributes={'value': 'lt'})}}}}}, {'Seq-loc_int': {'Seq-interval': {'Seq-interval_from': '217861842', 'Seq-interval_to': '217861924', 'Seq-interval_strand': {'Na-strand': StringElement('', attributes={'value': 'plus'})}, 'Seq-interval_id': {'Seq-id': {'Seq-id_gi': '1859291803'}}}}}, {'Seq-loc_int': {'Seq-interval': {'Seq-interval_from': '217862020', 'Seq-interval_to': '217862186', 'Seq-interval_strand': {'Na-strand': StringElement('', attributes={'value': 'plus'})}, 'Seq-interval_id': {'Seq-id': {'Seq-id_gi': '1859291803'}}}}}, {'Seq-loc_int': {'Seq-interval': {'Seq-interval_from': '217862319', 'Seq-interval_to': '217862399', 'Seq-interval_strand': {'Na-strand': StringElement('', attributes={'value': 'plus'})}, 'Seq-interval_id': {'Seq-id': {'Seq-id_gi': '1859291803'}}}}}, {'Seq-loc_int': {'Seq-interval': {'Seq-interval_from': '217862531', 'Seq-interval_to': '217862737', 'Seq-interval_strand': {'Na-strand': StringElement('', attributes={'value': 'plus'})}, 'Seq-interval_id': {'Seq-id': {'Seq-id_gi': '1859291803'}}}}}, {'Seq-loc_int': {'Seq-interval': {'Seq-interval_from': '217862814', 'Seq-interval_to': '217863219', 'Seq-interval_strand': {'Na-strand': StringElement('', attributes={'value': 'plus'})}, 'Seq-interval_id': {'Seq-id': {'Seq-id_gi': '1859291803'}}}}}]}}], 'Gene-commentary_seqs': [{'Seq-loc_whole': {'Seq-id': {'Seq-id_gi': '345842375'}}}], 'Gene-commentary_products': [{'Gene-commentary_type': StringElement('8', attributes={'value': 'peptide'}), 'Gene-commentary_heading': 'Reference', 'Gene-commentary_accession': 'NP_001230965', 'Gene-commentary_version': '1', 'Gene-commentary_genomic-coords': [{'Seq-loc_mix': {'Seq-loc-mix': [{'Seq-loc_int': {'Seq-interval': {'Seq-interval_from': '217832746', 'Seq-interval_to': '217832867', 'Seq-interval_strand': {'Na-strand': StringElement('', attributes={'value': 'plus'})}, 'Seq-interval_id': {'Seq-id': {'Seq-id_gi': '1859291803'}}}}}, {'Seq-loc_int': {'Seq-interval': {'Seq-interval_from': '217840853', 'Seq-interval_to': '217840982', 'Seq-interval_strand': {'Na-strand': StringElement('', attributes={'value': 'plus'})}, 'Seq-interval_id': {'Seq-id': {'Seq-id_gi': '1859291803'}}}}}, {'Seq-loc_int': {'Seq-interval': {'Seq-interval_from': '217850842', 'Seq-interval_to': '217850999', 'Seq-interval_strand': {'Na-strand': StringElement('', attributes={'value': 'plus'})}, 'Seq-interval_id': {'Seq-id': {'Seq-id_gi': '1859291803'}}}}}, {'Seq-loc_int': {'Seq-interval': {'Seq-interval_from': '217851666', 'Seq-interval_to': '217851886', 'Seq-interval_strand': {'Na-strand': StringElement('', attributes={'value': 'plus'})}, 'Seq-interval_id': {'Seq-id': {'Seq-id_gi': '1859291803'}}}}}, {'Seq-loc_int': {'Seq-interval': {'Seq-interval_from': '217852081', 'Seq-interval_to': '217852186', 'Seq-interval_strand': {'Na-strand': StringElement('', attributes={'value': 'plus'})}, 'Seq-interval_id': {'Seq-id': {'Seq-id_gi': '1859291803'}}}}}, {'Seq-loc_int': {'Seq-interval': {'Seq-interval_from': '217852700', 'Seq-interval_to': '217852872', 'Seq-interval_strand': {'Na-strand': StringElement('', attributes={'value': 'plus'})}, 'Seq-interval_id': {'Seq-id': {'Seq-id_gi': '1859291803'}}}}}, {'Seq-loc_int': {'Seq-interval': {'Seq-interval_from': '217853211', 'Seq-interval_to': '217853337', 'Seq-interval_strand': {'Na-strand': StringElement('', attributes={'value': 'plus'})}, 'Seq-interval_id': {'Seq-id': {'Seq-id_gi': '1859291803'}}}}}, {'Seq-loc_int': {'Seq-interval': {'Seq-interval_from': '217855142', 'Seq-interval_to': '217855254', 'Seq-interval_strand': {'Na-strand': StringElement('', attributes={'value': 'plus'})}, 'Seq-interval_id': {'Seq-id': {'Seq-id_gi': '1859291803'}}}}}, {'Seq-loc_int': {'Seq-interval': {'Seq-interval_from': '217856476', 'Seq-interval_to': '217856570', 'Seq-interval_strand': {'Na-strand': StringElement('', attributes={'value': 'plus'})}, 'Seq-interval_id': {'Seq-id': {'Seq-id_gi': '1859291803'}}}}}, {'Seq-loc_int': {'Seq-interval': {'Seq-interval_from': '217857365', 'Seq-interval_to': '217857463', 'Seq-interval_strand': {'Na-strand': StringElement('', attributes={'value': 'plus'})}, 'Seq-interval_id': {'Seq-id': {'Seq-id_gi': '1859291803'}}}}}, {'Seq-loc_int': {'Seq-interval': {'Seq-interval_from': '217857592', 'Seq-interval_to': '217857810', 'Seq-interval_strand': {'Na-strand': StringElement('', attributes={'value': 'plus'})}, 'Seq-interval_id': {'Seq-id': {'Seq-id_gi': '1859291803'}}}}}, {'Seq-loc_int': {'Seq-interval': {'Seq-interval_from': '217858425', 'Seq-interval_to': '217858801', 'Seq-interval_strand': {'Na-strand': StringElement('', attributes={'value': 'plus'})}, 'Seq-interval_id': {'Seq-id': {'Seq-id_gi': '1859291803'}}}}}, {'Seq-loc_int': {'Seq-interval': {'Seq-interval_from': '217859171', 'Seq-interval_to': '217859333', 'Seq-interval_strand': {'Na-strand': StringElement('', attributes={'value': 'plus'})}, 'Seq-interval_id': {'Seq-id': {'Seq-id_gi': '1859291803'}}, 'Seq-interval_fuzz-to': {'Int-fuzz': {'Int-fuzz_lim': StringElement('', attributes={'value': 'gt'})}}}}}, {'Seq-loc_int': {'Seq-interval': {'Seq-interval_from': '217860584', 'Seq-interval_to': '217860595', 'Seq-interval_strand': {'Na-strand': StringElement('', attributes={'value': 'plus'})}, 'Seq-interval_id': {'Seq-id': {'Seq-id_gi': '1859291803'}}, 'Seq-interval_fuzz-from': {'Int-fuzz': {'Int-fuzz_lim': StringElement('', attributes={'value': 'lt'})}}, 'Seq-interval_fuzz-to': {'Int-fuzz': {'Int-fuzz_lim': StringElement('', attributes={'value': 'gt'})}}}}}, {'Seq-loc_int': {'Seq-interval': {'Seq-interval_from': '217860618', 'Seq-interval_to': '217860703', 'Seq-interval_strand': {'Na-strand': StringElement('', attributes={'value': 'plus'})}, 'Seq-interval_id': {'Seq-id': {'Seq-id_gi': '1859291803'}}, 'Seq-interval_fuzz-from': {'Int-fuzz': {'Int-fuzz_lim': StringElement('', attributes={'value': 'lt'})}}}}}, {'Seq-loc_int': {'Seq-interval': {'Seq-interval_from': '217861842', 'Seq-interval_to': '217861924', 'Seq-interval_strand': {'Na-strand': StringElement('', attributes={'value': 'plus'})}, 'Seq-interval_id': {'Seq-id': {'Seq-id_gi': '1859291803'}}}}}, {'Seq-loc_int': {'Seq-interval': {'Seq-interval_from': '217862020', 'Seq-interval_to': '217862186', 'Seq-interval_strand': {'Na-strand': StringElement('', attributes={'value': 'plus'})}, 'Seq-interval_id': {'Seq-id': {'Seq-id_gi': '1859291803'}}}}}, {'Seq-loc_int': {'Seq-interval': {'Seq-interval_from': '217862319', 'Seq-interval_to': '217862399', 'Seq-interval_strand': {'Na-strand': StringElement('', attributes={'value': 'plus'})}, 'Seq-interval_id': {'Seq-id': {'Seq-id_gi': '1859291803'}}}}}, {'Seq-loc_int': {'Seq-interval': {'Seq-interval_from': '217862531', 'Seq-interval_to': '217862737', 'Seq-interval_strand': {'Na-strand': StringElement('', attributes={'value': 'plus'})}, 'Seq-interval_id': {'Seq-id': {'Seq-id_gi': '1859291803'}}}}}, {'Seq-loc_int': {'Seq-interval': {'Seq-interval_from': '217862814', 'Seq-interval_to': '217863059', 'Seq-interval_strand': {'Na-strand': StringElement('', attributes={'value': 'plus'})}, 'Seq-interval_id': {'Seq-id': {'Seq-id_gi': '1859291803'}}}}}]}}], 'Gene-commentary_seqs': [{'Seq-loc_whole': {'Seq-id': {'Seq-id_gi': '345842376'}}}]}]}]}]\n",
      "Entrezgene_properties [{'Gene-commentary_type': StringElement('16', attributes={'value': 'property'}), 'Gene-commentary_label': 'Exon count', 'Gene-commentary_text': '22'}, {'Gene-commentary_type': StringElement('254', attributes={'value': 'comment'}), 'Gene-commentary_heading': 'GeneOntology', 'Gene-commentary_source': [{'Other-source_pre-text': 'Provided by', 'Other-source_anchor': 'RefSeq', 'Other-source_url': 'https://www.ncbi.nlm.nih.gov/genome/annotation_euk/process/#gene_ontology'}], 'Gene-commentary_comment': [{'Gene-commentary_type': StringElement('254', attributes={'value': 'comment'}), 'Gene-commentary_label': 'Function', 'Gene-commentary_comment': [{'Gene-commentary_type': StringElement('254', attributes={'value': 'comment'}), 'Gene-commentary_refs': [{'Pub_pmid': {'PubMedId': '22301074'}}], 'Gene-commentary_source': [{'Other-source_src': {'Dbtag': {'Dbtag_db': 'GO', 'Dbtag_tag': {'Object-id': {'Object-id_id': '5515'}}}}, 'Other-source_pre-text': 'enables', 'Other-source_anchor': 'protein binding', 'Other-source_post-text': 'evidence: IEA'}]}, {'Gene-commentary_type': StringElement('254', attributes={'value': 'comment'}), 'Gene-commentary_refs': [{'Pub_pmid': {'PubMedId': '30032202'}}], 'Gene-commentary_source': [{'Other-source_src': {'Dbtag': {'Dbtag_db': 'GO', 'Dbtag_tag': {'Object-id': {'Object-id_id': '32934'}}}}, 'Other-source_pre-text': 'enables', 'Other-source_anchor': 'sterol binding', 'Other-source_post-text': 'evidence: IEA'}]}]}, {'Gene-commentary_type': StringElement('254', attributes={'value': 'comment'}), 'Gene-commentary_label': 'Process', 'Gene-commentary_comment': [{'Gene-commentary_type': StringElement('254', attributes={'value': 'comment'}), 'Gene-commentary_refs': [{'Pub_pmid': {'PubMedId': '30032202'}}], 'Gene-commentary_source': [{'Other-source_src': {'Dbtag': {'Dbtag_db': 'GO', 'Dbtag_tag': {'Object-id': {'Object-id_id': '32933'}}}}, 'Other-source_pre-text': 'involved_in', 'Other-source_anchor': 'SREBP signaling pathway', 'Other-source_post-text': 'evidence: IEA'}]}]}, {'Gene-commentary_type': StringElement('254', attributes={'value': 'comment'}), 'Gene-commentary_label': 'Component', 'Gene-commentary_comment': [{'Gene-commentary_type': StringElement('254', attributes={'value': 'comment'}), 'Gene-commentary_refs': [{'Pub_pmid': {'PubMedId': '30032202'}}], 'Gene-commentary_source': [{'Other-source_src': {'Dbtag': {'Dbtag_db': 'GO', 'Dbtag_tag': {'Object-id': {'Object-id_id': '139'}}}}, 'Other-source_pre-text': 'located_in', 'Other-source_anchor': 'Golgi membrane', 'Other-source_post-text': 'evidence: IEA'}]}, {'Gene-commentary_type': StringElement('254', attributes={'value': 'comment'}), 'Gene-commentary_refs': [{'Pub_pmid': {'PubMedId': '30032202'}}], 'Gene-commentary_source': [{'Other-source_src': {'Dbtag': {'Dbtag_db': 'GO', 'Dbtag_tag': {'Object-id': {'Object-id_id': '5789'}}}}, 'Other-source_pre-text': 'located_in', 'Other-source_anchor': 'endoplasmic reticulum membrane', 'Other-source_post-text': 'evidence: IEA'}]}]}]}]\n",
      "Entrezgene_comments [{'Gene-commentary_type': StringElement('254', attributes={'value': 'comment'}), 'Gene-commentary_heading': 'RefSeq Status', 'Gene-commentary_label': 'PROVISIONAL'}, {'Gene-commentary_type': StringElement('254', attributes={'value': 'comment'}), 'Gene-commentary_heading': 'Annotation Information', 'Gene-commentary_properties': [{'Gene-commentary_type': StringElement('16', attributes={'value': 'property'}), 'Gene-commentary_label': 'Annotation category', 'Gene-commentary_text': 'partial on reference assembly'}]}, {'Gene-commentary_type': StringElement('23', attributes={'value': 'gene-group'}), 'Gene-commentary_heading': 'Orthologs from Annotation Pipeline', 'Gene-commentary_comment': [{'Gene-commentary_type': StringElement('23', attributes={'value': 'gene-group'}), 'Gene-commentary_label': 'Primary', 'Gene-commentary_source': [{'Other-source_src': {'Dbtag': {'Dbtag_db': 'GeneID', 'Dbtag_tag': {'Object-id': {'Object-id_id': '22937'}}}}, 'Other-source_pre-text': 'Scap', 'Other-source_anchor': 'human'}, {'Other-source_src': {'Dbtag': {'Dbtag_db': 'taxon', 'Dbtag_tag': {'Object-id': {'Object-id_id': '9606'}}}}}]}, {'Gene-commentary_type': StringElement('23', attributes={'value': 'gene-group'}), 'Gene-commentary_label': 'Additional', 'Gene-commentary_source': [{'Other-source_src': {'Dbtag': {'Dbtag_db': 'GeneID', 'Dbtag_tag': {'Object-id': {'Object-id_id': '235623'}}}}, 'Other-source_pre-text': 'Scap', 'Other-source_anchor': 'mouse'}, {'Other-source_src': {'Dbtag': {'Dbtag_db': 'taxon', 'Dbtag_tag': {'Object-id': {'Object-id_id': '10090'}}}}}]}]}, {'Gene-commentary_type': StringElement('254', attributes={'value': 'comment'}), 'Gene-commentary_refs': [{'Pub_pmid': {'PubMedId': '27068746'}}, {'Pub_pmid': {'PubMedId': '21945585'}}, {'Pub_pmid': {'PubMedId': '17428919'}}, {'Pub_pmid': {'PubMedId': '15899885'}}, {'Pub_pmid': {'PubMedId': '15728349'}}, {'Pub_pmid': {'PubMedId': '15260976'}}, {'Pub_pmid': {'PubMedId': '12482938'}}, {'Pub_pmid': {'PubMedId': '12193656'}}, {'Pub_pmid': {'PubMedId': '10896675'}}, {'Pub_pmid': {'PubMedId': '10500160'}}, {'Pub_pmid': {'PubMedId': '10497220'}}, {'Pub_pmid': {'PubMedId': '9642295'}}, {'Pub_pmid': {'PubMedId': '9488713'}}, {'Pub_pmid': {'PubMedId': '8898195'}}]}, {'Gene-commentary_type': StringElement('254', attributes={'value': 'comment'}), 'Gene-commentary_heading': 'NCBI Reference Sequences (RefSeq)', 'Gene-commentary_comment': [{'Gene-commentary_type': StringElement('254', attributes={'value': 'comment'}), 'Gene-commentary_heading': 'RefSeqs maintained independently of Annotated Genomes', 'Gene-commentary_products': [{'Gene-commentary_type': StringElement('3', attributes={'value': 'mRNA'}), 'Gene-commentary_heading': 'mRNA Sequence', 'Gene-commentary_accession': 'NM_001244036', 'Gene-commentary_version': '1', 'Gene-commentary_source': [{'Other-source_src': {'Dbtag': {'Dbtag_db': 'Nucleotide', 'Dbtag_tag': {'Object-id': {'Object-id_id': '345842375'}}}}, 'Other-source_anchor': 'NM_001244036'}], 'Gene-commentary_seqs': [{'Seq-loc_whole': {'Seq-id': {'Seq-id_gi': '345842375'}}}], 'Gene-commentary_products': [{'Gene-commentary_type': StringElement('8', attributes={'value': 'peptide'}), 'Gene-commentary_heading': 'Product', 'Gene-commentary_accession': 'NP_001230965', 'Gene-commentary_version': '1', 'Gene-commentary_source': [{'Other-source_src': {'Dbtag': {'Dbtag_db': 'Protein', 'Dbtag_tag': {'Object-id': {'Object-id_id': '345842376'}}}}, 'Other-source_anchor': 'NP_001230965', 'Other-source_post-text': 'sterol regulatory element-binding protein cleavage-activating protein'}], 'Gene-commentary_seqs': [{'Seq-loc_whole': {'Seq-id': {'Seq-id_gi': '345842376'}}}], 'Gene-commentary_comment': [{'Gene-commentary_type': StringElement('255', attributes={'value': 'other'}), 'Gene-commentary_heading': 'Conserved Domains', 'Gene-commentary_source': [{'Other-source_pre-text': '(8)', 'Other-source_anchor': 'summary'}], 'Gene-commentary_comment': [{'Gene-commentary_type': StringElement('255', attributes={'value': 'other'}), 'Gene-commentary_source': [{'Other-source_src': {'Dbtag': {'Dbtag_db': 'CDD', 'Dbtag_tag': {'Object-id': {'Object-id_id': '197651'}}}}, 'Other-source_anchor': 'smart00320: WD40; WD40 repeats'}], 'Gene-commentary_comment': [{'Gene-commentary_type': StringElement('255', attributes={'value': 'other'}), 'Gene-commentary_text': 'Location: 771 - 802'}]}, {'Gene-commentary_type': StringElement('255', attributes={'value': 'other'}), 'Gene-commentary_source': [{'Other-source_src': {'Dbtag': {'Dbtag_db': 'CDD', 'Dbtag_tag': {'Object-id': {'Object-id_id': '225201'}}}}, 'Other-source_anchor': 'COG2319: WD40; WD40 repeat  [General function prediction only]'}], 'Gene-commentary_comment': [{'Gene-commentary_type': StringElement('255', attributes={'value': 'other'}), 'Gene-commentary_text': 'Location: 1088 - 1238'}]}, {'Gene-commentary_type': StringElement('255', attributes={'value': 'other'}), 'Gene-commentary_source': [{'Other-source_src': {'Dbtag': {'Dbtag_db': 'CDD', 'Dbtag_tag': {'Object-id': {'Object-id_id': '289145'}}}}, 'Other-source_anchor': 'pfam12349: Sterol-sensing; Sterol-sensing domain of SREBP cleavage-activation'}], 'Gene-commentary_comment': [{'Gene-commentary_type': StringElement('255', attributes={'value': 'other'}), 'Gene-commentary_text': 'Location: 308 - 457'}]}, {'Gene-commentary_type': StringElement('255', attributes={'value': 'other'}), 'Gene-commentary_source': [{'Other-source_src': {'Dbtag': {'Dbtag_db': 'CDD', 'Dbtag_tag': {'Object-id': {'Object-id_id': '293791'}}}}, 'Other-source_anchor': 'sd00039: 7WD40; WD40 repeat [structural motif]'}], 'Gene-commentary_comment': [{'Gene-commentary_type': StringElement('255', attributes={'value': 'other'}), 'Gene-commentary_text': 'Location: 1004 - 1044'}, {'Gene-commentary_type': StringElement('255', attributes={'value': 'other'}), 'Gene-commentary_text': 'Location: 1079 - 1113'}, {'Gene-commentary_type': StringElement('255', attributes={'value': 'other'}), 'Gene-commentary_text': 'Location: 1120 - 1153'}, {'Gene-commentary_type': StringElement('255', attributes={'value': 'other'}), 'Gene-commentary_text': 'Location: 1160 - 1194'}]}, {'Gene-commentary_type': StringElement('255', attributes={'value': 'other'}), 'Gene-commentary_source': [{'Other-source_src': {'Dbtag': {'Dbtag_db': 'CDD', 'Dbtag_tag': {'Object-id': {'Object-id_id': '295369'}}}}, 'Other-source_anchor': 'cl02567: WD40; WD40 domain, found in a number of eukaryotic proteins that cover a wide variety of functions including adaptor/regulatory modules in signal transduction, pre-mRNA processing and cytoskeleton assembly; typically contains a GH dipeptide 11-24 residues from ...'}], 'Gene-commentary_comment': [{'Gene-commentary_type': StringElement('255', attributes={'value': 'other'}), 'Gene-commentary_text': 'Location: 1075 - 1232'}]}]}, {'Gene-commentary_type': StringElement('255', attributes={'value': 'other'}), 'Gene-commentary_heading': 'UniProtKB', 'Gene-commentary_source': [], 'Gene-commentary_comment': [{'Gene-commentary_type': StringElement('255', attributes={'value': 'other'}), 'Gene-commentary_source': [{'Other-source_src': {'Dbtag': {'Dbtag_db': 'UniProtKB/TrEMBL', 'Dbtag_tag': {'Object-id': {'Object-id_str': 'G3HKR2'}}}}, 'Other-source_anchor': 'G3HKR2'}, {'Other-source_src': {'Dbtag': {'Dbtag_db': 'UniProtKB/Swiss-Prot', 'Dbtag_tag': {'Object-id': {'Object-id_str': 'P97260'}}}}, 'Other-source_anchor': 'P97260'}, {'Other-source_src': {'Dbtag': {'Dbtag_db': 'UniProtKB/Swiss-Prot', 'Dbtag_tag': {'Object-id': {'Object-id_str': 'Q2WEK9'}}}}, 'Other-source_anchor': 'Q2WEK9'}]}]}]}], 'Gene-commentary_comment': [{'Gene-commentary_type': StringElement('254', attributes={'value': 'comment'}), 'Gene-commentary_label': 'RefSeq Status', 'Gene-commentary_text': 'PROVISIONAL'}, {'Gene-commentary_type': StringElement('255', attributes={'value': 'other'}), 'Gene-commentary_heading': 'Source Sequence', 'Gene-commentary_source': [{'Other-source_src': {'Dbtag': {'Dbtag_db': 'Nucleotide', 'Dbtag_tag': {'Object-id': {'Object-id_str': 'U67060'}}}}, 'Other-source_anchor': 'U67060'}]}, {'Gene-commentary_type': StringElement('255', attributes={'value': 'other'}), 'Gene-commentary_heading': 'Related', 'Gene-commentary_source': [{'Other-source_src': {'Dbtag': {'Dbtag_db': 'Ensembl', 'Dbtag_tag': {'Object-id': {'Object-id_str': 'ENSCGRT00015027641.2'}}}}}]}]}]}, {'Gene-commentary_type': StringElement('254', attributes={'value': 'comment'}), 'Gene-commentary_heading': 'RefSeqs of Annotated Genomes: Cricetulus griseus Annotation Release 104', 'Gene-commentary_products': [{'Gene-commentary_type': StringElement('1', attributes={'value': 'genomic'}), 'Gene-commentary_heading': 'Reference CriGri_1.0 Primary Assembly', 'Gene-commentary_accession': 'NW_003614047', 'Gene-commentary_version': '1', 'Gene-commentary_source': [{'Other-source_src': {'Dbtag': {'Dbtag_db': 'Nucleotide', 'Dbtag_tag': {'Object-id': {'Object-id_id': '351517502'}}}}}], 'Gene-commentary_seqs': [{'Seq-loc_int': {'Seq-interval': {'Seq-interval_from': '910892', 'Seq-interval_to': '941247', 'Seq-interval_strand': {'Na-strand': StringElement('', attributes={'value': 'plus'})}, 'Seq-interval_id': {'Seq-id': {'Seq-id_gi': '351517502'}}, 'Seq-interval_fuzz-from': {'Int-fuzz': {'Int-fuzz_lim': StringElement('', attributes={'value': 'lt'})}}}}}]}, {'Gene-commentary_type': StringElement('1', attributes={'value': 'genomic'}), 'Gene-commentary_heading': 'Alternate CriGri-PICRH-1.0', 'Gene-commentary_accession': 'NC_048597', 'Gene-commentary_version': '1', 'Gene-commentary_source': [{'Other-source_src': {'Dbtag': {'Dbtag_db': 'Nucleotide', 'Dbtag_tag': {'Object-id': {'Object-id_id': '1859291803'}}}}}], 'Gene-commentary_seqs': [{'Seq-loc_int': {'Seq-interval': {'Seq-interval_from': '217832647', 'Seq-interval_to': '217863219', 'Seq-interval_strand': {'Na-strand': StringElement('', attributes={'value': 'plus'})}, 'Seq-interval_id': {'Seq-id': {'Seq-id_gi': '1859291803'}}, 'Seq-interval_fuzz-from': {'Int-fuzz': {'Int-fuzz_lim': StringElement('', attributes={'value': 'lt'})}}}}}], 'Gene-commentary_products': []}]}]}, {'Gene-commentary_type': StringElement('254', attributes={'value': 'comment'}), 'Gene-commentary_heading': 'Related Sequences', 'Gene-commentary_products': [{'Gene-commentary_type': StringElement('1', attributes={'value': 'genomic'}), 'Gene-commentary_heading': 'Genomic', 'Gene-commentary_accession': 'AFTD01001719', 'Gene-commentary_version': '1', 'Gene-commentary_source': [{'Other-source_src': {'Dbtag': {'Dbtag_db': 'Nucleotide', 'Dbtag_tag': {'Object-id': {'Object-id_id': '342647214'}}}}, 'Other-source_anchor': 'AFTD01001719.1'}], 'Gene-commentary_seqs': [{'Seq-loc_int': {'Seq-interval': {'Seq-interval_from': '8055', 'Seq-interval_to': '35651', 'Seq-interval_strand': {'Na-strand': StringElement('', attributes={'value': 'plus'})}, 'Seq-interval_id': {'Seq-id': {'Seq-id_gi': '342647214'}}}}}], 'Gene-commentary_products': [{'Gene-commentary_type': StringElement('8', attributes={'value': 'peptide'}), 'Gene-commentary_text': 'None'}]}, {'Gene-commentary_type': StringElement('1', attributes={'value': 'genomic'}), 'Gene-commentary_heading': 'Genomic', 'Gene-commentary_accession': 'AFTD01001720', 'Gene-commentary_version': '1', 'Gene-commentary_source': [{'Other-source_src': {'Dbtag': {'Dbtag_db': 'Nucleotide', 'Dbtag_tag': {'Object-id': {'Object-id_id': '342647213'}}}}, 'Other-source_anchor': 'AFTD01001720.1'}], 'Gene-commentary_products': [{'Gene-commentary_type': StringElement('8', attributes={'value': 'peptide'}), 'Gene-commentary_text': 'None'}]}, {'Gene-commentary_type': StringElement('1', attributes={'value': 'genomic'}), 'Gene-commentary_heading': 'Genomic', 'Gene-commentary_accession': 'JH000468', 'Gene-commentary_version': '1', 'Gene-commentary_source': [{'Other-source_src': {'Dbtag': {'Dbtag_db': 'Nucleotide', 'Dbtag_tag': {'Object-id': {'Object-id_id': '344164597'}}}}, 'Other-source_anchor': 'JH000468.1'}], 'Gene-commentary_seqs': [{'Seq-loc_whole': {'Seq-id': {'Seq-id_gi': '344164597'}}}], 'Gene-commentary_products': [{'Gene-commentary_type': StringElement('8', attributes={'value': 'peptide'}), 'Gene-commentary_accession': 'EGV92151', 'Gene-commentary_version': '1', 'Gene-commentary_source': [{'Other-source_src': {'Dbtag': {'Dbtag_db': 'Protein', 'Dbtag_tag': {'Object-id': {'Object-id_id': '344236048'}}}}, 'Other-source_anchor': 'EGV92151.1'}], 'Gene-commentary_seqs': [{'Seq-loc_whole': {'Seq-id': {'Seq-id_gi': '344236048'}}}]}]}, {'Gene-commentary_type': StringElement('1', attributes={'value': 'genomic'}), 'Gene-commentary_heading': 'Genomic', 'Gene-commentary_accession': 'RAZU02000005', 'Gene-commentary_version': '1', 'Gene-commentary_source': [{'Other-source_src': {'Dbtag': {'Dbtag_db': 'Nucleotide', 'Dbtag_tag': {'Object-id': {'Object-id_id': '1850228385'}}}}, 'Other-source_anchor': 'RAZU02000005.1'}], 'Gene-commentary_seqs': [{'Seq-loc_int': {'Seq-interval': {'Seq-interval_from': '217832647', 'Seq-interval_to': '217863219', 'Seq-interval_strand': {'Na-strand': StringElement('', attributes={'value': 'plus'})}, 'Seq-interval_id': {'Seq-id': {'Seq-id_gi': '1850228385'}}}}}], 'Gene-commentary_products': [{'Gene-commentary_type': StringElement('8', attributes={'value': 'peptide'}), 'Gene-commentary_text': 'None'}], 'Gene-commentary_comment': [{'Gene-commentary_type': StringElement('255', attributes={'value': 'other'}), 'Gene-commentary_label': 'Strain', 'Gene-commentary_text': '17A/GY'}]}, {'Gene-commentary_type': StringElement('3', attributes={'value': 'mRNA'}), 'Gene-commentary_heading': 'mRNA', 'Gene-commentary_accession': 'AF541996', 'Gene-commentary_version': '1', 'Gene-commentary_source': [{'Other-source_src': {'Dbtag': {'Dbtag_db': 'Nucleotide', 'Dbtag_tag': {'Object-id': {'Object-id_id': '33332336'}}}}, 'Other-source_anchor': 'AF541996.1'}], 'Gene-commentary_seqs': [{'Seq-loc_whole': {'Seq-id': {'Seq-id_gi': '33332336'}}}], 'Gene-commentary_products': [{'Gene-commentary_type': StringElement('8', attributes={'value': 'peptide'}), 'Gene-commentary_accession': 'AAQ11376', 'Gene-commentary_version': '1', 'Gene-commentary_source': [{'Other-source_src': {'Dbtag': {'Dbtag_db': 'Protein', 'Dbtag_tag': {'Object-id': {'Object-id_id': '33332337'}}}}, 'Other-source_anchor': 'AAQ11376.1'}], 'Gene-commentary_seqs': [{'Seq-loc_whole': {'Seq-id': {'Seq-id_gi': '33332337'}}}]}]}, {'Gene-commentary_type': StringElement('3', attributes={'value': 'mRNA'}), 'Gene-commentary_heading': 'mRNA', 'Gene-commentary_accession': 'IACG01087800', 'Gene-commentary_version': '1', 'Gene-commentary_source': [{'Other-source_src': {'Dbtag': {'Dbtag_db': 'Nucleotide', 'Dbtag_tag': {'Object-id': {'Object-id_str': 'IACG01087800.1'}}}}, 'Other-source_anchor': 'IACG01087800.1'}], 'Gene-commentary_seqs': [{'Seq-loc_whole': {'Seq-id': {'Seq-id_ddbj': {'Textseq-id': {'Textseq-id_accession': 'IACG01087800', 'Textseq-id_version': '1'}}}}}], 'Gene-commentary_products': [{'Gene-commentary_type': StringElement('8', attributes={'value': 'peptide'}), 'Gene-commentary_text': 'None'}]}, {'Gene-commentary_type': StringElement('3', attributes={'value': 'mRNA'}), 'Gene-commentary_heading': 'mRNA', 'Gene-commentary_accession': 'JI875255', 'Gene-commentary_version': '1', 'Gene-commentary_source': [{'Other-source_src': {'Dbtag': {'Dbtag_db': 'Nucleotide', 'Dbtag_tag': {'Object-id': {'Object-id_id': '332397788'}}}}, 'Other-source_anchor': 'JI875255.1'}], 'Gene-commentary_seqs': [{'Seq-loc_whole': {'Seq-id': {'Seq-id_gi': '332397788'}}}], 'Gene-commentary_products': [{'Gene-commentary_type': StringElement('8', attributes={'value': 'peptide'}), 'Gene-commentary_text': 'None'}]}, {'Gene-commentary_type': StringElement('3', attributes={'value': 'mRNA'}), 'Gene-commentary_heading': 'mRNA', 'Gene-commentary_accession': 'JI886943', 'Gene-commentary_version': '1', 'Gene-commentary_source': [{'Other-source_src': {'Dbtag': {'Dbtag_db': 'Nucleotide', 'Dbtag_tag': {'Object-id': {'Object-id_id': '332409476'}}}}, 'Other-source_anchor': 'JI886943.1'}], 'Gene-commentary_seqs': [{'Seq-loc_whole': {'Seq-id': {'Seq-id_gi': '332409476'}}}], 'Gene-commentary_products': [{'Gene-commentary_type': StringElement('8', attributes={'value': 'peptide'}), 'Gene-commentary_text': 'None'}]}, {'Gene-commentary_type': StringElement('3', attributes={'value': 'mRNA'}), 'Gene-commentary_heading': 'mRNA', 'Gene-commentary_accession': 'JP045587', 'Gene-commentary_version': '1', 'Gene-commentary_source': [{'Other-source_src': {'Dbtag': {'Dbtag_db': 'Nucleotide', 'Dbtag_tag': {'Object-id': {'Object-id_id': '345698398'}}}}, 'Other-source_anchor': 'JP045587.1'}], 'Gene-commentary_seqs': [{'Seq-loc_whole': {'Seq-id': {'Seq-id_gi': '345698398'}}}], 'Gene-commentary_products': [{'Gene-commentary_type': StringElement('8', attributes={'value': 'peptide'}), 'Gene-commentary_text': 'None'}]}, {'Gene-commentary_type': StringElement('3', attributes={'value': 'mRNA'}), 'Gene-commentary_heading': 'mRNA', 'Gene-commentary_accession': 'JP059734', 'Gene-commentary_version': '1', 'Gene-commentary_source': [{'Other-source_src': {'Dbtag': {'Dbtag_db': 'Nucleotide', 'Dbtag_tag': {'Object-id': {'Object-id_id': '345712545'}}}}, 'Other-source_anchor': 'JP059734.1'}], 'Gene-commentary_seqs': [{'Seq-loc_whole': {'Seq-id': {'Seq-id_gi': '345712545'}}}], 'Gene-commentary_products': [{'Gene-commentary_type': StringElement('8', attributes={'value': 'peptide'}), 'Gene-commentary_text': 'None'}]}, {'Gene-commentary_type': StringElement('3', attributes={'value': 'mRNA'}), 'Gene-commentary_heading': 'mRNA', 'Gene-commentary_accession': 'U67060', 'Gene-commentary_version': '1', 'Gene-commentary_source': [{'Other-source_src': {'Dbtag': {'Dbtag_db': 'Nucleotide', 'Dbtag_tag': {'Object-id': {'Object-id_id': '1675219'}}}}, 'Other-source_anchor': 'U67060.1'}], 'Gene-commentary_seqs': [{'Seq-loc_whole': {'Seq-id': {'Seq-id_gi': '1675219'}}}], 'Gene-commentary_products': [{'Gene-commentary_type': StringElement('8', attributes={'value': 'peptide'}), 'Gene-commentary_accession': 'AAB19103', 'Gene-commentary_version': '1', 'Gene-commentary_source': [{'Other-source_src': {'Dbtag': {'Dbtag_db': 'Protein', 'Dbtag_tag': {'Object-id': {'Object-id_id': '1675220'}}}}, 'Other-source_anchor': 'AAB19103.1'}], 'Gene-commentary_seqs': [{'Seq-loc_whole': {'Seq-id': {'Seq-id_gi': '1675220'}}}]}]}, {'Gene-commentary_type': StringElement('255', attributes={'value': 'other'}), 'Gene-commentary_text': 'None', 'Gene-commentary_products': [{'Gene-commentary_type': StringElement('8', attributes={'value': 'peptide'}), 'Gene-commentary_accession': 'P97260', 'Gene-commentary_version': '1', 'Gene-commentary_source': [{'Other-source_src': {'Dbtag': {'Dbtag_db': 'Protein', 'Dbtag_tag': {'Object-id': {'Object-id_id': '17368397'}}}}}, {'Other-source_src': {'Dbtag': {'Dbtag_db': 'UniProtKB/Swiss-Prot', 'Dbtag_tag': {'Object-id': {'Object-id_str': 'P97260.1'}}}}, 'Other-source_anchor': 'UniProtKB/Swiss-Prot:P97260', 'Other-source_url': 'https://www.uniprot.org/uniprot/P97260'}], 'Gene-commentary_seqs': [{'Seq-loc_whole': {'Seq-id': {'Seq-id_gi': '17368397'}}}]}]}]}, {'Gene-commentary_type': StringElement('18', attributes={'value': 'generif'}), 'Gene-commentary_text': 'Data indicate that scap protein Loop1, when expresses alone, remained intracellular and membrane-bound, but when Loop7 was co-expressed, it bound to Loop1, and the soluble complex was secreted.', 'Gene-commentary_refs': [{'Pub_pmid': {'PubMedId': '27068746'}}], 'Gene-commentary_create-date': {'Date': {'Date_std': {'Date-std': {'Date-std_year': '2016', 'Date-std_month': '12', 'Date-std_day': '17', 'Date-std_hour': '10', 'Date-std_minute': '2', 'Date-std_second': '0'}}}}, 'Gene-commentary_update-date': {'Date': {'Date_std': {'Date-std': {'Date-std_year': '2016', 'Date-std_month': '12', 'Date-std_day': '17', 'Date-std_hour': '10', 'Date-std_minute': '40', 'Date-std_second': '0'}}}}}, {'Gene-commentary_type': StringElement('18', attributes={'value': 'generif'}), 'Gene-commentary_heading': 'Interactions', 'Gene-commentary_comment': [{'Gene-commentary_type': StringElement('18', attributes={'value': 'generif'}), 'Gene-commentary_text': 'Affinity Capture-Western; Co-localization', 'Gene-commentary_refs': [{'Pub_pmid': {'PubMedId': '31541353'}}], 'Gene-commentary_source': [{'Other-source_src': {'Dbtag': {'Dbtag_db': 'BioGRID', 'Dbtag_tag': {'Object-id': {'Object-id_id': '1613731'}}}}, 'Other-source_anchor': 'BioGRID'}], 'Gene-commentary_comment': [{'Gene-commentary_type': StringElement('255', attributes={'value': 'other'}), 'Gene-commentary_source': [{'Other-source_src': {'Dbtag': {'Dbtag_db': 'BioGRID', 'Dbtag_tag': {'Object-id': {'Object-id_id': '1613731'}}}}}]}, {'Gene-commentary_type': StringElement('255', attributes={'value': 'other'}), 'Gene-commentary_source': [{'Other-source_src': {'Dbtag': {'Dbtag_db': 'GeneID', 'Dbtag_tag': {'Object-id': {'Object-id_id': '78968'}}}}, 'Other-source_anchor': 'Srebf1'}, {'Other-source_src': {'Dbtag': {'Dbtag_db': 'BioGRID', 'Dbtag_tag': {'Object-id': {'Object-id_id': '249376'}}}}}]}], 'Gene-commentary_create-date': {'Date': {'Date_std': {'Date-std': {'Date-std_year': '2023', 'Date-std_month': '7', 'Date-std_day': '9', 'Date-std_hour': '10', 'Date-std_minute': '46', 'Date-std_second': '0'}}}}, 'Gene-commentary_update-date': {'Date': {'Date_std': {'Date-std': {'Date-std_year': '2023', 'Date-std_month': '7', 'Date-std_day': '9', 'Date-std_hour': '13', 'Date-std_minute': '13', 'Date-std_second': '0'}}}}}, {'Gene-commentary_type': StringElement('18', attributes={'value': 'generif'}), 'Gene-commentary_text': 'Affinity Capture-Western', 'Gene-commentary_refs': [{'Pub_pmid': {'PubMedId': '17428920'}}], 'Gene-commentary_source': [{'Other-source_src': {'Dbtag': {'Dbtag_db': 'BioGRID', 'Dbtag_tag': {'Object-id': {'Object-id_id': '1613731'}}}}, 'Other-source_anchor': 'BioGRID'}], 'Gene-commentary_comment': [{'Gene-commentary_type': StringElement('255', attributes={'value': 'other'}), 'Gene-commentary_source': [{'Other-source_src': {'Dbtag': {'Dbtag_db': 'BioGRID', 'Dbtag_tag': {'Object-id': {'Object-id_id': '1613731'}}}}}]}, {'Gene-commentary_type': StringElement('255', attributes={'value': 'other'}), 'Gene-commentary_source': [{'Other-source_src': {'Dbtag': {'Dbtag_db': 'GeneID', 'Dbtag_tag': {'Object-id': {'Object-id_id': '51141'}}}}, 'Other-source_anchor': 'INSIG2'}, {'Other-source_src': {'Dbtag': {'Dbtag_db': 'BioGRID', 'Dbtag_tag': {'Object-id': {'Object-id_id': '119325'}}}}}]}], 'Gene-commentary_create-date': {'Date': {'Date_std': {'Date-std': {'Date-std_year': '2021', 'Date-std_month': '4', 'Date-std_day': '4', 'Date-std_hour': '10', 'Date-std_minute': '19', 'Date-std_second': '0'}}}}, 'Gene-commentary_update-date': {'Date': {'Date_std': {'Date-std': {'Date-std_year': '2021', 'Date-std_month': '4', 'Date-std_day': '4', 'Date-std_hour': '10', 'Date-std_minute': '41', 'Date-std_second': '0'}}}}}, {'Gene-commentary_type': StringElement('18', attributes={'value': 'generif'}), 'Gene-commentary_text': 'Affinity Capture-Western', 'Gene-commentary_refs': [{'Pub_pmid': {'PubMedId': '24217618'}}], 'Gene-commentary_source': [{'Other-source_src': {'Dbtag': {'Dbtag_db': 'BioGRID', 'Dbtag_tag': {'Object-id': {'Object-id_id': '1613731'}}}}, 'Other-source_anchor': 'BioGRID'}], 'Gene-commentary_comment': [{'Gene-commentary_type': StringElement('255', attributes={'value': 'other'}), 'Gene-commentary_source': [{'Other-source_src': {'Dbtag': {'Dbtag_db': 'BioGRID', 'Dbtag_tag': {'Object-id': {'Object-id_id': '1613731'}}}}}]}, {'Gene-commentary_type': StringElement('255', attributes={'value': 'other'}), 'Gene-commentary_source': [{'Other-source_src': {'Dbtag': {'Dbtag_db': 'GeneID', 'Dbtag_tag': {'Object-id': {'Object-id_id': '10613'}}}}, 'Other-source_anchor': 'ERLIN1'}, {'Other-source_src': {'Dbtag': {'Dbtag_db': 'BioGRID', 'Dbtag_tag': {'Object-id': {'Object-id_id': '115859'}}}}}]}], 'Gene-commentary_create-date': {'Date': {'Date_std': {'Date-std': {'Date-std_year': '2014', 'Date-std_month': '9', 'Date-std_day': '7', 'Date-std_hour': '10', 'Date-std_minute': '59', 'Date-std_second': '0'}}}}, 'Gene-commentary_update-date': {'Date': {'Date_std': {'Date-std': {'Date-std_year': '2018', 'Date-std_month': '8', 'Date-std_day': '5', 'Date-std_hour': '15', 'Date-std_minute': '46', 'Date-std_second': '0'}}}}}]}, {'Gene-commentary_type': StringElement('254', attributes={'value': 'comment'}), 'Gene-commentary_heading': 'Gene Location History', 'Gene-commentary_comment': [{'Gene-commentary_type': StringElement('254', attributes={'value': 'comment'}), 'Gene-commentary_heading': 'Cricetulus griseus Annotation Release 104', 'Gene-commentary_comment': [{'Gene-commentary_type': StringElement('24', attributes={'value': 'assembly'}), 'Gene-commentary_heading': 'CriGri_1.0', 'Gene-commentary_label': 'Reference', 'Gene-commentary_text': 'current', 'Gene-commentary_accession': 'GCF_000223135', 'Gene-commentary_version': '1', 'Gene-commentary_comment': [{'Gene-commentary_type': StringElement('25', attributes={'value': 'assembly-unit'}), 'Gene-commentary_heading': 'Primary Assembly', 'Gene-commentary_accession': 'GCF_000223145', 'Gene-commentary_version': '1', 'Gene-commentary_comment': [{'Gene-commentary_type': StringElement('1', attributes={'value': 'genomic'}), 'Gene-commentary_label': 'Unplaced Scaffold', 'Gene-commentary_accession': 'NW_003614047', 'Gene-commentary_version': '1', 'Gene-commentary_seqs': [{'Seq-loc_int': {'Seq-interval': {'Seq-interval_from': '910892', 'Seq-interval_to': '941247', 'Seq-interval_strand': {'Na-strand': StringElement('', attributes={'value': 'plus'})}, 'Seq-interval_id': {'Seq-id': {'Seq-id_gi': '351517502'}}, 'Seq-interval_fuzz-from': {'Int-fuzz': {'Int-fuzz_lim': StringElement('', attributes={'value': 'lt'})}}}}}]}]}]}, {'Gene-commentary_type': StringElement('24', attributes={'value': 'assembly'}), 'Gene-commentary_heading': 'CriGri-PICRH-1.0', 'Gene-commentary_label': 'Alternate', 'Gene-commentary_text': 'current', 'Gene-commentary_accession': 'GCF_003668045', 'Gene-commentary_version': '3', 'Gene-commentary_comment': [{'Gene-commentary_type': StringElement('25', attributes={'value': 'assembly-unit'}), 'Gene-commentary_heading': 'Primary Assembly', 'Gene-commentary_accession': 'GCF_003668145', 'Gene-commentary_version': '2', 'Gene-commentary_comment': [{'Gene-commentary_type': StringElement('1', attributes={'value': 'genomic'}), 'Gene-commentary_label': 'Chromosome 4', 'Gene-commentary_accession': 'NC_048597', 'Gene-commentary_version': '1', 'Gene-commentary_seqs': [{'Seq-loc_int': {'Seq-interval': {'Seq-interval_from': '217832647', 'Seq-interval_to': '217863219', 'Seq-interval_strand': {'Na-strand': StringElement('', attributes={'value': 'plus'})}, 'Seq-interval_id': {'Seq-id': {'Seq-id_gi': '1859291803'}}, 'Seq-interval_fuzz-from': {'Int-fuzz': {'Int-fuzz_lim': StringElement('', attributes={'value': 'lt'})}}}}}]}]}]}]}, {'Gene-commentary_type': StringElement('254', attributes={'value': 'comment'}), 'Gene-commentary_heading': 'Cricetulus griseus Annotation Release 103', 'Gene-commentary_comment': [{'Gene-commentary_type': StringElement('24', attributes={'value': 'assembly'}), 'Gene-commentary_heading': 'CriGri_1.0', 'Gene-commentary_label': 'Reference', 'Gene-commentary_accession': 'GCF_000223135', 'Gene-commentary_version': '1', 'Gene-commentary_comment': [{'Gene-commentary_type': StringElement('25', attributes={'value': 'assembly-unit'}), 'Gene-commentary_heading': 'Primary Assembly', 'Gene-commentary_accession': 'GCF_000223145', 'Gene-commentary_version': '1', 'Gene-commentary_comment': [{'Gene-commentary_type': StringElement('1', attributes={'value': 'genomic'}), 'Gene-commentary_label': 'Unplaced Scaffold', 'Gene-commentary_accession': 'NW_003614047', 'Gene-commentary_version': '1', 'Gene-commentary_seqs': [{'Seq-loc_int': {'Seq-interval': {'Seq-interval_from': '910892', 'Seq-interval_to': '941247', 'Seq-interval_strand': {'Na-strand': StringElement('', attributes={'value': 'plus'})}, 'Seq-interval_id': {'Seq-id': {'Seq-id_gi': '351517502'}}, 'Seq-interval_fuzz-from': {'Int-fuzz': {'Int-fuzz_lim': StringElement('', attributes={'value': 'lt'})}}}}}]}]}]}, {'Gene-commentary_type': StringElement('24', attributes={'value': 'assembly'}), 'Gene-commentary_heading': 'CriGri-PICR', 'Gene-commentary_label': 'Alternate', 'Gene-commentary_accession': 'GCF_003668045', 'Gene-commentary_version': '1', 'Gene-commentary_comment': [{'Gene-commentary_type': StringElement('25', attributes={'value': 'assembly-unit'}), 'Gene-commentary_heading': 'Primary Assembly', 'Gene-commentary_accession': 'GCF_003668145', 'Gene-commentary_version': '1', 'Gene-commentary_comment': [{'Gene-commentary_type': StringElement('1', attributes={'value': 'genomic'}), 'Gene-commentary_label': 'Chromosome 4 Unlocalized Scaffold', 'Gene-commentary_accession': 'NW_020822532', 'Gene-commentary_version': '1', 'Gene-commentary_seqs': [{'Seq-loc_int': {'Seq-interval': {'Seq-interval_from': '10490861', 'Seq-interval_to': '10521433', 'Seq-interval_strand': {'Na-strand': StringElement('', attributes={'value': 'plus'})}, 'Seq-interval_id': {'Seq-id': {'Seq-id_gi': '1497154709'}}, 'Seq-interval_fuzz-from': {'Int-fuzz': {'Int-fuzz_lim': StringElement('', attributes={'value': 'lt'})}}}}}]}]}]}]}]}]\n",
      "Entrezgene_unique-keys [{'Dbtag_db': 'LocusID', 'Dbtag_tag': {'Object-id': {'Object-id_id': '100689048'}}}]\n",
      "Entrezgene_xtra-index-terms ['LOC100689048']\n"
     ]
    }
   ],
   "source": [
    "for assembly_specific_gene in gene_record[0]:\n",
    "    print(assembly_specific_gene, gene_record[0][assembly_specific_gene])"
   ]
  },
  {
   "cell_type": "code",
   "execution_count": 161,
   "id": "d541ad8b",
   "metadata": {},
   "outputs": [
    {
     "name": "stdout",
     "output_type": "stream",
     "text": [
      "Gene-commentary_type 3\n",
      "Gene-commentary_heading Reference\n",
      "Gene-commentary_accession NM_001244036\n",
      "Gene-commentary_version 1\n",
      "Gene-commentary_genomic-coords [{'Seq-loc_mix': {'Seq-loc-mix': [{'Seq-loc_int': {'Seq-interval': {'Seq-interval_from': '910892', 'Seq-interval_to': '911112', 'Seq-interval_strand': {'Na-strand': StringElement('', attributes={'value': 'plus'})}, 'Seq-interval_id': {'Seq-id': {'Seq-id_gi': '351517502'}}, 'Seq-interval_fuzz-from': {'Int-fuzz': {'Int-fuzz_lim': StringElement('', attributes={'value': 'lt'})}}}}}, {'Seq-loc_int': {'Seq-interval': {'Seq-interval_from': '919004', 'Seq-interval_to': '919133', 'Seq-interval_strand': {'Na-strand': StringElement('', attributes={'value': 'plus'})}, 'Seq-interval_id': {'Seq-id': {'Seq-id_gi': '351517502'}}}}}, {'Seq-loc_int': {'Seq-interval': {'Seq-interval_from': '928903', 'Seq-interval_to': '929060', 'Seq-interval_strand': {'Na-strand': StringElement('', attributes={'value': 'plus'})}, 'Seq-interval_id': {'Seq-id': {'Seq-id_gi': '351517502'}}}}}, {'Seq-loc_int': {'Seq-interval': {'Seq-interval_from': '929727', 'Seq-interval_to': '929947', 'Seq-interval_strand': {'Na-strand': StringElement('', attributes={'value': 'plus'})}, 'Seq-interval_id': {'Seq-id': {'Seq-id_gi': '351517502'}}}}}, {'Seq-loc_int': {'Seq-interval': {'Seq-interval_from': '930142', 'Seq-interval_to': '930247', 'Seq-interval_strand': {'Na-strand': StringElement('', attributes={'value': 'plus'})}, 'Seq-interval_id': {'Seq-id': {'Seq-id_gi': '351517502'}}}}}, {'Seq-loc_int': {'Seq-interval': {'Seq-interval_from': '930761', 'Seq-interval_to': '930933', 'Seq-interval_strand': {'Na-strand': StringElement('', attributes={'value': 'plus'})}, 'Seq-interval_id': {'Seq-id': {'Seq-id_gi': '351517502'}}}}}, {'Seq-loc_int': {'Seq-interval': {'Seq-interval_from': '931272', 'Seq-interval_to': '931398', 'Seq-interval_strand': {'Na-strand': StringElement('', attributes={'value': 'plus'})}, 'Seq-interval_id': {'Seq-id': {'Seq-id_gi': '351517502'}}}}}, {'Seq-loc_int': {'Seq-interval': {'Seq-interval_from': '933203', 'Seq-interval_to': '933315', 'Seq-interval_strand': {'Na-strand': StringElement('', attributes={'value': 'plus'})}, 'Seq-interval_id': {'Seq-id': {'Seq-id_gi': '351517502'}}}}}, {'Seq-loc_int': {'Seq-interval': {'Seq-interval_from': '934537', 'Seq-interval_to': '934631', 'Seq-interval_strand': {'Na-strand': StringElement('', attributes={'value': 'plus'})}, 'Seq-interval_id': {'Seq-id': {'Seq-id_gi': '351517502'}}}}}, {'Seq-loc_int': {'Seq-interval': {'Seq-interval_from': '935426', 'Seq-interval_to': '935524', 'Seq-interval_strand': {'Na-strand': StringElement('', attributes={'value': 'plus'})}, 'Seq-interval_id': {'Seq-id': {'Seq-id_gi': '351517502'}}}}}, {'Seq-loc_int': {'Seq-interval': {'Seq-interval_from': '935653', 'Seq-interval_to': '935871', 'Seq-interval_strand': {'Na-strand': StringElement('', attributes={'value': 'plus'})}, 'Seq-interval_id': {'Seq-id': {'Seq-id_gi': '351517502'}}}}}, {'Seq-loc_int': {'Seq-interval': {'Seq-interval_from': '936484', 'Seq-interval_to': '936860', 'Seq-interval_strand': {'Na-strand': StringElement('', attributes={'value': 'plus'})}, 'Seq-interval_id': {'Seq-id': {'Seq-id_gi': '351517502'}}}}}, {'Seq-loc_int': {'Seq-interval': {'Seq-interval_from': '937230', 'Seq-interval_to': '937418', 'Seq-interval_strand': {'Na-strand': StringElement('', attributes={'value': 'plus'})}, 'Seq-interval_id': {'Seq-id': {'Seq-id_gi': '351517502'}}}}}, {'Seq-loc_int': {'Seq-interval': {'Seq-interval_from': '937504', 'Seq-interval_to': '937705', 'Seq-interval_strand': {'Na-strand': StringElement('', attributes={'value': 'plus'})}, 'Seq-interval_id': {'Seq-id': {'Seq-id_gi': '351517502'}}}}}, {'Seq-loc_int': {'Seq-interval': {'Seq-interval_from': '937778', 'Seq-interval_to': '937893', 'Seq-interval_strand': {'Na-strand': StringElement('', attributes={'value': 'plus'})}, 'Seq-interval_id': {'Seq-id': {'Seq-id_gi': '351517502'}}}}}, {'Seq-loc_int': {'Seq-interval': {'Seq-interval_from': '937973', 'Seq-interval_to': '938484', 'Seq-interval_strand': {'Na-strand': StringElement('', attributes={'value': 'plus'})}, 'Seq-interval_id': {'Seq-id': {'Seq-id_gi': '351517502'}}}}}, {'Seq-loc_int': {'Seq-interval': {'Seq-interval_from': '938644', 'Seq-interval_to': '938731', 'Seq-interval_strand': {'Na-strand': StringElement('', attributes={'value': 'plus'})}, 'Seq-interval_id': {'Seq-id': {'Seq-id_gi': '351517502'}}}}}, {'Seq-loc_int': {'Seq-interval': {'Seq-interval_from': '939870', 'Seq-interval_to': '939952', 'Seq-interval_strand': {'Na-strand': StringElement('', attributes={'value': 'plus'})}, 'Seq-interval_id': {'Seq-id': {'Seq-id_gi': '351517502'}}}}}, {'Seq-loc_int': {'Seq-interval': {'Seq-interval_from': '940048', 'Seq-interval_to': '940214', 'Seq-interval_strand': {'Na-strand': StringElement('', attributes={'value': 'plus'})}, 'Seq-interval_id': {'Seq-id': {'Seq-id_gi': '351517502'}}}}}, {'Seq-loc_int': {'Seq-interval': {'Seq-interval_from': '940347', 'Seq-interval_to': '940427', 'Seq-interval_strand': {'Na-strand': StringElement('', attributes={'value': 'plus'})}, 'Seq-interval_id': {'Seq-id': {'Seq-id_gi': '351517502'}}}}}, {'Seq-loc_int': {'Seq-interval': {'Seq-interval_from': '940559', 'Seq-interval_to': '940765', 'Seq-interval_strand': {'Na-strand': StringElement('', attributes={'value': 'plus'})}, 'Seq-interval_id': {'Seq-id': {'Seq-id_gi': '351517502'}}}}}, {'Seq-loc_int': {'Seq-interval': {'Seq-interval_from': '940842', 'Seq-interval_to': '941247', 'Seq-interval_strand': {'Na-strand': StringElement('', attributes={'value': 'plus'})}, 'Seq-interval_id': {'Seq-id': {'Seq-id_gi': '351517502'}}}}}]}}]\n",
      "Gene-commentary_seqs [{'Seq-loc_whole': {'Seq-id': {'Seq-id_gi': '345842375'}}}]\n",
      "Gene-commentary_products [{'Gene-commentary_type': StringElement('8', attributes={'value': 'peptide'}), 'Gene-commentary_heading': 'Reference', 'Gene-commentary_accession': 'NP_001230965', 'Gene-commentary_version': '1', 'Gene-commentary_genomic-coords': [{'Seq-loc_mix': {'Seq-loc-mix': [{'Seq-loc_int': {'Seq-interval': {'Seq-interval_from': '910991', 'Seq-interval_to': '911112', 'Seq-interval_strand': {'Na-strand': StringElement('', attributes={'value': 'plus'})}, 'Seq-interval_id': {'Seq-id': {'Seq-id_gi': '351517502'}}}}}, {'Seq-loc_int': {'Seq-interval': {'Seq-interval_from': '919004', 'Seq-interval_to': '919133', 'Seq-interval_strand': {'Na-strand': StringElement('', attributes={'value': 'plus'})}, 'Seq-interval_id': {'Seq-id': {'Seq-id_gi': '351517502'}}}}}, {'Seq-loc_int': {'Seq-interval': {'Seq-interval_from': '928903', 'Seq-interval_to': '929060', 'Seq-interval_strand': {'Na-strand': StringElement('', attributes={'value': 'plus'})}, 'Seq-interval_id': {'Seq-id': {'Seq-id_gi': '351517502'}}}}}, {'Seq-loc_int': {'Seq-interval': {'Seq-interval_from': '929727', 'Seq-interval_to': '929947', 'Seq-interval_strand': {'Na-strand': StringElement('', attributes={'value': 'plus'})}, 'Seq-interval_id': {'Seq-id': {'Seq-id_gi': '351517502'}}}}}, {'Seq-loc_int': {'Seq-interval': {'Seq-interval_from': '930142', 'Seq-interval_to': '930247', 'Seq-interval_strand': {'Na-strand': StringElement('', attributes={'value': 'plus'})}, 'Seq-interval_id': {'Seq-id': {'Seq-id_gi': '351517502'}}}}}, {'Seq-loc_int': {'Seq-interval': {'Seq-interval_from': '930761', 'Seq-interval_to': '930933', 'Seq-interval_strand': {'Na-strand': StringElement('', attributes={'value': 'plus'})}, 'Seq-interval_id': {'Seq-id': {'Seq-id_gi': '351517502'}}}}}, {'Seq-loc_int': {'Seq-interval': {'Seq-interval_from': '931272', 'Seq-interval_to': '931398', 'Seq-interval_strand': {'Na-strand': StringElement('', attributes={'value': 'plus'})}, 'Seq-interval_id': {'Seq-id': {'Seq-id_gi': '351517502'}}}}}, {'Seq-loc_int': {'Seq-interval': {'Seq-interval_from': '933203', 'Seq-interval_to': '933315', 'Seq-interval_strand': {'Na-strand': StringElement('', attributes={'value': 'plus'})}, 'Seq-interval_id': {'Seq-id': {'Seq-id_gi': '351517502'}}}}}, {'Seq-loc_int': {'Seq-interval': {'Seq-interval_from': '934537', 'Seq-interval_to': '934631', 'Seq-interval_strand': {'Na-strand': StringElement('', attributes={'value': 'plus'})}, 'Seq-interval_id': {'Seq-id': {'Seq-id_gi': '351517502'}}}}}, {'Seq-loc_int': {'Seq-interval': {'Seq-interval_from': '935426', 'Seq-interval_to': '935524', 'Seq-interval_strand': {'Na-strand': StringElement('', attributes={'value': 'plus'})}, 'Seq-interval_id': {'Seq-id': {'Seq-id_gi': '351517502'}}}}}, {'Seq-loc_int': {'Seq-interval': {'Seq-interval_from': '935653', 'Seq-interval_to': '935871', 'Seq-interval_strand': {'Na-strand': StringElement('', attributes={'value': 'plus'})}, 'Seq-interval_id': {'Seq-id': {'Seq-id_gi': '351517502'}}}}}, {'Seq-loc_int': {'Seq-interval': {'Seq-interval_from': '936484', 'Seq-interval_to': '936860', 'Seq-interval_strand': {'Na-strand': StringElement('', attributes={'value': 'plus'})}, 'Seq-interval_id': {'Seq-id': {'Seq-id_gi': '351517502'}}}}}, {'Seq-loc_int': {'Seq-interval': {'Seq-interval_from': '937230', 'Seq-interval_to': '937418', 'Seq-interval_strand': {'Na-strand': StringElement('', attributes={'value': 'plus'})}, 'Seq-interval_id': {'Seq-id': {'Seq-id_gi': '351517502'}}}}}, {'Seq-loc_int': {'Seq-interval': {'Seq-interval_from': '937504', 'Seq-interval_to': '937705', 'Seq-interval_strand': {'Na-strand': StringElement('', attributes={'value': 'plus'})}, 'Seq-interval_id': {'Seq-id': {'Seq-id_gi': '351517502'}}}}}, {'Seq-loc_int': {'Seq-interval': {'Seq-interval_from': '937778', 'Seq-interval_to': '937893', 'Seq-interval_strand': {'Na-strand': StringElement('', attributes={'value': 'plus'})}, 'Seq-interval_id': {'Seq-id': {'Seq-id_gi': '351517502'}}}}}, {'Seq-loc_int': {'Seq-interval': {'Seq-interval_from': '937973', 'Seq-interval_to': '938484', 'Seq-interval_strand': {'Na-strand': StringElement('', attributes={'value': 'plus'})}, 'Seq-interval_id': {'Seq-id': {'Seq-id_gi': '351517502'}}}}}, {'Seq-loc_int': {'Seq-interval': {'Seq-interval_from': '938644', 'Seq-interval_to': '938731', 'Seq-interval_strand': {'Na-strand': StringElement('', attributes={'value': 'plus'})}, 'Seq-interval_id': {'Seq-id': {'Seq-id_gi': '351517502'}}}}}, {'Seq-loc_int': {'Seq-interval': {'Seq-interval_from': '939870', 'Seq-interval_to': '939952', 'Seq-interval_strand': {'Na-strand': StringElement('', attributes={'value': 'plus'})}, 'Seq-interval_id': {'Seq-id': {'Seq-id_gi': '351517502'}}}}}, {'Seq-loc_int': {'Seq-interval': {'Seq-interval_from': '940048', 'Seq-interval_to': '940214', 'Seq-interval_strand': {'Na-strand': StringElement('', attributes={'value': 'plus'})}, 'Seq-interval_id': {'Seq-id': {'Seq-id_gi': '351517502'}}}}}, {'Seq-loc_int': {'Seq-interval': {'Seq-interval_from': '940347', 'Seq-interval_to': '940427', 'Seq-interval_strand': {'Na-strand': StringElement('', attributes={'value': 'plus'})}, 'Seq-interval_id': {'Seq-id': {'Seq-id_gi': '351517502'}}}}}, {'Seq-loc_int': {'Seq-interval': {'Seq-interval_from': '940559', 'Seq-interval_to': '940765', 'Seq-interval_strand': {'Na-strand': StringElement('', attributes={'value': 'plus'})}, 'Seq-interval_id': {'Seq-id': {'Seq-id_gi': '351517502'}}}}}, {'Seq-loc_int': {'Seq-interval': {'Seq-interval_from': '940842', 'Seq-interval_to': '941087', 'Seq-interval_strand': {'Na-strand': StringElement('', attributes={'value': 'plus'})}, 'Seq-interval_id': {'Seq-id': {'Seq-id_gi': '351517502'}}}}}]}}], 'Gene-commentary_seqs': [{'Seq-loc_whole': {'Seq-id': {'Seq-id_gi': '345842376'}}}]}]\n",
      "END\n"
     ]
    }
   ],
   "source": [
    "t = gene_record[0]['Entrezgene_locus'][0]['Gene-commentary_products'][0]\n",
    "for i in t:\n",
    "    print(i, t[i])\n",
    "print(\"END\")"
   ]
  },
  {
   "cell_type": "code",
   "execution_count": 9,
   "id": "61015c42",
   "metadata": {},
   "outputs": [],
   "source": [
    "import pandas as pd\n",
    "All_Genes = pd.DataFrame()\n",
    "\n",
    "for i in range(1000, 35000, 1000):\n",
    "    Genes_temp = pd.read_excel('GeneIDs_' + str(i) + '.xlsx')\n",
    "    All_Genes = pd.concat([All_Genes, Genes_temp], ignore_index=True)\n",
    "All_Genes.to_excel('All_Genes.xlsx', index=False)"
   ]
  }
 ],
 "metadata": {
  "kernelspec": {
   "display_name": "Python 3 (ipykernel)",
   "language": "python",
   "name": "python3"
  },
  "language_info": {
   "codemirror_mode": {
    "name": "ipython",
    "version": 3
   },
   "file_extension": ".py",
   "mimetype": "text/x-python",
   "name": "python",
   "nbconvert_exporter": "python",
   "pygments_lexer": "ipython3",
   "version": "3.9.16"
  },
  "toc": {
   "base_numbering": 1,
   "nav_menu": {},
   "number_sections": true,
   "sideBar": true,
   "skip_h1_title": false,
   "title_cell": "Table of Contents",
   "title_sidebar": "Contents",
   "toc_cell": false,
   "toc_position": {},
   "toc_section_display": true,
   "toc_window_display": false
  }
 },
 "nbformat": 4,
 "nbformat_minor": 5
}
