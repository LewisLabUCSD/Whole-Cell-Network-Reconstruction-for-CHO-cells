{
 "cells": [
  {
   "cell_type": "code",
   "execution_count": null,
   "id": "bc3c42bf",
   "metadata": {},
   "outputs": [],
   "source": [
    "import gspread\n",
    "import pandas as pd\n",
    "import numpy as np"
   ]
  },
  {
   "cell_type": "code",
   "execution_count": null,
   "id": "0ea652c4",
   "metadata": {},
   "outputs": [],
   "source": [
    "# give service account details to gspread\n",
    "sa = gspread.service_account(filename='credentials.json')\n",
    "\n",
    "# sa is a gspread client, which can be used for connecting to the sheets\n",
    "# by using the open method and the sheet name.\n",
    "cho_recon = sa.open('temporary')\n",
    "\n",
    "# we also need to specify the page name before getting the data.\n",
    "rxns_sheet = cho_recon.worksheet('Rxns')"
   ]
  },
  {
   "cell_type": "code",
   "execution_count": null,
   "id": "6fea1ec5",
   "metadata": {},
   "outputs": [],
   "source": [
    "for sheets in cho_recon:\n",
    "    print(sheets)"
   ]
  },
  {
   "cell_type": "code",
   "execution_count": null,
   "id": "e5fc2825",
   "metadata": {},
   "outputs": [],
   "source": [
    "# We can extract the data using the get_all_records method and create a pd DataFrame\n",
    "df = pd.DataFrame(rxns_sheet.get_all_records())\n",
    "df = df.set_index('Index')\n",
    "df"
   ]
  },
  {
   "cell_type": "code",
   "execution_count": null,
   "id": "f59955ed",
   "metadata": {},
   "outputs": [],
   "source": [
    "import re\n",
    "\n",
    "gene_list = []\n",
    "for index, row in df.iterrows():\n",
    "    if row['GPR_Final_Thanasis'] != '':\n",
    "        gpr = str(row['GPR_Final_Thanasis'])\n",
    "        num = re.findall(r'\\d+', gpr)\n",
    "        for n in num:\n",
    "            gene_list.append(n)\n",
    "        \n",
    "gene_list = list(set(gene_list))"
   ]
  },
  {
   "cell_type": "code",
   "execution_count": null,
   "id": "64ba9c1e",
   "metadata": {},
   "outputs": [],
   "source": [
    "# Fetch information from the NIH database"
   ]
  },
  {
   "cell_type": "code",
   "execution_count": null,
   "id": "95b9777a",
   "metadata": {},
   "outputs": [],
   "source": [
    "from Bio import Entrez\n",
    "\n",
    "def get_gene_info(gene_id):\n",
    "    '''\n",
    "    This function retrieves information from the NIH Gene database\n",
    "    \n",
    "    input: Gene Entrez ID\n",
    "    output: Gene Symbol, Gene Name, Gene Description, Gene Ensembl ID, NCBI Transcript ID, NCBI Protein ID\n",
    "    '''\n",
    "    Entrez.email = 'account1@theta-ocean-377718.iam.gserviceaccount.com'\n",
    "    handle = Entrez.efetch(db='gene', id=gene_id, retmode='xml')\n",
    "    record = Entrez.read(handle)[0]\n",
    "\n",
    "    gene_name = record['Entrezgene_gene']['Gene-ref']['Gene-ref_desc']\n",
    "    gene_symbol = record['Entrezgene_gene']['Gene-ref']['Gene-ref_locus']\n",
    "\n",
    "    # check for different possible formats of the data\n",
    "    if 'Entrezgene_comments' in record and 'Gene-commentary_comment' in record['Entrezgene_comments'][0]:\n",
    "        gene_description = record['Entrezgene_comments'][0]['Gene-commentary_comment'][0]['String']\n",
    "    elif 'Entrezgene_summary' in record:\n",
    "        gene_description = record['Entrezgene_summary']\n",
    "    else:\n",
    "        gene_description = None\n",
    "\n",
    "    if 'Entrezgene_track-info' in record:\n",
    "        gene_ensembl_id = next((xref['Dbtag_tag']['Object-id']['Object-id_str'] for xref in record['Entrezgene_gene']['Gene-ref']['Gene-ref_db'] if xref['Dbtag_db'] == 'Ensembl'), None)\n",
    "    else:\n",
    "        gene_ensembl_id = None\n",
    "\n",
    "    xrefs = record['Entrezgene_locus'][0]['Gene-commentary_products']\n",
    "    \n",
    "    for xref in xrefs:\n",
    "        if xref.get('Gene-commentary_accession').startswith('NM_'):\n",
    "            mRNA_ncbi_id = xref.get('Gene-commentary_accession')\n",
    "            protein_ncbi_id = xref['Gene-commentary_products'][0].get('Gene-commentary_accession')\n",
    "            break\n",
    "        elif xref.get('Gene-commentary_accession').startswith('XM_'):\n",
    "            mRNA_ncbi_id = xref.get('Gene-commentary_accession')\n",
    "            protein_ncbi_id = xref['Gene-commentary_products'][0].get('Gene-commentary_accession')\n",
    "            break\n",
    "    \n",
    "\n",
    "    handle.close()\n",
    "\n",
    "    return gene_symbol, gene_name, gene_description, gene_ensembl_id, mRNA_ncbi_id, protein_ncbi_id\n"
   ]
  },
  {
   "cell_type": "code",
   "execution_count": null,
   "id": "fa118068",
   "metadata": {},
   "outputs": [],
   "source": [
    "'''\n",
    "import time\n",
    "\n",
    "# Open the Genes excel Sheet\n",
    "cho_temporary= sa.open('temporary')\n",
    "copyattributes_sheet = cho_temporary.worksheet('Genes')\n",
    "\n",
    "id = 2\n",
    "# Read genes for the .txt file\n",
    "with open('GeneOutput.txt') as file:  \n",
    "    for gene_id in file:\n",
    "        try:\n",
    "            gene_symbol, gene_name, gene_description, gene_ensembl_id, mRNA_ncbi_id, protein_ncbi_id = get_gene_info(gene_id)\n",
    "            print(id)\n",
    "            copyattributes_sheet.update_cell(id,1,id-1)\n",
    "            time.sleep(5)\n",
    "            copyattributes_sheet.update_cell(id,2,gene_id)\n",
    "            time.sleep(5)\n",
    "            copyattributes_sheet.update_cell(id,3,gene_symbol)\n",
    "            time.sleep(5)\n",
    "            copyattributes_sheet.update_cell(id,4,gene_name)\n",
    "            time.sleep(5)\n",
    "            copyattributes_sheet.update_cell(id,5,gene_description)\n",
    "            time.sleep(5)\n",
    "            copyattributes_sheet.update_cell(id,6,gene_ensembl_id)\n",
    "            time.sleep(5)\n",
    "            copyattributes_sheet.update_cell(id,7,mRNA_ncbi_id)\n",
    "            time.sleep(5)\n",
    "            copyattributes_sheet.update_cell(id,8,protein_ncbi_id)\n",
    "            id += 1\n",
    "        except:\n",
    "            print('Google API quota exceeded')\n",
    "            time.sleep(5)\n",
    "            continue\n",
    "'''"
   ]
  },
  {
   "cell_type": "code",
   "execution_count": null,
   "id": "76fe2ce9",
   "metadata": {},
   "outputs": [],
   "source": [
    "import time\n",
    "\n",
    "# Open the Genes excel Sheet\n",
    "cho_temporary= sa.open('temporary')\n",
    "genes_sheet = cho_temporary.worksheet('Genes')\n",
    "\n",
    "#id = 2\n",
    "# Read genes for the .txt file\n",
    "\n",
    "for gene in gene_list:\n",
    "    df = pd.DataFrame(genes_sheet.get_all_records())\n",
    "    # the first try/except is to avoid overwritting data in case there already some info in the dataset\n",
    "    try:\n",
    "        gene_sheet_list = list(df['Gene Entrez ID'])\n",
    "        id = max(df['Index']) + 2\n",
    "    except:\n",
    "        gene_sheet_list = []\n",
    "        id = 2\n",
    "    if gene not in gene_sheet_list:\n",
    "        try:\n",
    "            gene_symbol, gene_name, gene_description, gene_ensembl_id, mRNA_ncbi_id, protein_ncbi_id = get_gene_info(gene)\n",
    "            print(id)\n",
    "            genes_sheet.update_cell(id,1,id-1)\n",
    "            time.sleep(5)\n",
    "            genes_sheet.update_cell(id,2,gene)\n",
    "            time.sleep(5)\n",
    "            genes_sheet.update_cell(id,3,gene_symbol)\n",
    "            time.sleep(5)\n",
    "            genes_sheet.update_cell(id,4,gene_name)\n",
    "            time.sleep(5)\n",
    "            genes_sheet.update_cell(id,5,gene_description)\n",
    "            time.sleep(5)\n",
    "            genes_sheet.update_cell(id,6,gene_ensembl_id)\n",
    "            time.sleep(5)\n",
    "            genes_sheet.update_cell(id,7,mRNA_ncbi_id)\n",
    "            time.sleep(5)\n",
    "            genes_sheet.update_cell(id,8,protein_ncbi_id)\n",
    "        except:\n",
    "            print('Google API quota exceeded')\n",
    "            time.sleep(5)\n",
    "            continue"
   ]
  },
  {
   "cell_type": "code",
   "execution_count": null,
   "id": "05f06744",
   "metadata": {},
   "outputs": [],
   "source": []
  }
 ],
 "metadata": {
  "kernelspec": {
   "display_name": "Python 3 (ipykernel)",
   "language": "python",
   "name": "python3"
  },
  "language_info": {
   "codemirror_mode": {
    "name": "ipython",
    "version": 3
   },
   "file_extension": ".py",
   "mimetype": "text/x-python",
   "name": "python",
   "nbconvert_exporter": "python",
   "pygments_lexer": "ipython3",
   "version": "3.10.8"
  },
  "vscode": {
   "interpreter": {
    "hash": "3168a09f7d2a10fb8110f0e53a9f9f8ee273108e155fb8c453837cc3bfc334cf"
   }
  }
 },
 "nbformat": 4,
 "nbformat_minor": 5
}
