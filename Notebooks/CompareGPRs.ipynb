{
 "cells": [
  {
   "cell_type": "code",
   "execution_count": 2,
   "metadata": {},
   "outputs": [],
   "source": [
    "# Import libraries\n",
    "import re\n",
    "import math\n",
    "import pandas as pd\n",
    "\n",
    "# Define functions\n",
    "\n",
    "# Checks if a string is NaN\n",
    "def isNaN(string):\n",
    "    return string != string\n",
    "\n",
    "# Checks if the non NaN string are equal\n",
    "def compare_strings(strings):\n",
    "    list_of_strings = [s for s in strings if s]\n",
    "    non_zero_strings = [s for s in list_of_strings if not(isNaN(s))]\n",
    "    # print(non_zero_strings)\n",
    "    first_string = non_zero_strings[0] if non_zero_strings else \"\"\n",
    "    if isNaN(non_zero_strings):\n",
    "        s = []\n",
    "    else:\n",
    "        s = first_string\n",
    "    for s in non_zero_strings:\n",
    "        if s != first_string and not(isNaN(s)):\n",
    "            s = []\n",
    "            return False, s            \n",
    "    return True, s\n",
    "\n",
    "# Removed the spaces and returns the pure number if and only if is inbetween\n",
    "# a set of parenthesis\n",
    "def extract_number_from_string(string):\n",
    "    stripped = string.strip()\n",
    "    if stripped[0] == \"(\" and stripped[-1] == \")\":\n",
    "        if stripped[1:-1].isdigit():\n",
    "            return int(stripped[1:-1])\n",
    "        else:\n",
    "            return None\n",
    "\n",
    "# Returns a whole string but without the parenthesis on a number\n",
    "def remove_parentheses_from_number(string, number):\n",
    "    return string.replace(\"(\" + str(number) + \")\", str(number))\n",
    "\n",
    "# Returns the gene dataset but it convertes (100761706) or (100768654) or (100757658) \n",
    "# to 100761706 or 100768654 or 100757658\n",
    "def curate_genes(genes):\n",
    "    for counter, g in enumerate(genes):\n",
    "        if not isNaN(g):\n",
    "            sss = g.split('or')\n",
    "            for i in sss:\n",
    "                if i.split('and') == i:\n",
    "                    1\n",
    "                    # print(i, 1)\n",
    "                else:\n",
    "                    s2 = i.split('and')\n",
    "                    for j in s2:\n",
    "                        # print(j, extract_number_from_string(j))\n",
    "                        genes[counter] = remove_parentheses_from_number(g, extract_number_from_string(j))\n",
    "    return genes"
   ]
  },
  {
   "cell_type": "code",
   "execution_count": 3,
   "metadata": {},
   "outputs": [],
   "source": [
    "#Read excel file\n",
    "GEM = pd.read_excel('../../CHO Network Reconstruction.xlsx', sheet_name = \"Rxns\")"
   ]
  },
  {
   "cell_type": "code",
   "execution_count": 4,
   "metadata": {},
   "outputs": [
    {
     "name": "stderr",
     "output_type": "stream",
     "text": [
      "C:\\Users\\a.antonakoudis\\AppData\\Local\\Temp\\ipykernel_22588\\1425039534.py:56: SettingWithCopyWarning: \n",
      "A value is trying to be set on a copy of a slice from a DataFrame\n",
      "\n",
      "See the caveats in the documentation: https://pandas.pydata.org/pandas-docs/stable/user_guide/indexing.html#returning-a-view-versus-a-copy\n",
      "  genes[counter] = remove_parentheses_from_number(g, extract_number_from_string(j))\n"
     ]
    }
   ],
   "source": [
    "# Raw Data\n",
    "Hef_Genes = GEM.iloc[:,6]\n",
    "Fou_Genes = GEM.iloc[:,7]\n",
    "Yeo_Genes = GEM.iloc[:,8]\n",
    "Recon3D_Genes = GEM.iloc[:,9]\n",
    "Final_Genes = GEM.iloc[:,10]\n",
    "\n",
    "# Curated Data\n",
    "Hef_Genes_Curate = curate_genes(Hef_Genes)\n",
    "Fou_Genes_Curate = curate_genes(Fou_Genes)\n",
    "Yeo_Genes_Curate = curate_genes(Yeo_Genes)\n",
    "Recon3D_Genes_Curate = curate_genes(Recon3D_Genes)\n",
    "# Final_Genes_Curate = curate_genes(Final_Genes)\n"
   ]
  },
  {
   "cell_type": "code",
   "execution_count": 43,
   "metadata": {},
   "outputs": [
    {
     "name": "stderr",
     "output_type": "stream",
     "text": [
      "C:\\Users\\a.antonakoudis\\AppData\\Local\\Temp\\ipykernel_22588\\1577181498.py:11: SettingWithCopyWarning: \n",
      "A value is trying to be set on a copy of a slice from a DataFrame\n",
      "\n",
      "See the caveats in the documentation: https://pandas.pydata.org/pandas-docs/stable/user_guide/indexing.html#returning-a-view-versus-a-copy\n",
      "  Final_Genes[i] = flag[1]\n"
     ]
    },
    {
     "name": "stdout",
     "output_type": "stream",
     "text": [
      "Final1 =  100763450 or 100772030\n",
      "Final2 =  100763450 or 100772030\n",
      "Final1 =  \n",
      "Final2 =  \n",
      "Final1 =  nan\n",
      "2 ['100763623 or 100771517', '(100763623) or 100771517', nan, '100771517 or 113839441 or 100771517 or 100771517 or 100771517']\n",
      "Final2 =  nan\n",
      "Final1 =  nan\n",
      "2 [nan, nan, '100768407 or 100775004 or 100772122 or 100756769 or 100752961', '100775004']\n",
      "Final2 =  nan\n",
      "Final1 =  100761641\n",
      "Final2 =  100761641\n",
      "Final1 =  \n",
      "Final2 =  \n",
      "Final1 =  nan\n",
      "2 ['(100764862 and 100758466 and 100689437) or (100769436 and 100758466 and 100689437) or (100753689 and 100758466 and 100689437)', '(100764862) and (100758466) and 100689437 or (100769436) and (100758466) and 100689437 or (100753689) and (100758466) and 100689437', nan, '(100764862 and 100689437 and 100750352 and 100758466) or (100764862 and 100689437 and 100750352 and 100758466)']\n",
      "Final2 =  nan\n"
     ]
    }
   ],
   "source": [
    "# Prints all the reactions that have at least 2 of the same GPRs in the datasets\n",
    "\n",
    "#Final_Genes.size\n",
    "\n",
    "\n",
    "for i in range(68,75):\n",
    "    print(\"Final1 = \",Final_Genes[i])\n",
    "    flag = (compare_strings(list([Hef_Genes_Curate[i], Fou_Genes_Curate[i], Yeo_Genes_Curate[i], Recon3D_Genes_Curate[i]])))\n",
    "    if flag[0]:\n",
    "        # print(1, [Hef_Genes[i], Fou_Genes[i], Yeo_Genes[i], Recon3D_Genes[i]])\n",
    "        Final_Genes[i] = flag[1]\n",
    "        # print(Final_Genes[i])\n",
    "    else:\n",
    "        input(\"Press Enter to continue...\")\n",
    "        print(2, [Hef_Genes[i], Fou_Genes[i], Yeo_Genes[i], Recon3D_Genes[i]])\n",
    "    print(\"Final2 = \",Final_Genes[i])\n",
    "\n"
   ]
  },
  {
   "cell_type": "code",
   "execution_count": 5,
   "metadata": {},
   "outputs": [
    {
     "name": "stdout",
     "output_type": "stream",
     "text": [
      "0.29073170731707315\n"
     ]
    }
   ],
   "source": [
    "# Perctentage of rxns that have no GPR in the Final Gene dataset\n",
    "c = 0\n",
    "for g in Final_Genes:\n",
    "    if not isNaN(g):\n",
    "        c +=1\n",
    "print((Final_Genes.size - c)/Final_Genes.size)"
   ]
  },
  {
   "cell_type": "code",
   "execution_count": 7,
   "metadata": {},
   "outputs": [],
   "source": [
    "Final_Genes.to_excel(\"output.xlsx\")  "
   ]
  },
  {
   "cell_type": "code",
   "execution_count": 19,
   "metadata": {},
   "outputs": [
    {
     "name": "stdout",
     "output_type": "stream",
     "text": [
      "7\n",
      "8\n",
      "9\n",
      "10\n",
      "11\n",
      "12\n",
      "13\n",
      "14\n",
      "15\n",
      "16\n",
      "17\n",
      "18\n",
      "19\n",
      "20\n",
      "21\n",
      "22\n",
      "23\n",
      "24\n",
      "25\n",
      "26\n",
      "27\n",
      "28\n",
      "29\n",
      "30\n",
      "31\n",
      "32\n",
      "33\n",
      "34\n",
      "35\n",
      "36\n",
      "37\n",
      "38\n",
      "39\n",
      "40\n",
      "41\n",
      "42\n",
      "43\n",
      "44\n",
      "45\n",
      "46\n",
      "47\n",
      "48\n",
      "49\n",
      "50\n",
      "51\n",
      "52\n",
      "53\n",
      "54\n",
      "55\n",
      "56\n",
      "57\n",
      "58\n",
      "59\n",
      "60\n",
      "61\n",
      "62\n",
      "63\n",
      "64\n",
      "65\n",
      "66\n",
      "67\n",
      "68\n",
      "69\n",
      "70\n",
      "71\n",
      "72\n",
      "73\n",
      "74\n",
      "75\n",
      "76\n",
      "77\n",
      "78\n",
      "79\n",
      "80\n",
      "81\n",
      "82\n",
      "83\n",
      "84\n",
      "85\n",
      "86\n",
      "87\n",
      "88\n",
      "89\n",
      "90\n",
      "91\n",
      "92\n",
      "93\n",
      "94\n",
      "95\n",
      "96\n",
      "97\n",
      "98\n"
     ]
    }
   ],
   "source": [
    "for i in (range(7,99)):\n",
    "    print(i)"
   ]
  },
  {
   "cell_type": "code",
   "execution_count": 45,
   "metadata": {},
   "outputs": [
    {
     "name": "stdout",
     "output_type": "stream",
     "text": [
      "False\n"
     ]
    }
   ],
   "source": [
    "def check_equivalence(*exprs):\n",
    "    exprs = [e for e in exprs if e.strip() != \"\"]\n",
    "    \n",
    "    # return False if there are no expressions\n",
    "    if not exprs:\n",
    "        return False\n",
    "    \n",
    "    # split the expressions into individual variables\n",
    "    var_lists = []\n",
    "    op_lists = []\n",
    "    \n",
    "    for expr in exprs:\n",
    "        vars = []\n",
    "        ops = []\n",
    "        i = 0\n",
    "        while i < len(expr):\n",
    "            if expr[i] == \"(\":\n",
    "                j = i + 1\n",
    "                count = 1\n",
    "                while count > 0:\n",
    "                    if expr[j] == \"(\":\n",
    "                        count += 1\n",
    "                    elif expr[j] == \")\":\n",
    "                        count -= 1\n",
    "                    j += 1\n",
    "                vars.append(expr[i:j])\n",
    "                i = j\n",
    "            else:\n",
    "                j = i\n",
    "                while j < len(expr) and expr[j] not in [\" and \", \" or \"]:\n",
    "                    j += 1\n",
    "                vars.append(expr[i:j].strip())\n",
    "                i = j\n",
    "            if i < len(expr):\n",
    "                ops.append(expr[i:i+3].strip())\n",
    "                i += 4\n",
    "        var_lists.append(vars)\n",
    "        op_lists.append(ops)\n",
    "    \n",
    "    # return False if the expressions have different numbers of subexpressions\n",
    "    if not all(len(var_list) == len(var_lists[0]) for var_list in var_lists):\n",
    "        return False\n",
    "    \n",
    "    # return False if the expressions have different logical operators\n",
    "    if not all(op_list == op_lists[0] for op_list in op_lists):\n",
    "        return False\n",
    "    \n",
    "    # return False if the expressions have different sets of variables\n",
    "    for i in range(len(var_lists[0])):\n",
    "        if not all(set(var_list[i]) == set(var_lists[0][i]) for var_list in var_lists):\n",
    "            return False\n",
    "    \n",
    "    # return True if all tests passed\n",
    "    return True\n",
    "\n",
    "# example usage\n",
    "expr1 = \"((100763623) and (100771517)) or (113839441 and 100771517)\"\n",
    "expr2 = \"(100771517 and 113839441 or 113839441) or 100771517 or (100763623 and 100771517)\"\n",
    "expr3 = \"\"\n",
    "\n",
    "print(check_equivalence(expr1, expr2, expr3))\n"
   ]
  },
  {
   "cell_type": "code",
   "execution_count": 42,
   "metadata": {},
   "outputs": [
    {
     "name": "stdout",
     "output_type": "stream",
     "text": [
      "100763623 or 100771517 (100763623) or 100771517 100771517 or 113839441 or 100771517 or 100771517 or 100771517\n"
     ]
    }
   ],
   "source": [
    "i = 70\n",
    "print(Hef_Genes_Curate[i], Fou_Genes_Curate[i], Recon3D_Genes_Curate[i])"
   ]
  },
  {
   "cell_type": "code",
   "execution_count": 40,
   "metadata": {},
   "outputs": [
    {
     "data": {
      "text/plain": [
       "str"
      ]
     },
     "execution_count": 40,
     "metadata": {},
     "output_type": "execute_result"
    }
   ],
   "source": [
    "type(Recon3D_Genes_Curate[i])"
   ]
  },
  {
   "cell_type": "code",
   "execution_count": null,
   "metadata": {},
   "outputs": [],
   "source": []
  }
 ],
 "metadata": {
  "kernelspec": {
   "display_name": "GEM",
   "language": "python",
   "name": "python3"
  },
  "language_info": {
   "codemirror_mode": {
    "name": "ipython",
    "version": 3
   },
   "file_extension": ".py",
   "mimetype": "text/x-python",
   "name": "python",
   "nbconvert_exporter": "python",
   "pygments_lexer": "ipython3",
   "version": "3.9.16"
  },
  "orig_nbformat": 4,
  "vscode": {
   "interpreter": {
    "hash": "3168a09f7d2a10fb8110f0e53a9f9f8ee273108e155fb8c453837cc3bfc334cf"
   }
  }
 },
 "nbformat": 4,
 "nbformat_minor": 2
}
