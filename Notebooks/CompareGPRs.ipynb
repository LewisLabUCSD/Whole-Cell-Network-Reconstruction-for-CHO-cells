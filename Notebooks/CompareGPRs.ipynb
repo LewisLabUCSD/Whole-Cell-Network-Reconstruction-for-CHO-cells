{
 "cells": [
  {
   "cell_type": "code",
   "execution_count": 280,
   "metadata": {},
   "outputs": [],
   "source": [
    "# Import libraries\n",
    "import re\n",
    "import math\n",
    "import pandas as pd\n",
    "\n",
    "# Define functions\n",
    "\n",
    "# Checks if a string is NaN\n",
    "def isNaN_(string):\n",
    "    return string != string\n",
    "\n",
    "# Removes the parenthesis from a string if and only if it is enclosed in parenthesis\n",
    "# def remove_parentheses(s):\n",
    "#     pattern = r'\\((.*?)\\)'\n",
    "#     return re.sub(pattern, r'\\1', s)\n",
    "\n",
    "# Checks if the non NaN string are equal\n",
    "def compare_strings(strings):\n",
    "    list_of_strings = [s for s in strings if s]\n",
    "    non_zero_strings_ = [s for s in list_of_strings if not(isNaN_(s))]\n",
    "    non_zero_strings = [s for s in non_zero_strings_ if s!=\"-----\"]\n",
    "\n",
    "    first_string = non_zero_strings[0] if non_zero_strings else \"\"\n",
    "    if isNaN_(non_zero_strings) :\n",
    "        s = []\n",
    "    else:\n",
    "        s = first_string\n",
    "\n",
    "    # for s in non_zero_strings:\n",
    "    #     if s != first_string and not(isNaN_(s)):\n",
    "    #         s = []\n",
    "    #         return False, s  \n",
    "\n",
    "    if all(element == first_string for element in non_zero_strings):\n",
    "        return True, s\n",
    "    else:\n",
    "        return False, s\n",
    "          \n",
    "    return True, s\n",
    "\n",
    "# Removed the spaces and returns the pure number if and only if is inbetween\n",
    "# a set of parenthesis\n",
    "def extract_number_from_string(string):\n",
    "    stripped = string.strip()\n",
    "    if stripped[0] == \"(\" and stripped[-1] == \")\":\n",
    "        if stripped[1:-1].isdigit():\n",
    "            return int(stripped[1:-1])\n",
    "        else:\n",
    "            return None\n",
    "\n",
    "# Returns a whole string but without the parenthesis on a number\n",
    "def remove_parentheses_from_number(string, number):\n",
    "    return string.replace(\"(\" + str(number) + \")\", str(number))\n",
    "\n",
    "# Returns the gene dataset but it convertes (100761706) or (100768654) or (100757658) \n",
    "# to 100761706 or 100768654 or 100757658\n",
    "def curate_genes(genes):\n",
    "    gpr_set = [0] * len(genes)\n",
    "    \n",
    "    for counter, g in enumerate(genes):\n",
    "    \n",
    "        if isNaN_(g):\n",
    "            gpr_set[counter] = \"-----\"\n",
    "        else:\n",
    "\n",
    "            gp=str(g)\n",
    "            # Removes the dashes from the gene name            \n",
    "            if \"-\" in gp:\n",
    "                gpr = str(gp.replace(\"-\", \"\"))\n",
    "            else:\n",
    "                gpr = str(gp)\n",
    "\n",
    "\n",
    "            gpr_or = (gpr.split('or'))\n",
    "            # print(1, gpr_or)\n",
    "\n",
    "            for gpr_or_and in gpr_or:\n",
    "                # print(gpr_or_and)\n",
    "                if gpr_or_and.split('and') == gpr_or_and:\n",
    "                    1\n",
    "                    # print(i, 1)\n",
    "                else:\n",
    "                    genes_with_parenthesis = gpr_or_and.split('and')\n",
    "                    # print(genes_with_parenthesis)\n",
    "                    for gene_with_parenthesis in genes_with_parenthesis:\n",
    "                        gpr = remove_parentheses_from_number(gpr, extract_number_from_string(gene_with_parenthesis))\n",
    "                        gpr_set[counter] = gpr\n",
    "                        # print(genes[counter])\n",
    "        \n",
    "\n",
    "    return gpr_set\n",
    "\n",
    "# print(curate_genes(Fou_Genes[7574:7580]))\n",
    "# print(\"-1120132\".split('or'))\n",
    "# print(remove_parentheses_from_number(\"(100760081) or (100767633)\", extract_number_from_string(\"(100760081)\")))\n"
   ]
  },
  {
   "cell_type": "code",
   "execution_count": 257,
   "metadata": {},
   "outputs": [],
   "source": [
    "#Read excel file\n",
    "GEM = pd.read_excel('../../CHO Network Reconstruction.xlsx', sheet_name = \"Rxns\")"
   ]
  },
  {
   "cell_type": "code",
   "execution_count": 270,
   "metadata": {},
   "outputs": [],
   "source": [
    "# Raw Data\n",
    "Hef_Genes = GEM.iloc[:,6]\n",
    "Fou_Genes = GEM.iloc[:,7]\n",
    "Yeo_Genes = GEM.iloc[:,8]\n",
    "Recon3D_Genes = GEM.iloc[:,9]\n",
    "Final_Genes = GEM.iloc[:,10]\n",
    "\n",
    "# Curated Data\n",
    "Hef_Genes_Curate = curate_genes(Hef_Genes)\n",
    "Fou_Genes_Curate = curate_genes(Fou_Genes)\n",
    "Yeo_Genes_Curate = curate_genes(Yeo_Genes)\n",
    "Recon3D_Genes_Curate = curate_genes(Recon3D_Genes)\n",
    "# Final_Genes_Curate = curate_genes(Final_Genes)\n"
   ]
  },
  {
   "cell_type": "code",
   "execution_count": 281,
   "metadata": {},
   "outputs": [
    {
     "name": "stderr",
     "output_type": "stream",
     "text": [
      "C:\\Users\\a.antonakoudis\\AppData\\Local\\Temp\\ipykernel_20408\\2935560759.py:6: SettingWithCopyWarning: \n",
      "A value is trying to be set on a copy of a slice from a DataFrame\n",
      "\n",
      "See the caveats in the documentation: https://pandas.pydata.org/pandas-docs/stable/user_guide/indexing.html#returning-a-view-versus-a-copy\n",
      "  Final_Genes[i] = flag[1]\n"
     ]
    },
    {
     "name": "stdout",
     "output_type": "stream",
     "text": [
      "0.2521951219512195\n"
     ]
    }
   ],
   "source": [
    "# Prints all the reactions that have at least 2 of the same GPRs in the datasets\n",
    "for i in range(Final_Genes.size):\n",
    "    # print(\"Final1 = \",Final_Genes[i])\n",
    "    flag = (compare_strings(list([Hef_Genes_Curate[i], Fou_Genes_Curate[i], Yeo_Genes_Curate[i], Recon3D_Genes_Curate[i]])))\n",
    "    if flag[0]:\n",
    "        Final_Genes[i] = flag[1]\n",
    "    # else:\n",
    "        # input(\"Press Enter to continue...\")\n",
    "    # print(\"Final2 = \",Final_Genes[i])\n",
    "\n",
    "# Perctentage of rxns that have no GPR in the Final Gene dataset\n",
    "c = 0\n",
    "for g in Final_Genes:\n",
    "    if not isNaN_(g):\n",
    "        c +=1\n",
    "print((Final_Genes.size - c)/Final_Genes.size)\n",
    "\n",
    "# Write the list to a txt file\n",
    "with open('Output.txt', 'w') as f:\n",
    "    # write each item in the list to the file\n",
    "    for item in Final_Genes:\n",
    "        f.write(str(item) + '\\n')\n"
   ]
  }
 ],
 "metadata": {
  "kernelspec": {
   "display_name": "GEM",
   "language": "python",
   "name": "python3"
  },
  "language_info": {
   "codemirror_mode": {
    "name": "ipython",
    "version": 3
   },
   "file_extension": ".py",
   "mimetype": "text/x-python",
   "name": "python",
   "nbconvert_exporter": "python",
   "pygments_lexer": "ipython3",
   "version": "3.9.16"
  },
  "orig_nbformat": 4,
  "vscode": {
   "interpreter": {
    "hash": "3168a09f7d2a10fb8110f0e53a9f9f8ee273108e155fb8c453837cc3bfc334cf"
   }
  }
 },
 "nbformat": 4,
 "nbformat_minor": 2
}
