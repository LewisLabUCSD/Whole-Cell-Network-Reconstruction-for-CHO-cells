{
 "cells": [
  {
   "cell_type": "code",
   "execution_count": 117,
   "metadata": {},
   "outputs": [],
   "source": [
    "# Import libraries\n",
    "import re\n",
    "import math\n",
    "import pandas as pd\n",
    "\n",
    "# Define functions\n",
    "def convert_to_list(s):\n",
    "    # Split the string on ' or ' and ' and ' to get a list of strings\n",
    "    items = s.replace(')','').replace('(','').split(' or ')\n",
    "    integers = []\n",
    "    # Convert each string to an integer and add it to the list\n",
    "    for item in items:\n",
    "        integers.extend(map(int, item.split(' and ')))\n",
    "    return integers\n",
    "\n",
    "def are_strings_equal(str1, str2, str3, str4):\n",
    "    return str1 == str2 == str3 == str4\n",
    "\n",
    "def isNaN(string):\n",
    "    return string != string\n",
    "\n",
    "def compare_strings(strings):\n",
    "    list_of_strings = [s for s in strings if s]\n",
    "    non_zero_strings = [s for s in list_of_strings if not(isNaN(s))]\n",
    "    first_string = non_zero_strings[0] if non_zero_strings else \"\"\n",
    "    for s in non_zero_strings:\n",
    "        if s != first_string and not(isNaN(s)):\n",
    "            return False\n",
    "    return True"
   ]
  },
  {
   "cell_type": "code",
   "execution_count": 11,
   "metadata": {},
   "outputs": [],
   "source": [
    "#Read excel file\n",
    "GEM = pd.read_excel('../../CHO Network Reconstruction.xlsx',sheet_name=\"Rxns\")"
   ]
  },
  {
   "cell_type": "code",
   "execution_count": 22,
   "metadata": {},
   "outputs": [],
   "source": [
    "Hef_Genes = GEM.iloc[:,6]\n",
    "Fou_Genes = GEM.iloc[:,7]\n",
    "Yeo_Genes = GEM.iloc[:,8]\n",
    "Recon3D_Genes = GEM.iloc[:,9]\n",
    "Final_Genes = GEM.iloc[:,10]\n"
   ]
  },
  {
   "cell_type": "code",
   "execution_count": 52,
   "metadata": {},
   "outputs": [
    {
     "name": "stdout",
     "output_type": "stream",
     "text": [
      "[100764862, 100758466, 100689437, 100769436, 100758466, 100689437, 100753689, 100758466, 100689437]\n"
     ]
    }
   ],
   "source": [
    "# Prints all the reactions that have at least 2 of the same GPRs in the datasetsdd\n",
    "for i in range(Hef_Genes.size):\n",
    "    if (compare_strings(list([Hef_Genes[i], Fou_Genes[i], Yeo_Genes[i], Recon3D_Genes[i]]))):\n",
    "        print(i)"
   ]
  },
  {
   "cell_type": "code",
   "execution_count": null,
   "metadata": {},
   "outputs": [],
   "source": []
  }
 ],
 "metadata": {
  "kernelspec": {
   "display_name": "GEM",
   "language": "python",
   "name": "python3"
  },
  "language_info": {
   "codemirror_mode": {
    "name": "ipython",
    "version": 3
   },
   "file_extension": ".py",
   "mimetype": "text/x-python",
   "name": "python",
   "nbconvert_exporter": "python",
   "pygments_lexer": "ipython3",
   "version": "3.9.16"
  },
  "orig_nbformat": 4,
  "vscode": {
   "interpreter": {
    "hash": "3168a09f7d2a10fb8110f0e53a9f9f8ee273108e155fb8c453837cc3bfc334cf"
   }
  }
 },
 "nbformat": 4,
 "nbformat_minor": 2
}
