{
 "cells": [
  {
   "cell_type": "markdown",
   "metadata": {},
   "source": [
    "# Computational Tests\n",
    "\n",
    "This notebook is intended for running different kinds of analyses that would validate our reconstruction."
   ]
  },
  {
   "cell_type": "markdown",
   "metadata": {},
   "source": [
    "## 1. Subsystem Overview and Analysis"
   ]
  },
  {
   "cell_type": "code",
   "execution_count": null,
   "metadata": {},
   "outputs": [],
   "source": [
    "import pandas as pd\n",
    "import matplotlib.pyplot as plt\n",
    "import plotly.express as px\n",
    "from google_sheet import GoogleSheet"
   ]
  },
  {
   "cell_type": "code",
   "execution_count": null,
   "metadata": {},
   "outputs": [],
   "source": [
    "##### ----- Generate Subsystems datasets from Google Sheet ----- #####\n",
    "\n",
    "#Credential file\n",
    "KEY_FILE_PATH = 'credentials.json'\n",
    "\n",
    "#CHO Network Reconstruction + Recon3D_v3 Google Sheet ID\n",
    "SPREADSHEET_ID = '1MlBXeHIKw8k8fZyXm-sN__AHTRSunJxar_-bqvukZws'\n",
    "\n",
    "# Initialize the GoogleSheet object\n",
    "sheet = GoogleSheet(SPREADSHEET_ID, KEY_FILE_PATH)\n",
    "\n",
    "# Read data from the Google Sheet\n",
    "sheet_subsystems = 'Summary Systems'\n",
    "subsystems = sheet.read_google_sheet(sheet_subsystems)"
   ]
  },
  {
   "cell_type": "code",
   "execution_count": null,
   "metadata": {},
   "outputs": [],
   "source": [
    "#### --- Pie Chart of the Amount of Reactions per System --- ####\n",
    "\n",
    "subsystems[\"Number of Reactions\"] = pd.to_numeric(subsystems[\"Number of Reactions\"])\n",
    "\n",
    "# Aggregate data by \"System\" and sum \"Number of Reactions\"\n",
    "system_reactions = subsystems.groupby(\"System\")[\"Number of Reactions\"].sum()\n",
    "\n",
    "# Set the figure and axes for more control\n",
    "fig, ax = plt.subplots(figsize=(10, 7))\n",
    "\n",
    "# Generate the pie chart again with the custom labels\n",
    "patches, texts, autotexts = ax.pie(system_reactions, labels=system_reactions.index, autopct=lambda p: '{:.1f}%'.format(p) if p > 0 else '', startangle=140, colors=plt.cm.tab20.colors)\n",
    "\n",
    "# Improve aesthetics\n",
    "for text in texts + autotexts:\n",
    "    text.set_color('black')\n",
    "ax.set_title(\"Pie Chart of Number of Reactions by System\", pad=30)  # Move the title upwards by increasing pad\n",
    "\n",
    "# Set equal aspect ratio\n",
    "ax.axis('equal')\n",
    "\n",
    "# Save the plot\n",
    "plt.savefig('../Plots/pie_chart_reactions_per_system.png')\n",
    "\n",
    "# Display the plot\n",
    "plt.show()"
   ]
  },
  {
   "cell_type": "code",
   "execution_count": null,
   "metadata": {},
   "outputs": [],
   "source": [
    "# Generate the Sunburst Plot\n",
    "fig = px.sunburst(subsystems, path=['System', 'Subsystems','Kegg Pathway'],\n",
    "                  color='System', title='System and Subsystems Relationship')\n",
    "\n",
    "fig.update_layout(width=1200, height=1000)\n",
    "\n",
    "fig.write_html(\"../Plots/sunburst_subsystems.html\") # Save as interactive HTML file\n",
    "fig.write_image(\"../Plots/sunburst_subsystems.png\", width=1200, height=1000)\n",
    "# Show the plot\n",
    "fig.show()"
   ]
  },
  {
   "cell_type": "markdown",
   "metadata": {},
   "source": [
    "#### Auxotrophies"
   ]
  },
  {
   "cell_type": "code",
   "execution_count": null,
   "metadata": {},
   "outputs": [],
   "source": [
    "from cobra.io import load_json_model\n",
    "iCHO_path = \"iCHOv3_CHO_04032024.json\"\n",
    "iCHO = load_json_model(iCHO_path)"
   ]
  },
  {
   "cell_type": "code",
   "execution_count": null,
   "metadata": {},
   "outputs": [],
   "source": [
    "amino_acids = {\n",
    "    \"arginine\": [\"EX_arg_L_e\", \"EX_arg_D_e\"],\n",
    "    \"asparagine\": [\"EX_asn_L_e\", \"EX_asn_D_e\"],\n",
    "    \"cysteine\": [\"EX_cys_L_e\", \"EX_cys_D_e\", \"EX_Lcystin_e\"],\n",
    "    \"histidine\": [\"EX_his_L_e\", \"EX_his_D_e\"],\n",
    "    \"isoleucine\": [\"EX_ile_L_e\", \"EX_ile_D_e\"],\n",
    "    \"leucine\": [\"EX_leu_L_e\", \"EX_leu_D_e\"],\n",
    "    \"lysine\": [\"EX_lys_L_e\", \"EX_lys_D_e\"],\n",
    "    \"methionine\": [\"EX_met_L_e\", \"EX_met_D_e\"],\n",
    "    \"phenylalanine\": [\"EX_phe_L_e\", \"EX_phe_D_e\"],\n",
    "    \"proline\": [\"EX_pro_L_e\", \"EX_pro_D_e\"],\n",
    "    \"threonine\": [\"EX_thr_L_e\", \"EX_thr_D_e\"],\n",
    "    \"tryptophan\": [\"EX_trp_L_e\", \"EX_trp_D_e\"],\n",
    "    \"valine\": [\"EX_val_L_e\", \"EX_val_D_e\"]\n",
    "}\n",
    "for amino_acid in amino_acids:\n",
    "    # ----- Setup initial bounds -----\n",
    "    for exchange_reaction in iCHO.exchanges:\n",
    "        exchange_reaction.bounds = -10, 10\n",
    "\n",
    "    # Arginine\n",
    "    iCHO.reactions.get_by_id('GAUGE-R00557').bounds = 0, 10\n",
    "    iCHO.reactions.get_by_id('GAUGE-R10107').bounds = 0, 0\n",
    "    iCHO.reactions.get_by_id('GAUGE-R00558').bounds = 0, 0\n",
    "    iCHO.reactions.get_by_id('GLYAMDTRc').bounds = 0, 0\n",
    "    iCHO.reactions.get_by_id('GAUGE-R10107').bounds = 0, 0\n",
    "    iCHO.reactions.get_by_id('EX_valarggly_e').bounds = 0, 10\n",
    "    iCHO.reactions.get_by_id('ARGSL').bounds = 0, 0\n",
    "\n",
    "    # Asparigine\n",
    "    iCHO.reactions.get_by_id('ASNS1').bounds = 0, 0\n",
    "\n",
    "    # Cysteine\n",
    "    iCHO.reactions.get_by_id('r0129').bounds = 0, 0\n",
    "    iCHO.reactions.get_by_id('EX_cgly_e').bounds = 0, 0\n",
    "    iCHO.reactions.get_by_id('AMPTASECG').bounds = -10, 0\n",
    "    iCHO.reactions.get_by_id('AMPTASECGe').bounds = -10, 0\n",
    "    iCHO.reactions.get_by_id('CYSTGL').bounds = -10, 0\n",
    "    iCHO.reactions.get_by_id('EX_HC00250_e').bounds = 0, 0\n",
    "    iCHO.reactions.get_by_id('EX_sfcys_e').bounds = 0, 0\n",
    "\n",
    "    # Histidine\n",
    "    iCHO.reactions.get_by_id('VALTRPVALr').bounds = 0,0 \n",
    "\n",
    "    # Isoleucine - DONE\n",
    "    iCHO.reactions.get_by_id('EX_CE2916_e').bounds = 0,0 \n",
    "    iCHO.reactions.get_by_id('EX_CE2915_e').bounds = 0,0 \n",
    "    iCHO.reactions.get_by_id('ILETA').bounds = 0, 10\n",
    "    iCHO.reactions.get_by_id('ILETAm').bounds = 0, 10\n",
    "\n",
    "    # Leucine\n",
    "    iCHO.reactions.get_by_id('LEULEULAPc').bounds = 0,0 \n",
    "    iCHO.reactions.get_by_id('EX_leugly_e').bounds = 0,0 \n",
    "    iCHO.reactions.get_by_id('EX_glyleu_e').bounds = 0,0 \n",
    "    iCHO.reactions.get_by_id('LEUTA').bounds = 0, 10 \n",
    "    iCHO.reactions.get_by_id('LEUTAm').bounds = 0, 10 \n",
    "    iCHO.reactions.get_by_id('EX_CE5797_e').bounds = 0, 0\n",
    "\n",
    "    # Lysine\n",
    "    iCHO.reactions.get_by_id('EX_biocyt_e').bounds = 0,0 \n",
    "\n",
    "    # Methionine\n",
    "    iCHO.reactions.get_by_id('METS').bounds = -10, 0 \n",
    "    iCHO.reactions.get_by_id('BHMT').bounds = -10, 0 \n",
    "    iCHO.reactions.get_by_id('GAUGE-R00648').bounds = 0, 10 \n",
    "    iCHO.reactions.get_by_id('UNK2').bounds = -10, 0 \n",
    "    iCHO.reactions.get_by_id('UNK3').bounds = -10, 0 \n",
    "    iCHO.reactions.get_by_id('TYRA').bounds = -10, 0 \n",
    "    #iCHO.reactions.get_by_id('GAUGE-R06895').bounds = 0, 0 # Curated by MR with 1 score / Erased from the reconstruction\n",
    "\n",
    "    # Phenylalanine\n",
    "    iCHO.reactions.get_by_id('EX_CE5786_e').bounds = 0, 0 \n",
    "    iCHO.reactions.get_by_id('EX_pheleu_e').bounds = 0, 0 \n",
    "    iCHO.reactions.get_by_id('EX_glyphe_e').bounds = 0, 0 \n",
    "    iCHO.reactions.get_by_id('EX_CE2917_e').bounds = 0, 0 \n",
    "    iCHO.reactions.get_by_id('EX_CE5786_e').bounds = 0, 0 \n",
    "    iCHO.reactions.get_by_id('EX_CE5789_e').bounds = 0, 0 \n",
    "    iCHO.reactions.get_by_id('EX_phpyr_e').bounds = 0, 0 \n",
    "\n",
    "    # Proline\n",
    "    iCHO.reactions.get_by_id('EX_glypro_e').bounds = 0, 10\n",
    "    iCHO.reactions.get_by_id('EX_progly_e').bounds = 0, 10\n",
    "    iCHO.reactions.get_by_id('P5CR').bounds = 0, 0\n",
    "    iCHO.reactions.get_by_id('P5CRxm').bounds = 0, 0\n",
    "    iCHO.reactions.get_by_id('P5CRx').bounds = 0, 0\n",
    "    iCHO.reactions.get_by_id('P5CRm').bounds = 0, 0\n",
    "    iCHO.reactions.get_by_id('r1453').bounds = 0, 10\n",
    "\n",
    "    # Threonine\n",
    "    #iCHO.reactions.get_by_id('THRS').bounds = 0,0  # Erased from the reconstruction\n",
    "\n",
    "\n",
    "    # Tryptophan\n",
    "    iCHO.reactions.get_by_id('NBAHH_ir').bounds = 0,0  \n",
    "\n",
    "    # Valine\n",
    "    iCHO.reactions.get_by_id('EX_valarggly_e').bounds = 0, 10\n",
    "    iCHO.reactions.get_by_id('EX_vallystyr_e').bounds = 0, 10\n",
    "    iCHO.reactions.get_by_id('VALTA').bounds = 0, 10\n",
    "    iCHO.reactions.get_by_id('VALTAm').bounds = 0, 10\n",
    "    iCHO.reactions.get_by_id('EX_valval_e').bounds = 0, 10\n",
    "    # -----------------------------------------\n",
    "\n",
    "    for exchange_reaction in iCHO.exchanges:\n",
    "        if exchange_reaction.id in amino_acids[amino_acid]:\n",
    "            exchange_reaction.bounds = 0, 10\n",
    "            # print(amino_acid, exchange_reaction.id, amino_acids[amino_acid])\n",
    "    sol = iCHO.optimize()\n",
    "    print(amino_acid, sol.objective_value)\n"
   ]
  },
  {
   "cell_type": "code",
   "execution_count": null,
   "metadata": {},
   "outputs": [],
   "source": [
    "amino_acids = {\n",
    "    \"alanine\": [\"EX_ala_B_e\", \"EX_ala_L_e\", \"EX_ala_D_e\"],\n",
    "    \"arginine\": [\"EX_arg_L_e\", \"EX_arg_D_e\"],\n",
    "    \"asparagine\": [\"EX_asn_L_e\", \"EX_asn_D_e\"],\n",
    "    \"aspartic acid\": [\"EX_asp_L_e\", \"EX_asp_D_e\"],\n",
    "    \"cysteine\": [\"EX_cys_L_e\", \"EX_cys_D_e\"],\n",
    "    \"glutamine\": [\"EX_gln_L_e\", \"EX_gln_D_e\"],\n",
    "    \"glutamic acid\": [\"EX_glu_L_e\", \"EX_glu_D_e\"],\n",
    "    \"glycine\": [\"EX_gly_e\"],\n",
    "    \"histidine\": [\"EX_his_L_e\", \"EX_his_D_e\"],\n",
    "    \"isoleucine\": [\"EX_ile_L_e\", \"EX_ile_D_e\"],\n",
    "    \"leucine\": [\"EX_leu_L_e\", \"EX_leu_D_e\"],\n",
    "    \"lysine\": [\"EX_lys_L_e\", \"EX_lys_D_e\"],\n",
    "    \"methionine\": [\"EX_met_L_e\", \"EX_met_D_e\"],\n",
    "    \"phenylalanine\": [\"EX_phe_L_e\", \"EX_phe_D_e\"],\n",
    "    \"proline\": [\"EX_pro_L_e\", \"EX_pro_D_e\"],\n",
    "    \"serine\": [\"EX_ser_L_e\", \"EX_ser_D_e\"],\n",
    "    \"threonine\": [\"EX_thr_L_e\", \"EX_thr_D_e\"],\n",
    "    \"tryptophan\": [\"EX_trp_L_e\", \"EX_trp_D_e\"],\n",
    "    \"tyrosine\": [\"EX_tyr_L_e\", \"EX_tyr_D_e\"],\n",
    "    \"valine\": [\"EX_val_L_e\", \"EX_val_D_e\"]\n",
    "}\n",
    "\n",
    "def test_auxotrophy(model, amino_acids):\n",
    "    # Iterate through each amino acid and its corresponding exchange reactions\n",
    "    for amino_acid, reactions in amino_acids.items():\n",
    "        # Set the bounds for each exchange reaction\n",
    "        for exchange in model.exchanges:\n",
    "            if exchange.id in reactions:\n",
    "                exchange.bounds = (0, 10)  # Allow secretion but not uptake\n",
    "            else:\n",
    "                exchange.bounds = (-10, 10)  # Allow uptake and secretion\n",
    "\n",
    "        # Optimize the model for the current setup\n",
    "        solution = model.optimize()\n",
    "        if solution.status == \"optimal\":\n",
    "            print(f\"{amino_acid} biomass production: {solution.objective_value}\")\n",
    "        else:\n",
    "            print(f\"{amino_acid} optimization failed: {solution.status}\")"
   ]
  },
  {
   "cell_type": "code",
   "execution_count": null,
   "metadata": {},
   "outputs": [],
   "source": [
    "test_auxotrophy(iCHO, amino_acids)"
   ]
  },
  {
   "cell_type": "code",
   "execution_count": null,
   "metadata": {},
   "outputs": [],
   "source": [
    "iCHO.metabolites.leu_L_c.summary()"
   ]
  },
  {
   "cell_type": "markdown",
   "metadata": {},
   "source": [
    "#### Matrix Sparsity"
   ]
  },
  {
   "cell_type": "code",
   "execution_count": null,
   "metadata": {},
   "outputs": [],
   "source": []
  },
  {
   "cell_type": "markdown",
   "metadata": {},
   "source": [
    "#### Gene Deletion test"
   ]
  },
  {
   "cell_type": "code",
   "execution_count": null,
   "metadata": {},
   "outputs": [],
   "source": []
  },
  {
   "cell_type": "markdown",
   "metadata": {},
   "source": [
    "##### Essential for growth genes and comparison to (An optimised genome-wide, virus free CRISPR screen for mammalian cells)"
   ]
  },
  {
   "cell_type": "code",
   "execution_count": null,
   "metadata": {},
   "outputs": [],
   "source": []
  },
  {
   "cell_type": "markdown",
   "metadata": {},
   "source": [
    "##### Commparsion to other models"
   ]
  },
  {
   "cell_type": "code",
   "execution_count": null,
   "metadata": {},
   "outputs": [],
   "source": []
  },
  {
   "cell_type": "markdown",
   "metadata": {},
   "source": [
    "#### Biomass prediction using exp. data (TODO)\n",
    "\n",
    "Incorporate uptake and secretion data and calculate the growth rate. Try ecFBA with enzyme trunover numbers. Reproduce Hooman's analsys with iCHO_v1."
   ]
  },
  {
   "cell_type": "code",
   "execution_count": 6,
   "metadata": {},
   "outputs": [],
   "source": [
    "import pandas as pd\n",
    "\n",
    "import cobra\n",
    "from cobra.io import load_json_model"
   ]
  },
  {
   "cell_type": "code",
   "execution_count": 2,
   "metadata": {},
   "outputs": [
    {
     "name": "stdout",
     "output_type": "stream",
     "text": [
      "Set parameter Username\n",
      "Academic license - for non-commercial use only - expires 2025-03-04\n"
     ]
    }
   ],
   "source": [
    "iCHO = load_json_model('iCHOv3_CHO_04032024.json')"
   ]
  },
  {
   "cell_type": "code",
   "execution_count": 18,
   "metadata": {},
   "outputs": [],
   "source": [
    "uptsec = pd.read_excel('../Data/Uptake_Secretion_Rates/mmc4.xlsx', header=2)\n",
    "uptsec = uptsec[:-5]"
   ]
  },
  {
   "cell_type": "code",
   "execution_count": 24,
   "metadata": {},
   "outputs": [
    {
     "data": {
      "text/plain": [
       "{'DM_igg[g]': 2.02422458111942e-05,\n",
       " 'EX_ac_e_': 7.38007e-05,\n",
       " 'EX_ala_L_e_': 0.023726937,\n",
       " 'EX_arg_L_e_': -0.01103321,\n",
       " 'EX_asn_L_e_': -0.074723247,\n",
       " 'EX_asp_L_e_': -0.025166052,\n",
       " 'EX_chol_e_': -0.003099631,\n",
       " 'EX_cit_e_': 0.002214022,\n",
       " 'EX_cys_L_e_': -0.00521978,\n",
       " 'EX_for_e_': 0.012583026,\n",
       " 'EX_glc_e_': -0.271070111,\n",
       " 'EX_gln_L_e_': 0.002767528,\n",
       " 'EX_glu_L_e_': -0.012398524,\n",
       " 'EX_gly_e_': 0.00697417,\n",
       " 'EX_glyc_e_': 0.015129151,\n",
       " 'EX_his_L_e_': -0.006457565,\n",
       " 'EX_ile_L_e_': -0.011808118,\n",
       " 'EX_lac_L_e_': 0.135608856,\n",
       " 'EX_leu_L_e_': -0.020184502,\n",
       " 'EX_lys_L_e_': -0.012583026,\n",
       " 'EX_mal_L_e_': 0.001660517,\n",
       " 'EX_met_L_e_': -0.004797048,\n",
       " 'EX_nh4_e_': 0.043763838,\n",
       " 'EX_o2_e_': -1.127472527,\n",
       " 'EX_phe_L_e_': -0.006457565,\n",
       " 'EX_pro_L_e_': -0.011623616,\n",
       " 'EX_pyr_e_': -0.010774908,\n",
       " 'EX_ser_L_e_': -0.043062731,\n",
       " 'EX_succ_e_': 0.000405904,\n",
       " 'EX_thr_L_e_': -0.015313653,\n",
       " 'EX_trp_L_e_': -0.003173432,\n",
       " 'EX_tyr_L_e_': -0.005276753,\n",
       " 'EX_val_L_e_': -0.015092251,\n",
       " 'EX_h2o_e_': -1000.0,\n",
       " 'EX_hco3_e_': -1000.0,\n",
       " 'EX_pi_e_': -1000.0,\n",
       " 'EX_so4_e_': -1000.0,\n",
       " 'SK_Asn_X_Ser/Thr[r]': -0.1,\n",
       " 'SK_Tyr_ggn[c]': -0.1,\n",
       " 'SK_Ser/Thr[g]': -0.1,\n",
       " 'SK_pre_prot[r]': -0.1}"
      ]
     },
     "execution_count": 24,
     "metadata": {},
     "output_type": "execute_result"
    }
   ],
   "source": [
    "uptsec_dict = uptsec.set_index('Unnamed: 0')['HP'].to_dict()\n",
    "uptsec_dict"
   ]
  },
  {
   "cell_type": "code",
   "execution_count": 3,
   "metadata": {},
   "outputs": [],
   "source": [
    "pfba_solution = cobra.flux_analysis.pfba(iCHO)"
   ]
  },
  {
   "cell_type": "code",
   "execution_count": 4,
   "metadata": {},
   "outputs": [
    {
     "name": "stdout",
     "output_type": "stream",
     "text": [
      "428\n"
     ]
    }
   ],
   "source": [
    "c=0\n",
    "for f in pfba_solution.fluxes:\n",
    "    if f != 0:\n",
    "        c+=1\n",
    "        \n",
    "print(c)"
   ]
  },
  {
   "cell_type": "code",
   "execution_count": null,
   "metadata": {},
   "outputs": [],
   "source": []
  }
 ],
 "metadata": {
  "kernelspec": {
   "display_name": "Python 3 (ipykernel)",
   "language": "python",
   "name": "python3"
  },
  "language_info": {
   "codemirror_mode": {
    "name": "ipython",
    "version": 3
   },
   "file_extension": ".py",
   "mimetype": "text/x-python",
   "name": "python",
   "nbconvert_exporter": "python",
   "pygments_lexer": "ipython3",
   "version": "3.12.2"
  }
 },
 "nbformat": 4,
 "nbformat_minor": 4
}
