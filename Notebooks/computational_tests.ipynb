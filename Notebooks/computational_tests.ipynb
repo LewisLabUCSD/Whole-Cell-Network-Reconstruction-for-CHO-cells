{
 "cells": [
  {
   "cell_type": "markdown",
   "metadata": {},
   "source": [
    "# Computational Tests\n",
    "\n",
    "This notebook is intended for running different kinds of analyses that would validate our reconstruction and would compare it woth previous CHO Recons"
   ]
  },
  {
   "cell_type": "markdown",
   "metadata": {},
   "source": [
    "## 1.Blocked reactions in each subsystem subsystem\n",
    "Here we calculate the percentage of blocked reactions in each one of our subsystems and then we compare it with previous reconstructions (iCHO1766 and iCHO2101). To calculate this value we use the .txt file generated in the **Final CHO Model** notebook **Section 2.1**"
   ]
  },
  {
   "cell_type": "code",
   "execution_count": 2,
   "metadata": {},
   "outputs": [],
   "source": [
    "import pandas as pd\n",
    "import numpy as np\n",
    "from collections import Counter\n",
    "import matplotlib.pyplot as plt\n",
    "\n",
    "from cobra.io import load_json_model"
   ]
  },
  {
   "cell_type": "code",
   "execution_count": 3,
   "metadata": {},
   "outputs": [
    {
     "name": "stdout",
     "output_type": "stream",
     "text": [
      "Set parameter Username\n",
      "Academic license - for non-commercial use only - expires 2024-03-24\n"
     ]
    }
   ],
   "source": [
    "model = load_json_model('iCHOv3_CHO_02112023.json')"
   ]
  },
  {
   "cell_type": "markdown",
   "metadata": {},
   "source": [
    "### 1.1 Calculate the parcentage of blocked reactions per Subsystem"
   ]
  },
  {
   "cell_type": "code",
   "execution_count": 4,
   "metadata": {},
   "outputs": [],
   "source": [
    "blocked_reactions = pd.read_csv('temp/Blocked_Reactions.csv')\n",
    "blocked_reactions = list(blocked_reactions['Reaction'])"
   ]
  },
  {
   "cell_type": "code",
   "execution_count": 5,
   "metadata": {},
   "outputs": [
    {
     "name": "stdout",
     "output_type": "stream",
     "text": [
      "##### ----- Blocked Reactions ----- #####\n",
      "The model has 11195 total reactions\n",
      "The model has 2725 (24%) blocked reactions\n"
     ]
    }
   ],
   "source": [
    "##### ----- Print the amount and total amount of blocked reactions ----- #####            \n",
    "print('##### ----- Blocked Reactions ----- #####')\n",
    "print(f'The model has {len(model.reactions)} total reactions')\n",
    "print(f'The model has {len(blocked_reactions)} ({round(len(blocked_reactions)/len(model.reactions)*100)}%) blocked reactions')"
   ]
  },
  {
   "cell_type": "code",
   "execution_count": 6,
   "metadata": {
    "scrolled": false
   },
   "outputs": [
    {
     "name": "stdout",
     "output_type": "stream",
     "text": [
      "O-GLYCAN METABOLISM: 100.0%\n",
      "VITAMIN B12 METABOLISM: 100.0%\n",
      "VITAMIN E METABOLISM: 100.0%\n",
      "VITAMIN K METABOLISM: 100.0%\n",
      "CYP METABOLISM: 100.0%\n",
      "GLYCOSYLPHOSPHATIDYLINOSITOL (GPI)-ANCHOR BIOSYNTHESIS: 100.0%\n",
      "LINOLEATE METABOLISM: 100.0%\n",
      "LIPOATE METABOLISM: 100.0%\n",
      "AMINO ACID DERIVATIVE: 100.0%\n",
      "XENOBIOTICS METABOLISM: 92.38095238095238%\n",
      "ARACHIDONIC ACID METABOLISM: 85.15625%\n",
      "GLYCAN AND GLYCOSAMINOGLYCAN METABOLISM: 85.0%\n",
      "PROTEIN DEGRADATION: 77.77777777777779%\n",
      "PROTEIN ASSEMBLY: 76.19047619047619%\n",
      "EICOSANOID METABOLISM: 75.98425196850394%\n",
      "STILBENE, COUMARINE AND LIGNIN SYNTHESIS: 75.0%\n",
      "SELENOAMINO ACID METABOLISM: 73.91304347826086%\n",
      "ALKALOID SYNTHESIS: 71.42857142857143%\n",
      "LIMONENE AND PINENE DEGRADATION: 70.0%\n",
      "VITAMIN D METABOLISM: 67.64705882352942%\n",
      "ANDROGEN AND ESTROGEN SYNTHESIS AND METABOLISM: 67.44186046511628%\n",
      "METHIONINE METABOLISM: 66.66666666666666%\n",
      "N-GLYCAN METABOLISM: 66.66666666666666%\n",
      "INTRACELLULAR SOURCE/SINK: 66.66666666666666%\n",
      "GLYCEROPHOSPHOLIPID METABOLISM: 63.59223300970874%\n",
      "PEPTIDE METABOLISM: 61.53846153846154%\n",
      "LEUKOTRIENE METABOLISM: 61.53846153846154%\n",
      "LYSINE METABOLISM: 58.82352941176471%\n",
      "N-GLYCAN BIOSYNTHESIS: 58.06451612903226%\n",
      "VITAMIN A METABOLISM: 56.43564356435643%\n",
      "PHOSPHATIDYLINOSITOL PHOSPHATE METABOLISM: 56.09756097560976%\n",
      "TYROSINE METABOLISM: 51.14503816793893%\n",
      "PROTEIN MODIFICATION: 50.0%\n",
      "HISTIDINE METABOLISM: 47.368421052631575%\n",
      "UNASSIGNED: 47.286821705426355%\n",
      "VITAMIN C METABOLISM: 46.666666666666664%\n",
      "MISCELLANEOUS: 44.866920152091254%\n",
      "O-GLYCAN SYNTHESIS: 40.0%\n",
      "BILE ACID SYNTHESIS: 36.74418604651163%\n",
      "GLYCOSPHINGOLIPID METABOLISM: 36.53846153846153%\n",
      "CHONDROITIN SYNTHESIS: 34.090909090909086%\n",
      "UREA CYCLE: 33.33333333333333%\n",
      "TRANSPORT, ENDOPLASMIC RETICULAR: 32.481751824817515%\n",
      "CHOLESTEROL METABOLISM: 32.196969696969695%\n",
      "PHENYLALANINE METABOLISM: 31.57894736842105%\n",
      "METHIONINE AND CYSTEINE METABOLISM: 30.23255813953488%\n",
      "FATTY ACID ELONGATION: 30.0%\n",
      "TRYPTOPHAN METABOLISM: 28.57142857142857%\n",
      "PROPANOATE METABOLISM: 28.57142857142857%\n",
      "OTHER CARBON METABOLISM: 27.27272727272727%\n",
      "INOSITOL PHOSPHATE METABOLISM: 25.806451612903224%\n",
      "STEROID METABOLISM: 25.663716814159294%\n",
      "TRANSPORT, NUCLEAR: 25.555555555555554%\n",
      "N-GLYCAN DEGRADATION: 25.0%\n",
      "HEME SYNTHESIS: 25.0%\n",
      "COA CATABOLISM: 25.0%\n",
      "TETRAHYDROBIOPTERIN METABOLISM: 23.076923076923077%\n",
      "EXTRACELLULAR EXCHANGE: 22.555555555555557%\n",
      "TRANSPORT, LYSOSOMAL: 22.321428571428573%\n",
      "NUCLEOTIDE METABOLISM: 21.568627450980394%\n",
      "FRUCTOSE AND MANNOSE METABOLISM: 21.428571428571427%\n",
      "ARGININE AND PROLINE METABOLISM: 21.052631578947366%\n",
      "GLYCINE, SERINE, ALANINE, AND THREONINE METABOLISM: 20.833333333333336%\n",
      "UREA CYCLE/AMINO GROUP METABOLISM: 20.0%\n",
      "VALINE, LEUCINE, AND ISOLEUCINE METABOLISM: 19.51219512195122%\n",
      "NAD METABOLISM: 19.444444444444446%\n",
      "TRANSPORT, EXTRACELLULAR: 18.409236690186017%\n",
      "UBIQUINONE SYNTHESIS: 17.391304347826086%\n",
      "SPHINGOLIPID METABOLISM: 16.93548387096774%\n",
      "ALANINE AND ASPARTATE METABOLISM: 16.666666666666664%\n",
      "HEME DEGRADATION: 16.666666666666664%\n",
      "PURINE CATABOLISM: 16.666666666666664%\n",
      "GLYCEROPHOSPHOLIPID, SPHINGOLIPID AND INOSITOL METABOLISM: 15.909090909090908%\n",
      "AMINOSUGAR METABOLISM: 15.625%\n",
      "BETA-ALANINE METABOLISM: 15.384615384615385%\n",
      "FATTY ACID OXIDATION: 15.073115860517436%\n",
      "AMINO ACID METABOLISM: 14.583333333333334%\n",
      "THIAMINE METABOLISM: 14.285714285714285%\n",
      "TRANSPORT, GOLGI APPARATUS: 13.88888888888889%\n",
      "INTRACELLULAR DEMAND: 13.333333333333334%\n",
      "CYTOCHROME METABOLISM: 12.5%\n",
      "GLYOXYLATE AND DICARBOXYLATE METABOLISM: 11.76470588235294%\n",
      "STARCH AND SUCROSE METABOLISM: 11.363636363636363%\n",
      "PYRIMIDINE SYNTHESIS: 10.0%\n",
      "FATTY ACID METABOLISM: 9.621451104100947%\n",
      "PYRUVATE METABOLISM: 8.571428571428571%\n",
      "TRANSPORT, PEROXISOMAL: 8.270676691729323%\n",
      "BIOTIN METABOLISM: 7.6923076923076925%\n",
      "FATTY ACID SYNTHESIS: 7.291666666666667%\n",
      "COA SYNTHESIS: 7.142857142857142%\n",
      "TRANSPORT, MITOCHONDRIAL: 6.770833333333333%\n",
      "FOLATE METABOLISM: 6.557377049180328%\n",
      "NUCLEOTIDE INTERCONVERSION: 5.714285714285714%\n",
      "PYRIMIDINE CATABOLISM: 5.714285714285714%\n",
      "GLUTATHIONE METABOLISM: 5.555555555555555%\n",
      "VITAMIN AND COFACTOR METABOLISM: 5.0%\n",
      "TRANSPORT: 4.9937578027465666%\n",
      "PENTOSE PHOSPHATE PATHWAY: 4.761904761904762%\n",
      "AMINOACYL-TRNA BIOSYNTHESIS: 4.651162790697675%\n",
      "BILE, EICOSANOID AND STEROID METABOLISM: 3.225806451612903%\n",
      "EXCHANGE: 2.515723270440252%\n",
      "GLYCINE, SERINE, ALANINE AND THREONINE METABOLISM: 0%\n",
      "GLUTAMATE METABOLISM: 0%\n",
      "GLYCINE, SERINE, AND THREONINE METABOLISM: 0%\n",
      ": 0%\n",
      "CITRIC ACID CYCLE: 0%\n",
      "CENTRAL CARBON AND ENERGY METABOLISM: 0%\n",
      "GLYCOLYSIS/GLUCONEOGENESIS: 0%\n",
      "BIOMASS AND MAINTENANCE FUNCTIONS: 0%\n",
      "OXIDATIVE PHOSPHORYLATION: 0%\n",
      "BIOMASS SYNTHESIS: 0%\n",
      "PENTOSE AND GLUCURONATE INTERCONVERSIONS: 0%\n",
      "SQUALENE AND CHOLESTEROL SYNTHESIS: 0%\n",
      "BLOOD GROUP SYNTHESIS: 0%\n",
      "KERATAN SULFATE SYNTHESIS: 0%\n",
      "KERATAN SULFATE DEGRADATION: 0%\n",
      "VITAMIN B2 METABOLISM: 0%\n",
      "VITAMIN B6 METABOLISM: 0%\n",
      "ASCORBATE AND ALDARATE METABOLISM: 0%\n",
      "CHONDROITIN SULFATE DEGRADATION: 0%\n",
      "HEPARAN SULFATE DEGRADATION: 0%\n",
      "HYALURONAN METABOLISM: 0%\n",
      "NUCLEOTIDE SALVAGE PATHWAY: 0%\n",
      "TAURINE AND HYPOTAURINE METABOLISM: 0%\n",
      "PURINE SYNTHESIS: 0%\n",
      "R GROUP SYNTHESIS: 0%\n",
      "CARNITINE SHUTTLE: 0%\n",
      "TRIACYLGLYCEROL SYNTHESIS: 0%\n",
      "GALACTOSE METABOLISM: 0%\n",
      "C5-BRANCHED DIBASIC ACID METABOLISM: 0%\n",
      "D-ALANINE METABOLISM: 0%\n",
      "BUTANOATE METABOLISM: 0%\n",
      "ROS DETOXIFICATION: 0%\n"
     ]
    }
   ],
   "source": [
    "#### --- Calculate the percentage of blocked reactions per Subsystem ---- ####\n",
    "blocked_subs = []\n",
    "for blocked in blocked_reactions:\n",
    "    blocked_rxn = model.reactions.get_by_id(blocked)\n",
    "    blocked_subs.append(blocked_rxn.subsystem)\n",
    "    \n",
    "counter_blocked = Counter(blocked_subs)\n",
    "\n",
    "all_subs = []\n",
    "for rxn in model.reactions:\n",
    "    all_subs.append(rxn.subsystem)\n",
    "counter_all = Counter(all_subs)\n",
    "counter_all\n",
    "\n",
    "# calculating percentages\n",
    "percentages = {}\n",
    "\n",
    "for subsystem in counter_all.keys():\n",
    "    if subsystem in counter_blocked:\n",
    "        percentages[subsystem] = (counter_blocked[subsystem] / counter_all[subsystem]) * 100\n",
    "    else:\n",
    "        percentages[subsystem] = 0\n",
    "        \n",
    "# Sort the dictionary by value in descending order\n",
    "sorted_percentages = {k: v for k, v in sorted(percentages.items(), key=lambda item: item[1], reverse=True)}\n",
    "\n",
    "for k, v in sorted_percentages.items():\n",
    "    print(f\"{k}: {v}%\")"
   ]
  },
  {
   "cell_type": "markdown",
   "metadata": {},
   "source": [
    "### 1.2 Compare and plot the percentage of blocked reactions between iCHO1766, iCHO2101 and our reconstruction"
   ]
  },
  {
   "cell_type": "code",
   "execution_count": 9,
   "metadata": {},
   "outputs": [],
   "source": [
    "icho1766_icho2101 = pd.read_excel('../Data/Reconciliation/datasets/iCHO2101.xlsx', 'Supplementary Table 9', header = 1)\n",
    "icho1766_icho2101['Name of the metabolic pathway'] = icho1766_icho2101['Name of the metabolic pathway'].str.replace(\"'\",\"\")\n",
    "# Now converting the dataframe to dictionary\n",
    "data_dict = icho1766_icho2101[['Percent of blockage in iCHO1766', 'Percent of blockage in iCHO2101']].to_dict()\n",
    "pathway_names = list(icho1766_icho2101['Name of the metabolic pathway'])\n",
    "\n",
    "# your original dictionaries\n",
    "blockage_iCHO1766 = data_dict['Percent of blockage in iCHO1766']\n",
    "blockage_iCHO2101 = data_dict['Percent of blockage in iCHO2101']\n",
    "\n",
    "# initialize new dictionaries\n",
    "new_blockage_iCHO1766 = {}\n",
    "new_blockage_iCHO2101 = {}\n",
    "\n",
    "# fill the new dictionaries with the correct keys\n",
    "for i, pathway in enumerate(pathway_names):\n",
    "    new_blockage_iCHO1766[pathway] = blockage_iCHO1766[i]\n",
    "    new_blockage_iCHO2101[pathway] = blockage_iCHO2101[i]"
   ]
  },
  {
   "cell_type": "code",
   "execution_count": 10,
   "metadata": {},
   "outputs": [
    {
     "name": "stdout",
     "output_type": "stream",
     "text": [
      "Subsystems where 'percentages_filtered' is lower:\n",
      "N-GLYCAN SYNTHESIS\n",
      "FATTY ACID SYNTHESIS\n",
      "GALACTOSE METABOLISM\n",
      "TRIACYLGLYCEROL SYNTHESIS\n",
      "XENOBIOTICS METABOLISM\n",
      "NUCLEOTIDE INTERCONVERSION\n",
      "NUCLEOTIDES\n",
      "PENTOSE AND GLUCURONATE INTERCONVERSIONS\n",
      "GLYCINE, SERINE, ALANINE AND THREONINE METABOLISM\n",
      "GLYCOSPHINGOLIPID METABOLISM\n",
      "PYRUVATE METABOLISM\n",
      "EXCHANGE\n",
      "\n",
      "Subsystems where 'percentages_filtered' is higher:\n",
      "CYTOCHROME METABOLISM\n",
      "GLYCOSYLPHOSPHATIDYLINOSITOL (GPI)-ANCHOR BIOSYNTHESIS\n",
      "LIMONENE AND PINENE DEGRADATION\n",
      "METHIONINE METABOLISM\n",
      "PHENYLALANINE METABOLISM\n",
      "PROPANOATE METABOLISM\n",
      "TRANSPORT, EXTRACELLULAR\n",
      "CHOLESTEROL METABOLISM\n",
      "COA CATABOLISM\n",
      "FRUCTOSE AND MANNOSE METABOLISM\n",
      "N-GLYCAN BIOSYNTHESIS\n",
      "PHOSPHATIDYLINOSITOL PHOSPHATE METABOLISM\n",
      "PYRIMIDINE SYNTHESIS\n",
      "SPHINGOLIPID METABOLISM\n",
      "VITAMIN A METABOLISM\n",
      "HISTIDINE METABOLISM\n",
      "LYSINE METABOLISM\n",
      "METHIONINE AND CYSTEINE METABOLISM\n",
      "VALINE, LEUCINE, AND ISOLEUCINE METABOLISM\n",
      "AMINOSUGAR METABOLISM\n",
      "COA SYNTHESIS\n",
      "FOLATE METABOLISM\n",
      "GLYCEROPHOSPHOLIPID METABOLISM\n",
      "INOSITOL PHOSPHATE METABOLISM\n",
      "TRANSPORT, ENDOPLASMIC RETICULAR\n",
      "TRANSPORT, MITOCHONDRIAL\n",
      "UNASSIGNED\n",
      "BETA-ALANINE METABOLISM\n",
      "O-GLYCAN SYNTHESIS\n",
      "UBIQUINONE SYNTHESIS\n",
      "HEME SYNTHESIS\n",
      "THIAMINE METABOLISM\n"
     ]
    }
   ],
   "source": [
    "# initialize lists to hold subsystems with lower and higher values in percentages_filtered\n",
    "lower_subsystems = []\n",
    "higher_subsystems = []\n",
    "\n",
    "# loop through each subsystem\n",
    "for subsystem in pathway_names:\n",
    "    # get the value from each dictionary, or default to 0 if the subsystem is not present\n",
    "    value_percentages = percentages.get(subsystem, 0)\n",
    "    value_iCHO1766 = new_blockage_iCHO1766.get(subsystem, 0)\n",
    "    value_iCHO2101 = new_blockage_iCHO2101.get(subsystem, 0)\n",
    "    \n",
    "    # check if value_percentages_filtered is lower than both of the other values\n",
    "    if value_percentages < min(value_iCHO1766, value_iCHO2101):\n",
    "        lower_subsystems.append(subsystem)\n",
    "    \n",
    "    # check if value_percentages_filtered is higher than both of the other values\n",
    "    if value_percentages > max(value_iCHO1766, value_iCHO2101):\n",
    "        higher_subsystems.append(subsystem)\n",
    "\n",
    "# print the results\n",
    "print(\"Subsystems where 'percentages_filtered' is lower:\")\n",
    "for subsystem in lower_subsystems:\n",
    "    print(subsystem)\n",
    "\n",
    "print(\"\\nSubsystems where 'percentages_filtered' is higher:\")\n",
    "for subsystem in higher_subsystems:\n",
    "    print(subsystem)\n"
   ]
  },
  {
   "cell_type": "code",
   "execution_count": 11,
   "metadata": {},
   "outputs": [
    {
     "data": {
      "image/png": "[encoded data removed]",
      "text/plain": [
       "<Figure size 640x480 with 1 Axes>"
      ]
     },
     "metadata": {},
     "output_type": "display_data"
    }
   ],
   "source": [
    "# List of subsystems for which we want to plot histogram\n",
    "subsystems = lower_subsystems\n",
    "\n",
    "# Create new lists with the percentages for each subsystem in each dictionary\n",
    "values_icho1766 = [new_blockage_iCHO1766.get(subsystem, 0) for subsystem in subsystems]\n",
    "values_icho2101 = [new_blockage_iCHO2101.get(subsystem, 0) for subsystem in subsystems]\n",
    "percentages_values = [percentages.get(subsystem, 0) for subsystem in subsystems]\n",
    "\n",
    "# Define the width of each bar and the positions of the bars\n",
    "bar_width = 0.2\n",
    "index = np.arange(len(subsystems))\n",
    "\n",
    "# Create the bar plot\n",
    "fig, ax = plt.subplots()\n",
    "\n",
    "bar1 = ax.bar(index, values_icho1766, bar_width, label='iCHO1766')\n",
    "bar2 = ax.bar(index + bar_width, values_icho2101, bar_width, label='iCHO2101')\n",
    "bar3 = ax.bar(index + 2*bar_width, percentages_values, bar_width, label='iCHO3000')\n",
    "\n",
    "ax.set_xlabel('Subsystems')\n",
    "ax.set_ylabel('Percentage of Blocked Reactions (%)')\n",
    "ax.set_title('Percentage of Blocked Reactions for Each Subsystem')\n",
    "ax.set_xticks(index + bar_width)\n",
    "ax.set_xticklabels(subsystems, rotation=90)\n",
    "ax.legend()\n",
    "\n",
    "plt.show()\n"
   ]
  },
  {
   "cell_type": "markdown",
   "metadata": {},
   "source": [
    "#### Auxotrophies"
   ]
  },
  {
   "cell_type": "code",
   "execution_count": 1,
   "metadata": {},
   "outputs": [],
   "source": [
    "from cobra.io import load_json_model\n",
    "iCHO_path = \"iCHOv3_CHO_02112023.json\"\n",
    "iCHO = load_json_model(iCHO_path)"
   ]
  },
  {
   "cell_type": "code",
   "execution_count": 120,
   "metadata": {},
   "outputs": [
    {
     "name": "stdout",
     "output_type": "stream",
     "text": [
      "cysteine EX_cys_L_e ['EX_cys_L_e', 'EX_cys_D_e']\n",
      "cysteine 9.598458103690223\n"
     ]
    }
   ],
   "source": [
    "amino_acids = {\n",
    "    # \"arginine\": [\"EX_arg_L_e\", \"EX_arg_D_e\"],\n",
    "    # \"asparagine\": [\"EX_asn_L_e\", \"EX_asn_D_e\"],\n",
    "    \"cysteine\": [\"EX_cys_L_e\", \"EX_cys_D_e\"],\n",
    "    # \"histidine\": [\"EX_his_L_e\", \"EX_his_D_e\"],\n",
    "    # \"isoleucine\": [\"EX_ile_L_e\", \"EX_ile_D_e\"],\n",
    "    # \"leucine\": [\"EX_leu_L_e\", \"EX_leu_D_e\"],\n",
    "    # \"lysine\": [\"EX_lys_L_e\", \"EX_lys_D_e\"],\n",
    "    # \"methionine\": [\"EX_met_L_e\", \"EX_met_D_e\"],\n",
    "    # \"phenylalanine\": [\"EX_phe_L_e\", \"EX_phe_D_e\"],\n",
    "    # \"proline\": [\"EX_pro_L_e\", \"EX_pro_D_e\"],\n",
    "    # \"threonine\": [\"EX_thr_L_e\", \"EX_thr_D_e\"],\n",
    "    # \"tryptophan\": [\"EX_trp_L_e\", \"EX_trp_D_e\"],\n",
    "    # \"valine\": [\"EX_val_L_e\", \"EX_val_D_e\"]\n",
    "}\n",
    "for amino_acid in amino_acids:\n",
    "    # ----- Setup initial bounds -----\n",
    "    for exchange_reaction in iCHO.exchanges:\n",
    "        exchange_reaction.bounds = -10, 10\n",
    "\n",
    "    # Arginine\n",
    "    iCHO.reactions.get_by_id('GAUGE-R00557').bounds = 0, 10\n",
    "    iCHO.reactions.get_by_id('GAUGE-R10107').bounds = 0, 0\n",
    "    iCHO.reactions.get_by_id('GAUGE-R00558').bounds = 0, 0\n",
    "    iCHO.reactions.get_by_id('GLYAMDTRc').bounds = 0, 0\n",
    "    iCHO.reactions.get_by_id('GAUGE-R10107').bounds = 0, 0\n",
    "    iCHO.reactions.get_by_id('EX_valarggly_e').bounds = 0, 10\n",
    "    iCHO.reactions.get_by_id('ARGSL').bounds = 0, 0\n",
    "\n",
    "    # Asparigine\n",
    "    iCHO.reactions.get_by_id('ASNS1').bounds = 0, 0\n",
    "\n",
    "    # Cysteine\n",
    "    iCHO.reactions.get_by_id('r0129').bounds = 0, 0\n",
    "\n",
    "    # Histidine\n",
    "    iCHO.reactions.get_by_id('VALTRPVALr').bounds = 0,0 \n",
    "    \n",
    "    # Isoleucine\n",
    "    # http://bigg.ucsd.edu/universal/reactions/RE0936C\n",
    "\n",
    "    # Leucine\n",
    "    iCHO.reactions.get_by_id('LEULEULAPc').bounds = 0,0 \n",
    "\n",
    "    # Lysine\n",
    "    iCHO.reactions.get_by_id('LEULEULAPc').bounds = 0,0 \n",
    "\n",
    "    # Methionine\n",
    "    iCHO.reactions.get_by_id('LEULEULAPc').bounds = 0,0 \n",
    "\n",
    "    # Phenylalanine\n",
    "    iCHO.reactions.get_by_id('EX_CE5786_e').bounds = 0, 0 \n",
    "    iCHO.reactions.get_by_id('EX_pheleu_e').bounds = 0, 0 \n",
    "    iCHO.reactions.get_by_id('EX_glyphe_e').bounds = 0, 0 \n",
    "    iCHO.reactions.get_by_id('EX_CE2917_e').bounds = 0, 0 \n",
    "    iCHO.reactions.get_by_id('EX_CE5786_e').bounds = 0, 0 \n",
    "    iCHO.reactions.get_by_id('EX_CE5789_e').bounds = 0, 0 \n",
    "    iCHO.reactions.get_by_id('EX_phpyr_e').bounds = 0, 0 \n",
    "\n",
    "    # Proline\n",
    "    iCHO.reactions.get_by_id('EX_glypro_e').bounds = 0, 10\n",
    "    iCHO.reactions.get_by_id('EX_progly_e').bounds = 0, 10\n",
    "    iCHO.reactions.get_by_id('P5CR').bounds = 0, 0\n",
    "    iCHO.reactions.get_by_id('P5CRxm').bounds = 0, 0\n",
    "    iCHO.reactions.get_by_id('P5CRx').bounds = 0, 0\n",
    "    iCHO.reactions.get_by_id('r1453').bounds = 0, 10\n",
    "\n",
    "    # Threonine\n",
    "    iCHO.reactions.get_by_id('THRS').bounds = 0,0 \n",
    "\n",
    "    # Tryptophan\n",
    "    iCHO.reactions.get_by_id('NBAHH_ir').bounds = 0,0  \n",
    "\n",
    "    # Valine\n",
    "    iCHO.reactions.get_by_id('EX_valarggly_e').bounds = 0, 10\n",
    "    iCHO.reactions.get_by_id('EX_vallystyr_e').bounds = 0, 10\n",
    "    iCHO.reactions.get_by_id('VALTA').bounds = 0, 10\n",
    "    iCHO.reactions.get_by_id('VALTAm').bounds = 0, 10\n",
    "    iCHO.reactions.get_by_id('EX_valval_e').bounds = 0, 10\n",
    "    # -----------------------------------------\n",
    "\n",
    "    for exchange_reaction in iCHO.exchanges:\n",
    "        if exchange_reaction.id in amino_acids[amino_acid]:\n",
    "            exchange_reaction.bounds = 0, 10\n",
    "            print(amino_acid, exchange_reaction.id, amino_acids[amino_acid])\n",
    "    sol = iCHO.optimize()\n",
    "    print(amino_acid, sol.objective_value)\n"
   ]
  },
  {
   "cell_type": "code",
   "execution_count": 119,
   "metadata": {},
   "outputs": [
    {
     "data": {
      "text/html": [
       "<h3>cgly_c</h3><p>C5H10N2O3S</p><h4>Producing Reactions</h4><table border=\"1\" class=\"dataframe\">\n",
       "  <thead>\n",
       "    <tr style=\"text-align: right;\">\n",
       "      <th>Percent</th>\n",
       "      <th>Flux</th>\n",
       "      <th>Reaction</th>\n",
       "      <th>Definition</th>\n",
       "    </tr>\n",
       "  </thead>\n",
       "  <tbody>\n",
       "    <tr>\n",
       "      <td>100.00%</td>\n",
       "      <td>2.277</td>\n",
       "      <td>r0129</td>\n",
       "      <td>gthrd_c + h2o_c --&gt; cgly_c + glu_L_c</td>\n",
       "    </tr>\n",
       "  </tbody>\n",
       "</table><h4>Consuming Reactions</h4><table border=\"1\" class=\"dataframe\">\n",
       "  <thead>\n",
       "    <tr style=\"text-align: right;\">\n",
       "      <th>Percent</th>\n",
       "      <th>Flux</th>\n",
       "      <th>Reaction</th>\n",
       "      <th>Definition</th>\n",
       "    </tr>\n",
       "  </thead>\n",
       "  <tbody>\n",
       "    <tr>\n",
       "      <td>100.00%</td>\n",
       "      <td>-2.277</td>\n",
       "      <td>AMPTASECG</td>\n",
       "      <td>cgly_c + h2o_c --&gt; cys_L_c + gly_c</td>\n",
       "    </tr>\n",
       "  </tbody>\n",
       "</table>"
      ],
      "text/plain": [
       "<cobra.summary.metabolite_summary.MetaboliteSummary at 0x23c2d64f1f0>"
      ]
     },
     "execution_count": 119,
     "metadata": {},
     "output_type": "execute_result"
    }
   ],
   "source": [
    "iCHO.metabolites.cgly_c.summary()"
   ]
  },
  {
   "cell_type": "code",
   "execution_count": 121,
   "metadata": {},
   "outputs": [
    {
     "data": {
      "text/html": [
       "<h3>cys_L_c</h3><p>C3H7NO2S</p><h4>Producing Reactions</h4><table border=\"1\" class=\"dataframe\">\n",
       "  <thead>\n",
       "    <tr style=\"text-align: right;\">\n",
       "      <th>Percent</th>\n",
       "      <th>Flux</th>\n",
       "      <th>Reaction</th>\n",
       "      <th>Definition</th>\n",
       "    </tr>\n",
       "  </thead>\n",
       "  <tbody>\n",
       "    <tr>\n",
       "      <td>64.60%</td>\n",
       "      <td>1.471</td>\n",
       "      <td>AMPTASECG</td>\n",
       "      <td>cgly_c + h2o_c --&gt; cys_L_c + gly_c</td>\n",
       "    </tr>\n",
       "    <tr>\n",
       "      <td>35.40%</td>\n",
       "      <td>0.806</td>\n",
       "      <td>r0027</td>\n",
       "      <td>2.0 cys_L_c + nadp_c &lt;=&gt; Lcystin_c + h_c + nadph_c</td>\n",
       "    </tr>\n",
       "  </tbody>\n",
       "</table><h4>Consuming Reactions</h4><table border=\"1\" class=\"dataframe\">\n",
       "  <thead>\n",
       "    <tr style=\"text-align: right;\">\n",
       "      <th>Percent</th>\n",
       "      <th>Flux</th>\n",
       "      <th>Reaction</th>\n",
       "      <th>Definition</th>\n",
       "    </tr>\n",
       "  </thead>\n",
       "  <tbody>\n",
       "    <tr>\n",
       "      <td>35.03%</td>\n",
       "      <td>-0.7975</td>\n",
       "      <td>CYSTRS</td>\n",
       "      <td>atp_c + cys_L_c + trnacys_c --&gt; amp_c + cystrna_c + ppi_c</td>\n",
       "    </tr>\n",
       "    <tr>\n",
       "      <td>64.97%</td>\n",
       "      <td>-1.479</td>\n",
       "      <td>r1402</td>\n",
       "      <td>22.0 ala_L_c + 12.0 arg_L_c + 12.0 asn_L_c + 26.0 asp_L_c + 1400.0 atp_c + 6.0 cys_L_c + 14.0 gln_L_c + 15.0 glu_L_c + 18.0 gly_c + 1400.0 h2o_c + 9.0 his_L_c + 12.0 ile_L_c + 39.0 leu_L_c + 18.0 lys_L_c + 8.0 met_L_c + 20.0 phe_L_c + 15.0 pro_L_c + 31.0 ser_L_c + 25.0 thr_L_c + 7.0 trp_L_c + 13.0 tyr_L_c + 28.0 val_L_c --&gt; 1050.0 adp_c + 350.0 amp_c + ggn_c + 1050.0 pi_c + 350.0 ppi_c</td>\n",
       "    </tr>\n",
       "  </tbody>\n",
       "</table>"
      ],
      "text/plain": [
       "<cobra.summary.metabolite_summary.MetaboliteSummary at 0x23c2db80250>"
      ]
     },
     "execution_count": 121,
     "metadata": {},
     "output_type": "execute_result"
    }
   ],
   "source": [
    "iCHO.metabolites.cys_L_c.summary()"
   ]
  },
  {
   "cell_type": "code",
   "execution_count": 2,
   "metadata": {},
   "outputs": [],
   "source": [
    "amino_acids = {\n",
    "    \"alanine\": [\"EX_ala_B_e\", \"EX_ala_L_e\", \"EX_ala_D_e\"],\n",
    "    \"arginine\": [\"EX_arg_L_e\", \"EX_arg_D_e\"],\n",
    "    \"asparagine\": [\"EX_asn_L_e\", \"EX_asn_D_e\"],\n",
    "    \"aspartic acid\": [\"EX_asp_L_e\", \"EX_asp_D_e\"],\n",
    "    \"cysteine\": [\"EX_cys_L_e\", \"EX_cys_D_e\"],\n",
    "    \"glutamine\": [\"EX_gln_L_e\", \"EX_gln_D_e\"],\n",
    "    \"glutamic acid\": [\"EX_glu_L_e\", \"EX_glu_D_e\"],\n",
    "    \"glycine\": [\"EX_gly_e\"],\n",
    "    \"histidine\": [\"EX_his_L_e\", \"EX_his_D_e\"],\n",
    "    \"isoleucine\": [\"EX_ile_L_e\", \"EX_ile_D_e\"],\n",
    "    \"leucine\": [\"EX_leu_L_e\", \"EX_leu_D_e\"],\n",
    "    \"lysine\": [\"EX_lys_L_e\", \"EX_lys_D_e\"],\n",
    "    \"methionine\": [\"EX_met_L_e\", \"EX_met_D_e\"],\n",
    "    \"phenylalanine\": [\"EX_phe_L_e\", \"EX_phe_D_e\"],\n",
    "    \"proline\": [\"EX_pro_L_e\", \"EX_pro_D_e\"],\n",
    "    \"serine\": [\"EX_ser_L_e\", \"EX_ser_D_e\"],\n",
    "    \"threonine\": [\"EX_thr_L_e\", \"EX_thr_D_e\"],\n",
    "    \"tryptophan\": [\"EX_trp_L_e\", \"EX_trp_D_e\"],\n",
    "    \"tyrosine\": [\"EX_tyr_L_e\", \"EX_tyr_D_e\"],\n",
    "    \"valine\": [\"EX_val_L_e\", \"EX_val_D_e\"]\n",
    "}\n",
    "\n",
    "def test_auxotrophy(model, amino_acids):\n",
    "    # Iterate through each amino acid and its corresponding exchange reactions\n",
    "    for amino_acid, reactions in amino_acids.items():\n",
    "        # Set the bounds for each exchange reaction\n",
    "        for exchange in model.exchanges:\n",
    "            if exchange.id in reactions:\n",
    "                exchange.bounds = (0, 10)  # Allow secretion but not uptake\n",
    "            else:\n",
    "                exchange.bounds = (-10, 10)  # Allow uptake and secretion\n",
    "\n",
    "        # Optimize the model for the current setup\n",
    "        solution = model.optimize()\n",
    "        if solution.status == \"optimal\":\n",
    "            print(f\"{amino_acid} biomass production: {solution.objective_value}\")\n",
    "        else:\n",
    "            print(f\"{amino_acid} optimization failed: {solution.status}\")"
   ]
  },
  {
   "cell_type": "code",
   "execution_count": 3,
   "metadata": {},
   "outputs": [
    {
     "name": "stdout",
     "output_type": "stream",
     "text": [
      "alanine biomass production: 22.283601163649653\n",
      "arginine biomass production: 22.283601163649653\n",
      "asparagine biomass production: 22.283601163649653\n",
      "aspartic acid biomass production: 22.283601163649653\n",
      "cysteine biomass production: 22.283601163649653\n",
      "glutamine biomass production: 22.283601163649653\n",
      "glutamic acid biomass production: 22.283601163649653\n",
      "glycine biomass production: 22.283601163649653\n",
      "histidine biomass production: 22.283601163649653\n",
      "isoleucine biomass production: 22.283601163649653\n",
      "leucine biomass production: 22.283601163649653\n",
      "lysine biomass production: 22.283601163649653\n",
      "methionine biomass production: 22.283601163649653\n",
      "phenylalanine biomass production: 22.283601163649653\n",
      "proline biomass production: 22.283601163649653\n",
      "serine biomass production: 22.283601163649653\n",
      "threonine biomass production: 11.141800581824825\n",
      "tryptophan biomass production: 22.283601163649646\n",
      "tyrosine biomass production: 22.283601163649646\n",
      "valine biomass production: 22.283601163649646\n"
     ]
    }
   ],
   "source": [
    "test_auxotrophy(iCHO, amino_acids)"
   ]
  },
  {
   "cell_type": "code",
   "execution_count": 16,
   "metadata": {},
   "outputs": [
    {
     "data": {
      "text/html": [
       "<h3>leu_L_c</h3><p>C6H13NO2</p><h4>Producing Reactions</h4><table border=\"1\" class=\"dataframe\">\n",
       "  <thead>\n",
       "    <tr style=\"text-align: right;\">\n",
       "      <th>Percent</th>\n",
       "      <th>Flux</th>\n",
       "      <th>Reaction</th>\n",
       "      <th>Definition</th>\n",
       "    </tr>\n",
       "  </thead>\n",
       "  <tbody>\n",
       "    <tr>\n",
       "      <td>31.40%</td>\n",
       "      <td>10</td>\n",
       "      <td>GLYLEUHYDROc</td>\n",
       "      <td>glyleu_c + h2o_c --&gt; gly_c + leu_L_c</td>\n",
       "    </tr>\n",
       "    <tr>\n",
       "      <td>19.58%</td>\n",
       "      <td>6.236</td>\n",
       "      <td>LEUGLYHYc</td>\n",
       "      <td>h2o_c + leugly_c &lt;=&gt; gly_c + leu_L_c</td>\n",
       "    </tr>\n",
       "    <tr>\n",
       "      <td>17.61%</td>\n",
       "      <td>5.608</td>\n",
       "      <td>LEUtec</td>\n",
       "      <td>leu_L_e &lt;=&gt; leu_L_c</td>\n",
       "    </tr>\n",
       "    <tr>\n",
       "      <td>31.40%</td>\n",
       "      <td>10</td>\n",
       "      <td>PHELEUr</td>\n",
       "      <td>h2o_c + pheleu_c &lt;=&gt; leu_L_c + phe_L_c</td>\n",
       "    </tr>\n",
       "  </tbody>\n",
       "</table><h4>Consuming Reactions</h4><table border=\"1\" class=\"dataframe\">\n",
       "  <thead>\n",
       "    <tr style=\"text-align: right;\">\n",
       "      <th>Percent</th>\n",
       "      <th>Flux</th>\n",
       "      <th>Reaction</th>\n",
       "      <th>Definition</th>\n",
       "    </tr>\n",
       "  </thead>\n",
       "  <tbody>\n",
       "    <tr>\n",
       "      <td>29.90%</td>\n",
       "      <td>-9.522</td>\n",
       "      <td>LEUTRS</td>\n",
       "      <td>atp_c + leu_L_c + trnaleu_c --&gt; amp_c + leutrna_c + ppi_c</td>\n",
       "    </tr>\n",
       "    <tr>\n",
       "      <td>70.10%</td>\n",
       "      <td>-22.32</td>\n",
       "      <td>r1402</td>\n",
       "      <td>22.0 ala_L_c + 12.0 arg_L_c + 12.0 asn_L_c + 26.0 asp_L_c + 1400.0 atp_c + 6.0 cys_L_c + 14.0 gln_L_c + 15.0 glu_L_c + 18.0 gly_c + 1400.0 h2o_c + 9.0 his_L_c + 12.0 ile_L_c + 39.0 leu_L_c + 18.0 lys_L_c + 8.0 met_L_c + 20.0 phe_L_c + 15.0 pro_L_c + 31.0 ser_L_c + 25.0 thr_L_c + 7.0 trp_L_c + 13.0 tyr_L_c + 28.0 val_L_c --&gt; 1050.0 adp_c + 350.0 amp_c + ggn_c + 1050.0 pi_c + 350.0 ppi_c</td>\n",
       "    </tr>\n",
       "  </tbody>\n",
       "</table>"
      ],
      "text/plain": [
       "<cobra.summary.metabolite_summary.MetaboliteSummary at 0x15e83e8f0>"
      ]
     },
     "execution_count": 16,
     "metadata": {},
     "output_type": "execute_result"
    }
   ],
   "source": [
    "iCHO.metabolites.leu_L_c.summary()"
   ]
  },
  {
   "cell_type": "markdown",
   "metadata": {},
   "source": [
    "#### Matrix Sparsity"
   ]
  },
  {
   "cell_type": "code",
   "execution_count": null,
   "metadata": {},
   "outputs": [],
   "source": []
  },
  {
   "cell_type": "markdown",
   "metadata": {},
   "source": [
    "#### Gene Deletion test"
   ]
  },
  {
   "cell_type": "code",
   "execution_count": null,
   "metadata": {},
   "outputs": [],
   "source": []
  },
  {
   "cell_type": "markdown",
   "metadata": {},
   "source": [
    "##### Essential for growth genes and comparison to (An optimised genome-wide, virus free CRISPR screen for mammalian cells)"
   ]
  },
  {
   "cell_type": "code",
   "execution_count": null,
   "metadata": {},
   "outputs": [],
   "source": []
  },
  {
   "cell_type": "markdown",
   "metadata": {},
   "source": [
    "##### Commparsion to other models"
   ]
  },
  {
   "cell_type": "code",
   "execution_count": null,
   "metadata": {},
   "outputs": [],
   "source": []
  },
  {
   "cell_type": "markdown",
   "metadata": {},
   "source": [
    "#### Biomass prediction using exp. data (TODO)"
   ]
  },
  {
   "cell_type": "code",
   "execution_count": null,
   "metadata": {},
   "outputs": [],
   "source": []
  }
 ],
 "metadata": {
  "kernelspec": {
   "display_name": "Python 3 (ipykernel)",
   "language": "python",
   "name": "python3"
  },
  "language_info": {
   "codemirror_mode": {
    "name": "ipython",
    "version": 3
   },
   "file_extension": ".py",
   "mimetype": "text/x-python",
   "name": "python",
   "nbconvert_exporter": "python",
   "pygments_lexer": "ipython3",
   "version": "3.9.16"
  }
 },
 "nbformat": 4,
 "nbformat_minor": 2
}
