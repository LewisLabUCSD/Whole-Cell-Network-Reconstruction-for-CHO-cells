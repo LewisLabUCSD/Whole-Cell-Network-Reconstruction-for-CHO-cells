{
 "cells": [
  {
   "cell_type": "markdown",
   "metadata": {},
   "source": [
    "# Computational Tests\n",
    "\n",
    "This notebook is intended for running different kinds of analyses that would validate our reconstruction.\n",
    "\n",
    "[1. Subsystem Overview and Analysis](#subsystems) <br>\n",
    "[2. Context-specific Model Generation](#context_specific) <br>\n",
    "[3. Biomass prediction using exp. data](#biomass) <br>\n",
    "[4. Flux Enrichment Analysis](#fea) <br>"
   ]
  },
  {
   "cell_type": "markdown",
   "metadata": {},
   "source": [
    "## 1. Subsystem Overview and Analysis <a id='subsystems'></a>"
   ]
  },
  {
   "cell_type": "code",
   "execution_count": null,
   "metadata": {},
   "outputs": [],
   "source": [
    "import pandas as pd\n",
    "import matplotlib.pyplot as plt\n",
    "import plotly.express as px\n",
    "import plotly.graph_objects as go\n",
    "from google_sheet import GoogleSheet"
   ]
  },
  {
   "cell_type": "code",
   "execution_count": null,
   "metadata": {},
   "outputs": [],
   "source": [
    "##### ----- Generate Subsystems datasets from Google Sheet ----- #####\n",
    "\n",
    "#Credential file\n",
    "KEY_FILE_PATH = 'credentials.json'\n",
    "\n",
    "#CHO Network Reconstruction + Recon3D_v3 Google Sheet ID\n",
    "SPREADSHEET_ID = '1MlBXeHIKw8k8fZyXm-sN__AHTRSunJxar_-bqvukZws'\n",
    "\n",
    "# Initialize the GoogleSheet object\n",
    "sheet = GoogleSheet(SPREADSHEET_ID, KEY_FILE_PATH)\n",
    "\n",
    "# Read data from the Google Sheet\n",
    "sheet_subsystems = 'Summary Systems'\n",
    "sheet_reactions = 'Rxns'\n",
    "subsystems = sheet.read_google_sheet(sheet_subsystems)\n",
    "reactions_rec = sheet.read_google_sheet(sheet_reactions)\n",
    "\n",
    "# Remove the total count\n",
    "subsystems = subsystems.iloc[:-1, :]"
   ]
  },
  {
   "cell_type": "code",
   "execution_count": null,
   "metadata": {},
   "outputs": [],
   "source": [
    "#### --- Pie Chart of the Amount of Reactions per System --- ####\n",
    "\n",
    "subsystems[\"Number of Reactions\"] = pd.to_numeric(subsystems[\"Number of Reactions\"])\n",
    "\n",
    "# Aggregate data by \"System\" and sum \"Number of Reactions\"\n",
    "system_reactions = subsystems.groupby(\"System\")[\"Number of Reactions\"].sum()\n",
    "\n",
    "# Set the figure and axes for more control\n",
    "fig, ax = plt.subplots(figsize=(10, 7))\n",
    "\n",
    "# Generate the pie chart again with the custom labels\n",
    "patches, texts, autotexts = ax.pie(system_reactions, labels=system_reactions.index, autopct=lambda p: '{:.1f}%'.format(p) if p > 0 else '', startangle=140, colors=plt.cm.tab20.colors)\n",
    "\n",
    "# Improve aesthetics\n",
    "for text in texts + autotexts:\n",
    "    text.set_color('black')\n",
    "ax.set_title(\"Pie Chart of Number of Reactions by System\", pad=30)  # Move the title upwards by increasing pad\n",
    "\n",
    "# Set equal aspect ratio\n",
    "ax.axis('equal')\n",
    "\n",
    "# Save the plot\n",
    "plt.savefig('../Plots/pie_chart_reactions_per_system.png')\n",
    "\n",
    "# Display the plot\n",
    "plt.show()"
   ]
  },
  {
   "cell_type": "code",
   "execution_count": null,
   "metadata": {},
   "outputs": [],
   "source": [
    "# Generate the Sunburst Plot\n",
    "\n",
    "fig = px.sunburst(subsystems, path=['System', 'Subsystems', 'Kegg Pathway'],\n",
    "                  color='System')\n",
    "\n",
    "# Convert to a Graph Objects figure\n",
    "fig_go = go.Figure(fig)\n",
    "\n",
    "# Update layout\n",
    "fig_go.update_layout(width=1200, height=1000)\n",
    "\n",
    "# Define font sizes\n",
    "font_size_last_layer = 10\n",
    "font_size_previous_layer = 15\n",
    "default_font_size = 12\n",
    "\n",
    "# Create a list to store font sizes\n",
    "font_sizes = []\n",
    "\n",
    "# Update font size for each level\n",
    "for trace in fig_go.data:\n",
    "    if isinstance(trace, go.Sunburst):\n",
    "        for id in trace.ids:\n",
    "            level = id.count(\"/\")  # Determine level by the number of slashes in the id\n",
    "            if level == 2:  # Last layer (Kegg Pathway)\n",
    "                font_sizes.append(font_size_last_layer)\n",
    "            elif level == 1:  # Previous layer (Subsystems)\n",
    "                font_sizes.append(font_size_previous_layer)\n",
    "            else:\n",
    "                font_sizes.append(default_font_size)  # Default size for other layers\n",
    "\n",
    "# Apply the font sizes to the figure\n",
    "fig_go.update_traces(insidetextfont=dict(size=font_sizes))\n",
    "\n",
    "# Save the figure\n",
    "fig_go.write_html(\"../Plots/sunburst_subsystems.html\")  # Save as interactive HTML file\n",
    "fig_go.write_image(\"../Plots/sunburst_subsystems.png\", width=1200, height=1000, scale=2)  # Increase resolution by setting scale parameter\n",
    "\n",
    "# Show the plot\n",
    "fig_go.show()"
   ]
  },
  {
   "cell_type": "markdown",
   "metadata": {},
   "source": [
    "#### Auxotrophies"
   ]
  },
  {
   "cell_type": "code",
   "execution_count": null,
   "metadata": {},
   "outputs": [],
   "source": [
    "from cobra.io import load_json_model\n",
    "\n",
    "iCHO_path = \"iCHO3595.json\"\n",
    "iCHO = load_json_model(iCHO_path)"
   ]
  },
  {
   "cell_type": "code",
   "execution_count": null,
   "metadata": {},
   "outputs": [],
   "source": [
    "amino_acids = {\n",
    "    \"arginine\": [\"EX_arg_L_e\", \"EX_arg_D_e\"],\n",
    "    \"asparagine\": [\"EX_asn_L_e\", \"EX_asn_D_e\"],\n",
    "    \"cysteine\": [\"EX_cys_L_e\", \"EX_cys_D_e\", \"EX_Lcystin_e\"],\n",
    "    \"histidine\": [\"EX_his_L_e\", \"EX_his_D_e\"],\n",
    "    \"isoleucine\": [\"EX_ile_L_e\", \"EX_ile_D_e\"],\n",
    "    \"leucine\": [\"EX_leu_L_e\", \"EX_leu_D_e\"],\n",
    "    \"lysine\": [\"EX_lys_L_e\", \"EX_lys_D_e\"],\n",
    "    \"methionine\": [\"EX_met_L_e\", \"EX_met_D_e\"],\n",
    "    \"phenylalanine\": [\"EX_phe_L_e\", \"EX_phe_D_e\"],\n",
    "    \"proline\": [\"EX_pro_L_e\", \"EX_pro_D_e\"],\n",
    "    \"threonine\": [\"EX_thr_L_e\", \"EX_thr_D_e\"],\n",
    "    \"tryptophan\": [\"EX_trp_L_e\", \"EX_trp_D_e\"],\n",
    "    \"valine\": [\"EX_val_L_e\", \"EX_val_D_e\"]\n",
    "}\n",
    "for amino_acid in amino_acids:\n",
    "    # ----- Setup initial bounds -----\n",
    "    for exchange_reaction in iCHO.exchanges:\n",
    "        exchange_reaction.bounds = -10, 10\n",
    "\n",
    "    # Arginine\n",
    "    iCHO.reactions.get_by_id('GAUGE-R00557').bounds = 0, 10\n",
    "    iCHO.reactions.get_by_id('GAUGE-R10107').bounds = 0, 0\n",
    "    iCHO.reactions.get_by_id('GAUGE-R00558').bounds = 0, 0\n",
    "    iCHO.reactions.get_by_id('GLYAMDTRc').bounds = 0, 0\n",
    "    iCHO.reactions.get_by_id('GAUGE-R10107').bounds = 0, 0\n",
    "    iCHO.reactions.get_by_id('EX_valarggly_e').bounds = 0, 10\n",
    "    iCHO.reactions.get_by_id('ARGSL').bounds = 0, 0\n",
    "\n",
    "    # Asparigine\n",
    "    iCHO.reactions.get_by_id('ASNS1').bounds = 0, 0\n",
    "\n",
    "    # Cysteine\n",
    "    iCHO.reactions.get_by_id('r0129').bounds = 0, 0\n",
    "    iCHO.reactions.get_by_id('EX_cgly_e').bounds = 0, 0\n",
    "    iCHO.reactions.get_by_id('AMPTASECG').bounds = -10, 0\n",
    "    iCHO.reactions.get_by_id('AMPTASECGe').bounds = -10, 0\n",
    "    iCHO.reactions.get_by_id('CYSTGL').bounds = -10, 0\n",
    "    iCHO.reactions.get_by_id('EX_HC00250_e').bounds = 0, 0\n",
    "    iCHO.reactions.get_by_id('EX_sfcys_e').bounds = 0, 0\n",
    "\n",
    "    # Histidine\n",
    "    iCHO.reactions.get_by_id('VALTRPVALr').bounds = 0,0 \n",
    "\n",
    "    # Isoleucine - DONE\n",
    "    iCHO.reactions.get_by_id('EX_CE2916_e').bounds = 0,0 \n",
    "    iCHO.reactions.get_by_id('EX_CE2915_e').bounds = 0,0 \n",
    "    iCHO.reactions.get_by_id('ILETA').bounds = 0, 10\n",
    "    iCHO.reactions.get_by_id('ILETAm').bounds = 0, 10\n",
    "\n",
    "    # Leucine\n",
    "    iCHO.reactions.get_by_id('LEULEULAPc').bounds = 0,0 \n",
    "    iCHO.reactions.get_by_id('EX_leugly_e').bounds = 0,0 \n",
    "    iCHO.reactions.get_by_id('EX_glyleu_e').bounds = 0,0 \n",
    "    iCHO.reactions.get_by_id('LEUTA').bounds = 0, 10 \n",
    "    iCHO.reactions.get_by_id('LEUTAm').bounds = 0, 10 \n",
    "    iCHO.reactions.get_by_id('EX_CE5797_e').bounds = 0, 0\n",
    "\n",
    "    # Lysine\n",
    "    iCHO.reactions.get_by_id('EX_biocyt_e').bounds = 0,0 \n",
    "\n",
    "    # Methionine\n",
    "    iCHO.reactions.get_by_id('METS').bounds = -10, 0 \n",
    "    iCHO.reactions.get_by_id('BHMT').bounds = -10, 0 \n",
    "    iCHO.reactions.get_by_id('GAUGE-R00648').bounds = 0, 10 \n",
    "    iCHO.reactions.get_by_id('UNK2').bounds = -10, 0 \n",
    "    iCHO.reactions.get_by_id('UNK3').bounds = -10, 0 \n",
    "    iCHO.reactions.get_by_id('TYRA').bounds = -10, 0 \n",
    "    #iCHO.reactions.get_by_id('GAUGE-R06895').bounds = 0, 0 # Curated by MR with 1 score / Erased from the reconstruction\n",
    "\n",
    "    # Phenylalanine\n",
    "    iCHO.reactions.get_by_id('EX_CE5786_e').bounds = 0, 0 \n",
    "    iCHO.reactions.get_by_id('EX_pheleu_e').bounds = 0, 0 \n",
    "    iCHO.reactions.get_by_id('EX_glyphe_e').bounds = 0, 0 \n",
    "    iCHO.reactions.get_by_id('EX_CE2917_e').bounds = 0, 0 \n",
    "    iCHO.reactions.get_by_id('EX_CE5786_e').bounds = 0, 0 \n",
    "    iCHO.reactions.get_by_id('EX_CE5789_e').bounds = 0, 0 \n",
    "    iCHO.reactions.get_by_id('EX_phpyr_e').bounds = 0, 0 \n",
    "\n",
    "    # Proline\n",
    "    iCHO.reactions.get_by_id('EX_glypro_e').bounds = 0, 10\n",
    "    iCHO.reactions.get_by_id('EX_progly_e').bounds = 0, 10\n",
    "    iCHO.reactions.get_by_id('P5CR').bounds = 0, 0\n",
    "    iCHO.reactions.get_by_id('P5CRxm').bounds = 0, 0\n",
    "    iCHO.reactions.get_by_id('P5CRx').bounds = 0, 0\n",
    "    iCHO.reactions.get_by_id('P5CRm').bounds = 0, 0\n",
    "    iCHO.reactions.get_by_id('r1453').bounds = 0, 10\n",
    "\n",
    "    # Threonine\n",
    "    #iCHO.reactions.get_by_id('THRS').bounds = 0,0  # Erased from the reconstruction\n",
    "\n",
    "\n",
    "    # Tryptophan\n",
    "    iCHO.reactions.get_by_id('NBAHH_ir').bounds = 0,0  # Histidine hydrolase\n",
    "\n",
    "    # Valine\n",
    "    iCHO.reactions.get_by_id('EX_valarggly_e').bounds = 0, 10\n",
    "    iCHO.reactions.get_by_id('EX_vallystyr_e').bounds = 0, 10\n",
    "    iCHO.reactions.get_by_id('VALTA').bounds = 0, 10\n",
    "    iCHO.reactions.get_by_id('VALTAm').bounds = 0, 10\n",
    "    iCHO.reactions.get_by_id('EX_valval_e').bounds = 0, 10\n",
    "    # -----------------------------------------\n",
    "\n",
    "    for exchange_reaction in iCHO.exchanges:\n",
    "        if exchange_reaction.id in amino_acids[amino_acid]:\n",
    "            exchange_reaction.bounds = 0, 10\n",
    "            # print(amino_acid, exchange_reaction.id, amino_acids[amino_acid])\n",
    "    sol = iCHO.optimize()\n",
    "    print(amino_acid, sol.objective_value)\n"
   ]
  },
  {
   "cell_type": "code",
   "execution_count": null,
   "metadata": {},
   "outputs": [],
   "source": [
    "iCHO.metabolites.leu_L_c.summary()"
   ]
  },
  {
   "cell_type": "markdown",
   "metadata": {},
   "source": [
    "#### Gene Deletion test"
   ]
  },
  {
   "cell_type": "code",
   "execution_count": null,
   "metadata": {},
   "outputs": [],
   "source": [
    "import pandas as pd\n",
    "from cobra.io import load_json_model, read_sbml_model\n",
    "from cobra.flux_analysis import single_gene_deletion\n",
    "\n",
    "#iCHO = load_json_model('iCHO3595_unblocked.json')\n",
    "#iCHO1766 = read_sbml_model('../Data/Reconciliation/models/iCHOv1_final.xml')\n",
    "iCHO2291 = read_sbml_model('../Data/Reconciliation/models/iCHO2291.xml')\n",
    "#iCHO2441 = read_sbml_model('../Data/Reconciliation/models/iCHO2441.xml')"
   ]
  },
  {
   "cell_type": "code",
   "execution_count": null,
   "metadata": {},
   "outputs": [],
   "source": [
    "gene_deletion_results = single_gene_deletion(iCHO2291)\n",
    "essentiality_threshold = 0.01\n",
    "essential_genes = gene_deletion_results[gene_deletion_results['growth'] < essentiality_threshold]"
   ]
  },
  {
   "cell_type": "code",
   "execution_count": null,
   "metadata": {},
   "outputs": [],
   "source": [
    "# Print the essential genes\n",
    "print(f\"Number of essential genes for biomass: {len(essential_genes)}\")\n",
    "print(\"Essential genes for biomass production:\")\n",
    "for gene_idx in essential_genes.index:\n",
    "    gene = iCHO2291.genes[gene_idx]\n",
    "    print(f\"{gene.id}: {gene.name}\")"
   ]
  },
  {
   "cell_type": "code",
   "execution_count": null,
   "metadata": {},
   "outputs": [],
   "source": []
  },
  {
   "cell_type": "code",
   "execution_count": null,
   "metadata": {},
   "outputs": [],
   "source": []
  },
  {
   "cell_type": "code",
   "execution_count": null,
   "metadata": {},
   "outputs": [],
   "source": []
  },
  {
   "cell_type": "code",
   "execution_count": null,
   "metadata": {},
   "outputs": [],
   "source": []
  },
  {
   "cell_type": "code",
   "execution_count": null,
   "metadata": {},
   "outputs": [],
   "source": [
    "from cobra.flux_analysis.variability import find_essential_genes"
   ]
  },
  {
   "cell_type": "code",
   "execution_count": null,
   "metadata": {},
   "outputs": [],
   "source": [
    "sim_essential_genes = find_essential_genes(model)"
   ]
  },
  {
   "cell_type": "code",
   "execution_count": null,
   "metadata": {},
   "outputs": [],
   "source": [
    "# Load the dataset for the experimentally validated essential genes\n",
    "\n",
    "exp_essential_genes = pd.read_csv('../Data/Gene_Essentiality/cho_essential_genes.csv', sep='\\t')\n",
    "exp_essential_genes['gene'] = exp_essential_genes['gene'].str.replace('__1$', '', regex=True)"
   ]
  },
  {
   "cell_type": "code",
   "execution_count": null,
   "metadata": {},
   "outputs": [],
   "source": [
    "exp_essential_genes"
   ]
  },
  {
   "cell_type": "code",
   "execution_count": null,
   "metadata": {},
   "outputs": [],
   "source": [
    "# Extract all gene names\n",
    "all_gene_names = set()\n",
    "for names in exp_essential_genes['gene']:\n",
    "    for name in names.split('|'): #Extract the names of the genes with two aliases\n",
    "        all_gene_names.add(name)"
   ]
  },
  {
   "cell_type": "code",
   "execution_count": null,
   "metadata": {
    "scrolled": true
   },
   "outputs": [],
   "source": [
    "essential_genes_model = []\n",
    "for g in model.genes:\n",
    "    if g.name in all_gene_names:\n",
    "        essential_genes_model.append(g)"
   ]
  },
  {
   "cell_type": "code",
   "execution_count": null,
   "metadata": {},
   "outputs": [],
   "source": [
    "set1 = set(sim_essential_genes)\n",
    "set2 = set(essential_genes_model)\n",
    "\n",
    "# Find shared elements\n",
    "shared_elements = set1.intersection(set2)\n",
    "\n",
    "# Find unique elements\n",
    "unique_in_list1 = set1.difference(set2)\n",
    "unique_in_list2 = set2.difference(set1)"
   ]
  },
  {
   "cell_type": "code",
   "execution_count": null,
   "metadata": {},
   "outputs": [],
   "source": [
    "print(\"Shared genes between Exp Validated Essential Genes and Simulated Essential Genes:\", len(shared_elements))\n",
    "print(\"Unique genes in Simulated Essential Genes:\", len(unique_in_list1))\n",
    "print(\"Unique genes in Exp Validated Essentail Genes:\", len(unique_in_list2))"
   ]
  },
  {
   "cell_type": "code",
   "execution_count": null,
   "metadata": {},
   "outputs": [],
   "source": []
  },
  {
   "cell_type": "markdown",
   "metadata": {},
   "source": [
    "##### Essential for growth genes and comparison to (An optimised genome-wide, virus free CRISPR screen for mammalian cells)\n",
    "https://pubmed.ncbi.nlm.nih.gov/34935002/"
   ]
  },
  {
   "cell_type": "code",
   "execution_count": null,
   "metadata": {},
   "outputs": [],
   "source": []
  },
  {
   "cell_type": "markdown",
   "metadata": {},
   "source": [
    "## 2. Context-specific Model Generation <a id='context_specific'></a>\n",
    "\n",
    "Here we use a matrix generated with rmf_CADRE to generate each context_specific model for each one of the conditions."
   ]
  },
  {
   "cell_type": "code",
   "execution_count": null,
   "metadata": {},
   "outputs": [],
   "source": [
    "import pickle\n",
    "import pandas as pd\n",
    "from scipy.io import loadmat\n",
    "from time import process_time\n",
    "\n",
    "import pymCADRE\n",
    "from pymCADRE.rank import rank_reactions\n",
    "from pymCADRE.check import check_model_function\n",
    "from pymCADRE.prune import prune_model\n",
    "\n",
    "import cobra\n",
    "from cobra.io import load_json_model"
   ]
  },
  {
   "cell_type": "markdown",
   "metadata": {},
   "source": [
    "### Define Intervals for Context-specific model generation\n",
    "Here we define the set of constraints in the uptake and secretion rates that we want to incorporate to our context specific models"
   ]
  },
  {
   "cell_type": "markdown",
   "metadata": {},
   "source": [
    "#### Model Loading and Constraining"
   ]
  },
  {
   "cell_type": "code",
   "execution_count": null,
   "metadata": {},
   "outputs": [],
   "source": [
    "# Load generic model\n",
    "model = load_json_model('iCHO3595_unblocked.json')"
   ]
  },
  {
   "cell_type": "code",
   "execution_count": null,
   "metadata": {},
   "outputs": [],
   "source": [
    "# Load uptake and secretion rate \"Intervals dict\n",
    "\n",
    "with open('../Data/Uptake_Secretion_Rates/uptake_secretion_intrvl_wt_dict.pkl', 'rb') as file:\n",
    "    uptsec_intrvl_wt = pickle.load(file)\n",
    "\n",
    "with open('../Data/Uptake_Secretion_Rates/uptake_secretion_intrvl_zela_dict.pkl', 'rb') as file:\n",
    "    uptsec_intrvl_zela = pickle.load(file)"
   ]
  },
  {
   "cell_type": "code",
   "execution_count": null,
   "metadata": {},
   "outputs": [],
   "source": [
    "temp_dict = uptsec_intrvl_zela\n",
    "time = 'P2 to P4'\n",
    "\n",
    "with model as model:\n",
    "    model.reactions.biomass_cho_s.bounds = temp_dict['exp_growth_rate'][time]\n",
    "    for rxn in model.boundary:\n",
    "        \n",
    "        # Models that are forced to secrete ethanol are not feasible\n",
    "        if rxn.id == 'EX_etoh_e':\n",
    "            rxn.bounds = (-0.1,0.1)\n",
    "            continue\n",
    "\n",
    "        # Replace the lower and upper bound with experimental data\n",
    "        if rxn.id in temp_dict.keys():\n",
    "            rxn.bounds = temp_dict[rxn.id][time]\n",
    "            continue\n",
    "        \n",
    "        # Keep boundaries open for essential metabolites\n",
    "        if rxn.id == 'EX_h2o_e':\n",
    "            rxn.bounds = (-1000,1000)\n",
    "            continue\n",
    "        if rxn.id == 'EX_h_e':\n",
    "            rxn.bounds = (-1000,1000)\n",
    "            continue\n",
    "        if rxn.id == 'EX_o2_e':\n",
    "            rxn.bounds = (-1000,1000)\n",
    "            continue\n",
    "        if rxn.id == 'EX_hco3_e':\n",
    "            rxn.bounds = (-1000,1000)\n",
    "            continue\n",
    "        if rxn.id == 'EX_so4_e':\n",
    "            rxn.bounds = (-1000,1000)\n",
    "            continue\n",
    "        if rxn.id == 'EX_pi_e':\n",
    "            rxn.bounds = (-1000,1000)\n",
    "            continue\n",
    "\n",
    "        # Boundaries from Sink reactions on iCHO_v1 (100 times lower)\n",
    "        if rxn.id == 'SK_Asn_X_Ser_Thr_r':\n",
    "            rxn.bounds = (-0.001,1000)\n",
    "            continue\n",
    "        if rxn.id == 'SK_Tyr_ggn_c':\n",
    "            rxn.bounds = (-0.001,1000)\n",
    "            continue\n",
    "        if rxn.id == 'SK_Ser_Thr_g':\n",
    "            rxn.bounds = (-0.001,1000)\n",
    "            continue\n",
    "        if rxn.id == 'SK_pre_prot_r':\n",
    "            rxn.bounds = (-0.0006,1000)\n",
    "            continue\n",
    "\n",
    "        # Close uptake rates for the rest of the boundaries\n",
    "        if rxn.id.startswith(\"EX_\"):\n",
    "            rxn.bounds = (0,1000) \n",
    "        if rxn.id.startswith(\"SK_\"):\n",
    "            rxn.bounds = (0,1000)\n",
    "        if rxn.id.startswith(\"DM_\"):\n",
    "            rxn.bounds = (0,1000)\n",
    "        \n",
    "    pfba_solution = cobra.flux_analysis.pfba(model)\n",
    "    pfba_obj = pfba_solution.fluxes[objective]\n",
    "    print(pfba_obj)"
   ]
  },
  {
   "cell_type": "markdown",
   "metadata": {},
   "source": [
    "### Loading Ubiquity and Confidence Scores"
   ]
  },
  {
   "cell_type": "code",
   "execution_count": null,
   "metadata": {},
   "outputs": [],
   "source": [
    "# Load the .mat file\n",
    "mat_data = loadmat('../Data/Context_specific_models/ubiData.mat')\n",
    "\n",
    "# Access the ubiData structure\n",
    "ubiData = mat_data['ubiData']\n",
    "\n",
    "# Accessing individual fields within ubiData\n",
    "ubiScores = ubiData['ubiScores'][0, 0]\n",
    "uScore = ubiData['uScore'][0, 0]\n",
    "rxns = ubiData['rxns'][0, 0]\n",
    "Condition = ubiData['Condition'][0, 0]\n",
    "\n",
    "# Print or process the data as needed\n",
    "print(ubiScores.shape)\n",
    "print(uScore.shape)\n",
    "print(rxns.shape)\n",
    "print(Condition.shape)"
   ]
  },
  {
   "cell_type": "code",
   "execution_count": null,
   "metadata": {},
   "outputs": [],
   "source": [
    "for i,cond in enumerate(Condition[0]):\n",
    "    if \"WT_P4\" in cond[0]:\n",
    "        print(cond[0], i)\n",
    "    elif \"ZeLa_P4\" in cond[0]:\n",
    "        print(cond[0], i)"
   ]
  },
  {
   "cell_type": "code",
   "execution_count": null,
   "metadata": {},
   "outputs": [],
   "source": [
    "Condition[0][0]"
   ]
  },
  {
   "cell_type": "code",
   "execution_count": null,
   "metadata": {},
   "outputs": [],
   "source": [
    "# Ubiquity score list\n",
    "U = list(ubiScores[:,0])"
   ]
  },
  {
   "cell_type": "code",
   "execution_count": null,
   "metadata": {},
   "outputs": [],
   "source": [
    "# Conf Score List\n",
    "conf_scores = pd.read_csv('../Data/Context_specific_models/confidence_scores.csv', header=None).iloc[:, 0].tolist()"
   ]
  },
  {
   "cell_type": "code",
   "execution_count": null,
   "metadata": {},
   "outputs": [],
   "source": [
    "# Protected Reations\n",
    "high_confidence_reactions = ['biomass_cho_s', 'DNAsyn', 'LipidSyn_cho_s', 'PROTsyn_cho_s', 'RNAsyn_cho_s', 'EX_bhb_e', 'EX_nh4_e', 'EX_ac_e', 'EX_ala_L_e',\n",
    "    'EX_arg_L_e', 'EX_asn_L_e', 'EX_asp_L_e', 'EX_2hb_e', 'EX_cit_e', 'EX_cys_L_e', 'EX_etoh_e', 'EX_for_e', 'EX_fum_e', 'EX_glc_e', 'EX_glu_L_e',\n",
    "    'EX_gln_L_e', 'EX_gly_e', 'EX_his_L_e', 'EX_4hpro_e', 'EX_ile_L_e', 'EX_lac_L_e', 'EX_leu_L_e', 'EX_lys_L_e', 'EX_mal_L_e', 'EX_met_L_e',\n",
    "    'EX_phe_L_e', 'EX_pro_L_e', 'EX_5oxpro_e', 'EX_pyr_e', 'EX_ser_L_e', 'EX_thr_L_e', 'EX_trp_L_e', 'EX_tyr_L_e', 'EX_val_L_e', 'EX_h2o_e',\n",
    "    'EX_h_e', 'EX_o2_e', 'EX_hco3_e', 'EX_so4_e', 'EX_pi_e', 'SK_Asn_X_Ser_Thr_r', 'SK_Tyr_ggn_c', 'SK_Ser_Thr_g', 'SK_pre_prot_r'\n",
    "]"
   ]
  },
  {
   "cell_type": "markdown",
   "metadata": {},
   "source": [
    "### Reduced model generation"
   ]
  },
  {
   "cell_type": "code",
   "execution_count": null,
   "metadata": {},
   "outputs": [],
   "source": [
    "##############################################\n",
    "# Rank reactions\n",
    "##############################################\n",
    "\n",
    "print('Processing inputs and ranking reactions...')\n",
    "GM, C, NC, P, Z, model_C = rank_reactions(model, U, conf_scores, high_confidence_reactions, method=1)"
   ]
  },
  {
   "cell_type": "code",
   "execution_count": null,
   "metadata": {},
   "outputs": [],
   "source": [
    "# Output the results\n",
    "print(\"Generic Model:\", GM)\n",
    "print(\"Core Reactions:\", len(C))\n",
    "print(\"Non-Core Reactions:\", len(NC))\n",
    "print(\"Ranked Non-Core Reactions:\", len(P))\n",
    "print(\"Zero-Expression Reactions:\", len(Z))\n",
    "print(\"Core Reactions in Original Model:\", len(model_C))"
   ]
  },
  {
   "cell_type": "code",
   "execution_count": null,
   "metadata": {},
   "outputs": [],
   "source": [
    "from cobra.util import create_stoichiometric_matrix\n",
    "\n",
    "def retrieve_precursor_metabolites(model, protected_rxns):\n",
    "    \"\"\"\n",
    "    Retrieve precursor metabolites from a specified list of reactions in a metabolic model.\n",
    "\n",
    "    Args:\n",
    "        model: cobra.Model - The metabolic model.\n",
    "        protected_rxns: list - A list of reaction IDs for which precursor metabolites need to be retrieved.\n",
    "\n",
    "    Returns:\n",
    "        precursor_mets: list - A list of precursor metabolites.\n",
    "    \"\"\"\n",
    "\n",
    "    # Create a list of all the reactions in the model\n",
    "    model_reactions = [r.id for r in model.reactions]\n",
    "    \n",
    "    # Ensure that the protected reactions list is not empty\n",
    "    if protected_rxns:\n",
    "        \n",
    "        #Define a list to store the indices of the protected reactions\n",
    "        rxn_indices = []\n",
    "        \n",
    "        for rxn in protected_rxns:\n",
    "            # Ensure that the protected reaction is included in the model\n",
    "            if rxn in model_reactions:\n",
    "                # Get the indices of the protected reactions in the model, only if the reaction exists\n",
    "                rxn_indices.append(model.reactions.index(model.reactions.get_by_id(rxn)))\n",
    "\n",
    "        # Create stoichiometric matrix S\n",
    "        S = create_stoichiometric_matrix(model)\n",
    "        \n",
    "        # Retrieve precursor metabolites: metabolites with a negative coefficient in the stoichiometric matrix\n",
    "        precursor_mets = [\n",
    "            model.metabolites[i] \n",
    "            for i in range(len(model.metabolites)) \n",
    "            if any(S[i, idx] < 0 for idx in rxn_indices)\n",
    "        ]\n",
    "\n",
    "        return precursor_mets\n",
    "    else:\n",
    "        return []"
   ]
  },
  {
   "cell_type": "code",
   "execution_count": null,
   "metadata": {},
   "outputs": [],
   "source": [
    "precursor_mets = retrieve_precursor_metabolites(model, high_confidence_reactions)"
   ]
  },
  {
   "cell_type": "code",
   "execution_count": null,
   "metadata": {},
   "outputs": [],
   "source": [
    "##################################################\n",
    "# Define inputs to the model pruning step\n",
    "##################################################\n",
    "\n",
    "# Define core vs. non-core ratio threshold for removing reactions\n",
    "eta = 1 / 3\n",
    "\n",
    "# Check functionality of generic model\n",
    "genericStatus = check_model_function(GM, 'required_mets', precursor_mets)[0]\n",
    "print(genericStatus)"
   ]
  },
  {
   "cell_type": "code",
   "execution_count": null,
   "metadata": {},
   "outputs": [],
   "source": [
    "# Constraint the model with exp data\n",
    "\n",
    "time = 'P2 to P4'\n",
    "\n",
    "GM.solver = 'gurobi'\n",
    "objective = 'biomass_cho_s' # 'biomass_cho'\n",
    "GM.objective = objective\n",
    "\n",
    "GM.reactions.biomass_cho_s.bounds = temp_dict['exp_growth_rate'][time]\n",
    "for rxn in GM.boundary:\n",
    "    \n",
    "    # Models that are forced to secrete ethanol are not feasible\n",
    "    if rxn.id == 'EX_etoh_e':\n",
    "        rxn.bounds = (-0.1,0.1)\n",
    "        continue\n",
    "\n",
    "    # Replace the lower and upper bound with experimental data\n",
    "    if rxn.id in temp_dict.keys():\n",
    "        rxn.bounds = temp_dict[rxn.id][time]\n",
    "        continue\n",
    "    \n",
    "    # Keep boundaries open for essential metabolites\n",
    "    if rxn.id == 'EX_h2o_e':\n",
    "        rxn.bounds = (-1000,1000)\n",
    "        continue\n",
    "    if rxn.id == 'EX_h_e':\n",
    "        rxn.bounds = (-1000,1000)\n",
    "        continue\n",
    "    if rxn.id == 'EX_o2_e':\n",
    "        rxn.bounds = (-1000,1000)\n",
    "        continue\n",
    "    if rxn.id == 'EX_hco3_e':\n",
    "        rxn.bounds = (-1000,1000)\n",
    "        continue\n",
    "    if rxn.id == 'EX_so4_e':\n",
    "        rxn.bounds = (-1000,1000)\n",
    "        continue\n",
    "    if rxn.id == 'EX_pi_e':\n",
    "        rxn.bounds = (-1000,1000)\n",
    "        continue\n",
    "\n",
    "    # Boundaries from Sink reactions on iCHO_v1 (100 times lower)\n",
    "    if rxn.id == 'SK_Asn_X_Ser_Thr_r':\n",
    "        rxn.bounds = (-0.001,1000)\n",
    "        continue\n",
    "    if rxn.id == 'SK_Tyr_ggn_c':\n",
    "        rxn.bounds = (-0.001,1000)\n",
    "        continue\n",
    "    if rxn.id == 'SK_Ser_Thr_g':\n",
    "        rxn.bounds = (-0.001,1000)\n",
    "        continue\n",
    "    if rxn.id == 'SK_pre_prot_r':\n",
    "        rxn.bounds = (-0.0006,1000)\n",
    "        continue\n",
    "\n",
    "    # Close uptake rates for the rest of the boundaries\n",
    "    if rxn.id.startswith(\"EX_\"):\n",
    "        rxn.bounds = (0,1000) \n",
    "    if rxn.id.startswith(\"SK_\"):\n",
    "        rxn.bounds = (0,1000)\n",
    "    if rxn.id.startswith(\"DM_\"):\n",
    "        rxn.bounds = (0,1000)\n",
    "    \n",
    "pfba_solution = cobra.flux_analysis.pfba(GM)\n",
    "pfba_obj = pfba_solution.fluxes[objective]\n",
    "print(pfba_obj)"
   ]
  },
  {
   "cell_type": "code",
   "execution_count": null,
   "metadata": {
    "scrolled": true
   },
   "outputs": [],
   "source": [
    "if genericStatus:\n",
    "    print('Generic model passed precursor metabolites test')\n",
    "\n",
    "    ##############################################################\n",
    "    # If generic functionality test is passed, prune reactions\n",
    "    ###############################################################\n",
    "    print('Pruning reactions...')\n",
    "    t0 = process_time()\n",
    "    PM, cRes = prune_model(GM, P, C, Z, eta, precursor_mets, salvage_check=0, method=1)\n",
    "    # Stop the stopwatch / counter\n",
    "    t_stop = process_time()\n",
    "    # compute elapsed time\n",
    "    pruneTime = t_stop - t0\n",
    "\n",
    "else:\n",
    "    print('Generic model failed precursor metabolites test!!')"
   ]
  },
  {
   "cell_type": "code",
   "execution_count": null,
   "metadata": {},
   "outputs": [],
   "source": []
  },
  {
   "cell_type": "code",
   "execution_count": null,
   "metadata": {},
   "outputs": [],
   "source": []
  },
  {
   "cell_type": "code",
   "execution_count": null,
   "metadata": {},
   "outputs": [],
   "source": []
  },
  {
   "cell_type": "code",
   "execution_count": null,
   "metadata": {},
   "outputs": [],
   "source": []
  },
  {
   "cell_type": "markdown",
   "metadata": {},
   "source": [
    "### ATP Generation loops removal"
   ]
  },
  {
   "cell_type": "code",
   "execution_count": 1,
   "metadata": {},
   "outputs": [],
   "source": [
    "from itertools import chain\n",
    "import pickle\n",
    "import numpy as np\n",
    "from optlang.symbolics import Zero\n",
    "\n",
    "import cobra\n",
    "from cobra.util import create_stoichiometric_matrix\n",
    "from cobra.io import load_json_model"
   ]
  },
  {
   "cell_type": "markdown",
   "metadata": {},
   "source": [
    "#### Loading and Constraining Model"
   ]
  },
  {
   "cell_type": "code",
   "execution_count": 2,
   "metadata": {},
   "outputs": [
    {
     "name": "stdout",
     "output_type": "stream",
     "text": [
      "Set parameter Username\n",
      "Academic license - for non-commercial use only - expires 2025-03-04\n"
     ]
    }
   ],
   "source": [
    "model = load_json_model('iCHO3595_unblocked.json')"
   ]
  },
  {
   "cell_type": "code",
   "execution_count": 3,
   "metadata": {},
   "outputs": [],
   "source": [
    "with open('../Data/Uptake_Secretion_Rates/uptake_secretion_raw_zela_dict.pkl', 'rb') as file:\n",
    "    uptsec_zela = pickle.load(file)\n",
    "\n",
    "for rxn in model.boundary:\n",
    "    if rxn.id in ['EX_h2o_e', 'EX_h_e', 'EX_o2_e', 'EX_hco3_e', 'EX_so4_e', 'EX_pi_e']:\n",
    "        rxn.bounds = (-1000, 1000)\n",
    "    elif rxn.id in ['SK_Asn_X_Ser_Thr_r', 'SK_Tyr_ggn_c', 'SK_Ser_Thr_g', 'SK_pre_prot_r']:\n",
    "        rxn.bounds = (-0.001, 1000)\n",
    "    elif rxn.id.startswith((\"EX_\", \"SK_\", \"DM_\")):\n",
    "        rxn.bounds = (0, 1000)  # Close uptake rates for others\n",
    "\n",
    "for reaction in model.reactions:\n",
    "    if reaction.id == 'EX_etoh_e': #Model creates infeasible solutions when secreting etoh\n",
    "        continue\n",
    "    elif reaction.id == 'ATPM': # Add ATP Maintenance Cost\n",
    "        reaction.lower_bound = 0\n",
    "    for r,v in uptsec_zela.items():\n",
    "        if reaction.id == r:\n",
    "            reaction.upper_bound = 1000\n",
    "            reaction.lower_bound = v[('U6','P2 to P4')]"
   ]
  },
  {
   "cell_type": "markdown",
   "metadata": {},
   "source": [
    "#### ATP loops removal"
   ]
  },
  {
   "cell_type": "code",
   "execution_count": null,
   "metadata": {},
   "outputs": [],
   "source": [
    "#########################################\n",
    "# Thanasis' original version\n",
    "#########################################\n",
    "\n",
    "\n",
    "# Get the maximum flux through the oxidatitve phosphoryaltion pathway. Get the maximum flux of the objectives, biomass and IgG. \n",
    "# If a reaction that consumes ATP (negative stoichiometric coefficient), has a flux value below a cutoff in both maximisation of biomass\n",
    "# IgG and ox. pho. pathway, then the reaction doesn't provide any useable ATP (cyclic)\n",
    "\n",
    "step6_safe_rxn_rmv = []\n",
    "\n",
    "protected_subsystems = [ # Why protecting these subsystems\n",
    "    'BIOMASS', 'Product Formation', 'OXIDATIVE PHOSPHORYLATION', 'CITRIC ACID CYCLE', 'GLYCOLYSIS/GLUCONEOGENESIS',\n",
    "    'PYRUVATE METABOLISM', 'PENTOSE PHOSPHATE PATHWAY', 'GLUTAMATE METABOLISM', 'NAD METABOLISM',\n",
    "    'TRANSPORT, MITOCHONDRIAL', 'TRANSPORT, ENDOPLASMIC RETICULAR', 'ARGININE AND PROLINE METABOLISM',\n",
    "    'UBIQUINONE SYNTHESIS', 'VALINE, LEUCINE, AND ISOLEUCINE METABOLISM', 'TRYPTOPHAN METABOLISM',\n",
    "    'METHIONINE AND CYSTEINE METABOLISM', 'TYROSINE METABOLISM', 'GLYCINE, SERINE, AND THREONINE METABOLISM',\n",
    "    'HISTIDINE METABOLISM', 'ALANINE AND ASPARTATE METABOLISM', 'PHENYLALANINE METABOLISM',\n",
    "    'LYSINE METABOLISM', 'TYROSINE METABOLISM', 'N-GLYCAN BIOSYNTHESIS', 'PROTEIN PRODUCTION', 'SECRETORY PATHWAY'\n",
    "]\n",
    "\n",
    "\n",
    "# biomass and igg reactions of the model; we want to ensure their production after removals of any ATP cycles\n",
    "biomass_rxn = 'biomass_cho_s'\n",
    "igg_rxn = 'igg_formation'\n",
    "\n",
    "model.objective = biomass_rxn\n",
    "biomass_control = model.optimize('maximise')\n",
    "model.objective = igg_rxn\n",
    "igg_control = model.optimize('maximise')\n",
    "print(\"Original: Biomass: \", round(biomass_control.objective_value, 5), \"IgG: \", round(igg_control.objective_value, 5))\n",
    "\n",
    "model_temp = model.copy()\n",
    "atp_related_mets = ['atp_c', 'atp_n', 'atp_m', 'atp_x'] # What about atp_l, atp_g, atp_r, atp_e\n",
    "atp_met_indices = [model_temp.metabolites.get_by_id(met) for met in atp_related_mets]\n",
    "\n",
    "# Find the reactions associated with these metabolites\n",
    "atp_rxns_indices = []\n",
    "for met in atp_met_indices:\n",
    "    for reac in met.reactions:\n",
    "        atp_rxns_indices.append(reac.id)\n",
    "atp_rxns_indices = list(set(atp_rxns_indices))\n",
    "\n",
    "# Determine which reactions are consuming ATP (negative stoichiometry for ATP)\n",
    "atp_consumption_idx = []\n",
    "stoich_matrix = create_stoichiometric_matrix(model_temp)\n",
    "for atp_rxn in atp_rxns_indices:\n",
    "    reaction = model_temp.reactions.get_by_id(atp_rxn)\n",
    "    if not reaction.reversibility:  # Only irreversible reactions\n",
    "        for met in atp_met_indices:\n",
    "            if stoich_matrix[model_temp.metabolites.index(met), model_temp.reactions.index(reaction)] < 0:\n",
    "                atp_consumption_idx.append(atp_rxn)\n",
    "                break\n",
    "\n",
    "# Perform FBA to get maximum ATP production\n",
    "model_temp.objective = 0\n",
    "oxpho_rxns = [r for r in model_temp.reactions if 'OXIDATIVE PHOSPHORYLATION' in r.subsystem]\n",
    "reaction_variables = ((rxn.forward_variable, rxn.reverse_variable) for rxn in oxpho_rxns)\n",
    "variables = chain(*reaction_variables)\n",
    "model_temp.objective = model_temp.problem.Objective( Zero, direction=\"max\", sloppy=True, name=\"maxATP\" )\n",
    "model_temp.objective.set_linear_coefficients({v: 1.0 for v in variables})\n",
    "print(\"objective function\", model_temp.objective.expression)\n",
    "solution_maxATP = model_temp.optimize()\n",
    "\n",
    "for obj in [biomass_rxn, igg_rxn]:\n",
    "    model_temp.objective = obj\n",
    "    sol = model_temp.optimize('maximize')\n",
    "    atp_rate = np.vstack([sol[atp_consumption_idx], solution_maxATP[atp_consumption_idx]])\n",
    "\n",
    "    # Find ATP consuming reactions with low rates\n",
    "    atp_rxn_lowFlux = [id for id, rate in zip(atp_consumption_idx, np.sum(atp_rate, axis=0)) if rate <= 2e-12]\n",
    "\n",
    "    atp_loop_rxn_rmv = []\n",
    "    for rxn in atp_rxn_lowFlux:\n",
    "        if model_temp.reactions.get_by_id(rxn).subsystem not in protected_subsystems:\n",
    "            atp_loop_rxn_rmv.append(rxn)\n",
    "\n",
    "    # Filter out exchange reactions\n",
    "    exchange_reactions = [r.id for r in model_temp.exchanges]\n",
    "    atp_loop_rxn_rmv = [r_id for r_id in atp_loop_rxn_rmv if r_id not in exchange_reactions]\n",
    "\n",
    "    # Ensure ATP maintenance reaction is not deleted\n",
    "    id_atp_maint = model_temp.reactions.get_by_id('ATPM').id\n",
    "    atp_loop_rxn_rmv = [r_id for r_id in atp_loop_rxn_rmv if r_id != id_atp_maint]\n",
    "\n",
    "    if obj == biomass_rxn:\n",
    "        atp_loop_rxns_bio = atp_loop_rxn_rmv\n",
    "    elif obj == igg_rxn:\n",
    "        atp_loop_rxns_igg = atp_loop_rxn_rmv\n",
    "\n",
    "# Print the reactions to be deleted\n",
    "atp_loop_rxns = list(set(atp_loop_rxns_igg).intersection(atp_loop_rxns_bio))\n",
    "print(\"Reactions to be deleted:\", len(atp_loop_rxns))\n",
    "\n",
    "# Remove reactions from the model and check that Biomass and IgG are produced\n",
    "model_temp.objective = biomass_rxn\n",
    "sol_bio_control = model_temp.optimize('maximize')\n",
    "model_temp.objective = igg_rxn\n",
    "sol_igg_control = model_temp.optimize('maximize')\n",
    "model_temp_temp = model_temp.copy()\n",
    "\n",
    "for rxn_to_rmv in atp_loop_rxns:\n",
    "    model_temp_temp.remove_reactions(rxn_to_rmv)\n",
    "    model_temp_temp.objective = biomass_rxn\n",
    "    sol_bio = model_temp_temp.optimize('maximize')\n",
    "    model_temp_temp.objective = igg_rxn\n",
    "    sol_igg = model_temp_temp.optimize('maximize')\n",
    "    if round(sol_bio.objective_value, 5) == round(sol_bio_control.objective_value, 5) and round(sol_igg.objective_value, 5) == round(sol_igg_control.objective_value, 5):\n",
    "        step6_safe_rxn_rmv.append(rxn_to_rmv)\n",
    "\n",
    "model_temp.remove_reactions(step6_safe_rxn_rmv)\n",
    "print(\"Reactions consuming ATP in a cyclic fashion AND are safe to remove: \", len(step6_safe_rxn_rmv))\n",
    "print(\"Model size after the removal of ATP cyclic reactions: Reactions: \", len(model_temp.reactions), \"Metabolites: \", len(model_temp.metabolites))\n",
    "model_temp.objective = biomass_rxn\n",
    "sol_bio = model_temp.optimize('maximize')\n",
    "model_temp.objective = igg_rxn\n",
    "sol_igg = model_temp.optimize('maximize')\n",
    "print(\"Old Bio: \", round(sol_bio_control.objective_value, 3), \"New Bio: \", round(sol_bio.objective_value, 3), \"Old IgG: \", round(sol_igg_control.objective_value, 5), \"New IgG: \", round(sol_igg.objective_value, 5))\n",
    "model = model_temp.copy()"
   ]
  },
  {
   "cell_type": "code",
   "execution_count": 4,
   "metadata": {
    "scrolled": true
   },
   "outputs": [
    {
     "name": "stdout",
     "output_type": "stream",
     "text": [
      "Read LP format model from file /var/folders/_x/tfg8s2ks4n1ftkkwzp5sqjpc0000gn/T/tmpcl6976q9.lp\n",
      "Reading time = 0.05 seconds\n",
      ": 4764 rows, 17114 columns, 72396 nonzeros\n"
     ]
    },
    {
     "name": "stderr",
     "output_type": "stream",
     "text": [
      "Processing reactions:   0%|                     | 1/759 [00:00<02:28,  5.09it/s]"
     ]
    },
    {
     "name": "stdout",
     "output_type": "stream",
     "text": [
      "\n",
      "Testing reaction: GDCA3Sabc\n",
      "Reaction GDCA3Sabc knockout is safe.\n",
      "Added GDCA3Sabc to the candidate removal list.\n",
      "Cumulative effect of GDCA3Sabc is safe. Updated safe removal list.\n",
      "\n",
      "Testing reaction: r1344\n",
      "Reaction r1344 knockout is safe.\n",
      "Added r1344 to the candidate removal list.\n"
     ]
    },
    {
     "name": "stderr",
     "output_type": "stream",
     "text": [
      "Processing reactions:   0%|                     | 2/759 [00:01<07:07,  1.77it/s]"
     ]
    },
    {
     "name": "stdout",
     "output_type": "stream",
     "text": [
      "Cumulative effect of r1344 is safe. Updated safe removal list.\n",
      "\n",
      "Testing reaction: PROSTGE1t3\n",
      "Reaction PROSTGE1t3 knockout is safe.\n",
      "Added PROSTGE1t3 to the candidate removal list.\n"
     ]
    },
    {
     "name": "stderr",
     "output_type": "stream",
     "text": [
      "Processing reactions:   0%|                     | 3/759 [00:01<09:27,  1.33it/s]"
     ]
    },
    {
     "name": "stdout",
     "output_type": "stream",
     "text": [
      "Cumulative effect of PROSTGE1t3 is safe. Updated safe removal list.\n",
      "\n",
      "Testing reaction: PTPATe\n",
      "Reaction PTPATe knockout is safe.\n",
      "Added PTPATe to the candidate removal list.\n"
     ]
    },
    {
     "name": "stderr",
     "output_type": "stream",
     "text": [
      "Processing reactions:   1%|                     | 4/759 [00:02<08:40,  1.45it/s]"
     ]
    },
    {
     "name": "stdout",
     "output_type": "stream",
     "text": [
      "Cumulative effect of PTPATe is safe. Updated safe removal list.\n",
      "\n",
      "Testing reaction: FACOAL240\n",
      "Reaction FACOAL240 knockout is safe.\n",
      "Added FACOAL240 to the candidate removal list.\n"
     ]
    },
    {
     "name": "stderr",
     "output_type": "stream",
     "text": [
      "Processing reactions:   1%|▏                    | 5/759 [00:03<08:40,  1.45it/s]"
     ]
    },
    {
     "name": "stdout",
     "output_type": "stream",
     "text": [
      "Cumulative effect of FACOAL240 is safe. Updated safe removal list.\n",
      "\n",
      "Testing reaction: r0321\n",
      "Reaction r0321 knockout is safe.\n",
      "Added r0321 to the candidate removal list.\n"
     ]
    },
    {
     "name": "stderr",
     "output_type": "stream",
     "text": [
      "Processing reactions:   1%|▏                    | 6/759 [00:03<08:20,  1.51it/s]"
     ]
    },
    {
     "name": "stdout",
     "output_type": "stream",
     "text": [
      "Cumulative effect of r0321 is safe. Updated safe removal list.\n",
      "\n",
      "Testing reaction: HMR_0156\n",
      "Reaction HMR_0156 knockout is safe.\n",
      "Added HMR_0156 to the candidate removal list.\n"
     ]
    },
    {
     "name": "stderr",
     "output_type": "stream",
     "text": [
      "Processing reactions:   1%|▏                    | 7/759 [00:04<08:30,  1.47it/s]"
     ]
    },
    {
     "name": "stdout",
     "output_type": "stream",
     "text": [
      "Cumulative effect of HMR_0156 is safe. Updated safe removal list.\n",
      "\n",
      "Testing reaction: ACCOALm\n",
      "Reaction ACCOALm knockout is safe.\n",
      "Added ACCOALm to the candidate removal list.\n"
     ]
    },
    {
     "name": "stderr",
     "output_type": "stream",
     "text": [
      "Processing reactions:   1%|▏                    | 8/759 [00:05<08:01,  1.56it/s]"
     ]
    },
    {
     "name": "stdout",
     "output_type": "stream",
     "text": [
      "Cumulative effect of ACCOALm is safe. Updated safe removal list.\n",
      "\n",
      "Testing reaction: HMR_2989\n",
      "Reaction HMR_2989 knockout is safe.\n",
      "Added HMR_2989 to the candidate removal list.\n"
     ]
    },
    {
     "name": "stderr",
     "output_type": "stream",
     "text": [
      "Processing reactions:   1%|▏                    | 9/759 [00:06<08:53,  1.41it/s]"
     ]
    },
    {
     "name": "stdout",
     "output_type": "stream",
     "text": [
      "Cumulative effect of HMR_2989 is safe. Updated safe removal list.\n",
      "\n",
      "Testing reaction: PI4P5Kn\n",
      "Reaction PI4P5Kn knockout is safe.\n",
      "Added PI4P5Kn to the candidate removal list.\n"
     ]
    },
    {
     "name": "stderr",
     "output_type": "stream",
     "text": [
      "Processing reactions:   1%|▎                   | 10/759 [00:06<08:49,  1.41it/s]"
     ]
    },
    {
     "name": "stdout",
     "output_type": "stream",
     "text": [
      "Cumulative effect of PI4P5Kn is safe. Updated safe removal list.\n",
      "\n",
      "Testing reaction: FACOAL161x\n",
      "Reaction FACOAL161x knockout is safe.\n",
      "Added FACOAL161x to the candidate removal list.\n"
     ]
    },
    {
     "name": "stderr",
     "output_type": "stream",
     "text": [
      "Processing reactions:   1%|▎                   | 11/759 [00:07<10:00,  1.25it/s]"
     ]
    },
    {
     "name": "stdout",
     "output_type": "stream",
     "text": [
      "Cumulative effect of FACOAL161x is safe. Updated safe removal list.\n",
      "\n",
      "Testing reaction: PEFLIPm\n",
      "Reaction PEFLIPm knockout is safe.\n",
      "Added PEFLIPm to the candidate removal list.\n"
     ]
    },
    {
     "name": "stderr",
     "output_type": "stream",
     "text": [
      "Processing reactions:   2%|▎                   | 12/759 [00:08<10:20,  1.20it/s]"
     ]
    },
    {
     "name": "stdout",
     "output_type": "stream",
     "text": [
      "Cumulative effect of PEFLIPm is safe. Updated safe removal list.\n",
      "\n",
      "Testing reaction: FACOAL161\n",
      "Reaction FACOAL161 knockout is safe.\n",
      "Added FACOAL161 to the candidate removal list.\n"
     ]
    },
    {
     "name": "stderr",
     "output_type": "stream",
     "text": [
      "Processing reactions:   2%|▎                   | 13/759 [00:09<10:38,  1.17it/s]"
     ]
    },
    {
     "name": "stdout",
     "output_type": "stream",
     "text": [
      "Cumulative effect of FACOAL161 is safe. Updated safe removal list.\n",
      "\n",
      "Testing reaction: HMR_0211\n",
      "Reaction HMR_0211 knockout is safe.\n",
      "Added HMR_0211 to the candidate removal list.\n"
     ]
    },
    {
     "name": "stderr",
     "output_type": "stream",
     "text": [
      "Processing reactions:   2%|▎                   | 14/759 [00:10<10:47,  1.15it/s]"
     ]
    },
    {
     "name": "stdout",
     "output_type": "stream",
     "text": [
      "Cumulative effect of HMR_0211 is safe. Updated safe removal list.\n",
      "\n",
      "Testing reaction: r1356\n",
      "Reaction r1356 knockout is safe.\n",
      "Added r1356 to the candidate removal list.\n"
     ]
    },
    {
     "name": "stderr",
     "output_type": "stream",
     "text": [
      "Processing reactions:   2%|▍                   | 15/759 [00:11<10:03,  1.23it/s]"
     ]
    },
    {
     "name": "stdout",
     "output_type": "stream",
     "text": [
      "Cumulative effect of r1356 is safe. Updated safe removal list.\n",
      "\n",
      "Testing reaction: HMR_2942\n",
      "Reaction HMR_2942 knockout is safe.\n",
      "Added HMR_2942 to the candidate removal list.\n"
     ]
    },
    {
     "name": "stderr",
     "output_type": "stream",
     "text": [
      "Processing reactions:   2%|▍                   | 16/759 [00:11<09:29,  1.30it/s]"
     ]
    },
    {
     "name": "stdout",
     "output_type": "stream",
     "text": [
      "Cumulative effect of HMR_2942 is safe. Updated safe removal list.\n",
      "\n",
      "Testing reaction: PRPPS\n",
      "Reaction PRPPS knockout is safe.\n",
      "Added PRPPS to the candidate removal list.\n"
     ]
    },
    {
     "name": "stderr",
     "output_type": "stream",
     "text": [
      "Processing reactions:   2%|▍                   | 17/759 [00:12<09:50,  1.26it/s]"
     ]
    },
    {
     "name": "stdout",
     "output_type": "stream",
     "text": [
      "Cumulative effect of PRPPS is safe. Updated safe removal list.\n",
      "\n",
      "Testing reaction: r1103\n",
      "Reaction r1103 knockout is safe.\n",
      "Added r1103 to the candidate removal list.\n"
     ]
    },
    {
     "name": "stderr",
     "output_type": "stream",
     "text": [
      "Processing reactions:   2%|▍                   | 18/759 [00:13<09:33,  1.29it/s]"
     ]
    },
    {
     "name": "stdout",
     "output_type": "stream",
     "text": [
      "Cumulative effect of r1103 is safe. Updated safe removal list.\n",
      "\n",
      "Testing reaction: ARACHFATPc\n",
      "Reaction ARACHFATPc knockout is safe.\n",
      "Added ARACHFATPc to the candidate removal list.\n"
     ]
    },
    {
     "name": "stderr",
     "output_type": "stream",
     "text": [
      "Processing reactions:   3%|▌                   | 19/759 [00:14<09:08,  1.35it/s]"
     ]
    },
    {
     "name": "stdout",
     "output_type": "stream",
     "text": [
      "Cumulative effect of ARACHFATPc is safe. Updated safe removal list.\n",
      "\n",
      "Testing reaction: r1530\n",
      "Reaction r1530 knockout is safe.\n",
      "Added r1530 to the candidate removal list.\n"
     ]
    },
    {
     "name": "stderr",
     "output_type": "stream",
     "text": [
      "Processing reactions:   3%|▌                   | 20/759 [00:14<08:46,  1.40it/s]"
     ]
    },
    {
     "name": "stdout",
     "output_type": "stream",
     "text": [
      "Cumulative effect of r1530 is safe. Updated safe removal list.\n",
      "\n",
      "Testing reaction: CE2211te\n",
      "Reaction CE2211te knockout is safe.\n",
      "Added CE2211te to the candidate removal list.\n"
     ]
    },
    {
     "name": "stderr",
     "output_type": "stream",
     "text": [
      "Processing reactions:   3%|▌                   | 21/759 [00:15<09:08,  1.35it/s]"
     ]
    },
    {
     "name": "stdout",
     "output_type": "stream",
     "text": [
      "Cumulative effect of CE2211te is safe. Updated safe removal list.\n",
      "\n",
      "Testing reaction: HMR_0419\n",
      "Reaction HMR_0419 knockout is safe.\n",
      "Added HMR_0419 to the candidate removal list.\n"
     ]
    },
    {
     "name": "stderr",
     "output_type": "stream",
     "text": [
      "Processing reactions:   3%|▌                   | 22/759 [00:16<09:18,  1.32it/s]"
     ]
    },
    {
     "name": "stdout",
     "output_type": "stream",
     "text": [
      "Cumulative effect of HMR_0419 is safe. Updated safe removal list.\n",
      "\n",
      "Testing reaction: ICDCHOLabc\n",
      "Reaction ICDCHOLabc knockout is safe.\n",
      "Added ICDCHOLabc to the candidate removal list.\n"
     ]
    },
    {
     "name": "stderr",
     "output_type": "stream",
     "text": [
      "Processing reactions:   3%|▌                   | 23/759 [00:17<09:26,  1.30it/s]"
     ]
    },
    {
     "name": "stdout",
     "output_type": "stream",
     "text": [
      "Cumulative effect of ICDCHOLabc is safe. Updated safe removal list.\n",
      "\n",
      "Testing reaction: PIK5\n",
      "Reaction PIK5 knockout is safe.\n",
      "Added PIK5 to the candidate removal list.\n"
     ]
    },
    {
     "name": "stderr",
     "output_type": "stream",
     "text": [
      "Processing reactions:   3%|▋                   | 24/759 [00:17<09:17,  1.32it/s]"
     ]
    },
    {
     "name": "stdout",
     "output_type": "stream",
     "text": [
      "Cumulative effect of PIK5 is safe. Updated safe removal list.\n",
      "\n",
      "Testing reaction: NDPK9n\n",
      "Reaction NDPK9n knockout is safe.\n",
      "Added NDPK9n to the candidate removal list.\n"
     ]
    },
    {
     "name": "stderr",
     "output_type": "stream",
     "text": [
      "Processing reactions:   3%|▋                   | 25/759 [00:18<09:26,  1.29it/s]"
     ]
    },
    {
     "name": "stdout",
     "output_type": "stream",
     "text": [
      "Cumulative effect of NDPK9n is safe. Updated safe removal list.\n",
      "\n",
      "Testing reaction: PSFLIPm\n",
      "Reaction PSFLIPm knockout is safe.\n",
      "Added PSFLIPm to the candidate removal list.\n"
     ]
    },
    {
     "name": "stderr",
     "output_type": "stream",
     "text": [
      "Processing reactions:   3%|▋                   | 26/759 [00:19<09:55,  1.23it/s]"
     ]
    },
    {
     "name": "stdout",
     "output_type": "stream",
     "text": [
      "Cumulative effect of PSFLIPm is safe. Updated safe removal list.\n",
      "\n",
      "Testing reaction: FAOXC16DCr\n",
      "Reaction FAOXC16DCr knockout is safe.\n",
      "Added FAOXC16DCr to the candidate removal list.\n"
     ]
    },
    {
     "name": "stderr",
     "output_type": "stream",
     "text": [
      "Processing reactions:   4%|▋                   | 27/759 [00:20<09:55,  1.23it/s]"
     ]
    },
    {
     "name": "stdout",
     "output_type": "stream",
     "text": [
      "Cumulative effect of FAOXC16DCr is safe. Updated safe removal list.\n",
      "\n",
      "Testing reaction: PYDAMK\n",
      "Reaction PYDAMK knockout is safe.\n",
      "Added PYDAMK to the candidate removal list.\n"
     ]
    },
    {
     "name": "stderr",
     "output_type": "stream",
     "text": [
      "Processing reactions:   4%|▋                   | 28/759 [00:21<10:08,  1.20it/s]"
     ]
    },
    {
     "name": "stdout",
     "output_type": "stream",
     "text": [
      "Cumulative effect of PYDAMK is safe. Updated safe removal list.\n",
      "\n",
      "Testing reaction: CERK\n",
      "Reaction CERK knockout is safe.\n",
      "Added CERK to the candidate removal list.\n"
     ]
    },
    {
     "name": "stderr",
     "output_type": "stream",
     "text": [
      "Processing reactions:   4%|▊                   | 29/759 [00:22<10:01,  1.21it/s]"
     ]
    },
    {
     "name": "stdout",
     "output_type": "stream",
     "text": [
      "Cumulative effect of CERK is safe. Updated safe removal list.\n",
      "\n",
      "Testing reaction: ISOCHOLabc\n",
      "Reaction ISOCHOLabc knockout is safe.\n",
      "Added ISOCHOLabc to the candidate removal list.\n"
     ]
    },
    {
     "name": "stderr",
     "output_type": "stream",
     "text": [
      "Processing reactions:   4%|▊                   | 30/759 [00:22<10:09,  1.20it/s]"
     ]
    },
    {
     "name": "stdout",
     "output_type": "stream",
     "text": [
      "Cumulative effect of ISOCHOLabc is safe. Updated safe removal list.\n",
      "\n",
      "Testing reaction: HMR_0209\n",
      "Reaction HMR_0209 knockout is safe.\n",
      "Added HMR_0209 to the candidate removal list.\n"
     ]
    },
    {
     "name": "stderr",
     "output_type": "stream",
     "text": [
      "Processing reactions:   4%|▊                   | 31/759 [00:23<10:20,  1.17it/s]"
     ]
    },
    {
     "name": "stdout",
     "output_type": "stream",
     "text": [
      "Cumulative effect of HMR_0209 is safe. Updated safe removal list.\n",
      "\n",
      "Testing reaction: r1346\n",
      "Reaction r1346 knockout is safe.\n",
      "Added r1346 to the candidate removal list.\n"
     ]
    },
    {
     "name": "stderr",
     "output_type": "stream",
     "text": [
      "Processing reactions:   4%|▊                   | 32/759 [00:24<10:09,  1.19it/s]"
     ]
    },
    {
     "name": "stdout",
     "output_type": "stream",
     "text": [
      "Cumulative effect of r1346 is safe. Updated safe removal list.\n",
      "\n",
      "Testing reaction: ATAx\n",
      "Reaction ATAx knockout is safe.\n",
      "Added ATAx to the candidate removal list.\n"
     ]
    },
    {
     "name": "stderr",
     "output_type": "stream",
     "text": [
      "Processing reactions:   4%|▊                   | 33/759 [00:26<12:31,  1.04s/it]"
     ]
    },
    {
     "name": "stdout",
     "output_type": "stream",
     "text": [
      "Cumulative effect of ATAx is safe. Updated safe removal list.\n",
      "\n",
      "Testing reaction: 4PYRDX\n",
      "Reaction 4PYRDX knockout is safe.\n",
      "Added 4PYRDX to the candidate removal list.\n"
     ]
    },
    {
     "name": "stderr",
     "output_type": "stream",
     "text": [
      "Processing reactions:   4%|▉                   | 34/759 [00:26<11:43,  1.03it/s]"
     ]
    },
    {
     "name": "stdout",
     "output_type": "stream",
     "text": [
      "Cumulative effect of 4PYRDX is safe. Updated safe removal list.\n",
      "\n",
      "Testing reaction: HEX2\n",
      "Reaction HEX2 knockout is safe.\n",
      "Added HEX2 to the candidate removal list.\n"
     ]
    },
    {
     "name": "stderr",
     "output_type": "stream",
     "text": [
      "Processing reactions:   5%|▉                   | 35/759 [00:27<11:02,  1.09it/s]"
     ]
    },
    {
     "name": "stdout",
     "output_type": "stream",
     "text": [
      "Cumulative effect of HEX2 is safe. Updated safe removal list.\n",
      "\n",
      "Testing reaction: TMDK1m\n",
      "Reaction TMDK1m knockout is safe.\n",
      "Added TMDK1m to the candidate removal list.\n"
     ]
    },
    {
     "name": "stderr",
     "output_type": "stream",
     "text": [
      "Processing reactions:   5%|▉                   | 36/759 [00:28<10:57,  1.10it/s]"
     ]
    },
    {
     "name": "stdout",
     "output_type": "stream",
     "text": [
      "Cumulative effect of TMDK1m is safe. Updated safe removal list.\n",
      "\n",
      "Testing reaction: 11DOCRTSLte\n",
      "Reaction 11DOCRTSLte knockout is safe.\n",
      "Added 11DOCRTSLte to the candidate removal list.\n"
     ]
    },
    {
     "name": "stderr",
     "output_type": "stream",
     "text": [
      "Processing reactions:   5%|▉                   | 37/759 [00:29<11:18,  1.06it/s]"
     ]
    },
    {
     "name": "stdout",
     "output_type": "stream",
     "text": [
      "Cumulative effect of 11DOCRTSLte is safe. Updated safe removal list.\n",
      "\n",
      "Testing reaction: AHANDROSTANtr\n",
      "Reaction AHANDROSTANtr knockout is safe.\n",
      "Added AHANDROSTANtr to the candidate removal list.\n"
     ]
    },
    {
     "name": "stderr",
     "output_type": "stream",
     "text": [
      "Processing reactions:   5%|█                   | 38/759 [00:30<11:16,  1.07it/s]"
     ]
    },
    {
     "name": "stdout",
     "output_type": "stream",
     "text": [
      "Cumulative effect of AHANDROSTANtr is safe. Updated safe removal list.\n",
      "\n",
      "Testing reaction: KHK3\n",
      "Reaction KHK3 knockout is safe.\n",
      "Added KHK3 to the candidate removal list.\n"
     ]
    },
    {
     "name": "stderr",
     "output_type": "stream",
     "text": [
      "Processing reactions:   5%|█                   | 39/759 [00:31<11:10,  1.07it/s]"
     ]
    },
    {
     "name": "stdout",
     "output_type": "stream",
     "text": [
      "Cumulative effect of KHK3 is safe. Updated safe removal list.\n",
      "\n",
      "Testing reaction: FACOAL181x\n",
      "Reaction FACOAL181x knockout is safe.\n",
      "Added FACOAL181x to the candidate removal list.\n"
     ]
    },
    {
     "name": "stderr",
     "output_type": "stream",
     "text": [
      "Processing reactions:   5%|█                   | 40/759 [00:32<11:23,  1.05it/s]"
     ]
    },
    {
     "name": "stdout",
     "output_type": "stream",
     "text": [
      "Cumulative effect of FACOAL181x is safe. Updated safe removal list.\n",
      "\n",
      "Testing reaction: RE1441G\n",
      "Reaction RE1441G knockout is safe.\n",
      "Added RE1441G to the candidate removal list.\n"
     ]
    },
    {
     "name": "stderr",
     "output_type": "stream",
     "text": [
      "Processing reactions:   5%|█                   | 41/759 [00:33<11:44,  1.02it/s]"
     ]
    },
    {
     "name": "stdout",
     "output_type": "stream",
     "text": [
      "Cumulative effect of RE1441G is safe. Updated safe removal list.\n",
      "\n",
      "Testing reaction: NDPK7m\n",
      "Reaction NDPK7m knockout is safe.\n",
      "Added NDPK7m to the candidate removal list.\n"
     ]
    },
    {
     "name": "stderr",
     "output_type": "stream",
     "text": [
      "Processing reactions:   6%|█                   | 42/759 [00:34<11:49,  1.01it/s]"
     ]
    },
    {
     "name": "stdout",
     "output_type": "stream",
     "text": [
      "Cumulative effect of NDPK7m is safe. Updated safe removal list.\n",
      "\n",
      "Testing reaction: PTPAT\n",
      "Reaction PTPAT knockout is safe.\n",
      "Added PTPAT to the candidate removal list.\n"
     ]
    },
    {
     "name": "stderr",
     "output_type": "stream",
     "text": [
      "Processing reactions:   6%|█▏                  | 43/759 [00:35<11:36,  1.03it/s]"
     ]
    },
    {
     "name": "stdout",
     "output_type": "stream",
     "text": [
      "Cumulative effect of PTPAT is safe. Updated safe removal list.\n",
      "\n",
      "Testing reaction: ADNK1n\n",
      "Reaction ADNK1n knockout is safe.\n",
      "Added ADNK1n to the candidate removal list.\n"
     ]
    },
    {
     "name": "stderr",
     "output_type": "stream",
     "text": [
      "Processing reactions:   6%|█▏                  | 44/759 [00:36<12:17,  1.03s/it]"
     ]
    },
    {
     "name": "stdout",
     "output_type": "stream",
     "text": [
      "Cumulative effect of ADNK1n is safe. Updated safe removal list.\n",
      "\n",
      "Testing reaction: FACOAL2251\n",
      "Reaction FACOAL2251 knockout is safe.\n",
      "Added FACOAL2251 to the candidate removal list.\n"
     ]
    },
    {
     "name": "stderr",
     "output_type": "stream",
     "text": [
      "Processing reactions:   6%|█▏                  | 45/759 [00:37<12:01,  1.01s/it]"
     ]
    },
    {
     "name": "stdout",
     "output_type": "stream",
     "text": [
      "Cumulative effect of FACOAL2251 is safe. Updated safe removal list.\n",
      "\n",
      "Testing reaction: HDCA24Gte\n",
      "Reaction HDCA24Gte knockout is safe.\n",
      "Added HDCA24Gte to the candidate removal list.\n"
     ]
    },
    {
     "name": "stderr",
     "output_type": "stream",
     "text": [
      "Processing reactions:   6%|█▏                  | 46/759 [00:38<12:20,  1.04s/it]"
     ]
    },
    {
     "name": "stdout",
     "output_type": "stream",
     "text": [
      "Cumulative effect of HDCA24Gte is safe. Updated safe removal list.\n",
      "\n",
      "Testing reaction: r0812\n",
      "Reaction r0812 knockout is safe.\n",
      "Added r0812 to the candidate removal list.\n"
     ]
    },
    {
     "name": "stderr",
     "output_type": "stream",
     "text": [
      "Processing reactions:   6%|█▏                  | 47/759 [00:39<12:08,  1.02s/it]"
     ]
    },
    {
     "name": "stdout",
     "output_type": "stream",
     "text": [
      "Cumulative effect of r0812 is safe. Updated safe removal list.\n",
      "\n",
      "Testing reaction: r1097\n",
      "Reaction r1097 knockout is safe.\n",
      "Added r1097 to the candidate removal list.\n"
     ]
    },
    {
     "name": "stderr",
     "output_type": "stream",
     "text": [
      "Processing reactions:   6%|█▎                  | 48/759 [00:40<12:28,  1.05s/it]"
     ]
    },
    {
     "name": "stdout",
     "output_type": "stream",
     "text": [
      "Cumulative effect of r1097 is safe. Updated safe removal list.\n",
      "\n",
      "Testing reaction: HMR_7161\n",
      "Reaction HMR_7161 knockout is safe.\n",
      "Added HMR_7161 to the candidate removal list.\n"
     ]
    },
    {
     "name": "stderr",
     "output_type": "stream",
     "text": [
      "Processing reactions:   6%|█▎                  | 49/759 [00:41<12:21,  1.04s/it]"
     ]
    },
    {
     "name": "stdout",
     "output_type": "stream",
     "text": [
      "Cumulative effect of HMR_7161 is safe. Updated safe removal list.\n",
      "\n",
      "Testing reaction: HMR_2973\n",
      "Reaction HMR_2973 knockout is safe.\n",
      "Added HMR_2973 to the candidate removal list.\n"
     ]
    },
    {
     "name": "stderr",
     "output_type": "stream",
     "text": [
      "Processing reactions:   7%|█▎                  | 50/759 [00:42<12:13,  1.03s/it]"
     ]
    },
    {
     "name": "stdout",
     "output_type": "stream",
     "text": [
      "Cumulative effect of HMR_2973 is safe. Updated safe removal list.\n",
      "\n",
      "Testing reaction: HMR_2968\n",
      "Reaction HMR_2968 knockout is safe.\n",
      "Added HMR_2968 to the candidate removal list.\n"
     ]
    },
    {
     "name": "stderr",
     "output_type": "stream",
     "text": [
      "Processing reactions:   7%|█▎                  | 51/759 [00:43<12:10,  1.03s/it]"
     ]
    },
    {
     "name": "stdout",
     "output_type": "stream",
     "text": [
      "Cumulative effect of HMR_2968 is safe. Updated safe removal list.\n",
      "\n",
      "Testing reaction: r1095\n",
      "Reaction r1095 knockout is safe.\n",
      "Added r1095 to the candidate removal list.\n"
     ]
    },
    {
     "name": "stderr",
     "output_type": "stream",
     "text": [
      "Processing reactions:   7%|█▎                  | 52/759 [00:44<12:32,  1.06s/it]"
     ]
    },
    {
     "name": "stdout",
     "output_type": "stream",
     "text": [
      "Cumulative effect of r1095 is safe. Updated safe removal list.\n",
      "\n",
      "Testing reaction: FACOAL1831x\n",
      "Reaction FACOAL1831x knockout is safe.\n",
      "Added FACOAL1831x to the candidate removal list.\n",
      "Cumulative effect of FACOAL1831x is safe. Updated safe removal list.\n"
     ]
    },
    {
     "name": "stderr",
     "output_type": "stream",
     "text": [
      "Processing reactions:   7%|█▍                  | 53/759 [00:46<13:09,  1.12s/it]"
     ]
    },
    {
     "name": "stdout",
     "output_type": "stream",
     "text": [
      "\n",
      "Testing reaction: 3DHDCAabc\n",
      "Reaction 3DHDCAabc knockout is safe.\n",
      "Added 3DHDCAabc to the candidate removal list.\n"
     ]
    },
    {
     "name": "stderr",
     "output_type": "stream",
     "text": [
      "Processing reactions:   7%|█▍                  | 54/759 [00:47<13:06,  1.12s/it]"
     ]
    },
    {
     "name": "stdout",
     "output_type": "stream",
     "text": [
      "Cumulative effect of 3DHDCAabc is safe. Updated safe removal list.\n",
      "\n",
      "Testing reaction: HMR_0323\n",
      "Reaction HMR_0323 knockout is safe.\n",
      "Added HMR_0323 to the candidate removal list.\n"
     ]
    },
    {
     "name": "stderr",
     "output_type": "stream",
     "text": [
      "Processing reactions:   7%|█▍                  | 55/759 [00:48<13:13,  1.13s/it]"
     ]
    },
    {
     "name": "stdout",
     "output_type": "stream",
     "text": [
      "Cumulative effect of HMR_0323 is safe. Updated safe removal list.\n",
      "\n",
      "Testing reaction: GLYK\n",
      "Reaction GLYK knockout is safe.\n",
      "Added GLYK to the candidate removal list.\n"
     ]
    },
    {
     "name": "stderr",
     "output_type": "stream",
     "text": [
      "Processing reactions:   7%|█▍                  | 56/759 [00:49<13:21,  1.14s/it]"
     ]
    },
    {
     "name": "stdout",
     "output_type": "stream",
     "text": [
      "Cumulative effect of GLYK is safe. Updated safe removal list.\n",
      "\n",
      "Testing reaction: HMR_0311\n",
      "Reaction HMR_0311 knockout is safe.\n",
      "Added HMR_0311 to the candidate removal list.\n"
     ]
    },
    {
     "name": "stderr",
     "output_type": "stream",
     "text": [
      "Processing reactions:   8%|█▌                  | 57/759 [00:50<13:31,  1.16s/it]"
     ]
    },
    {
     "name": "stdout",
     "output_type": "stream",
     "text": [
      "Cumulative effect of HMR_0311 is safe. Updated safe removal list.\n",
      "\n",
      "Testing reaction: HMR_0343\n",
      "Reaction HMR_0343 knockout is safe.\n",
      "Added HMR_0343 to the candidate removal list.\n"
     ]
    },
    {
     "name": "stderr",
     "output_type": "stream",
     "text": [
      "Processing reactions:   8%|█▌                  | 58/759 [00:52<13:36,  1.16s/it]"
     ]
    },
    {
     "name": "stdout",
     "output_type": "stream",
     "text": [
      "Cumulative effect of HMR_0343 is safe. Updated safe removal list.\n",
      "\n",
      "Testing reaction: r0679\n",
      "Reaction r0679 knockout is safe.\n",
      "Added r0679 to the candidate removal list.\n"
     ]
    },
    {
     "name": "stderr",
     "output_type": "stream",
     "text": [
      "Processing reactions:   8%|█▌                  | 59/759 [00:53<13:30,  1.16s/it]"
     ]
    },
    {
     "name": "stdout",
     "output_type": "stream",
     "text": [
      "Cumulative effect of r0679 is safe. Updated safe removal list.\n",
      "\n",
      "Testing reaction: HMR_0391\n",
      "Reaction HMR_0391 knockout is safe.\n",
      "Added HMR_0391 to the candidate removal list.\n"
     ]
    },
    {
     "name": "stderr",
     "output_type": "stream",
     "text": [
      "Processing reactions:   8%|█▌                  | 60/759 [00:54<13:20,  1.14s/it]"
     ]
    },
    {
     "name": "stdout",
     "output_type": "stream",
     "text": [
      "Cumulative effect of HMR_0391 is safe. Updated safe removal list.\n",
      "\n",
      "Testing reaction: CHSTEROLt\n",
      "Reaction CHSTEROLt knockout is safe.\n",
      "Added CHSTEROLt to the candidate removal list.\n"
     ]
    },
    {
     "name": "stderr",
     "output_type": "stream",
     "text": [
      "Processing reactions:   8%|█▌                  | 61/759 [00:55<13:37,  1.17s/it]"
     ]
    },
    {
     "name": "stdout",
     "output_type": "stream",
     "text": [
      "Cumulative effect of CHSTEROLt is safe. Updated safe removal list.\n",
      "\n",
      "Testing reaction: r1359\n",
      "Reaction r1359 knockout is safe.\n",
      "Added r1359 to the candidate removal list.\n"
     ]
    },
    {
     "name": "stderr",
     "output_type": "stream",
     "text": [
      "Processing reactions:   8%|█▋                  | 62/759 [00:56<13:51,  1.19s/it]"
     ]
    },
    {
     "name": "stdout",
     "output_type": "stream",
     "text": [
      "Cumulative effect of r1359 is safe. Updated safe removal list.\n",
      "\n",
      "Testing reaction: SPHS1Pt2e\n",
      "Reaction SPHS1Pt2e knockout is safe.\n",
      "Added SPHS1Pt2e to the candidate removal list.\n"
     ]
    },
    {
     "name": "stderr",
     "output_type": "stream",
     "text": [
      "Processing reactions:   8%|█▋                  | 63/759 [00:57<13:49,  1.19s/it]"
     ]
    },
    {
     "name": "stdout",
     "output_type": "stream",
     "text": [
      "Cumulative effect of SPHS1Pt2e is safe. Updated safe removal list.\n",
      "\n",
      "Testing reaction: CE7096te\n",
      "Reaction CE7096te knockout is safe.\n",
      "Added CE7096te to the candidate removal list.\n"
     ]
    },
    {
     "name": "stderr",
     "output_type": "stream",
     "text": [
      "Processing reactions:   8%|█▋                  | 64/759 [00:59<14:01,  1.21s/it]"
     ]
    },
    {
     "name": "stdout",
     "output_type": "stream",
     "text": [
      "Cumulative effect of CE7096te is safe. Updated safe removal list.\n",
      "\n",
      "Testing reaction: HMR_0395\n",
      "Reaction HMR_0395 knockout is safe.\n",
      "Added HMR_0395 to the candidate removal list.\n"
     ]
    },
    {
     "name": "stderr",
     "output_type": "stream",
     "text": [
      "Processing reactions:   9%|█▋                  | 65/759 [01:00<13:59,  1.21s/it]"
     ]
    },
    {
     "name": "stdout",
     "output_type": "stream",
     "text": [
      "Cumulative effect of HMR_0395 is safe. Updated safe removal list.\n",
      "\n",
      "Testing reaction: NDPK10\n",
      "Reaction NDPK10 knockout is safe.\n",
      "Added NDPK10 to the candidate removal list.\n"
     ]
    },
    {
     "name": "stderr",
     "output_type": "stream",
     "text": [
      "Processing reactions:   9%|█▋                  | 66/759 [01:01<13:54,  1.20s/it]"
     ]
    },
    {
     "name": "stdout",
     "output_type": "stream",
     "text": [
      "Cumulative effect of NDPK10 is safe. Updated safe removal list.\n",
      "\n",
      "Testing reaction: r1116\n",
      "Reaction r1116 knockout is safe.\n",
      "Added r1116 to the candidate removal list.\n"
     ]
    },
    {
     "name": "stderr",
     "output_type": "stream",
     "text": [
      "Processing reactions:   9%|█▊                  | 67/759 [01:02<13:56,  1.21s/it]"
     ]
    },
    {
     "name": "stdout",
     "output_type": "stream",
     "text": [
      "Cumulative effect of r1116 is safe. Updated safe removal list.\n",
      "\n",
      "Testing reaction: GLYCK2\n",
      "Reaction GLYCK2 knockout is safe.\n",
      "Added GLYCK2 to the candidate removal list.\n"
     ]
    },
    {
     "name": "stderr",
     "output_type": "stream",
     "text": [
      "Processing reactions:   9%|█▊                  | 68/759 [01:03<13:40,  1.19s/it]"
     ]
    },
    {
     "name": "stdout",
     "output_type": "stream",
     "text": [
      "Cumulative effect of GLYCK2 is safe. Updated safe removal list.\n",
      "\n",
      "Testing reaction: NDPK2m\n",
      "Reaction NDPK2m knockout is safe.\n",
      "Added NDPK2m to the candidate removal list.\n"
     ]
    },
    {
     "name": "stderr",
     "output_type": "stream",
     "text": [
      "Processing reactions:   9%|█▊                  | 69/759 [01:05<13:26,  1.17s/it]"
     ]
    },
    {
     "name": "stdout",
     "output_type": "stream",
     "text": [
      "Cumulative effect of NDPK2m is safe. Updated safe removal list.\n",
      "\n",
      "Testing reaction: r0680\n",
      "Reaction r0680 knockout is safe.\n",
      "Added r0680 to the candidate removal list.\n",
      "Cumulative effect of r0680 is safe. Updated safe removal list.\n"
     ]
    },
    {
     "name": "stderr",
     "output_type": "stream",
     "text": [
      "Processing reactions:   9%|█▊                  | 70/759 [01:06<13:29,  1.17s/it]"
     ]
    },
    {
     "name": "stdout",
     "output_type": "stream",
     "text": [
      "\n",
      "Testing reaction: RE2635C\n",
      "Reaction RE2635C knockout is safe.\n",
      "Added RE2635C to the candidate removal list.\n",
      "Cumulative effect of RE2635C is safe. Updated safe removal list.\n"
     ]
    },
    {
     "name": "stderr",
     "output_type": "stream",
     "text": [
      "Processing reactions:   9%|█▊                  | 71/759 [01:07<13:58,  1.22s/it]"
     ]
    },
    {
     "name": "stdout",
     "output_type": "stream",
     "text": [
      "\n",
      "Testing reaction: r0456\n",
      "Reaction r0456 knockout is safe.\n",
      "Added r0456 to the candidate removal list.\n",
      "Cumulative effect of r0456 is safe. Updated safe removal list.\n"
     ]
    },
    {
     "name": "stderr",
     "output_type": "stream",
     "text": [
      "Processing reactions:   9%|█▉                  | 72/759 [01:09<14:34,  1.27s/it]"
     ]
    },
    {
     "name": "stdout",
     "output_type": "stream",
     "text": [
      "\n",
      "Testing reaction: BiGGRxn56\n",
      "Reaction BiGGRxn56 knockout is safe.\n",
      "Added BiGGRxn56 to the candidate removal list.\n",
      "Cumulative effect of BiGGRxn56 is safe. Updated safe removal list.\n"
     ]
    },
    {
     "name": "stderr",
     "output_type": "stream",
     "text": [
      "Processing reactions:  10%|█▉                  | 73/759 [01:10<14:19,  1.25s/it]"
     ]
    },
    {
     "name": "stdout",
     "output_type": "stream",
     "text": [
      "\n",
      "Testing reaction: FPGSm\n",
      "Reaction FPGSm knockout is safe.\n",
      "Added FPGSm to the candidate removal list.\n",
      "Cumulative effect of FPGSm is safe. Updated safe removal list.\n"
     ]
    },
    {
     "name": "stderr",
     "output_type": "stream",
     "text": [
      "Processing reactions:  10%|█▉                  | 74/759 [01:11<14:32,  1.27s/it]"
     ]
    },
    {
     "name": "stdout",
     "output_type": "stream",
     "text": [
      "\n",
      "Testing reaction: TUDCA3Sabc\n",
      "Reaction TUDCA3Sabc knockout is safe.\n",
      "Added TUDCA3Sabc to the candidate removal list.\n",
      "Cumulative effect of TUDCA3Sabc is safe. Updated safe removal list.\n"
     ]
    },
    {
     "name": "stderr",
     "output_type": "stream",
     "text": [
      "Processing reactions:  10%|█▉                  | 75/759 [01:12<14:19,  1.26s/it]"
     ]
    },
    {
     "name": "stdout",
     "output_type": "stream",
     "text": [
      "\n",
      "Testing reaction: DRBK\n",
      "Reaction DRBK knockout is safe.\n",
      "Added DRBK to the candidate removal list.\n",
      "Cumulative effect of DRBK is safe. Updated safe removal list.\n"
     ]
    },
    {
     "name": "stderr",
     "output_type": "stream",
     "text": [
      "Processing reactions:  10%|██                  | 76/759 [01:13<14:07,  1.24s/it]"
     ]
    },
    {
     "name": "stdout",
     "output_type": "stream",
     "text": [
      "\n",
      "Testing reaction: HEX7\n",
      "Reaction HEX7 knockout is safe.\n",
      "Added HEX7 to the candidate removal list.\n",
      "Cumulative effect of HEX7 is safe. Updated safe removal list.\n"
     ]
    },
    {
     "name": "stderr",
     "output_type": "stream",
     "text": [
      "Processing reactions:  10%|██                  | 77/759 [01:15<14:14,  1.25s/it]"
     ]
    },
    {
     "name": "stdout",
     "output_type": "stream",
     "text": [
      "\n",
      "Testing reaction: PI5P4K\n",
      "Reaction PI5P4K knockout is safe.\n",
      "Added PI5P4K to the candidate removal list.\n",
      "Cumulative effect of PI5P4K is safe. Updated safe removal list.\n"
     ]
    },
    {
     "name": "stderr",
     "output_type": "stream",
     "text": [
      "Processing reactions:  10%|██                  | 78/759 [01:16<14:28,  1.28s/it]"
     ]
    },
    {
     "name": "stdout",
     "output_type": "stream",
     "text": [
      "\n",
      "Testing reaction: FACOAL205x\n",
      "Reaction FACOAL205x knockout is safe.\n",
      "Added FACOAL205x to the candidate removal list.\n",
      "Cumulative effect of FACOAL205x is safe. Updated safe removal list.\n"
     ]
    },
    {
     "name": "stderr",
     "output_type": "stream",
     "text": [
      "Processing reactions:  10%|██                  | 79/759 [01:17<14:38,  1.29s/it]"
     ]
    },
    {
     "name": "stdout",
     "output_type": "stream",
     "text": [
      "\n",
      "Testing reaction: DAGKn\n",
      "Reaction DAGKn knockout is safe.\n",
      "Added DAGKn to the candidate removal list.\n",
      "Cumulative effect of DAGKn is safe. Updated safe removal list.\n"
     ]
    },
    {
     "name": "stderr",
     "output_type": "stream",
     "text": [
      "Processing reactions:  11%|██                  | 80/759 [01:19<14:58,  1.32s/it]"
     ]
    },
    {
     "name": "stdout",
     "output_type": "stream",
     "text": [
      "\n",
      "Testing reaction: NMNATr\n",
      "Reaction NMNATr knockout is safe.\n",
      "Added NMNATr to the candidate removal list.\n",
      "Cumulative effect of NMNATr is safe. Updated safe removal list.\n"
     ]
    },
    {
     "name": "stderr",
     "output_type": "stream",
     "text": [
      "Processing reactions:  11%|██▏                 | 81/759 [01:20<15:08,  1.34s/it]"
     ]
    },
    {
     "name": "stdout",
     "output_type": "stream",
     "text": [
      "\n",
      "Testing reaction: PROSTGE2t3\n",
      "Reaction PROSTGE2t3 knockout is safe.\n",
      "Added PROSTGE2t3 to the candidate removal list.\n",
      "Cumulative effect of PROSTGE2t3 is safe. Updated safe removal list.\n"
     ]
    },
    {
     "name": "stderr",
     "output_type": "stream",
     "text": [
      "Processing reactions:  11%|██▏                 | 82/759 [01:22<15:22,  1.36s/it]"
     ]
    },
    {
     "name": "stdout",
     "output_type": "stream",
     "text": [
      "\n",
      "Testing reaction: FACOAL226\n",
      "Reaction FACOAL226 knockout is safe.\n",
      "Added FACOAL226 to the candidate removal list.\n",
      "Cumulative effect of FACOAL226 is safe. Updated safe removal list.\n"
     ]
    },
    {
     "name": "stderr",
     "output_type": "stream",
     "text": [
      "Processing reactions:  11%|██▏                 | 83/759 [01:23<15:03,  1.34s/it]"
     ]
    },
    {
     "name": "stdout",
     "output_type": "stream",
     "text": [
      "\n",
      "Testing reaction: RBFK\n",
      "Reaction RBFK knockout is safe.\n",
      "Added RBFK to the candidate removal list.\n",
      "Cumulative effect of RBFK is safe. Updated safe removal list.\n"
     ]
    },
    {
     "name": "stderr",
     "output_type": "stream",
     "text": [
      "Processing reactions:  11%|██▏                 | 84/759 [01:24<15:01,  1.34s/it]"
     ]
    },
    {
     "name": "stdout",
     "output_type": "stream",
     "text": [
      "\n",
      "Testing reaction: SPHK21n\n",
      "Reaction SPHK21n knockout is safe.\n",
      "Added SPHK21n to the candidate removal list.\n",
      "Cumulative effect of SPHK21n is safe. Updated safe removal list.\n"
     ]
    },
    {
     "name": "stderr",
     "output_type": "stream",
     "text": [
      "Processing reactions:  11%|██▏                 | 85/759 [01:26<15:00,  1.34s/it]"
     ]
    },
    {
     "name": "stdout",
     "output_type": "stream",
     "text": [
      "\n",
      "Testing reaction: r1253\n",
      "Reaction r1253 knockout is safe.\n",
      "Added r1253 to the candidate removal list.\n",
      "Cumulative effect of r1253 is safe. Updated safe removal list.\n"
     ]
    },
    {
     "name": "stderr",
     "output_type": "stream",
     "text": [
      "Processing reactions:  11%|██▎                 | 86/759 [01:27<14:59,  1.34s/it]"
     ]
    },
    {
     "name": "stdout",
     "output_type": "stream",
     "text": [
      "\n",
      "Testing reaction: NDPK5\n",
      "Reaction NDPK5 knockout is safe.\n",
      "Added NDPK5 to the candidate removal list.\n",
      "Cumulative effect of NDPK5 is safe. Updated safe removal list.\n"
     ]
    },
    {
     "name": "stderr",
     "output_type": "stream",
     "text": [
      "Processing reactions:  11%|██▎                 | 87/759 [01:28<15:05,  1.35s/it]"
     ]
    },
    {
     "name": "stdout",
     "output_type": "stream",
     "text": [
      "\n",
      "Testing reaction: DNDPt13m\n",
      "Reaction DNDPt13m knockout is safe.\n",
      "Added DNDPt13m to the candidate removal list.\n",
      "Cumulative effect of DNDPt13m is safe. Updated safe removal list.\n"
     ]
    },
    {
     "name": "stderr",
     "output_type": "stream",
     "text": [
      "Processing reactions:  12%|██▎                 | 88/759 [01:30<14:55,  1.33s/it]"
     ]
    },
    {
     "name": "stdout",
     "output_type": "stream",
     "text": [
      "\n",
      "Testing reaction: r1527\n",
      "Reaction r1527 knockout is safe.\n",
      "Added r1527 to the candidate removal list.\n",
      "Cumulative effect of r1527 is safe. Updated safe removal list.\n"
     ]
    },
    {
     "name": "stderr",
     "output_type": "stream",
     "text": [
      "Processing reactions:  12%|██▎                 | 89/759 [01:31<15:07,  1.35s/it]"
     ]
    },
    {
     "name": "stdout",
     "output_type": "stream",
     "text": [
      "\n",
      "Testing reaction: r1528\n",
      "Reaction r1528 knockout is safe.\n",
      "Added r1528 to the candidate removal list.\n",
      "Cumulative effect of r1528 is safe. Updated safe removal list.\n"
     ]
    },
    {
     "name": "stderr",
     "output_type": "stream",
     "text": [
      "Processing reactions:  12%|██▎                 | 90/759 [01:32<15:12,  1.36s/it]"
     ]
    },
    {
     "name": "stdout",
     "output_type": "stream",
     "text": [
      "\n",
      "Testing reaction: ITCOALm\n",
      "Reaction ITCOALm knockout is safe.\n",
      "Added ITCOALm to the candidate removal list.\n",
      "Cumulative effect of ITCOALm is safe. Updated safe removal list.\n"
     ]
    },
    {
     "name": "stderr",
     "output_type": "stream",
     "text": [
      "Processing reactions:  12%|██▍                 | 91/759 [01:34<15:22,  1.38s/it]"
     ]
    },
    {
     "name": "stdout",
     "output_type": "stream",
     "text": [
      "\n",
      "Testing reaction: ACITL\n",
      "Reaction ACITL knockout is safe.\n",
      "Added ACITL to the candidate removal list.\n",
      "Cumulative effect of ACITL is safe. Updated safe removal list.\n"
     ]
    },
    {
     "name": "stderr",
     "output_type": "stream",
     "text": [
      "Processing reactions:  12%|██▍                 | 92/759 [01:35<15:07,  1.36s/it]"
     ]
    },
    {
     "name": "stdout",
     "output_type": "stream",
     "text": [
      "\n",
      "Testing reaction: SCP21cx\n",
      "Reaction SCP21cx knockout is safe.\n",
      "Added SCP21cx to the candidate removal list.\n",
      "Cumulative effect of SCP21cx is safe. Updated safe removal list.\n"
     ]
    },
    {
     "name": "stderr",
     "output_type": "stream",
     "text": [
      "Processing reactions:  12%|██▍                 | 93/759 [01:36<15:15,  1.38s/it]"
     ]
    },
    {
     "name": "stdout",
     "output_type": "stream",
     "text": [
      "\n",
      "Testing reaction: HMR_0253\n",
      "Reaction HMR_0253 knockout is safe.\n",
      "Added HMR_0253 to the candidate removal list.\n",
      "Cumulative effect of HMR_0253 is safe. Updated safe removal list.\n"
     ]
    },
    {
     "name": "stderr",
     "output_type": "stream",
     "text": [
      "Processing reactions:  12%|██▍                 | 94/759 [01:38<14:59,  1.35s/it]"
     ]
    },
    {
     "name": "stdout",
     "output_type": "stream",
     "text": [
      "\n",
      "Testing reaction: NaKt\n",
      "Reaction NaKt knockout is safe.\n",
      "Added NaKt to the candidate removal list.\n",
      "Cumulative effect of NaKt is safe. Updated safe removal list.\n"
     ]
    },
    {
     "name": "stderr",
     "output_type": "stream",
     "text": [
      "Processing reactions:  13%|██▌                 | 95/759 [01:39<15:32,  1.40s/it]"
     ]
    },
    {
     "name": "stdout",
     "output_type": "stream",
     "text": [
      "\n",
      "Testing reaction: FACOAL2042\n",
      "Reaction FACOAL2042 knockout is safe.\n",
      "Added FACOAL2042 to the candidate removal list.\n",
      "Cumulative effect of FACOAL2042 is safe. Updated safe removal list.\n"
     ]
    },
    {
     "name": "stderr",
     "output_type": "stream",
     "text": [
      "Processing reactions:  13%|██▌                 | 96/759 [01:41<16:31,  1.49s/it]"
     ]
    },
    {
     "name": "stdout",
     "output_type": "stream",
     "text": [
      "\n",
      "Testing reaction: CAATPS\n",
      "Reaction CAATPS knockout is safe.\n",
      "Added CAATPS to the candidate removal list.\n",
      "Cumulative effect of CAATPS is safe. Updated safe removal list.\n"
     ]
    },
    {
     "name": "stderr",
     "output_type": "stream",
     "text": [
      "Processing reactions:  13%|██▌                 | 97/759 [01:42<16:15,  1.47s/it]"
     ]
    },
    {
     "name": "stdout",
     "output_type": "stream",
     "text": [
      "\n",
      "Testing reaction: C05301te\n",
      "Reaction C05301te knockout is safe.\n",
      "Added C05301te to the candidate removal list.\n",
      "Cumulative effect of C05301te is safe. Updated safe removal list.\n"
     ]
    },
    {
     "name": "stderr",
     "output_type": "stream",
     "text": [
      "Processing reactions:  13%|██▌                 | 98/759 [01:44<15:38,  1.42s/it]"
     ]
    },
    {
     "name": "stdout",
     "output_type": "stream",
     "text": [
      "\n",
      "Testing reaction: r1257\n",
      "Reaction r1257 knockout is safe.\n",
      "Added r1257 to the candidate removal list.\n",
      "Cumulative effect of r1257 is safe. Updated safe removal list.\n"
     ]
    },
    {
     "name": "stderr",
     "output_type": "stream",
     "text": [
      "Processing reactions:  13%|██▌                 | 99/759 [01:45<15:55,  1.45s/it]"
     ]
    },
    {
     "name": "stdout",
     "output_type": "stream",
     "text": [
      "\n",
      "Testing reaction: CYTDK1\n",
      "Reaction CYTDK1 knockout is safe.\n",
      "Added CYTDK1 to the candidate removal list.\n",
      "Cumulative effect of CYTDK1 is safe. Updated safe removal list.\n"
     ]
    },
    {
     "name": "stderr",
     "output_type": "stream",
     "text": [
      "Processing reactions:  13%|██▌                | 100/759 [01:47<15:57,  1.45s/it]"
     ]
    },
    {
     "name": "stdout",
     "output_type": "stream",
     "text": [
      "\n",
      "Testing reaction: ADSK\n",
      "Reaction ADSK knockout is safe.\n",
      "Added ADSK to the candidate removal list.\n",
      "Cumulative effect of ADSK is safe. Updated safe removal list.\n"
     ]
    },
    {
     "name": "stderr",
     "output_type": "stream",
     "text": [
      "Processing reactions:  13%|██▌                | 101/759 [01:48<15:50,  1.44s/it]"
     ]
    },
    {
     "name": "stdout",
     "output_type": "stream",
     "text": [
      "\n",
      "Testing reaction: HMR_2945\n",
      "Reaction HMR_2945 knockout is safe.\n",
      "Added HMR_2945 to the candidate removal list.\n",
      "Cumulative effect of HMR_2945 is safe. Updated safe removal list.\n"
     ]
    },
    {
     "name": "stderr",
     "output_type": "stream",
     "text": [
      "Processing reactions:  13%|██▌                | 102/759 [01:50<16:08,  1.47s/it]"
     ]
    },
    {
     "name": "stdout",
     "output_type": "stream",
     "text": [
      "\n",
      "Testing reaction: SUBERICACT\n",
      "Reaction SUBERICACT knockout is safe.\n",
      "Added SUBERICACT to the candidate removal list.\n",
      "Cumulative effect of SUBERICACT is safe. Updated safe removal list.\n"
     ]
    },
    {
     "name": "stderr",
     "output_type": "stream",
     "text": [
      "Processing reactions:  14%|██▌                | 103/759 [01:51<16:19,  1.49s/it]"
     ]
    },
    {
     "name": "stdout",
     "output_type": "stream",
     "text": [
      "\n",
      "Testing reaction: HMR_0247\n",
      "Reaction HMR_0247 knockout is safe.\n",
      "Added HMR_0247 to the candidate removal list.\n",
      "Cumulative effect of HMR_0247 is safe. Updated safe removal list.\n"
     ]
    },
    {
     "name": "stderr",
     "output_type": "stream",
     "text": [
      "Processing reactions:  14%|██▌                | 104/759 [01:53<16:49,  1.54s/it]"
     ]
    },
    {
     "name": "stdout",
     "output_type": "stream",
     "text": [
      "\n",
      "Testing reaction: RTOTALFATPc\n",
      "Reaction RTOTALFATPc knockout is safe.\n",
      "Added RTOTALFATPc to the candidate removal list.\n",
      "Cumulative effect of RTOTALFATPc is safe. Updated safe removal list.\n"
     ]
    },
    {
     "name": "stderr",
     "output_type": "stream",
     "text": [
      "Processing reactions:  14%|██▋                | 105/759 [01:54<16:31,  1.52s/it]"
     ]
    },
    {
     "name": "stdout",
     "output_type": "stream",
     "text": [
      "\n",
      "Testing reaction: 3DHCDCHOLabc\n",
      "Reaction 3DHCDCHOLabc knockout is safe.\n",
      "Added 3DHCDCHOLabc to the candidate removal list.\n",
      "Cumulative effect of 3DHCDCHOLabc is safe. Updated safe removal list.\n"
     ]
    },
    {
     "name": "stderr",
     "output_type": "stream",
     "text": [
      "Processing reactions:  14%|██▋                | 106/759 [01:56<16:36,  1.53s/it]"
     ]
    },
    {
     "name": "stdout",
     "output_type": "stream",
     "text": [
      "\n",
      "Testing reaction: COUCOAFm\n",
      "Reaction COUCOAFm knockout is safe.\n",
      "Added COUCOAFm to the candidate removal list.\n",
      "Cumulative effect of COUCOAFm is safe. Updated safe removal list.\n"
     ]
    },
    {
     "name": "stderr",
     "output_type": "stream",
     "text": [
      "Processing reactions:  14%|██▋                | 107/759 [01:57<16:28,  1.52s/it]"
     ]
    },
    {
     "name": "stdout",
     "output_type": "stream",
     "text": [
      "\n",
      "Testing reaction: 7KILTCHOLATP\n",
      "Reaction 7KILTCHOLATP knockout is safe.\n",
      "Added 7KILTCHOLATP to the candidate removal list.\n",
      "Cumulative effect of 7KILTCHOLATP is safe. Updated safe removal list.\n"
     ]
    },
    {
     "name": "stderr",
     "output_type": "stream",
     "text": [
      "Processing reactions:  14%|██▋                | 108/759 [01:59<16:31,  1.52s/it]"
     ]
    },
    {
     "name": "stdout",
     "output_type": "stream",
     "text": [
      "\n",
      "Testing reaction: FACOAL1832x\n",
      "Reaction FACOAL1832x knockout is safe.\n",
      "Added FACOAL1832x to the candidate removal list.\n",
      "Cumulative effect of FACOAL1832x is safe. Updated safe removal list.\n"
     ]
    },
    {
     "name": "stderr",
     "output_type": "stream",
     "text": [
      "Processing reactions:  14%|██▋                | 109/759 [02:00<16:30,  1.52s/it]"
     ]
    },
    {
     "name": "stdout",
     "output_type": "stream",
     "text": [
      "\n",
      "Testing reaction: FACOAL260\n",
      "Reaction FACOAL260 knockout is safe.\n",
      "Added FACOAL260 to the candidate removal list.\n",
      "Cumulative effect of FACOAL260 is safe. Updated safe removal list.\n"
     ]
    },
    {
     "name": "stderr",
     "output_type": "stream",
     "text": [
      "Processing reactions:  14%|██▊                | 110/759 [02:02<16:25,  1.52s/it]"
     ]
    },
    {
     "name": "stdout",
     "output_type": "stream",
     "text": [
      "\n",
      "Testing reaction: NMNATn\n",
      "Reaction NMNATn knockout is safe.\n",
      "Added NMNATn to the candidate removal list.\n",
      "Cumulative effect of NMNATn is safe. Updated safe removal list.\n"
     ]
    },
    {
     "name": "stderr",
     "output_type": "stream",
     "text": [
      "Processing reactions:  15%|██▊                | 111/759 [02:03<16:14,  1.50s/it]"
     ]
    },
    {
     "name": "stdout",
     "output_type": "stream",
     "text": [
      "\n",
      "Testing reaction: FACOAL203\n",
      "Reaction FACOAL203 knockout is safe.\n",
      "Added FACOAL203 to the candidate removal list.\n",
      "Cumulative effect of FACOAL203 is safe. Updated safe removal list.\n"
     ]
    },
    {
     "name": "stderr",
     "output_type": "stream",
     "text": [
      "Processing reactions:  15%|██▊                | 112/759 [02:05<16:50,  1.56s/it]"
     ]
    },
    {
     "name": "stdout",
     "output_type": "stream",
     "text": [
      "\n",
      "Testing reaction: FPGS5\n",
      "Reaction FPGS5 knockout is safe.\n",
      "Added FPGS5 to the candidate removal list.\n",
      "Cumulative effect of FPGS5 is safe. Updated safe removal list.\n"
     ]
    },
    {
     "name": "stderr",
     "output_type": "stream",
     "text": [
      "Processing reactions:  15%|██▊                | 113/759 [02:07<16:27,  1.53s/it]"
     ]
    },
    {
     "name": "stdout",
     "output_type": "stream",
     "text": [
      "\n",
      "Testing reaction: RE3146R\n",
      "Reaction RE3146R knockout is safe.\n",
      "Added RE3146R to the candidate removal list.\n",
      "Cumulative effect of RE3146R is safe. Updated safe removal list.\n"
     ]
    },
    {
     "name": "stderr",
     "output_type": "stream",
     "text": [
      "Processing reactions:  15%|██▊                | 114/759 [02:08<16:55,  1.57s/it]"
     ]
    },
    {
     "name": "stdout",
     "output_type": "stream",
     "text": [
      "\n",
      "Testing reaction: PCSm\n",
      "Reaction PCSm knockout is safe.\n",
      "Added PCSm to the candidate removal list.\n",
      "Cumulative effect of PCSm is safe. Updated safe removal list.\n"
     ]
    },
    {
     "name": "stderr",
     "output_type": "stream",
     "text": [
      "Processing reactions:  15%|██▉                | 115/759 [02:10<17:12,  1.60s/it]"
     ]
    },
    {
     "name": "stdout",
     "output_type": "stream",
     "text": [
      "\n",
      "Testing reaction: HPDECEte\n",
      "Reaction HPDECEte knockout is safe.\n",
      "Added HPDECEte to the candidate removal list.\n",
      "Cumulative effect of HPDECEte is safe. Updated safe removal list.\n"
     ]
    },
    {
     "name": "stderr",
     "output_type": "stream",
     "text": [
      "Processing reactions:  15%|██▉                | 116/759 [02:12<17:30,  1.63s/it]"
     ]
    },
    {
     "name": "stdout",
     "output_type": "stream",
     "text": [
      "\n",
      "Testing reaction: PGK\n",
      "Reaction PGK knockout is safe.\n",
      "Added PGK to the candidate removal list.\n",
      "Cumulative effect of PGK is safe. Updated safe removal list.\n"
     ]
    },
    {
     "name": "stderr",
     "output_type": "stream",
     "text": [
      "Processing reactions:  15%|██▉                | 117/759 [02:13<17:32,  1.64s/it]"
     ]
    },
    {
     "name": "stdout",
     "output_type": "stream",
     "text": [
      "\n",
      "Testing reaction: NDPK10n\n",
      "Reaction NDPK10n knockout is safe.\n",
      "Added NDPK10n to the candidate removal list.\n",
      "Cumulative effect of NDPK10n is safe. Updated safe removal list.\n"
     ]
    },
    {
     "name": "stderr",
     "output_type": "stream",
     "text": [
      "Processing reactions:  16%|██▉                | 118/759 [02:15<17:19,  1.62s/it]"
     ]
    },
    {
     "name": "stdout",
     "output_type": "stream",
     "text": [
      "\n",
      "Testing reaction: C04483t1\n",
      "Reaction C04483t1 knockout is safe.\n",
      "Added C04483t1 to the candidate removal list.\n",
      "Cumulative effect of C04483t1 is safe. Updated safe removal list.\n"
     ]
    },
    {
     "name": "stderr",
     "output_type": "stream",
     "text": [
      "Processing reactions:  16%|██▉                | 119/759 [02:17<17:28,  1.64s/it]"
     ]
    },
    {
     "name": "stdout",
     "output_type": "stream",
     "text": [
      "\n",
      "Testing reaction: r1112\n",
      "Reaction r1112 knockout is safe.\n",
      "Added r1112 to the candidate removal list.\n",
      "Cumulative effect of r1112 is safe. Updated safe removal list.\n"
     ]
    },
    {
     "name": "stderr",
     "output_type": "stream",
     "text": [
      "Processing reactions:  16%|███                | 120/759 [02:18<17:24,  1.63s/it]"
     ]
    },
    {
     "name": "stdout",
     "output_type": "stream",
     "text": [
      "\n",
      "Testing reaction: ODECOAtcx\n",
      "Reaction ODECOAtcx knockout is safe.\n",
      "Added ODECOAtcx to the candidate removal list.\n",
      "Cumulative effect of ODECOAtcx is safe. Updated safe removal list.\n"
     ]
    },
    {
     "name": "stderr",
     "output_type": "stream",
     "text": [
      "Processing reactions:  16%|███                | 121/759 [02:20<17:46,  1.67s/it]"
     ]
    },
    {
     "name": "stdout",
     "output_type": "stream",
     "text": [
      "\n",
      "Testing reaction: HMR_6595\n",
      "Reaction HMR_6595 knockout is safe.\n",
      "Added HMR_6595 to the candidate removal list.\n",
      "Cumulative effect of HMR_6595 is safe. Updated safe removal list.\n"
     ]
    },
    {
     "name": "stderr",
     "output_type": "stream",
     "text": [
      "Processing reactions:  16%|███                | 122/759 [02:22<17:58,  1.69s/it]"
     ]
    },
    {
     "name": "stdout",
     "output_type": "stream",
     "text": [
      "\n",
      "Testing reaction: LINOFATPtc\n",
      "Reaction LINOFATPtc knockout is safe.\n",
      "Added LINOFATPtc to the candidate removal list.\n",
      "Cumulative effect of LINOFATPtc is safe. Updated safe removal list.\n"
     ]
    },
    {
     "name": "stderr",
     "output_type": "stream",
     "text": [
      "Processing reactions:  16%|███                | 123/759 [02:23<18:09,  1.71s/it]"
     ]
    },
    {
     "name": "stdout",
     "output_type": "stream",
     "text": [
      "\n",
      "Testing reaction: NDPK6\n",
      "Reaction NDPK6 knockout is safe.\n",
      "Added NDPK6 to the candidate removal list.\n",
      "Cumulative effect of NDPK6 is safe. Updated safe removal list.\n"
     ]
    },
    {
     "name": "stderr",
     "output_type": "stream",
     "text": [
      "Processing reactions:  16%|███                | 124/759 [02:25<18:12,  1.72s/it]"
     ]
    },
    {
     "name": "stdout",
     "output_type": "stream",
     "text": [
      "\n",
      "Testing reaction: FACOAL80x\n",
      "Reaction FACOAL80x knockout is safe.\n",
      "Added FACOAL80x to the candidate removal list.\n",
      "Cumulative effect of FACOAL80x is safe. Updated safe removal list.\n"
     ]
    },
    {
     "name": "stderr",
     "output_type": "stream",
     "text": [
      "Processing reactions:  16%|███▏               | 125/759 [02:27<17:54,  1.69s/it]"
     ]
    },
    {
     "name": "stdout",
     "output_type": "stream",
     "text": [
      "\n",
      "Testing reaction: HMR_3017\n",
      "Reaction HMR_3017 knockout is safe.\n",
      "Added HMR_3017 to the candidate removal list.\n",
      "Cumulative effect of HMR_3017 is safe. Updated safe removal list.\n"
     ]
    },
    {
     "name": "stderr",
     "output_type": "stream",
     "text": [
      "Processing reactions:  17%|███▏               | 126/759 [02:28<17:52,  1.69s/it]"
     ]
    },
    {
     "name": "stdout",
     "output_type": "stream",
     "text": [
      "\n",
      "Testing reaction: ANDRSTNDNte\n",
      "Reaction ANDRSTNDNte knockout is safe.\n",
      "Added ANDRSTNDNte to the candidate removal list.\n",
      "Cumulative effect of ANDRSTNDNte is safe. Updated safe removal list.\n"
     ]
    },
    {
     "name": "stderr",
     "output_type": "stream",
     "text": [
      "Processing reactions:  17%|███▏               | 127/759 [02:30<18:00,  1.71s/it]"
     ]
    },
    {
     "name": "stdout",
     "output_type": "stream",
     "text": [
      "\n",
      "Testing reaction: ANDRSTANDRte\n",
      "Reaction ANDRSTANDRte knockout is safe.\n",
      "Added ANDRSTANDRte to the candidate removal list.\n",
      "Cumulative effect of ANDRSTANDRte is safe. Updated safe removal list.\n"
     ]
    },
    {
     "name": "stderr",
     "output_type": "stream",
     "text": [
      "Processing reactions:  17%|███▏               | 128/759 [02:32<17:59,  1.71s/it]"
     ]
    },
    {
     "name": "stdout",
     "output_type": "stream",
     "text": [
      "\n",
      "Testing reaction: HMR_7656\n",
      "Reaction HMR_7656 knockout is safe.\n",
      "Added HMR_7656 to the candidate removal list.\n",
      "Cumulative effect of HMR_7656 is safe. Updated safe removal list.\n"
     ]
    },
    {
     "name": "stderr",
     "output_type": "stream",
     "text": [
      "Processing reactions:  17%|███▏               | 129/759 [02:34<18:06,  1.72s/it]"
     ]
    },
    {
     "name": "stdout",
     "output_type": "stream",
     "text": [
      "\n",
      "Testing reaction: TCDCA3Sabc\n",
      "Reaction TCDCA3Sabc knockout is safe.\n",
      "Added TCDCA3Sabc to the candidate removal list.\n",
      "Cumulative effect of TCDCA3Sabc is safe. Updated safe removal list.\n"
     ]
    },
    {
     "name": "stderr",
     "output_type": "stream",
     "text": [
      "Processing reactions:  17%|███▎               | 130/759 [02:35<18:02,  1.72s/it]"
     ]
    },
    {
     "name": "stdout",
     "output_type": "stream",
     "text": [
      "\n",
      "Testing reaction: RBTLP\n",
      "Reaction RBTLP knockout is safe.\n",
      "Added RBTLP to the candidate removal list.\n",
      "Cumulative effect of RBTLP is safe. Updated safe removal list.\n"
     ]
    },
    {
     "name": "stderr",
     "output_type": "stream",
     "text": [
      "Processing reactions:  17%|███▎               | 131/759 [02:37<17:43,  1.69s/it]"
     ]
    },
    {
     "name": "stdout",
     "output_type": "stream",
     "text": [
      "\n",
      "Testing reaction: PI4P5K\n",
      "Reaction PI4P5K knockout is safe.\n",
      "Added PI4P5K to the candidate removal list.\n",
      "Cumulative effect of PI4P5K is safe. Updated safe removal list.\n"
     ]
    },
    {
     "name": "stderr",
     "output_type": "stream",
     "text": [
      "Processing reactions:  17%|███▎               | 132/759 [02:39<17:44,  1.70s/it]"
     ]
    },
    {
     "name": "stdout",
     "output_type": "stream",
     "text": [
      "\n",
      "Testing reaction: XYLK\n",
      "Reaction XYLK knockout is safe.\n",
      "Added XYLK to the candidate removal list.\n",
      "Cumulative effect of XYLK is safe. Updated safe removal list.\n"
     ]
    },
    {
     "name": "stderr",
     "output_type": "stream",
     "text": [
      "Processing reactions:  18%|███▎               | 133/759 [02:41<17:58,  1.72s/it]"
     ]
    },
    {
     "name": "stdout",
     "output_type": "stream",
     "text": [
      "\n",
      "Testing reaction: ESTRSABCtc\n",
      "Reaction ESTRSABCtc knockout is safe.\n",
      "Added ESTRSABCtc to the candidate removal list.\n",
      "Cumulative effect of ESTRSABCtc is safe. Updated safe removal list.\n"
     ]
    },
    {
     "name": "stderr",
     "output_type": "stream",
     "text": [
      "Processing reactions:  18%|███▎               | 134/759 [02:42<18:06,  1.74s/it]"
     ]
    },
    {
     "name": "stdout",
     "output_type": "stream",
     "text": [
      "\n",
      "Testing reaction: HMR_0261\n",
      "Reaction HMR_0261 knockout is safe.\n",
      "Added HMR_0261 to the candidate removal list.\n",
      "Cumulative effect of HMR_0261 is safe. Updated safe removal list.\n"
     ]
    },
    {
     "name": "stderr",
     "output_type": "stream",
     "text": [
      "Processing reactions:  18%|███▍               | 135/759 [02:44<18:05,  1.74s/it]"
     ]
    },
    {
     "name": "stdout",
     "output_type": "stream",
     "text": [
      "\n",
      "Testing reaction: FACOAL1813\n",
      "Reaction FACOAL1813 knockout is safe.\n",
      "Added FACOAL1813 to the candidate removal list.\n",
      "Cumulative effect of FACOAL1813 is safe. Updated safe removal list.\n"
     ]
    },
    {
     "name": "stderr",
     "output_type": "stream",
     "text": [
      "Processing reactions:  18%|███▍               | 136/759 [02:46<18:16,  1.76s/it]"
     ]
    },
    {
     "name": "stdout",
     "output_type": "stream",
     "text": [
      "\n",
      "Testing reaction: FACOAL204x\n",
      "Reaction FACOAL204x knockout is safe.\n",
      "Added FACOAL204x to the candidate removal list.\n",
      "Cumulative effect of FACOAL204x is safe. Updated safe removal list.\n"
     ]
    },
    {
     "name": "stderr",
     "output_type": "stream",
     "text": [
      "Processing reactions:  18%|███▍               | 137/759 [02:48<18:28,  1.78s/it]"
     ]
    },
    {
     "name": "stdout",
     "output_type": "stream",
     "text": [
      "\n",
      "Testing reaction: r0860\n",
      "Reaction r0860 knockout is safe.\n",
      "Added r0860 to the candidate removal list.\n",
      "Cumulative effect of r0860 is safe. Updated safe removal list.\n"
     ]
    },
    {
     "name": "stderr",
     "output_type": "stream",
     "text": [
      "Processing reactions:  18%|███▍               | 138/759 [02:50<18:34,  1.79s/it]"
     ]
    },
    {
     "name": "stdout",
     "output_type": "stream",
     "text": [
      "\n",
      "Testing reaction: HMR_0321\n",
      "Reaction HMR_0321 knockout is safe.\n",
      "Added HMR_0321 to the candidate removal list.\n",
      "Cumulative effect of HMR_0321 is safe. Updated safe removal list.\n"
     ]
    },
    {
     "name": "stderr",
     "output_type": "stream",
     "text": [
      "Processing reactions:  18%|███▍               | 139/759 [02:51<18:26,  1.78s/it]"
     ]
    },
    {
     "name": "stdout",
     "output_type": "stream",
     "text": [
      "\n",
      "Testing reaction: r0578\n",
      "Reaction r0578 knockout is safe.\n",
      "Added r0578 to the candidate removal list.\n",
      "Cumulative effect of r0578 is safe. Updated safe removal list.\n"
     ]
    },
    {
     "name": "stderr",
     "output_type": "stream",
     "text": [
      "Processing reactions:  18%|███▌               | 140/759 [02:53<18:12,  1.76s/it]"
     ]
    },
    {
     "name": "stdout",
     "output_type": "stream",
     "text": [
      "\n",
      "Testing reaction: NNATn\n",
      "Reaction NNATn knockout is safe.\n",
      "Added NNATn to the candidate removal list.\n",
      "Cumulative effect of NNATn is safe. Updated safe removal list.\n"
     ]
    },
    {
     "name": "stderr",
     "output_type": "stream",
     "text": [
      "Processing reactions:  19%|███▌               | 141/759 [02:55<18:35,  1.81s/it]"
     ]
    },
    {
     "name": "stdout",
     "output_type": "stream",
     "text": [
      "\n",
      "Testing reaction: ATAn\n",
      "Reaction ATAn knockout is safe.\n",
      "Added ATAn to the candidate removal list.\n",
      "Cumulative effect of ATAn is safe. Updated safe removal list.\n"
     ]
    },
    {
     "name": "stderr",
     "output_type": "stream",
     "text": [
      "Processing reactions:  19%|███▌               | 142/759 [02:57<18:43,  1.82s/it]"
     ]
    },
    {
     "name": "stdout",
     "output_type": "stream",
     "text": [
      "\n",
      "Testing reaction: ACCOAL\n",
      "Reaction ACCOAL knockout is safe.\n",
      "Added ACCOAL to the candidate removal list.\n",
      "Cumulative effect of ACCOAL is safe. Updated safe removal list.\n"
     ]
    },
    {
     "name": "stderr",
     "output_type": "stream",
     "text": [
      "Processing reactions:  19%|███▌               | 143/759 [02:59<18:33,  1.81s/it]"
     ]
    },
    {
     "name": "stdout",
     "output_type": "stream",
     "text": [
      "\n",
      "Testing reaction: DPMVDx\n",
      "Reaction DPMVDx knockout is safe.\n",
      "Added DPMVDx to the candidate removal list.\n",
      "Cumulative effect of DPMVDx is safe. Updated safe removal list.\n"
     ]
    },
    {
     "name": "stderr",
     "output_type": "stream",
     "text": [
      "Processing reactions:  19%|███▌               | 144/759 [03:00<18:35,  1.81s/it]"
     ]
    },
    {
     "name": "stdout",
     "output_type": "stream",
     "text": [
      "\n",
      "Testing reaction: CE2209te\n",
      "Reaction CE2209te knockout is safe.\n",
      "Added CE2209te to the candidate removal list.\n",
      "Cumulative effect of CE2209te is safe. Updated safe removal list.\n"
     ]
    },
    {
     "name": "stderr",
     "output_type": "stream",
     "text": [
      "Processing reactions:  19%|███▋               | 145/759 [03:02<18:44,  1.83s/it]"
     ]
    },
    {
     "name": "stdout",
     "output_type": "stream",
     "text": [
      "\n",
      "Testing reaction: HMR_0241\n",
      "Reaction HMR_0241 knockout is safe.\n",
      "Added HMR_0241 to the candidate removal list.\n",
      "Cumulative effect of HMR_0241 is safe. Updated safe removal list.\n"
     ]
    },
    {
     "name": "stderr",
     "output_type": "stream",
     "text": [
      "Processing reactions:  19%|███▋               | 146/759 [03:04<18:56,  1.85s/it]"
     ]
    },
    {
     "name": "stdout",
     "output_type": "stream",
     "text": [
      "\n",
      "Testing reaction: HMR_0367\n",
      "Reaction HMR_0367 knockout is safe.\n",
      "Added HMR_0367 to the candidate removal list.\n",
      "Cumulative effect of HMR_0367 is safe. Updated safe removal list.\n"
     ]
    },
    {
     "name": "stderr",
     "output_type": "stream",
     "text": [
      "Processing reactions:  19%|███▋               | 147/759 [03:06<18:54,  1.85s/it]"
     ]
    },
    {
     "name": "stdout",
     "output_type": "stream",
     "text": [
      "\n",
      "Testing reaction: r1162\n",
      "Reaction r1162 knockout is safe.\n",
      "Added r1162 to the candidate removal list.\n",
      "Cumulative effect of r1162 is safe. Updated safe removal list.\n"
     ]
    },
    {
     "name": "stderr",
     "output_type": "stream",
     "text": [
      "Processing reactions:  19%|███▋               | 148/759 [03:08<18:52,  1.85s/it]"
     ]
    },
    {
     "name": "stdout",
     "output_type": "stream",
     "text": [
      "\n",
      "Testing reaction: CE5025t\n",
      "Reaction CE5025t knockout is safe.\n",
      "Added CE5025t to the candidate removal list.\n",
      "Cumulative effect of CE5025t is safe. Updated safe removal list.\n"
     ]
    },
    {
     "name": "stderr",
     "output_type": "stream",
     "text": [
      "Processing reactions:  20%|███▋               | 149/759 [03:10<18:54,  1.86s/it]"
     ]
    },
    {
     "name": "stdout",
     "output_type": "stream",
     "text": [
      "\n",
      "Testing reaction: ADNCYC\n",
      "Reaction ADNCYC knockout is safe.\n",
      "Added ADNCYC to the candidate removal list.\n",
      "Cumulative effect of ADNCYC is safe. Updated safe removal list.\n"
     ]
    },
    {
     "name": "stderr",
     "output_type": "stream",
     "text": [
      "Processing reactions:  20%|███▊               | 150/759 [03:12<18:49,  1.85s/it]"
     ]
    },
    {
     "name": "stdout",
     "output_type": "stream",
     "text": [
      "\n",
      "Testing reaction: HMR_2983\n",
      "Reaction HMR_2983 knockout is safe.\n",
      "Added HMR_2983 to the candidate removal list.\n",
      "Cumulative effect of HMR_2983 is safe. Updated safe removal list.\n"
     ]
    },
    {
     "name": "stderr",
     "output_type": "stream",
     "text": [
      "Processing reactions:  20%|███▊               | 151/759 [03:13<18:57,  1.87s/it]"
     ]
    },
    {
     "name": "stdout",
     "output_type": "stream",
     "text": [
      "\n",
      "Testing reaction: CHSTEROLtg\n",
      "Reaction CHSTEROLtg knockout is safe.\n",
      "Added CHSTEROLtg to the candidate removal list.\n",
      "Cumulative effect of CHSTEROLtg is safe. Updated safe removal list.\n"
     ]
    },
    {
     "name": "stderr",
     "output_type": "stream",
     "text": [
      "Processing reactions:  20%|███▊               | 152/759 [03:16<20:23,  2.02s/it]"
     ]
    },
    {
     "name": "stdout",
     "output_type": "stream",
     "text": [
      "\n",
      "Testing reaction: HMR_0437\n",
      "Reaction HMR_0437 knockout is safe.\n",
      "Added HMR_0437 to the candidate removal list.\n",
      "Cumulative effect of HMR_0437 is safe. Updated safe removal list.\n"
     ]
    },
    {
     "name": "stderr",
     "output_type": "stream",
     "text": [
      "Processing reactions:  20%|███▊               | 153/759 [03:18<20:04,  1.99s/it]"
     ]
    },
    {
     "name": "stdout",
     "output_type": "stream",
     "text": [
      "\n",
      "Testing reaction: SPHK21c\n",
      "Reaction SPHK21c knockout is safe.\n",
      "Added SPHK21c to the candidate removal list.\n",
      "Cumulative effect of SPHK21c is safe. Updated safe removal list.\n"
     ]
    },
    {
     "name": "stderr",
     "output_type": "stream",
     "text": [
      "Processing reactions:  20%|███▊               | 154/759 [03:20<19:35,  1.94s/it]"
     ]
    },
    {
     "name": "stdout",
     "output_type": "stream",
     "text": [
      "\n",
      "Testing reaction: XOL7AH3ATP\n",
      "Reaction XOL7AH3ATP knockout is safe.\n",
      "Added XOL7AH3ATP to the candidate removal list.\n",
      "Cumulative effect of XOL7AH3ATP is safe. Updated safe removal list.\n"
     ]
    },
    {
     "name": "stderr",
     "output_type": "stream",
     "text": [
      "Processing reactions:  20%|███▉               | 155/759 [03:22<19:33,  1.94s/it]"
     ]
    },
    {
     "name": "stdout",
     "output_type": "stream",
     "text": [
      "\n",
      "Testing reaction: TDCA3Sabc\n",
      "Reaction TDCA3Sabc knockout is safe.\n",
      "Added TDCA3Sabc to the candidate removal list.\n",
      "Cumulative effect of TDCA3Sabc is safe. Updated safe removal list.\n"
     ]
    },
    {
     "name": "stderr",
     "output_type": "stream",
     "text": [
      "Processing reactions:  21%|███▉               | 156/759 [03:23<19:22,  1.93s/it]"
     ]
    },
    {
     "name": "stdout",
     "output_type": "stream",
     "text": [
      "\n",
      "Testing reaction: r0993\n",
      "Reaction r0993 knockout is safe.\n",
      "Added r0993 to the candidate removal list.\n",
      "Cumulative effect of r0993 is safe. Updated safe removal list.\n"
     ]
    },
    {
     "name": "stderr",
     "output_type": "stream",
     "text": [
      "Processing reactions:  21%|███▉               | 157/759 [03:25<19:06,  1.90s/it]"
     ]
    },
    {
     "name": "stdout",
     "output_type": "stream",
     "text": [
      "\n",
      "Testing reaction: CDCA3Gte\n",
      "Reaction CDCA3Gte knockout is safe.\n",
      "Added CDCA3Gte to the candidate removal list.\n",
      "Cumulative effect of CDCA3Gte is safe. Updated safe removal list.\n"
     ]
    },
    {
     "name": "stderr",
     "output_type": "stream",
     "text": [
      "Processing reactions:  21%|███▉               | 158/759 [03:27<19:05,  1.91s/it]"
     ]
    },
    {
     "name": "stdout",
     "output_type": "stream",
     "text": [
      "\n",
      "Testing reaction: HMR_0289\n",
      "Reaction HMR_0289 knockout is safe.\n",
      "Added HMR_0289 to the candidate removal list.\n",
      "Cumulative effect of HMR_0289 is safe. Updated safe removal list.\n"
     ]
    },
    {
     "name": "stderr",
     "output_type": "stream",
     "text": [
      "Processing reactions:  21%|███▉               | 159/759 [03:29<19:08,  1.91s/it]"
     ]
    },
    {
     "name": "stdout",
     "output_type": "stream",
     "text": [
      "\n",
      "Testing reaction: FACOAL184x\n",
      "Reaction FACOAL184x knockout is safe.\n",
      "Added FACOAL184x to the candidate removal list.\n",
      "Cumulative effect of FACOAL184x is safe. Updated safe removal list.\n"
     ]
    },
    {
     "name": "stderr",
     "output_type": "stream",
     "text": [
      "Processing reactions:  21%|████               | 160/759 [03:31<18:59,  1.90s/it]"
     ]
    },
    {
     "name": "stdout",
     "output_type": "stream",
     "text": [
      "\n",
      "Testing reaction: GABAVESSEC\n",
      "Reaction GABAVESSEC knockout is safe.\n",
      "Added GABAVESSEC to the candidate removal list.\n",
      "Cumulative effect of GABAVESSEC is safe. Updated safe removal list.\n"
     ]
    },
    {
     "name": "stderr",
     "output_type": "stream",
     "text": [
      "Processing reactions:  21%|████               | 161/759 [03:33<19:19,  1.94s/it]"
     ]
    },
    {
     "name": "stdout",
     "output_type": "stream",
     "text": [
      "\n",
      "Testing reaction: FACOAL245_1\n",
      "Reaction FACOAL245_1 knockout is safe.\n",
      "Added FACOAL245_1 to the candidate removal list.\n",
      "Cumulative effect of FACOAL245_1 is safe. Updated safe removal list.\n"
     ]
    },
    {
     "name": "stderr",
     "output_type": "stream",
     "text": [
      "Processing reactions:  21%|████               | 162/759 [03:35<19:48,  1.99s/it]"
     ]
    },
    {
     "name": "stdout",
     "output_type": "stream",
     "text": [
      "\n",
      "Testing reaction: CE1352te\n",
      "Reaction CE1352te knockout is safe.\n",
      "Added CE1352te to the candidate removal list.\n",
      "Cumulative effect of CE1352te is safe. Updated safe removal list.\n"
     ]
    },
    {
     "name": "stderr",
     "output_type": "stream",
     "text": [
      "Processing reactions:  21%|████               | 163/759 [03:37<20:01,  2.02s/it]"
     ]
    },
    {
     "name": "stdout",
     "output_type": "stream",
     "text": [
      "\n",
      "Testing reaction: r2501\n",
      "Reaction r2501 knockout is safe.\n",
      "Added r2501 to the candidate removal list.\n",
      "Cumulative effect of r2501 is safe. Updated safe removal list.\n"
     ]
    },
    {
     "name": "stderr",
     "output_type": "stream",
     "text": [
      "Processing reactions:  22%|████               | 164/759 [03:39<20:13,  2.04s/it]"
     ]
    },
    {
     "name": "stdout",
     "output_type": "stream",
     "text": [
      "\n",
      "Testing reaction: RE1514M\n",
      "Reaction RE1514M knockout is safe.\n",
      "Added RE1514M to the candidate removal list.\n",
      "Cumulative effect of RE1514M is safe. Updated safe removal list.\n"
     ]
    },
    {
     "name": "stderr",
     "output_type": "stream",
     "text": [
      "Processing reactions:  22%|████▏              | 165/759 [03:41<20:07,  2.03s/it]"
     ]
    },
    {
     "name": "stdout",
     "output_type": "stream",
     "text": [
      "\n",
      "Testing reaction: HMR_0327\n",
      "Reaction HMR_0327 knockout is safe.\n",
      "Added HMR_0327 to the candidate removal list.\n",
      "Cumulative effect of HMR_0327 is safe. Updated safe removal list.\n"
     ]
    },
    {
     "name": "stderr",
     "output_type": "stream",
     "text": [
      "Processing reactions:  22%|████▏              | 166/759 [03:43<20:23,  2.06s/it]"
     ]
    },
    {
     "name": "stdout",
     "output_type": "stream",
     "text": [
      "\n",
      "Testing reaction: r1333\n",
      "Reaction r1333 knockout is safe.\n",
      "Added r1333 to the candidate removal list.\n",
      "Cumulative effect of r1333 is safe. Updated safe removal list.\n"
     ]
    },
    {
     "name": "stderr",
     "output_type": "stream",
     "text": [
      "Processing reactions:  22%|████▏              | 167/759 [03:45<20:05,  2.04s/it]"
     ]
    },
    {
     "name": "stdout",
     "output_type": "stream",
     "text": [
      "\n",
      "Testing reaction: 5HTRPVESSEC\n",
      "Reaction 5HTRPVESSEC knockout is safe.\n",
      "Added 5HTRPVESSEC to the candidate removal list.\n",
      "Cumulative effect of 5HTRPVESSEC is safe. Updated safe removal list.\n"
     ]
    },
    {
     "name": "stderr",
     "output_type": "stream",
     "text": [
      "Processing reactions:  22%|████▏              | 168/759 [03:47<20:00,  2.03s/it]"
     ]
    },
    {
     "name": "stdout",
     "output_type": "stream",
     "text": [
      "\n",
      "Testing reaction: PI34P5K\n",
      "Reaction PI34P5K knockout is safe.\n",
      "Added PI34P5K to the candidate removal list.\n",
      "Cumulative effect of PI34P5K is safe. Updated safe removal list.\n"
     ]
    },
    {
     "name": "stderr",
     "output_type": "stream",
     "text": [
      "Processing reactions:  22%|████▏              | 169/759 [03:50<20:14,  2.06s/it]"
     ]
    },
    {
     "name": "stdout",
     "output_type": "stream",
     "text": [
      "\n",
      "Testing reaction: DHEASABCCte\n",
      "Reaction DHEASABCCte knockout is safe.\n",
      "Added DHEASABCCte to the candidate removal list.\n",
      "Cumulative effect of DHEASABCCte is safe. Updated safe removal list.\n"
     ]
    },
    {
     "name": "stderr",
     "output_type": "stream",
     "text": [
      "Processing reactions:  22%|████▎              | 170/759 [03:52<20:13,  2.06s/it]"
     ]
    },
    {
     "name": "stdout",
     "output_type": "stream",
     "text": [
      "\n",
      "Testing reaction: r1532\n",
      "Reaction r1532 knockout is safe.\n",
      "Added r1532 to the candidate removal list.\n",
      "Cumulative effect of r1532 is safe. Updated safe removal list.\n"
     ]
    },
    {
     "name": "stderr",
     "output_type": "stream",
     "text": [
      "Processing reactions:  23%|████▎              | 171/759 [03:54<20:35,  2.10s/it]"
     ]
    },
    {
     "name": "stdout",
     "output_type": "stream",
     "text": [
      "\n",
      "Testing reaction: r0034\n",
      "Reaction r0034 knockout is safe.\n",
      "Added r0034 to the candidate removal list.\n",
      "Cumulative effect of r0034 is safe. Updated safe removal list.\n"
     ]
    },
    {
     "name": "stderr",
     "output_type": "stream",
     "text": [
      "Processing reactions:  23%|████▎              | 172/759 [03:56<20:32,  2.10s/it]"
     ]
    },
    {
     "name": "stdout",
     "output_type": "stream",
     "text": [
      "\n",
      "Testing reaction: UMPK\n",
      "Reaction UMPK knockout is safe.\n",
      "Added UMPK to the candidate removal list.\n",
      "Cumulative effect of UMPK is safe. Updated safe removal list.\n"
     ]
    },
    {
     "name": "stderr",
     "output_type": "stream",
     "text": [
      "Processing reactions:  23%|████▎              | 173/759 [03:58<20:25,  2.09s/it]"
     ]
    },
    {
     "name": "stdout",
     "output_type": "stream",
     "text": [
      "\n",
      "Testing reaction: GCHOLAt3\n",
      "Reaction GCHOLAt3 knockout is safe.\n",
      "Added GCHOLAt3 to the candidate removal list.\n",
      "Cumulative effect of GCHOLAt3 is safe. Updated safe removal list.\n"
     ]
    },
    {
     "name": "stderr",
     "output_type": "stream",
     "text": [
      "Processing reactions:  23%|████▎              | 174/759 [04:00<20:12,  2.07s/it]"
     ]
    },
    {
     "name": "stdout",
     "output_type": "stream",
     "text": [
      "\n",
      "Testing reaction: ARGSS\n",
      "Reaction ARGSS knockout is safe.\n",
      "Added ARGSS to the candidate removal list.\n",
      "Cumulative effect of ARGSS is safe. Updated safe removal list.\n"
     ]
    },
    {
     "name": "stderr",
     "output_type": "stream",
     "text": [
      "Processing reactions:  23%|████▍              | 175/759 [04:02<20:14,  2.08s/it]"
     ]
    },
    {
     "name": "stdout",
     "output_type": "stream",
     "text": [
      "\n",
      "Testing reaction: r1352\n",
      "Reaction r1352 knockout is safe.\n",
      "Added r1352 to the candidate removal list.\n",
      "Cumulative effect of r1352 is safe. Updated safe removal list.\n"
     ]
    },
    {
     "name": "stderr",
     "output_type": "stream",
     "text": [
      "Processing reactions:  23%|████▍              | 176/759 [04:04<20:36,  2.12s/it]"
     ]
    },
    {
     "name": "stdout",
     "output_type": "stream",
     "text": [
      "\n",
      "Testing reaction: PGLYCABCte\n",
      "Reaction PGLYCABCte knockout is safe.\n",
      "Added PGLYCABCte to the candidate removal list.\n",
      "Cumulative effect of PGLYCABCte is safe. Updated safe removal list.\n"
     ]
    },
    {
     "name": "stderr",
     "output_type": "stream",
     "text": [
      "Processing reactions:  23%|████▍              | 177/759 [04:06<20:40,  2.13s/it]"
     ]
    },
    {
     "name": "stdout",
     "output_type": "stream",
     "text": [
      "\n",
      "Testing reaction: HMR_0194\n",
      "Reaction HMR_0194 knockout is safe.\n",
      "Added HMR_0194 to the candidate removal list.\n",
      "Cumulative effect of HMR_0194 is safe. Updated safe removal list.\n"
     ]
    },
    {
     "name": "stderr",
     "output_type": "stream",
     "text": [
      "Processing reactions:  23%|████▍              | 178/759 [04:09<20:35,  2.13s/it]"
     ]
    },
    {
     "name": "stdout",
     "output_type": "stream",
     "text": [
      "\n",
      "Testing reaction: FACOAL80im\n",
      "Reaction FACOAL80im knockout is safe.\n",
      "Added FACOAL80im to the candidate removal list.\n",
      "Cumulative effect of FACOAL80im is safe. Updated safe removal list.\n"
     ]
    },
    {
     "name": "stderr",
     "output_type": "stream",
     "text": [
      "Processing reactions:  24%|████▍              | 179/759 [04:11<20:30,  2.12s/it]"
     ]
    },
    {
     "name": "stdout",
     "output_type": "stream",
     "text": [
      "\n",
      "Testing reaction: HMR_0317\n",
      "Reaction HMR_0317 knockout is safe.\n",
      "Added HMR_0317 to the candidate removal list.\n",
      "Cumulative effect of HMR_0317 is safe. Updated safe removal list.\n"
     ]
    },
    {
     "name": "stderr",
     "output_type": "stream",
     "text": [
      "Processing reactions:  24%|████▌              | 180/759 [04:13<20:35,  2.13s/it]"
     ]
    },
    {
     "name": "stdout",
     "output_type": "stream",
     "text": [
      "\n",
      "Testing reaction: CE1297t\n",
      "Reaction CE1297t knockout is safe.\n",
      "Added CE1297t to the candidate removal list.\n",
      "Cumulative effect of CE1297t is safe. Updated safe removal list.\n"
     ]
    },
    {
     "name": "stderr",
     "output_type": "stream",
     "text": [
      "Processing reactions:  24%|████▌              | 181/759 [04:15<20:43,  2.15s/it]"
     ]
    },
    {
     "name": "stdout",
     "output_type": "stream",
     "text": [
      "\n",
      "Testing reaction: HMR_4278\n",
      "Reaction HMR_4278 knockout is safe.\n",
      "Added HMR_4278 to the candidate removal list.\n",
      "Cumulative effect of HMR_4278 is safe. Updated safe removal list.\n"
     ]
    },
    {
     "name": "stderr",
     "output_type": "stream",
     "text": [
      "Processing reactions:  24%|████▌              | 182/759 [04:17<20:32,  2.14s/it]"
     ]
    },
    {
     "name": "stdout",
     "output_type": "stream",
     "text": [
      "\n",
      "Testing reaction: FAOXC16Brx\n",
      "Reaction FAOXC16Brx knockout is safe.\n",
      "Added FAOXC16Brx to the candidate removal list.\n",
      "Cumulative effect of FAOXC16Brx is safe. Updated safe removal list.\n"
     ]
    },
    {
     "name": "stderr",
     "output_type": "stream",
     "text": [
      "Processing reactions:  24%|████▌              | 183/759 [04:19<21:03,  2.19s/it]"
     ]
    },
    {
     "name": "stdout",
     "output_type": "stream",
     "text": [
      "\n",
      "Testing reaction: FACOAL100i\n",
      "Reaction FACOAL100i knockout is safe.\n",
      "Added FACOAL100i to the candidate removal list.\n",
      "Cumulative effect of FACOAL100i is safe. Updated safe removal list.\n"
     ]
    },
    {
     "name": "stderr",
     "output_type": "stream",
     "text": [
      "Processing reactions:  24%|████▌              | 184/759 [04:22<21:36,  2.26s/it]"
     ]
    },
    {
     "name": "stdout",
     "output_type": "stream",
     "text": [
      "\n",
      "Testing reaction: HMR_2980\n",
      "Reaction HMR_2980 knockout is safe.\n",
      "Added HMR_2980 to the candidate removal list.\n",
      "Cumulative effect of HMR_2980 is safe. Updated safe removal list.\n"
     ]
    },
    {
     "name": "stderr",
     "output_type": "stream",
     "text": [
      "Processing reactions:  24%|████▋              | 185/759 [04:24<21:06,  2.21s/it]"
     ]
    },
    {
     "name": "stdout",
     "output_type": "stream",
     "text": [
      "\n",
      "Testing reaction: HMR_2955\n",
      "Reaction HMR_2955 knockout is safe.\n",
      "Added HMR_2955 to the candidate removal list.\n",
      "Cumulative effect of HMR_2955 is safe. Updated safe removal list.\n"
     ]
    },
    {
     "name": "stderr",
     "output_type": "stream",
     "text": [
      "Processing reactions:  25%|████▋              | 186/759 [04:26<20:54,  2.19s/it]"
     ]
    },
    {
     "name": "stdout",
     "output_type": "stream",
     "text": [
      "\n",
      "Testing reaction: NDPK9\n",
      "Reaction NDPK9 knockout is safe.\n",
      "Added NDPK9 to the candidate removal list.\n",
      "Cumulative effect of NDPK9 is safe. Updated safe removal list.\n"
     ]
    },
    {
     "name": "stderr",
     "output_type": "stream",
     "text": [
      "Processing reactions:  25%|████▋              | 187/759 [04:28<21:17,  2.23s/it]"
     ]
    },
    {
     "name": "stdout",
     "output_type": "stream",
     "text": [
      "\n",
      "Testing reaction: ACGAMK\n",
      "Reaction ACGAMK knockout is safe.\n",
      "Added ACGAMK to the candidate removal list.\n",
      "Cumulative effect of ACGAMK is safe. Updated safe removal list.\n"
     ]
    },
    {
     "name": "stderr",
     "output_type": "stream",
     "text": [
      "Processing reactions:  25%|████▋              | 188/759 [04:31<21:11,  2.23s/it]"
     ]
    },
    {
     "name": "stdout",
     "output_type": "stream",
     "text": [
      "\n",
      "Testing reaction: ATPtn\n",
      "Reaction ATPtn knockout is safe.\n",
      "Added ATPtn to the candidate removal list.\n",
      "Cumulative effect of ATPtn is safe. Updated safe removal list.\n"
     ]
    },
    {
     "name": "stderr",
     "output_type": "stream",
     "text": [
      "Processing reactions:  25%|████▋              | 189/759 [04:33<21:00,  2.21s/it]"
     ]
    },
    {
     "name": "stdout",
     "output_type": "stream",
     "text": [
      "\n",
      "Testing reaction: RTOTAL2FATPc\n",
      "Reaction RTOTAL2FATPc knockout is safe.\n",
      "Added RTOTAL2FATPc to the candidate removal list.\n",
      "Cumulative effect of RTOTAL2FATPc is safe. Updated safe removal list.\n"
     ]
    },
    {
     "name": "stderr",
     "output_type": "stream",
     "text": [
      "Processing reactions:  25%|████▊              | 190/759 [04:35<21:28,  2.26s/it]"
     ]
    },
    {
     "name": "stdout",
     "output_type": "stream",
     "text": [
      "\n",
      "Testing reaction: HMR_2964\n",
      "Reaction HMR_2964 knockout is safe.\n",
      "Added HMR_2964 to the candidate removal list.\n",
      "Cumulative effect of HMR_2964 is safe. Updated safe removal list.\n"
     ]
    },
    {
     "name": "stderr",
     "output_type": "stream",
     "text": [
      "Processing reactions:  25%|████▊              | 191/759 [04:37<21:03,  2.22s/it]"
     ]
    },
    {
     "name": "stdout",
     "output_type": "stream",
     "text": [
      "\n",
      "Testing reaction: NDPK4\n",
      "Reaction NDPK4 knockout is safe.\n",
      "Added NDPK4 to the candidate removal list.\n",
      "Cumulative effect of NDPK4 is safe. Updated safe removal list.\n"
     ]
    },
    {
     "name": "stderr",
     "output_type": "stream",
     "text": [
      "Processing reactions:  25%|████▊              | 192/759 [04:39<20:36,  2.18s/it]"
     ]
    },
    {
     "name": "stdout",
     "output_type": "stream",
     "text": [
      "\n",
      "Testing reaction: HMR_7652\n",
      "Reaction HMR_7652 knockout is safe.\n",
      "Added HMR_7652 to the candidate removal list.\n",
      "Cumulative effect of HMR_7652 is safe. Updated safe removal list.\n"
     ]
    },
    {
     "name": "stderr",
     "output_type": "stream",
     "text": [
      "Processing reactions:  25%|████▊              | 193/759 [04:42<20:40,  2.19s/it]"
     ]
    },
    {
     "name": "stdout",
     "output_type": "stream",
     "text": [
      "\n",
      "Testing reaction: RE1441R\n",
      "Reaction RE1441R knockout is safe.\n",
      "Added RE1441R to the candidate removal list.\n",
      "Cumulative effect of RE1441R is safe. Updated safe removal list.\n"
     ]
    },
    {
     "name": "stderr",
     "output_type": "stream",
     "text": [
      "Processing reactions:  26%|████▊              | 194/759 [04:44<20:39,  2.19s/it]"
     ]
    },
    {
     "name": "stdout",
     "output_type": "stream",
     "text": [
      "\n",
      "Testing reaction: RETABCtc\n",
      "Reaction RETABCtc knockout is safe.\n",
      "Added RETABCtc to the candidate removal list.\n",
      "Cumulative effect of RETABCtc is safe. Updated safe removal list.\n"
     ]
    },
    {
     "name": "stderr",
     "output_type": "stream",
     "text": [
      "Processing reactions:  26%|████▉              | 195/759 [04:46<20:49,  2.22s/it]"
     ]
    },
    {
     "name": "stdout",
     "output_type": "stream",
     "text": [
      "\n",
      "Testing reaction: RE3114R\n",
      "Reaction RE3114R knockout is safe.\n",
      "Added RE3114R to the candidate removal list.\n",
      "Cumulative effect of RE3114R is safe. Updated safe removal list.\n"
     ]
    },
    {
     "name": "stderr",
     "output_type": "stream",
     "text": [
      "Processing reactions:  26%|████▉              | 196/759 [04:48<21:00,  2.24s/it]"
     ]
    },
    {
     "name": "stdout",
     "output_type": "stream",
     "text": [
      "\n",
      "Testing reaction: FPGS3m\n",
      "Reaction FPGS3m knockout is safe.\n",
      "Added FPGS3m to the candidate removal list.\n",
      "Cumulative effect of FPGS3m is safe. Updated safe removal list.\n"
     ]
    },
    {
     "name": "stderr",
     "output_type": "stream",
     "text": [
      "Processing reactions:  26%|████▉              | 197/759 [04:51<21:04,  2.25s/it]"
     ]
    },
    {
     "name": "stdout",
     "output_type": "stream",
     "text": [
      "\n",
      "Testing reaction: FACOAL140x\n",
      "Reaction FACOAL140x knockout is safe.\n",
      "Added FACOAL140x to the candidate removal list.\n",
      "Cumulative effect of FACOAL140x is safe. Updated safe removal list.\n"
     ]
    },
    {
     "name": "stderr",
     "output_type": "stream",
     "text": [
      "Processing reactions:  26%|████▉              | 198/759 [04:53<21:00,  2.25s/it]"
     ]
    },
    {
     "name": "stdout",
     "output_type": "stream",
     "text": [
      "\n",
      "Testing reaction: HMR_0255\n",
      "Reaction HMR_0255 knockout is safe.\n",
      "Added HMR_0255 to the candidate removal list.\n",
      "Cumulative effect of HMR_0255 is safe. Updated safe removal list.\n"
     ]
    },
    {
     "name": "stderr",
     "output_type": "stream",
     "text": [
      "Processing reactions:  26%|████▉              | 199/759 [04:55<21:07,  2.26s/it]"
     ]
    },
    {
     "name": "stdout",
     "output_type": "stream",
     "text": [
      "\n",
      "Testing reaction: PI5P3K\n",
      "Reaction PI5P3K knockout is safe.\n",
      "Added PI5P3K to the candidate removal list.\n",
      "Cumulative effect of PI5P3K is safe. Updated safe removal list.\n"
     ]
    },
    {
     "name": "stderr",
     "output_type": "stream",
     "text": [
      "Processing reactions:  26%|█████              | 200/759 [04:58<21:23,  2.30s/it]"
     ]
    },
    {
     "name": "stdout",
     "output_type": "stream",
     "text": [
      "\n",
      "Testing reaction: HMR_2946\n",
      "Reaction HMR_2946 knockout is safe.\n",
      "Added HMR_2946 to the candidate removal list.\n",
      "Cumulative effect of HMR_2946 is safe. Updated safe removal list.\n"
     ]
    },
    {
     "name": "stderr",
     "output_type": "stream",
     "text": [
      "Processing reactions:  26%|█████              | 201/759 [05:00<21:05,  2.27s/it]"
     ]
    },
    {
     "name": "stdout",
     "output_type": "stream",
     "text": [
      "\n",
      "Testing reaction: DNDPt44m\n",
      "Reaction DNDPt44m knockout is safe.\n",
      "Added DNDPt44m to the candidate removal list.\n",
      "Cumulative effect of DNDPt44m is safe. Updated safe removal list.\n"
     ]
    },
    {
     "name": "stderr",
     "output_type": "stream",
     "text": [
      "Processing reactions:  27%|█████              | 202/759 [05:02<20:44,  2.23s/it]"
     ]
    },
    {
     "name": "stdout",
     "output_type": "stream",
     "text": [
      "\n",
      "Testing reaction: URIK1\n",
      "Reaction URIK1 knockout is safe.\n",
      "Added URIK1 to the candidate removal list.\n",
      "Cumulative effect of URIK1 is safe. Updated safe removal list.\n"
     ]
    },
    {
     "name": "stderr",
     "output_type": "stream",
     "text": [
      "Processing reactions:  27%|█████              | 203/759 [05:04<20:48,  2.25s/it]"
     ]
    },
    {
     "name": "stdout",
     "output_type": "stream",
     "text": [
      "\n",
      "Testing reaction: FPGS6\n",
      "Reaction FPGS6 knockout is safe.\n",
      "Added FPGS6 to the candidate removal list.\n",
      "Cumulative effect of FPGS6 is safe. Updated safe removal list.\n"
     ]
    },
    {
     "name": "stderr",
     "output_type": "stream",
     "text": [
      "Processing reactions:  27%|█████              | 204/759 [05:07<20:58,  2.27s/it]"
     ]
    },
    {
     "name": "stdout",
     "output_type": "stream",
     "text": [
      "\n",
      "Testing reaction: r1345\n",
      "Reaction r1345 knockout is safe.\n",
      "Added r1345 to the candidate removal list.\n",
      "Cumulative effect of r1345 is safe. Updated safe removal list.\n"
     ]
    },
    {
     "name": "stderr",
     "output_type": "stream",
     "text": [
      "Processing reactions:  27%|█████▏             | 205/759 [05:09<21:14,  2.30s/it]"
     ]
    },
    {
     "name": "stdout",
     "output_type": "stream",
     "text": [
      "\n",
      "Testing reaction: NAXE2\n",
      "Reaction NAXE2 knockout is safe.\n",
      "Added NAXE2 to the candidate removal list.\n",
      "Cumulative effect of NAXE2 is safe. Updated safe removal list.\n"
     ]
    },
    {
     "name": "stderr",
     "output_type": "stream",
     "text": [
      "Processing reactions:  27%|█████▏             | 206/759 [05:11<21:16,  2.31s/it]"
     ]
    },
    {
     "name": "stdout",
     "output_type": "stream",
     "text": [
      "\n",
      "Testing reaction: POMKr\n",
      "Reaction POMKr knockout is safe.\n",
      "Added POMKr to the candidate removal list.\n",
      "Cumulative effect of POMKr is safe. Updated safe removal list.\n"
     ]
    },
    {
     "name": "stderr",
     "output_type": "stream",
     "text": [
      "Processing reactions:  27%|█████▏             | 207/759 [05:14<21:19,  2.32s/it]"
     ]
    },
    {
     "name": "stdout",
     "output_type": "stream",
     "text": [
      "\n",
      "Testing reaction: FPGS7\n",
      "Reaction FPGS7 knockout is safe.\n",
      "Added FPGS7 to the candidate removal list.\n",
      "Cumulative effect of FPGS7 is safe. Updated safe removal list.\n"
     ]
    },
    {
     "name": "stderr",
     "output_type": "stream",
     "text": [
      "Processing reactions:  27%|█████▏             | 208/759 [05:16<21:08,  2.30s/it]"
     ]
    },
    {
     "name": "stdout",
     "output_type": "stream",
     "text": [
      "\n",
      "Testing reaction: INSKm\n",
      "Reaction INSKm knockout is safe.\n",
      "Added INSKm to the candidate removal list.\n",
      "Cumulative effect of INSKm is safe. Updated safe removal list.\n"
     ]
    },
    {
     "name": "stderr",
     "output_type": "stream",
     "text": [
      "Processing reactions:  28%|█████▏             | 209/759 [05:18<21:41,  2.37s/it]"
     ]
    },
    {
     "name": "stdout",
     "output_type": "stream",
     "text": [
      "\n",
      "Testing reaction: HMR_1266\n",
      "Reaction HMR_1266 knockout is safe.\n",
      "Added HMR_1266 to the candidate removal list.\n",
      "Cumulative effect of HMR_1266 is safe. Updated safe removal list.\n"
     ]
    },
    {
     "name": "stderr",
     "output_type": "stream",
     "text": [
      "Processing reactions:  28%|█████▎             | 210/759 [05:21<21:51,  2.39s/it]"
     ]
    },
    {
     "name": "stdout",
     "output_type": "stream",
     "text": [
      "\n",
      "Testing reaction: r1521\n",
      "Reaction r1521 knockout is safe.\n",
      "Added r1521 to the candidate removal list.\n",
      "Cumulative effect of r1521 is safe. Updated safe removal list.\n"
     ]
    },
    {
     "name": "stderr",
     "output_type": "stream",
     "text": [
      "Processing reactions:  28%|█████▎             | 211/759 [05:23<22:05,  2.42s/it]"
     ]
    },
    {
     "name": "stdout",
     "output_type": "stream",
     "text": [
      "\n",
      "Testing reaction: FACOAL1821x\n",
      "Reaction FACOAL1821x knockout is safe.\n",
      "Added FACOAL1821x to the candidate removal list.\n",
      "Cumulative effect of FACOAL1821x is safe. Updated safe removal list.\n"
     ]
    },
    {
     "name": "stderr",
     "output_type": "stream",
     "text": [
      "Processing reactions:  28%|█████▎             | 212/759 [05:26<23:29,  2.58s/it]"
     ]
    },
    {
     "name": "stdout",
     "output_type": "stream",
     "text": [
      "\n",
      "Testing reaction: FPGS9\n",
      "Reaction FPGS9 knockout is safe.\n",
      "Added FPGS9 to the candidate removal list.\n",
      "Cumulative effect of FPGS9 is safe. Updated safe removal list.\n"
     ]
    },
    {
     "name": "stderr",
     "output_type": "stream",
     "text": [
      "Processing reactions:  28%|█████▎             | 213/759 [05:29<23:07,  2.54s/it]"
     ]
    },
    {
     "name": "stdout",
     "output_type": "stream",
     "text": [
      "\n",
      "Testing reaction: VITEtl\n",
      "Reaction VITEtl knockout is safe.\n",
      "Added VITEtl to the candidate removal list.\n",
      "Cumulative effect of VITEtl is safe. Updated safe removal list.\n"
     ]
    },
    {
     "name": "stderr",
     "output_type": "stream",
     "text": [
      "Processing reactions:  28%|█████▎             | 214/759 [05:31<22:54,  2.52s/it]"
     ]
    },
    {
     "name": "stdout",
     "output_type": "stream",
     "text": [
      "\n",
      "Testing reaction: FACOAL205\n",
      "Reaction FACOAL205 knockout is safe.\n",
      "Added FACOAL205 to the candidate removal list.\n",
      "Cumulative effect of FACOAL205 is safe. Updated safe removal list.\n"
     ]
    },
    {
     "name": "stderr",
     "output_type": "stream",
     "text": [
      "Processing reactions:  28%|█████▍             | 215/759 [05:34<22:53,  2.53s/it]"
     ]
    },
    {
     "name": "stdout",
     "output_type": "stream",
     "text": [
      "\n",
      "Testing reaction: DOCOSACT\n",
      "Reaction DOCOSACT knockout is safe.\n",
      "Added DOCOSACT to the candidate removal list.\n",
      "Cumulative effect of DOCOSACT is safe. Updated safe removal list.\n"
     ]
    },
    {
     "name": "stderr",
     "output_type": "stream",
     "text": [
      "Processing reactions:  28%|█████▍             | 216/759 [05:36<23:30,  2.60s/it]"
     ]
    },
    {
     "name": "stdout",
     "output_type": "stream",
     "text": [
      "\n",
      "Testing reaction: PFK26\n",
      "Reaction PFK26 knockout is safe.\n",
      "Added PFK26 to the candidate removal list.\n",
      "Cumulative effect of PFK26 is safe. Updated safe removal list.\n"
     ]
    },
    {
     "name": "stderr",
     "output_type": "stream",
     "text": [
      "Processing reactions:  29%|█████▍             | 217/759 [05:39<23:18,  2.58s/it]"
     ]
    },
    {
     "name": "stdout",
     "output_type": "stream",
     "text": [
      "\n",
      "Testing reaction: NDPK2n\n",
      "Reaction NDPK2n knockout is safe.\n",
      "Added NDPK2n to the candidate removal list.\n",
      "Cumulative effect of NDPK2n is safe. Updated safe removal list.\n"
     ]
    },
    {
     "name": "stderr",
     "output_type": "stream",
     "text": [
      "Processing reactions:  29%|█████▍             | 218/759 [05:42<25:01,  2.78s/it]"
     ]
    },
    {
     "name": "stdout",
     "output_type": "stream",
     "text": [
      "\n",
      "Testing reaction: PNTOt5\n",
      "Reaction PNTOt5 knockout is safe.\n",
      "Added PNTOt5 to the candidate removal list.\n",
      "Cumulative effect of PNTOt5 is safe. Updated safe removal list.\n"
     ]
    },
    {
     "name": "stderr",
     "output_type": "stream",
     "text": [
      "Processing reactions:  29%|█████▍             | 219/759 [05:45<24:32,  2.73s/it]"
     ]
    },
    {
     "name": "stdout",
     "output_type": "stream",
     "text": [
      "\n",
      "Testing reaction: PRGNLONESte\n",
      "Reaction PRGNLONESte knockout is safe.\n",
      "Added PRGNLONESte to the candidate removal list.\n",
      "Cumulative effect of PRGNLONESte is safe. Updated safe removal list.\n"
     ]
    },
    {
     "name": "stderr",
     "output_type": "stream",
     "text": [
      "Processing reactions:  29%|█████▌             | 220/759 [05:47<23:55,  2.66s/it]"
     ]
    },
    {
     "name": "stdout",
     "output_type": "stream",
     "text": [
      "\n",
      "Testing reaction: 7DHCDCHOLabc\n",
      "Reaction 7DHCDCHOLabc knockout is safe.\n",
      "Added 7DHCDCHOLabc to the candidate removal list.\n",
      "Cumulative effect of 7DHCDCHOLabc is safe. Updated safe removal list.\n"
     ]
    },
    {
     "name": "stderr",
     "output_type": "stream",
     "text": [
      "Processing reactions:  29%|█████▌             | 221/759 [05:50<23:30,  2.62s/it]"
     ]
    },
    {
     "name": "stdout",
     "output_type": "stream",
     "text": [
      "\n",
      "Testing reaction: HMR_2954\n",
      "Reaction HMR_2954 knockout is safe.\n",
      "Added HMR_2954 to the candidate removal list.\n",
      "Cumulative effect of HMR_2954 is safe. Updated safe removal list.\n"
     ]
    },
    {
     "name": "stderr",
     "output_type": "stream",
     "text": [
      "Processing reactions:  29%|█████▌             | 222/759 [05:53<23:39,  2.64s/it]"
     ]
    },
    {
     "name": "stdout",
     "output_type": "stream",
     "text": [
      "\n",
      "Testing reaction: HMR_0359\n",
      "Reaction HMR_0359 knockout is safe.\n",
      "Added HMR_0359 to the candidate removal list.\n",
      "Cumulative effect of HMR_0359 is safe. Updated safe removal list.\n"
     ]
    },
    {
     "name": "stderr",
     "output_type": "stream",
     "text": [
      "Processing reactions:  29%|█████▌             | 223/759 [05:55<23:29,  2.63s/it]"
     ]
    },
    {
     "name": "stdout",
     "output_type": "stream",
     "text": [
      "\n",
      "Testing reaction: BACCLm\n",
      "Reaction BACCLm knockout is safe.\n",
      "Added BACCLm to the candidate removal list.\n",
      "Cumulative effect of BACCLm is safe. Updated safe removal list.\n"
     ]
    },
    {
     "name": "stderr",
     "output_type": "stream",
     "text": [
      "Processing reactions:  30%|█████▌             | 224/759 [05:58<23:25,  2.63s/it]"
     ]
    },
    {
     "name": "stdout",
     "output_type": "stream",
     "text": [
      "\n",
      "Testing reaction: RIBFLVt3\n",
      "Reaction RIBFLVt3 knockout is safe.\n",
      "Added RIBFLVt3 to the candidate removal list.\n",
      "Cumulative effect of RIBFLVt3 is safe. Updated safe removal list.\n"
     ]
    },
    {
     "name": "stderr",
     "output_type": "stream",
     "text": [
      "Processing reactions:  30%|█████▋             | 225/759 [06:00<23:08,  2.60s/it]"
     ]
    },
    {
     "name": "stdout",
     "output_type": "stream",
     "text": [
      "\n",
      "Testing reaction: TSTSTERONEGLCte\n",
      "Reaction TSTSTERONEGLCte knockout is safe.\n",
      "Added TSTSTERONEGLCte to the candidate removal list.\n",
      "Cumulative effect of TSTSTERONEGLCte is safe. Updated safe removal list.\n"
     ]
    },
    {
     "name": "stderr",
     "output_type": "stream",
     "text": [
      "Processing reactions:  30%|█████▋             | 226/759 [06:03<23:29,  2.64s/it]"
     ]
    },
    {
     "name": "stdout",
     "output_type": "stream",
     "text": [
      "\n",
      "Testing reaction: SUCOASm\n",
      "Reaction SUCOASm knockout is safe.\n",
      "Added SUCOASm to the candidate removal list.\n",
      "Cumulative effect of SUCOASm is safe. Updated safe removal list.\n"
     ]
    },
    {
     "name": "stderr",
     "output_type": "stream",
     "text": [
      "Processing reactions:  30%|█████▋             | 227/759 [06:06<23:15,  2.62s/it]"
     ]
    },
    {
     "name": "stdout",
     "output_type": "stream",
     "text": [
      "\n",
      "Testing reaction: DCA3Sabc\n",
      "Reaction DCA3Sabc knockout is safe.\n",
      "Added DCA3Sabc to the candidate removal list.\n",
      "Cumulative effect of DCA3Sabc is safe. Updated safe removal list.\n"
     ]
    },
    {
     "name": "stderr",
     "output_type": "stream",
     "text": [
      "Processing reactions:  30%|█████▋             | 228/759 [06:08<23:04,  2.61s/it]"
     ]
    },
    {
     "name": "stdout",
     "output_type": "stream",
     "text": [
      "\n",
      "Testing reaction: PI5P4Kn\n",
      "Reaction PI5P4Kn knockout is safe.\n",
      "Added PI5P4Kn to the candidate removal list.\n",
      "Cumulative effect of PI5P4Kn is safe. Updated safe removal list.\n"
     ]
    },
    {
     "name": "stderr",
     "output_type": "stream",
     "text": [
      "Processing reactions:  30%|█████▋             | 229/759 [06:11<22:55,  2.59s/it]"
     ]
    },
    {
     "name": "stdout",
     "output_type": "stream",
     "text": [
      "\n",
      "Testing reaction: r0340\n",
      "Reaction r0340 knockout is safe.\n",
      "Added r0340 to the candidate removal list.\n",
      "Cumulative effect of r0340 is safe. Updated safe removal list.\n"
     ]
    },
    {
     "name": "stderr",
     "output_type": "stream",
     "text": [
      "Processing reactions:  30%|█████▊             | 230/759 [06:13<22:55,  2.60s/it]"
     ]
    },
    {
     "name": "stdout",
     "output_type": "stream",
     "text": [
      "\n",
      "Testing reaction: FK\n",
      "Reaction FK knockout is safe.\n",
      "Added FK to the candidate removal list.\n",
      "Cumulative effect of FK is safe. Updated safe removal list.\n"
     ]
    },
    {
     "name": "stderr",
     "output_type": "stream",
     "text": [
      "Processing reactions:  30%|█████▊             | 231/759 [06:16<22:44,  2.58s/it]"
     ]
    },
    {
     "name": "stdout",
     "output_type": "stream",
     "text": [
      "\n",
      "Testing reaction: 7DHCHOLabc\n",
      "Reaction 7DHCHOLabc knockout is safe.\n",
      "Added 7DHCHOLabc to the candidate removal list.\n",
      "Cumulative effect of 7DHCHOLabc is safe. Updated safe removal list.\n"
     ]
    },
    {
     "name": "stderr",
     "output_type": "stream",
     "text": [
      "Processing reactions:  31%|█████▊             | 232/759 [06:19<22:52,  2.61s/it]"
     ]
    },
    {
     "name": "stdout",
     "output_type": "stream",
     "text": [
      "\n",
      "Testing reaction: HMR_0204\n",
      "Reaction HMR_0204 knockout is safe.\n",
      "Added HMR_0204 to the candidate removal list.\n",
      "Cumulative effect of HMR_0204 is safe. Updated safe removal list.\n"
     ]
    },
    {
     "name": "stderr",
     "output_type": "stream",
     "text": [
      "Processing reactions:  31%|█████▊             | 233/759 [06:21<22:56,  2.62s/it]"
     ]
    },
    {
     "name": "stdout",
     "output_type": "stream",
     "text": [
      "\n",
      "Testing reaction: EANDRSTRNtr\n",
      "Reaction EANDRSTRNtr knockout is safe.\n",
      "Added EANDRSTRNtr to the candidate removal list.\n",
      "Cumulative effect of EANDRSTRNtr is safe. Updated safe removal list.\n"
     ]
    },
    {
     "name": "stderr",
     "output_type": "stream",
     "text": [
      "Processing reactions:  31%|█████▊             | 234/759 [06:24<23:07,  2.64s/it]"
     ]
    },
    {
     "name": "stdout",
     "output_type": "stream",
     "text": [
      "\n",
      "Testing reaction: CE5072te\n",
      "Reaction CE5072te knockout is safe.\n",
      "Added CE5072te to the candidate removal list.\n",
      "Cumulative effect of CE5072te is safe. Updated safe removal list.\n"
     ]
    },
    {
     "name": "stderr",
     "output_type": "stream",
     "text": [
      "Processing reactions:  31%|█████▉             | 235/759 [06:27<23:27,  2.69s/it]"
     ]
    },
    {
     "name": "stdout",
     "output_type": "stream",
     "text": [
      "\n",
      "Testing reaction: SLCBK1\n",
      "Reaction SLCBK1 knockout is safe.\n",
      "Added SLCBK1 to the candidate removal list.\n",
      "Cumulative effect of SLCBK1 is safe. Updated safe removal list.\n"
     ]
    },
    {
     "name": "stderr",
     "output_type": "stream",
     "text": [
      "Processing reactions:  31%|█████▉             | 236/759 [06:29<23:17,  2.67s/it]"
     ]
    },
    {
     "name": "stdout",
     "output_type": "stream",
     "text": [
      "\n",
      "Testing reaction: DHCHOLESTANATEATP\n",
      "Reaction DHCHOLESTANATEATP knockout is safe.\n",
      "Added DHCHOLESTANATEATP to the candidate removal list.\n",
      "Cumulative effect of DHCHOLESTANATEATP is safe. Updated safe removal list.\n"
     ]
    },
    {
     "name": "stderr",
     "output_type": "stream",
     "text": [
      "Processing reactions:  31%|█████▉             | 237/759 [06:32<23:06,  2.66s/it]"
     ]
    },
    {
     "name": "stdout",
     "output_type": "stream",
     "text": [
      "\n",
      "Testing reaction: TCA3Sabc\n",
      "Reaction TCA3Sabc knockout is safe.\n",
      "Added TCA3Sabc to the candidate removal list.\n",
      "Cumulative effect of TCA3Sabc is safe. Updated safe removal list.\n"
     ]
    },
    {
     "name": "stderr",
     "output_type": "stream",
     "text": [
      "Processing reactions:  31%|█████▉             | 238/759 [06:35<23:02,  2.65s/it]"
     ]
    },
    {
     "name": "stdout",
     "output_type": "stream",
     "text": [
      "\n",
      "Testing reaction: PI3P4K\n",
      "Reaction PI3P4K knockout is safe.\n",
      "Added PI3P4K to the candidate removal list.\n",
      "Cumulative effect of PI3P4K is safe. Updated safe removal list.\n"
     ]
    },
    {
     "name": "stderr",
     "output_type": "stream",
     "text": [
      "Processing reactions:  31%|█████▉             | 239/759 [06:37<22:54,  2.64s/it]"
     ]
    },
    {
     "name": "stdout",
     "output_type": "stream",
     "text": [
      "\n",
      "Testing reaction: DOCO13EFATP\n",
      "Reaction DOCO13EFATP knockout is safe.\n",
      "Added DOCO13EFATP to the candidate removal list.\n",
      "Cumulative effect of DOCO13EFATP is safe. Updated safe removal list.\n"
     ]
    },
    {
     "name": "stderr",
     "output_type": "stream",
     "text": [
      "Processing reactions:  32%|██████             | 240/759 [06:40<22:55,  2.65s/it]"
     ]
    },
    {
     "name": "stdout",
     "output_type": "stream",
     "text": [
      "\n",
      "Testing reaction: HMR_2947\n",
      "Reaction HMR_2947 knockout is safe.\n",
      "Added HMR_2947 to the candidate removal list.\n",
      "Cumulative effect of HMR_2947 is safe. Updated safe removal list.\n"
     ]
    },
    {
     "name": "stderr",
     "output_type": "stream",
     "text": [
      "Processing reactions:  32%|██████             | 241/759 [06:43<22:58,  2.66s/it]"
     ]
    },
    {
     "name": "stdout",
     "output_type": "stream",
     "text": [
      "\n",
      "Testing reaction: C05463t1\n",
      "Reaction C05463t1 knockout is safe.\n",
      "Added C05463t1 to the candidate removal list.\n",
      "Cumulative effect of C05463t1 is safe. Updated safe removal list.\n"
     ]
    },
    {
     "name": "stderr",
     "output_type": "stream",
     "text": [
      "Processing reactions:  32%|██████             | 242/759 [06:45<22:57,  2.67s/it]"
     ]
    },
    {
     "name": "stdout",
     "output_type": "stream",
     "text": [
      "\n",
      "Testing reaction: r1518\n",
      "Reaction r1518 knockout is safe.\n",
      "Added r1518 to the candidate removal list.\n",
      "Cumulative effect of r1518 is safe. Updated safe removal list.\n"
     ]
    },
    {
     "name": "stderr",
     "output_type": "stream",
     "text": [
      "Processing reactions:  32%|██████             | 243/759 [06:48<23:07,  2.69s/it]"
     ]
    },
    {
     "name": "stdout",
     "output_type": "stream",
     "text": [
      "\n",
      "Testing reaction: GALK\n",
      "Reaction GALK knockout is safe.\n",
      "Added GALK to the candidate removal list.\n",
      "Cumulative effect of GALK is safe. Updated safe removal list.\n"
     ]
    },
    {
     "name": "stderr",
     "output_type": "stream",
     "text": [
      "Processing reactions:  32%|██████             | 244/759 [06:51<23:07,  2.69s/it]"
     ]
    },
    {
     "name": "stdout",
     "output_type": "stream",
     "text": [
      "\n",
      "Testing reaction: RE0124C\n",
      "Reaction RE0124C knockout is safe.\n",
      "Added RE0124C to the candidate removal list.\n",
      "Cumulative effect of RE0124C is safe. Updated safe removal list.\n"
     ]
    },
    {
     "name": "stderr",
     "output_type": "stream",
     "text": [
      "Processing reactions:  32%|██████▏            | 245/759 [06:53<22:47,  2.66s/it]"
     ]
    },
    {
     "name": "stdout",
     "output_type": "stream",
     "text": [
      "\n",
      "Testing reaction: HMR_0243\n",
      "Reaction HMR_0243 knockout is safe.\n",
      "Added HMR_0243 to the candidate removal list.\n",
      "Cumulative effect of HMR_0243 is safe. Updated safe removal list.\n"
     ]
    },
    {
     "name": "stderr",
     "output_type": "stream",
     "text": [
      "Processing reactions:  32%|██████▏            | 246/759 [06:56<22:36,  2.64s/it]"
     ]
    },
    {
     "name": "stdout",
     "output_type": "stream",
     "text": [
      "\n",
      "Testing reaction: FPGS9m\n",
      "Reaction FPGS9m knockout is safe.\n",
      "Added FPGS9m to the candidate removal list.\n",
      "Cumulative effect of FPGS9m is safe. Updated safe removal list.\n"
     ]
    },
    {
     "name": "stderr",
     "output_type": "stream",
     "text": [
      "Processing reactions:  33%|██████▏            | 247/759 [06:59<23:44,  2.78s/it]"
     ]
    },
    {
     "name": "stdout",
     "output_type": "stream",
     "text": [
      "\n",
      "Testing reaction: FPGS5m\n",
      "Reaction FPGS5m knockout is safe.\n",
      "Added FPGS5m to the candidate removal list.\n",
      "Cumulative effect of FPGS5m is safe. Updated safe removal list.\n"
     ]
    },
    {
     "name": "stderr",
     "output_type": "stream",
     "text": [
      "Processing reactions:  33%|██████▏            | 248/759 [07:02<24:01,  2.82s/it]"
     ]
    },
    {
     "name": "stdout",
     "output_type": "stream",
     "text": [
      "\n",
      "Testing reaction: HC02220te\n",
      "Reaction HC02220te knockout is safe.\n",
      "Added HC02220te to the candidate removal list.\n",
      "Cumulative effect of HC02220te is safe. Updated safe removal list.\n"
     ]
    },
    {
     "name": "stderr",
     "output_type": "stream",
     "text": [
      "Processing reactions:  33%|██████▏            | 249/759 [07:05<23:52,  2.81s/it]"
     ]
    },
    {
     "name": "stdout",
     "output_type": "stream",
     "text": [
      "\n",
      "Testing reaction: ESTRONEGLCt\n",
      "Reaction ESTRONEGLCt knockout is safe.\n",
      "Added ESTRONEGLCt to the candidate removal list.\n",
      "Cumulative effect of ESTRONEGLCt is safe. Updated safe removal list.\n"
     ]
    },
    {
     "name": "stderr",
     "output_type": "stream",
     "text": [
      "Processing reactions:  33%|██████▎            | 250/759 [07:08<24:06,  2.84s/it]"
     ]
    },
    {
     "name": "stdout",
     "output_type": "stream",
     "text": [
      "\n",
      "Testing reaction: C03681te\n",
      "Reaction C03681te knockout is safe.\n",
      "Added C03681te to the candidate removal list.\n",
      "Cumulative effect of C03681te is safe. Updated safe removal list.\n"
     ]
    },
    {
     "name": "stderr",
     "output_type": "stream",
     "text": [
      "Processing reactions:  33%|██████▎            | 251/759 [07:10<23:39,  2.79s/it]"
     ]
    },
    {
     "name": "stdout",
     "output_type": "stream",
     "text": [
      "\n",
      "Testing reaction: HEX4\n",
      "Reaction HEX4 knockout is safe.\n",
      "Added HEX4 to the candidate removal list.\n",
      "Cumulative effect of HEX4 is safe. Updated safe removal list.\n"
     ]
    },
    {
     "name": "stderr",
     "output_type": "stream",
     "text": [
      "Processing reactions:  33%|██████▎            | 252/759 [07:13<23:28,  2.78s/it]"
     ]
    },
    {
     "name": "stdout",
     "output_type": "stream",
     "text": [
      "\n",
      "Testing reaction: HMR_6566\n",
      "Reaction HMR_6566 knockout is safe.\n",
      "Added HMR_6566 to the candidate removal list.\n",
      "Cumulative effect of HMR_6566 is safe. Updated safe removal list.\n"
     ]
    },
    {
     "name": "stderr",
     "output_type": "stream",
     "text": [
      "Processing reactions:  33%|██████▎            | 253/759 [07:16<23:20,  2.77s/it]"
     ]
    },
    {
     "name": "stdout",
     "output_type": "stream",
     "text": [
      "\n",
      "Testing reaction: ATP2ter\n",
      "Reaction ATP2ter knockout is safe.\n",
      "Added ATP2ter to the candidate removal list.\n",
      "Cumulative effect of ATP2ter is safe. Updated safe removal list.\n"
     ]
    },
    {
     "name": "stderr",
     "output_type": "stream",
     "text": [
      "Processing reactions:  33%|██████▎            | 254/759 [07:19<23:37,  2.81s/it]"
     ]
    },
    {
     "name": "stdout",
     "output_type": "stream",
     "text": [
      "\n",
      "Testing reaction: r1487\n",
      "Reaction r1487 knockout is safe.\n",
      "Added r1487 to the candidate removal list.\n",
      "Cumulative effect of r1487 is safe. Updated safe removal list.\n"
     ]
    },
    {
     "name": "stderr",
     "output_type": "stream",
     "text": [
      "Processing reactions:  34%|██████▍            | 255/759 [07:22<23:51,  2.84s/it]"
     ]
    },
    {
     "name": "stdout",
     "output_type": "stream",
     "text": [
      "\n",
      "Testing reaction: HMR_2982\n",
      "Reaction HMR_2982 knockout is safe.\n",
      "Added HMR_2982 to the candidate removal list.\n",
      "Cumulative effect of HMR_2982 is safe. Updated safe removal list.\n"
     ]
    },
    {
     "name": "stderr",
     "output_type": "stream",
     "text": [
      "Processing reactions:  34%|██████▍            | 256/759 [07:25<23:56,  2.86s/it]"
     ]
    },
    {
     "name": "stdout",
     "output_type": "stream",
     "text": [
      "\n",
      "Testing reaction: MI13456PK\n",
      "Reaction MI13456PK knockout is safe.\n",
      "Added MI13456PK to the candidate removal list.\n",
      "Cumulative effect of MI13456PK is safe. Updated safe removal list.\n"
     ]
    },
    {
     "name": "stderr",
     "output_type": "stream",
     "text": [
      "Processing reactions:  34%|██████▍            | 257/759 [07:27<23:55,  2.86s/it]"
     ]
    },
    {
     "name": "stdout",
     "output_type": "stream",
     "text": [
      "\n",
      "Testing reaction: NDPK1m\n",
      "Reaction NDPK1m knockout is safe.\n",
      "Added NDPK1m to the candidate removal list.\n",
      "Cumulative effect of NDPK1m is safe. Updated safe removal list.\n"
     ]
    },
    {
     "name": "stderr",
     "output_type": "stream",
     "text": [
      "Processing reactions:  34%|██████▍            | 258/759 [07:30<23:46,  2.85s/it]"
     ]
    },
    {
     "name": "stdout",
     "output_type": "stream",
     "text": [
      "\n",
      "Testing reaction: FPGS\n",
      "Reaction FPGS knockout is safe.\n",
      "Added FPGS to the candidate removal list.\n",
      "Cumulative effect of FPGS is safe. Updated safe removal list.\n"
     ]
    },
    {
     "name": "stderr",
     "output_type": "stream",
     "text": [
      "Processing reactions:  34%|██████▍            | 259/759 [07:33<24:05,  2.89s/it]"
     ]
    },
    {
     "name": "stdout",
     "output_type": "stream",
     "text": [
      "\n",
      "Testing reaction: HC02195te\n",
      "Reaction HC02195te knockout is safe.\n",
      "Added HC02195te to the candidate removal list.\n",
      "Cumulative effect of HC02195te is safe. Updated safe removal list.\n"
     ]
    },
    {
     "name": "stderr",
     "output_type": "stream",
     "text": [
      "Processing reactions:  34%|██████▌            | 260/759 [07:36<24:05,  2.90s/it]"
     ]
    },
    {
     "name": "stdout",
     "output_type": "stream",
     "text": [
      "\n",
      "Testing reaction: NDPK5n\n",
      "Reaction NDPK5n knockout is safe.\n",
      "Added NDPK5n to the candidate removal list.\n",
      "Cumulative effect of NDPK5n is safe. Updated safe removal list.\n"
     ]
    },
    {
     "name": "stderr",
     "output_type": "stream",
     "text": [
      "Processing reactions:  34%|██████▌            | 261/759 [07:39<24:00,  2.89s/it]"
     ]
    },
    {
     "name": "stdout",
     "output_type": "stream",
     "text": [
      "\n",
      "Testing reaction: HMR_0389\n",
      "Reaction HMR_0389 knockout is safe.\n",
      "Added HMR_0389 to the candidate removal list.\n",
      "Cumulative effect of HMR_0389 is safe. Updated safe removal list.\n"
     ]
    },
    {
     "name": "stderr",
     "output_type": "stream",
     "text": [
      "Processing reactions:  35%|██████▌            | 262/759 [07:42<24:21,  2.94s/it]"
     ]
    },
    {
     "name": "stdout",
     "output_type": "stream",
     "text": [
      "\n",
      "Testing reaction: HMR_2979\n",
      "Reaction HMR_2979 knockout is safe.\n",
      "Added HMR_2979 to the candidate removal list.\n",
      "Cumulative effect of HMR_2979 is safe. Updated safe removal list.\n"
     ]
    },
    {
     "name": "stderr",
     "output_type": "stream",
     "text": [
      "Processing reactions:  35%|██████▌            | 263/759 [07:45<24:06,  2.92s/it]"
     ]
    },
    {
     "name": "stdout",
     "output_type": "stream",
     "text": [
      "\n",
      "Testing reaction: 5ADTSTSTERONEGLCte\n",
      "Reaction 5ADTSTSTERONEGLCte knockout is safe.\n",
      "Added 5ADTSTSTERONEGLCte to the candidate removal list.\n",
      "Cumulative effect of 5ADTSTSTERONEGLCte is safe. Updated safe removal list.\n"
     ]
    },
    {
     "name": "stderr",
     "output_type": "stream",
     "text": [
      "Processing reactions:  35%|██████▌            | 264/759 [07:48<24:27,  2.96s/it]"
     ]
    },
    {
     "name": "stdout",
     "output_type": "stream",
     "text": [
      "\n",
      "Testing reaction: STCOATxc\n",
      "Reaction STCOATxc knockout is safe.\n",
      "Added STCOATxc to the candidate removal list.\n",
      "Cumulative effect of STCOATxc is safe. Updated safe removal list.\n"
     ]
    },
    {
     "name": "stderr",
     "output_type": "stream",
     "text": [
      "Processing reactions:  35%|██████▋            | 265/759 [07:51<24:24,  2.97s/it]"
     ]
    },
    {
     "name": "stdout",
     "output_type": "stream",
     "text": [
      "\n",
      "Testing reaction: DMNONCOAtcx\n",
      "Reaction DMNONCOAtcx knockout is safe.\n",
      "Added DMNONCOAtcx to the candidate removal list.\n",
      "Cumulative effect of DMNONCOAtcx is safe. Updated safe removal list.\n"
     ]
    },
    {
     "name": "stderr",
     "output_type": "stream",
     "text": [
      "Processing reactions:  35%|██████▋            | 266/759 [07:54<24:13,  2.95s/it]"
     ]
    },
    {
     "name": "stdout",
     "output_type": "stream",
     "text": [
      "\n",
      "Testing reaction: Znabc\n",
      "Reaction Znabc knockout is safe.\n",
      "Added Znabc to the candidate removal list.\n",
      "Cumulative effect of Znabc is safe. Updated safe removal list.\n"
     ]
    },
    {
     "name": "stderr",
     "output_type": "stream",
     "text": [
      "Processing reactions:  35%|██████▋            | 267/759 [07:57<24:04,  2.94s/it]"
     ]
    },
    {
     "name": "stdout",
     "output_type": "stream",
     "text": [
      "\n",
      "Testing reaction: r1101\n",
      "Reaction r1101 knockout is safe.\n",
      "Added r1101 to the candidate removal list.\n",
      "Cumulative effect of r1101 is safe. Updated safe removal list.\n"
     ]
    },
    {
     "name": "stderr",
     "output_type": "stream",
     "text": [
      "Processing reactions:  35%|██████▋            | 268/759 [08:00<24:05,  2.94s/it]"
     ]
    },
    {
     "name": "stdout",
     "output_type": "stream",
     "text": [
      "\n",
      "Testing reaction: FACOAL200x\n",
      "Reaction FACOAL200x knockout is safe.\n",
      "Added FACOAL200x to the candidate removal list.\n",
      "Cumulative effect of FACOAL200x is safe. Updated safe removal list.\n"
     ]
    },
    {
     "name": "stderr",
     "output_type": "stream",
     "text": [
      "Processing reactions:  35%|██████▋            | 269/759 [08:03<24:06,  2.95s/it]"
     ]
    },
    {
     "name": "stdout",
     "output_type": "stream",
     "text": [
      "\n",
      "Testing reaction: HMR_1627\n",
      "Reaction HMR_1627 knockout is safe.\n",
      "Added HMR_1627 to the candidate removal list.\n",
      "Cumulative effect of HMR_1627 is safe. Updated safe removal list.\n"
     ]
    },
    {
     "name": "stderr",
     "output_type": "stream",
     "text": [
      "Processing reactions:  36%|██████▊            | 270/759 [08:06<24:08,  2.96s/it]"
     ]
    },
    {
     "name": "stdout",
     "output_type": "stream",
     "text": [
      "\n",
      "Testing reaction: r2498\n",
      "Reaction r2498 knockout is safe.\n",
      "Added r2498 to the candidate removal list.\n",
      "Cumulative effect of r2498 is safe. Updated safe removal list.\n"
     ]
    },
    {
     "name": "stderr",
     "output_type": "stream",
     "text": [
      "Processing reactions:  36%|██████▊            | 271/759 [08:09<24:34,  3.02s/it]"
     ]
    },
    {
     "name": "stdout",
     "output_type": "stream",
     "text": [
      "\n",
      "Testing reaction: RE2973N\n",
      "Reaction RE2973N knockout is safe.\n",
      "Added RE2973N to the candidate removal list.\n",
      "Cumulative effect of RE2973N is safe. Updated safe removal list.\n"
     ]
    },
    {
     "name": "stderr",
     "output_type": "stream",
     "text": [
      "Processing reactions:  36%|██████▊            | 272/759 [08:12<24:07,  2.97s/it]"
     ]
    },
    {
     "name": "stdout",
     "output_type": "stream",
     "text": [
      "\n",
      "Testing reaction: r0579\n",
      "Reaction r0579 knockout is safe.\n",
      "Added r0579 to the candidate removal list.\n",
      "Cumulative effect of r0579 is safe. Updated safe removal list.\n"
     ]
    },
    {
     "name": "stderr",
     "output_type": "stream",
     "text": [
      "Processing reactions:  36%|██████▊            | 273/759 [08:15<23:59,  2.96s/it]"
     ]
    },
    {
     "name": "stdout",
     "output_type": "stream",
     "text": [
      "\n",
      "Testing reaction: HISTAVESSEC\n",
      "Reaction HISTAVESSEC knockout is safe.\n",
      "Added HISTAVESSEC to the candidate removal list.\n",
      "Cumulative effect of HISTAVESSEC is safe. Updated safe removal list.\n"
     ]
    },
    {
     "name": "stderr",
     "output_type": "stream",
     "text": [
      "Processing reactions:  36%|██████▊            | 274/759 [08:18<23:42,  2.93s/it]"
     ]
    },
    {
     "name": "stdout",
     "output_type": "stream",
     "text": [
      "\n",
      "Testing reaction: HMR_0293\n",
      "Reaction HMR_0293 knockout is safe.\n",
      "Added HMR_0293 to the candidate removal list.\n",
      "Cumulative effect of HMR_0293 is safe. Updated safe removal list.\n"
     ]
    },
    {
     "name": "stderr",
     "output_type": "stream",
     "text": [
      "Processing reactions:  36%|██████▉            | 275/759 [08:21<24:04,  2.98s/it]"
     ]
    },
    {
     "name": "stdout",
     "output_type": "stream",
     "text": [
      "\n",
      "Testing reaction: RE3079X\n",
      "Reaction RE3079X knockout is safe.\n",
      "Added RE3079X to the candidate removal list.\n",
      "Cumulative effect of RE3079X is safe. Updated safe removal list.\n"
     ]
    },
    {
     "name": "stderr",
     "output_type": "stream",
     "text": [
      "Processing reactions:  36%|██████▉            | 276/759 [08:24<23:47,  2.95s/it]"
     ]
    },
    {
     "name": "stdout",
     "output_type": "stream",
     "text": [
      "\n",
      "Testing reaction: DNDPt32m\n",
      "Reaction DNDPt32m knockout is safe.\n",
      "Added DNDPt32m to the candidate removal list.\n",
      "Cumulative effect of DNDPt32m is safe. Updated safe removal list.\n"
     ]
    },
    {
     "name": "stderr",
     "output_type": "stream",
     "text": [
      "Processing reactions:  36%|██████▉            | 277/759 [08:26<23:44,  2.96s/it]"
     ]
    },
    {
     "name": "stdout",
     "output_type": "stream",
     "text": [
      "\n",
      "Testing reaction: HMR_2971\n",
      "Reaction HMR_2971 knockout is safe.\n",
      "Added HMR_2971 to the candidate removal list.\n",
      "Cumulative effect of HMR_2971 is safe. Updated safe removal list.\n"
     ]
    },
    {
     "name": "stderr",
     "output_type": "stream",
     "text": [
      "Processing reactions:  37%|██████▉            | 278/759 [08:29<23:27,  2.93s/it]"
     ]
    },
    {
     "name": "stdout",
     "output_type": "stream",
     "text": [
      "\n",
      "Testing reaction: 11DOCRTSTRNte\n",
      "Reaction 11DOCRTSTRNte knockout is safe.\n",
      "Added 11DOCRTSTRNte to the candidate removal list.\n",
      "Cumulative effect of 11DOCRTSTRNte is safe. Updated safe removal list.\n"
     ]
    },
    {
     "name": "stderr",
     "output_type": "stream",
     "text": [
      "Processing reactions:  37%|██████▉            | 279/759 [08:32<23:17,  2.91s/it]"
     ]
    },
    {
     "name": "stdout",
     "output_type": "stream",
     "text": [
      "\n",
      "Testing reaction: CHOLATEt3\n",
      "Reaction CHOLATEt3 knockout is safe.\n",
      "Added CHOLATEt3 to the candidate removal list.\n",
      "Cumulative effect of CHOLATEt3 is safe. Updated safe removal list.\n"
     ]
    },
    {
     "name": "stderr",
     "output_type": "stream",
     "text": [
      "Processing reactions:  37%|███████            | 280/759 [08:36<24:39,  3.09s/it]"
     ]
    },
    {
     "name": "stdout",
     "output_type": "stream",
     "text": [
      "\n",
      "Testing reaction: HMR_2976\n",
      "Reaction HMR_2976 knockout is safe.\n",
      "Added HMR_2976 to the candidate removal list.\n",
      "Cumulative effect of HMR_2976 is safe. Updated safe removal list.\n"
     ]
    },
    {
     "name": "stderr",
     "output_type": "stream",
     "text": [
      "Processing reactions:  37%|███████            | 281/759 [08:39<24:34,  3.08s/it]"
     ]
    },
    {
     "name": "stdout",
     "output_type": "stream",
     "text": [
      "\n",
      "Testing reaction: 17AHPRGNLONEte\n",
      "Reaction 17AHPRGNLONEte knockout is safe.\n",
      "Added 17AHPRGNLONEte to the candidate removal list.\n",
      "Cumulative effect of 17AHPRGNLONEte is safe. Updated safe removal list.\n"
     ]
    },
    {
     "name": "stderr",
     "output_type": "stream",
     "text": [
      "Processing reactions:  37%|███████            | 282/759 [08:42<24:24,  3.07s/it]"
     ]
    },
    {
     "name": "stdout",
     "output_type": "stream",
     "text": [
      "\n",
      "Testing reaction: r1104\n",
      "Reaction r1104 knockout is safe.\n",
      "Added r1104 to the candidate removal list.\n",
      "Cumulative effect of r1104 is safe. Updated safe removal list.\n"
     ]
    },
    {
     "name": "stderr",
     "output_type": "stream",
     "text": [
      "Processing reactions:  37%|███████            | 283/759 [08:45<24:06,  3.04s/it]"
     ]
    },
    {
     "name": "stdout",
     "output_type": "stream",
     "text": [
      "\n",
      "Testing reaction: r1254\n",
      "Reaction r1254 knockout is safe.\n",
      "Added r1254 to the candidate removal list.\n",
      "Cumulative effect of r1254 is safe. Updated safe removal list.\n"
     ]
    },
    {
     "name": "stderr",
     "output_type": "stream",
     "text": [
      "Processing reactions:  37%|███████            | 284/759 [08:48<23:55,  3.02s/it]"
     ]
    },
    {
     "name": "stdout",
     "output_type": "stream",
     "text": [
      "\n",
      "Testing reaction: CE6247t\n",
      "Reaction CE6247t knockout is safe.\n",
      "Added CE6247t to the candidate removal list.\n",
      "Cumulative effect of CE6247t is safe. Updated safe removal list.\n"
     ]
    },
    {
     "name": "stderr",
     "output_type": "stream",
     "text": [
      "Processing reactions:  38%|███████▏           | 285/759 [08:51<23:47,  3.01s/it]"
     ]
    },
    {
     "name": "stdout",
     "output_type": "stream",
     "text": [
      "\n",
      "Testing reaction: HMR_2943\n",
      "Reaction HMR_2943 knockout is safe.\n",
      "Added HMR_2943 to the candidate removal list.\n",
      "Cumulative effect of HMR_2943 is safe. Updated safe removal list.\n"
     ]
    },
    {
     "name": "stderr",
     "output_type": "stream",
     "text": [
      "Processing reactions:  38%|███████▏           | 286/759 [08:54<23:46,  3.02s/it]"
     ]
    },
    {
     "name": "stdout",
     "output_type": "stream",
     "text": [
      "\n",
      "Testing reaction: FACOAL224\n",
      "Reaction FACOAL224 knockout is safe.\n",
      "Added FACOAL224 to the candidate removal list.\n",
      "Cumulative effect of FACOAL224 is safe. Updated safe removal list.\n"
     ]
    },
    {
     "name": "stderr",
     "output_type": "stream",
     "text": [
      "Processing reactions:  38%|███████▏           | 287/759 [08:57<23:29,  2.99s/it]"
     ]
    },
    {
     "name": "stdout",
     "output_type": "stream",
     "text": [
      "\n",
      "Testing reaction: TCHOLAt3\n",
      "Reaction TCHOLAt3 knockout is safe.\n",
      "Added TCHOLAt3 to the candidate removal list.\n",
      "Cumulative effect of TCHOLAt3 is safe. Updated safe removal list.\n"
     ]
    },
    {
     "name": "stderr",
     "output_type": "stream",
     "text": [
      "Processing reactions:  38%|███████▏           | 288/759 [09:00<23:42,  3.02s/it]"
     ]
    },
    {
     "name": "stdout",
     "output_type": "stream",
     "text": [
      "\n",
      "Testing reaction: DCK1n\n",
      "Reaction DCK1n knockout is safe.\n",
      "Added DCK1n to the candidate removal list.\n",
      "Cumulative effect of DCK1n is safe. Updated safe removal list.\n"
     ]
    },
    {
     "name": "stderr",
     "output_type": "stream",
     "text": [
      "Processing reactions:  38%|███████▏           | 289/759 [09:03<23:54,  3.05s/it]"
     ]
    },
    {
     "name": "stdout",
     "output_type": "stream",
     "text": [
      "\n",
      "Testing reaction: PCm\n",
      "Reaction PCm knockout is safe.\n",
      "Added PCm to the candidate removal list.\n",
      "Cumulative effect of PCm is safe. Updated safe removal list.\n"
     ]
    },
    {
     "name": "stderr",
     "output_type": "stream",
     "text": [
      "Processing reactions:  38%|███████▎           | 290/759 [09:06<23:48,  3.05s/it]"
     ]
    },
    {
     "name": "stdout",
     "output_type": "stream",
     "text": [
      "\n",
      "Testing reaction: FACOAL100p\n",
      "Reaction FACOAL100p knockout is safe.\n",
      "Added FACOAL100p to the candidate removal list.\n",
      "Cumulative effect of FACOAL100p is safe. Updated safe removal list.\n"
     ]
    },
    {
     "name": "stderr",
     "output_type": "stream",
     "text": [
      "Processing reactions:  38%|███████▎           | 291/759 [09:09<24:04,  3.09s/it]"
     ]
    },
    {
     "name": "stdout",
     "output_type": "stream",
     "text": [
      "\n",
      "Testing reaction: r1028\n",
      "Reaction r1028 knockout is safe.\n",
      "Added r1028 to the candidate removal list.\n",
      "Cumulative effect of r1028 is safe. Updated safe removal list.\n"
     ]
    },
    {
     "name": "stderr",
     "output_type": "stream",
     "text": [
      "Processing reactions:  38%|███████▎           | 292/759 [09:12<24:14,  3.11s/it]"
     ]
    },
    {
     "name": "stdout",
     "output_type": "stream",
     "text": [
      "\n",
      "Testing reaction: FACOAL180x\n",
      "Reaction FACOAL180x knockout is safe.\n",
      "Added FACOAL180x to the candidate removal list.\n",
      "Cumulative effect of FACOAL180x is safe. Updated safe removal list.\n"
     ]
    },
    {
     "name": "stderr",
     "output_type": "stream",
     "text": [
      "Processing reactions:  39%|███████▎           | 293/759 [09:16<24:35,  3.17s/it]"
     ]
    },
    {
     "name": "stdout",
     "output_type": "stream",
     "text": [
      "\n",
      "Testing reaction: FACOAL203x\n",
      "Reaction FACOAL203x knockout is safe.\n",
      "Added FACOAL203x to the candidate removal list.\n",
      "Cumulative effect of FACOAL203x is safe. Updated safe removal list.\n"
     ]
    },
    {
     "name": "stderr",
     "output_type": "stream",
     "text": [
      "Processing reactions:  39%|███████▎           | 294/759 [09:19<24:54,  3.21s/it]"
     ]
    },
    {
     "name": "stdout",
     "output_type": "stream",
     "text": [
      "\n",
      "Testing reaction: NDPK3n\n",
      "Reaction NDPK3n knockout is safe.\n",
      "Added NDPK3n to the candidate removal list.\n",
      "Cumulative effect of NDPK3n is safe. Updated safe removal list.\n"
     ]
    },
    {
     "name": "stderr",
     "output_type": "stream",
     "text": [
      "Processing reactions:  39%|███████▍           | 295/759 [09:22<24:30,  3.17s/it]"
     ]
    },
    {
     "name": "stdout",
     "output_type": "stream",
     "text": [
      "\n",
      "Testing reaction: HMR_0387\n",
      "Reaction HMR_0387 knockout is safe.\n",
      "Added HMR_0387 to the candidate removal list.\n",
      "Cumulative effect of HMR_0387 is safe. Updated safe removal list.\n"
     ]
    },
    {
     "name": "stderr",
     "output_type": "stream",
     "text": [
      "Processing reactions:  39%|███████▍           | 296/759 [09:25<24:11,  3.13s/it]"
     ]
    },
    {
     "name": "stdout",
     "output_type": "stream",
     "text": [
      "\n",
      "Testing reaction: R_group_phosphotase_3\n",
      "Reaction R_group_phosphotase_3 knockout is safe.\n",
      "Added R_group_phosphotase_3 to the candidate removal list.\n",
      "Cumulative effect of R_group_phosphotase_3 is safe. Updated safe removal list.\n"
     ]
    },
    {
     "name": "stderr",
     "output_type": "stream",
     "text": [
      "Processing reactions:  39%|███████▍           | 297/759 [09:28<24:09,  3.14s/it]"
     ]
    },
    {
     "name": "stdout",
     "output_type": "stream",
     "text": [
      "\n",
      "Testing reaction: THYOCHOLabc\n",
      "Reaction THYOCHOLabc knockout is safe.\n",
      "Added THYOCHOLabc to the candidate removal list.\n",
      "Cumulative effect of THYOCHOLabc is safe. Updated safe removal list.\n"
     ]
    },
    {
     "name": "stderr",
     "output_type": "stream",
     "text": [
      "Processing reactions:  39%|███████▍           | 298/759 [09:31<24:03,  3.13s/it]"
     ]
    },
    {
     "name": "stdout",
     "output_type": "stream",
     "text": [
      "\n",
      "Testing reaction: CARNS1\n",
      "Reaction CARNS1 knockout is safe.\n",
      "Added CARNS1 to the candidate removal list.\n",
      "Cumulative effect of CARNS1 is safe. Updated safe removal list.\n"
     ]
    },
    {
     "name": "stderr",
     "output_type": "stream",
     "text": [
      "Processing reactions:  39%|███████▍           | 299/759 [09:34<23:55,  3.12s/it]"
     ]
    },
    {
     "name": "stdout",
     "output_type": "stream",
     "text": [
      "\n",
      "Testing reaction: CE2510ABCt\n",
      "Reaction CE2510ABCt knockout is safe.\n",
      "Added CE2510ABCt to the candidate removal list.\n",
      "Cumulative effect of CE2510ABCt is safe. Updated safe removal list.\n"
     ]
    },
    {
     "name": "stderr",
     "output_type": "stream",
     "text": [
      "Processing reactions:  40%|███████▌           | 300/759 [09:37<23:40,  3.10s/it]"
     ]
    },
    {
     "name": "stdout",
     "output_type": "stream",
     "text": [
      "\n",
      "Testing reaction: FACOAL1811x\n",
      "Reaction FACOAL1811x knockout is safe.\n",
      "Added FACOAL1811x to the candidate removal list.\n",
      "Cumulative effect of FACOAL1811x is safe. Updated safe removal list.\n"
     ]
    },
    {
     "name": "stderr",
     "output_type": "stream",
     "text": [
      "Processing reactions:  40%|███████▌           | 301/759 [09:41<23:43,  3.11s/it]"
     ]
    },
    {
     "name": "stdout",
     "output_type": "stream",
     "text": [
      "\n",
      "Testing reaction: HMR_2978\n",
      "Reaction HMR_2978 knockout is safe.\n",
      "Added HMR_2978 to the candidate removal list.\n",
      "Cumulative effect of HMR_2978 is safe. Updated safe removal list.\n"
     ]
    },
    {
     "name": "stderr",
     "output_type": "stream",
     "text": [
      "Processing reactions:  40%|███████▌           | 302/759 [09:44<23:45,  3.12s/it]"
     ]
    },
    {
     "name": "stdout",
     "output_type": "stream",
     "text": [
      "\n",
      "Testing reaction: PHYQt\n",
      "Reaction PHYQt knockout is safe.\n",
      "Added PHYQt to the candidate removal list.\n",
      "Cumulative effect of PHYQt is safe. Updated safe removal list.\n"
     ]
    },
    {
     "name": "stderr",
     "output_type": "stream",
     "text": [
      "Processing reactions:  40%|███████▌           | 303/759 [09:47<24:03,  3.17s/it]"
     ]
    },
    {
     "name": "stdout",
     "output_type": "stream",
     "text": [
      "\n",
      "Testing reaction: SADT\n",
      "Reaction SADT knockout is safe.\n",
      "Added SADT to the candidate removal list.\n",
      "Cumulative effect of SADT is safe. Updated safe removal list.\n"
     ]
    },
    {
     "name": "stderr",
     "output_type": "stream",
     "text": [
      "Processing reactions:  40%|███████▌           | 304/759 [09:50<24:00,  3.17s/it]"
     ]
    },
    {
     "name": "stdout",
     "output_type": "stream",
     "text": [
      "\n",
      "Testing reaction: LEUKABCtc\n",
      "Reaction LEUKABCtc knockout is safe.\n",
      "Added LEUKABCtc to the candidate removal list.\n",
      "Cumulative effect of LEUKABCtc is safe. Updated safe removal list.\n"
     ]
    },
    {
     "name": "stderr",
     "output_type": "stream",
     "text": [
      "Processing reactions:  40%|███████▋           | 305/759 [09:54<24:18,  3.21s/it]"
     ]
    },
    {
     "name": "stdout",
     "output_type": "stream",
     "text": [
      "\n",
      "Testing reaction: NDPK5m\n",
      "Reaction NDPK5m knockout is safe.\n",
      "Added NDPK5m to the candidate removal list.\n",
      "Cumulative effect of NDPK5m is safe. Updated safe removal list.\n"
     ]
    },
    {
     "name": "stderr",
     "output_type": "stream",
     "text": [
      "Processing reactions:  40%|███████▋           | 306/759 [09:57<24:31,  3.25s/it]"
     ]
    },
    {
     "name": "stdout",
     "output_type": "stream",
     "text": [
      "\n",
      "Testing reaction: HMR_0271\n",
      "Reaction HMR_0271 knockout is safe.\n",
      "Added HMR_0271 to the candidate removal list.\n",
      "Cumulative effect of HMR_0271 is safe. Updated safe removal list.\n"
     ]
    },
    {
     "name": "stderr",
     "output_type": "stream",
     "text": [
      "Processing reactions:  40%|███████▋           | 307/759 [10:00<24:18,  3.23s/it]"
     ]
    },
    {
     "name": "stdout",
     "output_type": "stream",
     "text": [
      "\n",
      "Testing reaction: r1337\n",
      "Reaction r1337 knockout is safe.\n",
      "Added r1337 to the candidate removal list.\n",
      "Cumulative effect of r1337 is safe. Updated safe removal list.\n"
     ]
    },
    {
     "name": "stderr",
     "output_type": "stream",
     "text": [
      "Processing reactions:  41%|███████▋           | 308/759 [10:03<24:12,  3.22s/it]"
     ]
    },
    {
     "name": "stdout",
     "output_type": "stream",
     "text": [
      "\n",
      "Testing reaction: PI34P5Kn\n",
      "Reaction PI34P5Kn knockout is safe.\n",
      "Added PI34P5Kn to the candidate removal list.\n",
      "Cumulative effect of PI34P5Kn is safe. Updated safe removal list.\n"
     ]
    },
    {
     "name": "stderr",
     "output_type": "stream",
     "text": [
      "Processing reactions:  41%|███████▋           | 309/759 [10:06<24:09,  3.22s/it]"
     ]
    },
    {
     "name": "stdout",
     "output_type": "stream",
     "text": [
      "\n",
      "Testing reaction: ESTRAABCtc\n",
      "Reaction ESTRAABCtc knockout is safe.\n",
      "Added ESTRAABCtc to the candidate removal list.\n",
      "Cumulative effect of ESTRAABCtc is safe. Updated safe removal list.\n"
     ]
    },
    {
     "name": "stderr",
     "output_type": "stream",
     "text": [
      "Processing reactions:  41%|███████▊           | 310/759 [10:10<23:54,  3.20s/it]"
     ]
    },
    {
     "name": "stdout",
     "output_type": "stream",
     "text": [
      "\n",
      "Testing reaction: r0097\n",
      "Reaction r0097 knockout is safe.\n",
      "Added r0097 to the candidate removal list.\n",
      "Cumulative effect of r0097 is safe. Updated safe removal list.\n"
     ]
    },
    {
     "name": "stderr",
     "output_type": "stream",
     "text": [
      "Processing reactions:  41%|███████▊           | 311/759 [10:13<23:49,  3.19s/it]"
     ]
    },
    {
     "name": "stdout",
     "output_type": "stream",
     "text": [
      "\n",
      "Testing reaction: FACOAL240x\n",
      "Reaction FACOAL240x knockout is safe.\n",
      "Added FACOAL240x to the candidate removal list.\n",
      "Cumulative effect of FACOAL240x is safe. Updated safe removal list.\n"
     ]
    },
    {
     "name": "stderr",
     "output_type": "stream",
     "text": [
      "Processing reactions:  41%|███████▊           | 312/759 [10:16<23:46,  3.19s/it]"
     ]
    },
    {
     "name": "stdout",
     "output_type": "stream",
     "text": [
      "\n",
      "Testing reaction: HMR_2988\n",
      "Reaction HMR_2988 knockout is safe.\n",
      "Added HMR_2988 to the candidate removal list.\n",
      "Cumulative effect of HMR_2988 is safe. Updated safe removal list.\n"
     ]
    },
    {
     "name": "stderr",
     "output_type": "stream",
     "text": [
      "Processing reactions:  41%|███████▊           | 313/759 [10:19<23:45,  3.20s/it]"
     ]
    },
    {
     "name": "stdout",
     "output_type": "stream",
     "text": [
      "\n",
      "Testing reaction: MEPIVESSte\n",
      "Reaction MEPIVESSte knockout is safe.\n",
      "Added MEPIVESSte to the candidate removal list.\n",
      "Cumulative effect of MEPIVESSte is safe. Updated safe removal list.\n"
     ]
    },
    {
     "name": "stderr",
     "output_type": "stream",
     "text": [
      "Processing reactions:  41%|███████▊           | 314/759 [10:22<23:42,  3.20s/it]"
     ]
    },
    {
     "name": "stdout",
     "output_type": "stream",
     "text": [
      "\n",
      "Testing reaction: CYTK1m\n",
      "Reaction CYTK1m knockout is safe.\n",
      "Added CYTK1m to the candidate removal list.\n",
      "Cumulative effect of CYTK1m is safe. Updated safe removal list.\n"
     ]
    },
    {
     "name": "stderr",
     "output_type": "stream",
     "text": [
      "Processing reactions:  42%|███████▉           | 315/759 [10:26<23:37,  3.19s/it]"
     ]
    },
    {
     "name": "stdout",
     "output_type": "stream",
     "text": [
      "\n",
      "Testing reaction: DNDPt57m\n",
      "Reaction DNDPt57m knockout is safe.\n",
      "Added DNDPt57m to the candidate removal list.\n",
      "Cumulative effect of DNDPt57m is safe. Updated safe removal list.\n"
     ]
    },
    {
     "name": "stderr",
     "output_type": "stream",
     "text": [
      "Processing reactions:  42%|███████▉           | 316/759 [10:29<23:39,  3.20s/it]"
     ]
    },
    {
     "name": "stdout",
     "output_type": "stream",
     "text": [
      "\n",
      "Testing reaction: HMR_2963\n",
      "Reaction HMR_2963 knockout is safe.\n",
      "Added HMR_2963 to the candidate removal list.\n",
      "Cumulative effect of HMR_2963 is safe. Updated safe removal list.\n"
     ]
    },
    {
     "name": "stderr",
     "output_type": "stream",
     "text": [
      "Processing reactions:  42%|███████▉           | 317/759 [10:32<23:43,  3.22s/it]"
     ]
    },
    {
     "name": "stdout",
     "output_type": "stream",
     "text": [
      "\n",
      "Testing reaction: PI45P3K\n",
      "Reaction PI45P3K knockout is safe.\n",
      "Added PI45P3K to the candidate removal list.\n",
      "Cumulative effect of PI45P3K is safe. Updated safe removal list.\n"
     ]
    },
    {
     "name": "stderr",
     "output_type": "stream",
     "text": [
      "Processing reactions:  42%|███████▉           | 318/759 [10:35<23:44,  3.23s/it]"
     ]
    },
    {
     "name": "stdout",
     "output_type": "stream",
     "text": [
      "\n",
      "Testing reaction: GTHLabc\n",
      "Reaction GTHLabc knockout is safe.\n",
      "Added GTHLabc to the candidate removal list.\n",
      "Cumulative effect of GTHLabc is safe. Updated safe removal list.\n"
     ]
    },
    {
     "name": "stderr",
     "output_type": "stream",
     "text": [
      "Processing reactions:  42%|███████▉           | 319/759 [10:38<23:36,  3.22s/it]"
     ]
    },
    {
     "name": "stdout",
     "output_type": "stream",
     "text": [
      "\n",
      "Testing reaction: GLYKm\n",
      "Reaction GLYKm knockout is safe.\n",
      "Added GLYKm to the candidate removal list.\n",
      "Cumulative effect of GLYKm is safe. Updated safe removal list.\n"
     ]
    },
    {
     "name": "stderr",
     "output_type": "stream",
     "text": [
      "Processing reactions:  42%|████████           | 320/759 [10:42<23:25,  3.20s/it]"
     ]
    },
    {
     "name": "stdout",
     "output_type": "stream",
     "text": [
      "\n",
      "Testing reaction: DOPA3GLCURt\n",
      "Reaction DOPA3GLCURt knockout is safe.\n",
      "Added DOPA3GLCURt to the candidate removal list.\n",
      "Cumulative effect of DOPA3GLCURt is safe. Updated safe removal list.\n"
     ]
    },
    {
     "name": "stderr",
     "output_type": "stream",
     "text": [
      "Processing reactions:  42%|████████           | 321/759 [10:45<23:27,  3.21s/it]"
     ]
    },
    {
     "name": "stdout",
     "output_type": "stream",
     "text": [
      "\n",
      "Testing reaction: RE3074X\n",
      "Reaction RE3074X knockout is safe.\n",
      "Added RE3074X to the candidate removal list.\n",
      "Cumulative effect of RE3074X is safe. Updated safe removal list.\n"
     ]
    },
    {
     "name": "stderr",
     "output_type": "stream",
     "text": [
      "Processing reactions:  42%|████████           | 322/759 [10:48<23:21,  3.21s/it]"
     ]
    },
    {
     "name": "stdout",
     "output_type": "stream",
     "text": [
      "\n",
      "Testing reaction: r1012\n",
      "Reaction r1012 knockout is safe.\n",
      "Added r1012 to the candidate removal list.\n",
      "Cumulative effect of r1012 is safe. Updated safe removal list.\n"
     ]
    },
    {
     "name": "stderr",
     "output_type": "stream",
     "text": [
      "Processing reactions:  43%|████████           | 323/759 [10:51<23:17,  3.20s/it]"
     ]
    },
    {
     "name": "stdout",
     "output_type": "stream",
     "text": [
      "\n",
      "Testing reaction: HMR_0291\n",
      "Reaction HMR_0291 knockout is safe.\n",
      "Added HMR_0291 to the candidate removal list.\n",
      "Cumulative effect of HMR_0291 is safe. Updated safe removal list.\n"
     ]
    },
    {
     "name": "stderr",
     "output_type": "stream",
     "text": [
      "Processing reactions:  43%|████████           | 324/759 [10:54<23:15,  3.21s/it]"
     ]
    },
    {
     "name": "stdout",
     "output_type": "stream",
     "text": [
      "\n",
      "Testing reaction: RE2972M\n",
      "Reaction RE2972M knockout is safe.\n",
      "Added RE2972M to the candidate removal list.\n",
      "Cumulative effect of RE2972M is safe. Updated safe removal list.\n"
     ]
    },
    {
     "name": "stderr",
     "output_type": "stream",
     "text": [
      "Processing reactions:  43%|████████▏          | 325/759 [10:58<23:25,  3.24s/it]"
     ]
    },
    {
     "name": "stdout",
     "output_type": "stream",
     "text": [
      "\n",
      "Testing reaction: FACOAL1812\n",
      "Reaction FACOAL1812 knockout is safe.\n",
      "Added FACOAL1812 to the candidate removal list.\n",
      "Cumulative effect of FACOAL1812 is safe. Updated safe removal list.\n"
     ]
    },
    {
     "name": "stderr",
     "output_type": "stream",
     "text": [
      "Processing reactions:  43%|████████▏          | 326/759 [11:01<23:31,  3.26s/it]"
     ]
    },
    {
     "name": "stdout",
     "output_type": "stream",
     "text": [
      "\n",
      "Testing reaction: MEVK1x\n",
      "Reaction MEVK1x knockout is safe.\n",
      "Added MEVK1x to the candidate removal list.\n",
      "Cumulative effect of MEVK1x is safe. Updated safe removal list.\n"
     ]
    },
    {
     "name": "stderr",
     "output_type": "stream",
     "text": [
      "Processing reactions:  43%|████████▏          | 327/759 [11:05<23:58,  3.33s/it]"
     ]
    },
    {
     "name": "stdout",
     "output_type": "stream",
     "text": [
      "\n",
      "Testing reaction: BALAVECSEC\n",
      "Reaction BALAVECSEC knockout is safe.\n",
      "Added BALAVECSEC to the candidate removal list.\n",
      "Cumulative effect of BALAVECSEC is safe. Updated safe removal list.\n"
     ]
    },
    {
     "name": "stderr",
     "output_type": "stream",
     "text": [
      "Processing reactions:  43%|████████▏          | 328/759 [11:08<23:46,  3.31s/it]"
     ]
    },
    {
     "name": "stdout",
     "output_type": "stream",
     "text": [
      "\n",
      "Testing reaction: PPP9ABCte\n",
      "Reaction PPP9ABCte knockout is safe.\n",
      "Added PPP9ABCte to the candidate removal list.\n",
      "Cumulative effect of PPP9ABCte is safe. Updated safe removal list.\n"
     ]
    },
    {
     "name": "stderr",
     "output_type": "stream",
     "text": [
      "Processing reactions:  43%|████████▏          | 329/759 [11:11<23:53,  3.33s/it]"
     ]
    },
    {
     "name": "stdout",
     "output_type": "stream",
     "text": [
      "\n",
      "Testing reaction: r2505\n",
      "Reaction r2505 knockout is safe.\n",
      "Added r2505 to the candidate removal list.\n",
      "Cumulative effect of r2505 is safe. Updated safe removal list.\n"
     ]
    },
    {
     "name": "stderr",
     "output_type": "stream",
     "text": [
      "Processing reactions:  43%|████████▎          | 330/759 [11:15<24:26,  3.42s/it]"
     ]
    },
    {
     "name": "stdout",
     "output_type": "stream",
     "text": [
      "\n",
      "Testing reaction: PI45P3Kn\n",
      "Reaction PI45P3Kn knockout is safe.\n",
      "Added PI45P3Kn to the candidate removal list.\n",
      "Cumulative effect of PI45P3Kn is safe. Updated safe removal list.\n"
     ]
    },
    {
     "name": "stderr",
     "output_type": "stream",
     "text": [
      "Processing reactions:  44%|████████▎          | 331/759 [11:18<24:19,  3.41s/it]"
     ]
    },
    {
     "name": "stdout",
     "output_type": "stream",
     "text": [
      "\n",
      "Testing reaction: BTNt3i\n",
      "Reaction BTNt3i knockout is safe.\n",
      "Added BTNt3i to the candidate removal list.\n",
      "Cumulative effect of BTNt3i is safe. Updated safe removal list.\n"
     ]
    },
    {
     "name": "stderr",
     "output_type": "stream",
     "text": [
      "Processing reactions:  44%|████████▎          | 332/759 [11:22<24:15,  3.41s/it]"
     ]
    },
    {
     "name": "stdout",
     "output_type": "stream",
     "text": [
      "\n",
      "Testing reaction: r1516\n",
      "Reaction r1516 knockout is safe.\n",
      "Added r1516 to the candidate removal list.\n",
      "Cumulative effect of r1516 is safe. Updated safe removal list.\n"
     ]
    },
    {
     "name": "stderr",
     "output_type": "stream",
     "text": [
      "Processing reactions:  44%|████████▎          | 333/759 [11:25<24:07,  3.40s/it]"
     ]
    },
    {
     "name": "stdout",
     "output_type": "stream",
     "text": [
      "\n",
      "Testing reaction: CLPNDCOAtbc\n",
      "Reaction CLPNDCOAtbc knockout is safe.\n",
      "Added CLPNDCOAtbc to the candidate removal list.\n",
      "Cumulative effect of CLPNDCOAtbc is safe. Updated safe removal list.\n"
     ]
    },
    {
     "name": "stderr",
     "output_type": "stream",
     "text": [
      "Processing reactions:  44%|████████▎          | 334/759 [11:29<24:13,  3.42s/it]"
     ]
    },
    {
     "name": "stdout",
     "output_type": "stream",
     "text": [
      "\n",
      "Testing reaction: FACOAL244_1\n",
      "Reaction FACOAL244_1 knockout is safe.\n",
      "Added FACOAL244_1 to the candidate removal list.\n",
      "Cumulative effect of FACOAL244_1 is safe. Updated safe removal list.\n"
     ]
    },
    {
     "name": "stderr",
     "output_type": "stream",
     "text": [
      "Processing reactions:  44%|████████▍          | 335/759 [11:32<24:27,  3.46s/it]"
     ]
    },
    {
     "name": "stdout",
     "output_type": "stream",
     "text": [
      "\n",
      "Testing reaction: HMR_0325\n",
      "Reaction HMR_0325 knockout is safe.\n",
      "Added HMR_0325 to the candidate removal list.\n",
      "Cumulative effect of HMR_0325 is safe. Updated safe removal list.\n"
     ]
    },
    {
     "name": "stderr",
     "output_type": "stream",
     "text": [
      "Processing reactions:  44%|████████▍          | 336/759 [11:36<24:41,  3.50s/it]"
     ]
    },
    {
     "name": "stdout",
     "output_type": "stream",
     "text": [
      "\n",
      "Testing reaction: HMR_0385\n",
      "Reaction HMR_0385 knockout is safe.\n",
      "Added HMR_0385 to the candidate removal list.\n",
      "Cumulative effect of HMR_0385 is safe. Updated safe removal list.\n"
     ]
    },
    {
     "name": "stderr",
     "output_type": "stream",
     "text": [
      "Processing reactions:  44%|████████▍          | 337/759 [11:39<24:42,  3.51s/it]"
     ]
    },
    {
     "name": "stdout",
     "output_type": "stream",
     "text": [
      "\n",
      "Testing reaction: r1520\n",
      "Reaction r1520 knockout is safe.\n",
      "Added r1520 to the candidate removal list.\n",
      "Cumulative effect of r1520 is safe. Updated safe removal list.\n"
     ]
    },
    {
     "name": "stderr",
     "output_type": "stream",
     "text": [
      "Processing reactions:  45%|████████▍          | 338/759 [11:43<24:27,  3.49s/it]"
     ]
    },
    {
     "name": "stdout",
     "output_type": "stream",
     "text": [
      "\n",
      "Testing reaction: CTPS2\n",
      "Reaction CTPS2 knockout is safe.\n",
      "Added CTPS2 to the candidate removal list.\n",
      "Cumulative effect of CTPS2 is safe. Updated safe removal list.\n"
     ]
    },
    {
     "name": "stderr",
     "output_type": "stream",
     "text": [
      "Processing reactions:  45%|████████▍          | 339/759 [11:46<24:15,  3.46s/it]"
     ]
    },
    {
     "name": "stdout",
     "output_type": "stream",
     "text": [
      "\n",
      "Testing reaction: HMR_6578\n",
      "Reaction HMR_6578 knockout is safe.\n",
      "Added HMR_6578 to the candidate removal list.\n",
      "Cumulative effect of HMR_6578 is safe. Updated safe removal list.\n"
     ]
    },
    {
     "name": "stderr",
     "output_type": "stream",
     "text": [
      "Processing reactions:  45%|████████▌          | 340/759 [11:50<24:24,  3.50s/it]"
     ]
    },
    {
     "name": "stdout",
     "output_type": "stream",
     "text": [
      "\n",
      "Testing reaction: DNDPt2m\n",
      "Reaction DNDPt2m knockout is safe.\n",
      "Added DNDPt2m to the candidate removal list.\n",
      "Cumulative effect of DNDPt2m is safe. Updated safe removal list.\n"
     ]
    },
    {
     "name": "stderr",
     "output_type": "stream",
     "text": [
      "Processing reactions:  45%|████████▌          | 341/759 [11:53<24:43,  3.55s/it]"
     ]
    },
    {
     "name": "stdout",
     "output_type": "stream",
     "text": [
      "\n",
      "Testing reaction: PSHSABCtc\n",
      "Reaction PSHSABCtc knockout is safe.\n",
      "Added PSHSABCtc to the candidate removal list.\n",
      "Cumulative effect of PSHSABCtc is safe. Updated safe removal list.\n"
     ]
    },
    {
     "name": "stderr",
     "output_type": "stream",
     "text": [
      "Processing reactions:  45%|████████▌          | 342/759 [11:57<24:42,  3.56s/it]"
     ]
    },
    {
     "name": "stdout",
     "output_type": "stream",
     "text": [
      "\n",
      "Testing reaction: r1100\n",
      "Reaction r1100 knockout is safe.\n",
      "Added r1100 to the candidate removal list.\n",
      "Cumulative effect of r1100 is safe. Updated safe removal list.\n"
     ]
    },
    {
     "name": "stderr",
     "output_type": "stream",
     "text": [
      "Processing reactions:  45%|████████▌          | 343/759 [12:00<24:48,  3.58s/it]"
     ]
    },
    {
     "name": "stdout",
     "output_type": "stream",
     "text": [
      "\n",
      "Testing reaction: r1017\n",
      "Reaction r1017 knockout is safe.\n",
      "Added r1017 to the candidate removal list.\n",
      "Cumulative effect of r1017 is safe. Updated safe removal list.\n"
     ]
    },
    {
     "name": "stderr",
     "output_type": "stream",
     "text": [
      "Processing reactions:  45%|████████▌          | 344/759 [12:04<24:39,  3.56s/it]"
     ]
    },
    {
     "name": "stdout",
     "output_type": "stream",
     "text": [
      "\n",
      "Testing reaction: GM4Pabc\n",
      "Reaction GM4Pabc knockout is safe.\n",
      "Added GM4Pabc to the candidate removal list.\n",
      "Cumulative effect of GM4Pabc is safe. Updated safe removal list.\n"
     ]
    },
    {
     "name": "stderr",
     "output_type": "stream",
     "text": [
      "Processing reactions:  45%|████████▋          | 345/759 [12:07<24:17,  3.52s/it]"
     ]
    },
    {
     "name": "stdout",
     "output_type": "stream",
     "text": [
      "\n",
      "Testing reaction: DOPA4GLCURt\n",
      "Reaction DOPA4GLCURt knockout is safe.\n",
      "Added DOPA4GLCURt to the candidate removal list.\n",
      "Cumulative effect of DOPA4GLCURt is safe. Updated safe removal list.\n"
     ]
    },
    {
     "name": "stderr",
     "output_type": "stream",
     "text": [
      "Processing reactions:  46%|████████▋          | 346/759 [12:11<24:14,  3.52s/it]"
     ]
    },
    {
     "name": "stdout",
     "output_type": "stream",
     "text": [
      "\n",
      "Testing reaction: ATPt4\n",
      "Reaction ATPt4 knockout is safe.\n",
      "Added ATPt4 to the candidate removal list.\n",
      "Cumulative effect of ATPt4 is safe. Updated safe removal list.\n"
     ]
    },
    {
     "name": "stderr",
     "output_type": "stream",
     "text": [
      "Processing reactions:  46%|████████▋          | 347/759 [12:15<24:28,  3.56s/it]"
     ]
    },
    {
     "name": "stdout",
     "output_type": "stream",
     "text": [
      "\n",
      "Testing reaction: r2502\n",
      "Reaction r2502 knockout is safe.\n",
      "Added r2502 to the candidate removal list.\n",
      "Cumulative effect of r2502 is safe. Updated safe removal list.\n"
     ]
    },
    {
     "name": "stderr",
     "output_type": "stream",
     "text": [
      "Processing reactions:  46%|████████▋          | 348/759 [12:18<24:39,  3.60s/it]"
     ]
    },
    {
     "name": "stdout",
     "output_type": "stream",
     "text": [
      "\n",
      "Testing reaction: TRIOK\n",
      "Reaction TRIOK knockout is safe.\n",
      "Added TRIOK to the candidate removal list.\n",
      "Cumulative effect of TRIOK is safe. Updated safe removal list.\n"
     ]
    },
    {
     "name": "stderr",
     "output_type": "stream",
     "text": [
      "Processing reactions:  46%|████████▋          | 349/759 [12:22<24:36,  3.60s/it]"
     ]
    },
    {
     "name": "stdout",
     "output_type": "stream",
     "text": [
      "\n",
      "Testing reaction: GTHRDt\n",
      "Reaction GTHRDt knockout is safe.\n",
      "Added GTHRDt to the candidate removal list.\n",
      "Cumulative effect of GTHRDt is safe. Updated safe removal list.\n"
     ]
    },
    {
     "name": "stderr",
     "output_type": "stream",
     "text": [
      "Processing reactions:  46%|████████▊          | 350/759 [12:25<24:27,  3.59s/it]"
     ]
    },
    {
     "name": "stdout",
     "output_type": "stream",
     "text": [
      "\n",
      "Testing reaction: NAXE1\n",
      "Reaction NAXE1 knockout is safe.\n",
      "Added NAXE1 to the candidate removal list.\n",
      "Cumulative effect of NAXE1 is safe. Updated safe removal list.\n"
     ]
    },
    {
     "name": "stderr",
     "output_type": "stream",
     "text": [
      "Processing reactions:  46%|████████▊          | 351/759 [12:29<25:14,  3.71s/it]"
     ]
    },
    {
     "name": "stdout",
     "output_type": "stream",
     "text": [
      "\n",
      "Testing reaction: PHEMEtabc\n",
      "Reaction PHEMEtabc knockout is safe.\n",
      "Added PHEMEtabc to the candidate removal list.\n",
      "Cumulative effect of PHEMEtabc is safe. Updated safe removal list.\n"
     ]
    },
    {
     "name": "stderr",
     "output_type": "stream",
     "text": [
      "Processing reactions:  46%|████████▊          | 352/759 [12:33<25:36,  3.78s/it]"
     ]
    },
    {
     "name": "stdout",
     "output_type": "stream",
     "text": [
      "\n",
      "Testing reaction: MI4PK\n",
      "Reaction MI4PK knockout is safe.\n",
      "Added MI4PK to the candidate removal list.\n",
      "Cumulative effect of MI4PK is safe. Updated safe removal list.\n"
     ]
    },
    {
     "name": "stderr",
     "output_type": "stream",
     "text": [
      "Processing reactions:  47%|████████▊          | 353/759 [12:38<26:23,  3.90s/it]"
     ]
    },
    {
     "name": "stdout",
     "output_type": "stream",
     "text": [
      "\n",
      "Testing reaction: NDPK10m\n",
      "Reaction NDPK10m knockout is safe.\n",
      "Added NDPK10m to the candidate removal list.\n",
      "Cumulative effect of NDPK10m is safe. Updated safe removal list.\n"
     ]
    },
    {
     "name": "stderr",
     "output_type": "stream",
     "text": [
      "Processing reactions:  47%|████████▊          | 354/759 [12:41<26:04,  3.86s/it]"
     ]
    },
    {
     "name": "stdout",
     "output_type": "stream",
     "text": [
      "\n",
      "Testing reaction: FACOAL224x\n",
      "Reaction FACOAL224x knockout is safe.\n",
      "Added FACOAL224x to the candidate removal list.\n",
      "Cumulative effect of FACOAL224x is safe. Updated safe removal list.\n"
     ]
    },
    {
     "name": "stderr",
     "output_type": "stream",
     "text": [
      "Processing reactions:  47%|████████▉          | 355/759 [12:45<25:48,  3.83s/it]"
     ]
    },
    {
     "name": "stdout",
     "output_type": "stream",
     "text": [
      "\n",
      "Testing reaction: HC02194te\n",
      "Reaction HC02194te knockout is safe.\n",
      "Added HC02194te to the candidate removal list.\n",
      "Cumulative effect of HC02194te is safe. Updated safe removal list.\n"
     ]
    },
    {
     "name": "stderr",
     "output_type": "stream",
     "text": [
      "Processing reactions:  47%|████████▉          | 356/759 [12:49<25:15,  3.76s/it]"
     ]
    },
    {
     "name": "stdout",
     "output_type": "stream",
     "text": [
      "\n",
      "Testing reaction: NNATr\n",
      "Reaction NNATr knockout is safe.\n",
      "Added NNATr to the candidate removal list.\n",
      "Cumulative effect of NNATr is safe. Updated safe removal list.\n"
     ]
    },
    {
     "name": "stderr",
     "output_type": "stream",
     "text": [
      "Processing reactions:  47%|████████▉          | 357/759 [12:52<25:04,  3.74s/it]"
     ]
    },
    {
     "name": "stdout",
     "output_type": "stream",
     "text": [
      "\n",
      "Testing reaction: NRPPHRVESSEC\n",
      "Reaction NRPPHRVESSEC knockout is safe.\n",
      "Added NRPPHRVESSEC to the candidate removal list.\n",
      "Cumulative effect of NRPPHRVESSEC is safe. Updated safe removal list.\n"
     ]
    },
    {
     "name": "stderr",
     "output_type": "stream",
     "text": [
      "Processing reactions:  47%|████████▉          | 358/759 [12:56<25:00,  3.74s/it]"
     ]
    },
    {
     "name": "stdout",
     "output_type": "stream",
     "text": [
      "\n",
      "Testing reaction: r1093\n",
      "Reaction r1093 knockout is safe.\n",
      "Added r1093 to the candidate removal list.\n",
      "Cumulative effect of r1093 is safe. Updated safe removal list.\n"
     ]
    },
    {
     "name": "stderr",
     "output_type": "stream",
     "text": [
      "Processing reactions:  47%|████████▉          | 359/759 [13:00<24:42,  3.71s/it]"
     ]
    },
    {
     "name": "stdout",
     "output_type": "stream",
     "text": [
      "\n",
      "Testing reaction: HMR_0329\n",
      "Reaction HMR_0329 knockout is safe.\n",
      "Added HMR_0329 to the candidate removal list.\n",
      "Cumulative effect of HMR_0329 is safe. Updated safe removal list.\n"
     ]
    },
    {
     "name": "stderr",
     "output_type": "stream",
     "text": [
      "Processing reactions:  47%|█████████          | 360/759 [13:03<24:28,  3.68s/it]"
     ]
    },
    {
     "name": "stdout",
     "output_type": "stream",
     "text": [
      "\n",
      "Testing reaction: r1252\n",
      "Reaction r1252 knockout is safe.\n",
      "Added r1252 to the candidate removal list.\n",
      "Cumulative effect of r1252 is safe. Updated safe removal list.\n"
     ]
    },
    {
     "name": "stderr",
     "output_type": "stream",
     "text": [
      "Processing reactions:  48%|█████████          | 361/759 [13:07<24:12,  3.65s/it]"
     ]
    },
    {
     "name": "stdout",
     "output_type": "stream",
     "text": [
      "\n",
      "Testing reaction: HMR_0305\n",
      "Reaction HMR_0305 knockout is safe.\n",
      "Added HMR_0305 to the candidate removal list.\n",
      "Cumulative effect of HMR_0305 is safe. Updated safe removal list.\n"
     ]
    },
    {
     "name": "stderr",
     "output_type": "stream",
     "text": [
      "Processing reactions:  48%|█████████          | 362/759 [13:11<24:04,  3.64s/it]"
     ]
    },
    {
     "name": "stdout",
     "output_type": "stream",
     "text": [
      "\n",
      "Testing reaction: HMR_3001\n",
      "Reaction HMR_3001 knockout is safe.\n",
      "Added HMR_3001 to the candidate removal list.\n",
      "Cumulative effect of HMR_3001 is safe. Updated safe removal list.\n"
     ]
    },
    {
     "name": "stderr",
     "output_type": "stream",
     "text": [
      "Processing reactions:  48%|█████████          | 363/759 [13:14<23:44,  3.60s/it]"
     ]
    },
    {
     "name": "stdout",
     "output_type": "stream",
     "text": [
      "\n",
      "Testing reaction: LCA3Gte\n",
      "Reaction LCA3Gte knockout is safe.\n",
      "Added LCA3Gte to the candidate removal list.\n",
      "Cumulative effect of LCA3Gte is safe. Updated safe removal list.\n"
     ]
    },
    {
     "name": "stderr",
     "output_type": "stream",
     "text": [
      "Processing reactions:  48%|█████████          | 364/759 [13:18<23:26,  3.56s/it]"
     ]
    },
    {
     "name": "stdout",
     "output_type": "stream",
     "text": [
      "\n",
      "Testing reaction: CYTDK2m\n",
      "Reaction CYTDK2m knockout is safe.\n",
      "Added CYTDK2m to the candidate removal list.\n",
      "Cumulative effect of CYTDK2m is safe. Updated safe removal list.\n"
     ]
    },
    {
     "name": "stderr",
     "output_type": "stream",
     "text": [
      "Processing reactions:  48%|█████████▏         | 365/759 [13:21<23:21,  3.56s/it]"
     ]
    },
    {
     "name": "stdout",
     "output_type": "stream",
     "text": [
      "\n",
      "Testing reaction: PRGNLONEte\n",
      "Reaction PRGNLONEte knockout is safe.\n",
      "Added PRGNLONEte to the candidate removal list.\n",
      "Cumulative effect of PRGNLONEte is safe. Updated safe removal list.\n"
     ]
    },
    {
     "name": "stderr",
     "output_type": "stream",
     "text": [
      "Processing reactions:  48%|█████████▏         | 366/759 [13:25<23:31,  3.59s/it]"
     ]
    },
    {
     "name": "stdout",
     "output_type": "stream",
     "text": [
      "\n",
      "Testing reaction: PCS\n",
      "Reaction PCS knockout is safe.\n",
      "Added PCS to the candidate removal list.\n",
      "Cumulative effect of PCS is safe. Updated safe removal list.\n"
     ]
    },
    {
     "name": "stderr",
     "output_type": "stream",
     "text": [
      "Processing reactions:  48%|█████████▏         | 367/759 [13:28<23:27,  3.59s/it]"
     ]
    },
    {
     "name": "stdout",
     "output_type": "stream",
     "text": [
      "\n",
      "Testing reaction: GLCSGLT1le\n",
      "Reaction GLCSGLT1le knockout is safe.\n",
      "Added GLCSGLT1le to the candidate removal list.\n",
      "Cumulative effect of GLCSGLT1le is safe. Updated safe removal list.\n"
     ]
    },
    {
     "name": "stderr",
     "output_type": "stream",
     "text": [
      "Processing reactions:  48%|█████████▏         | 368/759 [13:32<23:20,  3.58s/it]"
     ]
    },
    {
     "name": "stdout",
     "output_type": "stream",
     "text": [
      "\n",
      "Testing reaction: NDPK6m\n",
      "Reaction NDPK6m knockout is safe.\n",
      "Added NDPK6m to the candidate removal list.\n",
      "Cumulative effect of NDPK6m is safe. Updated safe removal list.\n"
     ]
    },
    {
     "name": "stderr",
     "output_type": "stream",
     "text": [
      "Processing reactions:  49%|█████████▏         | 369/759 [13:36<23:24,  3.60s/it]"
     ]
    },
    {
     "name": "stdout",
     "output_type": "stream",
     "text": [
      "\n",
      "Testing reaction: NDPK7n\n",
      "Reaction NDPK7n knockout is safe.\n",
      "Added NDPK7n to the candidate removal list.\n",
      "Cumulative effect of NDPK7n is safe. Updated safe removal list.\n"
     ]
    },
    {
     "name": "stderr",
     "output_type": "stream",
     "text": [
      "Processing reactions:  49%|█████████▎         | 370/759 [13:39<23:34,  3.64s/it]"
     ]
    },
    {
     "name": "stdout",
     "output_type": "stream",
     "text": [
      "\n",
      "Testing reaction: NRVNCABCt\n",
      "Reaction NRVNCABCt knockout is safe.\n",
      "Added NRVNCABCt to the candidate removal list.\n",
      "Cumulative effect of NRVNCABCt is safe. Updated safe removal list.\n"
     ]
    },
    {
     "name": "stderr",
     "output_type": "stream",
     "text": [
      "Processing reactions:  49%|█████████▎         | 371/759 [13:43<23:35,  3.65s/it]"
     ]
    },
    {
     "name": "stdout",
     "output_type": "stream",
     "text": [
      "\n",
      "Testing reaction: HMR_2974\n",
      "Reaction HMR_2974 knockout is safe.\n",
      "Added HMR_2974 to the candidate removal list.\n",
      "Cumulative effect of HMR_2974 is safe. Updated safe removal list.\n"
     ]
    },
    {
     "name": "stderr",
     "output_type": "stream",
     "text": [
      "Processing reactions:  49%|█████████▎         | 372/759 [13:47<23:31,  3.65s/it]"
     ]
    },
    {
     "name": "stdout",
     "output_type": "stream",
     "text": [
      "\n",
      "Testing reaction: FACOAL120i\n",
      "Reaction FACOAL120i knockout is safe.\n",
      "Added FACOAL120i to the candidate removal list.\n",
      "Cumulative effect of FACOAL120i is safe. Updated safe removal list.\n"
     ]
    },
    {
     "name": "stderr",
     "output_type": "stream",
     "text": [
      "Processing reactions:  49%|█████████▎         | 373/759 [13:50<23:44,  3.69s/it]"
     ]
    },
    {
     "name": "stdout",
     "output_type": "stream",
     "text": [
      "\n",
      "Testing reaction: DNDPt56m\n",
      "Reaction DNDPt56m knockout is safe.\n",
      "Added DNDPt56m to the candidate removal list.\n",
      "Cumulative effect of DNDPt56m is safe. Updated safe removal list.\n"
     ]
    },
    {
     "name": "stderr",
     "output_type": "stream",
     "text": [
      "Processing reactions:  49%|█████████▎         | 374/759 [13:54<24:02,  3.75s/it]"
     ]
    },
    {
     "name": "stdout",
     "output_type": "stream",
     "text": [
      "\n",
      "Testing reaction: OCDCEAOCDE9ECOA_r\n",
      "Reaction OCDCEAOCDE9ECOA_r knockout is safe.\n",
      "Added OCDCEAOCDE9ECOA_r to the candidate removal list.\n",
      "Cumulative effect of OCDCEAOCDE9ECOA_r is safe. Updated safe removal list.\n"
     ]
    },
    {
     "name": "stderr",
     "output_type": "stream",
     "text": [
      "Processing reactions:  49%|█████████▍         | 375/759 [13:58<23:35,  3.69s/it]"
     ]
    },
    {
     "name": "stdout",
     "output_type": "stream",
     "text": [
      "\n",
      "Testing reaction: C05770te\n",
      "Reaction C05770te knockout is safe.\n",
      "Added C05770te to the candidate removal list.\n",
      "Cumulative effect of C05770te is safe. Updated safe removal list.\n"
     ]
    },
    {
     "name": "stderr",
     "output_type": "stream",
     "text": [
      "Processing reactions:  50%|█████████▍         | 376/759 [14:02<23:35,  3.70s/it]"
     ]
    },
    {
     "name": "stdout",
     "output_type": "stream",
     "text": [
      "\n",
      "Testing reaction: HMR_3966\n",
      "Reaction HMR_3966 knockout is safe.\n",
      "Added HMR_3966 to the candidate removal list.\n",
      "Cumulative effect of HMR_3966 is safe. Updated safe removal list.\n"
     ]
    },
    {
     "name": "stderr",
     "output_type": "stream",
     "text": [
      "Processing reactions:  50%|█████████▍         | 377/759 [14:05<23:39,  3.72s/it]"
     ]
    },
    {
     "name": "stdout",
     "output_type": "stream",
     "text": [
      "\n",
      "Testing reaction: RE2972R\n",
      "Reaction RE2972R knockout is safe.\n",
      "Added RE2972R to the candidate removal list.\n",
      "Cumulative effect of RE2972R is safe. Updated safe removal list.\n"
     ]
    },
    {
     "name": "stderr",
     "output_type": "stream",
     "text": [
      "Processing reactions:  50%|█████████▍         | 378/759 [14:09<23:36,  3.72s/it]"
     ]
    },
    {
     "name": "stdout",
     "output_type": "stream",
     "text": [
      "\n",
      "Testing reaction: HMR_0297\n",
      "Reaction HMR_0297 knockout is safe.\n",
      "Added HMR_0297 to the candidate removal list.\n",
      "Cumulative effect of HMR_0297 is safe. Updated safe removal list.\n"
     ]
    },
    {
     "name": "stderr",
     "output_type": "stream",
     "text": [
      "Processing reactions:  50%|█████████▍         | 379/759 [14:13<23:25,  3.70s/it]"
     ]
    },
    {
     "name": "stdout",
     "output_type": "stream",
     "text": [
      "\n",
      "Testing reaction: NDPK9m\n",
      "Reaction NDPK9m knockout is safe.\n",
      "Added NDPK9m to the candidate removal list.\n",
      "Cumulative effect of NDPK9m is safe. Updated safe removal list.\n"
     ]
    },
    {
     "name": "stderr",
     "output_type": "stream",
     "text": [
      "Processing reactions:  50%|█████████▌         | 380/759 [14:16<23:13,  3.68s/it]"
     ]
    },
    {
     "name": "stdout",
     "output_type": "stream",
     "text": [
      "\n",
      "Testing reaction: r0924\n",
      "Reaction r0924 knockout is safe.\n",
      "Added r0924 to the candidate removal list.\n",
      "Cumulative effect of r0924 is safe. Updated safe removal list.\n"
     ]
    },
    {
     "name": "stderr",
     "output_type": "stream",
     "text": [
      "Processing reactions:  50%|█████████▌         | 381/759 [14:20<23:13,  3.69s/it]"
     ]
    },
    {
     "name": "stdout",
     "output_type": "stream",
     "text": [
      "\n",
      "Testing reaction: FACOAL150\n",
      "Reaction FACOAL150 knockout is safe.\n",
      "Added FACOAL150 to the candidate removal list.\n",
      "Cumulative effect of FACOAL150 is safe. Updated safe removal list.\n"
     ]
    },
    {
     "name": "stderr",
     "output_type": "stream",
     "text": [
      "Processing reactions:  50%|█████████▌         | 382/759 [14:24<23:27,  3.73s/it]"
     ]
    },
    {
     "name": "stdout",
     "output_type": "stream",
     "text": [
      "\n",
      "Testing reaction: CE1447te\n",
      "Reaction CE1447te knockout is safe.\n",
      "Added CE1447te to the candidate removal list.\n",
      "Cumulative effect of CE1447te is safe. Updated safe removal list.\n"
     ]
    },
    {
     "name": "stderr",
     "output_type": "stream",
     "text": [
      "Processing reactions:  50%|█████████▌         | 383/759 [14:28<23:30,  3.75s/it]"
     ]
    },
    {
     "name": "stdout",
     "output_type": "stream",
     "text": [
      "\n",
      "Testing reaction: PALFATPtc\n",
      "Reaction PALFATPtc knockout is safe.\n",
      "Added PALFATPtc to the candidate removal list.\n",
      "Cumulative effect of PALFATPtc is safe. Updated safe removal list.\n"
     ]
    },
    {
     "name": "stderr",
     "output_type": "stream",
     "text": [
      "Processing reactions:  51%|█████████▌         | 384/759 [14:31<23:36,  3.78s/it]"
     ]
    },
    {
     "name": "stdout",
     "output_type": "stream",
     "text": [
      "\n",
      "Testing reaction: TMNDNCCOAtcx\n",
      "Reaction TMNDNCCOAtcx knockout is safe.\n",
      "Added TMNDNCCOAtcx to the candidate removal list.\n",
      "Cumulative effect of TMNDNCCOAtcx is safe. Updated safe removal list.\n"
     ]
    },
    {
     "name": "stderr",
     "output_type": "stream",
     "text": [
      "Processing reactions:  51%|█████████▋         | 385/759 [14:35<23:27,  3.76s/it]"
     ]
    },
    {
     "name": "stdout",
     "output_type": "stream",
     "text": [
      "\n",
      "Testing reaction: r1515\n",
      "Reaction r1515 knockout is safe.\n",
      "Added r1515 to the candidate removal list.\n",
      "Cumulative effect of r1515 is safe. Updated safe removal list.\n"
     ]
    },
    {
     "name": "stderr",
     "output_type": "stream",
     "text": [
      "Processing reactions:  51%|█████████▋         | 386/759 [14:39<23:20,  3.75s/it]"
     ]
    },
    {
     "name": "stdout",
     "output_type": "stream",
     "text": [
      "\n",
      "Testing reaction: CAMPt\n",
      "Reaction CAMPt knockout is safe.\n",
      "Added CAMPt to the candidate removal list.\n",
      "Cumulative effect of CAMPt is safe. Updated safe removal list.\n"
     ]
    },
    {
     "name": "stderr",
     "output_type": "stream",
     "text": [
      "Processing reactions:  51%|█████████▋         | 387/759 [14:43<23:08,  3.73s/it]"
     ]
    },
    {
     "name": "stdout",
     "output_type": "stream",
     "text": [
      "\n",
      "Testing reaction: FACOAL160i\n",
      "Reaction FACOAL160i knockout is safe.\n",
      "Added FACOAL160i to the candidate removal list.\n",
      "Cumulative effect of FACOAL160i is safe. Updated safe removal list.\n"
     ]
    },
    {
     "name": "stderr",
     "output_type": "stream",
     "text": [
      "Processing reactions:  51%|█████████▋         | 388/759 [14:46<23:07,  3.74s/it]"
     ]
    },
    {
     "name": "stdout",
     "output_type": "stream",
     "text": [
      "\n",
      "Testing reaction: THRNTt\n",
      "Reaction THRNTt knockout is safe.\n",
      "Added THRNTt to the candidate removal list.\n",
      "Cumulative effect of THRNTt is safe. Updated safe removal list.\n"
     ]
    },
    {
     "name": "stderr",
     "output_type": "stream",
     "text": [
      "Processing reactions:  51%|█████████▋         | 389/759 [14:50<22:55,  3.72s/it]"
     ]
    },
    {
     "name": "stdout",
     "output_type": "stream",
     "text": [
      "\n",
      "Testing reaction: r2518\n",
      "Reaction r2518 knockout is safe.\n",
      "Added r2518 to the candidate removal list.\n",
      "Cumulative effect of r2518 is safe. Updated safe removal list.\n"
     ]
    },
    {
     "name": "stderr",
     "output_type": "stream",
     "text": [
      "Processing reactions:  51%|█████████▊         | 390/759 [14:54<22:54,  3.72s/it]"
     ]
    },
    {
     "name": "stdout",
     "output_type": "stream",
     "text": [
      "\n",
      "Testing reaction: NNATm\n",
      "Reaction NNATm knockout is safe.\n",
      "Added NNATm to the candidate removal list.\n",
      "Cumulative effect of NNATm is safe. Updated safe removal list.\n"
     ]
    },
    {
     "name": "stderr",
     "output_type": "stream",
     "text": [
      "Processing reactions:  52%|█████████▊         | 391/759 [14:58<22:48,  3.72s/it]"
     ]
    },
    {
     "name": "stdout",
     "output_type": "stream",
     "text": [
      "\n",
      "Testing reaction: r1522\n",
      "Reaction r1522 knockout is safe.\n",
      "Added r1522 to the candidate removal list.\n",
      "Cumulative effect of r1522 is safe. Updated safe removal list.\n"
     ]
    },
    {
     "name": "stderr",
     "output_type": "stream",
     "text": [
      "Processing reactions:  52%|█████████▊         | 392/759 [15:01<22:44,  3.72s/it]"
     ]
    },
    {
     "name": "stdout",
     "output_type": "stream",
     "text": [
      "\n",
      "Testing reaction: COPROSTabc\n",
      "Reaction COPROSTabc knockout is safe.\n",
      "Added COPROSTabc to the candidate removal list.\n",
      "Cumulative effect of COPROSTabc is safe. Updated safe removal list.\n"
     ]
    },
    {
     "name": "stderr",
     "output_type": "stream",
     "text": [
      "Processing reactions:  52%|█████████▊         | 393/759 [15:05<23:14,  3.81s/it]"
     ]
    },
    {
     "name": "stdout",
     "output_type": "stream",
     "text": [
      "\n",
      "Testing reaction: OCT11EFATP\n",
      "Reaction OCT11EFATP knockout is safe.\n",
      "Added OCT11EFATP to the candidate removal list.\n",
      "Cumulative effect of OCT11EFATP is safe. Updated safe removal list.\n"
     ]
    },
    {
     "name": "stderr",
     "output_type": "stream",
     "text": [
      "Processing reactions:  52%|█████████▊         | 394/759 [15:09<23:35,  3.88s/it]"
     ]
    },
    {
     "name": "stdout",
     "output_type": "stream",
     "text": [
      "\n",
      "Testing reaction: VLCSr\n",
      "Reaction VLCSr knockout is safe.\n",
      "Added VLCSr to the candidate removal list.\n",
      "Cumulative effect of VLCSr is safe. Updated safe removal list.\n"
     ]
    },
    {
     "name": "stderr",
     "output_type": "stream",
     "text": [
      "Processing reactions:  52%|█████████▉         | 395/759 [15:13<23:59,  3.95s/it]"
     ]
    },
    {
     "name": "stdout",
     "output_type": "stream",
     "text": [
      "\n",
      "Testing reaction: DGNSKm\n",
      "Reaction DGNSKm knockout is safe.\n",
      "Added DGNSKm to the candidate removal list.\n",
      "Cumulative effect of DGNSKm is safe. Updated safe removal list.\n"
     ]
    },
    {
     "name": "stderr",
     "output_type": "stream",
     "text": [
      "Processing reactions:  52%|█████████▉         | 396/759 [15:17<23:44,  3.92s/it]"
     ]
    },
    {
     "name": "stdout",
     "output_type": "stream",
     "text": [
      "\n",
      "Testing reaction: MI145PK\n",
      "Reaction MI145PK knockout is safe.\n",
      "Added MI145PK to the candidate removal list.\n",
      "Cumulative effect of MI145PK is safe. Updated safe removal list.\n"
     ]
    },
    {
     "name": "stderr",
     "output_type": "stream",
     "text": [
      "Processing reactions:  52%|█████████▉         | 397/759 [15:21<23:35,  3.91s/it]"
     ]
    },
    {
     "name": "stdout",
     "output_type": "stream",
     "text": [
      "\n",
      "Testing reaction: DLNLCGCOAtcx\n",
      "Reaction DLNLCGCOAtcx knockout is safe.\n",
      "Added DLNLCGCOAtcx to the candidate removal list.\n",
      "Cumulative effect of DLNLCGCOAtcx is safe. Updated safe removal list.\n"
     ]
    },
    {
     "name": "stderr",
     "output_type": "stream",
     "text": [
      "Processing reactions:  52%|█████████▉         | 398/759 [15:25<23:20,  3.88s/it]"
     ]
    },
    {
     "name": "stdout",
     "output_type": "stream",
     "text": [
      "\n",
      "Testing reaction: DCSPTN1COAtxc\n",
      "Reaction DCSPTN1COAtxc knockout is safe.\n",
      "Added DCSPTN1COAtxc to the candidate removal list.\n",
      "Cumulative effect of DCSPTN1COAtxc is safe. Updated safe removal list.\n"
     ]
    },
    {
     "name": "stderr",
     "output_type": "stream",
     "text": [
      "Processing reactions:  53%|█████████▉         | 399/759 [15:29<23:11,  3.87s/it]"
     ]
    },
    {
     "name": "stdout",
     "output_type": "stream",
     "text": [
      "\n",
      "Testing reaction: GK1m\n",
      "Reaction GK1m knockout is safe.\n",
      "Added GK1m to the candidate removal list.\n",
      "Cumulative effect of GK1m is safe. Updated safe removal list.\n"
     ]
    },
    {
     "name": "stderr",
     "output_type": "stream",
     "text": [
      "Processing reactions:  53%|██████████         | 400/759 [15:33<23:13,  3.88s/it]"
     ]
    },
    {
     "name": "stdout",
     "output_type": "stream",
     "text": [
      "\n",
      "Testing reaction: FACOAL181i\n",
      "Reaction FACOAL181i knockout is safe.\n",
      "Added FACOAL181i to the candidate removal list.\n",
      "Cumulative effect of FACOAL181i is safe. Updated safe removal list.\n"
     ]
    },
    {
     "name": "stderr",
     "output_type": "stream",
     "text": [
      "Processing reactions:  53%|██████████         | 401/759 [15:37<23:13,  3.89s/it]"
     ]
    },
    {
     "name": "stdout",
     "output_type": "stream",
     "text": [
      "\n",
      "Testing reaction: UCHOLabc\n",
      "Reaction UCHOLabc knockout is safe.\n",
      "Added UCHOLabc to the candidate removal list.\n",
      "Cumulative effect of UCHOLabc is safe. Updated safe removal list.\n"
     ]
    },
    {
     "name": "stderr",
     "output_type": "stream",
     "text": [
      "Processing reactions:  53%|██████████         | 402/759 [15:40<23:02,  3.87s/it]"
     ]
    },
    {
     "name": "stdout",
     "output_type": "stream",
     "text": [
      "\n",
      "Testing reaction: HMR_5166\n",
      "Reaction HMR_5166 knockout is safe.\n",
      "Added HMR_5166 to the candidate removal list.\n",
      "Cumulative effect of HMR_5166 is safe. Updated safe removal list.\n"
     ]
    },
    {
     "name": "stderr",
     "output_type": "stream",
     "text": [
      "Processing reactions:  53%|██████████         | 403/759 [15:44<23:00,  3.88s/it]"
     ]
    },
    {
     "name": "stdout",
     "output_type": "stream",
     "text": [
      "\n",
      "Testing reaction: PCFLOPm\n",
      "Reaction PCFLOPm knockout is safe.\n",
      "Added PCFLOPm to the candidate removal list.\n",
      "Cumulative effect of PCFLOPm is safe. Updated safe removal list.\n"
     ]
    },
    {
     "name": "stderr",
     "output_type": "stream",
     "text": [
      "Processing reactions:  53%|██████████         | 404/759 [15:48<23:10,  3.92s/it]"
     ]
    },
    {
     "name": "stdout",
     "output_type": "stream",
     "text": [
      "\n",
      "Testing reaction: MCCCrm\n",
      "Reaction MCCCrm knockout is safe.\n",
      "Added MCCCrm to the candidate removal list.\n",
      "Cumulative effect of MCCCrm is safe. Updated safe removal list.\n"
     ]
    },
    {
     "name": "stderr",
     "output_type": "stream",
     "text": [
      "Processing reactions:  53%|██████████▏        | 405/759 [15:52<23:00,  3.90s/it]"
     ]
    },
    {
     "name": "stdout",
     "output_type": "stream",
     "text": [
      "\n",
      "Testing reaction: VLCSp\n",
      "Reaction VLCSp knockout is safe.\n",
      "Added VLCSp to the candidate removal list.\n",
      "Cumulative effect of VLCSp is safe. Updated safe removal list.\n"
     ]
    },
    {
     "name": "stderr",
     "output_type": "stream",
     "text": [
      "Processing reactions:  53%|██████████▏        | 406/759 [15:56<23:08,  3.93s/it]"
     ]
    },
    {
     "name": "stdout",
     "output_type": "stream",
     "text": [
      "\n",
      "Testing reaction: GLUSIDEtl\n",
      "Reaction GLUSIDEtl knockout is safe.\n",
      "Added GLUSIDEtl to the candidate removal list.\n",
      "Cumulative effect of GLUSIDEtl is safe. Updated safe removal list.\n"
     ]
    },
    {
     "name": "stderr",
     "output_type": "stream",
     "text": [
      "Processing reactions:  54%|██████████▏        | 407/759 [16:00<22:59,  3.92s/it]"
     ]
    },
    {
     "name": "stdout",
     "output_type": "stream",
     "text": [
      "\n",
      "Testing reaction: r1251\n",
      "Reaction r1251 knockout is safe.\n",
      "Added r1251 to the candidate removal list.\n",
      "Cumulative effect of r1251 is safe. Updated safe removal list.\n"
     ]
    },
    {
     "name": "stderr",
     "output_type": "stream",
     "text": [
      "Processing reactions:  54%|██████████▏        | 408/759 [16:04<23:00,  3.93s/it]"
     ]
    },
    {
     "name": "stdout",
     "output_type": "stream",
     "text": [
      "\n",
      "Testing reaction: PYDXK\n",
      "Reaction PYDXK knockout is safe.\n",
      "Added PYDXK to the candidate removal list.\n",
      "Cumulative effect of PYDXK is safe. Updated safe removal list.\n"
     ]
    },
    {
     "name": "stderr",
     "output_type": "stream",
     "text": [
      "Processing reactions:  54%|██████████▏        | 409/759 [16:08<23:06,  3.96s/it]"
     ]
    },
    {
     "name": "stdout",
     "output_type": "stream",
     "text": [
      "\n",
      "Testing reaction: FACOAL220x\n",
      "Reaction FACOAL220x knockout is safe.\n",
      "Added FACOAL220x to the candidate removal list.\n",
      "Cumulative effect of FACOAL220x is safe. Updated safe removal list.\n"
     ]
    },
    {
     "name": "stderr",
     "output_type": "stream",
     "text": [
      "Processing reactions:  54%|██████████▎        | 410/759 [16:12<22:59,  3.95s/it]"
     ]
    },
    {
     "name": "stdout",
     "output_type": "stream",
     "text": [
      "\n",
      "Testing reaction: KHK2\n",
      "Reaction KHK2 knockout is safe.\n",
      "Added KHK2 to the candidate removal list.\n",
      "Cumulative effect of KHK2 is safe. Updated safe removal list.\n"
     ]
    },
    {
     "name": "stderr",
     "output_type": "stream",
     "text": [
      "Processing reactions:  54%|██████████▎        | 411/759 [16:16<22:57,  3.96s/it]"
     ]
    },
    {
     "name": "stdout",
     "output_type": "stream",
     "text": [
      "\n",
      "Testing reaction: CE7090te\n",
      "Reaction CE7090te knockout is safe.\n",
      "Added CE7090te to the candidate removal list.\n",
      "Cumulative effect of CE7090te is safe. Updated safe removal list.\n"
     ]
    },
    {
     "name": "stderr",
     "output_type": "stream",
     "text": [
      "Processing reactions:  54%|██████████▎        | 412/759 [16:20<23:06,  4.00s/it]"
     ]
    },
    {
     "name": "stdout",
     "output_type": "stream",
     "text": [
      "\n",
      "Testing reaction: HMR_0245\n",
      "Reaction HMR_0245 knockout is safe.\n",
      "Added HMR_0245 to the candidate removal list.\n",
      "Cumulative effect of HMR_0245 is safe. Updated safe removal list.\n"
     ]
    },
    {
     "name": "stderr",
     "output_type": "stream",
     "text": [
      "Processing reactions:  54%|██████████▎        | 413/759 [16:24<23:38,  4.10s/it]"
     ]
    },
    {
     "name": "stdout",
     "output_type": "stream",
     "text": [
      "\n",
      "Testing reaction: r0813\n",
      "Reaction r0813 knockout is safe.\n",
      "Added r0813 to the candidate removal list.\n",
      "Cumulative effect of r0813 is safe. Updated safe removal list.\n"
     ]
    },
    {
     "name": "stderr",
     "output_type": "stream",
     "text": [
      "Processing reactions:  55%|██████████▎        | 414/759 [16:28<23:20,  4.06s/it]"
     ]
    },
    {
     "name": "stdout",
     "output_type": "stream",
     "text": [
      "\n",
      "Testing reaction: r1025\n",
      "Reaction r1025 knockout is safe.\n",
      "Added r1025 to the candidate removal list.\n",
      "Cumulative effect of r1025 is safe. Updated safe removal list.\n"
     ]
    },
    {
     "name": "stderr",
     "output_type": "stream",
     "text": [
      "Processing reactions:  55%|██████████▍        | 415/759 [16:32<23:07,  4.03s/it]"
     ]
    },
    {
     "name": "stdout",
     "output_type": "stream",
     "text": [
      "\n",
      "Testing reaction: CYTK2\n",
      "Reaction CYTK2 knockout is safe.\n",
      "Added CYTK2 to the candidate removal list.\n",
      "Cumulative effect of CYTK2 is safe. Updated safe removal list.\n"
     ]
    },
    {
     "name": "stderr",
     "output_type": "stream",
     "text": [
      "Processing reactions:  55%|██████████▍        | 416/759 [16:36<22:47,  3.99s/it]"
     ]
    },
    {
     "name": "stdout",
     "output_type": "stream",
     "text": [
      "\n",
      "Testing reaction: THEXDDte\n",
      "Reaction THEXDDte knockout is safe.\n",
      "Added THEXDDte to the candidate removal list.\n",
      "Cumulative effect of THEXDDte is safe. Updated safe removal list.\n"
     ]
    },
    {
     "name": "stderr",
     "output_type": "stream",
     "text": [
      "Processing reactions:  55%|██████████▍        | 417/759 [16:40<22:41,  3.98s/it]"
     ]
    },
    {
     "name": "stdout",
     "output_type": "stream",
     "text": [
      "\n",
      "Testing reaction: ARACHDFATPtc\n",
      "Reaction ARACHDFATPtc knockout is safe.\n",
      "Added ARACHDFATPtc to the candidate removal list.\n",
      "Cumulative effect of ARACHDFATPtc is safe. Updated safe removal list.\n"
     ]
    },
    {
     "name": "stderr",
     "output_type": "stream",
     "text": [
      "Processing reactions:  55%|██████████▍        | 418/759 [16:44<22:53,  4.03s/it]"
     ]
    },
    {
     "name": "stdout",
     "output_type": "stream",
     "text": [
      "\n",
      "Testing reaction: PI4P3Kn\n",
      "Reaction PI4P3Kn knockout is safe.\n",
      "Added PI4P3Kn to the candidate removal list.\n",
      "Cumulative effect of PI4P3Kn is safe. Updated safe removal list.\n"
     ]
    },
    {
     "name": "stderr",
     "output_type": "stream",
     "text": [
      "Processing reactions:  55%|██████████▍        | 419/759 [16:48<22:45,  4.02s/it]"
     ]
    },
    {
     "name": "stdout",
     "output_type": "stream",
     "text": [
      "\n",
      "Testing reaction: FMNAT\n",
      "Reaction FMNAT knockout is safe.\n",
      "Added FMNAT to the candidate removal list.\n",
      "Cumulative effect of FMNAT is safe. Updated safe removal list.\n"
     ]
    },
    {
     "name": "stderr",
     "output_type": "stream",
     "text": [
      "Processing reactions:  55%|██████████▌        | 420/759 [16:52<22:41,  4.02s/it]"
     ]
    },
    {
     "name": "stdout",
     "output_type": "stream",
     "text": [
      "\n",
      "Testing reaction: HEX1\n",
      "Reaction HEX1 knockout is safe.\n",
      "Added HEX1 to the candidate removal list.\n",
      "Cumulative effect of HEX1 is safe. Updated safe removal list.\n"
     ]
    },
    {
     "name": "stderr",
     "output_type": "stream",
     "text": [
      "Processing reactions:  55%|██████████▌        | 421/759 [16:57<22:54,  4.07s/it]"
     ]
    },
    {
     "name": "stdout",
     "output_type": "stream",
     "text": [
      "\n",
      "Testing reaction: GCDCA3Sabc\n",
      "Reaction GCDCA3Sabc knockout is safe.\n",
      "Added GCDCA3Sabc to the candidate removal list.\n",
      "Cumulative effect of GCDCA3Sabc is safe. Updated safe removal list.\n"
     ]
    },
    {
     "name": "stderr",
     "output_type": "stream",
     "text": [
      "Processing reactions:  56%|██████████▌        | 422/759 [17:01<22:45,  4.05s/it]"
     ]
    },
    {
     "name": "stdout",
     "output_type": "stream",
     "text": [
      "\n",
      "Testing reaction: XOLDIOLONEATP\n",
      "Reaction XOLDIOLONEATP knockout is safe.\n",
      "Added XOLDIOLONEATP to the candidate removal list.\n",
      "Cumulative effect of XOLDIOLONEATP is safe. Updated safe removal list.\n"
     ]
    },
    {
     "name": "stderr",
     "output_type": "stream",
     "text": [
      "Processing reactions:  56%|██████████▌        | 423/759 [17:05<22:51,  4.08s/it]"
     ]
    },
    {
     "name": "stdout",
     "output_type": "stream",
     "text": [
      "\n",
      "Testing reaction: KHK\n",
      "Reaction KHK knockout is safe.\n",
      "Added KHK to the candidate removal list.\n",
      "Cumulative effect of KHK is safe. Updated safe removal list.\n"
     ]
    },
    {
     "name": "stderr",
     "output_type": "stream",
     "text": [
      "Processing reactions:  56%|██████████▌        | 424/759 [17:09<22:47,  4.08s/it]"
     ]
    },
    {
     "name": "stdout",
     "output_type": "stream",
     "text": [
      "\n",
      "Testing reaction: r1525\n",
      "Reaction r1525 knockout is safe.\n",
      "Added r1525 to the candidate removal list.\n",
      "Cumulative effect of r1525 is safe. Updated safe removal list.\n"
     ]
    },
    {
     "name": "stderr",
     "output_type": "stream",
     "text": [
      "Processing reactions:  56%|██████████▋        | 425/759 [17:13<22:45,  4.09s/it]"
     ]
    },
    {
     "name": "stdout",
     "output_type": "stream",
     "text": [
      "\n",
      "Testing reaction: FACOAL1812x\n",
      "Reaction FACOAL1812x knockout is safe.\n",
      "Added FACOAL1812x to the candidate removal list.\n",
      "Cumulative effect of FACOAL1812x is safe. Updated safe removal list.\n"
     ]
    },
    {
     "name": "stderr",
     "output_type": "stream",
     "text": [
      "Processing reactions:  56%|██████████▋        | 426/759 [17:17<22:47,  4.11s/it]"
     ]
    },
    {
     "name": "stdout",
     "output_type": "stream",
     "text": [
      "\n",
      "Testing reaction: C16txc\n",
      "Reaction C16txc knockout is safe.\n",
      "Added C16txc to the candidate removal list.\n",
      "Cumulative effect of C16txc is safe. Updated safe removal list.\n"
     ]
    },
    {
     "name": "stderr",
     "output_type": "stream",
     "text": [
      "Processing reactions:  56%|██████████▋        | 427/759 [17:21<22:51,  4.13s/it]"
     ]
    },
    {
     "name": "stdout",
     "output_type": "stream",
     "text": [
      "\n",
      "Testing reaction: HMR_0347\n",
      "Reaction HMR_0347 knockout is safe.\n",
      "Added HMR_0347 to the candidate removal list.\n",
      "Cumulative effect of HMR_0347 is safe. Updated safe removal list.\n"
     ]
    },
    {
     "name": "stderr",
     "output_type": "stream",
     "text": [
      "Processing reactions:  56%|██████████▋        | 428/759 [17:25<22:52,  4.15s/it]"
     ]
    },
    {
     "name": "stdout",
     "output_type": "stream",
     "text": [
      "\n",
      "Testing reaction: 12HPETATP\n",
      "Reaction 12HPETATP knockout is safe.\n",
      "Added 12HPETATP to the candidate removal list.\n",
      "Cumulative effect of 12HPETATP is safe. Updated safe removal list.\n"
     ]
    },
    {
     "name": "stderr",
     "output_type": "stream",
     "text": [
      "Processing reactions:  57%|██████████▋        | 429/759 [17:30<22:44,  4.13s/it]"
     ]
    },
    {
     "name": "stdout",
     "output_type": "stream",
     "text": [
      "\n",
      "Testing reaction: r0033\n",
      "Reaction r0033 knockout is safe.\n",
      "Added r0033 to the candidate removal list.\n",
      "Cumulative effect of r0033 is safe. Updated safe removal list.\n"
     ]
    },
    {
     "name": "stderr",
     "output_type": "stream",
     "text": [
      "Processing reactions:  57%|██████████▊        | 430/759 [17:34<23:11,  4.23s/it]"
     ]
    },
    {
     "name": "stdout",
     "output_type": "stream",
     "text": [
      "\n",
      "Testing reaction: ACGALK\n",
      "Reaction ACGALK knockout is safe.\n",
      "Added ACGALK to the candidate removal list.\n",
      "Cumulative effect of ACGALK is safe. Updated safe removal list.\n"
     ]
    },
    {
     "name": "stderr",
     "output_type": "stream",
     "text": [
      "Processing reactions:  57%|██████████▊        | 431/759 [17:38<22:43,  4.16s/it]"
     ]
    },
    {
     "name": "stdout",
     "output_type": "stream",
     "text": [
      "\n",
      "Testing reaction: DOCO13ECOAtxc\n",
      "Reaction DOCO13ECOAtxc knockout is safe.\n",
      "Added DOCO13ECOAtxc to the candidate removal list.\n",
      "Cumulative effect of DOCO13ECOAtxc is safe. Updated safe removal list.\n"
     ]
    },
    {
     "name": "stderr",
     "output_type": "stream",
     "text": [
      "Processing reactions:  57%|██████████▊        | 432/759 [17:42<22:28,  4.13s/it]"
     ]
    },
    {
     "name": "stdout",
     "output_type": "stream",
     "text": [
      "\n",
      "Testing reaction: URSCHOLCOAc\n",
      "Reaction URSCHOLCOAc knockout is safe.\n",
      "Added URSCHOLCOAc to the candidate removal list.\n",
      "Cumulative effect of URSCHOLCOAc is safe. Updated safe removal list.\n"
     ]
    },
    {
     "name": "stderr",
     "output_type": "stream",
     "text": [
      "Processing reactions:  57%|██████████▊        | 433/759 [17:46<22:17,  4.10s/it]"
     ]
    },
    {
     "name": "stdout",
     "output_type": "stream",
     "text": [
      "\n",
      "Testing reaction: HMR_0303\n",
      "Reaction HMR_0303 knockout is safe.\n",
      "Added HMR_0303 to the candidate removal list.\n",
      "Cumulative effect of HMR_0303 is safe. Updated safe removal list.\n"
     ]
    },
    {
     "name": "stderr",
     "output_type": "stream",
     "text": [
      "Processing reactions:  57%|██████████▊        | 434/759 [17:50<22:07,  4.09s/it]"
     ]
    },
    {
     "name": "stdout",
     "output_type": "stream",
     "text": [
      "\n",
      "Testing reaction: HKt\n",
      "Reaction HKt knockout is safe.\n",
      "Added HKt to the candidate removal list.\n",
      "Cumulative effect of HKt is safe. Updated safe removal list.\n"
     ]
    },
    {
     "name": "stderr",
     "output_type": "stream",
     "text": [
      "Processing reactions:  57%|██████████▉        | 435/759 [17:54<22:05,  4.09s/it]"
     ]
    },
    {
     "name": "stdout",
     "output_type": "stream",
     "text": [
      "\n",
      "Testing reaction: PYDXNK\n",
      "Reaction PYDXNK knockout is safe.\n",
      "Added PYDXNK to the candidate removal list.\n",
      "Cumulative effect of PYDXNK is safe. Updated safe removal list.\n"
     ]
    },
    {
     "name": "stderr",
     "output_type": "stream",
     "text": [
      "Processing reactions:  57%|██████████▉        | 436/759 [17:58<22:00,  4.09s/it]"
     ]
    },
    {
     "name": "stdout",
     "output_type": "stream",
     "text": [
      "\n",
      "Testing reaction: CK\n",
      "Reaction CK knockout is safe.\n",
      "Added CK to the candidate removal list.\n",
      "Cumulative effect of CK is safe. Updated safe removal list.\n"
     ]
    },
    {
     "name": "stderr",
     "output_type": "stream",
     "text": [
      "Processing reactions:  58%|██████████▉        | 437/759 [18:02<21:58,  4.09s/it]"
     ]
    },
    {
     "name": "stdout",
     "output_type": "stream",
     "text": [
      "\n",
      "Testing reaction: NRVNCCOAtxc\n",
      "Reaction NRVNCCOAtxc knockout is safe.\n",
      "Added NRVNCCOAtxc to the candidate removal list.\n",
      "Cumulative effect of NRVNCCOAtxc is safe. Updated safe removal list.\n"
     ]
    },
    {
     "name": "stderr",
     "output_type": "stream",
     "text": [
      "Processing reactions:  58%|██████████▉        | 438/759 [18:07<21:59,  4.11s/it]"
     ]
    },
    {
     "name": "stdout",
     "output_type": "stream",
     "text": [
      "\n",
      "Testing reaction: DCA24Gte\n",
      "Reaction DCA24Gte knockout is safe.\n",
      "Added DCA24Gte to the candidate removal list.\n",
      "Cumulative effect of DCA24Gte is safe. Updated safe removal list.\n"
     ]
    },
    {
     "name": "stderr",
     "output_type": "stream",
     "text": [
      "Processing reactions:  58%|██████████▉        | 439/759 [18:11<22:05,  4.14s/it]"
     ]
    },
    {
     "name": "stdout",
     "output_type": "stream",
     "text": [
      "\n",
      "Testing reaction: PAFABCt\n",
      "Reaction PAFABCt knockout is safe.\n",
      "Added PAFABCt to the candidate removal list.\n",
      "Cumulative effect of PAFABCt is safe. Updated safe removal list.\n"
     ]
    },
    {
     "name": "stderr",
     "output_type": "stream",
     "text": [
      "Processing reactions:  58%|███████████        | 440/759 [18:15<22:02,  4.14s/it]"
     ]
    },
    {
     "name": "stdout",
     "output_type": "stream",
     "text": [
      "\n",
      "Testing reaction: FTHFL\n",
      "Reaction FTHFL knockout is safe.\n",
      "Added FTHFL to the candidate removal list.\n",
      "Cumulative effect of FTHFL is safe. Updated safe removal list.\n"
     ]
    },
    {
     "name": "stderr",
     "output_type": "stream",
     "text": [
      "Processing reactions:  58%|███████████        | 441/759 [18:20<23:44,  4.48s/it]"
     ]
    },
    {
     "name": "stdout",
     "output_type": "stream",
     "text": [
      "\n",
      "Testing reaction: ACHVESSEC\n",
      "Reaction ACHVESSEC knockout is safe.\n",
      "Added ACHVESSEC to the candidate removal list.\n",
      "Cumulative effect of ACHVESSEC is safe. Updated safe removal list.\n"
     ]
    },
    {
     "name": "stderr",
     "output_type": "stream",
     "text": [
      "Processing reactions:  58%|███████████        | 442/759 [18:25<24:10,  4.57s/it]"
     ]
    },
    {
     "name": "stdout",
     "output_type": "stream",
     "text": [
      "\n",
      "Testing reaction: ARACHCOAtcx\n",
      "Reaction ARACHCOAtcx knockout is safe.\n",
      "Added ARACHCOAtcx to the candidate removal list.\n",
      "Cumulative effect of ARACHCOAtcx is safe. Updated safe removal list.\n"
     ]
    },
    {
     "name": "stderr",
     "output_type": "stream",
     "text": [
      "Processing reactions:  58%|███████████        | 443/759 [18:30<24:18,  4.62s/it]"
     ]
    },
    {
     "name": "stdout",
     "output_type": "stream",
     "text": [
      "\n",
      "Testing reaction: HMR_2975\n",
      "Reaction HMR_2975 knockout is safe.\n",
      "Added HMR_2975 to the candidate removal list.\n",
      "Cumulative effect of HMR_2975 is safe. Updated safe removal list.\n"
     ]
    },
    {
     "name": "stderr",
     "output_type": "stream",
     "text": [
      "Processing reactions:  58%|███████████        | 444/759 [18:34<23:32,  4.48s/it]"
     ]
    },
    {
     "name": "stdout",
     "output_type": "stream",
     "text": [
      "\n",
      "Testing reaction: FACOAL140i\n",
      "Reaction FACOAL140i knockout is safe.\n",
      "Added FACOAL140i to the candidate removal list.\n",
      "Cumulative effect of FACOAL140i is safe. Updated safe removal list.\n"
     ]
    },
    {
     "name": "stderr",
     "output_type": "stream",
     "text": [
      "Processing reactions:  59%|███████████▏       | 445/759 [18:38<23:20,  4.46s/it]"
     ]
    },
    {
     "name": "stdout",
     "output_type": "stream",
     "text": [
      "\n",
      "Testing reaction: HMR_0375\n",
      "Reaction HMR_0375 knockout is safe.\n",
      "Added HMR_0375 to the candidate removal list.\n",
      "Cumulative effect of HMR_0375 is safe. Updated safe removal list.\n"
     ]
    },
    {
     "name": "stderr",
     "output_type": "stream",
     "text": [
      "Processing reactions:  59%|███████████▏       | 446/759 [18:43<23:19,  4.47s/it]"
     ]
    },
    {
     "name": "stdout",
     "output_type": "stream",
     "text": [
      "\n",
      "Testing reaction: HMR_1754\n",
      "Reaction HMR_1754 knockout is safe.\n",
      "Added HMR_1754 to the candidate removal list.\n",
      "Cumulative effect of HMR_1754 is safe. Updated safe removal list.\n"
     ]
    },
    {
     "name": "stderr",
     "output_type": "stream",
     "text": [
      "Processing reactions:  59%|███████████▏       | 447/759 [18:47<22:58,  4.42s/it]"
     ]
    },
    {
     "name": "stdout",
     "output_type": "stream",
     "text": [
      "\n",
      "Testing reaction: NADKm\n",
      "Reaction NADKm knockout is safe.\n",
      "Added NADKm to the candidate removal list.\n",
      "Cumulative effect of NADKm is safe. Updated safe removal list.\n"
     ]
    },
    {
     "name": "stderr",
     "output_type": "stream",
     "text": [
      "Processing reactions:  59%|███████████▏       | 448/759 [18:51<22:42,  4.38s/it]"
     ]
    },
    {
     "name": "stdout",
     "output_type": "stream",
     "text": [
      "\n",
      "Testing reaction: THMATPe\n",
      "Reaction THMATPe knockout is safe.\n",
      "Added THMATPe to the candidate removal list.\n",
      "Cumulative effect of THMATPe is safe. Updated safe removal list.\n"
     ]
    },
    {
     "name": "stderr",
     "output_type": "stream",
     "text": [
      "Processing reactions:  59%|███████████▏       | 449/759 [18:56<23:24,  4.53s/it]"
     ]
    },
    {
     "name": "stdout",
     "output_type": "stream",
     "text": [
      "\n",
      "Testing reaction: HMR_0383\n",
      "Reaction HMR_0383 knockout is safe.\n",
      "Added HMR_0383 to the candidate removal list.\n",
      "Cumulative effect of HMR_0383 is safe. Updated safe removal list.\n"
     ]
    },
    {
     "name": "stderr",
     "output_type": "stream",
     "text": [
      "Processing reactions:  59%|███████████▎       | 450/759 [19:03<27:02,  5.25s/it]"
     ]
    },
    {
     "name": "stdout",
     "output_type": "stream",
     "text": [
      "\n",
      "Testing reaction: RE2638C\n",
      "Reaction RE2638C knockout is safe.\n",
      "Added RE2638C to the candidate removal list.\n",
      "Cumulative effect of RE2638C is safe. Updated safe removal list.\n"
     ]
    },
    {
     "name": "stderr",
     "output_type": "stream",
     "text": [
      "Processing reactions:  59%|███████████▎       | 451/759 [19:11<30:38,  5.97s/it]"
     ]
    },
    {
     "name": "stdout",
     "output_type": "stream",
     "text": [
      "\n",
      "Testing reaction: NDPK4n\n",
      "Reaction NDPK4n knockout is safe.\n",
      "Added NDPK4n to the candidate removal list.\n",
      "Cumulative effect of NDPK4n is safe. Updated safe removal list.\n"
     ]
    },
    {
     "name": "stderr",
     "output_type": "stream",
     "text": [
      "Processing reactions:  60%|███████████▎       | 452/759 [19:18<31:45,  6.21s/it]"
     ]
    },
    {
     "name": "stdout",
     "output_type": "stream",
     "text": [
      "\n",
      "Testing reaction: 3DHCHOLabc\n",
      "Reaction 3DHCHOLabc knockout is safe.\n",
      "Added 3DHCHOLabc to the candidate removal list.\n",
      "Cumulative effect of 3DHCHOLabc is safe. Updated safe removal list.\n"
     ]
    },
    {
     "name": "stderr",
     "output_type": "stream",
     "text": [
      "Processing reactions:  60%|███████████▎       | 453/759 [19:22<28:47,  5.64s/it]"
     ]
    },
    {
     "name": "stdout",
     "output_type": "stream",
     "text": [
      "\n",
      "Testing reaction: NDPK8n\n",
      "Reaction NDPK8n knockout is safe.\n",
      "Added NDPK8n to the candidate removal list.\n",
      "Cumulative effect of NDPK8n is safe. Updated safe removal list.\n"
     ]
    },
    {
     "name": "stderr",
     "output_type": "stream",
     "text": [
      "Processing reactions:  60%|███████████▎       | 454/759 [19:26<26:40,  5.25s/it]"
     ]
    },
    {
     "name": "stdout",
     "output_type": "stream",
     "text": [
      "\n",
      "Testing reaction: HC02196te\n",
      "Reaction HC02196te knockout is safe.\n",
      "Added HC02196te to the candidate removal list.\n",
      "Cumulative effect of HC02196te is safe. Updated safe removal list.\n"
     ]
    },
    {
     "name": "stderr",
     "output_type": "stream",
     "text": [
      "Processing reactions:  60%|███████████▍       | 455/759 [19:30<25:03,  4.95s/it]"
     ]
    },
    {
     "name": "stdout",
     "output_type": "stream",
     "text": [
      "\n",
      "Testing reaction: AGKm\n",
      "Reaction AGKm knockout is safe.\n",
      "Added AGKm to the candidate removal list.\n",
      "Cumulative effect of AGKm is safe. Updated safe removal list.\n"
     ]
    },
    {
     "name": "stderr",
     "output_type": "stream",
     "text": [
      "Processing reactions:  60%|███████████▍       | 456/759 [19:35<24:40,  4.89s/it]"
     ]
    },
    {
     "name": "stdout",
     "output_type": "stream",
     "text": [
      "\n",
      "Testing reaction: DADK1\n",
      "Reaction DADK1 knockout is safe.\n",
      "Added DADK1 to the candidate removal list.\n",
      "Cumulative effect of DADK1 is safe. Updated safe removal list.\n"
     ]
    },
    {
     "name": "stderr",
     "output_type": "stream",
     "text": [
      "Processing reactions:  60%|███████████▍       | 457/759 [19:40<24:45,  4.92s/it]"
     ]
    },
    {
     "name": "stdout",
     "output_type": "stream",
     "text": [
      "\n",
      "Testing reaction: HMR_0423\n",
      "Reaction HMR_0423 knockout is safe.\n",
      "Added HMR_0423 to the candidate removal list.\n",
      "Cumulative effect of HMR_0423 is safe. Updated safe removal list.\n"
     ]
    },
    {
     "name": "stderr",
     "output_type": "stream",
     "text": [
      "Processing reactions:  60%|███████████▍       | 458/759 [19:44<23:37,  4.71s/it]"
     ]
    },
    {
     "name": "stdout",
     "output_type": "stream",
     "text": [
      "\n",
      "Testing reaction: r0859\n",
      "Reaction r0859 knockout is safe.\n",
      "Added r0859 to the candidate removal list.\n",
      "Cumulative effect of r0859 is safe. Updated safe removal list.\n"
     ]
    },
    {
     "name": "stderr",
     "output_type": "stream",
     "text": [
      "Processing reactions:  60%|███████████▍       | 459/759 [19:49<22:56,  4.59s/it]"
     ]
    },
    {
     "name": "stdout",
     "output_type": "stream",
     "text": [
      "\n",
      "Testing reaction: UMPKm\n",
      "Reaction UMPKm knockout is safe.\n",
      "Added UMPKm to the candidate removal list.\n",
      "Cumulative effect of UMPKm is safe. Updated safe removal list.\n"
     ]
    },
    {
     "name": "stderr",
     "output_type": "stream",
     "text": [
      "Processing reactions:  61%|███████████▌       | 460/759 [19:53<22:20,  4.48s/it]"
     ]
    },
    {
     "name": "stdout",
     "output_type": "stream",
     "text": [
      "\n",
      "Testing reaction: VLCS2p\n",
      "Reaction VLCS2p knockout is safe.\n",
      "Added VLCS2p to the candidate removal list.\n",
      "Cumulative effect of VLCS2p is safe. Updated safe removal list.\n"
     ]
    },
    {
     "name": "stderr",
     "output_type": "stream",
     "text": [
      "Processing reactions:  61%|███████████▌       | 461/759 [19:58<22:29,  4.53s/it]"
     ]
    },
    {
     "name": "stdout",
     "output_type": "stream",
     "text": [
      "\n",
      "Testing reaction: HMR_0301\n",
      "Reaction HMR_0301 knockout is safe.\n",
      "Added HMR_0301 to the candidate removal list.\n",
      "Cumulative effect of HMR_0301 is safe. Updated safe removal list.\n"
     ]
    },
    {
     "name": "stderr",
     "output_type": "stream",
     "text": [
      "Processing reactions:  61%|███████████▌       | 462/759 [20:02<22:04,  4.46s/it]"
     ]
    },
    {
     "name": "stdout",
     "output_type": "stream",
     "text": [
      "\n",
      "Testing reaction: R_group_phosphotase_2\n",
      "Reaction R_group_phosphotase_2 knockout is safe.\n",
      "Added R_group_phosphotase_2 to the candidate removal list.\n",
      "Cumulative effect of R_group_phosphotase_2 is safe. Updated safe removal list.\n"
     ]
    },
    {
     "name": "stderr",
     "output_type": "stream",
     "text": [
      "Processing reactions:  61%|███████████▌       | 463/759 [20:06<21:56,  4.45s/it]"
     ]
    },
    {
     "name": "stdout",
     "output_type": "stream",
     "text": [
      "\n",
      "Testing reaction: RNMK\n",
      "Reaction RNMK knockout is safe.\n",
      "Added RNMK to the candidate removal list.\n",
      "Cumulative effect of RNMK is safe. Updated safe removal list.\n"
     ]
    },
    {
     "name": "stderr",
     "output_type": "stream",
     "text": [
      "Processing reactions:  61%|███████████▌       | 464/759 [20:11<21:48,  4.44s/it]"
     ]
    },
    {
     "name": "stdout",
     "output_type": "stream",
     "text": [
      "\n",
      "Testing reaction: FACOAL40im\n",
      "Reaction FACOAL40im knockout is safe.\n",
      "Added FACOAL40im to the candidate removal list.\n",
      "Cumulative effect of FACOAL40im is safe. Updated safe removal list.\n"
     ]
    },
    {
     "name": "stderr",
     "output_type": "stream",
     "text": [
      "Processing reactions:  61%|███████████▋       | 465/759 [20:15<21:47,  4.45s/it]"
     ]
    },
    {
     "name": "stdout",
     "output_type": "stream",
     "text": [
      "\n",
      "Testing reaction: r0523\n",
      "Reaction r0523 knockout is safe.\n",
      "Added r0523 to the candidate removal list.\n",
      "Cumulative effect of r0523 is safe. Updated safe removal list.\n"
     ]
    },
    {
     "name": "stderr",
     "output_type": "stream",
     "text": [
      "Processing reactions:  61%|███████████▋       | 466/759 [20:20<21:36,  4.43s/it]"
     ]
    },
    {
     "name": "stdout",
     "output_type": "stream",
     "text": [
      "\n",
      "Testing reaction: FACOAL241x\n",
      "Reaction FACOAL241x knockout is safe.\n",
      "Added FACOAL241x to the candidate removal list.\n",
      "Cumulative effect of FACOAL241x is safe. Updated safe removal list.\n"
     ]
    },
    {
     "name": "stderr",
     "output_type": "stream",
     "text": [
      "Processing reactions:  62%|███████████▋       | 467/759 [20:24<21:35,  4.44s/it]"
     ]
    },
    {
     "name": "stdout",
     "output_type": "stream",
     "text": [
      "\n",
      "Testing reaction: igg_hc\n",
      "Reaction igg_hc knockout is safe.\n",
      "Added igg_hc to the candidate removal list.\n",
      "Cumulative effect of igg_hc is safe. Updated safe removal list.\n"
     ]
    },
    {
     "name": "stderr",
     "output_type": "stream",
     "text": [
      "Processing reactions:  62%|███████████▋       | 468/759 [20:28<21:30,  4.43s/it]"
     ]
    },
    {
     "name": "stdout",
     "output_type": "stream",
     "text": [
      "\n",
      "Testing reaction: r1259\n",
      "Reaction r1259 knockout is safe.\n",
      "Added r1259 to the candidate removal list.\n",
      "Cumulative effect of r1259 is safe. Updated safe removal list.\n"
     ]
    },
    {
     "name": "stderr",
     "output_type": "stream",
     "text": [
      "Processing reactions:  62%|███████████▋       | 469/759 [20:33<21:19,  4.41s/it]"
     ]
    },
    {
     "name": "stdout",
     "output_type": "stream",
     "text": [
      "\n",
      "Testing reaction: GLNS\n",
      "Reaction GLNS knockout is safe.\n",
      "Added GLNS to the candidate removal list.\n",
      "Cumulative effect of GLNS is safe. Updated safe removal list.\n"
     ]
    },
    {
     "name": "stderr",
     "output_type": "stream",
     "text": [
      "Processing reactions:  62%|███████████▊       | 470/759 [20:37<21:16,  4.42s/it]"
     ]
    },
    {
     "name": "stdout",
     "output_type": "stream",
     "text": [
      "\n",
      "Testing reaction: RE2972G\n",
      "Reaction RE2972G knockout is safe.\n",
      "Added RE2972G to the candidate removal list.\n",
      "Cumulative effect of RE2972G is safe. Updated safe removal list.\n"
     ]
    },
    {
     "name": "stderr",
     "output_type": "stream",
     "text": [
      "Processing reactions:  62%|███████████▊       | 471/759 [20:42<21:12,  4.42s/it]"
     ]
    },
    {
     "name": "stdout",
     "output_type": "stream",
     "text": [
      "\n",
      "Testing reaction: ACS\n",
      "Reaction ACS knockout is safe.\n",
      "Added ACS to the candidate removal list.\n",
      "Cumulative effect of ACS is safe. Updated safe removal list.\n"
     ]
    },
    {
     "name": "stderr",
     "output_type": "stream",
     "text": [
      "Processing reactions:  62%|███████████▊       | 472/759 [20:46<21:15,  4.44s/it]"
     ]
    },
    {
     "name": "stdout",
     "output_type": "stream",
     "text": [
      "\n",
      "Testing reaction: PIK3\n",
      "Reaction PIK3 knockout is safe.\n",
      "Added PIK3 to the candidate removal list.\n",
      "Cumulative effect of PIK3 is safe. Updated safe removal list.\n"
     ]
    },
    {
     "name": "stderr",
     "output_type": "stream",
     "text": [
      "Processing reactions:  62%|███████████▊       | 473/759 [20:51<21:20,  4.48s/it]"
     ]
    },
    {
     "name": "stdout",
     "output_type": "stream",
     "text": [
      "\n",
      "Testing reaction: r1105\n",
      "Reaction r1105 knockout is safe.\n",
      "Added r1105 to the candidate removal list.\n",
      "Cumulative effect of r1105 is safe. Updated safe removal list.\n"
     ]
    },
    {
     "name": "stderr",
     "output_type": "stream",
     "text": [
      "Processing reactions:  62%|███████████▊       | 474/759 [20:55<21:07,  4.45s/it]"
     ]
    },
    {
     "name": "stdout",
     "output_type": "stream",
     "text": [
      "\n",
      "Testing reaction: FPGS2m\n",
      "Reaction FPGS2m knockout is safe.\n",
      "Added FPGS2m to the candidate removal list.\n",
      "Cumulative effect of FPGS2m is safe. Updated safe removal list.\n"
     ]
    },
    {
     "name": "stderr",
     "output_type": "stream",
     "text": [
      "Processing reactions:  63%|███████████▉       | 475/759 [20:59<20:55,  4.42s/it]"
     ]
    },
    {
     "name": "stdout",
     "output_type": "stream",
     "text": [
      "\n",
      "Testing reaction: HMR_2985\n",
      "Reaction HMR_2985 knockout is safe.\n",
      "Added HMR_2985 to the candidate removal list.\n",
      "Cumulative effect of HMR_2985 is safe. Updated safe removal list.\n"
     ]
    },
    {
     "name": "stderr",
     "output_type": "stream",
     "text": [
      "Processing reactions:  63%|███████████▉       | 476/759 [21:04<21:15,  4.51s/it]"
     ]
    },
    {
     "name": "stdout",
     "output_type": "stream",
     "text": [
      "\n",
      "Testing reaction: HMR_0192\n",
      "Reaction HMR_0192 knockout is safe.\n",
      "Added HMR_0192 to the candidate removal list.\n",
      "Cumulative effect of HMR_0192 is safe. Updated safe removal list.\n"
     ]
    },
    {
     "name": "stderr",
     "output_type": "stream",
     "text": [
      "Processing reactions:  63%|███████████▉       | 477/759 [21:09<21:11,  4.51s/it]"
     ]
    },
    {
     "name": "stdout",
     "output_type": "stream",
     "text": [
      "\n",
      "Testing reaction: C05769te\n",
      "Reaction C05769te knockout is safe.\n",
      "Added C05769te to the candidate removal list.\n",
      "Cumulative effect of C05769te is safe. Updated safe removal list.\n"
     ]
    },
    {
     "name": "stderr",
     "output_type": "stream",
     "text": [
      "Processing reactions:  63%|███████████▉       | 478/759 [21:13<21:12,  4.53s/it]"
     ]
    },
    {
     "name": "stdout",
     "output_type": "stream",
     "text": [
      "\n",
      "Testing reaction: HMR_0433\n",
      "Reaction HMR_0433 knockout is safe.\n",
      "Added HMR_0433 to the candidate removal list.\n",
      "Cumulative effect of HMR_0433 is safe. Updated safe removal list.\n"
     ]
    },
    {
     "name": "stderr",
     "output_type": "stream",
     "text": [
      "Processing reactions:  63%|███████████▉       | 479/759 [21:18<21:02,  4.51s/it]"
     ]
    },
    {
     "name": "stdout",
     "output_type": "stream",
     "text": [
      "\n",
      "Testing reaction: 17AHPRGSTRNte\n",
      "Reaction 17AHPRGSTRNte knockout is safe.\n",
      "Added 17AHPRGSTRNte to the candidate removal list.\n",
      "Cumulative effect of 17AHPRGSTRNte is safe. Updated safe removal list.\n"
     ]
    },
    {
     "name": "stderr",
     "output_type": "stream",
     "text": [
      "Processing reactions:  63%|████████████       | 480/759 [21:22<20:48,  4.48s/it]"
     ]
    },
    {
     "name": "stdout",
     "output_type": "stream",
     "text": [
      "\n",
      "Testing reaction: RE3132R\n",
      "Reaction RE3132R knockout is safe.\n",
      "Added RE3132R to the candidate removal list.\n",
      "Cumulative effect of RE3132R is safe. Updated safe removal list.\n"
     ]
    },
    {
     "name": "stderr",
     "output_type": "stream",
     "text": [
      "Processing reactions:  63%|████████████       | 481/759 [21:27<20:53,  4.51s/it]"
     ]
    },
    {
     "name": "stdout",
     "output_type": "stream",
     "text": [
      "\n",
      "Testing reaction: ATPH1e\n",
      "Reaction ATPH1e knockout is safe.\n",
      "Added ATPH1e to the candidate removal list.\n",
      "Cumulative effect of ATPH1e is safe. Updated safe removal list.\n"
     ]
    },
    {
     "name": "stderr",
     "output_type": "stream",
     "text": [
      "Processing reactions:  64%|████████████       | 482/759 [21:31<20:51,  4.52s/it]"
     ]
    },
    {
     "name": "stdout",
     "output_type": "stream",
     "text": [
      "\n",
      "Testing reaction: ASNS1\n",
      "Reaction ASNS1 knockout is safe.\n",
      "Added ASNS1 to the candidate removal list.\n",
      "Cumulative effect of ASNS1 is safe. Updated safe removal list.\n"
     ]
    },
    {
     "name": "stderr",
     "output_type": "stream",
     "text": [
      "Processing reactions:  64%|████████████       | 483/759 [21:36<20:40,  4.50s/it]"
     ]
    },
    {
     "name": "stdout",
     "output_type": "stream",
     "text": [
      "\n",
      "Testing reaction: FACOAL80i\n",
      "Reaction FACOAL80i knockout is safe.\n",
      "Added FACOAL80i to the candidate removal list.\n",
      "Cumulative effect of FACOAL80i is safe. Updated safe removal list.\n"
     ]
    },
    {
     "name": "stderr",
     "output_type": "stream",
     "text": [
      "Processing reactions:  64%|████████████       | 484/759 [21:40<20:39,  4.51s/it]"
     ]
    },
    {
     "name": "stdout",
     "output_type": "stream",
     "text": [
      "\n",
      "Testing reaction: r1335\n",
      "Reaction r1335 knockout is safe.\n",
      "Added r1335 to the candidate removal list.\n",
      "Cumulative effect of r1335 is safe. Updated safe removal list.\n"
     ]
    },
    {
     "name": "stderr",
     "output_type": "stream",
     "text": [
      "Processing reactions:  64%|████████████▏      | 485/759 [21:45<20:33,  4.50s/it]"
     ]
    },
    {
     "name": "stdout",
     "output_type": "stream",
     "text": [
      "\n",
      "Testing reaction: FACOAL100im\n",
      "Reaction FACOAL100im knockout is safe.\n",
      "Added FACOAL100im to the candidate removal list.\n",
      "Cumulative effect of FACOAL100im is safe. Updated safe removal list.\n"
     ]
    },
    {
     "name": "stderr",
     "output_type": "stream",
     "text": [
      "Processing reactions:  64%|████████████▏      | 486/759 [21:49<20:36,  4.53s/it]"
     ]
    },
    {
     "name": "stdout",
     "output_type": "stream",
     "text": [
      "\n",
      "Testing reaction: HMR_2999\n",
      "Reaction HMR_2999 knockout is safe.\n",
      "Added HMR_2999 to the candidate removal list.\n",
      "Cumulative effect of HMR_2999 is safe. Updated safe removal list.\n"
     ]
    },
    {
     "name": "stderr",
     "output_type": "stream",
     "text": [
      "Processing reactions:  64%|████████████▏      | 487/759 [21:54<20:31,  4.53s/it]"
     ]
    },
    {
     "name": "stdout",
     "output_type": "stream",
     "text": [
      "\n",
      "Testing reaction: CA3Sabc\n",
      "Reaction CA3Sabc knockout is safe.\n",
      "Added CA3Sabc to the candidate removal list.\n",
      "Cumulative effect of CA3Sabc is safe. Updated safe removal list.\n"
     ]
    },
    {
     "name": "stderr",
     "output_type": "stream",
     "text": [
      "Processing reactions:  64%|████████████▏      | 488/759 [21:58<20:26,  4.52s/it]"
     ]
    },
    {
     "name": "stdout",
     "output_type": "stream",
     "text": [
      "\n",
      "Testing reaction: CAATPaser\n",
      "Reaction CAATPaser knockout is safe.\n",
      "Added CAATPaser to the candidate removal list.\n",
      "Cumulative effect of CAATPaser is safe. Updated safe removal list.\n"
     ]
    },
    {
     "name": "stderr",
     "output_type": "stream",
     "text": [
      "Processing reactions:  64%|████████████▏      | 489/759 [22:03<20:36,  4.58s/it]"
     ]
    },
    {
     "name": "stdout",
     "output_type": "stream",
     "text": [
      "\n",
      "Testing reaction: PACCOAL\n",
      "Reaction PACCOAL knockout is safe.\n",
      "Added PACCOAL to the candidate removal list.\n",
      "Cumulative effect of PACCOAL is safe. Updated safe removal list.\n"
     ]
    },
    {
     "name": "stderr",
     "output_type": "stream",
     "text": [
      "Processing reactions:  65%|████████████▎      | 490/759 [22:08<20:33,  4.58s/it]"
     ]
    },
    {
     "name": "stdout",
     "output_type": "stream",
     "text": [
      "\n",
      "Testing reaction: GCA3Sabc\n",
      "Reaction GCA3Sabc knockout is safe.\n",
      "Added GCA3Sabc to the candidate removal list.\n",
      "Cumulative effect of GCA3Sabc is safe. Updated safe removal list.\n"
     ]
    },
    {
     "name": "stderr",
     "output_type": "stream",
     "text": [
      "Processing reactions:  65%|████████████▎      | 491/759 [22:13<20:56,  4.69s/it]"
     ]
    },
    {
     "name": "stdout",
     "output_type": "stream",
     "text": [
      "\n",
      "Testing reaction: C05299te\n",
      "Reaction C05299te knockout is safe.\n",
      "Added C05299te to the candidate removal list.\n",
      "Cumulative effect of C05299te is safe. Updated safe removal list.\n"
     ]
    },
    {
     "name": "stderr",
     "output_type": "stream",
     "text": [
      "Processing reactions:  65%|████████████▎      | 492/759 [22:17<20:46,  4.67s/it]"
     ]
    },
    {
     "name": "stdout",
     "output_type": "stream",
     "text": [
      "\n",
      "Testing reaction: HEXDTRte\n",
      "Reaction HEXDTRte knockout is safe.\n",
      "Added HEXDTRte to the candidate removal list.\n",
      "Cumulative effect of HEXDTRte is safe. Updated safe removal list.\n"
     ]
    },
    {
     "name": "stderr",
     "output_type": "stream",
     "text": [
      "Processing reactions:  65%|████████████▎      | 493/759 [22:22<20:37,  4.65s/it]"
     ]
    },
    {
     "name": "stdout",
     "output_type": "stream",
     "text": [
      "\n",
      "Testing reaction: NDPK8m\n",
      "Reaction NDPK8m knockout is safe.\n",
      "Added NDPK8m to the candidate removal list.\n",
      "Cumulative effect of NDPK8m is safe. Updated safe removal list.\n"
     ]
    },
    {
     "name": "stderr",
     "output_type": "stream",
     "text": [
      "Processing reactions:  65%|████████████▎      | 494/759 [22:27<20:34,  4.66s/it]"
     ]
    },
    {
     "name": "stdout",
     "output_type": "stream",
     "text": [
      "\n",
      "Testing reaction: GALSGLT1le\n",
      "Reaction GALSGLT1le knockout is safe.\n",
      "Added GALSGLT1le to the candidate removal list.\n",
      "Cumulative effect of GALSGLT1le is safe. Updated safe removal list.\n"
     ]
    },
    {
     "name": "stderr",
     "output_type": "stream",
     "text": [
      "Processing reactions:  65%|████████████▍      | 495/759 [22:31<20:21,  4.63s/it]"
     ]
    },
    {
     "name": "stdout",
     "output_type": "stream",
     "text": [
      "\n",
      "Testing reaction: CYTK1n\n",
      "Reaction CYTK1n knockout is safe.\n",
      "Added CYTK1n to the candidate removal list.\n",
      "Cumulative effect of CYTK1n is safe. Updated safe removal list.\n"
     ]
    },
    {
     "name": "stderr",
     "output_type": "stream",
     "text": [
      "Processing reactions:  65%|████████████▍      | 496/759 [22:36<20:24,  4.65s/it]"
     ]
    },
    {
     "name": "stdout",
     "output_type": "stream",
     "text": [
      "\n",
      "Testing reaction: NDPK8\n",
      "Reaction NDPK8 knockout is safe.\n",
      "Added NDPK8 to the candidate removal list.\n",
      "Cumulative effect of NDPK8 is safe. Updated safe removal list.\n"
     ]
    },
    {
     "name": "stderr",
     "output_type": "stream",
     "text": [
      "Processing reactions:  65%|████████████▍      | 497/759 [22:40<20:17,  4.65s/it]"
     ]
    },
    {
     "name": "stdout",
     "output_type": "stream",
     "text": [
      "\n",
      "Testing reaction: FTHFLm\n",
      "Reaction FTHFLm knockout is safe.\n",
      "Added FTHFLm to the candidate removal list.\n",
      "Cumulative effect of FTHFLm is safe. Updated safe removal list.\n"
     ]
    },
    {
     "name": "stderr",
     "output_type": "stream",
     "text": [
      "Processing reactions:  66%|████████████▍      | 498/759 [22:45<20:18,  4.67s/it]"
     ]
    },
    {
     "name": "stdout",
     "output_type": "stream",
     "text": [
      "\n",
      "Testing reaction: ADRNLPVESSEC\n",
      "Reaction ADRNLPVESSEC knockout is safe.\n",
      "Added ADRNLPVESSEC to the candidate removal list.\n",
      "Cumulative effect of ADRNLPVESSEC is safe. Updated safe removal list.\n"
     ]
    },
    {
     "name": "stderr",
     "output_type": "stream",
     "text": [
      "Processing reactions:  66%|████████████▍      | 499/759 [22:50<20:10,  4.66s/it]"
     ]
    },
    {
     "name": "stdout",
     "output_type": "stream",
     "text": [
      "\n",
      "Testing reaction: HMR_0233\n",
      "Reaction HMR_0233 knockout is safe.\n",
      "Added HMR_0233 to the candidate removal list.\n",
      "Cumulative effect of HMR_0233 is safe. Updated safe removal list.\n"
     ]
    },
    {
     "name": "stderr",
     "output_type": "stream",
     "text": [
      "Processing reactions:  66%|████████████▌      | 500/759 [22:54<20:04,  4.65s/it]"
     ]
    },
    {
     "name": "stdout",
     "output_type": "stream",
     "text": [
      "\n",
      "Testing reaction: HMR_0235\n",
      "Reaction HMR_0235 knockout is safe.\n",
      "Added HMR_0235 to the candidate removal list.\n",
      "Cumulative effect of HMR_0235 is safe. Updated safe removal list.\n"
     ]
    },
    {
     "name": "stderr",
     "output_type": "stream",
     "text": [
      "Processing reactions:  66%|████████████▌      | 501/759 [22:59<20:07,  4.68s/it]"
     ]
    },
    {
     "name": "stdout",
     "output_type": "stream",
     "text": [
      "\n",
      "Testing reaction: RE2974N\n",
      "Reaction RE2974N knockout is safe.\n",
      "Added RE2974N to the candidate removal list.\n",
      "Cumulative effect of RE2974N is safe. Updated safe removal list.\n"
     ]
    },
    {
     "name": "stderr",
     "output_type": "stream",
     "text": [
      "Processing reactions:  66%|████████████▌      | 502/759 [23:04<20:05,  4.69s/it]"
     ]
    },
    {
     "name": "stdout",
     "output_type": "stream",
     "text": [
      "\n",
      "Testing reaction: r2499\n",
      "Reaction r2499 knockout is safe.\n",
      "Added r2499 to the candidate removal list.\n",
      "Cumulative effect of r2499 is safe. Updated safe removal list.\n"
     ]
    },
    {
     "name": "stderr",
     "output_type": "stream",
     "text": [
      "Processing reactions:  66%|████████████▌      | 503/759 [23:09<19:59,  4.69s/it]"
     ]
    },
    {
     "name": "stdout",
     "output_type": "stream",
     "text": [
      "\n",
      "Testing reaction: HMR_9517\n",
      "Reaction HMR_9517 knockout is safe.\n",
      "Added HMR_9517 to the candidate removal list.\n",
      "Cumulative effect of HMR_9517 is safe. Updated safe removal list.\n"
     ]
    },
    {
     "name": "stderr",
     "output_type": "stream",
     "text": [
      "Processing reactions:  66%|████████████▌      | 504/759 [23:14<20:19,  4.78s/it]"
     ]
    },
    {
     "name": "stdout",
     "output_type": "stream",
     "text": [
      "\n",
      "Testing reaction: HMR_2961\n",
      "Reaction HMR_2961 knockout is safe.\n",
      "Added HMR_2961 to the candidate removal list.\n",
      "Cumulative effect of HMR_2961 is safe. Updated safe removal list.\n"
     ]
    },
    {
     "name": "stderr",
     "output_type": "stream",
     "text": [
      "Processing reactions:  67%|████████████▋      | 505/759 [23:18<20:14,  4.78s/it]"
     ]
    },
    {
     "name": "stdout",
     "output_type": "stream",
     "text": [
      "\n",
      "Testing reaction: GUDCA3Sabc\n",
      "Reaction GUDCA3Sabc knockout is safe.\n",
      "Added GUDCA3Sabc to the candidate removal list.\n",
      "Cumulative effect of GUDCA3Sabc is safe. Updated safe removal list.\n"
     ]
    },
    {
     "name": "stderr",
     "output_type": "stream",
     "text": [
      "Processing reactions:  67%|████████████▋      | 506/759 [23:23<20:02,  4.75s/it]"
     ]
    },
    {
     "name": "stdout",
     "output_type": "stream",
     "text": [
      "\n",
      "Testing reaction: RE3160R\n",
      "Reaction RE3160R knockout is safe.\n",
      "Added RE3160R to the candidate removal list.\n",
      "Cumulative effect of RE3160R is safe. Updated safe removal list.\n"
     ]
    },
    {
     "name": "stderr",
     "output_type": "stream",
     "text": [
      "Processing reactions:  67%|████████████▋      | 507/759 [23:28<20:00,  4.76s/it]"
     ]
    },
    {
     "name": "stdout",
     "output_type": "stream",
     "text": [
      "\n",
      "Testing reaction: NDPK2\n",
      "Reaction NDPK2 knockout is safe.\n",
      "Added NDPK2 to the candidate removal list.\n",
      "Cumulative effect of NDPK2 is safe. Updated safe removal list.\n"
     ]
    },
    {
     "name": "stderr",
     "output_type": "stream",
     "text": [
      "Processing reactions:  67%|████████████▋      | 508/759 [23:33<20:10,  4.82s/it]"
     ]
    },
    {
     "name": "stdout",
     "output_type": "stream",
     "text": [
      "\n",
      "Testing reaction: PEFLIP\n",
      "Reaction PEFLIP knockout is safe.\n",
      "Added PEFLIP to the candidate removal list.\n",
      "Cumulative effect of PEFLIP is safe. Updated safe removal list.\n"
     ]
    },
    {
     "name": "stderr",
     "output_type": "stream",
     "text": [
      "Processing reactions:  67%|████████████▋      | 509/759 [23:38<20:00,  4.80s/it]"
     ]
    },
    {
     "name": "stdout",
     "output_type": "stream",
     "text": [
      "\n",
      "Testing reaction: DNDPt20m\n",
      "Reaction DNDPt20m knockout is safe.\n",
      "Added DNDPt20m to the candidate removal list.\n",
      "Cumulative effect of DNDPt20m is safe. Updated safe removal list.\n"
     ]
    },
    {
     "name": "stderr",
     "output_type": "stream",
     "text": [
      "Processing reactions:  67%|████████████▊      | 510/759 [23:42<19:52,  4.79s/it]"
     ]
    },
    {
     "name": "stdout",
     "output_type": "stream",
     "text": [
      "\n",
      "Testing reaction: HMR_2957\n",
      "Reaction HMR_2957 knockout is safe.\n",
      "Added HMR_2957 to the candidate removal list.\n",
      "Cumulative effect of HMR_2957 is safe. Updated safe removal list.\n"
     ]
    },
    {
     "name": "stderr",
     "output_type": "stream",
     "text": [
      "Processing reactions:  67%|████████████▊      | 511/759 [23:47<19:42,  4.77s/it]"
     ]
    },
    {
     "name": "stdout",
     "output_type": "stream",
     "text": [
      "\n",
      "Testing reaction: ATP1ter\n",
      "Reaction ATP1ter knockout is safe.\n",
      "Added ATP1ter to the candidate removal list.\n",
      "Cumulative effect of ATP1ter is safe. Updated safe removal list.\n"
     ]
    },
    {
     "name": "stderr",
     "output_type": "stream",
     "text": [
      "Processing reactions:  67%|████████████▊      | 512/759 [23:52<19:43,  4.79s/it]"
     ]
    },
    {
     "name": "stdout",
     "output_type": "stream",
     "text": [
      "\n",
      "Testing reaction: STRDNCCOAtxc\n",
      "Reaction STRDNCCOAtxc knockout is safe.\n",
      "Added STRDNCCOAtxc to the candidate removal list.\n",
      "Cumulative effect of STRDNCCOAtxc is safe. Updated safe removal list.\n"
     ]
    },
    {
     "name": "stderr",
     "output_type": "stream",
     "text": [
      "Processing reactions:  68%|████████████▊      | 513/759 [23:57<19:37,  4.79s/it]"
     ]
    },
    {
     "name": "stdout",
     "output_type": "stream",
     "text": [
      "\n",
      "Testing reaction: HMR_0431\n",
      "Reaction HMR_0431 knockout is safe.\n",
      "Added HMR_0431 to the candidate removal list.\n",
      "Cumulative effect of HMR_0431 is safe. Updated safe removal list.\n"
     ]
    },
    {
     "name": "stderr",
     "output_type": "stream",
     "text": [
      "Processing reactions:  68%|████████████▊      | 514/759 [24:01<19:34,  4.80s/it]"
     ]
    },
    {
     "name": "stdout",
     "output_type": "stream",
     "text": [
      "\n",
      "Testing reaction: HDCA6Gte\n",
      "Reaction HDCA6Gte knockout is safe.\n",
      "Added HDCA6Gte to the candidate removal list.\n",
      "Cumulative effect of HDCA6Gte is safe. Updated safe removal list.\n"
     ]
    },
    {
     "name": "stderr",
     "output_type": "stream",
     "text": [
      "Processing reactions:  68%|████████████▉      | 515/759 [24:06<19:33,  4.81s/it]"
     ]
    },
    {
     "name": "stdout",
     "output_type": "stream",
     "text": [
      "\n",
      "Testing reaction: 12DHCHOLabc\n",
      "Reaction 12DHCHOLabc knockout is safe.\n",
      "Added 12DHCHOLabc to the candidate removal list.\n",
      "Cumulative effect of 12DHCHOLabc is safe. Updated safe removal list.\n"
     ]
    },
    {
     "name": "stderr",
     "output_type": "stream",
     "text": [
      "Processing reactions:  68%|████████████▉      | 516/759 [24:11<19:31,  4.82s/it]"
     ]
    },
    {
     "name": "stdout",
     "output_type": "stream",
     "text": [
      "\n",
      "Testing reaction: HMR_3002\n",
      "Reaction HMR_3002 knockout is safe.\n",
      "Added HMR_3002 to the candidate removal list.\n",
      "Cumulative effect of HMR_3002 is safe. Updated safe removal list.\n"
     ]
    },
    {
     "name": "stderr",
     "output_type": "stream",
     "text": [
      "Processing reactions:  68%|████████████▉      | 517/759 [24:16<19:31,  4.84s/it]"
     ]
    },
    {
     "name": "stdout",
     "output_type": "stream",
     "text": [
      "\n",
      "Testing reaction: r1026\n",
      "Reaction r1026 knockout is safe.\n",
      "Added r1026 to the candidate removal list.\n",
      "Cumulative effect of r1026 is safe. Updated safe removal list.\n"
     ]
    },
    {
     "name": "stderr",
     "output_type": "stream",
     "text": [
      "Processing reactions:  68%|████████████▉      | 518/759 [24:21<19:42,  4.91s/it]"
     ]
    },
    {
     "name": "stdout",
     "output_type": "stream",
     "text": [
      "\n",
      "Testing reaction: r0311\n",
      "Reaction r0311 knockout is safe.\n",
      "Added r0311 to the candidate removal list.\n",
      "Cumulative effect of r0311 is safe. Updated safe removal list.\n"
     ]
    },
    {
     "name": "stderr",
     "output_type": "stream",
     "text": [
      "Processing reactions:  68%|████████████▉      | 519/759 [24:26<19:38,  4.91s/it]"
     ]
    },
    {
     "name": "stdout",
     "output_type": "stream",
     "text": [
      "\n",
      "Testing reaction: HMR_0381\n",
      "Reaction HMR_0381 knockout is safe.\n",
      "Added HMR_0381 to the candidate removal list.\n",
      "Cumulative effect of HMR_0381 is safe. Updated safe removal list.\n"
     ]
    },
    {
     "name": "stderr",
     "output_type": "stream",
     "text": [
      "Processing reactions:  69%|█████████████      | 520/759 [24:31<19:24,  4.87s/it]"
     ]
    },
    {
     "name": "stdout",
     "output_type": "stream",
     "text": [
      "\n",
      "Testing reaction: GMPS2\n",
      "Reaction GMPS2 knockout is safe.\n",
      "Added GMPS2 to the candidate removal list.\n",
      "Cumulative effect of GMPS2 is safe. Updated safe removal list.\n"
     ]
    },
    {
     "name": "stderr",
     "output_type": "stream",
     "text": [
      "Processing reactions:  69%|█████████████      | 521/759 [24:36<19:17,  4.86s/it]"
     ]
    },
    {
     "name": "stdout",
     "output_type": "stream",
     "text": [
      "\n",
      "Testing reaction: ADSKn\n",
      "Reaction ADSKn knockout is safe.\n",
      "Added ADSKn to the candidate removal list.\n",
      "Cumulative effect of ADSKn is safe. Updated safe removal list.\n"
     ]
    },
    {
     "name": "stderr",
     "output_type": "stream",
     "text": [
      "Processing reactions:  69%|█████████████      | 522/759 [24:41<19:15,  4.88s/it]"
     ]
    },
    {
     "name": "stdout",
     "output_type": "stream",
     "text": [
      "\n",
      "Testing reaction: CYTK2m\n",
      "Reaction CYTK2m knockout is safe.\n",
      "Added CYTK2m to the candidate removal list.\n",
      "Cumulative effect of CYTK2m is safe. Updated safe removal list.\n"
     ]
    },
    {
     "name": "stderr",
     "output_type": "stream",
     "text": [
      "Processing reactions:  69%|█████████████      | 523/759 [24:46<19:30,  4.96s/it]"
     ]
    },
    {
     "name": "stdout",
     "output_type": "stream",
     "text": [
      "\n",
      "Testing reaction: PI3P4Kn\n",
      "Reaction PI3P4Kn knockout is safe.\n",
      "Added PI3P4Kn to the candidate removal list.\n",
      "Cumulative effect of PI3P4Kn is safe. Updated safe removal list.\n"
     ]
    },
    {
     "name": "stderr",
     "output_type": "stream",
     "text": [
      "Processing reactions:  69%|█████████████      | 524/759 [24:53<22:16,  5.69s/it]"
     ]
    },
    {
     "name": "stdout",
     "output_type": "stream",
     "text": [
      "\n",
      "Testing reaction: CGMPt\n",
      "Reaction CGMPt knockout is safe.\n",
      "Added CGMPt to the candidate removal list.\n",
      "Cumulative effect of CGMPt is safe. Updated safe removal list.\n"
     ]
    },
    {
     "name": "stderr",
     "output_type": "stream",
     "text": [
      "Processing reactions:  69%|█████████████▏     | 525/759 [24:59<22:44,  5.83s/it]"
     ]
    },
    {
     "name": "stdout",
     "output_type": "stream",
     "text": [
      "\n",
      "Testing reaction: HCA24Gte\n",
      "Reaction HCA24Gte knockout is safe.\n",
      "Added HCA24Gte to the candidate removal list.\n",
      "Cumulative effect of HCA24Gte is safe. Updated safe removal list.\n"
     ]
    },
    {
     "name": "stderr",
     "output_type": "stream",
     "text": [
      "Processing reactions:  69%|█████████████▏     | 526/759 [25:04<21:49,  5.62s/it]"
     ]
    },
    {
     "name": "stdout",
     "output_type": "stream",
     "text": [
      "\n",
      "Testing reaction: LCA24Gte\n",
      "Reaction LCA24Gte knockout is safe.\n",
      "Added LCA24Gte to the candidate removal list.\n",
      "Cumulative effect of LCA24Gte is safe. Updated safe removal list.\n"
     ]
    },
    {
     "name": "stderr",
     "output_type": "stream",
     "text": [
      "Processing reactions:  69%|█████████████▏     | 527/759 [25:09<20:51,  5.39s/it]"
     ]
    },
    {
     "name": "stdout",
     "output_type": "stream",
     "text": [
      "\n",
      "Testing reaction: HMR_4261\n",
      "Reaction HMR_4261 knockout is safe.\n",
      "Added HMR_4261 to the candidate removal list.\n",
      "Cumulative effect of HMR_4261 is safe. Updated safe removal list.\n"
     ]
    },
    {
     "name": "stderr",
     "output_type": "stream",
     "text": [
      "Processing reactions:  70%|█████████████▏     | 528/759 [25:14<20:08,  5.23s/it]"
     ]
    },
    {
     "name": "stdout",
     "output_type": "stream",
     "text": [
      "\n",
      "Testing reaction: HMR_0435\n",
      "Reaction HMR_0435 knockout is safe.\n",
      "Added HMR_0435 to the candidate removal list.\n",
      "Cumulative effect of HMR_0435 is safe. Updated safe removal list.\n"
     ]
    },
    {
     "name": "stderr",
     "output_type": "stream",
     "text": [
      "Processing reactions:  70%|█████████████▏     | 529/759 [25:19<19:24,  5.06s/it]"
     ]
    },
    {
     "name": "stdout",
     "output_type": "stream",
     "text": [
      "\n",
      "Testing reaction: FACOAL1831\n",
      "Reaction FACOAL1831 knockout is safe.\n",
      "Added FACOAL1831 to the candidate removal list.\n",
      "Cumulative effect of FACOAL1831 is safe. Updated safe removal list.\n"
     ]
    },
    {
     "name": "stderr",
     "output_type": "stream",
     "text": [
      "Processing reactions:  70%|█████████████▎     | 530/759 [25:24<19:03,  4.99s/it]"
     ]
    },
    {
     "name": "stdout",
     "output_type": "stream",
     "text": [
      "\n",
      "Testing reaction: RIBFLVte\n",
      "Reaction RIBFLVte knockout is safe.\n",
      "Added RIBFLVte to the candidate removal list.\n",
      "Cumulative effect of RIBFLVte is safe. Updated safe removal list.\n"
     ]
    },
    {
     "name": "stderr",
     "output_type": "stream",
     "text": [
      "Processing reactions:  70%|█████████████▎     | 531/759 [25:29<19:04,  5.02s/it]"
     ]
    },
    {
     "name": "stdout",
     "output_type": "stream",
     "text": [
      "\n",
      "Testing reaction: r1536\n",
      "Reaction r1536 knockout is safe.\n",
      "Added r1536 to the candidate removal list.\n",
      "Cumulative effect of r1536 is safe. Updated safe removal list.\n"
     ]
    },
    {
     "name": "stderr",
     "output_type": "stream",
     "text": [
      "Processing reactions:  70%|█████████████▎     | 532/759 [25:33<18:47,  4.97s/it]"
     ]
    },
    {
     "name": "stdout",
     "output_type": "stream",
     "text": [
      "\n",
      "Testing reaction: ADNK1\n",
      "Reaction ADNK1 knockout is safe.\n",
      "Added ADNK1 to the candidate removal list.\n",
      "Cumulative effect of ADNK1 is safe. Updated safe removal list.\n"
     ]
    },
    {
     "name": "stderr",
     "output_type": "stream",
     "text": [
      "Processing reactions:  70%|█████████████▎     | 533/759 [25:38<18:29,  4.91s/it]"
     ]
    },
    {
     "name": "stdout",
     "output_type": "stream",
     "text": [
      "\n",
      "Testing reaction: FACOAL241\n",
      "Reaction FACOAL241 knockout is safe.\n",
      "Added FACOAL241 to the candidate removal list.\n",
      "Cumulative effect of FACOAL241 is safe. Updated safe removal list.\n"
     ]
    },
    {
     "name": "stderr",
     "output_type": "stream",
     "text": [
      "Processing reactions:  70%|█████████████▎     | 534/759 [25:43<18:22,  4.90s/it]"
     ]
    },
    {
     "name": "stdout",
     "output_type": "stream",
     "text": [
      "\n",
      "Testing reaction: r1519\n",
      "Reaction r1519 knockout is safe.\n",
      "Added r1519 to the candidate removal list.\n",
      "Cumulative effect of r1519 is safe. Updated safe removal list.\n"
     ]
    },
    {
     "name": "stderr",
     "output_type": "stream",
     "text": [
      "Processing reactions:  70%|█████████████▍     | 535/759 [25:48<18:19,  4.91s/it]"
     ]
    },
    {
     "name": "stdout",
     "output_type": "stream",
     "text": [
      "\n",
      "Testing reaction: AMANK\n",
      "Reaction AMANK knockout is safe.\n",
      "Added AMANK to the candidate removal list.\n",
      "Cumulative effect of AMANK is safe. Updated safe removal list.\n"
     ]
    },
    {
     "name": "stderr",
     "output_type": "stream",
     "text": [
      "Processing reactions:  71%|█████████████▍     | 536/759 [25:53<18:16,  4.92s/it]"
     ]
    },
    {
     "name": "stdout",
     "output_type": "stream",
     "text": [
      "\n",
      "Testing reaction: UDCA3Sabc\n",
      "Reaction UDCA3Sabc knockout is safe.\n",
      "Added UDCA3Sabc to the candidate removal list.\n",
      "Cumulative effect of UDCA3Sabc is safe. Updated safe removal list.\n"
     ]
    },
    {
     "name": "stderr",
     "output_type": "stream",
     "text": [
      "Processing reactions:  71%|█████████████▍     | 537/759 [25:58<18:05,  4.89s/it]"
     ]
    },
    {
     "name": "stdout",
     "output_type": "stream",
     "text": [
      "\n",
      "Testing reaction: BiGGRxn39\n",
      "Reaction BiGGRxn39 knockout is safe.\n",
      "Added BiGGRxn39 to the candidate removal list.\n",
      "Cumulative effect of BiGGRxn39 is safe. Updated safe removal list.\n"
     ]
    },
    {
     "name": "stderr",
     "output_type": "stream",
     "text": [
      "Processing reactions:  71%|█████████████▍     | 538/759 [26:03<18:05,  4.91s/it]"
     ]
    },
    {
     "name": "stdout",
     "output_type": "stream",
     "text": [
      "\n",
      "Testing reaction: LCA3Sabc\n",
      "Reaction LCA3Sabc knockout is safe.\n",
      "Added LCA3Sabc to the candidate removal list.\n",
      "Cumulative effect of LCA3Sabc is safe. Updated safe removal list.\n"
     ]
    },
    {
     "name": "stderr",
     "output_type": "stream",
     "text": [
      "Processing reactions:  71%|█████████████▍     | 539/759 [26:08<18:01,  4.92s/it]"
     ]
    },
    {
     "name": "stdout",
     "output_type": "stream",
     "text": [
      "\n",
      "Testing reaction: FPGS8m\n",
      "Reaction FPGS8m knockout is safe.\n",
      "Added FPGS8m to the candidate removal list.\n",
      "Cumulative effect of FPGS8m is safe. Updated safe removal list.\n"
     ]
    },
    {
     "name": "stderr",
     "output_type": "stream",
     "text": [
      "Processing reactions:  71%|█████████████▌     | 540/759 [26:13<17:49,  4.89s/it]"
     ]
    },
    {
     "name": "stdout",
     "output_type": "stream",
     "text": [
      "\n",
      "Testing reaction: MLTHFte1\n",
      "Reaction MLTHFte1 knockout is safe.\n",
      "Added MLTHFte1 to the candidate removal list.\n",
      "Cumulative effect of MLTHFte1 is safe. Updated safe removal list.\n"
     ]
    },
    {
     "name": "stderr",
     "output_type": "stream",
     "text": [
      "Processing reactions:  71%|█████████████▌     | 541/759 [26:17<17:42,  4.87s/it]"
     ]
    },
    {
     "name": "stdout",
     "output_type": "stream",
     "text": [
      "\n",
      "Testing reaction: HMR_9577\n",
      "Reaction HMR_9577 knockout is safe.\n",
      "Added HMR_9577 to the candidate removal list.\n",
      "Cumulative effect of HMR_9577 is safe. Updated safe removal list.\n"
     ]
    },
    {
     "name": "stderr",
     "output_type": "stream",
     "text": [
      "Processing reactions:  71%|█████████████▌     | 542/759 [26:22<17:32,  4.85s/it]"
     ]
    },
    {
     "name": "stdout",
     "output_type": "stream",
     "text": [
      "\n",
      "Testing reaction: RBK_D\n",
      "Reaction RBK_D knockout is safe.\n",
      "Added RBK_D to the candidate removal list.\n",
      "Cumulative effect of RBK_D is safe. Updated safe removal list.\n"
     ]
    },
    {
     "name": "stderr",
     "output_type": "stream",
     "text": [
      "Processing reactions:  72%|█████████████▌     | 543/759 [26:27<17:51,  4.96s/it]"
     ]
    },
    {
     "name": "stdout",
     "output_type": "stream",
     "text": [
      "\n",
      "Testing reaction: FOLABCCte\n",
      "Reaction FOLABCCte knockout is safe.\n",
      "Added FOLABCCte to the candidate removal list.\n",
      "Cumulative effect of FOLABCCte is safe. Updated safe removal list.\n"
     ]
    },
    {
     "name": "stderr",
     "output_type": "stream",
     "text": [
      "Processing reactions:  72%|█████████████▌     | 544/759 [26:32<17:46,  4.96s/it]"
     ]
    },
    {
     "name": "stdout",
     "output_type": "stream",
     "text": [
      "\n",
      "Testing reaction: NDPK7\n",
      "Reaction NDPK7 knockout is safe.\n",
      "Added NDPK7 to the candidate removal list.\n",
      "Cumulative effect of NDPK7 is safe. Updated safe removal list.\n"
     ]
    },
    {
     "name": "stderr",
     "output_type": "stream",
     "text": [
      "Processing reactions:  72%|█████████████▋     | 545/759 [26:37<17:47,  4.99s/it]"
     ]
    },
    {
     "name": "stdout",
     "output_type": "stream",
     "text": [
      "\n",
      "Testing reaction: r1262\n",
      "Reaction r1262 knockout is safe.\n",
      "Added r1262 to the candidate removal list.\n",
      "Cumulative effect of r1262 is safe. Updated safe removal list.\n"
     ]
    },
    {
     "name": "stderr",
     "output_type": "stream",
     "text": [
      "Processing reactions:  72%|█████████████▋     | 546/759 [26:42<17:36,  4.96s/it]"
     ]
    },
    {
     "name": "stdout",
     "output_type": "stream",
     "text": [
      "\n",
      "Testing reaction: URIDK2m\n",
      "Reaction URIDK2m knockout is safe.\n",
      "Added URIDK2m to the candidate removal list.\n",
      "Cumulative effect of URIDK2m is safe. Updated safe removal list.\n"
     ]
    },
    {
     "name": "stderr",
     "output_type": "stream",
     "text": [
      "Processing reactions:  72%|█████████████▋     | 547/759 [26:47<17:42,  5.01s/it]"
     ]
    },
    {
     "name": "stdout",
     "output_type": "stream",
     "text": [
      "\n",
      "Testing reaction: VLCS2r\n",
      "Reaction VLCS2r knockout is safe.\n",
      "Added VLCS2r to the candidate removal list.\n",
      "Cumulative effect of VLCS2r is safe. Updated safe removal list.\n"
     ]
    },
    {
     "name": "stderr",
     "output_type": "stream",
     "text": [
      "Processing reactions:  72%|█████████████▋     | 548/759 [26:52<17:38,  5.02s/it]"
     ]
    },
    {
     "name": "stdout",
     "output_type": "stream",
     "text": [
      "\n",
      "Testing reaction: FACOAL1822\n",
      "Reaction FACOAL1822 knockout is safe.\n",
      "Added FACOAL1822 to the candidate removal list.\n",
      "Cumulative effect of FACOAL1822 is safe. Updated safe removal list.\n"
     ]
    },
    {
     "name": "stderr",
     "output_type": "stream",
     "text": [
      "Processing reactions:  72%|█████████████▋     | 549/759 [26:57<17:33,  5.02s/it]"
     ]
    },
    {
     "name": "stdout",
     "output_type": "stream",
     "text": [
      "\n",
      "Testing reaction: HMR_0200\n",
      "Reaction HMR_0200 knockout is safe.\n",
      "Added HMR_0200 to the candidate removal list.\n",
      "Cumulative effect of HMR_0200 is safe. Updated safe removal list.\n"
     ]
    },
    {
     "name": "stderr",
     "output_type": "stream",
     "text": [
      "Processing reactions:  72%|█████████████▊     | 550/759 [27:02<17:26,  5.01s/it]"
     ]
    },
    {
     "name": "stdout",
     "output_type": "stream",
     "text": [
      "\n",
      "Testing reaction: PI4P3K\n",
      "Reaction PI4P3K knockout is safe.\n",
      "Added PI4P3K to the candidate removal list.\n",
      "Cumulative effect of PI4P3K is safe. Updated safe removal list.\n"
     ]
    },
    {
     "name": "stderr",
     "output_type": "stream",
     "text": [
      "Processing reactions:  73%|█████████████▊     | 551/759 [27:08<17:23,  5.02s/it]"
     ]
    },
    {
     "name": "stdout",
     "output_type": "stream",
     "text": [
      "\n",
      "Testing reaction: HMR_0319\n",
      "Reaction HMR_0319 knockout is safe.\n",
      "Added HMR_0319 to the candidate removal list.\n",
      "Cumulative effect of HMR_0319 is safe. Updated safe removal list.\n"
     ]
    },
    {
     "name": "stderr",
     "output_type": "stream",
     "text": [
      "Processing reactions:  73%|█████████████▊     | 552/759 [27:13<17:22,  5.04s/it]"
     ]
    },
    {
     "name": "stdout",
     "output_type": "stream",
     "text": [
      "\n",
      "Testing reaction: DNDPt19m\n",
      "Reaction DNDPt19m knockout is safe.\n",
      "Added DNDPt19m to the candidate removal list.\n",
      "Cumulative effect of DNDPt19m is safe. Updated safe removal list.\n"
     ]
    },
    {
     "name": "stderr",
     "output_type": "stream",
     "text": [
      "Processing reactions:  73%|█████████████▊     | 553/759 [27:18<17:14,  5.02s/it]"
     ]
    },
    {
     "name": "stdout",
     "output_type": "stream",
     "text": [
      "\n",
      "Testing reaction: r1514\n",
      "Reaction r1514 knockout is safe.\n",
      "Added r1514 to the candidate removal list.\n",
      "Cumulative effect of r1514 is safe. Updated safe removal list.\n"
     ]
    },
    {
     "name": "stderr",
     "output_type": "stream",
     "text": [
      "Processing reactions:  73%|█████████████▊     | 554/759 [27:23<17:11,  5.03s/it]"
     ]
    },
    {
     "name": "stdout",
     "output_type": "stream",
     "text": [
      "\n",
      "Testing reaction: DURIK1m\n",
      "Reaction DURIK1m knockout is safe.\n",
      "Added DURIK1m to the candidate removal list.\n",
      "Cumulative effect of DURIK1m is safe. Updated safe removal list.\n"
     ]
    },
    {
     "name": "stderr",
     "output_type": "stream",
     "text": [
      "Processing reactions:  73%|█████████████▉     | 555/759 [27:28<17:10,  5.05s/it]"
     ]
    },
    {
     "name": "stdout",
     "output_type": "stream",
     "text": [
      "\n",
      "Testing reaction: RBK\n",
      "Reaction RBK knockout is safe.\n",
      "Added RBK to the candidate removal list.\n",
      "Cumulative effect of RBK is safe. Updated safe removal list.\n"
     ]
    },
    {
     "name": "stderr",
     "output_type": "stream",
     "text": [
      "Processing reactions:  73%|█████████████▉     | 556/759 [27:33<17:19,  5.12s/it]"
     ]
    },
    {
     "name": "stdout",
     "output_type": "stream",
     "text": [
      "\n",
      "Testing reaction: HYOCHOLabc\n",
      "Reaction HYOCHOLabc knockout is safe.\n",
      "Added HYOCHOLabc to the candidate removal list.\n",
      "Cumulative effect of HYOCHOLabc is safe. Updated safe removal list.\n"
     ]
    },
    {
     "name": "stderr",
     "output_type": "stream",
     "text": [
      "Processing reactions:  73%|█████████████▉     | 557/759 [27:38<17:05,  5.08s/it]"
     ]
    },
    {
     "name": "stdout",
     "output_type": "stream",
     "text": [
      "\n",
      "Testing reaction: HMR_2972\n",
      "Reaction HMR_2972 knockout is safe.\n",
      "Added HMR_2972 to the candidate removal list.\n",
      "Cumulative effect of HMR_2972 is safe. Updated safe removal list.\n"
     ]
    },
    {
     "name": "stderr",
     "output_type": "stream",
     "text": [
      "Processing reactions:  74%|█████████████▉     | 558/759 [27:43<17:05,  5.10s/it]"
     ]
    },
    {
     "name": "stdout",
     "output_type": "stream",
     "text": [
      "\n",
      "Testing reaction: r0573\n",
      "Reaction r0573 knockout is safe.\n",
      "Added r0573 to the candidate removal list.\n",
      "Cumulative effect of r0573 is safe. Updated safe removal list.\n"
     ]
    },
    {
     "name": "stderr",
     "output_type": "stream",
     "text": [
      "Processing reactions:  74%|█████████████▉     | 559/759 [27:48<17:02,  5.11s/it]"
     ]
    },
    {
     "name": "stdout",
     "output_type": "stream",
     "text": [
      "\n",
      "Testing reaction: FPGS8\n",
      "Reaction FPGS8 knockout is safe.\n",
      "Added FPGS8 to the candidate removal list.\n",
      "Cumulative effect of FPGS8 is safe. Updated safe removal list.\n"
     ]
    },
    {
     "name": "stderr",
     "output_type": "stream",
     "text": [
      "Processing reactions:  74%|██████████████     | 560/759 [27:53<17:01,  5.13s/it]"
     ]
    },
    {
     "name": "stdout",
     "output_type": "stream",
     "text": [
      "\n",
      "Testing reaction: r2497\n",
      "Reaction r2497 knockout is safe.\n",
      "Added r2497 to the candidate removal list.\n",
      "Cumulative effect of r2497 is safe. Updated safe removal list.\n"
     ]
    },
    {
     "name": "stderr",
     "output_type": "stream",
     "text": [
      "Processing reactions:  74%|██████████████     | 561/759 [27:59<16:56,  5.13s/it]"
     ]
    },
    {
     "name": "stdout",
     "output_type": "stream",
     "text": [
      "\n",
      "Testing reaction: HEX10\n",
      "Reaction HEX10 knockout is safe.\n",
      "Added HEX10 to the candidate removal list.\n",
      "Cumulative effect of HEX10 is safe. Updated safe removal list.\n"
     ]
    },
    {
     "name": "stderr",
     "output_type": "stream",
     "text": [
      "Processing reactions:  74%|██████████████     | 562/759 [28:04<16:51,  5.14s/it]"
     ]
    },
    {
     "name": "stdout",
     "output_type": "stream",
     "text": [
      "\n",
      "Testing reaction: DNDPt43m\n",
      "Reaction DNDPt43m knockout is safe.\n",
      "Added DNDPt43m to the candidate removal list.\n",
      "Cumulative effect of DNDPt43m is safe. Updated safe removal list.\n"
     ]
    },
    {
     "name": "stderr",
     "output_type": "stream",
     "text": [
      "Processing reactions:  74%|██████████████     | 563/759 [28:09<16:47,  5.14s/it]"
     ]
    },
    {
     "name": "stdout",
     "output_type": "stream",
     "text": [
      "\n",
      "Testing reaction: SPHK11\n",
      "Reaction SPHK11 knockout is safe.\n",
      "Added SPHK11 to the candidate removal list.\n",
      "Cumulative effect of SPHK11 is safe. Updated safe removal list.\n"
     ]
    },
    {
     "name": "stderr",
     "output_type": "stream",
     "text": [
      "Processing reactions:  74%|██████████████     | 564/759 [28:14<16:39,  5.13s/it]"
     ]
    },
    {
     "name": "stdout",
     "output_type": "stream",
     "text": [
      "\n",
      "Testing reaction: HMR_2951\n",
      "Reaction HMR_2951 knockout is safe.\n",
      "Added HMR_2951 to the candidate removal list.\n",
      "Cumulative effect of HMR_2951 is safe. Updated safe removal list.\n"
     ]
    },
    {
     "name": "stderr",
     "output_type": "stream",
     "text": [
      "Processing reactions:  74%|██████████████▏    | 565/759 [28:19<16:34,  5.13s/it]"
     ]
    },
    {
     "name": "stdout",
     "output_type": "stream",
     "text": [
      "\n",
      "Testing reaction: HMR_2956\n",
      "Reaction HMR_2956 knockout is safe.\n",
      "Added HMR_2956 to the candidate removal list.\n",
      "Cumulative effect of HMR_2956 is safe. Updated safe removal list.\n"
     ]
    },
    {
     "name": "stderr",
     "output_type": "stream",
     "text": [
      "Processing reactions:  75%|██████████████▏    | 566/759 [28:24<16:33,  5.15s/it]"
     ]
    },
    {
     "name": "stdout",
     "output_type": "stream",
     "text": [
      "\n",
      "Testing reaction: GLUVESSEC\n",
      "Reaction GLUVESSEC knockout is safe.\n",
      "Added GLUVESSEC to the candidate removal list.\n",
      "Cumulative effect of GLUVESSEC is safe. Updated safe removal list.\n"
     ]
    },
    {
     "name": "stderr",
     "output_type": "stream",
     "text": [
      "Processing reactions:  75%|██████████████▏    | 567/759 [28:30<16:44,  5.23s/it]"
     ]
    },
    {
     "name": "stdout",
     "output_type": "stream",
     "text": [
      "\n",
      "Testing reaction: RE2912M\n",
      "Reaction RE2912M knockout is safe.\n",
      "Added RE2912M to the candidate removal list.\n",
      "Cumulative effect of RE2912M is safe. Updated safe removal list.\n"
     ]
    },
    {
     "name": "stderr",
     "output_type": "stream",
     "text": [
      "Processing reactions:  75%|██████████████▏    | 568/759 [28:35<16:37,  5.22s/it]"
     ]
    },
    {
     "name": "stdout",
     "output_type": "stream",
     "text": [
      "\n",
      "Testing reaction: SEBACACT\n",
      "Reaction SEBACACT knockout is safe.\n",
      "Added SEBACACT to the candidate removal list.\n",
      "Cumulative effect of SEBACACT is safe. Updated safe removal list.\n"
     ]
    },
    {
     "name": "stderr",
     "output_type": "stream",
     "text": [
      "Processing reactions:  75%|██████████████▏    | 569/759 [28:40<16:28,  5.20s/it]"
     ]
    },
    {
     "name": "stdout",
     "output_type": "stream",
     "text": [
      "\n",
      "Testing reaction: r1255\n",
      "Reaction r1255 knockout is safe.\n",
      "Added r1255 to the candidate removal list.\n",
      "Cumulative effect of r1255 is safe. Updated safe removal list.\n"
     ]
    },
    {
     "name": "stderr",
     "output_type": "stream",
     "text": [
      "Processing reactions:  75%|██████████████▎    | 570/759 [28:45<16:14,  5.16s/it]"
     ]
    },
    {
     "name": "stdout",
     "output_type": "stream",
     "text": [
      "\n",
      "Testing reaction: PFK\n",
      "Reaction PFK knockout is safe.\n",
      "Added PFK to the candidate removal list.\n",
      "Cumulative effect of PFK is safe. Updated safe removal list.\n"
     ]
    },
    {
     "name": "stderr",
     "output_type": "stream",
     "text": [
      "Processing reactions:  75%|██████████████▎    | 571/759 [28:50<16:12,  5.17s/it]"
     ]
    },
    {
     "name": "stdout",
     "output_type": "stream",
     "text": [
      "\n",
      "Testing reaction: r1094\n",
      "Reaction r1094 knockout is safe.\n",
      "Added r1094 to the candidate removal list.\n",
      "Cumulative effect of r1094 is safe. Updated safe removal list.\n"
     ]
    },
    {
     "name": "stderr",
     "output_type": "stream",
     "text": [
      "Processing reactions:  75%|██████████████▎    | 572/759 [28:55<16:02,  5.15s/it]"
     ]
    },
    {
     "name": "stdout",
     "output_type": "stream",
     "text": [
      "\n",
      "Testing reaction: ATPtm\n",
      "Reaction ATPtm knockout is safe.\n",
      "Added ATPtm to the candidate removal list.\n",
      "Cumulative effect of ATPtm is safe. Updated safe removal list.\n"
     ]
    },
    {
     "name": "stderr",
     "output_type": "stream",
     "text": [
      "Processing reactions:  75%|██████████████▎    | 573/759 [29:01<15:56,  5.14s/it]"
     ]
    },
    {
     "name": "stdout",
     "output_type": "stream",
     "text": [
      "\n",
      "Testing reaction: HMR_1897\n",
      "Reaction HMR_1897 knockout is safe.\n",
      "Added HMR_1897 to the candidate removal list.\n",
      "Cumulative effect of HMR_1897 is safe. Updated safe removal list.\n"
     ]
    },
    {
     "name": "stderr",
     "output_type": "stream",
     "text": [
      "Processing reactions:  76%|██████████████▎    | 574/759 [29:06<15:58,  5.18s/it]"
     ]
    },
    {
     "name": "stdout",
     "output_type": "stream",
     "text": [
      "\n",
      "Testing reaction: ACCOAL2\n",
      "Reaction ACCOAL2 knockout is safe.\n",
      "Added ACCOAL2 to the candidate removal list.\n",
      "Cumulative effect of ACCOAL2 is safe. Updated safe removal list.\n"
     ]
    },
    {
     "name": "stderr",
     "output_type": "stream",
     "text": [
      "Processing reactions:  76%|██████████████▍    | 575/759 [29:11<15:49,  5.16s/it]"
     ]
    },
    {
     "name": "stdout",
     "output_type": "stream",
     "text": [
      "\n",
      "Testing reaction: HMR_0281\n",
      "Reaction HMR_0281 knockout is safe.\n",
      "Added HMR_0281 to the candidate removal list.\n",
      "Cumulative effect of HMR_0281 is safe. Updated safe removal list.\n"
     ]
    },
    {
     "name": "stderr",
     "output_type": "stream",
     "text": [
      "Processing reactions:  76%|██████████████▍    | 576/759 [29:16<15:47,  5.18s/it]"
     ]
    },
    {
     "name": "stdout",
     "output_type": "stream",
     "text": [
      "\n",
      "Testing reaction: r1348\n",
      "Reaction r1348 knockout is safe.\n",
      "Added r1348 to the candidate removal list.\n",
      "Cumulative effect of r1348 is safe. Updated safe removal list.\n"
     ]
    },
    {
     "name": "stderr",
     "output_type": "stream",
     "text": [
      "Processing reactions:  76%|██████████████▍    | 577/759 [29:21<15:44,  5.19s/it]"
     ]
    },
    {
     "name": "stdout",
     "output_type": "stream",
     "text": [
      "\n",
      "Testing reaction: HMR_0429\n",
      "Reaction HMR_0429 knockout is safe.\n",
      "Added HMR_0429 to the candidate removal list.\n",
      "Cumulative effect of HMR_0429 is safe. Updated safe removal list.\n"
     ]
    },
    {
     "name": "stderr",
     "output_type": "stream",
     "text": [
      "Processing reactions:  76%|██████████████▍    | 578/759 [29:27<15:55,  5.28s/it]"
     ]
    },
    {
     "name": "stdout",
     "output_type": "stream",
     "text": [
      "\n",
      "Testing reaction: CE5026t\n",
      "Reaction CE5026t knockout is safe.\n",
      "Added CE5026t to the candidate removal list.\n",
      "Cumulative effect of CE5026t is safe. Updated safe removal list.\n"
     ]
    },
    {
     "name": "stderr",
     "output_type": "stream",
     "text": [
      "Processing reactions:  76%|██████████████▍    | 579/759 [29:32<15:45,  5.25s/it]"
     ]
    },
    {
     "name": "stdout",
     "output_type": "stream",
     "text": [
      "\n",
      "Testing reaction: OCCOAtcx\n",
      "Reaction OCCOAtcx knockout is safe.\n",
      "Added OCCOAtcx to the candidate removal list.\n",
      "Cumulative effect of OCCOAtcx is safe. Updated safe removal list.\n"
     ]
    },
    {
     "name": "stderr",
     "output_type": "stream",
     "text": [
      "Processing reactions:  76%|██████████████▌    | 580/759 [29:38<15:51,  5.31s/it]"
     ]
    },
    {
     "name": "stdout",
     "output_type": "stream",
     "text": [
      "\n",
      "Testing reaction: FPGS4\n",
      "Reaction FPGS4 knockout is safe.\n",
      "Added FPGS4 to the candidate removal list.\n",
      "Cumulative effect of FPGS4 is safe. Updated safe removal list.\n"
     ]
    },
    {
     "name": "stderr",
     "output_type": "stream",
     "text": [
      "Processing reactions:  77%|██████████████▌    | 581/759 [29:43<15:42,  5.30s/it]"
     ]
    },
    {
     "name": "stdout",
     "output_type": "stream",
     "text": [
      "\n",
      "Testing reaction: NACPRT\n",
      "Reaction NACPRT knockout is safe.\n",
      "Added NACPRT to the candidate removal list.\n",
      "Cumulative effect of NACPRT is safe. Updated safe removal list.\n"
     ]
    },
    {
     "name": "stderr",
     "output_type": "stream",
     "text": [
      "Processing reactions:  77%|██████████████▌    | 582/759 [29:48<15:35,  5.29s/it]"
     ]
    },
    {
     "name": "stdout",
     "output_type": "stream",
     "text": [
      "\n",
      "Testing reaction: r1523\n",
      "Reaction r1523 knockout is safe.\n",
      "Added r1523 to the candidate removal list.\n",
      "Cumulative effect of r1523 is safe. Updated safe removal list.\n"
     ]
    },
    {
     "name": "stderr",
     "output_type": "stream",
     "text": [
      "Processing reactions:  77%|██████████████▌    | 583/759 [29:53<15:29,  5.28s/it]"
     ]
    },
    {
     "name": "stdout",
     "output_type": "stream",
     "text": [
      "\n",
      "Testing reaction: HMR_8761\n",
      "Reaction HMR_8761 knockout is safe.\n",
      "Added HMR_8761 to the candidate removal list.\n",
      "Cumulative effect of HMR_8761 is safe. Updated safe removal list.\n"
     ]
    },
    {
     "name": "stderr",
     "output_type": "stream",
     "text": [
      "Processing reactions:  77%|██████████████▌    | 584/759 [29:59<15:20,  5.26s/it]"
     ]
    },
    {
     "name": "stdout",
     "output_type": "stream",
     "text": [
      "\n",
      "Testing reaction: THCHOLSTOICATP\n",
      "Reaction THCHOLSTOICATP knockout is safe.\n",
      "Added THCHOLSTOICATP to the candidate removal list.\n",
      "Cumulative effect of THCHOLSTOICATP is safe. Updated safe removal list.\n"
     ]
    },
    {
     "name": "stderr",
     "output_type": "stream",
     "text": [
      "Processing reactions:  77%|██████████████▋    | 585/759 [30:04<15:16,  5.27s/it]"
     ]
    },
    {
     "name": "stdout",
     "output_type": "stream",
     "text": [
      "\n",
      "Testing reaction: HCA6Gte\n",
      "Reaction HCA6Gte knockout is safe.\n",
      "Added HCA6Gte to the candidate removal list.\n",
      "Cumulative effect of HCA6Gte is safe. Updated safe removal list.\n"
     ]
    },
    {
     "name": "stderr",
     "output_type": "stream",
     "text": [
      "Processing reactions:  77%|██████████████▋    | 586/759 [30:09<15:09,  5.26s/it]"
     ]
    },
    {
     "name": "stdout",
     "output_type": "stream",
     "text": [
      "\n",
      "Testing reaction: PPCOACm\n",
      "Reaction PPCOACm knockout is safe.\n",
      "Added PPCOACm to the candidate removal list.\n",
      "Cumulative effect of PPCOACm is safe. Updated safe removal list.\n"
     ]
    },
    {
     "name": "stderr",
     "output_type": "stream",
     "text": [
      "Processing reactions:  77%|██████████████▋    | 587/759 [30:14<15:04,  5.26s/it]"
     ]
    },
    {
     "name": "stdout",
     "output_type": "stream",
     "text": [
      "\n",
      "Testing reaction: HMR_3003\n",
      "Reaction HMR_3003 knockout is safe.\n",
      "Added HMR_3003 to the candidate removal list.\n",
      "Cumulative effect of HMR_3003 is safe. Updated safe removal list.\n"
     ]
    },
    {
     "name": "stderr",
     "output_type": "stream",
     "text": [
      "Processing reactions:  77%|██████████████▋    | 588/759 [30:20<15:00,  5.27s/it]"
     ]
    },
    {
     "name": "stdout",
     "output_type": "stream",
     "text": [
      "\n",
      "Testing reaction: r2503\n",
      "Reaction r2503 knockout is safe.\n",
      "Added r2503 to the candidate removal list.\n",
      "Cumulative effect of r2503 is safe. Updated safe removal list.\n"
     ]
    },
    {
     "name": "stderr",
     "output_type": "stream",
     "text": [
      "Processing reactions:  78%|██████████████▋    | 589/759 [30:25<15:10,  5.35s/it]"
     ]
    },
    {
     "name": "stdout",
     "output_type": "stream",
     "text": [
      "\n",
      "Testing reaction: r0283\n",
      "Reaction r0283 knockout is safe.\n",
      "Added r0283 to the candidate removal list.\n",
      "Cumulative effect of r0283 is safe. Updated safe removal list.\n"
     ]
    },
    {
     "name": "stderr",
     "output_type": "stream",
     "text": [
      "Processing reactions:  78%|██████████████▊    | 590/759 [30:30<14:58,  5.32s/it]"
     ]
    },
    {
     "name": "stdout",
     "output_type": "stream",
     "text": [
      "\n",
      "Testing reaction: MECOALm\n",
      "Reaction MECOALm knockout is safe.\n",
      "Added MECOALm to the candidate removal list.\n",
      "Cumulative effect of MECOALm is safe. Updated safe removal list.\n"
     ]
    },
    {
     "name": "stderr",
     "output_type": "stream",
     "text": [
      "Processing reactions:  78%|██████████████▊    | 591/759 [30:36<14:59,  5.35s/it]"
     ]
    },
    {
     "name": "stdout",
     "output_type": "stream",
     "text": [
      "\n",
      "Testing reaction: LEUKTRB4t\n",
      "Reaction LEUKTRB4t knockout is safe.\n",
      "Added LEUKTRB4t to the candidate removal list.\n",
      "Cumulative effect of LEUKTRB4t is safe. Updated safe removal list.\n"
     ]
    },
    {
     "name": "stderr",
     "output_type": "stream",
     "text": [
      "Processing reactions:  78%|██████████████▊    | 592/759 [30:41<14:56,  5.37s/it]"
     ]
    },
    {
     "name": "stdout",
     "output_type": "stream",
     "text": [
      "\n",
      "Testing reaction: ADNK1m\n",
      "Reaction ADNK1m knockout is safe.\n",
      "Added ADNK1m to the candidate removal list.\n",
      "Cumulative effect of ADNK1m is safe. Updated safe removal list.\n"
     ]
    },
    {
     "name": "stderr",
     "output_type": "stream",
     "text": [
      "Processing reactions:  78%|██████████████▊    | 593/759 [30:47<14:50,  5.36s/it]"
     ]
    },
    {
     "name": "stdout",
     "output_type": "stream",
     "text": [
      "\n",
      "Testing reaction: HMR_2990\n",
      "Reaction HMR_2990 knockout is safe.\n",
      "Added HMR_2990 to the candidate removal list.\n",
      "Cumulative effect of HMR_2990 is safe. Updated safe removal list.\n"
     ]
    },
    {
     "name": "stderr",
     "output_type": "stream",
     "text": [
      "Processing reactions:  78%|██████████████▊    | 594/759 [30:52<14:46,  5.37s/it]"
     ]
    },
    {
     "name": "stdout",
     "output_type": "stream",
     "text": [
      "\n",
      "Testing reaction: ASCBSVCTtc\n",
      "Reaction ASCBSVCTtc knockout is safe.\n",
      "Added ASCBSVCTtc to the candidate removal list.\n",
      "Cumulative effect of ASCBSVCTtc is safe. Updated safe removal list.\n"
     ]
    },
    {
     "name": "stderr",
     "output_type": "stream",
     "text": [
      "Processing reactions:  78%|██████████████▉    | 595/759 [30:57<14:39,  5.36s/it]"
     ]
    },
    {
     "name": "stdout",
     "output_type": "stream",
     "text": [
      "\n",
      "Testing reaction: NDPK6n\n",
      "Reaction NDPK6n knockout is safe.\n",
      "Added NDPK6n to the candidate removal list.\n",
      "Cumulative effect of NDPK6n is safe. Updated safe removal list.\n"
     ]
    },
    {
     "name": "stderr",
     "output_type": "stream",
     "text": [
      "Processing reactions:  79%|██████████████▉    | 596/759 [31:03<14:33,  5.36s/it]"
     ]
    },
    {
     "name": "stdout",
     "output_type": "stream",
     "text": [
      "\n",
      "Testing reaction: SameRxns165\n",
      "Reaction SameRxns165 knockout is safe.\n",
      "Added SameRxns165 to the candidate removal list.\n",
      "Cumulative effect of SameRxns165 is safe. Updated safe removal list.\n"
     ]
    },
    {
     "name": "stderr",
     "output_type": "stream",
     "text": [
      "Processing reactions:  79%|██████████████▉    | 597/759 [31:08<14:27,  5.36s/it]"
     ]
    },
    {
     "name": "stdout",
     "output_type": "stream",
     "text": [
      "\n",
      "Testing reaction: HMR_7755\n",
      "Reaction HMR_7755 knockout is safe.\n",
      "Added HMR_7755 to the candidate removal list.\n",
      "Cumulative effect of HMR_7755 is safe. Updated safe removal list.\n"
     ]
    },
    {
     "name": "stderr",
     "output_type": "stream",
     "text": [
      "Processing reactions:  79%|██████████████▉    | 598/759 [31:13<14:23,  5.36s/it]"
     ]
    },
    {
     "name": "stdout",
     "output_type": "stream",
     "text": [
      "\n",
      "Testing reaction: r1024\n",
      "Reaction r1024 knockout is safe.\n",
      "Added r1024 to the candidate removal list.\n",
      "Cumulative effect of r1024 is safe. Updated safe removal list.\n"
     ]
    },
    {
     "name": "stderr",
     "output_type": "stream",
     "text": [
      "Processing reactions:  79%|██████████████▉    | 599/759 [31:19<14:24,  5.41s/it]"
     ]
    },
    {
     "name": "stdout",
     "output_type": "stream",
     "text": [
      "\n",
      "Testing reaction: CYTK2n\n",
      "Reaction CYTK2n knockout is safe.\n",
      "Added CYTK2n to the candidate removal list.\n",
      "Cumulative effect of CYTK2n is safe. Updated safe removal list.\n"
     ]
    },
    {
     "name": "stderr",
     "output_type": "stream",
     "text": [
      "Processing reactions:  79%|███████████████    | 600/759 [31:25<14:33,  5.49s/it]"
     ]
    },
    {
     "name": "stdout",
     "output_type": "stream",
     "text": [
      "\n",
      "Testing reaction: TCHOLABCtc\n",
      "Reaction TCHOLABCtc knockout is safe.\n",
      "Added TCHOLABCtc to the candidate removal list.\n",
      "Cumulative effect of TCHOLABCtc is safe. Updated safe removal list.\n"
     ]
    },
    {
     "name": "stderr",
     "output_type": "stream",
     "text": [
      "Processing reactions:  79%|███████████████    | 601/759 [31:30<14:25,  5.48s/it]"
     ]
    },
    {
     "name": "stdout",
     "output_type": "stream",
     "text": [
      "\n",
      "Testing reaction: igg_lc\n",
      "Reaction igg_lc knockout is safe.\n",
      "Added igg_lc to the candidate removal list.\n",
      "Cumulative effect of igg_lc is safe. Updated safe removal list.\n"
     ]
    },
    {
     "name": "stderr",
     "output_type": "stream",
     "text": [
      "Processing reactions:  79%|███████████████    | 602/759 [31:35<14:12,  5.43s/it]"
     ]
    },
    {
     "name": "stdout",
     "output_type": "stream",
     "text": [
      "\n",
      "Testing reaction: FACOAL200\n",
      "Reaction FACOAL200 knockout is safe.\n",
      "Added FACOAL200 to the candidate removal list.\n",
      "Cumulative effect of FACOAL200 is safe. Updated safe removal list.\n"
     ]
    },
    {
     "name": "stderr",
     "output_type": "stream",
     "text": [
      "Processing reactions:  79%|███████████████    | 603/759 [31:41<14:11,  5.46s/it]"
     ]
    },
    {
     "name": "stdout",
     "output_type": "stream",
     "text": [
      "\n",
      "Testing reaction: HMR_2969\n",
      "Reaction HMR_2969 knockout is safe.\n",
      "Added HMR_2969 to the candidate removal list.\n",
      "Cumulative effect of HMR_2969 is safe. Updated safe removal list.\n"
     ]
    },
    {
     "name": "stderr",
     "output_type": "stream",
     "text": [
      "Processing reactions:  80%|███████████████    | 604/759 [31:47<14:15,  5.52s/it]"
     ]
    },
    {
     "name": "stdout",
     "output_type": "stream",
     "text": [
      "\n",
      "Testing reaction: DCA3Gte\n",
      "Reaction DCA3Gte knockout is safe.\n",
      "Added DCA3Gte to the candidate removal list.\n",
      "Cumulative effect of DCA3Gte is safe. Updated safe removal list.\n"
     ]
    },
    {
     "name": "stderr",
     "output_type": "stream",
     "text": [
      "Processing reactions:  80%|███████████████▏   | 605/759 [31:52<14:13,  5.54s/it]"
     ]
    },
    {
     "name": "stdout",
     "output_type": "stream",
     "text": [
      "\n",
      "Testing reaction: ESTRIOLGLCte\n",
      "Reaction ESTRIOLGLCte knockout is safe.\n",
      "Added ESTRIOLGLCte to the candidate removal list.\n",
      "Cumulative effect of ESTRIOLGLCte is safe. Updated safe removal list.\n"
     ]
    },
    {
     "name": "stderr",
     "output_type": "stream",
     "text": [
      "Processing reactions:  80%|███████████████▏   | 606/759 [31:58<14:09,  5.55s/it]"
     ]
    },
    {
     "name": "stdout",
     "output_type": "stream",
     "text": [
      "\n",
      "Testing reaction: r1354\n",
      "Reaction r1354 knockout is safe.\n",
      "Added r1354 to the candidate removal list.\n",
      "Cumulative effect of r1354 is safe. Updated safe removal list.\n"
     ]
    },
    {
     "name": "stderr",
     "output_type": "stream",
     "text": [
      "Processing reactions:  80%|███████████████▏   | 607/759 [32:03<13:58,  5.52s/it]"
     ]
    },
    {
     "name": "stdout",
     "output_type": "stream",
     "text": [
      "\n",
      "Testing reaction: DTMPKm\n",
      "Reaction DTMPKm knockout is safe.\n",
      "Added DTMPKm to the candidate removal list.\n",
      "Cumulative effect of DTMPKm is safe. Updated safe removal list.\n"
     ]
    },
    {
     "name": "stderr",
     "output_type": "stream",
     "text": [
      "Processing reactions:  80%|███████████████▏   | 608/759 [32:08<13:45,  5.47s/it]"
     ]
    },
    {
     "name": "stdout",
     "output_type": "stream",
     "text": [
      "\n",
      "Testing reaction: FACOAL226x\n",
      "Reaction FACOAL226x knockout is safe.\n",
      "Added FACOAL226x to the candidate removal list.\n",
      "Cumulative effect of FACOAL226x is safe. Updated safe removal list.\n"
     ]
    },
    {
     "name": "stderr",
     "output_type": "stream",
     "text": [
      "Processing reactions:  80%|███████████████▏   | 609/759 [32:14<13:34,  5.43s/it]"
     ]
    },
    {
     "name": "stdout",
     "output_type": "stream",
     "text": [
      "\n",
      "Testing reaction: r2517\n",
      "Reaction r2517 knockout is safe.\n",
      "Added r2517 to the candidate removal list.\n",
      "Cumulative effect of r2517 is safe. Updated safe removal list.\n"
     ]
    },
    {
     "name": "stderr",
     "output_type": "stream",
     "text": [
      "Processing reactions:  80%|███████████████▎   | 610/759 [32:19<13:38,  5.50s/it]"
     ]
    },
    {
     "name": "stdout",
     "output_type": "stream",
     "text": [
      "\n",
      "Testing reaction: GTHS\n",
      "Reaction GTHS knockout is safe.\n",
      "Added GTHS to the candidate removal list.\n",
      "Cumulative effect of GTHS is safe. Updated safe removal list.\n"
     ]
    },
    {
     "name": "stderr",
     "output_type": "stream",
     "text": [
      "Processing reactions:  81%|███████████████▎   | 611/759 [32:25<13:33,  5.50s/it]"
     ]
    },
    {
     "name": "stdout",
     "output_type": "stream",
     "text": [
      "\n",
      "Testing reaction: OLEICFATPtc\n",
      "Reaction OLEICFATPtc knockout is safe.\n",
      "Added OLEICFATPtc to the candidate removal list.\n",
      "Cumulative effect of OLEICFATPtc is safe. Updated safe removal list.\n"
     ]
    },
    {
     "name": "stderr",
     "output_type": "stream",
     "text": [
      "Processing reactions:  81%|███████████████▎   | 612/759 [32:30<13:26,  5.49s/it]"
     ]
    },
    {
     "name": "stdout",
     "output_type": "stream",
     "text": [
      "\n",
      "Testing reaction: FPGS6m\n",
      "Reaction FPGS6m knockout is safe.\n",
      "Added FPGS6m to the candidate removal list.\n",
      "Cumulative effect of FPGS6m is safe. Updated safe removal list.\n"
     ]
    },
    {
     "name": "stderr",
     "output_type": "stream",
     "text": [
      "Processing reactions:  81%|███████████████▎   | 613/759 [32:36<13:22,  5.50s/it]"
     ]
    },
    {
     "name": "stdout",
     "output_type": "stream",
     "text": [
      "\n",
      "Testing reaction: HMR_2948\n",
      "Reaction HMR_2948 knockout is safe.\n",
      "Added HMR_2948 to the candidate removal list.\n",
      "Cumulative effect of HMR_2948 is safe. Updated safe removal list.\n"
     ]
    },
    {
     "name": "stderr",
     "output_type": "stream",
     "text": [
      "Processing reactions:  81%|███████████████▎   | 614/759 [32:41<13:14,  5.48s/it]"
     ]
    },
    {
     "name": "stdout",
     "output_type": "stream",
     "text": [
      "\n",
      "Testing reaction: r0465\n",
      "Reaction r0465 knockout is safe.\n",
      "Added r0465 to the candidate removal list.\n",
      "Cumulative effect of r0465 is safe. Updated safe removal list.\n"
     ]
    },
    {
     "name": "stderr",
     "output_type": "stream",
     "text": [
      "Processing reactions:  81%|███████████████▍   | 615/759 [32:47<13:09,  5.48s/it]"
     ]
    },
    {
     "name": "stdout",
     "output_type": "stream",
     "text": [
      "\n",
      "Testing reaction: C03990ATP\n",
      "Reaction C03990ATP knockout is safe.\n",
      "Added C03990ATP to the candidate removal list.\n",
      "Cumulative effect of C03990ATP is safe. Updated safe removal list.\n"
     ]
    },
    {
     "name": "stderr",
     "output_type": "stream",
     "text": [
      "Processing reactions:  81%|███████████████▍   | 616/759 [32:52<13:06,  5.50s/it]"
     ]
    },
    {
     "name": "stdout",
     "output_type": "stream",
     "text": [
      "\n",
      "Testing reaction: LGNCCOAtcx\n",
      "Reaction LGNCCOAtcx knockout is safe.\n",
      "Added LGNCCOAtcx to the candidate removal list.\n",
      "Cumulative effect of LGNCCOAtcx is safe. Updated safe removal list.\n"
     ]
    },
    {
     "name": "stderr",
     "output_type": "stream",
     "text": [
      "Processing reactions:  81%|███████████████▍   | 617/759 [32:58<12:59,  5.49s/it]"
     ]
    },
    {
     "name": "stdout",
     "output_type": "stream",
     "text": [
      "\n",
      "Testing reaction: CA24Gte\n",
      "Reaction CA24Gte knockout is safe.\n",
      "Added CA24Gte to the candidate removal list.\n",
      "Cumulative effect of CA24Gte is safe. Updated safe removal list.\n"
     ]
    },
    {
     "name": "stderr",
     "output_type": "stream",
     "text": [
      "Processing reactions:  81%|███████████████▍   | 618/759 [33:04<12:58,  5.52s/it]"
     ]
    },
    {
     "name": "stdout",
     "output_type": "stream",
     "text": [
      "\n",
      "Testing reaction: r1260\n",
      "Reaction r1260 knockout is safe.\n",
      "Added r1260 to the candidate removal list.\n",
      "Cumulative effect of r1260 is safe. Updated safe removal list.\n"
     ]
    },
    {
     "name": "stderr",
     "output_type": "stream",
     "text": [
      "Processing reactions:  82%|███████████████▍   | 619/759 [33:09<12:52,  5.51s/it]"
     ]
    },
    {
     "name": "stdout",
     "output_type": "stream",
     "text": [
      "\n",
      "Testing reaction: HMR_2994\n",
      "Reaction HMR_2994 knockout is safe.\n",
      "Added HMR_2994 to the candidate removal list.\n",
      "Cumulative effect of HMR_2994 is safe. Updated safe removal list.\n"
     ]
    },
    {
     "name": "stderr",
     "output_type": "stream",
     "text": [
      "Processing reactions:  82%|███████████████▌   | 620/759 [33:15<12:47,  5.52s/it]"
     ]
    },
    {
     "name": "stdout",
     "output_type": "stream",
     "text": [
      "\n",
      "Testing reaction: r1341\n",
      "Reaction r1341 knockout is safe.\n",
      "Added r1341 to the candidate removal list.\n",
      "Cumulative effect of r1341 is safe. Updated safe removal list.\n"
     ]
    },
    {
     "name": "stderr",
     "output_type": "stream",
     "text": [
      "Processing reactions:  82%|███████████████▌   | 621/759 [33:20<12:54,  5.61s/it]"
     ]
    },
    {
     "name": "stdout",
     "output_type": "stream",
     "text": [
      "\n",
      "Testing reaction: ACSm\n",
      "Reaction ACSm knockout is safe.\n",
      "Added ACSm to the candidate removal list.\n",
      "Cumulative effect of ACSm is safe. Updated safe removal list.\n"
     ]
    },
    {
     "name": "stderr",
     "output_type": "stream",
     "text": [
      "Processing reactions:  82%|███████████████▌   | 622/759 [33:26<12:47,  5.60s/it]"
     ]
    },
    {
     "name": "stdout",
     "output_type": "stream",
     "text": [
      "\n",
      "Testing reaction: UMPKn\n",
      "Reaction UMPKn knockout is safe.\n",
      "Added UMPKn to the candidate removal list.\n",
      "Cumulative effect of UMPKn is safe. Updated safe removal list.\n"
     ]
    },
    {
     "name": "stderr",
     "output_type": "stream",
     "text": [
      "Processing reactions:  82%|███████████████▌   | 623/759 [33:32<12:43,  5.62s/it]"
     ]
    },
    {
     "name": "stdout",
     "output_type": "stream",
     "text": [
      "\n",
      "Testing reaction: 3DHLCAabc\n",
      "Reaction 3DHLCAabc knockout is safe.\n",
      "Added 3DHLCAabc to the candidate removal list.\n",
      "Cumulative effect of 3DHLCAabc is safe. Updated safe removal list.\n"
     ]
    },
    {
     "name": "stderr",
     "output_type": "stream",
     "text": [
      "Processing reactions:  82%|███████████████▌   | 624/759 [33:37<12:36,  5.60s/it]"
     ]
    },
    {
     "name": "stdout",
     "output_type": "stream",
     "text": [
      "\n",
      "Testing reaction: ANDRSTRNGLCte\n",
      "Reaction ANDRSTRNGLCte knockout is safe.\n",
      "Added ANDRSTRNGLCte to the candidate removal list.\n",
      "Cumulative effect of ANDRSTRNGLCte is safe. Updated safe removal list.\n"
     ]
    },
    {
     "name": "stderr",
     "output_type": "stream",
     "text": [
      "Processing reactions:  82%|███████████████▋   | 625/759 [33:43<12:26,  5.57s/it]"
     ]
    },
    {
     "name": "stdout",
     "output_type": "stream",
     "text": [
      "\n",
      "Testing reaction: FPGS2\n",
      "Reaction FPGS2 knockout is safe.\n",
      "Added FPGS2 to the candidate removal list.\n",
      "Cumulative effect of FPGS2 is safe. Updated safe removal list.\n"
     ]
    },
    {
     "name": "stderr",
     "output_type": "stream",
     "text": [
      "Processing reactions:  82%|███████████████▋   | 626/759 [33:48<12:19,  5.56s/it]"
     ]
    },
    {
     "name": "stdout",
     "output_type": "stream",
     "text": [
      "\n",
      "Testing reaction: HMR_0307\n",
      "Reaction HMR_0307 knockout is safe.\n",
      "Added HMR_0307 to the candidate removal list.\n",
      "Cumulative effect of HMR_0307 is safe. Updated safe removal list.\n"
     ]
    },
    {
     "name": "stderr",
     "output_type": "stream",
     "text": [
      "Processing reactions:  83%|███████████████▋   | 627/759 [33:54<12:14,  5.56s/it]"
     ]
    },
    {
     "name": "stdout",
     "output_type": "stream",
     "text": [
      "\n",
      "Testing reaction: PI3P5K\n",
      "Reaction PI3P5K knockout is safe.\n",
      "Added PI3P5K to the candidate removal list.\n",
      "Cumulative effect of PI3P5K is safe. Updated safe removal list.\n"
     ]
    },
    {
     "name": "stderr",
     "output_type": "stream",
     "text": [
      "Processing reactions:  83%|███████████████▋   | 628/759 [33:59<12:09,  5.57s/it]"
     ]
    },
    {
     "name": "stdout",
     "output_type": "stream",
     "text": [
      "\n",
      "Testing reaction: RE2637C\n",
      "Reaction RE2637C knockout is safe.\n",
      "Added RE2637C to the candidate removal list.\n",
      "Cumulative effect of RE2637C is safe. Updated safe removal list.\n"
     ]
    },
    {
     "name": "stderr",
     "output_type": "stream",
     "text": [
      "Processing reactions:  83%|███████████████▋   | 629/759 [34:05<12:02,  5.56s/it]"
     ]
    },
    {
     "name": "stdout",
     "output_type": "stream",
     "text": [
      "\n",
      "Testing reaction: HMR_1264\n",
      "Reaction HMR_1264 knockout is safe.\n",
      "Added HMR_1264 to the candidate removal list.\n",
      "Cumulative effect of HMR_1264 is safe. Updated safe removal list.\n"
     ]
    },
    {
     "name": "stderr",
     "output_type": "stream",
     "text": [
      "Processing reactions:  83%|███████████████▊   | 630/759 [34:11<12:04,  5.62s/it]"
     ]
    },
    {
     "name": "stdout",
     "output_type": "stream",
     "text": [
      "\n",
      "Testing reaction: HMR_2970\n",
      "Reaction HMR_2970 knockout is safe.\n",
      "Added HMR_2970 to the candidate removal list.\n",
      "Cumulative effect of HMR_2970 is safe. Updated safe removal list.\n"
     ]
    },
    {
     "name": "stderr",
     "output_type": "stream",
     "text": [
      "Processing reactions:  83%|███████████████▊   | 631/759 [34:17<12:09,  5.70s/it]"
     ]
    },
    {
     "name": "stdout",
     "output_type": "stream",
     "text": [
      "\n",
      "Testing reaction: HMR_0427\n",
      "Reaction HMR_0427 knockout is safe.\n",
      "Added HMR_0427 to the candidate removal list.\n",
      "Cumulative effect of HMR_0427 is safe. Updated safe removal list.\n"
     ]
    },
    {
     "name": "stderr",
     "output_type": "stream",
     "text": [
      "Processing reactions:  83%|███████████████▊   | 632/759 [34:22<12:02,  5.69s/it]"
     ]
    },
    {
     "name": "stdout",
     "output_type": "stream",
     "text": [
      "\n",
      "Testing reaction: EANDRSTRNte\n",
      "Reaction EANDRSTRNte knockout is safe.\n",
      "Added EANDRSTRNte to the candidate removal list.\n",
      "Cumulative effect of EANDRSTRNte is safe. Updated safe removal list.\n"
     ]
    },
    {
     "name": "stderr",
     "output_type": "stream",
     "text": [
      "Processing reactions:  83%|███████████████▊   | 633/759 [34:28<11:54,  5.67s/it]"
     ]
    },
    {
     "name": "stdout",
     "output_type": "stream",
     "text": [
      "\n",
      "Testing reaction: DOCOSCOAtxc\n",
      "Reaction DOCOSCOAtxc knockout is safe.\n",
      "Added DOCOSCOAtxc to the candidate removal list.\n",
      "Cumulative effect of DOCOSCOAtxc is safe. Updated safe removal list.\n"
     ]
    },
    {
     "name": "stderr",
     "output_type": "stream",
     "text": [
      "Processing reactions:  84%|███████████████▊   | 634/759 [34:33<11:48,  5.67s/it]"
     ]
    },
    {
     "name": "stdout",
     "output_type": "stream",
     "text": [
      "\n",
      "Testing reaction: FACOAL246_1\n",
      "Reaction FACOAL246_1 knockout is safe.\n",
      "Added FACOAL246_1 to the candidate removal list.\n",
      "Cumulative effect of FACOAL246_1 is safe. Updated safe removal list.\n"
     ]
    },
    {
     "name": "stderr",
     "output_type": "stream",
     "text": [
      "Processing reactions:  84%|███████████████▉   | 635/759 [34:39<11:48,  5.71s/it]"
     ]
    },
    {
     "name": "stdout",
     "output_type": "stream",
     "text": [
      "\n",
      "Testing reaction: FPGS3\n",
      "Reaction FPGS3 knockout is safe.\n",
      "Added FPGS3 to the candidate removal list.\n",
      "Cumulative effect of FPGS3 is safe. Updated safe removal list.\n"
     ]
    },
    {
     "name": "stderr",
     "output_type": "stream",
     "text": [
      "Processing reactions:  84%|███████████████▉   | 636/759 [34:45<11:42,  5.71s/it]"
     ]
    },
    {
     "name": "stdout",
     "output_type": "stream",
     "text": [
      "\n",
      "Testing reaction: PHEMEABCte\n",
      "Reaction PHEMEABCte knockout is safe.\n",
      "Added PHEMEABCte to the candidate removal list.\n",
      "Cumulative effect of PHEMEABCte is safe. Updated safe removal list.\n"
     ]
    },
    {
     "name": "stderr",
     "output_type": "stream",
     "text": [
      "Processing reactions:  84%|███████████████▉   | 637/759 [34:51<11:37,  5.72s/it]"
     ]
    },
    {
     "name": "stdout",
     "output_type": "stream",
     "text": [
      "\n",
      "Testing reaction: DCK1mi\n",
      "Reaction DCK1mi knockout is safe.\n",
      "Added DCK1mi to the candidate removal list.\n",
      "Cumulative effect of DCK1mi is safe. Updated safe removal list.\n"
     ]
    },
    {
     "name": "stderr",
     "output_type": "stream",
     "text": [
      "Processing reactions:  84%|███████████████▉   | 638/759 [34:57<11:34,  5.74s/it]"
     ]
    },
    {
     "name": "stdout",
     "output_type": "stream",
     "text": [
      "\n",
      "Testing reaction: HMR_2944\n",
      "Reaction HMR_2944 knockout is safe.\n",
      "Added HMR_2944 to the candidate removal list.\n",
      "Cumulative effect of HMR_2944 is safe. Updated safe removal list.\n"
     ]
    },
    {
     "name": "stderr",
     "output_type": "stream",
     "text": [
      "Processing reactions:  84%|███████████████▉   | 639/759 [35:02<11:25,  5.71s/it]"
     ]
    },
    {
     "name": "stdout",
     "output_type": "stream",
     "text": [
      "\n",
      "Testing reaction: r1092\n",
      "Reaction r1092 knockout is safe.\n",
      "Added r1092 to the candidate removal list.\n",
      "Cumulative effect of r1092 is safe. Updated safe removal list.\n"
     ]
    },
    {
     "name": "stderr",
     "output_type": "stream",
     "text": [
      "Processing reactions:  84%|████████████████   | 640/759 [35:08<11:25,  5.76s/it]"
     ]
    },
    {
     "name": "stdout",
     "output_type": "stream",
     "text": [
      "\n",
      "Testing reaction: LGNCFATPtc\n",
      "Reaction LGNCFATPtc knockout is safe.\n",
      "Added LGNCFATPtc to the candidate removal list.\n",
      "Cumulative effect of LGNCFATPtc is safe. Updated safe removal list.\n"
     ]
    },
    {
     "name": "stderr",
     "output_type": "stream",
     "text": [
      "Processing reactions:  84%|████████████████   | 641/759 [35:14<11:29,  5.85s/it]"
     ]
    },
    {
     "name": "stdout",
     "output_type": "stream",
     "text": [
      "\n",
      "Testing reaction: NMNATm\n",
      "Reaction NMNATm knockout is safe.\n",
      "Added NMNATm to the candidate removal list.\n",
      "Cumulative effect of NMNATm is safe. Updated safe removal list.\n"
     ]
    },
    {
     "name": "stderr",
     "output_type": "stream",
     "text": [
      "Processing reactions:  85%|████████████████   | 642/759 [35:20<11:18,  5.80s/it]"
     ]
    },
    {
     "name": "stdout",
     "output_type": "stream",
     "text": [
      "\n",
      "Testing reaction: r1517\n",
      "Reaction r1517 knockout is safe.\n",
      "Added r1517 to the candidate removal list.\n",
      "Cumulative effect of r1517 is safe. Updated safe removal list.\n"
     ]
    },
    {
     "name": "stderr",
     "output_type": "stream",
     "text": [
      "Processing reactions:  85%|████████████████   | 643/759 [35:25<11:09,  5.77s/it]"
     ]
    },
    {
     "name": "stdout",
     "output_type": "stream",
     "text": [
      "\n",
      "Testing reaction: HMR_0287\n",
      "Reaction HMR_0287 knockout is safe.\n",
      "Added HMR_0287 to the candidate removal list.\n",
      "Cumulative effect of HMR_0287 is safe. Updated safe removal list.\n"
     ]
    },
    {
     "name": "stderr",
     "output_type": "stream",
     "text": [
      "Processing reactions:  85%|████████████████   | 644/759 [35:31<11:05,  5.78s/it]"
     ]
    },
    {
     "name": "stdout",
     "output_type": "stream",
     "text": [
      "\n",
      "Testing reaction: ADPACDAc\n",
      "Reaction ADPACDAc knockout is safe.\n",
      "Added ADPACDAc to the candidate removal list.\n",
      "Cumulative effect of ADPACDAc is safe. Updated safe removal list.\n"
     ]
    },
    {
     "name": "stderr",
     "output_type": "stream",
     "text": [
      "Processing reactions:  85%|████████████████▏  | 645/759 [35:37<10:58,  5.78s/it]"
     ]
    },
    {
     "name": "stdout",
     "output_type": "stream",
     "text": [
      "\n",
      "Testing reaction: DIGALSGALSIDEATPte\n",
      "Reaction DIGALSGALSIDEATPte knockout is safe.\n",
      "Added DIGALSGALSIDEATPte to the candidate removal list.\n",
      "Cumulative effect of DIGALSGALSIDEATPte is safe. Updated safe removal list.\n"
     ]
    },
    {
     "name": "stderr",
     "output_type": "stream",
     "text": [
      "Processing reactions:  85%|████████████████▏  | 646/759 [35:43<10:53,  5.78s/it]"
     ]
    },
    {
     "name": "stdout",
     "output_type": "stream",
     "text": [
      "\n",
      "Testing reaction: PIK4n\n",
      "Reaction PIK4n knockout is safe.\n",
      "Added PIK4n to the candidate removal list.\n",
      "Cumulative effect of PIK4n is safe. Updated safe removal list.\n"
     ]
    },
    {
     "name": "stderr",
     "output_type": "stream",
     "text": [
      "Processing reactions:  85%|████████████████▏  | 647/759 [35:49<10:48,  5.79s/it]"
     ]
    },
    {
     "name": "stdout",
     "output_type": "stream",
     "text": [
      "\n",
      "Testing reaction: FACOAL245_2\n",
      "Reaction FACOAL245_2 knockout is safe.\n",
      "Added FACOAL245_2 to the candidate removal list.\n",
      "Cumulative effect of FACOAL245_2 is safe. Updated safe removal list.\n"
     ]
    },
    {
     "name": "stderr",
     "output_type": "stream",
     "text": [
      "Processing reactions:  85%|████████████████▏  | 648/759 [35:54<10:42,  5.79s/it]"
     ]
    },
    {
     "name": "stdout",
     "output_type": "stream",
     "text": [
      "\n",
      "Testing reaction: DAGK\n",
      "Reaction DAGK knockout is safe.\n",
      "Added DAGK to the candidate removal list.\n",
      "Cumulative effect of DAGK is safe. Updated safe removal list.\n"
     ]
    },
    {
     "name": "stderr",
     "output_type": "stream",
     "text": [
      "Processing reactions:  86%|████████████████▏  | 649/759 [36:00<10:36,  5.78s/it]"
     ]
    },
    {
     "name": "stdout",
     "output_type": "stream",
     "text": [
      "\n",
      "Testing reaction: HMR_0309\n",
      "Reaction HMR_0309 knockout is safe.\n",
      "Added HMR_0309 to the candidate removal list.\n",
      "Cumulative effect of HMR_0309 is safe. Updated safe removal list.\n"
     ]
    },
    {
     "name": "stderr",
     "output_type": "stream",
     "text": [
      "Processing reactions:  86%|████████████████▎  | 650/759 [36:06<10:34,  5.82s/it]"
     ]
    },
    {
     "name": "stdout",
     "output_type": "stream",
     "text": [
      "\n",
      "Testing reaction: HMR_0299\n",
      "Reaction HMR_0299 knockout is safe.\n",
      "Added HMR_0299 to the candidate removal list.\n",
      "Cumulative effect of HMR_0299 is safe. Updated safe removal list.\n"
     ]
    },
    {
     "name": "stderr",
     "output_type": "stream",
     "text": [
      "Processing reactions:  86%|████████████████▎  | 651/759 [36:12<10:39,  5.92s/it]"
     ]
    },
    {
     "name": "stdout",
     "output_type": "stream",
     "text": [
      "\n",
      "Testing reaction: INSK\n",
      "Reaction INSK knockout is safe.\n",
      "Added INSK to the candidate removal list.\n",
      "Cumulative effect of INSK is safe. Updated safe removal list.\n"
     ]
    },
    {
     "name": "stderr",
     "output_type": "stream",
     "text": [
      "Processing reactions:  86%|████████████████▎  | 652/759 [36:18<10:32,  5.91s/it]"
     ]
    },
    {
     "name": "stdout",
     "output_type": "stream",
     "text": [
      "\n",
      "Testing reaction: ADK1\n",
      "Reaction ADK1 knockout is safe.\n",
      "Added ADK1 to the candidate removal list.\n",
      "Cumulative effect of ADK1 is safe. Updated safe removal list.\n"
     ]
    },
    {
     "name": "stderr",
     "output_type": "stream",
     "text": [
      "Processing reactions:  86%|████████████████▎  | 653/759 [36:24<10:27,  5.92s/it]"
     ]
    },
    {
     "name": "stdout",
     "output_type": "stream",
     "text": [
      "\n",
      "Testing reaction: OPAHir\n",
      "Reaction OPAHir knockout is safe.\n",
      "Added OPAHir to the candidate removal list.\n",
      "Cumulative effect of OPAHir is safe. Updated safe removal list.\n"
     ]
    },
    {
     "name": "stderr",
     "output_type": "stream",
     "text": [
      "Processing reactions:  86%|████████████████▎  | 654/759 [36:30<10:17,  5.88s/it]"
     ]
    },
    {
     "name": "stdout",
     "output_type": "stream",
     "text": [
      "\n",
      "Testing reaction: MINOHPKn\n",
      "Reaction MINOHPKn knockout is safe.\n",
      "Added MINOHPKn to the candidate removal list.\n",
      "Cumulative effect of MINOHPKn is safe. Updated safe removal list.\n"
     ]
    },
    {
     "name": "stderr",
     "output_type": "stream",
     "text": [
      "Processing reactions:  86%|████████████████▍  | 655/759 [36:36<10:09,  5.86s/it]"
     ]
    },
    {
     "name": "stdout",
     "output_type": "stream",
     "text": [
      "\n",
      "Testing reaction: FPGS4m\n",
      "Reaction FPGS4m knockout is safe.\n",
      "Added FPGS4m to the candidate removal list.\n",
      "Cumulative effect of FPGS4m is safe. Updated safe removal list.\n"
     ]
    },
    {
     "name": "stderr",
     "output_type": "stream",
     "text": [
      "Processing reactions:  86%|████████████████▍  | 656/759 [36:42<10:04,  5.87s/it]"
     ]
    },
    {
     "name": "stdout",
     "output_type": "stream",
     "text": [
      "\n",
      "Testing reaction: CE7085te\n",
      "Reaction CE7085te knockout is safe.\n",
      "Added CE7085te to the candidate removal list.\n",
      "Cumulative effect of CE7085te is safe. Updated safe removal list.\n"
     ]
    },
    {
     "name": "stderr",
     "output_type": "stream",
     "text": [
      "Processing reactions:  87%|████████████████▍  | 657/759 [36:47<09:57,  5.86s/it]"
     ]
    },
    {
     "name": "stdout",
     "output_type": "stream",
     "text": [
      "\n",
      "Testing reaction: PCt\n",
      "Reaction PCt knockout is safe.\n",
      "Added PCt to the candidate removal list.\n",
      "Cumulative effect of PCt is safe. Updated safe removal list.\n"
     ]
    },
    {
     "name": "stderr",
     "output_type": "stream",
     "text": [
      "Processing reactions:  87%|████████████████▍  | 658/759 [36:53<09:50,  5.85s/it]"
     ]
    },
    {
     "name": "stdout",
     "output_type": "stream",
     "text": [
      "\n",
      "Testing reaction: ESTROSABCCte\n",
      "Reaction ESTROSABCCte knockout is safe.\n",
      "Added ESTROSABCCte to the candidate removal list.\n",
      "Cumulative effect of ESTROSABCCte is safe. Updated safe removal list.\n"
     ]
    },
    {
     "name": "stderr",
     "output_type": "stream",
     "text": [
      "Processing reactions:  87%|████████████████▍  | 659/759 [36:59<09:47,  5.88s/it]"
     ]
    },
    {
     "name": "stdout",
     "output_type": "stream",
     "text": [
      "\n",
      "Testing reaction: HMR_2965\n",
      "Reaction HMR_2965 knockout is safe.\n",
      "Added HMR_2965 to the candidate removal list.\n",
      "Cumulative effect of HMR_2965 is safe. Updated safe removal list.\n"
     ]
    },
    {
     "name": "stderr",
     "output_type": "stream",
     "text": [
      "Processing reactions:  87%|████████████████▌  | 660/759 [37:05<09:50,  5.96s/it]"
     ]
    },
    {
     "name": "stdout",
     "output_type": "stream",
     "text": [
      "\n",
      "Testing reaction: CHOLK\n",
      "Reaction CHOLK knockout is safe.\n",
      "Added CHOLK to the candidate removal list.\n",
      "Cumulative effect of CHOLK is safe. Updated safe removal list.\n"
     ]
    },
    {
     "name": "stderr",
     "output_type": "stream",
     "text": [
      "Processing reactions:  87%|████████████████▌  | 661/759 [37:11<09:41,  5.93s/it]"
     ]
    },
    {
     "name": "stdout",
     "output_type": "stream",
     "text": [
      "\n",
      "Testing reaction: XOL7AONEATP\n",
      "Reaction XOL7AONEATP knockout is safe.\n",
      "Added XOL7AONEATP to the candidate removal list.\n",
      "Cumulative effect of XOL7AONEATP is safe. Updated safe removal list.\n"
     ]
    },
    {
     "name": "stderr",
     "output_type": "stream",
     "text": [
      "Processing reactions:  87%|████████████████▌  | 662/759 [37:17<09:31,  5.89s/it]"
     ]
    },
    {
     "name": "stdout",
     "output_type": "stream",
     "text": [
      "\n",
      "Testing reaction: FACOAL2252\n",
      "Reaction FACOAL2252 knockout is safe.\n",
      "Added FACOAL2252 to the candidate removal list.\n",
      "Cumulative effect of FACOAL2252 is safe. Updated safe removal list.\n"
     ]
    },
    {
     "name": "stderr",
     "output_type": "stream",
     "text": [
      "Processing reactions:  87%|████████████████▌  | 663/759 [37:23<09:24,  5.88s/it]"
     ]
    },
    {
     "name": "stdout",
     "output_type": "stream",
     "text": [
      "\n",
      "Testing reaction: FACOAL1821\n",
      "Reaction FACOAL1821 knockout is safe.\n",
      "Added FACOAL1821 to the candidate removal list.\n",
      "Cumulative effect of FACOAL1821 is safe. Updated safe removal list.\n"
     ]
    },
    {
     "name": "stderr",
     "output_type": "stream",
     "text": [
      "Processing reactions:  87%|████████████████▌  | 664/759 [37:29<09:20,  5.90s/it]"
     ]
    },
    {
     "name": "stdout",
     "output_type": "stream",
     "text": [
      "\n",
      "Testing reaction: TMDPK\n",
      "Reaction TMDPK knockout is safe.\n",
      "Added TMDPK to the candidate removal list.\n",
      "Cumulative effect of TMDPK is safe. Updated safe removal list.\n"
     ]
    },
    {
     "name": "stderr",
     "output_type": "stream",
     "text": [
      "Processing reactions:  88%|████████████████▋  | 665/759 [37:35<09:14,  5.90s/it]"
     ]
    },
    {
     "name": "stdout",
     "output_type": "stream",
     "text": [
      "\n",
      "Testing reaction: HMR_2966\n",
      "Reaction HMR_2966 knockout is safe.\n",
      "Added HMR_2966 to the candidate removal list.\n",
      "Cumulative effect of HMR_2966 is safe. Updated safe removal list.\n"
     ]
    },
    {
     "name": "stderr",
     "output_type": "stream",
     "text": [
      "Processing reactions:  88%|████████████████▋  | 666/759 [37:41<09:07,  5.88s/it]"
     ]
    },
    {
     "name": "stdout",
     "output_type": "stream",
     "text": [
      "\n",
      "Testing reaction: RE1957R\n",
      "Reaction RE1957R knockout is safe.\n",
      "Added RE1957R to the candidate removal list.\n",
      "Cumulative effect of RE1957R is safe. Updated safe removal list.\n"
     ]
    },
    {
     "name": "stderr",
     "output_type": "stream",
     "text": [
      "Processing reactions:  88%|████████████████▋  | 667/759 [37:47<09:03,  5.91s/it]"
     ]
    },
    {
     "name": "stdout",
     "output_type": "stream",
     "text": [
      "\n",
      "Testing reaction: AK2LGCHOLABCt\n",
      "Reaction AK2LGCHOLABCt knockout is safe.\n",
      "Added AK2LGCHOLABCt to the candidate removal list.\n",
      "Cumulative effect of AK2LGCHOLABCt is safe. Updated safe removal list.\n"
     ]
    },
    {
     "name": "stderr",
     "output_type": "stream",
     "text": [
      "Processing reactions:  88%|████████████████▋  | 668/759 [37:52<08:55,  5.88s/it]"
     ]
    },
    {
     "name": "stdout",
     "output_type": "stream",
     "text": [
      "\n",
      "Testing reaction: HMR_2962\n",
      "Reaction HMR_2962 knockout is safe.\n",
      "Added HMR_2962 to the candidate removal list.\n",
      "Cumulative effect of HMR_2962 is safe. Updated safe removal list.\n"
     ]
    },
    {
     "name": "stderr",
     "output_type": "stream",
     "text": [
      "Processing reactions:  88%|████████████████▋  | 669/759 [37:58<08:51,  5.90s/it]"
     ]
    },
    {
     "name": "stdout",
     "output_type": "stream",
     "text": [
      "\n",
      "Testing reaction: TMDPPK\n",
      "Reaction TMDPPK knockout is safe.\n",
      "Added TMDPPK to the candidate removal list.\n",
      "Cumulative effect of TMDPPK is safe. Updated safe removal list.\n"
     ]
    },
    {
     "name": "stderr",
     "output_type": "stream",
     "text": [
      "Processing reactions:  88%|████████████████▊  | 670/759 [38:04<08:52,  5.98s/it]"
     ]
    },
    {
     "name": "stdout",
     "output_type": "stream",
     "text": [
      "\n",
      "Testing reaction: NADS2\n",
      "Reaction NADS2 knockout is safe.\n",
      "Added NADS2 to the candidate removal list.\n",
      "Cumulative effect of NADS2 is safe. Updated safe removal list.\n"
     ]
    },
    {
     "name": "stderr",
     "output_type": "stream",
     "text": [
      "Processing reactions:  88%|████████████████▊  | 671/759 [38:10<08:45,  5.97s/it]"
     ]
    },
    {
     "name": "stdout",
     "output_type": "stream",
     "text": [
      "\n",
      "Testing reaction: BILDGLCURte\n",
      "Reaction BILDGLCURte knockout is safe.\n",
      "Added BILDGLCURte to the candidate removal list.\n",
      "Cumulative effect of BILDGLCURte is safe. Updated safe removal list.\n"
     ]
    },
    {
     "name": "stderr",
     "output_type": "stream",
     "text": [
      "Processing reactions:  89%|████████████████▊  | 672/759 [38:16<08:39,  5.97s/it]"
     ]
    },
    {
     "name": "stdout",
     "output_type": "stream",
     "text": [
      "\n",
      "Testing reaction: HMR_0257\n",
      "Reaction HMR_0257 knockout is safe.\n",
      "Added HMR_0257 to the candidate removal list.\n",
      "Cumulative effect of HMR_0257 is safe. Updated safe removal list.\n"
     ]
    },
    {
     "name": "stderr",
     "output_type": "stream",
     "text": [
      "Processing reactions:  89%|████████████████▊  | 673/759 [38:22<08:33,  5.97s/it]"
     ]
    },
    {
     "name": "stdout",
     "output_type": "stream",
     "text": [
      "\n",
      "Testing reaction: HMR_0279\n",
      "Reaction HMR_0279 knockout is safe.\n",
      "Added HMR_0279 to the candidate removal list.\n",
      "Cumulative effect of HMR_0279 is safe. Updated safe removal list.\n"
     ]
    },
    {
     "name": "stderr",
     "output_type": "stream",
     "text": [
      "Processing reactions:  89%|████████████████▊  | 674/759 [38:28<08:29,  6.00s/it]"
     ]
    },
    {
     "name": "stdout",
     "output_type": "stream",
     "text": [
      "\n",
      "Testing reaction: HMR_0207\n",
      "Reaction HMR_0207 knockout is safe.\n",
      "Added HMR_0207 to the candidate removal list.\n",
      "Cumulative effect of HMR_0207 is safe. Updated safe removal list.\n"
     ]
    },
    {
     "name": "stderr",
     "output_type": "stream",
     "text": [
      "Processing reactions:  89%|████████████████▉  | 675/759 [38:34<08:23,  6.00s/it]"
     ]
    },
    {
     "name": "stdout",
     "output_type": "stream",
     "text": [
      "\n",
      "Testing reaction: BACCL\n",
      "Reaction BACCL knockout is safe.\n",
      "Added BACCL to the candidate removal list.\n",
      "Cumulative effect of BACCL is safe. Updated safe removal list.\n"
     ]
    },
    {
     "name": "stderr",
     "output_type": "stream",
     "text": [
      "Processing reactions:  89%|████████████████▉  | 676/759 [38:41<08:20,  6.02s/it]"
     ]
    },
    {
     "name": "stdout",
     "output_type": "stream",
     "text": [
      "\n",
      "Testing reaction: 5EIPENCte\n",
      "Reaction 5EIPENCte knockout is safe.\n",
      "Added 5EIPENCte to the candidate removal list.\n",
      "Cumulative effect of 5EIPENCte is safe. Updated safe removal list.\n"
     ]
    },
    {
     "name": "stderr",
     "output_type": "stream",
     "text": [
      "Processing reactions:  89%|████████████████▉  | 677/759 [38:47<08:17,  6.07s/it]"
     ]
    },
    {
     "name": "stdout",
     "output_type": "stream",
     "text": [
      "\n",
      "Testing reaction: CBPSam\n",
      "Reaction CBPSam knockout is safe.\n",
      "Added CBPSam to the candidate removal list.\n",
      "Cumulative effect of CBPSam is safe. Updated safe removal list.\n"
     ]
    },
    {
     "name": "stderr",
     "output_type": "stream",
     "text": [
      "Processing reactions:  89%|████████████████▉  | 678/759 [38:53<08:09,  6.05s/it]"
     ]
    },
    {
     "name": "stdout",
     "output_type": "stream",
     "text": [
      "\n",
      "Testing reaction: C05302te\n",
      "Reaction C05302te knockout is safe.\n",
      "Added C05302te to the candidate removal list.\n",
      "Cumulative effect of C05302te is safe. Updated safe removal list.\n"
     ]
    },
    {
     "name": "stderr",
     "output_type": "stream",
     "text": [
      "Processing reactions:  89%|████████████████▉  | 679/759 [38:59<08:10,  6.13s/it]"
     ]
    },
    {
     "name": "stdout",
     "output_type": "stream",
     "text": [
      "\n",
      "Testing reaction: PIK4\n",
      "Reaction PIK4 knockout is safe.\n",
      "Added PIK4 to the candidate removal list.\n",
      "Cumulative effect of PIK4 is safe. Updated safe removal list.\n"
     ]
    },
    {
     "name": "stderr",
     "output_type": "stream",
     "text": [
      "Processing reactions:  90%|█████████████████  | 680/759 [39:05<08:00,  6.09s/it]"
     ]
    },
    {
     "name": "stdout",
     "output_type": "stream",
     "text": [
      "\n",
      "Testing reaction: TXB2t\n",
      "Reaction TXB2t knockout is safe.\n",
      "Added TXB2t to the candidate removal list.\n",
      "Cumulative effect of TXB2t is safe. Updated safe removal list.\n"
     ]
    },
    {
     "name": "stderr",
     "output_type": "stream",
     "text": [
      "Processing reactions:  90%|█████████████████  | 681/759 [39:11<07:52,  6.06s/it]"
     ]
    },
    {
     "name": "stdout",
     "output_type": "stream",
     "text": [
      "\n",
      "Testing reaction: CRVNCOAtx\n",
      "Reaction CRVNCOAtx knockout is safe.\n",
      "Added CRVNCOAtx to the candidate removal list.\n",
      "Cumulative effect of CRVNCOAtx is safe. Updated safe removal list.\n"
     ]
    },
    {
     "name": "stderr",
     "output_type": "stream",
     "text": [
      "Processing reactions:  90%|█████████████████  | 682/759 [39:17<07:46,  6.06s/it]"
     ]
    },
    {
     "name": "stdout",
     "output_type": "stream",
     "text": [
      "\n",
      "Testing reaction: HMR_0439\n",
      "Reaction HMR_0439 knockout is safe.\n",
      "Added HMR_0439 to the candidate removal list.\n",
      "Cumulative effect of HMR_0439 is safe. Updated safe removal list.\n"
     ]
    },
    {
     "name": "stderr",
     "output_type": "stream",
     "text": [
      "Processing reactions:  90%|█████████████████  | 683/759 [39:23<07:37,  6.02s/it]"
     ]
    },
    {
     "name": "stdout",
     "output_type": "stream",
     "text": [
      "\n",
      "Testing reaction: HMR_1756\n",
      "Reaction HMR_1756 knockout is safe.\n",
      "Added HMR_1756 to the candidate removal list.\n",
      "Cumulative effect of HMR_1756 is safe. Updated safe removal list.\n"
     ]
    },
    {
     "name": "stderr",
     "output_type": "stream",
     "text": [
      "Processing reactions:  90%|█████████████████  | 684/759 [39:29<07:29,  6.00s/it]"
     ]
    },
    {
     "name": "stdout",
     "output_type": "stream",
     "text": [
      "\n",
      "Testing reaction: r0590\n",
      "Reaction r0590 knockout is safe.\n",
      "Added r0590 to the candidate removal list.\n",
      "Cumulative effect of r0590 is safe. Updated safe removal list.\n"
     ]
    },
    {
     "name": "stderr",
     "output_type": "stream",
     "text": [
      "Processing reactions:  90%|█████████████████▏ | 685/759 [39:35<07:26,  6.03s/it]"
     ]
    },
    {
     "name": "stdout",
     "output_type": "stream",
     "text": [
      "\n",
      "Testing reaction: FPGS7m\n",
      "Reaction FPGS7m knockout is safe.\n",
      "Added FPGS7m to the candidate removal list.\n",
      "Cumulative effect of FPGS7m is safe. Updated safe removal list.\n"
     ]
    },
    {
     "name": "stderr",
     "output_type": "stream",
     "text": [
      "Processing reactions:  90%|█████████████████▏ | 686/759 [39:41<07:18,  6.01s/it]"
     ]
    },
    {
     "name": "stdout",
     "output_type": "stream",
     "text": [
      "\n",
      "Testing reaction: CUATPase\n",
      "Reaction CUATPase knockout is safe.\n",
      "Added CUATPase to the candidate removal list.\n",
      "Cumulative effect of CUATPase is safe. Updated safe removal list.\n"
     ]
    },
    {
     "name": "stderr",
     "output_type": "stream",
     "text": [
      "Processing reactions:  91%|█████████████████▏ | 687/759 [39:47<07:14,  6.03s/it]"
     ]
    },
    {
     "name": "stdout",
     "output_type": "stream",
     "text": [
      "\n",
      "Testing reaction: PNTK\n",
      "Reaction PNTK knockout is safe.\n",
      "Added PNTK to the candidate removal list.\n",
      "Cumulative effect of PNTK is safe. Updated safe removal list.\n"
     ]
    },
    {
     "name": "stderr",
     "output_type": "stream",
     "text": [
      "Processing reactions:  91%|█████████████████▏ | 688/759 [39:53<07:10,  6.06s/it]"
     ]
    },
    {
     "name": "stdout",
     "output_type": "stream",
     "text": [
      "\n",
      "Testing reaction: HMR_0215\n",
      "Reaction HMR_0215 knockout is safe.\n",
      "Added HMR_0215 to the candidate removal list.\n",
      "Cumulative effect of HMR_0215 is safe. Updated safe removal list.\n"
     ]
    },
    {
     "name": "stderr",
     "output_type": "stream",
     "text": [
      "Processing reactions:  91%|█████████████████▏ | 689/759 [40:00<07:10,  6.15s/it]"
     ]
    },
    {
     "name": "stdout",
     "output_type": "stream",
     "text": [
      "\n",
      "Testing reaction: SADTn\n",
      "Reaction SADTn knockout is safe.\n",
      "Added SADTn to the candidate removal list.\n",
      "Cumulative effect of SADTn is safe. Updated safe removal list.\n"
     ]
    },
    {
     "name": "stderr",
     "output_type": "stream",
     "text": [
      "Processing reactions:  91%|█████████████████▎ | 690/759 [40:06<07:03,  6.14s/it]"
     ]
    },
    {
     "name": "stdout",
     "output_type": "stream",
     "text": [
      "\n",
      "Testing reaction: HMR_0273\n",
      "Reaction HMR_0273 knockout is safe.\n",
      "Added HMR_0273 to the candidate removal list.\n",
      "Cumulative effect of HMR_0273 is safe. Updated safe removal list.\n"
     ]
    },
    {
     "name": "stderr",
     "output_type": "stream",
     "text": [
      "Processing reactions:  91%|█████████████████▎ | 691/759 [40:12<06:57,  6.13s/it]"
     ]
    },
    {
     "name": "stdout",
     "output_type": "stream",
     "text": [
      "\n",
      "Testing reaction: NDPK4m\n",
      "Reaction NDPK4m knockout is safe.\n",
      "Added NDPK4m to the candidate removal list.\n",
      "Cumulative effect of NDPK4m is safe. Updated safe removal list.\n"
     ]
    },
    {
     "name": "stderr",
     "output_type": "stream",
     "text": [
      "Processing reactions:  91%|█████████████████▎ | 692/759 [40:18<06:50,  6.12s/it]"
     ]
    },
    {
     "name": "stdout",
     "output_type": "stream",
     "text": [
      "\n",
      "Testing reaction: DNDPt31m\n",
      "Reaction DNDPt31m knockout is safe.\n",
      "Added DNDPt31m to the candidate removal list.\n",
      "Cumulative effect of DNDPt31m is safe. Updated safe removal list.\n"
     ]
    },
    {
     "name": "stderr",
     "output_type": "stream",
     "text": [
      "Processing reactions:  91%|█████████████████▎ | 693/759 [40:24<06:44,  6.12s/it]"
     ]
    },
    {
     "name": "stdout",
     "output_type": "stream",
     "text": [
      "\n",
      "Testing reaction: RE3446X\n",
      "Reaction RE3446X knockout is safe.\n",
      "Added RE3446X to the candidate removal list.\n",
      "Cumulative effect of RE3446X is safe. Updated safe removal list.\n"
     ]
    },
    {
     "name": "stderr",
     "output_type": "stream",
     "text": [
      "Processing reactions:  91%|█████████████████▎ | 694/759 [40:30<06:38,  6.12s/it]"
     ]
    },
    {
     "name": "stdout",
     "output_type": "stream",
     "text": [
      "\n",
      "Testing reaction: FACOAL184\n",
      "Reaction FACOAL184 knockout is safe.\n",
      "Added FACOAL184 to the candidate removal list.\n",
      "Cumulative effect of FACOAL184 is safe. Updated safe removal list.\n"
     ]
    },
    {
     "name": "stderr",
     "output_type": "stream",
     "text": [
      "Processing reactions:  92%|█████████████████▍ | 695/759 [40:36<06:31,  6.12s/it]"
     ]
    },
    {
     "name": "stdout",
     "output_type": "stream",
     "text": [
      "\n",
      "Testing reaction: DHAK\n",
      "Reaction DHAK knockout is safe.\n",
      "Added DHAK to the candidate removal list.\n",
      "Cumulative effect of DHAK is safe. Updated safe removal list.\n"
     ]
    },
    {
     "name": "stderr",
     "output_type": "stream",
     "text": [
      "Processing reactions:  92%|█████████████████▍ | 696/759 [40:42<06:24,  6.10s/it]"
     ]
    },
    {
     "name": "stdout",
     "output_type": "stream",
     "text": [
      "\n",
      "Testing reaction: FAOXC15ATPx\n",
      "Reaction FAOXC15ATPx knockout is safe.\n",
      "Added FAOXC15ATPx to the candidate removal list.\n",
      "Cumulative effect of FAOXC15ATPx is safe. Updated safe removal list.\n"
     ]
    },
    {
     "name": "stderr",
     "output_type": "stream",
     "text": [
      "Processing reactions:  92%|█████████████████▍ | 697/759 [40:48<06:18,  6.11s/it]"
     ]
    },
    {
     "name": "stdout",
     "output_type": "stream",
     "text": [
      "\n",
      "Testing reaction: URIDK2\n",
      "Reaction URIDK2 knockout is safe.\n",
      "Added URIDK2 to the candidate removal list.\n",
      "Cumulative effect of URIDK2 is safe. Updated safe removal list.\n"
     ]
    },
    {
     "name": "stderr",
     "output_type": "stream",
     "text": [
      "Processing reactions:  92%|█████████████████▍ | 698/759 [40:55<06:18,  6.20s/it]"
     ]
    },
    {
     "name": "stdout",
     "output_type": "stream",
     "text": [
      "\n",
      "Testing reaction: GSNKm\n",
      "Reaction GSNKm knockout is safe.\n",
      "Added GSNKm to the candidate removal list.\n",
      "Cumulative effect of GSNKm is safe. Updated safe removal list.\n"
     ]
    },
    {
     "name": "stderr",
     "output_type": "stream",
     "text": [
      "Processing reactions:  92%|█████████████████▍ | 699/759 [41:01<06:13,  6.22s/it]"
     ]
    },
    {
     "name": "stdout",
     "output_type": "stream",
     "text": [
      "\n",
      "Testing reaction: r1529\n",
      "Reaction r1529 knockout is safe.\n",
      "Added r1529 to the candidate removal list.\n",
      "Cumulative effect of r1529 is safe. Updated safe removal list.\n"
     ]
    },
    {
     "name": "stderr",
     "output_type": "stream",
     "text": [
      "Processing reactions:  92%|█████████████████▌ | 700/759 [41:07<06:09,  6.26s/it]"
     ]
    },
    {
     "name": "stdout",
     "output_type": "stream",
     "text": [
      "\n",
      "Testing reaction: 15HPETATP\n",
      "Reaction 15HPETATP knockout is safe.\n",
      "Added 15HPETATP to the candidate removal list.\n",
      "Cumulative effect of 15HPETATP is safe. Updated safe removal list.\n"
     ]
    },
    {
     "name": "stderr",
     "output_type": "stream",
     "text": [
      "Processing reactions:  92%|█████████████████▌ | 701/759 [41:14<06:01,  6.24s/it]"
     ]
    },
    {
     "name": "stdout",
     "output_type": "stream",
     "text": [
      "\n",
      "Testing reaction: DGK1\n",
      "Reaction DGK1 knockout is safe.\n",
      "Added DGK1 to the candidate removal list.\n",
      "Cumulative effect of DGK1 is safe. Updated safe removal list.\n"
     ]
    },
    {
     "name": "stderr",
     "output_type": "stream",
     "text": [
      "Processing reactions:  92%|█████████████████▌ | 702/759 [41:20<05:56,  6.26s/it]"
     ]
    },
    {
     "name": "stdout",
     "output_type": "stream",
     "text": [
      "\n",
      "Testing reaction: NADK\n",
      "Reaction NADK knockout is safe.\n",
      "Added NADK to the candidate removal list.\n",
      "Cumulative effect of NADK is safe. Updated safe removal list.\n"
     ]
    },
    {
     "name": "stderr",
     "output_type": "stream",
     "text": [
      "Processing reactions:  93%|█████████████████▌ | 703/759 [41:26<05:49,  6.24s/it]"
     ]
    },
    {
     "name": "stdout",
     "output_type": "stream",
     "text": [
      "\n",
      "Testing reaction: CKc\n",
      "Reaction CKc knockout is safe.\n",
      "Added CKc to the candidate removal list.\n",
      "Cumulative effect of CKc is safe. Updated safe removal list.\n"
     ]
    },
    {
     "name": "stderr",
     "output_type": "stream",
     "text": [
      "Processing reactions:  93%|█████████████████▌ | 704/759 [41:32<05:44,  6.26s/it]"
     ]
    },
    {
     "name": "stdout",
     "output_type": "stream",
     "text": [
      "\n",
      "Testing reaction: PRISTCOAtcx\n",
      "Reaction PRISTCOAtcx knockout is safe.\n",
      "Added PRISTCOAtcx to the candidate removal list.\n",
      "Cumulative effect of PRISTCOAtcx is safe. Updated safe removal list.\n"
     ]
    },
    {
     "name": "stderr",
     "output_type": "stream",
     "text": [
      "Processing reactions:  93%|█████████████████▋ | 705/759 [41:39<05:39,  6.28s/it]"
     ]
    },
    {
     "name": "stdout",
     "output_type": "stream",
     "text": [
      "\n",
      "Testing reaction: PPNCL3\n",
      "Reaction PPNCL3 knockout is safe.\n",
      "Added PPNCL3 to the candidate removal list.\n",
      "Cumulative effect of PPNCL3 is safe. Updated safe removal list.\n"
     ]
    },
    {
     "name": "stderr",
     "output_type": "stream",
     "text": [
      "Processing reactions:  93%|█████████████████▋ | 706/759 [41:45<05:31,  6.26s/it]"
     ]
    },
    {
     "name": "stdout",
     "output_type": "stream",
     "text": [
      "\n",
      "Testing reaction: PIK5n\n",
      "Reaction PIK5n knockout is safe.\n",
      "Added PIK5n to the candidate removal list.\n",
      "Cumulative effect of PIK5n is safe. Updated safe removal list.\n"
     ]
    },
    {
     "name": "stderr",
     "output_type": "stream",
     "text": [
      "Processing reactions:  93%|█████████████████▋ | 707/759 [41:51<05:29,  6.33s/it]"
     ]
    },
    {
     "name": "stdout",
     "output_type": "stream",
     "text": [
      "\n",
      "Testing reaction: EIC21114TRte\n",
      "Reaction EIC21114TRte knockout is safe.\n",
      "Added EIC21114TRte to the candidate removal list.\n",
      "Cumulative effect of EIC21114TRte is safe. Updated safe removal list.\n"
     ]
    },
    {
     "name": "stderr",
     "output_type": "stream",
     "text": [
      "Processing reactions:  93%|█████████████████▋ | 708/759 [41:58<05:22,  6.32s/it]"
     ]
    },
    {
     "name": "stdout",
     "output_type": "stream",
     "text": [
      "\n",
      "Testing reaction: DOPAVESSEC\n",
      "Reaction DOPAVESSEC knockout is safe.\n",
      "Added DOPAVESSEC to the candidate removal list.\n",
      "Cumulative effect of DOPAVESSEC is safe. Updated safe removal list.\n"
     ]
    },
    {
     "name": "stderr",
     "output_type": "stream",
     "text": [
      "Processing reactions:  93%|█████████████████▋ | 709/759 [42:04<05:17,  6.34s/it]"
     ]
    },
    {
     "name": "stdout",
     "output_type": "stream",
     "text": [
      "\n",
      "Testing reaction: DPCOAK\n",
      "Reaction DPCOAK knockout is safe.\n",
      "Added DPCOAK to the candidate removal list.\n",
      "Cumulative effect of DPCOAK is safe. Updated safe removal list.\n"
     ]
    },
    {
     "name": "stderr",
     "output_type": "stream",
     "text": [
      "Processing reactions:  94%|█████████████████▊ | 710/759 [42:10<05:09,  6.32s/it]"
     ]
    },
    {
     "name": "stdout",
     "output_type": "stream",
     "text": [
      "\n",
      "Testing reaction: r1099\n",
      "Reaction r1099 knockout is safe.\n",
      "Added r1099 to the candidate removal list.\n",
      "Cumulative effect of r1099 is safe. Updated safe removal list.\n"
     ]
    },
    {
     "name": "stderr",
     "output_type": "stream",
     "text": [
      "Processing reactions:  94%|█████████████████▊ | 711/759 [42:17<05:03,  6.33s/it]"
     ]
    },
    {
     "name": "stdout",
     "output_type": "stream",
     "text": [
      "\n",
      "Testing reaction: RE3446M\n",
      "Reaction RE3446M knockout is safe.\n",
      "Added RE3446M to the candidate removal list.\n",
      "Cumulative effect of RE3446M is safe. Updated safe removal list.\n"
     ]
    },
    {
     "name": "stderr",
     "output_type": "stream",
     "text": [
      "Processing reactions:  94%|█████████████████▊ | 712/759 [42:23<04:56,  6.30s/it]"
     ]
    },
    {
     "name": "stdout",
     "output_type": "stream",
     "text": [
      "\n",
      "Testing reaction: DCK1i\n",
      "Reaction DCK1i knockout is safe.\n",
      "Added DCK1i to the candidate removal list.\n",
      "Cumulative effect of DCK1i is safe. Updated safe removal list.\n"
     ]
    },
    {
     "name": "stderr",
     "output_type": "stream",
     "text": [
      "Processing reactions:  94%|█████████████████▊ | 713/759 [42:30<04:52,  6.37s/it]"
     ]
    },
    {
     "name": "stdout",
     "output_type": "stream",
     "text": [
      "\n",
      "Testing reaction: HMR_2967\n",
      "Reaction HMR_2967 knockout is safe.\n",
      "Added HMR_2967 to the candidate removal list.\n",
      "Cumulative effect of HMR_2967 is safe. Updated safe removal list.\n"
     ]
    },
    {
     "name": "stderr",
     "output_type": "stream",
     "text": [
      "Processing reactions:  94%|█████████████████▊ | 714/759 [42:36<04:48,  6.41s/it]"
     ]
    },
    {
     "name": "stdout",
     "output_type": "stream",
     "text": [
      "\n",
      "Testing reaction: HMR_2986\n",
      "Reaction HMR_2986 knockout is safe.\n",
      "Added HMR_2986 to the candidate removal list.\n",
      "Cumulative effect of HMR_2986 is safe. Updated safe removal list.\n"
     ]
    },
    {
     "name": "stderr",
     "output_type": "stream",
     "text": [
      "Processing reactions:  94%|█████████████████▉ | 715/759 [42:42<04:41,  6.40s/it]"
     ]
    },
    {
     "name": "stdout",
     "output_type": "stream",
     "text": [
      "\n",
      "Testing reaction: WHARACHDtr\n",
      "Reaction WHARACHDtr knockout is safe.\n",
      "Added WHARACHDtr to the candidate removal list.\n",
      "Cumulative effect of WHARACHDtr is safe. Updated safe removal list.\n"
     ]
    },
    {
     "name": "stderr",
     "output_type": "stream",
     "text": [
      "Processing reactions:  94%|█████████████████▉ | 716/759 [42:49<04:37,  6.45s/it]"
     ]
    },
    {
     "name": "stdout",
     "output_type": "stream",
     "text": [
      "\n",
      "Testing reaction: HMR_0415\n",
      "Reaction HMR_0415 knockout is safe.\n",
      "Added HMR_0415 to the candidate removal list.\n",
      "Cumulative effect of HMR_0415 is safe. Updated safe removal list.\n"
     ]
    },
    {
     "name": "stderr",
     "output_type": "stream",
     "text": [
      "Processing reactions:  94%|█████████████████▉ | 717/759 [42:56<04:35,  6.55s/it]"
     ]
    },
    {
     "name": "stdout",
     "output_type": "stream",
     "text": [
      "\n",
      "Testing reaction: ACCOACm\n",
      "Reaction ACCOACm knockout is safe.\n",
      "Added ACCOACm to the candidate removal list.\n",
      "Cumulative effect of ACCOACm is safe. Updated safe removal list.\n"
     ]
    },
    {
     "name": "stderr",
     "output_type": "stream",
     "text": [
      "Processing reactions:  95%|█████████████████▉ | 718/759 [43:03<04:31,  6.62s/it]"
     ]
    },
    {
     "name": "stdout",
     "output_type": "stream",
     "text": [
      "\n",
      "Testing reaction: FACOAL180i\n",
      "Reaction FACOAL180i knockout is safe.\n",
      "Added FACOAL180i to the candidate removal list.\n",
      "Cumulative effect of FACOAL180i is safe. Updated safe removal list.\n"
     ]
    },
    {
     "name": "stderr",
     "output_type": "stream",
     "text": [
      "Processing reactions:  95%|█████████████████▉ | 719/759 [43:09<04:23,  6.59s/it]"
     ]
    },
    {
     "name": "stdout",
     "output_type": "stream",
     "text": [
      "\n",
      "Testing reaction: HMR_0393\n",
      "Reaction HMR_0393 knockout is safe.\n",
      "Added HMR_0393 to the candidate removal list.\n",
      "Cumulative effect of HMR_0393 is safe. Updated safe removal list.\n"
     ]
    },
    {
     "name": "stderr",
     "output_type": "stream",
     "text": [
      "Processing reactions:  95%|██████████████████ | 720/759 [43:16<04:15,  6.55s/it]"
     ]
    },
    {
     "name": "stdout",
     "output_type": "stream",
     "text": [
      "\n",
      "Testing reaction: r1014\n",
      "Reaction r1014 knockout is safe.\n",
      "Added r1014 to the candidate removal list.\n",
      "Cumulative effect of r1014 is safe. Updated safe removal list.\n"
     ]
    },
    {
     "name": "stderr",
     "output_type": "stream",
     "text": [
      "Processing reactions:  95%|██████████████████ | 721/759 [43:22<04:06,  6.50s/it]"
     ]
    },
    {
     "name": "stdout",
     "output_type": "stream",
     "text": [
      "\n",
      "Testing reaction: HMR_0277\n",
      "Reaction HMR_0277 knockout is safe.\n",
      "Added HMR_0277 to the candidate removal list.\n",
      "Cumulative effect of HMR_0277 is safe. Updated safe removal list.\n"
     ]
    },
    {
     "name": "stderr",
     "output_type": "stream",
     "text": [
      "Processing reactions:  95%|██████████████████ | 722/759 [43:28<03:59,  6.46s/it]"
     ]
    },
    {
     "name": "stdout",
     "output_type": "stream",
     "text": [
      "\n",
      "Testing reaction: r1029\n",
      "Reaction r1029 knockout is safe.\n",
      "Added r1029 to the candidate removal list.\n",
      "Cumulative effect of r1029 is safe. Updated safe removal list.\n"
     ]
    },
    {
     "name": "stderr",
     "output_type": "stream",
     "text": [
      "Processing reactions:  95%|██████████████████ | 723/759 [43:35<03:53,  6.50s/it]"
     ]
    },
    {
     "name": "stdout",
     "output_type": "stream",
     "text": [
      "\n",
      "Testing reaction: HMR_0371\n",
      "Reaction HMR_0371 knockout is safe.\n",
      "Added HMR_0371 to the candidate removal list.\n",
      "Cumulative effect of HMR_0371 is safe. Updated safe removal list.\n"
     ]
    },
    {
     "name": "stderr",
     "output_type": "stream",
     "text": [
      "Processing reactions:  95%|██████████████████ | 724/759 [43:42<03:50,  6.59s/it]"
     ]
    },
    {
     "name": "stdout",
     "output_type": "stream",
     "text": [
      "\n",
      "Testing reaction: HMR_2998\n",
      "Reaction HMR_2998 knockout is safe.\n",
      "Added HMR_2998 to the candidate removal list.\n",
      "Cumulative effect of HMR_2998 is safe. Updated safe removal list.\n"
     ]
    },
    {
     "name": "stderr",
     "output_type": "stream",
     "text": [
      "Processing reactions:  96%|██████████████████▏| 725/759 [43:49<03:47,  6.71s/it]"
     ]
    },
    {
     "name": "stdout",
     "output_type": "stream",
     "text": [
      "\n",
      "Testing reaction: HMR_7617\n",
      "Reaction HMR_7617 knockout is safe.\n",
      "Added HMR_7617 to the candidate removal list.\n",
      "Cumulative effect of HMR_7617 is safe. Updated safe removal list.\n"
     ]
    },
    {
     "name": "stderr",
     "output_type": "stream",
     "text": [
      "Processing reactions:  96%|██████████████████▏| 726/759 [43:55<03:39,  6.65s/it]"
     ]
    },
    {
     "name": "stdout",
     "output_type": "stream",
     "text": [
      "\n",
      "Testing reaction: AACOAT\n",
      "Reaction AACOAT knockout is safe.\n",
      "Added AACOAT to the candidate removal list.\n",
      "Cumulative effect of AACOAT is safe. Updated safe removal list.\n"
     ]
    },
    {
     "name": "stderr",
     "output_type": "stream",
     "text": [
      "Processing reactions:  96%|██████████████████▏| 727/759 [44:02<03:32,  6.63s/it]"
     ]
    },
    {
     "name": "stdout",
     "output_type": "stream",
     "text": [
      "\n",
      "Testing reaction: 1MNCAMti\n",
      "Reaction 1MNCAMti knockout is safe.\n",
      "Added 1MNCAMti to the candidate removal list.\n",
      "Cumulative effect of 1MNCAMti is safe. Updated safe removal list.\n"
     ]
    },
    {
     "name": "stderr",
     "output_type": "stream",
     "text": [
      "Processing reactions:  96%|██████████████████▏| 728/759 [44:08<03:25,  6.61s/it]"
     ]
    },
    {
     "name": "stdout",
     "output_type": "stream",
     "text": [
      "\n",
      "Testing reaction: OCDCAFATPc\n",
      "Reaction OCDCAFATPc knockout is safe.\n",
      "Added OCDCAFATPc to the candidate removal list.\n",
      "Cumulative effect of OCDCAFATPc is safe. Updated safe removal list.\n"
     ]
    },
    {
     "name": "stderr",
     "output_type": "stream",
     "text": [
      "Processing reactions:  96%|██████████████████▏| 729/759 [44:15<03:19,  6.64s/it]"
     ]
    },
    {
     "name": "stdout",
     "output_type": "stream",
     "text": [
      "\n",
      "Testing reaction: ESTRADIOLGLCt2\n",
      "Reaction ESTRADIOLGLCt2 knockout is safe.\n",
      "Added ESTRADIOLGLCt2 to the candidate removal list.\n",
      "Cumulative effect of ESTRADIOLGLCt2 is safe. Updated safe removal list.\n"
     ]
    },
    {
     "name": "stderr",
     "output_type": "stream",
     "text": [
      "Processing reactions:  96%|██████████████████▎| 730/759 [44:21<03:10,  6.58s/it]"
     ]
    },
    {
     "name": "stdout",
     "output_type": "stream",
     "text": [
      "\n",
      "Testing reaction: r0853\n",
      "Reaction r0853 knockout is safe.\n",
      "Added r0853 to the candidate removal list.\n",
      "Cumulative effect of r0853 is safe. Updated safe removal list.\n"
     ]
    },
    {
     "name": "stderr",
     "output_type": "stream",
     "text": [
      "Processing reactions:  96%|██████████████████▎| 731/759 [44:28<03:05,  6.64s/it]"
     ]
    },
    {
     "name": "stdout",
     "output_type": "stream",
     "text": [
      "\n",
      "Testing reaction: NDPK1n\n",
      "Reaction NDPK1n knockout is safe.\n",
      "Added NDPK1n to the candidate removal list.\n",
      "Removal of NDPK1n is not safe, reverting.\n"
     ]
    },
    {
     "name": "stderr",
     "output_type": "stream",
     "text": [
      "Processing reactions:  96%|██████████████████▎| 732/759 [44:35<02:58,  6.60s/it]"
     ]
    },
    {
     "name": "stdout",
     "output_type": "stream",
     "text": [
      "\n",
      "Testing reaction: NDPK3m\n",
      "Reaction NDPK3m knockout is safe.\n",
      "Added NDPK3m to the candidate removal list.\n",
      "Cumulative effect of NDPK3m is safe. Updated safe removal list.\n"
     ]
    },
    {
     "name": "stderr",
     "output_type": "stream",
     "text": [
      "Processing reactions:  97%|██████████████████▎| 733/759 [44:42<02:57,  6.82s/it]"
     ]
    },
    {
     "name": "stdout",
     "output_type": "stream",
     "text": [
      "\n",
      "Testing reaction: SPHK22n\n",
      "Reaction SPHK22n knockout is safe.\n",
      "Added SPHK22n to the candidate removal list.\n",
      "Cumulative effect of SPHK22n is safe. Updated safe removal list.\n"
     ]
    },
    {
     "name": "stderr",
     "output_type": "stream",
     "text": [
      "Processing reactions:  97%|██████████████████▎| 734/759 [44:49<02:52,  6.89s/it]"
     ]
    },
    {
     "name": "stdout",
     "output_type": "stream",
     "text": [
      "\n",
      "Testing reaction: ATPasel\n",
      "Reaction ATPasel knockout is safe.\n",
      "Added ATPasel to the candidate removal list.\n",
      "Cumulative effect of ATPasel is safe. Updated safe removal list.\n"
     ]
    },
    {
     "name": "stderr",
     "output_type": "stream",
     "text": [
      "Processing reactions:  97%|██████████████████▍| 735/759 [44:56<02:47,  6.98s/it]"
     ]
    },
    {
     "name": "stdout",
     "output_type": "stream",
     "text": [
      "\n",
      "Testing reaction: HMR_0239\n",
      "Reaction HMR_0239 knockout is safe.\n",
      "Added HMR_0239 to the candidate removal list.\n",
      "Cumulative effect of HMR_0239 is safe. Updated safe removal list.\n"
     ]
    },
    {
     "name": "stderr",
     "output_type": "stream",
     "text": [
      "Processing reactions:  97%|██████████████████▍| 736/759 [45:03<02:38,  6.90s/it]"
     ]
    },
    {
     "name": "stdout",
     "output_type": "stream",
     "text": [
      "\n",
      "Testing reaction: CYTK1\n",
      "Reaction CYTK1 knockout is safe.\n",
      "Added CYTK1 to the candidate removal list.\n",
      "Cumulative effect of CYTK1 is safe. Updated safe removal list.\n"
     ]
    },
    {
     "name": "stderr",
     "output_type": "stream",
     "text": [
      "Processing reactions:  97%|██████████████████▍| 737/759 [45:10<02:31,  6.87s/it]"
     ]
    },
    {
     "name": "stdout",
     "output_type": "stream",
     "text": [
      "\n",
      "Testing reaction: FACOAL170\n",
      "Reaction FACOAL170 knockout is safe.\n",
      "Added FACOAL170 to the candidate removal list.\n",
      "Cumulative effect of FACOAL170 is safe. Updated safe removal list.\n"
     ]
    },
    {
     "name": "stderr",
     "output_type": "stream",
     "text": [
      "Processing reactions:  97%|██████████████████▍| 738/759 [45:17<02:23,  6.82s/it]"
     ]
    },
    {
     "name": "stdout",
     "output_type": "stream",
     "text": [
      "\n",
      "Testing reaction: FACOAL1832\n",
      "Reaction FACOAL1832 knockout is safe.\n",
      "Added FACOAL1832 to the candidate removal list.\n",
      "Cumulative effect of FACOAL1832 is safe. Updated safe removal list.\n"
     ]
    },
    {
     "name": "stderr",
     "output_type": "stream",
     "text": [
      "Processing reactions:  97%|██████████████████▍| 739/759 [45:23<02:15,  6.77s/it]"
     ]
    },
    {
     "name": "stdout",
     "output_type": "stream",
     "text": [
      "\n",
      "Testing reaction: TTDCAFATPc\n",
      "Reaction TTDCAFATPc knockout is safe.\n",
      "Added TTDCAFATPc to the candidate removal list.\n",
      "Cumulative effect of TTDCAFATPc is safe. Updated safe removal list.\n"
     ]
    },
    {
     "name": "stderr",
     "output_type": "stream",
     "text": [
      "Processing reactions:  97%|██████████████████▌| 740/759 [45:30<02:07,  6.70s/it]"
     ]
    },
    {
     "name": "stdout",
     "output_type": "stream",
     "text": [
      "\n",
      "Testing reaction: EICOSTETCOAtcx\n",
      "Reaction EICOSTETCOAtcx knockout is safe.\n",
      "Added EICOSTETCOAtcx to the candidate removal list.\n",
      "Cumulative effect of EICOSTETCOAtcx is safe. Updated safe removal list.\n"
     ]
    },
    {
     "name": "stderr",
     "output_type": "stream",
     "text": [
      "Processing reactions:  98%|██████████████████▌| 741/759 [45:36<01:59,  6.62s/it]"
     ]
    },
    {
     "name": "stdout",
     "output_type": "stream",
     "text": [
      "\n",
      "Testing reaction: FACOAL204\n",
      "Reaction FACOAL204 knockout is safe.\n",
      "Added FACOAL204 to the candidate removal list.\n",
      "Cumulative effect of FACOAL204 is safe. Updated safe removal list.\n"
     ]
    },
    {
     "name": "stderr",
     "output_type": "stream",
     "text": [
      "Processing reactions:  98%|██████████████████▌| 742/759 [45:43<01:54,  6.72s/it]"
     ]
    },
    {
     "name": "stdout",
     "output_type": "stream",
     "text": [
      "\n",
      "Testing reaction: FACOAL206\n",
      "Reaction FACOAL206 knockout is safe.\n",
      "Added FACOAL206 to the candidate removal list.\n",
      "Cumulative effect of FACOAL206 is safe. Updated safe removal list.\n"
     ]
    },
    {
     "name": "stderr",
     "output_type": "stream",
     "text": [
      "Processing reactions:  98%|██████████████████▌| 743/759 [45:50<01:47,  6.70s/it]"
     ]
    },
    {
     "name": "stdout",
     "output_type": "stream",
     "text": [
      "\n",
      "Testing reaction: GTHETCabc\n",
      "Reaction GTHETCabc knockout is safe.\n",
      "Added GTHETCabc to the candidate removal list.\n",
      "Cumulative effect of GTHETCabc is safe. Updated safe removal list.\n"
     ]
    },
    {
     "name": "stderr",
     "output_type": "stream",
     "text": [
      "Processing reactions:  98%|██████████████████▌| 744/759 [45:56<01:39,  6.67s/it]"
     ]
    },
    {
     "name": "stdout",
     "output_type": "stream",
     "text": [
      "\n",
      "Testing reaction: SPHMYLN_HsATPte\n",
      "Reaction SPHMYLN_HsATPte knockout is safe.\n",
      "Added SPHMYLN_HsATPte to the candidate removal list.\n",
      "Cumulative effect of SPHMYLN_HsATPte is safe. Updated safe removal list.\n"
     ]
    },
    {
     "name": "stderr",
     "output_type": "stream",
     "text": [
      "Processing reactions:  98%|██████████████████▋| 745/759 [46:03<01:33,  6.66s/it]"
     ]
    },
    {
     "name": "stdout",
     "output_type": "stream",
     "text": [
      "\n",
      "Testing reaction: r0651\n",
      "Reaction r0651 knockout is safe.\n",
      "Added r0651 to the candidate removal list.\n",
      "Cumulative effect of r0651 is safe. Updated safe removal list.\n"
     ]
    },
    {
     "name": "stderr",
     "output_type": "stream",
     "text": [
      "Processing reactions:  98%|██████████████████▋| 746/759 [46:09<01:25,  6.61s/it]"
     ]
    },
    {
     "name": "stdout",
     "output_type": "stream",
     "text": [
      "\n",
      "Testing reaction: ACS2\n",
      "Reaction ACS2 knockout is safe.\n",
      "Added ACS2 to the candidate removal list.\n",
      "Cumulative effect of ACS2 is safe. Updated safe removal list.\n"
     ]
    },
    {
     "name": "stderr",
     "output_type": "stream",
     "text": [
      "Processing reactions:  98%|██████████████████▋| 747/759 [46:16<01:19,  6.62s/it]"
     ]
    },
    {
     "name": "stdout",
     "output_type": "stream",
     "text": [
      "\n",
      "Testing reaction: PMEVKx\n",
      "Reaction PMEVKx knockout is safe.\n",
      "Added PMEVKx to the candidate removal list.\n",
      "Cumulative effect of PMEVKx is safe. Updated safe removal list.\n"
     ]
    },
    {
     "name": "stderr",
     "output_type": "stream",
     "text": [
      "Processing reactions:  99%|██████████████████▋| 748/759 [46:23<01:12,  6.61s/it]"
     ]
    },
    {
     "name": "stdout",
     "output_type": "stream",
     "text": [
      "\n",
      "Testing reaction: PIK3n\n",
      "Reaction PIK3n knockout is safe.\n",
      "Added PIK3n to the candidate removal list.\n",
      "Cumulative effect of PIK3n is safe. Updated safe removal list.\n"
     ]
    },
    {
     "name": "stderr",
     "output_type": "stream",
     "text": [
      "Processing reactions:  99%|██████████████████▋| 749/759 [46:29<01:05,  6.58s/it]"
     ]
    },
    {
     "name": "stdout",
     "output_type": "stream",
     "text": [
      "\n",
      "Testing reaction: r0650\n",
      "Reaction r0650 knockout is safe.\n",
      "Added r0650 to the candidate removal list.\n",
      "Cumulative effect of r0650 is safe. Updated safe removal list.\n"
     ]
    },
    {
     "name": "stderr",
     "output_type": "stream",
     "text": [
      "Processing reactions:  99%|██████████████████▊| 750/759 [46:36<01:00,  6.71s/it]"
     ]
    },
    {
     "name": "stdout",
     "output_type": "stream",
     "text": [
      "\n",
      "Testing reaction: CDCA24Gte\n",
      "Reaction CDCA24Gte knockout is safe.\n",
      "Added CDCA24Gte to the candidate removal list.\n",
      "Cumulative effect of CDCA24Gte is safe. Updated safe removal list.\n"
     ]
    },
    {
     "name": "stderr",
     "output_type": "stream",
     "text": [
      "Processing reactions:  99%|██████████████████▊| 751/759 [46:43<00:53,  6.68s/it]"
     ]
    },
    {
     "name": "stdout",
     "output_type": "stream",
     "text": [
      "\n",
      "Testing reaction: FACOAL191\n",
      "Reaction FACOAL191 knockout is safe.\n",
      "Added FACOAL191 to the candidate removal list.\n",
      "Cumulative effect of FACOAL191 is safe. Updated safe removal list.\n"
     ]
    },
    {
     "name": "stderr",
     "output_type": "stream",
     "text": [
      "Processing reactions:  99%|██████████████████▊| 752/759 [46:50<00:47,  6.72s/it]"
     ]
    },
    {
     "name": "stdout",
     "output_type": "stream",
     "text": [
      "\n",
      "Testing reaction: PSFLIP\n",
      "Reaction PSFLIP knockout is safe.\n",
      "Added PSFLIP to the candidate removal list.\n",
      "Cumulative effect of PSFLIP is safe. Updated safe removal list.\n"
     ]
    },
    {
     "name": "stderr",
     "output_type": "stream",
     "text": [
      "Processing reactions:  99%|██████████████████▊| 753/759 [46:56<00:39,  6.66s/it]"
     ]
    },
    {
     "name": "stdout",
     "output_type": "stream",
     "text": [
      "\n",
      "Testing reaction: FTHFCL\n",
      "Reaction FTHFCL knockout is safe.\n",
      "Added FTHFCL to the candidate removal list.\n",
      "Cumulative effect of FTHFCL is safe. Updated safe removal list.\n"
     ]
    },
    {
     "name": "stderr",
     "output_type": "stream",
     "text": [
      "Processing reactions:  99%|██████████████████▊| 754/759 [47:04<00:34,  6.92s/it]"
     ]
    },
    {
     "name": "stdout",
     "output_type": "stream",
     "text": [
      "\n",
      "Testing reaction: BILGLCURte\n",
      "Reaction BILGLCURte knockout is safe.\n",
      "Added BILGLCURte to the candidate removal list.\n",
      "Cumulative effect of BILGLCURte is safe. Updated safe removal list.\n"
     ]
    },
    {
     "name": "stderr",
     "output_type": "stream",
     "text": [
      "Processing reactions:  99%|██████████████████▉| 755/759 [47:12<00:29,  7.28s/it]"
     ]
    },
    {
     "name": "stdout",
     "output_type": "stream",
     "text": [
      "\n",
      "Testing reaction: HMR_2977\n",
      "Reaction HMR_2977 knockout is safe.\n",
      "Added HMR_2977 to the candidate removal list.\n",
      "Cumulative effect of HMR_2977 is safe. Updated safe removal list.\n"
     ]
    },
    {
     "name": "stderr",
     "output_type": "stream",
     "text": [
      "Processing reactions: 100%|██████████████████▉| 756/759 [47:19<00:21,  7.11s/it]"
     ]
    },
    {
     "name": "stdout",
     "output_type": "stream",
     "text": [
      "\n",
      "Testing reaction: HMR_0345\n",
      "Reaction HMR_0345 knockout is safe.\n",
      "Added HMR_0345 to the candidate removal list.\n",
      "Cumulative effect of HMR_0345 is safe. Updated safe removal list.\n"
     ]
    },
    {
     "name": "stderr",
     "output_type": "stream",
     "text": [
      "Processing reactions: 100%|██████████████████▉| 757/759 [47:26<00:14,  7.08s/it]"
     ]
    },
    {
     "name": "stdout",
     "output_type": "stream",
     "text": [
      "\n",
      "Testing reaction: RTOTAL3FATPc\n",
      "Reaction RTOTAL3FATPc knockout is safe.\n",
      "Added RTOTAL3FATPc to the candidate removal list.\n",
      "Cumulative effect of RTOTAL3FATPc is safe. Updated safe removal list.\n"
     ]
    },
    {
     "name": "stderr",
     "output_type": "stream",
     "text": [
      "Processing reactions: 100%|██████████████████▉| 758/759 [47:32<00:07,  7.02s/it]"
     ]
    },
    {
     "name": "stdout",
     "output_type": "stream",
     "text": [
      "\n",
      "Testing reaction: HMR_0267\n",
      "Reaction HMR_0267 knockout is safe.\n",
      "Added HMR_0267 to the candidate removal list.\n",
      "Cumulative effect of HMR_0267 is safe. Updated safe removal list.\n"
     ]
    },
    {
     "name": "stderr",
     "output_type": "stream",
     "text": [
      "Processing reactions: 100%|███████████████████| 759/759 [47:40<00:00,  3.77s/it]\n"
     ]
    },
    {
     "ename": "NameError",
     "evalue": "name 'safe_rxns_to_remove' is not defined",
     "output_type": "error",
     "traceback": [
      "\u001b[0;31m---------------------------------------------------------------------------\u001b[0m",
      "\u001b[0;31mNameError\u001b[0m                                 Traceback (most recent call last)",
      "Cell \u001b[0;32mIn[4], line 158\u001b[0m\n\u001b[1;32m    155\u001b[0m \u001b[38;5;66;03m# Remove cyclic ATP reactions and check safety\u001b[39;00m\n\u001b[1;32m    156\u001b[0m pruned_model, safe_rxn_rmv, safe_rxn_irrev \u001b[38;5;241m=\u001b[39m remove_cyclic_atp_reactions(model, atp_loop_rxn_rmv, biomass_rxn)\n\u001b[0;32m--> 158\u001b[0m \u001b[38;5;28mprint\u001b[39m(\u001b[38;5;124mf\u001b[39m\u001b[38;5;124m\"\u001b[39m\u001b[38;5;124mReactions consuming ATP in a cyclic fashion and safe to remove: \u001b[39m\u001b[38;5;132;01m{\u001b[39;00m\u001b[38;5;28mlen\u001b[39m(\u001b[43msafe_rxns_to_remove\u001b[49m)\u001b[38;5;132;01m}\u001b[39;00m\u001b[38;5;124m\"\u001b[39m)\n\u001b[1;32m    159\u001b[0m \u001b[38;5;28mprint\u001b[39m(\u001b[38;5;124mf\u001b[39m\u001b[38;5;124m\"\u001b[39m\u001b[38;5;124mReactions consuming ATP in a cyclic fashion and safe to make irreversible: \u001b[39m\u001b[38;5;132;01m{\u001b[39;00m\u001b[38;5;28mlen\u001b[39m(safe_rxn_irrev)\u001b[38;5;132;01m}\u001b[39;00m\u001b[38;5;124m\"\u001b[39m)\n\u001b[1;32m    161\u001b[0m \u001b[38;5;66;03m# Final biomass\u001b[39;00m\n",
      "\u001b[0;31mNameError\u001b[0m: name 'safe_rxns_to_remove' is not defined"
     ]
    }
   ],
   "source": [
    "#########################################\n",
    "# Pablo's modification\n",
    "#########################################\n",
    "from tqdm import tqdm\n",
    "\n",
    "\n",
    "def get_atp_related_reactions(model, atp_mets):\n",
    "    \"\"\" Get reactions associated with ATP metabolites. \"\"\"\n",
    "    atp_rxns_indices = []\n",
    "    for met in atp_mets:\n",
    "        for reac in met.reactions:\n",
    "            atp_rxns_indices.append(reac.id)\n",
    "    return list(set(atp_rxns_indices))\n",
    "\n",
    "def find_low_flux_reactions(model, atp_rxns_indices, atp_met_indices, stoich_matrix, consumption_cutoff=2e-12):\n",
    "    \"\"\" Identify reactions with low ATP consumption flux. \"\"\"\n",
    "    atp_consumption_idx = []\n",
    "    for atp_rxn in atp_rxns_indices:\n",
    "        reaction = model.reactions.get_by_id(atp_rxn)\n",
    "        for met in atp_met_indices:\n",
    "            if stoich_matrix[model.metabolites.index(met), model.reactions.index(reaction)] < 0:\n",
    "                atp_consumption_idx.append(atp_rxn)\n",
    "                break\n",
    "    return atp_consumption_idx\n",
    "\n",
    "def perform_fba_for_max_atp(model, oxpho_rxns):\n",
    "    \"\"\" Set FBA objective to maximize ATP production. \"\"\"\n",
    "    reaction_variables = ((rxn.forward_variable, rxn.reverse_variable) for rxn in oxpho_rxns)\n",
    "    variables = chain(*reaction_variables)\n",
    "    model.objective = model.problem.Objective(Zero, direction=\"max\", sloppy=True, name=\"maxATP\")\n",
    "    model.objective.set_linear_coefficients({v: 1.0 for v in variables})\n",
    "    return model.optimize()\n",
    "\n",
    "def remove_cyclic_atp_reactions(model, atp_rxns_to_remove, biomass_rxn):\n",
    "    \"\"\" Remove reactions consuming ATP in a cyclic fashion and check for safety. \"\"\"\n",
    "    \n",
    "    safe_rxn_rmv = []\n",
    "    safe_rxn_irrev = []\n",
    "\n",
    "    # Copy the original model\n",
    "    temp_model = model.copy()\n",
    "\n",
    "    # Set the objective for the temporary model\n",
    "    temp_model.objective = biomass_rxn\n",
    "    sol_bio_control = temp_model.optimize()\n",
    "\n",
    "    # Cumulative list of safe reactions to remove or modify\n",
    "    candidate_safe_rmv = []\n",
    "    candidate_safe_irrev = []\n",
    "\n",
    "    for rxn_id in tqdm(atp_rxns_to_remove, desc=\"Processing reactions\"):\n",
    "        with temp_model:\n",
    "            print(f\"\\nTesting reaction: {rxn_id}\")\n",
    "            \n",
    "            # Temporarily knock out the reaction\n",
    "            temp_model.reactions.get_by_id(rxn_id).knock_out()\n",
    "            sol_bio_temp = temp_model.optimize()\n",
    "\n",
    "            if (round(sol_bio_temp.objective_value, 5) == round(sol_bio_control.objective_value, 5)):\n",
    "                print(f\"Reaction {rxn_id} knockout is safe.\")\n",
    "                \n",
    "                # Temporarily add it to the candidate list\n",
    "                candidate_safe_rmv.append(rxn_id)\n",
    "\n",
    "                print(f\"Added {rxn_id} to the candidate removal list.\")\n",
    "                \n",
    "                # Test cumulative effect of all candidate removals\n",
    "                temp_model.remove_reactions(candidate_safe_rmv)\n",
    "                sol_bio_cumulative = temp_model.optimize()\n",
    "                \n",
    "                # If the cumulative effect is still safe, add to the final removal list\n",
    "                if round(sol_bio_cumulative.objective_value, 5) == round(sol_bio_control.objective_value, 5):\n",
    "                    safe_rxn_rmv = list(candidate_safe_rmv)\n",
    "                    print(f\"Cumulative effect of {rxn_id} is safe. Updated safe removal list.\")\n",
    "                else:\n",
    "                    # If not safe, remove the last added reaction from candidates\n",
    "                    candidate_safe_rmv.remove(rxn_id)\n",
    "                    print(f\"Removal of {rxn_id} is not safe, reverting.\")\n",
    "            \n",
    "            else:\n",
    "                print(f\"Knockout of {rxn_id} affects biomass production. Testing for irreversibility.\")\n",
    "                \n",
    "                # Try to make the reaction irreversible if removal is not safe\n",
    "                if temp_model.reactions.get_by_id(rxn_id).lower_bound != 0:\n",
    "                    temp_model.reactions.get_by_id(rxn_id).bounds = (0, 1000)\n",
    "                    sol_bio_temp = temp_model.optimize()\n",
    "                    \n",
    "                    if (round(sol_bio_temp.objective_value, 5) == round(sol_bio_control.objective_value, 5)):\n",
    "                        print(f\"Making reaction {rxn_id} irreversible is safe.\")\n",
    "                        \n",
    "                        candidate_safe_irrev.append(rxn_id)\n",
    "                        \n",
    "                        # Test cumulative effect of all candidate modifications\n",
    "                        for rxn in candidate_safe_irrev:\n",
    "                            temp_model.reactions.get_by_id(rxn).bounds = (0, 1000)\n",
    "                        sol_bio_cumulative = temp_model.optimize()\n",
    "\n",
    "                        # If the cumulative effect is still safe, add to the final modification list\n",
    "                        if round(sol_bio_cumulative.objective_value, 5) == round(sol_bio_control.objective_value, 5):\n",
    "                            safe_rxn_irrev = list(candidate_safe_irrev)\n",
    "                            print(f\"Safe to make {rxn_id} irreversible. Updated irreversible list.\")\n",
    "                        else:\n",
    "                            # If not safe, undo the last added irreversible modification\n",
    "                            candidate_safe_irrev.remove(rxn_id)\n",
    "                            print(f\"Making {rxn_id} irreversible is not safe, reverting.\")\n",
    "\n",
    "    # Remove reactions that are safe to remove from the original model\n",
    "    model.remove_reactions(safe_rxn_rmv)\n",
    "\n",
    "    # Make irreversible reactions that can be safely modified\n",
    "    for rxn in safe_rxn_irrev:\n",
    "        if model.reactions.get_by_id(rxn).lower_bound != 0:\n",
    "            model.reactions.get_by_id(rxn).bounds = (0, 1000)\n",
    "    \n",
    "    return model, safe_rxn_rmv, safe_rxn_irrev\n",
    "\n",
    "# Set objectives\n",
    "biomass_rxn = 'biomass_cho_s'\n",
    "model.objective = biomass_rxn\n",
    "biomass_control = model.optimize('maximize')\n",
    "\n",
    "# Find ATP related reactions\n",
    "atp_related_mets = ['atp_c', 'atp_n', 'atp_m', 'atp_x', 'atp_l', 'atp_g', 'atp_r', 'atp_e']\n",
    "atp_met_indices = [model.metabolites.get_by_id(met) for met in atp_related_mets]\n",
    "atp_rxns_indices = get_atp_related_reactions(model, atp_met_indices)\n",
    "\n",
    "# Create stoichiometric matrix\n",
    "stoich_matrix = create_stoichiometric_matrix(model)\n",
    "atp_consumption_idx = find_low_flux_reactions(model, atp_rxns_indices, atp_met_indices, stoich_matrix)\n",
    "\n",
    "# Maximize ATP production\n",
    "oxpho_rxns = [r for r in model.reactions if 'OXIDATIVE PHOSPHORYLATION' in r.subsystem]\n",
    "solution_maxATP = perform_fba_for_max_atp(model, oxpho_rxns)\n",
    "\n",
    "# Check flux of ATP consuming reactions\n",
    "atp_loop_rxn_rmv = []\n",
    "\n",
    "model.objective = biomass_rxn\n",
    "sol = model.optimize('maximize')\n",
    "atp_rate = np.vstack([sol[atp_consumption_idx], solution_maxATP[atp_consumption_idx]])\n",
    "\n",
    "# Find low flux ATP reactions\n",
    "atp_rxn_lowFlux = [rxn_id for rxn_id, rate in zip(atp_consumption_idx, np.sum(atp_rate, axis=0)) if rate <= 2e-12]\n",
    "\n",
    "# Filter protected subsystems and exchanges\n",
    "protected_subsystems = ['BIOMASS', 'OXIDATIVE PHOSPHORYLATION']\n",
    "atp_loop_rxn_rmv += [rxn for rxn in atp_rxn_lowFlux if model.reactions.get_by_id(rxn).subsystem not in protected_subsystems]\n",
    "\n",
    "# Ensure ATPM and exchange reactions are not removed\n",
    "atp_loop_rxn_rmv = [r_id for r_id in atp_loop_rxn_rmv if r_id != 'ATPM' and not r_id.startswith(\"EX_\")]\n",
    "\n",
    "# Remove duplicates in the list\n",
    "atp_loop_rxn_rmv = set(atp_loop_rxn_rmv)\n",
    "\n",
    "# Remove cyclic ATP reactions and check safety\n",
    "pruned_model, safe_rxn_rmv, safe_rxn_irrev = remove_cyclic_atp_reactions(model, atp_loop_rxn_rmv, biomass_rxn)\n",
    "\n",
    "print(f\"Reactions consuming ATP in a cyclic fashion and safe to remove: {len(safe_rxn_rmv)}\")\n",
    "print(f\"Reactions consuming ATP in a cyclic fashion and safe to make irreversible: {len(safe_rxn_irrev)}\")\n",
    "\n",
    "# Final biomass\n",
    "pruned_model.objective = biomass_rxn\n",
    "sol_bio = pruned_model.optimize('maximize')\n",
    "\n",
    "print(f\"Old Bio: {biomass_control.objective_value:.3f}, New Bio: {sol_bio.objective_value:.3f}\")"
   ]
  },
  {
   "cell_type": "code",
   "execution_count": 5,
   "metadata": {},
   "outputs": [
    {
     "name": "stdout",
     "output_type": "stream",
     "text": [
      "Reactions consuming ATP in a cyclic fashion and safe to remove: 758\n",
      "Reactions consuming ATP in a cyclic fashion and safe to make irreversible: 0\n",
      "Old Bio: 0.047, New Bio: 0.047\n"
     ]
    }
   ],
   "source": [
    "print(f\"Reactions consuming ATP in a cyclic fashion and safe to remove: {len(safe_rxn_rmv)}\")\n",
    "print(f\"Reactions consuming ATP in a cyclic fashion and safe to make irreversible: {len(safe_rxn_irrev)}\")\n",
    "\n",
    "# Final biomass\n",
    "pruned_model.objective = biomass_rxn\n",
    "sol_bio = pruned_model.optimize('maximize')\n",
    "\n",
    "print(f\"Old Bio: {biomass_control.objective_value:.3f}, New Bio: {sol_bio.objective_value:.3f}\")"
   ]
  },
  {
   "cell_type": "code",
   "execution_count": 9,
   "metadata": {},
   "outputs": [
    {
     "data": {
      "text/plain": [
       "['GDCA3Sabc',\n",
       " 'r1344',\n",
       " 'PROSTGE1t3',\n",
       " 'PTPATe',\n",
       " 'FACOAL240',\n",
       " 'r0321',\n",
       " 'HMR_0156',\n",
       " 'ACCOALm',\n",
       " 'HMR_2989',\n",
       " 'PI4P5Kn',\n",
       " 'FACOAL161x',\n",
       " 'PEFLIPm',\n",
       " 'FACOAL161',\n",
       " 'HMR_0211',\n",
       " 'r1356',\n",
       " 'HMR_2942',\n",
       " 'PRPPS',\n",
       " 'r1103',\n",
       " 'ARACHFATPc',\n",
       " 'r1530',\n",
       " 'CE2211te',\n",
       " 'HMR_0419',\n",
       " 'ICDCHOLabc',\n",
       " 'PIK5',\n",
       " 'NDPK9n',\n",
       " 'PSFLIPm',\n",
       " 'FAOXC16DCr',\n",
       " 'PYDAMK',\n",
       " 'CERK',\n",
       " 'ISOCHOLabc',\n",
       " 'HMR_0209',\n",
       " 'r1346',\n",
       " 'ATAx',\n",
       " '4PYRDX',\n",
       " 'HEX2',\n",
       " 'TMDK1m',\n",
       " '11DOCRTSLte',\n",
       " 'AHANDROSTANtr',\n",
       " 'KHK3',\n",
       " 'FACOAL181x',\n",
       " 'RE1441G',\n",
       " 'NDPK7m',\n",
       " 'PTPAT',\n",
       " 'ADNK1n',\n",
       " 'FACOAL2251',\n",
       " 'HDCA24Gte',\n",
       " 'r0812',\n",
       " 'r1097',\n",
       " 'HMR_7161',\n",
       " 'HMR_2973',\n",
       " 'HMR_2968',\n",
       " 'r1095',\n",
       " 'FACOAL1831x',\n",
       " '3DHDCAabc',\n",
       " 'HMR_0323',\n",
       " 'GLYK',\n",
       " 'HMR_0311',\n",
       " 'HMR_0343',\n",
       " 'r0679',\n",
       " 'HMR_0391',\n",
       " 'CHSTEROLt',\n",
       " 'r1359',\n",
       " 'SPHS1Pt2e',\n",
       " 'CE7096te',\n",
       " 'HMR_0395',\n",
       " 'NDPK10',\n",
       " 'r1116',\n",
       " 'GLYCK2',\n",
       " 'NDPK2m',\n",
       " 'r0680',\n",
       " 'RE2635C',\n",
       " 'r0456',\n",
       " 'BiGGRxn56',\n",
       " 'FPGSm',\n",
       " 'TUDCA3Sabc',\n",
       " 'DRBK',\n",
       " 'HEX7',\n",
       " 'PI5P4K',\n",
       " 'FACOAL205x',\n",
       " 'DAGKn',\n",
       " 'NMNATr',\n",
       " 'PROSTGE2t3',\n",
       " 'FACOAL226',\n",
       " 'RBFK',\n",
       " 'SPHK21n',\n",
       " 'r1253',\n",
       " 'NDPK5',\n",
       " 'DNDPt13m',\n",
       " 'r1527',\n",
       " 'r1528',\n",
       " 'ITCOALm',\n",
       " 'ACITL',\n",
       " 'SCP21cx',\n",
       " 'HMR_0253',\n",
       " 'NaKt',\n",
       " 'FACOAL2042',\n",
       " 'CAATPS',\n",
       " 'C05301te',\n",
       " 'r1257',\n",
       " 'CYTDK1',\n",
       " 'ADSK',\n",
       " 'HMR_2945',\n",
       " 'SUBERICACT',\n",
       " 'HMR_0247',\n",
       " 'RTOTALFATPc',\n",
       " '3DHCDCHOLabc',\n",
       " 'COUCOAFm',\n",
       " '7KILTCHOLATP',\n",
       " 'FACOAL1832x',\n",
       " 'FACOAL260',\n",
       " 'NMNATn',\n",
       " 'FACOAL203',\n",
       " 'FPGS5',\n",
       " 'RE3146R',\n",
       " 'PCSm',\n",
       " 'HPDECEte',\n",
       " 'PGK',\n",
       " 'NDPK10n',\n",
       " 'C04483t1',\n",
       " 'r1112',\n",
       " 'ODECOAtcx',\n",
       " 'HMR_6595',\n",
       " 'LINOFATPtc',\n",
       " 'NDPK6',\n",
       " 'FACOAL80x',\n",
       " 'HMR_3017',\n",
       " 'ANDRSTNDNte',\n",
       " 'ANDRSTANDRte',\n",
       " 'HMR_7656',\n",
       " 'TCDCA3Sabc',\n",
       " 'RBTLP',\n",
       " 'PI4P5K',\n",
       " 'XYLK',\n",
       " 'ESTRSABCtc',\n",
       " 'HMR_0261',\n",
       " 'FACOAL1813',\n",
       " 'FACOAL204x',\n",
       " 'r0860',\n",
       " 'HMR_0321',\n",
       " 'r0578',\n",
       " 'NNATn',\n",
       " 'ATAn',\n",
       " 'ACCOAL',\n",
       " 'DPMVDx',\n",
       " 'CE2209te',\n",
       " 'HMR_0241',\n",
       " 'HMR_0367',\n",
       " 'r1162',\n",
       " 'CE5025t',\n",
       " 'ADNCYC',\n",
       " 'HMR_2983',\n",
       " 'CHSTEROLtg',\n",
       " 'HMR_0437',\n",
       " 'SPHK21c',\n",
       " 'XOL7AH3ATP',\n",
       " 'TDCA3Sabc',\n",
       " 'r0993',\n",
       " 'CDCA3Gte',\n",
       " 'HMR_0289',\n",
       " 'FACOAL184x',\n",
       " 'GABAVESSEC',\n",
       " 'FACOAL245_1',\n",
       " 'CE1352te',\n",
       " 'r2501',\n",
       " 'RE1514M',\n",
       " 'HMR_0327',\n",
       " 'r1333',\n",
       " '5HTRPVESSEC',\n",
       " 'PI34P5K',\n",
       " 'DHEASABCCte',\n",
       " 'r1532',\n",
       " 'r0034',\n",
       " 'UMPK',\n",
       " 'GCHOLAt3',\n",
       " 'ARGSS',\n",
       " 'r1352',\n",
       " 'PGLYCABCte',\n",
       " 'HMR_0194',\n",
       " 'FACOAL80im',\n",
       " 'HMR_0317',\n",
       " 'CE1297t',\n",
       " 'HMR_4278',\n",
       " 'FAOXC16Brx',\n",
       " 'FACOAL100i',\n",
       " 'HMR_2980',\n",
       " 'HMR_2955',\n",
       " 'NDPK9',\n",
       " 'ACGAMK',\n",
       " 'ATPtn',\n",
       " 'RTOTAL2FATPc',\n",
       " 'HMR_2964',\n",
       " 'NDPK4',\n",
       " 'HMR_7652',\n",
       " 'RE1441R',\n",
       " 'RETABCtc',\n",
       " 'RE3114R',\n",
       " 'FPGS3m',\n",
       " 'FACOAL140x',\n",
       " 'HMR_0255',\n",
       " 'PI5P3K',\n",
       " 'HMR_2946',\n",
       " 'DNDPt44m',\n",
       " 'URIK1',\n",
       " 'FPGS6',\n",
       " 'r1345',\n",
       " 'NAXE2',\n",
       " 'POMKr',\n",
       " 'FPGS7',\n",
       " 'INSKm',\n",
       " 'HMR_1266',\n",
       " 'r1521',\n",
       " 'FACOAL1821x',\n",
       " 'FPGS9',\n",
       " 'VITEtl',\n",
       " 'FACOAL205',\n",
       " 'DOCOSACT',\n",
       " 'PFK26',\n",
       " 'NDPK2n',\n",
       " 'PNTOt5',\n",
       " 'PRGNLONESte',\n",
       " '7DHCDCHOLabc',\n",
       " 'HMR_2954',\n",
       " 'HMR_0359',\n",
       " 'BACCLm',\n",
       " 'RIBFLVt3',\n",
       " 'TSTSTERONEGLCte',\n",
       " 'SUCOASm',\n",
       " 'DCA3Sabc',\n",
       " 'PI5P4Kn',\n",
       " 'r0340',\n",
       " 'FK',\n",
       " '7DHCHOLabc',\n",
       " 'HMR_0204',\n",
       " 'EANDRSTRNtr',\n",
       " 'CE5072te',\n",
       " 'SLCBK1',\n",
       " 'DHCHOLESTANATEATP',\n",
       " 'TCA3Sabc',\n",
       " 'PI3P4K',\n",
       " 'DOCO13EFATP',\n",
       " 'HMR_2947',\n",
       " 'C05463t1',\n",
       " 'r1518',\n",
       " 'GALK',\n",
       " 'RE0124C',\n",
       " 'HMR_0243',\n",
       " 'FPGS9m',\n",
       " 'FPGS5m',\n",
       " 'HC02220te',\n",
       " 'ESTRONEGLCt',\n",
       " 'C03681te',\n",
       " 'HEX4',\n",
       " 'HMR_6566',\n",
       " 'ATP2ter',\n",
       " 'r1487',\n",
       " 'HMR_2982',\n",
       " 'MI13456PK',\n",
       " 'NDPK1m',\n",
       " 'FPGS',\n",
       " 'HC02195te',\n",
       " 'NDPK5n',\n",
       " 'HMR_0389',\n",
       " 'HMR_2979',\n",
       " '5ADTSTSTERONEGLCte',\n",
       " 'STCOATxc',\n",
       " 'DMNONCOAtcx',\n",
       " 'Znabc',\n",
       " 'r1101',\n",
       " 'FACOAL200x',\n",
       " 'HMR_1627',\n",
       " 'r2498',\n",
       " 'RE2973N',\n",
       " 'r0579',\n",
       " 'HISTAVESSEC',\n",
       " 'HMR_0293',\n",
       " 'RE3079X',\n",
       " 'DNDPt32m',\n",
       " 'HMR_2971',\n",
       " '11DOCRTSTRNte',\n",
       " 'CHOLATEt3',\n",
       " 'HMR_2976',\n",
       " '17AHPRGNLONEte',\n",
       " 'r1104',\n",
       " 'r1254',\n",
       " 'CE6247t',\n",
       " 'HMR_2943',\n",
       " 'FACOAL224',\n",
       " 'TCHOLAt3',\n",
       " 'DCK1n',\n",
       " 'PCm',\n",
       " 'FACOAL100p',\n",
       " 'r1028',\n",
       " 'FACOAL180x',\n",
       " 'FACOAL203x',\n",
       " 'NDPK3n',\n",
       " 'HMR_0387',\n",
       " 'R_group_phosphotase_3',\n",
       " 'THYOCHOLabc',\n",
       " 'CARNS1',\n",
       " 'CE2510ABCt',\n",
       " 'FACOAL1811x',\n",
       " 'HMR_2978',\n",
       " 'PHYQt',\n",
       " 'SADT',\n",
       " 'LEUKABCtc',\n",
       " 'NDPK5m',\n",
       " 'HMR_0271',\n",
       " 'r1337',\n",
       " 'PI34P5Kn',\n",
       " 'ESTRAABCtc',\n",
       " 'r0097',\n",
       " 'FACOAL240x',\n",
       " 'HMR_2988',\n",
       " 'MEPIVESSte',\n",
       " 'CYTK1m',\n",
       " 'DNDPt57m',\n",
       " 'HMR_2963',\n",
       " 'PI45P3K',\n",
       " 'GTHLabc',\n",
       " 'GLYKm',\n",
       " 'DOPA3GLCURt',\n",
       " 'RE3074X',\n",
       " 'r1012',\n",
       " 'HMR_0291',\n",
       " 'RE2972M',\n",
       " 'FACOAL1812',\n",
       " 'MEVK1x',\n",
       " 'BALAVECSEC',\n",
       " 'PPP9ABCte',\n",
       " 'r2505',\n",
       " 'PI45P3Kn',\n",
       " 'BTNt3i',\n",
       " 'r1516',\n",
       " 'CLPNDCOAtbc',\n",
       " 'FACOAL244_1',\n",
       " 'HMR_0325',\n",
       " 'HMR_0385',\n",
       " 'r1520',\n",
       " 'CTPS2',\n",
       " 'HMR_6578',\n",
       " 'DNDPt2m',\n",
       " 'PSHSABCtc',\n",
       " 'r1100',\n",
       " 'r1017',\n",
       " 'GM4Pabc',\n",
       " 'DOPA4GLCURt',\n",
       " 'ATPt4',\n",
       " 'r2502',\n",
       " 'TRIOK',\n",
       " 'GTHRDt',\n",
       " 'NAXE1',\n",
       " 'PHEMEtabc',\n",
       " 'MI4PK',\n",
       " 'NDPK10m',\n",
       " 'FACOAL224x',\n",
       " 'HC02194te',\n",
       " 'NNATr',\n",
       " 'NRPPHRVESSEC',\n",
       " 'r1093',\n",
       " 'HMR_0329',\n",
       " 'r1252',\n",
       " 'HMR_0305',\n",
       " 'HMR_3001',\n",
       " 'LCA3Gte',\n",
       " 'CYTDK2m',\n",
       " 'PRGNLONEte',\n",
       " 'PCS',\n",
       " 'GLCSGLT1le',\n",
       " 'NDPK6m',\n",
       " 'NDPK7n',\n",
       " 'NRVNCABCt',\n",
       " 'HMR_2974',\n",
       " 'FACOAL120i',\n",
       " 'DNDPt56m',\n",
       " 'OCDCEAOCDE9ECOA_r',\n",
       " 'C05770te',\n",
       " 'HMR_3966',\n",
       " 'RE2972R',\n",
       " 'HMR_0297',\n",
       " 'NDPK9m',\n",
       " 'r0924',\n",
       " 'FACOAL150',\n",
       " 'CE1447te',\n",
       " 'PALFATPtc',\n",
       " 'TMNDNCCOAtcx',\n",
       " 'r1515',\n",
       " 'CAMPt',\n",
       " 'FACOAL160i',\n",
       " 'THRNTt',\n",
       " 'r2518',\n",
       " 'NNATm',\n",
       " 'r1522',\n",
       " 'COPROSTabc',\n",
       " 'OCT11EFATP',\n",
       " 'VLCSr',\n",
       " 'DGNSKm',\n",
       " 'MI145PK',\n",
       " 'DLNLCGCOAtcx',\n",
       " 'DCSPTN1COAtxc',\n",
       " 'GK1m',\n",
       " 'FACOAL181i',\n",
       " 'UCHOLabc',\n",
       " 'HMR_5166',\n",
       " 'PCFLOPm',\n",
       " 'MCCCrm',\n",
       " 'VLCSp',\n",
       " 'GLUSIDEtl',\n",
       " 'r1251',\n",
       " 'PYDXK',\n",
       " 'FACOAL220x',\n",
       " 'KHK2',\n",
       " 'CE7090te',\n",
       " 'HMR_0245',\n",
       " 'r0813',\n",
       " 'r1025',\n",
       " 'CYTK2',\n",
       " 'THEXDDte',\n",
       " 'ARACHDFATPtc',\n",
       " 'PI4P3Kn',\n",
       " 'FMNAT',\n",
       " 'HEX1',\n",
       " 'GCDCA3Sabc',\n",
       " 'XOLDIOLONEATP',\n",
       " 'KHK',\n",
       " 'r1525',\n",
       " 'FACOAL1812x',\n",
       " 'C16txc',\n",
       " 'HMR_0347',\n",
       " '12HPETATP',\n",
       " 'r0033',\n",
       " 'ACGALK',\n",
       " 'DOCO13ECOAtxc',\n",
       " 'URSCHOLCOAc',\n",
       " 'HMR_0303',\n",
       " 'HKt',\n",
       " 'PYDXNK',\n",
       " 'CK',\n",
       " 'NRVNCCOAtxc',\n",
       " 'DCA24Gte',\n",
       " 'PAFABCt',\n",
       " 'FTHFL',\n",
       " 'ACHVESSEC',\n",
       " 'ARACHCOAtcx',\n",
       " 'HMR_2975',\n",
       " 'FACOAL140i',\n",
       " 'HMR_0375',\n",
       " 'HMR_1754',\n",
       " 'NADKm',\n",
       " 'THMATPe',\n",
       " 'HMR_0383',\n",
       " 'RE2638C',\n",
       " 'NDPK4n',\n",
       " '3DHCHOLabc',\n",
       " 'NDPK8n',\n",
       " 'HC02196te',\n",
       " 'AGKm',\n",
       " 'DADK1',\n",
       " 'HMR_0423',\n",
       " 'r0859',\n",
       " 'UMPKm',\n",
       " 'VLCS2p',\n",
       " 'HMR_0301',\n",
       " 'R_group_phosphotase_2',\n",
       " 'RNMK',\n",
       " 'FACOAL40im',\n",
       " 'r0523',\n",
       " 'FACOAL241x',\n",
       " 'igg_hc',\n",
       " 'r1259',\n",
       " 'GLNS',\n",
       " 'RE2972G',\n",
       " 'ACS',\n",
       " 'PIK3',\n",
       " 'r1105',\n",
       " 'FPGS2m',\n",
       " 'HMR_2985',\n",
       " 'HMR_0192',\n",
       " 'C05769te',\n",
       " 'HMR_0433',\n",
       " '17AHPRGSTRNte',\n",
       " 'RE3132R',\n",
       " 'ATPH1e',\n",
       " 'ASNS1',\n",
       " 'FACOAL80i',\n",
       " 'r1335',\n",
       " 'FACOAL100im',\n",
       " 'HMR_2999',\n",
       " 'CA3Sabc',\n",
       " 'CAATPaser',\n",
       " 'PACCOAL',\n",
       " 'GCA3Sabc',\n",
       " 'C05299te',\n",
       " 'HEXDTRte',\n",
       " 'NDPK8m',\n",
       " 'GALSGLT1le',\n",
       " 'CYTK1n',\n",
       " 'NDPK8',\n",
       " 'FTHFLm',\n",
       " 'ADRNLPVESSEC',\n",
       " 'HMR_0233',\n",
       " 'HMR_0235',\n",
       " 'RE2974N',\n",
       " 'r2499',\n",
       " 'HMR_9517',\n",
       " 'HMR_2961',\n",
       " 'GUDCA3Sabc',\n",
       " 'RE3160R',\n",
       " 'NDPK2',\n",
       " 'PEFLIP',\n",
       " 'DNDPt20m',\n",
       " 'HMR_2957',\n",
       " 'ATP1ter',\n",
       " 'STRDNCCOAtxc',\n",
       " 'HMR_0431',\n",
       " 'HDCA6Gte',\n",
       " '12DHCHOLabc',\n",
       " 'HMR_3002',\n",
       " 'r1026',\n",
       " 'r0311',\n",
       " 'HMR_0381',\n",
       " 'GMPS2',\n",
       " 'ADSKn',\n",
       " 'CYTK2m',\n",
       " 'PI3P4Kn',\n",
       " 'CGMPt',\n",
       " 'HCA24Gte',\n",
       " 'LCA24Gte',\n",
       " 'HMR_4261',\n",
       " 'HMR_0435',\n",
       " 'FACOAL1831',\n",
       " 'RIBFLVte',\n",
       " 'r1536',\n",
       " 'ADNK1',\n",
       " 'FACOAL241',\n",
       " 'r1519',\n",
       " 'AMANK',\n",
       " 'UDCA3Sabc',\n",
       " 'BiGGRxn39',\n",
       " 'LCA3Sabc',\n",
       " 'FPGS8m',\n",
       " 'MLTHFte1',\n",
       " 'HMR_9577',\n",
       " 'RBK_D',\n",
       " 'FOLABCCte',\n",
       " 'NDPK7',\n",
       " 'r1262',\n",
       " 'URIDK2m',\n",
       " 'VLCS2r',\n",
       " 'FACOAL1822',\n",
       " 'HMR_0200',\n",
       " 'PI4P3K',\n",
       " 'HMR_0319',\n",
       " 'DNDPt19m',\n",
       " 'r1514',\n",
       " 'DURIK1m',\n",
       " 'RBK',\n",
       " 'HYOCHOLabc',\n",
       " 'HMR_2972',\n",
       " 'r0573',\n",
       " 'FPGS8',\n",
       " 'r2497',\n",
       " 'HEX10',\n",
       " 'DNDPt43m',\n",
       " 'SPHK11',\n",
       " 'HMR_2951',\n",
       " 'HMR_2956',\n",
       " 'GLUVESSEC',\n",
       " 'RE2912M',\n",
       " 'SEBACACT',\n",
       " 'r1255',\n",
       " 'PFK',\n",
       " 'r1094',\n",
       " 'ATPtm',\n",
       " 'HMR_1897',\n",
       " 'ACCOAL2',\n",
       " 'HMR_0281',\n",
       " 'r1348',\n",
       " 'HMR_0429',\n",
       " 'CE5026t',\n",
       " 'OCCOAtcx',\n",
       " 'FPGS4',\n",
       " 'NACPRT',\n",
       " 'r1523',\n",
       " 'HMR_8761',\n",
       " 'THCHOLSTOICATP',\n",
       " 'HCA6Gte',\n",
       " 'PPCOACm',\n",
       " 'HMR_3003',\n",
       " 'r2503',\n",
       " 'r0283',\n",
       " 'MECOALm',\n",
       " 'LEUKTRB4t',\n",
       " 'ADNK1m',\n",
       " 'HMR_2990',\n",
       " 'ASCBSVCTtc',\n",
       " 'NDPK6n',\n",
       " 'SameRxns165',\n",
       " 'HMR_7755',\n",
       " 'r1024',\n",
       " 'CYTK2n',\n",
       " 'TCHOLABCtc',\n",
       " 'igg_lc',\n",
       " 'FACOAL200',\n",
       " 'HMR_2969',\n",
       " 'DCA3Gte',\n",
       " 'ESTRIOLGLCte',\n",
       " 'r1354',\n",
       " 'DTMPKm',\n",
       " 'FACOAL226x',\n",
       " 'r2517',\n",
       " 'GTHS',\n",
       " 'OLEICFATPtc',\n",
       " 'FPGS6m',\n",
       " 'HMR_2948',\n",
       " 'r0465',\n",
       " 'C03990ATP',\n",
       " 'LGNCCOAtcx',\n",
       " 'CA24Gte',\n",
       " 'r1260',\n",
       " 'HMR_2994',\n",
       " 'r1341',\n",
       " 'ACSm',\n",
       " 'UMPKn',\n",
       " '3DHLCAabc',\n",
       " 'ANDRSTRNGLCte',\n",
       " 'FPGS2',\n",
       " 'HMR_0307',\n",
       " 'PI3P5K',\n",
       " 'RE2637C',\n",
       " 'HMR_1264',\n",
       " 'HMR_2970',\n",
       " 'HMR_0427',\n",
       " 'EANDRSTRNte',\n",
       " 'DOCOSCOAtxc',\n",
       " 'FACOAL246_1',\n",
       " 'FPGS3',\n",
       " 'PHEMEABCte',\n",
       " 'DCK1mi',\n",
       " 'HMR_2944',\n",
       " 'r1092',\n",
       " 'LGNCFATPtc',\n",
       " 'NMNATm',\n",
       " 'r1517',\n",
       " 'HMR_0287',\n",
       " 'ADPACDAc',\n",
       " 'DIGALSGALSIDEATPte',\n",
       " 'PIK4n',\n",
       " 'FACOAL245_2',\n",
       " 'DAGK',\n",
       " 'HMR_0309',\n",
       " 'HMR_0299',\n",
       " 'INSK',\n",
       " 'ADK1',\n",
       " 'OPAHir',\n",
       " 'MINOHPKn',\n",
       " 'FPGS4m',\n",
       " 'CE7085te',\n",
       " 'PCt',\n",
       " 'ESTROSABCCte',\n",
       " 'HMR_2965',\n",
       " 'CHOLK',\n",
       " 'XOL7AONEATP',\n",
       " 'FACOAL2252',\n",
       " 'FACOAL1821',\n",
       " 'TMDPK',\n",
       " 'HMR_2966',\n",
       " 'RE1957R',\n",
       " 'AK2LGCHOLABCt',\n",
       " 'HMR_2962',\n",
       " 'TMDPPK',\n",
       " 'NADS2',\n",
       " 'BILDGLCURte',\n",
       " 'HMR_0257',\n",
       " 'HMR_0279',\n",
       " 'HMR_0207',\n",
       " 'BACCL',\n",
       " '5EIPENCte',\n",
       " 'CBPSam',\n",
       " 'C05302te',\n",
       " 'PIK4',\n",
       " 'TXB2t',\n",
       " 'CRVNCOAtx',\n",
       " 'HMR_0439',\n",
       " 'HMR_1756',\n",
       " 'r0590',\n",
       " 'FPGS7m',\n",
       " 'CUATPase',\n",
       " 'PNTK',\n",
       " 'HMR_0215',\n",
       " 'SADTn',\n",
       " 'HMR_0273',\n",
       " 'NDPK4m',\n",
       " 'DNDPt31m',\n",
       " 'RE3446X',\n",
       " 'FACOAL184',\n",
       " 'DHAK',\n",
       " 'FAOXC15ATPx',\n",
       " 'URIDK2',\n",
       " 'GSNKm',\n",
       " 'r1529',\n",
       " '15HPETATP',\n",
       " 'DGK1',\n",
       " 'NADK',\n",
       " 'CKc',\n",
       " 'PRISTCOAtcx',\n",
       " 'PPNCL3',\n",
       " 'PIK5n',\n",
       " 'EIC21114TRte',\n",
       " 'DOPAVESSEC',\n",
       " 'DPCOAK',\n",
       " 'r1099',\n",
       " 'RE3446M',\n",
       " 'DCK1i',\n",
       " 'HMR_2967',\n",
       " 'HMR_2986',\n",
       " 'WHARACHDtr',\n",
       " 'HMR_0415',\n",
       " 'ACCOACm',\n",
       " 'FACOAL180i',\n",
       " 'HMR_0393',\n",
       " 'r1014',\n",
       " 'HMR_0277',\n",
       " 'r1029',\n",
       " 'HMR_0371',\n",
       " 'HMR_2998',\n",
       " 'HMR_7617',\n",
       " 'AACOAT',\n",
       " '1MNCAMti',\n",
       " 'OCDCAFATPc',\n",
       " 'ESTRADIOLGLCt2',\n",
       " 'r0853',\n",
       " 'NDPK3m',\n",
       " 'SPHK22n',\n",
       " 'ATPasel',\n",
       " 'HMR_0239',\n",
       " 'CYTK1',\n",
       " 'FACOAL170',\n",
       " 'FACOAL1832',\n",
       " 'TTDCAFATPc',\n",
       " 'EICOSTETCOAtcx',\n",
       " 'FACOAL204',\n",
       " 'FACOAL206',\n",
       " 'GTHETCabc',\n",
       " 'SPHMYLN_HsATPte',\n",
       " 'r0651',\n",
       " 'ACS2',\n",
       " 'PMEVKx',\n",
       " 'PIK3n',\n",
       " 'r0650',\n",
       " 'CDCA24Gte',\n",
       " 'FACOAL191',\n",
       " 'PSFLIP',\n",
       " 'FTHFCL',\n",
       " 'BILGLCURte',\n",
       " 'HMR_2977',\n",
       " 'HMR_0345',\n",
       " 'RTOTAL3FATPc',\n",
       " 'HMR_0267']"
      ]
     },
     "execution_count": 9,
     "metadata": {},
     "output_type": "execute_result"
    }
   ],
   "source": [
    "safe_rxn_rmv"
   ]
  },
  {
   "cell_type": "code",
   "execution_count": 6,
   "metadata": {},
   "outputs": [
    {
     "data": {
      "text/html": [
       "\n",
       "        <table>\n",
       "            <tr>\n",
       "                <td><strong>Name</strong></td>\n",
       "                <td>iCHO3595</td>\n",
       "            </tr><tr>\n",
       "                <td><strong>Memory address</strong></td>\n",
       "                <td>15cf7a960</td>\n",
       "            </tr><tr>\n",
       "                <td><strong>Number of metabolites</strong></td>\n",
       "                <td>4764</td>\n",
       "            </tr><tr>\n",
       "                <td><strong>Number of reactions</strong></td>\n",
       "                <td>7799</td>\n",
       "            </tr><tr>\n",
       "                <td><strong>Number of genes</strong></td>\n",
       "                <td>2963</td>\n",
       "            </tr><tr>\n",
       "                <td><strong>Number of groups</strong></td>\n",
       "                <td>0</td>\n",
       "            </tr><tr>\n",
       "                <td><strong>Objective expression</strong></td>\n",
       "                <td>1.0*biomass_cho_s - 1.0*biomass_cho_s_reverse_dd74e</td>\n",
       "            </tr><tr>\n",
       "                <td><strong>Compartments</strong></td>\n",
       "                <td>m, x, c, r, e, n, l, im, g</td>\n",
       "            </tr>\n",
       "          </table>"
      ],
      "text/plain": [
       "<Model iCHO3595 at 0x15cf7a960>"
      ]
     },
     "execution_count": 6,
     "metadata": {},
     "output_type": "execute_result"
    }
   ],
   "source": [
    "pruned_model"
   ]
  },
  {
   "cell_type": "markdown",
   "metadata": {},
   "source": [
    "### Test"
   ]
  },
  {
   "cell_type": "code",
   "execution_count": 8,
   "metadata": {},
   "outputs": [
    {
     "name": "stdout",
     "output_type": "stream",
     "text": [
      "Simulated ATP Maintencance is: 500.0\n",
      "Simulated growth rate is: 0.050002710053965664\n",
      "ATPM 500.0\n",
      "GLCt4 -50.0098406033136\n",
      "H2Ot 49.58103028261524\n",
      "PIt7 16.303811841220877\n",
      "r1423 16.2836383548553\n",
      "GGNG 43.85160260135318\n",
      "GLBRAN 50.11795207241856\n",
      "GLDBRAN 50.116667702808115\n",
      "GLGNS1 50.11795207241856\n",
      "GLPASE1 50.116667702808115\n",
      "GLPASE2a 43.85060260135318\n",
      "r1393 6.2660651014549344\n",
      "NDPK1 -500.8293586784184\n",
      "UMPK4 -501.43655853758617\n",
      "IMAGH -25.008646870719126\n",
      "BiGGRxn67 -501.54640451851327\n",
      "UGLT -501.16667702808115\n",
      "EX_h2o_e -24.58181919747657\n",
      "EX_isomal_e 25.008646870719126\n"
     ]
    }
   ],
   "source": [
    "with pruned_model as model:\n",
    "    objective = 'biomass_cho_s'\n",
    "    model.objective = objective\n",
    "    '''\n",
    "    model.reactions.SCP22x.knock_out()\n",
    "    model.reactions.TMNDNCCOAtx.knock_out()\n",
    "    model.reactions.OCCOAtx.knock_out()\n",
    "    model.reactions.TMNDNCCOAtx.knock_out()\n",
    "    model.reactions.r0391.knock_out()\n",
    "    model.reactions.BiGGRxn67.knock_out()\n",
    "    model.reactions.r2247.knock_out()\n",
    "    model.reactions.r2280.knock_out()\n",
    "    model.reactions.r2246.knock_out()\n",
    "\n",
    "    \n",
    "    model.reactions.r2279.knock_out()\n",
    "    model.reactions.r2245.knock_out()\n",
    "    model.reactions.r2305.knock_out()\n",
    "    model.reactions.r2317.knock_out()\n",
    "    model.reactions.r2335.knock_out()\n",
    "    model.reactions.HMR_0293.knock_out()\n",
    "    model.reactions.HMR_7741.knock_out()\n",
    "    model.reactions.r0509.knock_out()\n",
    "    model.reactions.r1453.knock_out()\n",
    "    model.reactions.HMR_4343.knock_out()\n",
    "\n",
    "    \n",
    "    model.reactions.ACONTm.knock_out()\n",
    "    model.reactions.PDHm.knock_out()\n",
    "    model.reactions.r0426.knock_out()\n",
    "    model.reactions.r0383.knock_out()\n",
    "    model.reactions.r0555.knock_out()\n",
    "    model.reactions.r1393.knock_out()\n",
    "    model.reactions.NICRNS.knock_out()\n",
    "    model.reactions.get_by_id('GAUGE-R00648').knock_out()\n",
    "    model.reactions.get_by_id('GAUGE-R03326').knock_out()\n",
    "    model.reactions.get_by_id('GapFill-R08726').knock_out()\n",
    "\n",
    "    \n",
    "    model.reactions.RE2915M.knock_out()\n",
    "    model.reactions.HMR_3288.knock_out()\n",
    "    model.reactions.HMR_1325.knock_out()\n",
    "    model.reactions.HMR_7599.knock_out()\n",
    "    model.reactions.r1431.knock_out()\n",
    "    model.reactions.r1433.knock_out()\n",
    "    model.reactions.RE2439C.knock_out()\n",
    "    model.reactions.r0082.knock_out()\n",
    "    model.reactions.r0791.knock_out()\n",
    "    model.reactions.r1450.knock_out()\n",
    "\n",
    "    \n",
    "    model.reactions.get_by_id('GAUGE-R00270').knock_out()\n",
    "    model.reactions.get_by_id('GAUGE-R02285').knock_out()\n",
    "    model.reactions.get_by_id('GAUGE-R04283').knock_out()\n",
    "    model.reactions.get_by_id('GAUGE-R06127').knock_out()\n",
    "    model.reactions.get_by_id('GAUGE-R06128').knock_out()\n",
    "    model.reactions.get_by_id('GAUGE-R06238').knock_out()\n",
    "    model.reactions.get_by_id('GAUGE-R00524').knock_out()\n",
    "    model.reactions.RE3477C.knock_out()\n",
    "\n",
    "    model.reactions.AAPSAS.knock_out()\n",
    "    model.reactions.RE3347C.knock_out()\n",
    "    model.reactions.HMR_0960.knock_out()\n",
    "    model.reactions.HMR_0980.knock_out()\n",
    "    model.reactions.RE3476C.knock_out()\n",
    "    model.reactions.r0708.knock_out()\n",
    "    model.reactions.r0777.knock_out()\n",
    "    model.reactions.r0084.knock_out()\n",
    "    model.reactions.r0424.knock_out()\n",
    "    model.reactions.r0698.knock_out()\n",
    "\n",
    "    model.reactions.get_by_id('3HDH260p').knock_out()\n",
    "    model.reactions.HMR_3272.knock_out()\n",
    "    model.reactions.ACOAD183n3m.knock_out()\n",
    "    model.reactions.HMR_1996.knock_out()\n",
    "    model.reactions.get_by_id('GapFill-R01463').knock_out()\n",
    "    model.reactions.get_by_id('GapFill-R04807').knock_out()\n",
    "    model.reactions.r1468.knock_out()\n",
    "    model.reactions.r2435.knock_out()\n",
    "    model.reactions.r0655.knock_out()\n",
    "    model.reactions.r0603.knock_out()\n",
    "\n",
    "    model.reactions.r0541.knock_out()\n",
    "    model.reactions.RE0383C.knock_out()\n",
    "    model.reactions.HMR_1329.knock_out()\n",
    "    model.reactions.TYRA.knock_out()\n",
    "    model.reactions.NRPPHRt_2H.knock_out()\n",
    "    model.reactions.get_by_id('GAUGE-R07364').knock_out()\n",
    "    model.reactions.get_by_id('GapFill-R03599').knock_out()\n",
    "    model.reactions.ARD.knock_out()\n",
    "    model.reactions.RE3095C.knock_out()\n",
    "    model.reactions.RE3104C.knock_out()\n",
    "    model.reactions.RE3104R.knock_out()\n",
    "\n",
    "    model.reactions.ACONT.knock_out()\n",
    "    model.reactions.ACONTm.knock_out()\n",
    "    model.reactions.ICDHxm.knock_out()\n",
    "    model.reactions.ICDHy.knock_out()\n",
    "    model.reactions.AKGDm.knock_out()\n",
    "    model.reactions.r0083.knock_out()\n",
    "    model.reactions.r0425.knock_out()\n",
    "    model.reactions.r0556.knock_out()\n",
    "    model.reactions.NH4t4r.knock_out()\n",
    "    model.reactions.PROPAT4te.knock_out()\n",
    "    \n",
    "    model.reactions.r0085.knock_out()\n",
    "    model.reactions.r0156.knock_out()\n",
    "    model.reactions.r0464.knock_out()\n",
    "    model.reactions.ABUTDm.knock_out()\n",
    "    model.reactions.OIVD1m.knock_out()\n",
    "    model.reactions.OIVD2m.knock_out()\n",
    "    model.reactions.OIVD3m.knock_out()\n",
    "    model.reactions.r2194.knock_out()\n",
    "    model.reactions.r2202.knock_out()\n",
    "    model.reactions.HMR_9617.knock_out()\n",
    "\n",
    "    model.reactions.r2197.knock_out()\n",
    "    model.reactions.r2195.knock_out()\n",
    "    model.reactions.get_by_id('2OXOADOXm').knock_out()\n",
    "    model.reactions.r2328.knock_out()\n",
    "    model.reactions.r0386.knock_out()\n",
    "    model.reactions.r0451.knock_out()\n",
    "    model.reactions.FAS100COA.knock_out()\n",
    "    model.reactions.FAS120COA.knock_out()\n",
    "    model.reactions.FAS140COA.knock_out()\n",
    "    model.reactions.FAS80COA_L.knock_out()\n",
    "\n",
    "    model.reactions.r0604.knock_out()\n",
    "    model.reactions.r0670.knock_out()\n",
    "    model.reactions.r2334.knock_out()\n",
    "    model.reactions.r0193.knock_out()\n",
    "    model.reactions.r0595.knock_out()\n",
    "    model.reactions.r0795.knock_out()\n",
    "    model.reactions.GLYCLm.knock_out()\n",
    "    model.reactions.MACACI.knock_out()\n",
    "    model.reactions.r2193.knock_out()\n",
    "    model.reactions.r0779.knock_out()\n",
    "    model.reactions.r0669.knock_out()\n",
    "    model.reactions.UDCHOLt.knock_out()\n",
    "    model.reactions.r2146.knock_out()\n",
    "    model.reactions.r2139.knock_out()\n",
    "    model.reactions.r0391.knock_out()\n",
    "    '''\n",
    "    for rxn in model.boundary:\n",
    "        if rxn.id in ['EX_h2o_e', 'EX_h_e', 'EX_o2_e', 'EX_hco3_e', 'EX_so4_e', 'EX_pi_e']:\n",
    "            rxn.bounds = (-1000, 1000)\n",
    "        elif rxn.id in ['SK_Asn_X_Ser_Thr_r', 'SK_Tyr_ggn_c', 'SK_Ser_Thr_g', 'SK_pre_prot_r']:\n",
    "            rxn.bounds = (-0.001, 1000)\n",
    "        elif rxn.id.startswith((\"EX_\", \"SK_\", \"DM_\")):\n",
    "            rxn.bounds = (0, 1000)  # Close uptake rates for others\n",
    "\n",
    "    for reaction in model.reactions:\n",
    "        if reaction.id == 'EX_etoh_e': #Model creates infeasible solutions when secreting etoh\n",
    "            continue\n",
    "        elif reaction.id == 'ATPM': # Add ATP Maintenance Cost\n",
    "            reaction.lower_bound = 500\n",
    "        for r,v in uptsec_zela.items():\n",
    "            if reaction.id == r:\n",
    "                reaction.upper_bound = 1000\n",
    "                reaction.lower_bound = v[('U7','P2 to P4')]\n",
    "    pfba_solution = cobra.flux_analysis.pfba(model)\n",
    "    pfba_obj = pfba_solution.fluxes[objective]\n",
    "    pfba_atp = pfba_solution.fluxes['ATPM']\n",
    "    print(f'Simulated ATP Maintencance is: {pfba_atp}')\n",
    "    print(f'Simulated growth rate is: {pfba_obj}')\n",
    "    \n",
    "    for i,f in pfba_solution.fluxes.items():\n",
    "        if abs(f) > 1:\n",
    "            print(i,f)"
   ]
  },
  {
   "cell_type": "markdown",
   "metadata": {},
   "source": [
    "## 3. Biomass prediction using exp. data <a id='biomass'></a>"
   ]
  },
  {
   "cell_type": "code",
   "execution_count": null,
   "metadata": {},
   "outputs": [],
   "source": [
    "import os\n",
    "import math\n",
    "import pickle\n",
    "import pandas as pd\n",
    "\n",
    "import cobra\n",
    "from cobra import Reaction\n",
    "from cobra.io import load_json_model, read_sbml_model, load_matlab_model\n",
    "from cobra.exceptions import Infeasible\n",
    "from cobra.sampling import ACHRSampler\n",
    "\n",
    "# Plotting\n",
    "import matplotlib.pyplot as plt\n",
    "import seaborn as sns"
   ]
  },
  {
   "cell_type": "markdown",
   "metadata": {},
   "source": [
    "### Model Loading"
   ]
  },
  {
   "cell_type": "code",
   "execution_count": null,
   "metadata": {},
   "outputs": [],
   "source": [
    "# Directory containing context-specific models models\n",
    "model_directory = '../Data/Context_specific_models/'\n",
    "\n",
    "# Model Names\n",
    "wt_model_names = ['WT_P4_Bio141', 'WT_P4_Bio142', 'WT_P4_Bio143',\n",
    "                  'WT_P6_Bio141', 'WT_P6_Bio142', 'WT_P6_Bio143']\n",
    "\n",
    "zela_model_names = ['ZeLa_P2_Bio145', 'ZeLa_P2_Bio146', 'ZeLa_P2_Bio147', 'ZeLa_P2_Bio148',\n",
    "                    'ZeLa_P4_Bio144', 'ZeLa_P4_Bio145', 'ZeLa_P4_Bio146', 'ZeLa_P4_Bio147', 'ZeLa_P4_Bio148',\n",
    "                    'ZeLa_P6_Bio144', 'ZeLa_P6_Bio146', 'ZeLa_P6_Bio147', 'ZeLa_P6_Bio148',\n",
    "                    'ZeLa_P8_Bio144', 'ZeLa_P8_Bio145', 'ZeLa_P8_Bio146', 'ZeLa_P8_Bio147', 'ZeLa_P8_Bio148']\n",
    "\n",
    "# Dictionaries to store the loaded models\n",
    "wt_models = {}\n",
    "zela_models = {}\n",
    "\n",
    "# List all .mat files in the directory\n",
    "model_files = [f for f in os.listdir(model_directory) if f.endswith('.mat')]\n",
    "\n",
    "# Iterate through the .mat files and load only the models that match predefined strings\n",
    "for model_file in model_files:\n",
    "    # Full path to the model file\n",
    "    model_path = os.path.join(model_directory, model_file)\n",
    "    \n",
    "    # Check if the file corresponds to a WT model\n",
    "    for model_name in wt_model_names:\n",
    "        if model_name in model_file:\n",
    "            wt_models[model_name] = load_matlab_model(model_path)\n",
    "            wt_models[model_name].id = model_name\n",
    "            print(f\"Loaded WT model: {model_name}\")\n",
    "            break  # Stop checking other names since this file is already processed\n",
    "    \n",
    "    # Check if the file corresponds to a ZeLa model\n",
    "    for model_name in zela_model_names:\n",
    "        if model_name in model_file:\n",
    "            zela_models[model_name] = load_matlab_model(model_path)\n",
    "            zela_models[model_name].id = model_name\n",
    "            print(f\"Loaded ZeLa model: {model_name}\")\n",
    "            break  # Stop checking other names since this file is already processed"
   ]
  },
  {
   "cell_type": "code",
   "execution_count": null,
   "metadata": {},
   "outputs": [],
   "source": [
    "# ATP loop generating reactions\n",
    "\n",
    "atp_reactions_list = [\n",
    "    'SCP22x', 'TMNDNCCOAtx', 'OCCOAtx', 'r0391', 'BiGGRxn67', 'r2247', 'r2280', 'r2246', 'r2279', 'r2245', \n",
    "    'r2305', 'r2317', 'r2335', 'HMR_0293', 'HMR_7741', 'r0509', 'r1453', 'HMR_4343', 'ACONTm', 'PDHm', \n",
    "    'r0426', 'r0383', 'r0555', 'r1393', 'NICRNS', 'GAUGE-R00648', 'GapFill-R08726', \n",
    "    'RE2915M', 'HMR_3288', 'HMR_1325', 'HMR_7599', 'r1431', 'r1433', 'RE2439C', 'r0082', 'r0791', 'r1450', \n",
    "    'GAUGE-R00270', 'GAUGE-R02285', 'GAUGE-R04283', 'GAUGE-R06127', 'GAUGE-R06128', 'GAUGE-R06238', \n",
    "    'GAUGE-R00524', 'GAUGE-R03326', 'RE3477C', 'AAPSAS', 'RE3347C', 'HMR_0960', 'HMR_0980', 'RE3476C', \n",
    "    'r0708', 'r0777', 'r0084', 'r0424', 'r0698', '3HDH260p', 'HMR_3272', 'ACOAD183n3m', 'HMR_1996', \n",
    "    'GapFill-R01463', 'GapFill-R04807', 'r1468', 'r2435', 'r0655', 'r0603', 'r0541', 'RE0383C', 'HMR_1329', \n",
    "    'TYRA', 'NRPPHRt_2H', 'GAUGE-R07364', 'GapFill-R03599', 'ARD', 'RE3095C', 'RE3104C', 'RE3104R', 'ACONT', \n",
    "    'ACONTm', 'ICDHxm', 'ICDHy', 'AKGDm', 'r0083', 'r0425', 'r0556', 'NH4t4r', 'PROPAT4te', 'r0085', \n",
    "    'r0156', 'r0464', 'ABUTDm', 'OIVD1m', 'OIVD2m', 'OIVD3m', 'r2194', 'r2202', 'HMR_9617', 'r2197', \n",
    "    'r2195', '2OXOADOXm', 'r2328', 'r0386', 'r0451', 'FAS100COA', 'FAS120COA', 'FAS140COA', 'FAS80COA_L', \n",
    "    'r0604', 'r0670', 'r2334', 'r0193', 'r0595', 'r0795', 'GLYCLm', 'MACACI', 'r2193', 'r0779', 'r0669', \n",
    "    'UDCHOLt', 'r2146', 'r2139'\n",
    "]"
   ]
  },
  {
   "cell_type": "markdown",
   "metadata": {},
   "source": [
    "### Simulations"
   ]
  },
  {
   "cell_type": "code",
   "execution_count": null,
   "metadata": {},
   "outputs": [],
   "source": [
    "# Load uptake and secretion rate dict\n",
    "\n",
    "with open('../Data/Uptake_Secretion_Rates/uptake_secretion_raw_wt_dict.pkl', 'rb') as file:\n",
    "    uptsec_wt = pickle.load(file)\n",
    "\n",
    "with open('../Data/Uptake_Secretion_Rates/uptake_secretion_raw_zela_dict.pkl', 'rb') as file:\n",
    "    uptsec_zela = pickle.load(file)"
   ]
  },
  {
   "cell_type": "code",
   "execution_count": null,
   "metadata": {
    "scrolled": true
   },
   "outputs": [],
   "source": [
    "# Sanity Check. Make sure all the exchange reactions in the experimental data are present in the model and that the models ar growing\n",
    "\n",
    "for name,model in zela_models.items():\n",
    "    print('---------------------------------------')\n",
    "    print(f'------------{model.id}------------')\n",
    "    print('')\n",
    "    print(f'Objective:{model.objective}')\n",
    "    print('')\n",
    "    print(f'GR1: {model.slim_optimize()}')\n",
    "    exchanges = list(uptsec_wt.keys())\n",
    "    \n",
    "    model_ex = [r.id for r in model.boundary]\n",
    "    model_reactions = [r.id for r in model.reactions]\n",
    "    \n",
    "    # Remove ATP loop reactions\n",
    "    for atp_reaction in atp_reactions_list:\n",
    "        if atp_reaction in model_reactions:\n",
    "            # Knock out the reaction temporarily\n",
    "            reaction = model.reactions.get_by_id(atp_reaction)\n",
    "            original_bounds = reaction.bounds  # Store the original bounds to revert later\n",
    "            reaction.knock_out()\n",
    "            \n",
    "            # Test if the model remains feasible after knocking out the reaction\n",
    "            try:\n",
    "                new_gr = model.slim_optimize()\n",
    "                print(f'GR2 (After knocking out {atp_reaction}): {new_gr}')\n",
    "                \n",
    "                # Check if the model's growth rate is infeasible or close to zero\n",
    "                if math.isnan(new_gr) or new_gr < 1e-6:\n",
    "                    print(f'{atp_reaction} causes infeasibility. Reverting knockout.')\n",
    "                    reaction.bounds = original_bounds  # Revert the bounds if infeasible\n",
    "                else:\n",
    "                    print(f'{atp_reaction} successfully knocked out without infeasibility.')\n",
    "\n",
    "            except Exception as e:\n",
    "                print(f'Error optimizing model after knocking out {atp_reaction}: {e}')\n",
    "                # Revert the reaction bounds if an error occurs\n",
    "                reaction.bounds = original_bounds\n",
    "\n",
    "    print('')\n",
    "    print('Missing reactions from exp data:')\n",
    "    for ex in exchanges:\n",
    "        if ex not in model_ex:\n",
    "            print(ex)\n",
    "    print('---------------------------------------')\n",
    "    print('---------------------------------------')\n",
    "    print('')\n",
    "    print('')\n",
    "\n",
    "\n",
    "for name,model in wt_models.items():\n",
    "    print('---------------------------------------')\n",
    "    print(f'------------{model.id}------------')\n",
    "    print('')\n",
    "    print(f'Objective:{model.objective}')\n",
    "    print('---------------------------------------')\n",
    "    print(f'GR: {model.slim_optimize()}')\n",
    "    exchanges = list(uptsec_wt.keys())\n",
    "    model_ex = [r.id for r in model.boundary]\n",
    "    model_reactions = [r.id for r in model.reactions]\n",
    "    \n",
    "    # Remove ATP loop reactions\n",
    "    for atp_reaction in atp_reactions_list:\n",
    "        if atp_reaction in model_reactions:\n",
    "            # Knock out the reaction temporarily\n",
    "            reaction = model.reactions.get_by_id(atp_reaction)\n",
    "            original_bounds = reaction.bounds  # Store the original bounds to revert later\n",
    "            reaction.knock_out()\n",
    "            \n",
    "            # Test if the model remains feasible after knocking out the reaction\n",
    "            try:\n",
    "                new_gr = model.slim_optimize()\n",
    "                print(f'GR2 (After knocking out {atp_reaction}): {new_gr}')\n",
    "                \n",
    "                # Check if the model's growth rate is infeasible or close to zero\n",
    "                if math.isnan(new_gr) or new_gr < 1e-6:\n",
    "                    print(f'{atp_reaction} causes infeasibility. Reverting knockout.')\n",
    "                    reaction.bounds = original_bounds  # Revert the bounds if infeasible\n",
    "                else:\n",
    "                    print(f'{atp_reaction} successfully knocked out without infeasibility.')\n",
    "\n",
    "            except Exception as e:\n",
    "                print(f'Error optimizing model after knocking out {atp_reaction}: {e}')\n",
    "                # Revert the reaction bounds if an error occurs\n",
    "                reaction.bounds = original_bounds\n",
    "\n",
    "    \n",
    "    for ex in exchanges:\n",
    "        if ex not in model_ex:\n",
    "            print(ex)\n",
    "    print('---------------------------------------')\n",
    "    print('---------------------------------------')\n",
    "    print('')"
   ]
  },
  {
   "cell_type": "code",
   "execution_count": null,
   "metadata": {},
   "outputs": [],
   "source": [
    "pfba_solutions_fluxes = []"
   ]
  },
  {
   "cell_type": "code",
   "execution_count": null,
   "metadata": {
    "scrolled": true,
    "tags": []
   },
   "outputs": [],
   "source": [
    "# WT\n",
    "\n",
    "results = []\n",
    "\n",
    "objective = 'biomass_cho_s'\n",
    "\n",
    "# Adjust the lower bound values according to the experimental growth rates in order to indetify bottlenecks\n",
    "intervals = {'P0 to P2':'P2', 'P2 to P4':'P4', 'P4 to P6':'P6', 'P6 to P8':'P8', 'P8 to P12':'P12', 'P12 to P14':'P14'}\n",
    "replicates = {'U1':'Bio141', 'U2':'Bio142', 'U3':'Bio143'}\n",
    "\n",
    "for name,model in wt_models.items():\n",
    "    print(f\"Processing model: {name}\")\n",
    "    # Set lower bounds of the reactions according to the experimental data\n",
    "    for interval_key, interval_model_time in intervals.items():\n",
    "        if interval_model_time in name:  # Match model name with interval\n",
    "            for rep_key, rep_suffix in replicates.items():\n",
    "                if rep_suffix in name:  # Match replicate with model name\n",
    "\n",
    "                     with model as modified_model:\n",
    "\n",
    "                        # Open the bounds for the biomass reaction \n",
    "                        modified_model.reactions.biomass_cho_s.bounds = (0,1000)\n",
    "                         \n",
    "                        # Create a copy of the modified_model before making changes\n",
    "                        pre_modification_model = modified_model.copy()\n",
    "                         \n",
    "                        for rxn in modified_model.boundary:\n",
    "                            # Keep boundaries open for essential metabolites\n",
    "                            if rxn.id in ['EX_h2o_e', 'EX_h_e', 'EX_o2_e', 'EX_hco3_e', 'EX_so4_e', 'EX_pi_e']:\n",
    "                                rxn.bounds = (-1000, 1000)\n",
    "                            elif rxn.id in ['SK_Asn_X_Ser_Thr_r', 'SK_Tyr_ggn_c', 'SK_Ser_Thr_g', 'SK_pre_prot_r']:\n",
    "                                rxn.bounds = (-0.001, 1000)\n",
    "                            elif rxn.id.startswith((\"EX_\", \"SK_\", \"DM_\")):\n",
    "                                rxn.bounds = (0, 1000)  # Close uptake rates for others\n",
    "                        \n",
    "                        print(f'Calculating Growth Rate for WT Condition:{rep_key,interval_key}')\n",
    "                        exp_gr = uptsec_wt['exp_growth_rate'][(rep_key,interval_key)]\n",
    "                        print(f'Experimental growth rate is: {exp_gr}')\n",
    "                        for reaction in modified_model.reactions:\n",
    "                            if reaction.id == 'EX_etoh_e': #Model creates infeasible solutions when secreting etoh\n",
    "                                continue\n",
    "                            elif reaction.id == 'ATPM': # Add ATP Maintenance Cost\n",
    "                                reaction.lower_bound = 8\n",
    "                            for r,v in uptsec_wt.items():\n",
    "                                if reaction.id == r:\n",
    "                                    reaction.upper_bound = 1000\n",
    "                                    reaction.lower_bound = v[(rep_key,interval_key)]\n",
    "                                    \n",
    "                        try:\n",
    "                            pfba_solution = cobra.flux_analysis.pfba(modified_model)\n",
    "                            pfba_obj = pfba_solution.fluxes[objective]\n",
    "                            pfba_atp = pfba_solution.fluxes['ATPM']\n",
    "                            print(f'Simulated ATP Maintencance is: {pfba_atp}')\n",
    "                            print(f'Simulated growth rate is: {pfba_obj}')\n",
    "            \n",
    "                            # If pFBA succeeds, proceed to sampling\n",
    "                            pfba_model_to_sample = modified_model\n",
    "                            \n",
    "                        except Infeasible:\n",
    "                            print(f'Infeasible solution for replicate {rep_key} interval {interval_key}')\n",
    "                            print('Reverting to the original model and retrying pFBA...')\n",
    "\n",
    "                            for rxn in pre_modification_model.boundary:\n",
    "                            # Keep boundaries open for essential metabolites\n",
    "                                if rxn.id in ['EX_h2o_e', 'EX_h_e', 'EX_o2_e', 'EX_hco3_e', 'EX_so4_e', 'EX_pi_e']:\n",
    "                                    rxn.bounds = (-1000, 1000)\n",
    "                                elif rxn.id in ['SK_Asn_X_Ser_Thr_r', 'SK_Tyr_ggn_c', 'SK_Ser_Thr_g', 'SK_pre_prot_r']:\n",
    "                                    rxn.bounds = (-0.001, 1000)\n",
    "                            \n",
    "                            pfba_solution = cobra.flux_analysis.pfba(pre_modification_model)\n",
    "                            pfba_obj = pfba_solution.fluxes[objective]\n",
    "                            pfba_atp = pfba_solution.fluxes['ATPM']\n",
    "                            print(f'Simulated ATP Maintencance is: {pfba_atp}')\n",
    "                            print(f'Simulated growth rate with original model is: {pfba_obj}')\n",
    "\n",
    "                            # If pFBA with original model succeeds, proceed to sampling\n",
    "                            pfba_model_to_sample = pre_modification_model\n",
    "\n",
    "                        results.append([rep_suffix, interval_key, exp_gr, pfba_obj])\n",
    "                        # Save the solution with metadata\n",
    "                        pfba_solutions_fluxes.append({\n",
    "                            \"model\": pre_modification_model.id,\n",
    "                            \"condition\": interval_key,\n",
    "                            \"fluxes\": pfba_solution.fluxes\n",
    "                        })\n",
    "\n",
    "                        \n",
    "                         # Perform flux sampling using ACHRSampler\n",
    "                        #print(\"Performing flux sampling...\")\n",
    "                        #achr_sampler = ACHRSampler(pfba_model_to_sample)\n",
    "                        #samples = 5000 \n",
    "                        #sampled_fluxes = achr_sampler.sample(samples)\n",
    "                        \n",
    "                        # Validate and save the sampled fluxes\n",
    "                        #if 'v' not in achr_sampler.validate(sampled_fluxes).flatten():\n",
    "                        #    print(f\"Error in sampling for {rep_key}, {interval_key}\")\n",
    "                        #else:\n",
    "                        #    f_name = f\"../Simulations/flux_sampling/Sampling_{name}_{samples}.pkl\"\n",
    "                        #    with open(f_name, 'wb') as file:\n",
    "                        #        pickle.dump(sampled_fluxes, file)\n",
    "                        \n",
    "# Creating a DataFrame\n",
    "df_wt = pd.DataFrame(results, columns=['Hue', 'Category', 'X Axis', 'Y Axis'])"
   ]
  },
  {
   "cell_type": "code",
   "execution_count": null,
   "metadata": {},
   "outputs": [],
   "source": [
    "df =df_wt\n",
    "# Define markers for categories\n",
    "markers = {\n",
    "    'P0 to P2': 'p',  # Circle\n",
    "    'P2 to P4': 'o',  # Circle\n",
    "    'P4 to P6': 's',   # Square\n",
    "}\n",
    "\n",
    "# Set up the plot\n",
    "plt.figure(figsize=(10, 6))\n",
    "\n",
    "# Plot each group with different colors for hue and different shapes for categories\n",
    "hues = df['Hue'].unique()\n",
    "colors = plt.colormaps.get_cmap('tab10')\n",
    "\n",
    "for hue_idx, hue in enumerate(hues):\n",
    "    hue_subset = df[df['Hue'] == hue]\n",
    "    for category, marker in markers.items():\n",
    "        subset = hue_subset[hue_subset['Category'] == category]\n",
    "        plt.scatter(subset['X Axis'], subset['Y Axis'], label=f'{hue} - {category}', marker=marker, s=100, color=colors(hue_idx))\n",
    "\n",
    "# Add the identity line y = x\n",
    "plt.plot([0.00, 0.055], [0.00, 0.055], color='red', linestyle='--')\n",
    "\n",
    "# Set evenly distributed ticks from 0.01 to 0.08\n",
    "ticks = [i / 100.0 for i in range(1, 11)]\n",
    "plt.xticks(ticks=ticks, labels=[f'{i/100.0:.2f}' for i in range(1, 11)])\n",
    "plt.yticks(ticks=ticks, labels=[f'{i/100.0:.2f}' for i in range(1, 11)])\n",
    "\n",
    "# Set limits for both axes\n",
    "plt.xlim(0.0, 0.055)\n",
    "plt.ylim(0.0, 0.055)\n",
    "\n",
    "# Setting the same scale for both axes\n",
    "plt.gca().set_aspect('equal', adjustable='box')\n",
    "\n",
    "# Adding labels and title\n",
    "plt.xlabel('Experimental Growth Rate')\n",
    "plt.ylabel('Simulated Growth Rate')\n",
    "plt.title('WT')\n",
    "plt.legend(title='Hue - Category', bbox_to_anchor=(1.05, 1), loc='upper left')\n",
    "\n",
    "# Show plot\n",
    "plt.tight_layout()\n",
    "plt.savefig('../Simulations/growth_rate_pred/bar_plot_growth_rate_wt.png')\n",
    "plt.show()"
   ]
  },
  {
   "cell_type": "code",
   "execution_count": null,
   "metadata": {},
   "outputs": [],
   "source": [
    "# ZeLa\n",
    "\n",
    "results = []\n",
    "\n",
    "objective = 'biomass_cho_s'\n",
    "\n",
    "# Adjust the lower bound values according to the experimental growth rates in order to indetify bottlenecks\n",
    "intervals = {'P0 to P2':'P2', 'P2 to P4':'P4', 'P4 to P6':'P6', 'P6 to P8':'P8', 'P8 to P12':'P12', 'P12 to P14':'P14'}\n",
    "replicates = {'U4':'Bio144', 'U5':'Bio145', 'U6':'Bio146', 'U7':'Bio147', 'U8':'Bio148'}\n",
    "\n",
    "for name,model in zela_models.items():\n",
    "    print(f\"Processing model: {name}\")\n",
    "    # Set lower bounds of the reactions according to the experimental data\n",
    "    for interval_key, interval_model_time in intervals.items():\n",
    "        if interval_model_time in name:  # Match model name with interval\n",
    "            for rep_key, rep_suffix in replicates.items():\n",
    "                if rep_suffix in name:  # Match replicate with model name\n",
    "                    \n",
    "                     with model as modified_model:\n",
    "\n",
    "                        # Open the bounds for the biomass reaction \n",
    "                        modified_model.reactions.biomass_cho_s.bounds = (0,1000)\n",
    "                         \n",
    "                        # Create a copy of the modified_model before making changes\n",
    "                        pre_modification_model = modified_model.copy()\n",
    " \n",
    "                        for rxn in modified_model.boundary:\n",
    "                            if rxn.id in ['EX_h2o_e', 'EX_h_e', 'EX_o2_e', 'EX_hco3_e', 'EX_so4_e', 'EX_pi_e']:\n",
    "                                rxn.bounds = (-1000, 1000)\n",
    "                            elif rxn.id in ['SK_Asn_X_Ser_Thr_r', 'SK_Tyr_ggn_c', 'SK_Ser_Thr_g', 'SK_pre_prot_r']:\n",
    "                                rxn.bounds = (-0.001, 1000)\n",
    "                            elif rxn.id.startswith((\"EX_\", \"SK_\", \"DM_\")):\n",
    "                                rxn.bounds = (0, 1000)  # Close uptake rates for others\n",
    "\n",
    "                        print(f'Calculating Growth Rate for ZeLa Condition:{rep_key,interval_key}')\n",
    "                        exp_gr = uptsec_zela['exp_growth_rate'][(rep_key,interval_key)]\n",
    "                        print(f'Experimental growth rate is: {exp_gr}')\n",
    "                        for reaction in modified_model.reactions:\n",
    "                            if reaction.id == 'EX_etoh_e': #Model creates infeasible solutions when secreting etoh\n",
    "                                continue\n",
    "                            elif reaction.id == 'ATPM': # Add ATP Maintenance Cost\n",
    "                                reaction.lower_bound = 8\n",
    "                            for r,v in uptsec_zela.items():\n",
    "                                if reaction.id == r:\n",
    "                                    reaction.upper_bound = 1000\n",
    "                                    reaction.lower_bound = v[(rep_key,interval_key)]\n",
    "                                    \n",
    "                        try:\n",
    "                            pfba_solution = cobra.flux_analysis.pfba(modified_model)\n",
    "                            pfba_obj = pfba_solution.fluxes[objective]\n",
    "                            pfba_atp = pfba_solution.fluxes['ATPM']\n",
    "                            print(f'Simulated ATP Maintencance is: {pfba_atp}')\n",
    "                            print(f'Simulated growth rate is: {pfba_obj}')\n",
    "                            \n",
    "                        except Infeasible:\n",
    "                            print(f'Infeasible solution for replicate {rep_key} interval {interval_key}')\n",
    "                            print('Reverting to the original model and retrying pFBA...')\n",
    "\n",
    "                            for rxn in pre_modification_model.reactions:\n",
    "                                if rxn.id in ['EX_h2o_e', 'EX_h_e', 'EX_o2_e', 'EX_hco3_e', 'EX_so4_e', 'EX_pi_e']:\n",
    "                                    rxn.bounds = (-1000, 1000)\n",
    "                                elif rxn.id in ['SK_Asn_X_Ser_Thr_r', 'SK_Tyr_ggn_c', 'SK_Ser_Thr_g', 'SK_pre_prot_r']:\n",
    "                                    rxn.bounds = (-0.001, 1000)\n",
    "                                elif rxn.id == 'ATPM': # Add ATP Maintenance Cost\n",
    "                                    rxn.lower_bound = 8\n",
    "                                \n",
    "                            pfba_solution = cobra.flux_analysis.pfba(pre_modification_model)\n",
    "                            pfba_obj = pfba_solution.fluxes[objective]\n",
    "                            pfba_atp = pfba_solution.fluxes['ATPM']\n",
    "                            print(f'Simulated ATP Maintencance is: {pfba_atp}')\n",
    "                            print(f'Simulated growth rate with original model is: {pfba_obj}')\n",
    "                            \n",
    "                        results.append([rep_suffix, interval_key, exp_gr, pfba_obj])\n",
    "\n",
    "                        # Save the solution with metadata\n",
    "                        pfba_solutions_fluxes.append({\n",
    "                            \"model\": pre_modification_model.id,\n",
    "                            \"condition\": interval_key,\n",
    "                            \"fluxes\": pfba_solution.fluxes\n",
    "                        })\n",
    "                         \n",
    "                        '''\n",
    "                        # Perform flux sampling using ACHRSampler\n",
    "                        print(\"Performing flux sampling...\")\n",
    "                        achr_sampler = ACHRSampler(pfba_model_to_sample)\n",
    "                        samples = 1 \n",
    "                        sampled_fluxes = achr_sampler.sample(samples)\n",
    "                        \n",
    "                        # Validate and save the sampled fluxes\n",
    "                        if 'v' not in achr_sampler.validate(sampled_fluxes).flatten():\n",
    "                            print(f\"Error in sampling for {rep_key}, {interval_key}\")\n",
    "                        else:\n",
    "                            f_name = f\"../Simulations/flux_sampling/Sampling_{name}_{samples}.pkl\"\n",
    "                            with open(f_name, 'wb') as file:\n",
    "                                pickle.dump(sampled_fluxes, file)\n",
    "                        '''\n",
    "    \n",
    "# Creating a DataFrame\n",
    "df_zela = pd.DataFrame(results, columns=['Hue', 'Category', 'X Axis', 'Y Axis'])"
   ]
  },
  {
   "cell_type": "code",
   "execution_count": null,
   "metadata": {},
   "outputs": [],
   "source": [
    "df =df_zela\n",
    "# Define markers for categories\n",
    "markers = {\n",
    "    'P0 to P2': 'p',\n",
    "    'P2 to P4': 'o',  # Circle\n",
    "    'P4 to P6': 's',   # Square\n",
    "    'P6 to P8': 'v',\n",
    "}\n",
    "\n",
    "# Set up the plot\n",
    "plt.figure(figsize=(10, 6))\n",
    "\n",
    "# Plot each group with different colors for hue and different shapes for categories\n",
    "hues = df['Hue'].unique()\n",
    "colors = plt.colormaps.get_cmap('tab10')\n",
    "\n",
    "for hue_idx, hue in enumerate(hues):\n",
    "    hue_subset = df[df['Hue'] == hue]\n",
    "    for category, marker in markers.items():\n",
    "        subset = hue_subset[hue_subset['Category'] == category]\n",
    "        plt.scatter(subset['X Axis'], subset['Y Axis'], label=f'{hue} - {category}', marker=marker, s=100, color=colors(hue_idx))\n",
    "\n",
    "# Add the identity line y = x\n",
    "plt.plot([0.00, 0.055], [0.00, 0.055], color='red', linestyle='--')\n",
    "\n",
    "# Set evenly distributed ticks from 0.01 to 0.08\n",
    "ticks = [i / 100.0 for i in range(1,11)]\n",
    "plt.xticks(ticks=ticks, labels=[f'{i/100.0:.2f}' for i in range(1, 11)])\n",
    "plt.yticks(ticks=ticks, labels=[f'{i/100.0:.2f}' for i in range(1, 11)])\n",
    "\n",
    "# Set limits for both axes\n",
    "plt.xlim(0.0, 0.055)\n",
    "plt.ylim(0.0, 0.055)\n",
    "\n",
    "# Setting the same scale for both axes\n",
    "plt.gca().set_aspect('equal', adjustable='box')\n",
    "\n",
    "# Adding labels and title\n",
    "plt.xlabel('Experimental Growth Rate')\n",
    "plt.ylabel('Simulated Growth Rate')\n",
    "plt.title('ZeLa')\n",
    "plt.legend(title='Hue - Category', bbox_to_anchor=(1.05, 1), loc='upper left')\n",
    "\n",
    "# Show plot\n",
    "plt.tight_layout()\n",
    "plt.savefig('../Simulations/growth_rate_pred/bar_plot_growth_rate_zela.png')\n",
    "plt.show()"
   ]
  },
  {
   "cell_type": "code",
   "execution_count": null,
   "metadata": {
    "scrolled": true
   },
   "outputs": [],
   "source": [
    "for reaction, values in uptsec_zela.items():\n",
    "    plt.figure(figsize=(10, 6))\n",
    "    \n",
    "    # Organize data for plotting\n",
    "    batches = sorted(set(k[0] for k in values.keys()))\n",
    "    timepoints = ['P0 to P2', 'P2 to P4', 'P4 to P6', 'P6 to P8', 'P8 to P12', 'P12 to P14']\n",
    "    \n",
    "    for batch in batches:\n",
    "        batch_data = [values.get((batch, tp), 0) for tp in timepoints]\n",
    "        plt.plot(timepoints, batch_data, marker='o', label=batch)\n",
    "    \n",
    "    plt.title(f'Changes in {reaction} over time')\n",
    "    plt.xlabel('Timepoints')\n",
    "    plt.ylabel('Values')\n",
    "    plt.legend()\n",
    "    plt.xticks(rotation=45)\n",
    "    plt.grid(True)\n",
    "    plt.show()"
   ]
  },
  {
   "cell_type": "code",
   "execution_count": null,
   "metadata": {
    "scrolled": true
   },
   "outputs": [],
   "source": [
    "for reaction, values in uptsec_wt.items():\n",
    "    plt.figure(figsize=(10, 6))\n",
    "    \n",
    "    # Organize data for plotting\n",
    "    batches = sorted(set(k[0] for k in values.keys()))\n",
    "    timepoints = ['P0 to P2', 'P2 to P4', 'P4 to P6', 'P6 to P8', 'P8 to P12', 'P12 to P14']\n",
    "    \n",
    "    for batch in batches:\n",
    "        batch_data = [values.get((batch, tp), 0) for tp in timepoints]\n",
    "        plt.plot(timepoints, batch_data, marker='o', label=batch)\n",
    "    \n",
    "    plt.title(f'Changes in {reaction} over time')\n",
    "    plt.xlabel('Timepoints')\n",
    "    plt.ylabel('Values')\n",
    "    plt.legend()\n",
    "    plt.xticks(rotation=45)\n",
    "    plt.grid(True)\n",
    "    plt.show()"
   ]
  },
  {
   "cell_type": "markdown",
   "metadata": {},
   "source": [
    "## 4. Flux Enrichment Analysis <a id='fea'></a>"
   ]
  },
  {
   "cell_type": "code",
   "execution_count": null,
   "metadata": {},
   "outputs": [],
   "source": [
    "# OPTION 1\n",
    "# Use the fluxes from the growth rate calculations to filter reactions with fluxes\n",
    "# Define a cut off for the flux ??? # Plot to visualization of the flux distribution\n",
    "# Run Flux Enrichment Analysis on those reactions to see pathways enriched when optimized by biomass"
   ]
  },
  {
   "cell_type": "code",
   "execution_count": null,
   "metadata": {},
   "outputs": [],
   "source": [
    "# OPTION 2\n",
    "# Transcriptomic data from cell batches / biorreactiors\n",
    "# Overlay this into the recons and extract the reactions associated to the genes\n",
    "# Extract a reaction vector / \n",
    "# Run Flux Enrichment Analysis"
   ]
  },
  {
   "cell_type": "code",
   "execution_count": null,
   "metadata": {},
   "outputs": [],
   "source": [
    "import cobra\n",
    "import pandas as pd\n",
    "import numpy as np\n",
    "import matplotlib.pyplot as plt"
   ]
  },
  {
   "cell_type": "code",
   "execution_count": null,
   "metadata": {},
   "outputs": [],
   "source": [
    "from scipy.stats import hypergeom\n",
    "from statsmodels.stats.multitest import multipletests\n",
    "\n",
    "def flux_enrichment_analysis(generic_model, rxn_list, attribute='subsystem'):\n",
    "    \n",
    "    # Check if the attribute exists in the first reaction as a proxy for all\n",
    "    if not hasattr(model.reactions[0], attribute):\n",
    "        raise ValueError(f'Attribute {attribute} not found in model reactions')\n",
    "\n",
    "    # Extract attribute information for all reactions\n",
    "    attribute_values = [getattr(rxn, attribute, 'None') for rxn in model.reactions]\n",
    "    unique_attributes = set(attribute_values)\n",
    "    \n",
    "    # Count occurrences in the model and in the reaction set\n",
    "    model_counts = {attr: attribute_values.count(attr) for attr in unique_attributes}\n",
    "    rxn_set_counts = {attr: 0 for attr in unique_attributes}\n",
    "    for rxn in rxn_list:\n",
    "        rxn_attr = getattr(model.reactions.get_by_id(rxn), attribute, 'None')\n",
    "        rxn_set_counts[rxn_attr] += 1\n",
    "\n",
    "    # Calculate p-values using hypergeometric test\n",
    "    M = len(model.reactions)  # Total number of reactions\n",
    "    n = len(rxn_list)  # Size of reaction set\n",
    "    p_values = []\n",
    "    for attr in unique_attributes:\n",
    "        N = model_counts[attr]  # Total reactions in group\n",
    "        x = rxn_set_counts[attr]  # Reactions in group and in set\n",
    "        p_value = hypergeom.sf(x-1, M, N, n)\n",
    "        p_values.append(p_value)\n",
    "\n",
    "    # Adjust p-values for multiple testing\n",
    "    _, adj_p_values, _, _ = multipletests(p_values, method='fdr_bh')\n",
    "\n",
    "    # Compile results\n",
    "    results = pd.DataFrame({\n",
    "        'Group': list(unique_attributes),\n",
    "        'P-value': p_values,\n",
    "        'Adjusted P-value': adj_p_values,\n",
    "        'Enriched set size': [rxn_set_counts[attr] for attr in unique_attributes],\n",
    "        'Total set size': [model_counts[attr] for attr in unique_attributes],\n",
    "    }).sort_values(by='Adjusted P-value')\n",
    "\n",
    "    return results"
   ]
  },
  {
   "cell_type": "markdown",
   "metadata": {},
   "source": [
    "### Test 1: FEA on reactions active during growth rate optimization\n",
    "Use the fluxes from the growth rate calculations to filter reactions with fluxes"
   ]
  },
  {
   "cell_type": "code",
   "execution_count": null,
   "metadata": {
    "scrolled": true
   },
   "outputs": [],
   "source": [
    "# Generate a vector of active reactions for each one of the conditions\n",
    "\n",
    "active_reactions = []\n",
    "\n",
    "for sol in pfba_solutions_fluxes:\n",
    "    rxns_fluxes = []\n",
    "    for n,f in sol['fluxes'].items():\n",
    "        if f != 0:\n",
    "            rxns_fluxes.append(n)\n",
    "    \n",
    "    active_reactions.append({\n",
    "        \"batch\": sol['model'],\n",
    "        \"condition\": sol['condition'],\n",
    "        \"flux_vector\": rxns_fluxes\n",
    "    })\n"
   ]
  },
  {
   "cell_type": "code",
   "execution_count": null,
   "metadata": {},
   "outputs": [],
   "source": [
    "# Load generic model\n",
    "model = load_json_model('iCHO3595_unblocked.json')\n",
    "\n",
    "# Add atp demand reaction\n",
    "DM_atp = Reaction('DM_atp_c')\n",
    "model.add_reactions([DM_atp])\n",
    "model.reactions.DM_atp_c.build_reaction_from_string('atp_c -->')\n",
    "model.reactions.DM_atp_c.bounds = (0.01, 1000)"
   ]
  },
  {
   "cell_type": "code",
   "execution_count": null,
   "metadata": {},
   "outputs": [],
   "source": [
    "# Generate FEA results for each one of the vectors generated for each condition\n",
    "\n",
    "fea_results = []\n",
    "\n",
    "# Load generic model\n",
    "#model = load_json_model('iCHO3595_unblocked.json')\n",
    "\n",
    "for fluxes in active_reactions:\n",
    "    results = flux_enrichment_analysis(model, fluxes['flux_vector'], 'subsystem')\n",
    "    fea_results.append({\n",
    "        \"Batch\": fluxes['batch'],\n",
    "        \"Condition\": fluxes['condition'],\n",
    "        \"Results\": results\n",
    "    })"
   ]
  },
  {
   "cell_type": "code",
   "execution_count": null,
   "metadata": {
    "scrolled": true
   },
   "outputs": [],
   "source": [
    "# Transform p-values to -log10\n",
    "\n",
    "all_data = pd.DataFrame()\n",
    "\n",
    "for result in fea_results:\n",
    "    batch = result['Batch']\n",
    "    temp_df = result['Results'][['Group', 'P-value']].copy()\n",
    "    temp_df.columns = ['Group', f'P-value_{batch}']\n",
    "    if all_data.empty:\n",
    "        all_data = temp_df\n",
    "    else:\n",
    "        all_data = pd.merge(all_data, temp_df, on='Group', how='outer')\n",
    "\n",
    "# Remove groups with a 0 value in all conditions (assuming a '0' value indicates non-significance)\n",
    "significant_filter = (all_data.drop(columns='Group') < 0.05).any(axis=1)\n",
    "filtered_data = all_data[significant_filter]\n",
    "filtered_data.reset_index(inplace=True, drop=True)\n",
    "\n",
    "# Transform the p-values\n",
    "for col in filtered_data.columns:\n",
    "    if col.startswith('P-value'):\n",
    "        filtered_data[f'-log10_{col}'] = -np.log10(filtered_data[col])"
   ]
  },
  {
   "cell_type": "code",
   "execution_count": null,
   "metadata": {},
   "outputs": [],
   "source": [
    "from scipy.stats import zscore\n",
    "\n",
    "# Extract relevant columns for heatmap\n",
    "heatmap_data = filtered_data[[col for col in filtered_data.columns if col.startswith('-log10')]]\n",
    "\n",
    "# Clean column names\n",
    "heatmap_data.columns = heatmap_data.columns.str.replace(r\"-log10_P-value_\", \"\", regex=True)\n",
    "\n",
    "# Normalize the data (z-score)\n",
    "normalized_data = heatmap_data.apply(zscore, axis=1)\n",
    "\n",
    "# Prepare heatmap data\n",
    "normalized_data.index = filtered_data['Group']\n",
    "\n",
    "# Reorder columns: Group P2, P4, P6, and P8 together\n",
    "columns_order = []\n",
    "for phase in ['P2', 'P4', 'P6', 'P8']:\n",
    "    columns_order.extend([col for col in normalized_data.columns if phase in col])\n",
    "\n",
    "# Reorder the DataFrame\n",
    "normalized_data = normalized_data[columns_order]\n",
    "\n",
    "# Plotting the heatmap\n",
    "plt.figure(figsize=(20, 20))\n",
    "sns.heatmap(normalized_data, annot=True, cmap=\"viridis\", cbar_kws={'label': 'Z-score of -log10(P-value)'}, vmin=-1.5, vmax=1.5)\n",
    "plt.title('Heatmap of Z-score Normalized -log10(P-values) Across Conditions', fontsize=20)\n",
    "plt.xlabel('Conditions', fontsize=15)\n",
    "plt.ylabel('Groups', fontsize=15)\n",
    "plt.xticks(rotation=45, ha='right', fontsize=12)\n",
    "plt.yticks(fontsize=12)\n",
    "plt.tight_layout()\n",
    "\n",
    "plt.savefig('../Simulations/flux_enrichment_analysis/FEA_heatmap_all.png', format='png', dpi=300, bbox_inches='tight')\n",
    "plt.show()"
   ]
  },
  {
   "cell_type": "code",
   "execution_count": null,
   "metadata": {},
   "outputs": [],
   "source": [
    "# Filter the columns based on the presence of \"P2 to P4\" or \"P4 to P6\"\n",
    "subset_df = heatmap_data.filter(regex='_P4_|_P6_')\n",
    "\n",
    "# Normalize the data (z-score)\n",
    "normalized_data = subset_df.apply(zscore, axis=1)\n",
    "\n",
    "# Prepare heatmap data\n",
    "normalized_data.index = filtered_data['Group']\n",
    "\n",
    "# Plotting the heatmap\n",
    "plt.figure(figsize=(20, 20))\n",
    "sns.heatmap(normalized_data, annot=True, cmap=\"viridis\", cbar_kws={'label': 'Z-score of -log10(P-value)'}, vmin=-1.5, vmax=1.5)\n",
    "plt.title('Heatmap of Z-score Normalized -log10(P-values) Across Conditions', fontsize=20)\n",
    "plt.xlabel('Conditions', fontsize=15)\n",
    "plt.ylabel('Groups', fontsize=15)\n",
    "plt.xticks(rotation=45, ha='right', fontsize=12)\n",
    "plt.yticks(fontsize=12)\n",
    "plt.tight_layout()\n",
    "\n",
    "plt.savefig('../Simulations/flux_enrichment_analysis/FEA_heatmap_p2_p6.png', format='png', dpi=300, bbox_inches='tight')\n",
    "plt.show()"
   ]
  },
  {
   "cell_type": "code",
   "execution_count": null,
   "metadata": {},
   "outputs": [],
   "source": []
  }
 ],
 "metadata": {
  "kernelspec": {
   "display_name": "Python 3 (ipykernel)",
   "language": "python",
   "name": "python3"
  },
  "language_info": {
   "codemirror_mode": {
    "name": "ipython",
    "version": 3
   },
   "file_extension": ".py",
   "mimetype": "text/x-python",
   "name": "python",
   "nbconvert_exporter": "python",
   "pygments_lexer": "ipython3",
   "version": "3.12.2"
  }
 },
 "nbformat": 4,
 "nbformat_minor": 4
}
