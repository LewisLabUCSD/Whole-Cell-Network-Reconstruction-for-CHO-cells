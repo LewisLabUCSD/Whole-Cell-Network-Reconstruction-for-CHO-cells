{
 "cells": [
  {
   "cell_type": "markdown",
   "id": "15ecee4b",
   "metadata": {},
   "source": [
    "# Final CHO Model\n",
    "This notebook is to asses the validity of our reconstruction and how complete it is."
   ]
  },
  {
   "cell_type": "code",
   "execution_count": null,
   "id": "77cf3103",
   "metadata": {},
   "outputs": [],
   "source": [
    "# Import libraries\n",
    "import pandas as pd\n",
    "import numpy as np\n",
    "import cobra\n",
    "from cobra import Model, Reaction, Metabolite\n",
    "from cobra.io import validate_sbml_model, write_sbml_model\n",
    "from tqdm.notebook import tqdm\n",
    "from google_sheet import GoogleSheet"
   ]
  },
  {
   "cell_type": "markdown",
   "id": "db8ed354",
   "metadata": {},
   "source": [
    "### 1. Retrieve information from the Google Sheet datasets reactions and metabolites"
   ]
  },
  {
   "cell_type": "code",
   "execution_count": null,
   "id": "719281dd",
   "metadata": {},
   "outputs": [],
   "source": [
    "##### ----- Generate datasets from Google Sheet ----- #####\n",
    "\n",
    "#Credential file\n",
    "KEY_FILE_PATH = 'credentials.json'\n",
    "\n",
    "# #CHO Network Reconstruction + Recon3D_v2 Google Sheet ID\n",
    "# SPREADSHEET_ID = '1MlBXeHIKw8k8fZyXm-sN__AHTRSunJxar_-bqvukZws'\n",
    "\n",
    "#CHO Network Reconstruction + Recon3D_v3 Google Sheet ID\n",
    "SPREADSHEET_ID = '1MlBXeHIKw8k8fZyXm-sN__AHTRSunJxar_-bqvukZws'\n",
    "\n",
    "# Initialize the GoogleSheet object\n",
    "sheet = GoogleSheet(SPREADSHEET_ID, KEY_FILE_PATH)\n",
    "\n",
    "# Read data from the Google Sheet\n",
    "sheet_met = 'Metabolites'\n",
    "sheet_rxns = 'Rxns'\n",
    "sheet_attributes = 'Attributes'\n",
    "sheet_demand = 'DemandRxns'\n",
    "\n",
    "metabolites = sheet.read_google_sheet(sheet_met)\n",
    "rxns = sheet.read_google_sheet(sheet_rxns)\n",
    "rxns_attributes = sheet.read_google_sheet(sheet_attributes)\n",
    "demand_rxns = sheet.read_google_sheet(sheet_demand)"
   ]
  },
  {
   "cell_type": "markdown",
   "id": "77bcd212",
   "metadata": {},
   "source": [
    "### 2. Build a model and feed it the information from the df generated"
   ]
  },
  {
   "cell_type": "code",
   "execution_count": null,
   "id": "927503f4",
   "metadata": {},
   "outputs": [],
   "source": [
    "##### ----- Create a model and add reactions ----- #####\n",
    "model = Model(\"iCHO\")\n",
    "lr = []\n",
    "for _, row in rxns.iterrows():\n",
    "    r = Reaction(row['Reaction'])\n",
    "    lr.append(r)    \n",
    "model.add_reactions(lr)\n",
    "model"
   ]
  },
  {
   "cell_type": "code",
   "execution_count": null,
   "id": "5c619ef6",
   "metadata": {},
   "outputs": [],
   "source": [
    "##### ----- Add information to each one of the reactions ----- #####\n",
    "for i,r in enumerate(tqdm(model.reactions)):\n",
    "    print(r.id)\n",
    "    r.build_reaction_from_string(rxns['Reaction Formula'][i])\n",
    "    r.name = rxns['Reaction Name'][i]\n",
    "    r.subsystem = rxns['Subsystem'][i]\n",
    "    r.gene_reaction_rule = str(rxns['GPR_final'][i])\n",
    "    r.lower_bound = float(rxns_attributes['Lower bound'][i])\n",
    "    r.upper_bound = float(rxns_attributes['Upper bound'][i])    "
   ]
  },
  {
   "cell_type": "code",
   "execution_count": null,
   "id": "e4567f02",
   "metadata": {},
   "outputs": [],
   "source": [
    "'''\n",
    "##### ----- Add Demand Reactions ----- #####\n",
    "dr = []\n",
    "for _, row in demand_rxns.iterrows():\n",
    "    r = Reaction(row['Reaction'])\n",
    "    lr.append(r)    \n",
    "model.add_reactions(lr)\n",
    "model\n",
    "\n",
    "##### ----- Add information to each one of the reactions ----- #####\n",
    "for i,r in enumerate(tqdm(model.reactions)):\n",
    "    print(r.id)\n",
    "    r.build_reaction_from_string(rxns['Reaction Formula'][i])\n",
    "    r.name = rxns['Reaction Name'][i]\n",
    "    r.subsystem = rxns['Subsystem'][i]\n",
    "    r.gene_reaction_rule = str(rxns['GPR_final'][i])\n",
    "    r.lower_bound = float(rxns_attributes['Lower bound'][i])\n",
    "    r.upper_bound = float(rxns_attributes['Upper bound'][i]) \n",
    "    \n",
    "'''"
   ]
  },
  {
   "cell_type": "code",
   "execution_count": null,
   "id": "d22a76a8",
   "metadata": {},
   "outputs": [],
   "source": [
    "##### ----- Add information for each metabolite ----- #####\n",
    "metabolites_dict = metabolites.set_index('BiGG ID').to_dict('dict')\n",
    "metabolites_dict['Name']\n",
    "for met in model.metabolites:\n",
    "    met.name = metabolites_dict['Name'][f'{met}']\n",
    "    met.formula = metabolites_dict['Formula'][f'{met}']\n",
    "    met.compartment = metabolites_dict['Compartment'][f'{met}'].split(' - ')[0]    \n",
    "    "
   ]
  },
  {
   "cell_type": "code",
   "execution_count": null,
   "id": "612e8d9c",
   "metadata": {},
   "outputs": [],
   "source": [
    "##### ----- Build the S matrix ----- #####\n",
    "S = cobra.util.create_stoichiometric_matrix(model, array_type='dense')\n",
    "model.S = S"
   ]
  },
  {
   "cell_type": "code",
   "execution_count": null,
   "id": "8faa6ff4",
   "metadata": {},
   "outputs": [],
   "source": [
    "##### ----- Save the model ----- #####\n",
    "write_sbml_model(model, \"iCHOv3_CHO+Recon_v3.xml\")"
   ]
  },
  {
   "cell_type": "code",
   "execution_count": null,
   "id": "308f68ec",
   "metadata": {},
   "outputs": [],
   "source": [
    "##### ----- Test for errors in the recostruction ----- ######\n",
    "\n",
    "# import tempfile\n",
    "# from pprint import pprint\n",
    "# from cobra.io import write_sbml_model, validate_sbml_model\n",
    "# with tempfile.NamedTemporaryFile(suffix='.xml') as f_sbml:\n",
    "#     write_sbml_model(model, filename=f_sbml.name)\n",
    "#     report = validate_sbml_model(filename=f_sbml.name)\n",
    "# pprint(report)\n",
    "\n",
    "from cobra.io import read_sbml_model, validate_sbml_model\n",
    "(_, errors) = validate_sbml_model(\"iCHOv3_CHO+Recon_v3.xml\")\n",
    "errors"
   ]
  },
  {
   "cell_type": "markdown",
   "id": "0919b458",
   "metadata": {},
   "source": [
    "### Blocked reactions and Dead-Ends"
   ]
  },
  {
   "cell_type": "code",
   "execution_count": null,
   "id": "93ed9b39",
   "metadata": {},
   "outputs": [],
   "source": [
    "##### ----- Read Model ----- #####\n",
    "from cobra.io import read_sbml_model\n",
    "model = read_sbml_model(\"iCHOv3_CHO+Recon_v3.xml\")\n",
    "\n",
    "for rxn_exchange in model.exchanges:\n",
    "    rxn_exchange.bounds = (-1000, 1000)"
   ]
  },
  {
   "cell_type": "code",
   "execution_count": null,
   "id": "7fac986e",
   "metadata": {},
   "outputs": [],
   "source": [
    "##### ----- FVA ----- #####\n",
    "import importlib\n",
    "# from utils import runMinMax_GF\n",
    "import utils\n",
    "importlib.reload(utils)\n",
    "model.solver = 'gurobi'\n",
    "\n",
    "\n",
    "for rxn in model.reactions:\n",
    "    rxn.bounds = -1000, 1000\n",
    "minmax = utils.runMinMax_Single(model, end_rxn_index=None)\n",
    "\n",
    "##### Print Reactions with the min and max fluxes #####\n",
    "with open('FVA_Results.txt', 'w') as f:\n",
    "    for i, j in enumerate(minmax):\n",
    "        print(model.reactions[i].id, \"Min: \",j[0], \"Max: \", j[1], file=f)\n",
    "        \n",
    "##### Print Blocked Reactions #####\n",
    "with open('Blocked_Reactions.txt', 'w') as f:\n",
    "    for i, j in enumerate(minmax):\n",
    "        if j[0] == 0 and j[1] == 0:\n",
    "            print(model.reactions[i].id, \"Min: \",j[0], \"Max: \", j[1], file=f)\n",
    "            "
   ]
  },
  {
   "cell_type": "code",
   "execution_count": null,
   "id": "f26ab78c",
   "metadata": {},
   "outputs": [],
   "source": [
    "blocked_reactions = []\n",
    "for i, j in enumerate(minmax):\n",
    "        if j[0] == 0 and j[1] == 0:\n",
    "            blocked_reactions.append(model.reactions[i].id)\n",
    "            \n",
    "print('##### ----- Blocked Reactions ----- #####')\n",
    "print(f'The model has {len(model.reactions)} total reactions')\n",
    "print(f'The model has {len(blocked_reactions)} ({round(len(blocked_reactions)/len(model.reactions)*100)}%) blocked reactions')"
   ]
  },
  {
   "cell_type": "code",
   "execution_count": null,
   "id": "ef010881",
   "metadata": {},
   "outputs": [],
   "source": [
    "from cobra.flux_analysis import gapfill\n",
    "\n",
    "recon3d = cobra.io.read_sbml_model('../Data/GPR_Curation/Recon3D.xml')\n",
    "solution = gapfill(model, recon3d, demand_reactions=False)\n",
    "\n",
    "for r in solution[0]:\n",
    "    print(r.id)"
   ]
  },
  {
   "cell_type": "code",
   "execution_count": null,
   "id": "29332b49",
   "metadata": {},
   "outputs": [],
   "source": [
    "##### ----- Detect Dead-Ends ----- #####\n",
    "from utils import detect_dead_ends\n",
    "dead_ends = detect_dead_ends(model)\n",
    "\n",
    "with open('Dead_ends.txt', 'w') as f:\n",
    "    for i,j in enumerate(dead_ends):\n",
    "        if j:\n",
    "            print(model.metabolites[i], file=f)\n",
    "\n",
    "for i,j in enumerate(dead_ends):\n",
    "    if j:\n",
    "        print(\"\\n\", model.metabolites[i],\": \")\n",
    "        for met_rxn in model.metabolites[i].reactions:\n",
    "            print(met_rxn)"
   ]
  },
  {
   "cell_type": "code",
   "execution_count": null,
   "id": "5f26e530",
   "metadata": {},
   "outputs": [],
   "source": [
    "with open('Dead_ends.txt', 'r') as f:\n",
    "    for line in f:\n",
    "        if line.strip().endswith('_e'):\n",
    "            rxn = line.strip().replace('EX_', '')\n",
    "            # Automated Attributes print\n",
    "            print(f'Than\\t{line.strip()}\\t{rxn} -->\\tEXCHANGE/DEMAND REACTION\\t\\t\\t\\t\\t\\t1\\t0\\t1000\\t0')\n",
    "            # Automated Rxns print\n",
    "            print(f'Than\\t{line.strip()}\\tExchange of {rxn}\\t {rxn} -->\\tEXCHANGE/DEMAND REACTION')"
   ]
  },
  {
   "cell_type": "code",
   "execution_count": null,
   "id": "e22b7d56",
   "metadata": {},
   "outputs": [],
   "source": [
    "##### ----- Create demand reactions ----- #####\n",
    "# with open('Dead_ends.txt', 'r') as f:\n",
    "#     for dead_meat in f:\n",
    "#         print(model.metabolites.get_by_id(dead_meat.rstrip()))\n",
    "#         model.add_boundary(model.metabolites.get_by_id(dead_meat.rstrip()), type=\"sink\")"
   ]
  },
  {
   "cell_type": "markdown",
   "id": "25038fb8",
   "metadata": {},
   "source": [
    "### Test CHO - Recon GEM"
   ]
  },
  {
   "cell_type": "code",
   "execution_count": null,
   "id": "576c5620",
   "metadata": {},
   "outputs": [],
   "source": [
    "# iCHO_recon3dfrom cobra.io import read_sbml_model\n",
    "# read_sbml_model(\".xml\")\n",
    "\n",
    "model_EX = [i for i, rxn in enumerate(model.reactions) if 'EX_' in rxn.id]\n",
    "model_SK = [i for i, rxn in enumerate(model.reactions) if 'SK_' in rxn.id]\n",
    "model_DM = [i for i, rxn in enumerate(model.reactions) if 'DM_' in rxn.id]\n",
    "for i in model_EX:\n",
    "    model.reactions[i].bounds = -1000, 1000\n",
    "\n",
    "for i in model_SK:\n",
    "    model.reactions[i].lower_bound = -1000\n",
    "\n",
    "for i in model_DM:\n",
    "    model.reactions[i].bounds = 0, 1000\n",
    "    "
   ]
  },
  {
   "cell_type": "code",
   "execution_count": null,
   "id": "7374e53b",
   "metadata": {},
   "outputs": [],
   "source": [
    "model.objective = \"biomass\" # \n",
    "sol1 = model.optimize()\n",
    "print(sol1.objective_value)\n",
    "\n",
    "model.objective = \"biomass_prod\" # \n",
    "sol2 = model.optimize()\n",
    "print(sol2.objective_value)\n",
    "\n",
    "model.objective = \"biomass_producing\" # \n",
    "sol3 = model.optimize()\n",
    "print(sol3.objective_value)\n"
   ]
  },
  {
   "cell_type": "code",
   "execution_count": null,
   "id": "af33f5cf",
   "metadata": {},
   "outputs": [],
   "source": [
    "##### ----- Test model KOs ----- #####\n",
    "for reaction in model.reactions:\n",
    "    with model as model:\n",
    "        reaction.knock_out()\n",
    "        model.optimize()\n",
    "        print('%s blocked (bounds: %s), new growth rate %f' %\n",
    "              (reaction.id, str(reaction.bounds), model.objective.value))"
   ]
  }
 ],
 "metadata": {
  "kernelspec": {
   "display_name": "Python 3 (ipykernel)",
   "language": "python",
   "name": "python3"
  },
  "language_info": {
   "codemirror_mode": {
    "name": "ipython",
    "version": 3
   },
   "file_extension": ".py",
   "mimetype": "text/x-python",
   "name": "python",
   "nbconvert_exporter": "python",
   "pygments_lexer": "ipython3",
   "version": "3.10.8"
  }
 },
 "nbformat": 4,
 "nbformat_minor": 5
}
