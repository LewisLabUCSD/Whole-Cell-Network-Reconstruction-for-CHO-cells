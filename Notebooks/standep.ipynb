{
 "cells": [
  {
   "cell_type": "code",
   "execution_count": 1,
   "id": "c6cc3d16-42a1-4261-8b8e-ef95b0c431b5",
   "metadata": {},
   "outputs": [],
   "source": [
    "warning('off', 'all');"
   ]
  },
  {
   "cell_type": "code",
   "execution_count": 2,
   "id": "2dec5278-6a45-41e9-80a0-e8c41a9b1b59",
   "metadata": {},
   "outputs": [
    {
     "name": "stdout",
     "output_type": "stream",
     "text": [
      "\n",
      "\n",
      "      _____   _____   _____   _____     _____     |\n",
      "     /  ___| /  _  \\ |  _  \\ |  _  \\   / ___ \\    |   COnstraint-Based Reconstruction and Analysis\n",
      "     | |     | | | | | |_| | | |_| |  | |___| |   |   The COBRA Toolbox - 2024\n",
      "     | |     | | | | |  _  { |  _  /  |  ___  |   |\n",
      "     | |___  | |_| | | |_| | | | \\ \\  | |   | |   |   Documentation:\n",
      "     \\_____| \\_____/ |_____/ |_|  \\_\\ |_|   |_|   |   http://opencobra.github.io/cobratoolbox\n",
      "                                                  | \n",
      "\n",
      " > Checking if git is installed ...  Done (version: 2.39.3).\n",
      " > Checking if the repository is tracked using git ...  Done.\n",
      " > Checking if curl is installed ...  Done.\n",
      " > Checking if remote can be reached ...  Done.\n",
      " > Initializing and updating submodules (this may take a while)... Done.\n",
      " > Adding all the files of The COBRA Toolbox ...  Done.\n",
      " > Define CB map output... set to svg.\n",
      " > Configuring solver environment variables ...\n",
      "   - [----] ILOG_CPLEX_PATH: --> set this path manually after installing the solver ( see https://opencobra.github.io/cobratoolbox/docs/solvers.html )\n",
      "   - [---*] GUROBI_PATH: /Library/gurobi1001/mac64/matlab\n",
      "   - [----] TOMLAB_PATH: --> set this path manually after installing the solver ( see https://opencobra.github.io/cobratoolbox/docs/solvers.html )\n",
      "   - [----] MOSEK_PATH: --> set this path manually after installing the solver ( see https://opencobra.github.io/cobratoolbox/docs/solvers.html )\n",
      "   Done.\n",
      " > Checking available solvers and solver interfaces ...Gurobi installed at this location? \n",
      "Licence file current? \n",
      "changeCobraSolver: problem initialising CPLEX object: Undefined function 'Cplex' for input arguments of type 'struct'.\n",
      "Could not find installation of ibm_cplex, so it cannot be tested\n",
      "Could not find installation of tomlab_cplex, so it cannot be tested\n",
      "Could not find installation of mosek, so it cannot be tested\n",
      "Could not find installation of matlab, so it cannot be tested\n",
      "\n",
      "   --------------------------------------------------------\n",
      "   pdco.m                      Version pdco5 of 15 Jun 2018\n",
      "   Primal-dual barrier method to minimize a convex function\n",
      "   subject to linear constraints Ax + r = b,  bl <= x <= bu\n",
      "                                                           \n",
      "   Michael Saunders       SOL and ICME, Stanford University\n",
      "   Contributors:     Byunggyoo Kim (SOL), Chris Maes (ICME)\n",
      "                     Santiago Akle (ICME), Matt Zahr (ICME)\n",
      "                     Aekaansh Verma (ME)                   \n",
      "   --------------------------------------------------------\n",
      "\n",
      "The objective is linear\n",
      "The matrix A is an explicit sparse matrix\n",
      "\n",
      "m        =        1     n        =        2      nnz(A)  =        1\n",
      "max |b | =        0     max |x0| =  1.0e+00      xsize   =  1.0e+00\n",
      "max |y0| =        1     max |z0| =  1.0e+00      zsize   =  1.0e+00\n",
      "\n",
      "x0min    =        1     featol   =  1.0e-06      d1max   =  1.0e-04\n",
      "z0min    =        1     opttol   =  1.0e-06      d2max   =  5.0e-04\n",
      "mu0      =  1.0e-01     steptol  =     0.99     bigcenter=     1000\n",
      "\n",
      "LSMR/MINRES:\n",
      "atol1    =  1.0e-10     atol2    =  1.0e-15      btol    =  0.0e+00\n",
      "conlim   =  1.0e+12     itnlim   =       10      show    =        0\n",
      "\n",
      "Method   =        2     (1 or 11=chol  2 or 12=QR  3 or 13=LSMR  4 or 14=MINRES 21=SQD(LU)  22=SQD(MA57))\n",
      "Eliminating dy before dx  \n",
      " \n",
      "\n",
      "Bounds:\n",
      "  [0,inf]  [-inf,0]  Finite bl  Finite bu  Two bnds   Fixed    Free\n",
      "        0         0          0          0         0       2       0\n",
      "  [0, bu]  [bl,  0]  excluding fixed variables\n",
      "        0         0\n",
      "\n",
      "Itn   mu stepx stepz  Pinf  Dinf  Cinf   Objective    nf  center       QR\n",
      "  0                   -6.6 -99.0  -Inf  1.2500000e-07        1.0\n",
      "  1 -1.0 1.000 1.000 -99.0 -99.0  -Inf  0.0000000e+00  1     1.0        1\n",
      "  2 -3.0 1.000 1.000 -99.0 -99.0  -Inf  0.0000000e+00  1     1.0\n",
      "  3 -5.0 1.000 1.000 -99.0 -99.0  -Inf  0.0000000e+00  1     1.0\n",
      "  4 -7.0 1.000 1.000 -99.0 -99.0  -Inf  0.0000000e+00  1     1.0\n",
      "   Converged\n",
      "\n",
      "max |x| =     0.000    max |y| =     0.000    max |z| =     0.000   scaled\n",
      "max |x| =     0.000    max |y| =     0.000    max |z| =     0.000 unscaled\n",
      "max |x| and max |z| exclude fixed variables\n",
      "PDitns  =         4     QRitns =         0    cputime =       0.1\n",
      "\n",
      "Distribution of vector     x         z\n",
      "[      1,     10 )         0         2\n",
      "[    0.1,      1 )         0         0\n",
      "[   0.01,    0.1 )         0         0\n",
      "[  0.001,   0.01 )         0         0\n",
      "[ 0.0001,  0.001 )         0         0\n",
      "[  1e-05, 0.0001 )         0         0\n",
      "[  1e-06,  1e-05 )         0         0\n",
      "[  1e-07,  1e-06 )         0         0\n",
      "[  1e-08,  1e-07 )         0         0\n",
      "[      0,  1e-08 )         2         0 \n",
      "Elapsed time is 0.083696 seconds.\n",
      "\n",
      " > [pdco] Primal optimality condition in solveCobraLP satisfied.\n",
      " > [pdco] Dual optimality condition in solveCobraLP satisfied.\n",
      "Elapsed time is 0.002030 seconds.\n",
      "In 0.0020755 sec, file written to /Users/pablodigiusto/Library/Application Support/MathWorks/MATLAB Add-Ons/Collections/The COnstraint-Based Reconstruction and Analysis Toolbox/binary/maca64/bin/minos/data/FBA/qFBA.txt\n",
      "Could not find installation of cplex_direct, so it cannot be tested\n",
      "changeCobraSolver: problem initialising CPLEX object: Undefined function 'Cplex' for input arguments of type 'struct'.\n",
      "Could not find installation of cplexlp, so it cannot be tested\n",
      "Could not find installation of tomlab_snopt, so it cannot be tested\n",
      " Done.\n",
      " > Setting default solvers ...Could not find installation of mosek, so it cannot be tested\n",
      "Could not find installation of matlab, so it cannot be tested\n",
      " Done.\n",
      " > Saving the MATLAB path ... Done.\n",
      "   - The MATLAB path was saved in the default location.\n",
      "\n",
      " > Summary of available solvers and solver interfaces\n",
      "\n",
      "\t\t\tSupport \t   LP \t MILP \t   QP \t MIQP \t  NLP \t   EP\n",
      "\t------------------------------------------------------------------------------\n",
      "\tgurobi       \tactive        \t    0 \t    0 \t    0 \t    0 \t    - \t    -\n",
      "\tibm_cplex    \tactive        \t    0 \t    0 \t    0 \t    0 \t    - \t    -\n",
      "\ttomlab_cplex \tactive        \t    0 \t    0 \t    0 \t    0 \t    - \t    -\n",
      "\tglpk         \tactive        \t    1 \t    1 \t    - \t    - \t    - \t    -\n",
      "\tmosek        \tactive        \t    0 \t    - \t    0 \t    - \t    - \t    0\n",
      "\tmatlab       \tactive        \t    0 \t    - \t    - \t    - \t    0 \t    -\n",
      "\tpdco         \tactive        \t    1 \t    - \t    1 \t    - \t    - \t    1\n",
      "\tquadMinos    \tactive        \t    1 \t    - \t    - \t    - \t    - \t    -\n",
      "\tdqqMinos     \tactive        \t    1 \t    - \t    1 \t    - \t    - \t    -\n",
      "\tcplex_direct \tactive        \t    0 \t    0 \t    0 \t    - \t    - \t    -\n",
      "\tcplexlp      \tactive        \t    0 \t    - \t    - \t    - \t    - \t    -\n",
      "\tqpng         \tpassive       \t    - \t    - \t    1 \t    - \t    - \t    -\n",
      "\ttomlab_snopt \tpassive       \t    - \t    - \t    - \t    - \t    0 \t    -\n",
      "\tlp_solve     \tlegacy        \t    1 \t    - \t    - \t    - \t    - \t    -\n",
      "\t------------------------------------------------------------------------------\n",
      "\tTotal        \t-             \t    5 \t    1 \t    3 \t    0 \t    0 \t    1\n",
      "\n",
      " + Legend: - = not applicable, 0 = solver not compatible or not installed, 1 = solver installed.\n",
      "\n",
      "\n",
      " > You can solve LP problems using: 'pdco' \n",
      " > You can solve MILP problems using: \n",
      " > You can solve QP problems using: 'pdco' \n",
      " > You can solve MIQP problems using: \n",
      " > You can solve NLP problems using: \n",
      " > You can solve EP problems using: 'pdco' \n",
      "\n",
      "Gurobi installed at this location? \n",
      "Licence file current? \n",
      "Gurobi installed at this location? \n",
      "Licence file current? \n",
      "Gurobi installed at this location? \n",
      "Licence file current? \n",
      "Gurobi installed at this location? \n",
      "Licence file current? \n",
      " > Checking for available updates ...\n",
      " > remote.origin.url = https://github.com/opencobra/cobratoolbox.git\n",
      ".\n",
      " > currentBranch = main.\n",
      " > The COBRA Toolbox is up-to-date.\n",
      "removing: /Users/pablodigiusto/Library/Application Support/MathWorks/MATLAB Add-Ons/Collections/The COnstraint-Based Reconstruction and Analysis Toolbox/src/analysis/thermo/componentContribution/new\n",
      "removing: /Users/pablodigiusto/Library/Application Support/MathWorks/MATLAB Add-Ons/Collections/The COnstraint-Based Reconstruction and Analysis Toolbox/src/analysis/thermo/groupContribution/new\n",
      "removing: /Users/pablodigiusto/Library/Application Support/MathWorks/MATLAB Add-Ons/Collections/The COnstraint-Based Reconstruction and Analysis Toolbox/src/analysis/thermo/inchi/new\n",
      "removing: /Users/pablodigiusto/Library/Application Support/MathWorks/MATLAB Add-Ons/Collections/The COnstraint-Based Reconstruction and Analysis Toolbox/src/analysis/thermo/molFiles/new\n",
      "removing: /Users/pablodigiusto/Library/Application Support/MathWorks/MATLAB Add-Ons/Collections/The COnstraint-Based Reconstruction and Analysis Toolbox/src/analysis/thermo/protons/new\n",
      "removing: /Users/pablodigiusto/Library/Application Support/MathWorks/MATLAB Add-Ons/Collections/The COnstraint-Based Reconstruction and Analysis Toolbox/src/analysis/thermo/trainingModel/new\n"
     ]
    }
   ],
   "source": [
    "% Initialize COBRA\n",
    "initCobraToolbox"
   ]
  },
  {
   "cell_type": "code",
   "execution_count": 3,
   "id": "741920c9",
   "metadata": {},
   "outputs": [],
   "source": [
    "cd('/Users/pablodigiusto/Documents/GitHub/Whole-Cell-Network-Reconstruction-for-CHO-cells/Notebooks');\n",
    "addpath('./Matlab code');"
   ]
  },
  {
   "cell_type": "code",
   "execution_count": 10,
   "id": "5e1d5a56",
   "metadata": {},
   "outputs": [
    {
     "name": "stdout",
     "output_type": "stream",
     "text": [
      "Each model.subSystems{x} is a character array, and this format is retained.\n"
     ]
    },
    {
     "name": "stderr",
     "output_type": "stream",
     "text": [
      "\u001b[0;31mError using fluxVariability (line 248)\n",
      "The FVA could not be run because the model is infeasible or unbounded\n",
      "\n",
      "Error in findBlockedReaction (line 28)\n",
      "    [minMax(:, 1), minMax(:, 2)] = fluxVariability(model, 0);\n",
      "\n",
      "\u001b[0m"
     ]
    }
   ],
   "source": [
    "% Load iCHO3644 model\n",
    "model = readCbModel('iCHO3644_unblocked.mat');"
   ]
  },
  {
   "cell_type": "code",
   "execution_count": null,
   "id": "c81f52bb-5201-4d7e-9c79-e792f41b888a",
   "metadata": {},
   "outputs": [],
   "source": [
    "% Create a dictionary with the gene names of our model as keys and the gene IDs as values\n",
    "\n",
    "genes = model.genes; % or model.rxns or another field depending on your model\n",
    "geneNames = model.geneNames; % Adjust field name as per your model's structure\n",
    "\n",
    "% Initialize a map (dictionary) to hold gene names as keys and genes IDs as values\n",
    "geneDict = containers.Map('KeyType', 'char', 'ValueType', 'char');\n",
    "\n",
    "% Iterate over the genes\n",
    "for i = 1:length(genes)\n",
    "    geneID = genes{i};\n",
    "    geneName = geneNames{i};\n",
    "    geneDict(geneName) = geneID; % Use gene name as key, gene ID as value\n",
    "end"
   ]
  },
  {
   "cell_type": "code",
   "execution_count": null,
   "id": "d572a119",
   "metadata": {},
   "outputs": [],
   "source": [
    "% Loading the RNA-seq data\n",
    "dataTable = readtable('../Data/Zela Data/20200307_Bio141-148_merged.tpm.tsv', 'FileType', 'text', 'Delimiter', '\\t');\n",
    "\n",
    "% Extracting gene names if the first column\n",
    "geneNames = dataTable{:, 1};\n",
    "\n",
    "% Map gene IDs from the model to the RNA-Seq data\n",
    "for i = 1:length(geneNames)\n",
    "    currentGeneName = geneNames{i};\n",
    "    if isKey(geneDict, currentGeneName)\n",
    "        % If the current gene name exists in the dictionary, replace it with the gene ID\n",
    "        updatedGeneNames{i} = geneDict(currentGeneName);\n",
    "    else\n",
    "        % If the gene name does not exist in the dictionary, keep the original name\n",
    "        updatedGeneNames{i} = currentGeneName;\n",
    "    end\n",
    "end\n",
    "\n",
    "% Sample Identifiers and Their Conditions\n",
    "sampleConditions = {\n",
    "    'S1', 'WT_P2'; 'S7', 'WT_P2'; 'S13', 'WT_P2';\n",
    "    'S2', 'WT_P4'; 'S8', 'WT_P4'; 'S14', 'WT_P4';\n",
    "    'S3', 'WT_P6'; 'S9', 'WT_P6'; 'S15', 'WT_P6';\n",
    "    'S4', 'WT_P8'; 'S10', 'WT_P8'; 'S16', 'WT_P8';\n",
    "    'S5', 'WT_P12';'S11', 'WT_P12';\n",
    "    'S6', 'WT_P14';'S12', 'WT_P14';'S17', 'WT_P14';\n",
    "    'S18', 'ZeLa_P4'; 'S23', 'ZeLa_P4'; 'S28', 'ZeLa_P4'; 'S34', 'ZeLa_P4'; 'S39', 'ZeLa_P4';\n",
    "    'S19', 'ZeLa_P6'; 'S24', 'ZeLa_P6'; 'S29', 'ZeLa_P6'; 'S35', 'ZeLa_P6'; 'S40', 'ZeLa_P6';\n",
    "    'S20', 'ZeLa_P8'; 'S25', 'ZeLa_P8'; 'S30', 'ZeLa_P8'; 'S36', 'ZeLa_P8'; 'S41', 'ZeLa_P8';\n",
    "    'S21', 'ZeLa_P12';'S26', 'ZeLa_P12';'S31', 'ZeLa_P12';'S37', 'ZeLa_P12';'S42', 'ZeLa_P12';\n",
    "    'S22', 'ZeLa_P14';'S27', 'ZeLa_P14';'S32', 'ZeLa_P14';'S38', 'ZeLa_P14';'S43', 'ZeLa_P14';\n",
    "    'S18', 'ZeLa_P2'; 'S22', 'ZeLa_P2'; 'S27', 'ZeLa_P2'; 'S33', 'ZeLa_P2'; 'S38', 'ZeLa_P2';\n",
    "};\n",
    "\n",
    "% Prepare the expression data matrix and cell names\n",
    "expressionDataMatrix = table2array(dataTable(:, 2:end)); % Assuming the first column is gene names\n",
    "cellNames = dataTable.Properties.VariableNames(2:end); % Adjust if the structure is different\n",
    "\n",
    "% Adjust cellNames based on sampleConditions\n",
    "for i = 1:size(sampleConditions, 1)\n",
    "    idx = find(strcmp(cellNames, sampleConditions{i, 1}));\n",
    "    if ~isempty(idx)\n",
    "        cellNames{idx} = sampleConditions{i, 2};\n",
    "    end\n",
    "end\n",
    "\n",
    "% Creating the expressionData Structure\n",
    "expressionData = struct;\n",
    "expressionData.gene = updatedGeneNames;\n",
    "expressionData.valuebyTissue = expressionDataMatrix;\n",
    "expressionData.Tissue = cellNames;"
   ]
  },
  {
   "cell_type": "code",
   "execution_count": null,
   "id": "b1575b6e-90b3-4dc8-b77a-15e5acf77c1f",
   "metadata": {},
   "outputs": [],
   "source": [
    "expressionData"
   ]
  },
  {
   "cell_type": "code",
   "execution_count": null,
   "id": "753df52a-b6f6-4b59-b1fd-90e63a82a44f",
   "metadata": {},
   "outputs": [],
   "source": [
    "% Get the mean values of gene expression per condition\n",
    "\n",
    "% Find unique condition names\n",
    "uniqueConditions = unique(cellNames);\n",
    "\n",
    "% Initialize a matrix to store the mean values for each condition\n",
    "meanExpressionDataMatrix = zeros(size(expressionDataMatrix, 1), length(uniqueConditions));\n",
    "\n",
    "% Loop over each unique condition to calculate the mean expression\n",
    "for i = 1:length(uniqueConditions)\n",
    "    % Find columns that belong to the current condition\n",
    "    conditionCols = strcmp(cellNames, uniqueConditions{i});\n",
    "    \n",
    "    % Calculate the mean across these columns for each gene\n",
    "    meanExpressionDataMatrix(:, i) = mean(expressionDataMatrix(:, conditionCols), 2);\n",
    "end\n",
    "\n",
    "% Creating the meanexpressionData Structure\n",
    "meanexpressionData = struct;\n",
    "meanexpressionData.gene = updatedGeneNames;\n",
    "meanexpressionData.valuebyTissue = meanExpressionDataMatrix;\n",
    "meanexpressionData.Tissue = uniqueConditions;"
   ]
  },
  {
   "cell_type": "code",
   "execution_count": null,
   "id": "9b34f711-b76b-4471-850f-1d62be9befc0",
   "metadata": {},
   "outputs": [],
   "source": [
    "meanexpressionData"
   ]
  },
  {
   "cell_type": "code",
   "execution_count": null,
   "id": "e54b943a-0c88-4af1-82b2-aa4793a881d9",
   "metadata": {},
   "outputs": [],
   "source": [
    "% TRY REMOVING ALL THE BLOCKED REACTIONS HERE"
   ]
  },
  {
   "cell_type": "code",
   "execution_count": null,
   "id": "8197cb1c-0afb-4bd9-b232-22d3a2918ef1",
   "metadata": {},
   "outputs": [],
   "source": [
    "% extract expression data of the genes in the model\n",
    "modelData = getModelData(meanexpressionData,model);"
   ]
  },
  {
   "cell_type": "code",
   "execution_count": null,
   "id": "8184e774",
   "metadata": {
    "tags": []
   },
   "outputs": [],
   "source": [
    "modelData"
   ]
  },
  {
   "cell_type": "code",
   "execution_count": null,
   "id": "df182f14",
   "metadata": {},
   "outputs": [],
   "source": [
    "% Calculate enzymes in the model\n",
    "spec = getSpecialistEnzymes(model);  \n",
    "prom = getPromEnzymes(model);"
   ]
  },
  {
   "cell_type": "code",
   "execution_count": null,
   "id": "0149d2fe",
   "metadata": {},
   "outputs": [],
   "source": [
    "% Calculate enzyme expression\n",
    "enzymeData = comparePromiscuousSpecific(spec,prom,modelData);"
   ]
  },
  {
   "cell_type": "code",
   "execution_count": null,
   "id": "a639f407",
   "metadata": {},
   "outputs": [],
   "source": [
    "edgeX = [-2 -1 0 1 2 2.5 3 4]; % bins  \n",
    "k = 7 % what value should we use\n",
    "distMethod = 'euclidean'; % distance method  \n",
    "linkageMethod = 'complete'; % linkage metric for hierarchical clustering"
   ]
  },
  {
   "cell_type": "code",
   "execution_count": null,
   "id": "92ba6a0f",
   "metadata": {},
   "outputs": [],
   "source": [
    "% Calculate clusters of enzyme expression\n",
    "clustObj = geneExprDist_hierarchy(enzymeData,[],edgeX,k,distMethod,linkageMethod);"
   ]
  },
  {
   "cell_type": "code",
   "execution_count": null,
   "id": "37fe2c90-66f7-4509-9d0b-f47ac83d9cf3",
   "metadata": {},
   "outputs": [],
   "source": [
    "% calculate active reaction lists as binary matrix\n",
    "coreRxnMat = models4mClusters1(clustObj,enzymeData.Tissue,model,edgeX,[],[],true,0,[1 1]);"
   ]
  },
  {
   "cell_type": "code",
   "execution_count": null,
   "id": "658869d3-f12a-40f4-b1df-b54ca745e80b",
   "metadata": {},
   "outputs": [],
   "source": [
    "% calculate Jaccard similarity between core reaction lists\n",
    "calcJaccardSimilarity(coreRxnMat,enzymeData.Tissue,'matrix',true);"
   ]
  },
  {
   "cell_type": "code",
   "execution_count": null,
   "id": "5903db47-2e8d-4d92-82a6-a7af23a0a438",
   "metadata": {},
   "outputs": [],
   "source": [
    "% Calculate ubiquity scores for mCADRE\n",
    "ubiScore = getUbiquityScore(clustObj,edgeX,model); % calculate ubiquity score"
   ]
  },
  {
   "cell_type": "code",
   "execution_count": null,
   "id": "caa5d04a-b3f8-47c1-b696-cfd3fcdb1d95",
   "metadata": {},
   "outputs": [],
   "source": []
  }
 ],
 "metadata": {
  "kernelspec": {
   "display_name": "Matlab",
   "language": "matlab",
   "name": "matlab"
  },
  "language_info": {
   "codemirror_mode": "octave",
   "file_extension": ".m",
   "help_links": [
    {
     "text": "MetaKernel Magics",
     "url": "https://metakernel.readthedocs.io/en/latest/source/README.html"
    }
   ],
   "mimetype": "text/x-octave",
   "name": "matlab",
   "version": "0.17.1"
  }
 },
 "nbformat": 4,
 "nbformat_minor": 5
}
