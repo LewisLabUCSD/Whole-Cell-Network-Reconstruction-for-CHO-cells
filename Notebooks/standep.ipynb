{
 "cells": [
  {
   "cell_type": "code",
   "execution_count": null,
   "id": "2dec5278-6a45-41e9-80a0-e8c41a9b1b59",
   "metadata": {},
   "outputs": [],
   "source": [
    "% Initialize COBRA\n",
    "initCobraToolbox"
   ]
  },
  {
   "cell_type": "code",
   "execution_count": null,
   "id": "741920c9",
   "metadata": {},
   "outputs": [],
   "source": [
    "cd('/Users/pablodigiusto/Documents/GitHub/Whole-Cell-Network-Reconstruction-for-CHO-cells/Notebooks');\n",
    "addpath('/Users/pablodigiusto/Documents/GitHub/Whole-Cell-Network-Reconstruction-for-CHO-cells/Notebooks/Matlab code');"
   ]
  },
  {
   "cell_type": "code",
   "execution_count": null,
   "id": "5e1d5a56",
   "metadata": {},
   "outputs": [],
   "source": [
    "% Load iCHO3000 model\n",
    "model = readCbModel('iCHOv3_CHO_28032024.mat');"
   ]
  },
  {
   "cell_type": "code",
   "execution_count": null,
   "id": "d572a119",
   "metadata": {},
   "outputs": [],
   "source": [
    "% Loading the RNA-seq data\n",
    "dataTable = readtable('../Data/Zela Data/20200307_Bio141-148_merged.tpm.tsv', 'FileType', 'text', 'Delimiter', '\\t');\n",
    "\n",
    "% Extracting gene names if the first column\n",
    "geneNames = dataTable{:, 1};\n",
    "\n",
    "% Calculate mean expression across replicates for simplicity\n",
    "expressionWT = mean(table2array(dataTable(:, 2:18)), 2); % Mean across WT replicates - THIS IS WRONG NEEDS TO BE FIXED\n",
    "expressionZeLa = mean(table2array(dataTable(:, 19:end)), 2); % Mean across ZeLa replicates  - THIS IS WRONG NEEDS TO BE FIXED\n",
    "expressionDataMatrix = [expressionWT, expressionZeLa]; % Combine into a single matrix\n",
    "\n",
    "% Condition Names\n",
    "cellNames = {'WT', 'ZeLa'}; % Adjust as needed\n",
    "\n",
    "% Creating the expressionData Structure\n",
    "expressionData = struct;\n",
    "expressionData.gene = geneNames;\n",
    "expressionData.valuebyTissue = expressionDataMatrix;\n",
    "expressionData.Tissue = cellNames;\n",
    "\n",
    "% Conditions:\n",
    "% WT_P2 (S01,S07,S13)\n",
    "% WT_P4 \n",
    "% WT_P6\n",
    "% WT_P8\n",
    "% WT_P12\n",
    "% WT_P14\n",
    "\n",
    "% ZeLa_P2 (S22, S27, S33, S38)\n",
    "% ZeLa_P4\n",
    "% ZeLa_P6\n",
    "% ZeLa_P8\n",
    "% ZeLa_P12\n",
    "% ZeLa_P14"
   ]
  },
  {
   "cell_type": "code",
   "execution_count": null,
   "id": "377f2e64-248d-44fe-a8a7-bbfc6a0a5c59",
   "metadata": {
    "tags": []
   },
   "outputs": [],
   "source": [
    "expressionWT"
   ]
  },
  {
   "cell_type": "code",
   "execution_count": null,
   "id": "8197cb1c-0afb-4bd9-b232-22d3a2918ef1",
   "metadata": {},
   "outputs": [],
   "source": [
    "% extract expression data of the genes in the model\n",
    "modelData = getModelData(expressionData,model);"
   ]
  },
  {
   "cell_type": "code",
   "execution_count": null,
   "id": "8184e774",
   "metadata": {
    "tags": []
   },
   "outputs": [],
   "source": [
    "modelData"
   ]
  },
  {
   "cell_type": "code",
   "execution_count": null,
   "id": "df182f14",
   "metadata": {},
   "outputs": [],
   "source": [
    "% Calculate enzymes in the model\n",
    "spec = getSpecialistEnzymes(model);  \n",
    "prom = getPromEnzymes(model);"
   ]
  },
  {
   "cell_type": "code",
   "execution_count": null,
   "id": "0149d2fe",
   "metadata": {},
   "outputs": [],
   "source": [
    "% Calculate enzyme expression\n",
    "enzymeData = comparePromiscuousSpecific(spec,prom,modelData);"
   ]
  },
  {
   "cell_type": "code",
   "execution_count": null,
   "id": "a639f407",
   "metadata": {},
   "outputs": [],
   "source": [
    "edgeX = [-2 -1 0 1 2 2.5 3 4]; % bins  "
   ]
  },
  {
   "cell_type": "code",
   "execution_count": null,
   "id": "a47cf1ec",
   "metadata": {},
   "outputs": [],
   "source": [
    "k = 3"
   ]
  },
  {
   "cell_type": "code",
   "execution_count": null,
   "id": "75aba047",
   "metadata": {},
   "outputs": [],
   "source": [
    "distMethod = 'euclidean'; % distance method  "
   ]
  },
  {
   "cell_type": "code",
   "execution_count": null,
   "id": "d2efbcda",
   "metadata": {},
   "outputs": [],
   "source": [
    "linkageMethod = 'complete'; % linkage metric for hierarchical clustering"
   ]
  },
  {
   "cell_type": "code",
   "execution_count": null,
   "id": "92ba6a0f",
   "metadata": {},
   "outputs": [],
   "source": [
    "% Calculate clusters of enzyme expression\n",
    "clustObj = geneExprDist_hierarchy(enzymeData,[],edgeX,k,distMethod,linkageMethod);"
   ]
  }
 ],
 "metadata": {
  "kernelspec": {
   "display_name": "Matlab",
   "language": "matlab",
   "name": "matlab"
  },
  "language_info": {
   "codemirror_mode": "octave",
   "file_extension": ".m",
   "help_links": [
    {
     "text": "MetaKernel Magics",
     "url": "https://metakernel.readthedocs.io/en/latest/source/README.html"
    }
   ],
   "mimetype": "text/x-octave",
   "name": "matlab",
   "version": "0.17.1"
  }
 },
 "nbformat": 4,
 "nbformat_minor": 5
}
