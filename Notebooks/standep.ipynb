{
 "cells": [
  {
   "cell_type": "code",
   "execution_count": null,
   "id": "c6cc3d16-42a1-4261-8b8e-ef95b0c431b5",
   "metadata": {},
   "outputs": [],
   "source": [
    "warning('off', 'all');"
   ]
  },
  {
   "cell_type": "code",
   "execution_count": null,
   "id": "2dec5278-6a45-41e9-80a0-e8c41a9b1b59",
   "metadata": {},
   "outputs": [],
   "source": [
    "% Initialize COBRA\n",
    "initCobraToolbox"
   ]
  },
  {
   "cell_type": "code",
   "execution_count": null,
   "id": "741920c9",
   "metadata": {},
   "outputs": [],
   "source": [
    "cd('/Users/pablodigiusto/Documents/GitHub/Whole-Cell-Network-Reconstruction-for-CHO-cells/Notebooks');\n",
    "addpath('./Matlab code/Standep');"
   ]
  },
  {
   "cell_type": "code",
   "execution_count": null,
   "id": "5e1d5a56",
   "metadata": {},
   "outputs": [],
   "source": [
    "% Load iCHO3644 model\n",
    "model = readCbModel('iCHO3644_unblocked.mat');"
   ]
  },
  {
   "cell_type": "code",
   "execution_count": null,
   "id": "c81f52bb-5201-4d7e-9c79-e792f41b888a",
   "metadata": {},
   "outputs": [],
   "source": [
    "% Create a dictionary with the gene names of our model as keys and the gene IDs as values\n",
    "\n",
    "genes = model.genes; % or model.rxns or another field depending on your model\n",
    "geneNames = model.geneNames; % Adjust field name as per your model's structure\n",
    "\n",
    "% Initialize a map (dictionary) to hold gene names as keys and genes IDs as values\n",
    "geneDict = containers.Map('KeyType', 'char', 'ValueType', 'char');\n",
    "\n",
    "% Iterate over the genes\n",
    "for i = 1:length(genes)\n",
    "    geneID = genes{i};\n",
    "    geneName = geneNames{i};\n",
    "    geneDict(geneName) = geneID; % Use gene name as key, gene ID as value\n",
    "end"
   ]
  },
  {
   "cell_type": "code",
   "execution_count": null,
   "id": "d572a119",
   "metadata": {},
   "outputs": [],
   "source": [
    "% Loading the RNA-seq data\n",
    "dataTable = readtable('../Data/Zela Data/20200307_Bio141-148_merged.tpm.tsv', 'FileType', 'text', 'Delimiter', '\\t');\n",
    "\n",
    "% Extracting gene names if the first column\n",
    "geneNames = dataTable{:, 1};\n",
    "\n",
    "% Map gene IDs from the model to the RNA-Seq data\n",
    "for i = 1:length(geneNames)\n",
    "    currentGeneName = geneNames{i};\n",
    "    if isKey(geneDict, currentGeneName)\n",
    "        % If the current gene name exists in the dictionary, replace it with the gene ID\n",
    "        updatedGeneNames{i} = geneDict(currentGeneName);\n",
    "    else\n",
    "        % If the gene name does not exist in the dictionary, keep the original name\n",
    "        updatedGeneNames{i} = currentGeneName;\n",
    "    end\n",
    "end\n",
    "\n",
    "% Sample Identifiers and Their Conditions\n",
    "sampleConditions = {\n",
    "    'S1', 'WT_P2'; 'S7', 'WT_P2'; 'S13', 'WT_P2';\n",
    "    'S2', 'WT_P4'; 'S8', 'WT_P4'; 'S14', 'WT_P4';\n",
    "    'S3', 'WT_P6'; 'S9', 'WT_P6'; 'S15', 'WT_P6';\n",
    "    'S4', 'WT_P8'; 'S10', 'WT_P8'; 'S16', 'WT_P8';\n",
    "    'S5', 'WT_P12';'S11', 'WT_P12';\n",
    "    'S6', 'WT_P14';'S12', 'WT_P14';'S17', 'WT_P14';\n",
    "    'S18', 'ZeLa_P4'; 'S23', 'ZeLa_P4'; 'S28', 'ZeLa_P4'; 'S34', 'ZeLa_P4'; 'S39', 'ZeLa_P4';\n",
    "    'S19', 'ZeLa_P6'; 'S24', 'ZeLa_P6'; 'S29', 'ZeLa_P6'; 'S35', 'ZeLa_P6'; 'S40', 'ZeLa_P6';\n",
    "    'S20', 'ZeLa_P8'; 'S25', 'ZeLa_P8'; 'S30', 'ZeLa_P8'; 'S36', 'ZeLa_P8'; 'S41', 'ZeLa_P8';\n",
    "    'S21', 'ZeLa_P12';'S26', 'ZeLa_P12';'S31', 'ZeLa_P12';'S37', 'ZeLa_P12';'S42', 'ZeLa_P12';\n",
    "    'S22', 'ZeLa_P14';'S27', 'ZeLa_P14';'S32', 'ZeLa_P14';'S38', 'ZeLa_P14';'S43', 'ZeLa_P14';\n",
    "    'S18', 'ZeLa_P2'; 'S22', 'ZeLa_P2'; 'S27', 'ZeLa_P2'; 'S33', 'ZeLa_P2'; 'S38', 'ZeLa_P2';\n",
    "};\n",
    "\n",
    "% Prepare the expression data matrix and cell names\n",
    "expressionDataMatrix = table2array(dataTable(:, 2:end)); % Assuming the first column is gene names\n",
    "cellNames = dataTable.Properties.VariableNames(2:end); % Adjust if the structure is different\n",
    "\n",
    "% Adjust cellNames based on sampleConditions\n",
    "for i = 1:size(sampleConditions, 1)\n",
    "    idx = find(strcmp(cellNames, sampleConditions{i, 1}));\n",
    "    if ~isempty(idx)\n",
    "        cellNames{idx} = sampleConditions{i, 2};\n",
    "    end\n",
    "end\n",
    "\n",
    "% Creating the expressionData Structure\n",
    "expressionData = struct;\n",
    "expressionData.gene = updatedGeneNames;\n",
    "expressionData.valuebyTissue = expressionDataMatrix;\n",
    "expressionData.Tissue = cellNames;"
   ]
  },
  {
   "cell_type": "code",
   "execution_count": null,
   "id": "b1575b6e-90b3-4dc8-b77a-15e5acf77c1f",
   "metadata": {},
   "outputs": [],
   "source": [
    "expressionData"
   ]
  },
  {
   "cell_type": "code",
   "execution_count": null,
   "id": "753df52a-b6f6-4b59-b1fd-90e63a82a44f",
   "metadata": {},
   "outputs": [],
   "source": [
    "% Get the mean values of gene expression per condition\n",
    "\n",
    "% Find unique condition names\n",
    "uniqueConditions = unique(cellNames);\n",
    "\n",
    "% Initialize a matrix to store the mean values for each condition\n",
    "meanExpressionDataMatrix = zeros(size(expressionDataMatrix, 1), length(uniqueConditions));\n",
    "\n",
    "% Loop over each unique condition to calculate the mean expression\n",
    "for i = 1:length(uniqueConditions)\n",
    "    % Find columns that belong to the current condition\n",
    "    conditionCols = strcmp(cellNames, uniqueConditions{i});\n",
    "    \n",
    "    % Calculate the mean across these columns for each gene\n",
    "    meanExpressionDataMatrix(:, i) = mean(expressionDataMatrix(:, conditionCols), 2);\n",
    "end\n",
    "\n",
    "% Creating the meanexpressionData Structure\n",
    "meanexpressionData = struct;\n",
    "meanexpressionData.gene = updatedGeneNames;\n",
    "meanexpressionData.valuebyTissue = meanExpressionDataMatrix;\n",
    "meanexpressionData.Tissue = uniqueConditions;"
   ]
  },
  {
   "cell_type": "code",
   "execution_count": null,
   "id": "9b34f711-b76b-4471-850f-1d62be9befc0",
   "metadata": {},
   "outputs": [],
   "source": [
    "meanexpressionData"
   ]
  },
  {
   "cell_type": "code",
   "execution_count": null,
   "id": "8197cb1c-0afb-4bd9-b232-22d3a2918ef1",
   "metadata": {},
   "outputs": [],
   "source": [
    "% extract expression data of the genes in the model\n",
    "modelData = getModelData(meanexpressionData,model);"
   ]
  },
  {
   "cell_type": "code",
   "execution_count": null,
   "id": "8184e774",
   "metadata": {
    "tags": []
   },
   "outputs": [],
   "source": [
    "modelData"
   ]
  },
  {
   "cell_type": "code",
   "execution_count": null,
   "id": "df182f14",
   "metadata": {},
   "outputs": [],
   "source": [
    "% Calculate enzymes in the model\n",
    "spec = getSpecialistEnzymes(model);  \n",
    "prom = getPromEnzymes(model);"
   ]
  },
  {
   "cell_type": "code",
   "execution_count": null,
   "id": "0149d2fe",
   "metadata": {},
   "outputs": [],
   "source": [
    "% Calculate enzyme expression\n",
    "enzymeData = comparePromiscuousSpecific(spec,prom,modelData);"
   ]
  },
  {
   "cell_type": "code",
   "execution_count": null,
   "id": "a639f407",
   "metadata": {},
   "outputs": [],
   "source": [
    "edgeX = [-2 -1 0 1 2 2.5 3 4]; % bins  \n",
    "k = 7 % what value should we use\n",
    "distMethod = 'euclidean'; % distance method  \n",
    "linkageMethod = 'complete'; % linkage metric for hierarchical clustering"
   ]
  },
  {
   "cell_type": "code",
   "execution_count": null,
   "id": "92ba6a0f",
   "metadata": {},
   "outputs": [],
   "source": [
    "% Calculate clusters of enzyme expression\n",
    "clustObj = geneExprDist_hierarchy(enzymeData,[],edgeX,k,distMethod,linkageMethod);"
   ]
  },
  {
   "cell_type": "code",
   "execution_count": null,
   "id": "37fe2c90-66f7-4509-9d0b-f47ac83d9cf3",
   "metadata": {},
   "outputs": [],
   "source": [
    "% calculate active reaction lists as binary matrix\n",
    "coreRxnMat = models4mClusters1(clustObj,enzymeData.Tissue,model,edgeX,[],[],true,0,[1 1]);"
   ]
  },
  {
   "cell_type": "code",
   "execution_count": null,
   "id": "658869d3-f12a-40f4-b1df-b54ca745e80b",
   "metadata": {},
   "outputs": [],
   "source": [
    "% calculate Jaccard similarity between core reaction lists\n",
    "calcJaccardSimilarity(coreRxnMat,enzymeData.Tissue,'matrix',true);"
   ]
  },
  {
   "cell_type": "code",
   "execution_count": null,
   "id": "5903db47-2e8d-4d92-82a6-a7af23a0a438",
   "metadata": {},
   "outputs": [],
   "source": [
    "% Calculate ubiquity scores for mCADRE\n",
    "ubiScore = getUbiquityScore(clustObj,edgeX,model); % calculate ubiquity score"
   ]
  },
  {
   "cell_type": "code",
   "execution_count": null,
   "id": "caa5d04a-b3f8-47c1-b696-cfd3fcdb1d95",
   "metadata": {},
   "outputs": [],
   "source": []
  }
 ],
 "metadata": {
  "kernelspec": {
   "display_name": "Matlab",
   "language": "matlab",
   "name": "matlab"
  },
  "language_info": {
   "codemirror_mode": "octave",
   "file_extension": ".m",
   "help_links": [
    {
     "text": "MetaKernel Magics",
     "url": "https://metakernel.readthedocs.io/en/latest/source/README.html"
    }
   ],
   "mimetype": "text/x-octave",
   "name": "matlab",
   "version": "0.17.1"
  }
 },
 "nbformat": 4,
 "nbformat_minor": 5
}
