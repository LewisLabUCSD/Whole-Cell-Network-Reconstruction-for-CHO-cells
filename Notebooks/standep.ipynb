{
 "cells": [
  {
   "cell_type": "code",
   "execution_count": 1,
   "id": "2dec5278-6a45-41e9-80a0-e8c41a9b1b59",
   "metadata": {},
   "outputs": [
    {
     "name": "stdout",
     "output_type": "stream",
     "text": [
      "\n",
      "\n",
      "      _____   _____   _____   _____     _____     |\n",
      "     /  ___| /  _  \\ |  _  \\ |  _  \\   / ___ \\    |   COnstraint-Based Reconstruction and Analysis\n",
      "     | |     | | | | | |_| | | |_| |  | |___| |   |   The COBRA Toolbox - 2024\n",
      "     | |     | | | | |  _  { |  _  /  |  ___  |   |\n",
      "     | |___  | |_| | | |_| | | | \\ \\  | |   | |   |   Documentation:\n",
      "     \\_____| \\_____/ |_____/ |_|  \\_\\ |_|   |_|   |   http://opencobra.github.io/cobratoolbox\n",
      "                                                  | \n",
      "\n",
      " > Checking if git is installed ...  Done (version: 2.39.3).\n",
      " > Checking if the repository is tracked using git ...  Done.\n",
      " > Checking if curl is installed ...  Done.\n",
      " > Checking if remote can be reached ...  Done.\n",
      " > Initializing and updating submodules (this may take a while)... Done.\n",
      " > Adding all the files of The COBRA Toolbox ...  Done.\n",
      " > Define CB map output... set to svg.\n",
      "Warning: Colon operands must be real scalars. This warning will become an error in a future release.\n",
      "> In getDefinedFieldProperties (line 152)\n",
      "In initCobraToolbox (line 352)\n",
      "\n",
      "Warning: libsbml binaries not on Matlab path: COBRA Toolbox will be unable to read/write SBML files\n",
      "> In initCobraToolbox (line 377)\n",
      " > Configuring solver environment variables ...\n",
      "   - [----] ILOG_CPLEX_PATH: --> set this path manually after installing the solver ( see https://opencobra.github.io/cobratoolbox/docs/solvers.html )\n",
      "   - [---*] GUROBI_PATH: /Library/gurobi1001/mac64/matlab\n",
      "   - [----] TOMLAB_PATH: --> set this path manually after installing the solver ( see https://opencobra.github.io/cobratoolbox/docs/solvers.html )\n",
      "   - [----] MOSEK_PATH: --> set this path manually after installing the solver ( see https://opencobra.github.io/cobratoolbox/docs/solvers.html )\n",
      "   Done.\n",
      " > Checking available solvers and solver interfaces ...Gurobi installed at this location? \n",
      "Licence file current? \n",
      "Warning: Cplex is not on the MATLAB path. Complete the installation as specified here: https://opencobra.github.io/cobratoolbox/stable/installation.html#ibm-ilog-cplex\n",
      "> In changeCobraSolver (line 452)\n",
      "In initCobraToolbox (line 492)\n",
      "changeCobraSolver: problem initialising CPLEX object: Undefined function 'Cplex' for input arguments of type 'struct'.\n",
      "Could not find installation of ibm_cplex, so it cannot be tested\n",
      "Could not find installation of tomlab_cplex, so it cannot be tested\n",
      "Could not find installation of mosek, so it cannot be tested\n",
      "Could not find installation of matlab, so it cannot be tested\n",
      "\n",
      "   --------------------------------------------------------\n",
      "   pdco.m                      Version pdco5 of 15 Jun 2018\n",
      "   Primal-dual barrier method to minimize a convex function\n",
      "   subject to linear constraints Ax + r = b,  bl <= x <= bu\n",
      "                                                           \n",
      "   Michael Saunders       SOL and ICME, Stanford University\n",
      "   Contributors:     Byunggyoo Kim (SOL), Chris Maes (ICME)\n",
      "                     Santiago Akle (ICME), Matt Zahr (ICME)\n",
      "                     Aekaansh Verma (ME)                   \n",
      "   --------------------------------------------------------\n",
      "\n",
      "The objective is linear\n",
      "The matrix A is an explicit sparse matrix\n",
      "\n",
      "m        =        1     n        =        2      nnz(A)  =        1\n",
      "max |b | =        0     max |x0| =  1.0e+00      xsize   =  1.0e+00\n",
      "max |y0| =        1     max |z0| =  1.0e+00      zsize   =  1.0e+00\n",
      "\n",
      "x0min    =        1     featol   =  1.0e-06      d1max   =  1.0e-04\n",
      "z0min    =        1     opttol   =  1.0e-06      d2max   =  5.0e-04\n",
      "mu0      =  1.0e-01     steptol  =     0.99     bigcenter=     1000\n",
      "\n",
      "LSMR/MINRES:\n",
      "atol1    =  1.0e-10     atol2    =  1.0e-15      btol    =  0.0e+00\n",
      "conlim   =  1.0e+12     itnlim   =       10      show    =        0\n",
      "\n",
      "Method   =        2     (1 or 11=chol  2 or 12=QR  3 or 13=LSMR  4 or 14=MINRES 21=SQD(LU)  22=SQD(MA57))\n",
      "Eliminating dy before dx  \n",
      " \n",
      "\n",
      "Bounds:\n",
      "  [0,inf]  [-inf,0]  Finite bl  Finite bu  Two bnds   Fixed    Free\n",
      "        0         0          0          0         0       2       0\n",
      "  [0, bu]  [bl,  0]  excluding fixed variables\n",
      "        0         0\n",
      "\n",
      "Itn   mu stepx stepz  Pinf  Dinf  Cinf   Objective    nf  center       QR\n",
      "  0                   -6.6 -99.0  -Inf  1.2500000e-07        1.0\n",
      "  1 -1.0 1.000 1.000 -99.0 -99.0  -Inf  0.0000000e+00  1     1.0        1\n",
      "  2 -3.0 1.000 1.000 -99.0 -99.0  -Inf  0.0000000e+00  1     1.0\n",
      "  3 -5.0 1.000 1.000 -99.0 -99.0  -Inf  0.0000000e+00  1     1.0\n",
      "  4 -7.0 1.000 1.000 -99.0 -99.0  -Inf  0.0000000e+00  1     1.0\n",
      "   Converged\n",
      "\n",
      "max |x| =     0.000    max |y| =     0.000    max |z| =     0.000   scaled\n",
      "max |x| =     0.000    max |y| =     0.000    max |z| =     0.000 unscaled\n",
      "max |x| and max |z| exclude fixed variables\n",
      "PDitns  =         4     QRitns =         0    cputime =       0.1\n",
      "\n",
      "Distribution of vector     x         z\n",
      "[      1,     10 )         0         2\n",
      "[    0.1,      1 )         0         0\n",
      "[   0.01,    0.1 )         0         0\n",
      "[  0.001,   0.01 )         0         0\n",
      "[ 0.0001,  0.001 )         0         0\n",
      "[  1e-05, 0.0001 )         0         0\n",
      "[  1e-06,  1e-05 )         0         0\n",
      "[  1e-07,  1e-06 )         0         0\n",
      "[  1e-08,  1e-07 )         0         0\n",
      "[      0,  1e-08 )         2         0 \n",
      "Elapsed time is 0.076921 seconds.\n",
      "\n",
      " > [pdco] Primal optimality condition in solveCobraLP satisfied.\n",
      " > [pdco] Dual optimality condition in solveCobraLP satisfied.\n",
      "Elapsed time is 0.002172 seconds.\n",
      "In 0.002227 sec, file written to /Users/pablodigiusto/Library/Application Support/MathWorks/MATLAB Add-Ons/Collections/The COnstraint-Based Reconstruction and Analysis Toolbox/binary/maca64/bin/minos/data/FBA/qFBA.txt\n",
      "Could not find installation of cplex_direct, so it cannot be tested\n",
      "Warning: Cplex is not on the MATLAB path. Complete the installation as specified here: https://opencobra.github.io/cobratoolbox/stable/installation.html#ibm-ilog-cplex\n",
      "> In changeCobraSolver (line 452)\n",
      "In initCobraToolbox (line 492)\n",
      "changeCobraSolver: problem initialising CPLEX object: Undefined function 'Cplex' for input arguments of type 'struct'.\n",
      "Could not find installation of cplexlp, so it cannot be tested\n",
      "Could not find installation of tomlab_snopt, so it cannot be tested\n",
      " Done.\n",
      " > Setting default solvers ...Could not find installation of mosek, so it cannot be tested\n",
      "Could not find installation of matlab, so it cannot be tested\n",
      " Done.\n",
      " > Saving the MATLAB path ... Done.\n",
      "   - The MATLAB path was saved in the default location.\n",
      "\n",
      " > Summary of available solvers and solver interfaces\n",
      "\n",
      "\t\t\tSupport \t   LP \t MILP \t   QP \t MIQP \t  NLP \t   EP\n",
      "\t------------------------------------------------------------------------------\n",
      "\tgurobi       \tactive        \t    0 \t    0 \t    0 \t    0 \t    - \t    -\n",
      "\tibm_cplex    \tactive        \t    0 \t    0 \t    0 \t    0 \t    - \t    -\n",
      "\ttomlab_cplex \tactive        \t    0 \t    0 \t    0 \t    0 \t    - \t    -\n",
      "\tglpk         \tactive        \t    1 \t    1 \t    - \t    - \t    - \t    -\n",
      "\tmosek        \tactive        \t    0 \t    - \t    0 \t    - \t    - \t    0\n",
      "\tmatlab       \tactive        \t    0 \t    - \t    - \t    - \t    0 \t    -\n",
      "\tpdco         \tactive        \t    1 \t    - \t    1 \t    - \t    - \t    1\n",
      "\tquadMinos    \tactive        \t    1 \t    - \t    - \t    - \t    - \t    -\n",
      "\tdqqMinos     \tactive        \t    1 \t    - \t    1 \t    - \t    - \t    -\n",
      "\tcplex_direct \tactive        \t    0 \t    0 \t    0 \t    - \t    - \t    -\n",
      "\tcplexlp      \tactive        \t    0 \t    - \t    - \t    - \t    - \t    -\n",
      "\tqpng         \tpassive       \t    - \t    - \t    1 \t    - \t    - \t    -\n",
      "\ttomlab_snopt \tpassive       \t    - \t    - \t    - \t    - \t    0 \t    -\n",
      "\tlp_solve     \tlegacy        \t    1 \t    - \t    - \t    - \t    - \t    -\n",
      "\t------------------------------------------------------------------------------\n",
      "\tTotal        \t-             \t    5 \t    1 \t    3 \t    0 \t    0 \t    1\n",
      "\n",
      " + Legend: - = not applicable, 0 = solver not compatible or not installed, 1 = solver installed.\n",
      "\n",
      "\n",
      " > You can solve LP problems using: 'pdco' \n",
      " > You can solve MILP problems using: \n",
      " > You can solve QP problems using: 'pdco' \n",
      " > You can solve MIQP problems using: \n",
      " > You can solve NLP problems using: \n",
      " > You can solve EP problems using: 'pdco' \n",
      "\n",
      "Gurobi installed at this location? \n",
      "Licence file current? \n",
      "Gurobi installed at this location? \n",
      "Licence file current? \n",
      "Gurobi installed at this location? \n",
      "Licence file current? \n",
      "Gurobi installed at this location? \n",
      "Licence file current? \n",
      " > Checking for available updates ...\n",
      " > remote.origin.url = https://github.com/opencobra/cobratoolbox.git\n",
      ".\n",
      " > currentBranch = main.\n",
      " > The COBRA Toolbox is up-to-date.\n",
      "removing: /Users/pablodigiusto/Library/Application Support/MathWorks/MATLAB Add-Ons/Collections/The COnstraint-Based Reconstruction and Analysis Toolbox/src/analysis/thermo/componentContribution/new\n",
      "removing: /Users/pablodigiusto/Library/Application Support/MathWorks/MATLAB Add-Ons/Collections/The COnstraint-Based Reconstruction and Analysis Toolbox/src/analysis/thermo/groupContribution/new\n",
      "removing: /Users/pablodigiusto/Library/Application Support/MathWorks/MATLAB Add-Ons/Collections/The COnstraint-Based Reconstruction and Analysis Toolbox/src/analysis/thermo/inchi/new\n",
      "removing: /Users/pablodigiusto/Library/Application Support/MathWorks/MATLAB Add-Ons/Collections/The COnstraint-Based Reconstruction and Analysis Toolbox/src/analysis/thermo/molFiles/new\n",
      "removing: /Users/pablodigiusto/Library/Application Support/MathWorks/MATLAB Add-Ons/Collections/The COnstraint-Based Reconstruction and Analysis Toolbox/src/analysis/thermo/protons/new\n",
      "removing: /Users/pablodigiusto/Library/Application Support/MathWorks/MATLAB Add-Ons/Collections/The COnstraint-Based Reconstruction and Analysis Toolbox/src/analysis/thermo/trainingModel/new\n"
     ]
    }
   ],
   "source": [
    "% Initialize COBRA\n",
    "initCobraToolbox"
   ]
  },
  {
   "cell_type": "code",
   "execution_count": 2,
   "id": "741920c9",
   "metadata": {},
   "outputs": [],
   "source": [
    "cd('/Users/pablodigiusto/Documents/GitHub/Whole-Cell-Network-Reconstruction-for-CHO-cells/Notebooks');\n",
    "addpath('/Users/pablodigiusto/Documents/GitHub/Whole-Cell-Network-Reconstruction-for-CHO-cells/Notebooks/Matlab code');"
   ]
  },
  {
   "cell_type": "code",
   "execution_count": 3,
   "id": "5e1d5a56",
   "metadata": {},
   "outputs": [
    {
     "name": "stdout",
     "output_type": "stream",
     "text": [
      "Each model.subSystems{x} is a character array, and this format is retained.\n"
     ]
    }
   ],
   "source": [
    "% Load iCHO3000 model\n",
    "model = readCbModel('iCHOv3_CHO_28032024.mat');"
   ]
  },
  {
   "cell_type": "code",
   "execution_count": 4,
   "id": "d572a119",
   "metadata": {},
   "outputs": [],
   "source": [
    "% Loading the RNA-seq data\n",
    "dataTable = readtable('../Data/Zela Data/20200307_Bio141-148_merged.tpm.tsv', 'FileType', 'text', 'Delimiter', '\\t');\n",
    "\n",
    "% Extracting gene names if the first column\n",
    "geneNames = dataTable{:, 1};\n",
    "\n",
    "% Calculate mean expression across replicates for simplicity\n",
    "expressionWT = mean(table2array(dataTable(:, 2:18)), 2); % Mean across WT replicates\n",
    "expressionZeLa = mean(table2array(dataTable(:, 19:end)), 2); % Mean across ZeLa replicates\n",
    "expressionDataMatrix = [expressionWT, expressionZeLa]; % Combine into a single matrix\n",
    "\n",
    "% Condition Names\n",
    "cellNames = {'WT', 'ZeLa'}; % Adjust as needed\n",
    "\n",
    "% Creating the expressionData Structure\n",
    "expressionData = struct;\n",
    "expressionData.gene = geneNames;\n",
    "expressionData.valuebyTissue = expressionDataMatrix;\n",
    "expressionData.Tissue = cellNames;"
   ]
  },
  {
   "cell_type": "code",
   "execution_count": 18,
   "id": "13663798-b014-4c82-bebb-289b1e08e686",
   "metadata": {},
   "outputs": [
    {
     "name": "stdout",
     "output_type": "stream",
     "text": [
      "\n",
      "expressionData = \n",
      "\n",
      "  struct with fields:\n",
      "\n",
      "             gene: {32426x1 cell}\n",
      "    valuebyTissue: [32426x2 double]\n",
      "           Tissue: {'WT'  'ZeLa'}\n",
      "\n"
     ]
    }
   ],
   "source": [
    "expressionData"
   ]
  },
  {
   "cell_type": "code",
   "execution_count": 5,
   "id": "8197cb1c-0afb-4bd9-b232-22d3a2918ef1",
   "metadata": {},
   "outputs": [],
   "source": [
    "% extract expression data of the genes in the model\n",
    "modelData = getModelData(expressionData,model);"
   ]
  },
  {
   "cell_type": "code",
   "execution_count": 6,
   "id": "8184e774",
   "metadata": {},
   "outputs": [
    {
     "name": "stdout",
     "output_type": "stream",
     "text": [
      "\n",
      "modelData = \n",
      "\n",
      "  struct with fields:\n",
      "\n",
      "              gene: {3434x1 cell}\n",
      "            Tissue: {'WT'  'ZeLa'}\n",
      "             value: [3434x2 double]\n",
      "    ID_geneMissing: {209x1 cell}\n",
      "    ID_genePresent: {3434x1 cell}\n",
      "\n"
     ]
    }
   ],
   "source": [
    "modelData"
   ]
  },
  {
   "cell_type": "code",
   "execution_count": 7,
   "id": "df182f14",
   "metadata": {},
   "outputs": [],
   "source": [
    "% Calculate enzymes in the model\n",
    "spec = getSpecialistEnzymes(model);  \n",
    "prom = getPromEnzymes(model);"
   ]
  },
  {
   "cell_type": "code",
   "execution_count": 8,
   "id": "0149d2fe",
   "metadata": {},
   "outputs": [
    {
     "name": "stdout",
     "output_type": "stream",
     "text": [
      "Warning: Colon operands must be real scalars. This warning will become an error in a future release.\n",
      "> In comparePromiscuousSpecific (line 32)\n",
      "\n",
      "Warning: Colon operands must be real scalars. This warning will become an error in a future release.\n",
      "> In comparePromiscuousSpecific (line 32)\n",
      "\n"
     ]
    },
    {
     "data": {
      "image/png": "[encoded data removed]",
      "text/plain": [
       "<IPython.core.display.Image object>"
      ]
     },
     "metadata": {},
     "output_type": "display_data"
    }
   ],
   "source": [
    "% Calculate enzyme expression\n",
    "enzymeData = comparePromiscuousSpecific(spec,prom,modelData);"
   ]
  },
  {
   "cell_type": "code",
   "execution_count": 9,
   "id": "a639f407",
   "metadata": {},
   "outputs": [],
   "source": [
    "edgeX = [-2 -1 0 1 2 2.5 3 4]; % bins  "
   ]
  },
  {
   "cell_type": "code",
   "execution_count": 10,
   "id": "a47cf1ec",
   "metadata": {},
   "outputs": [
    {
     "name": "stdout",
     "output_type": "stream",
     "text": [
      "\n",
      "k =\n",
      "\n",
      "     3\n",
      "\n"
     ]
    }
   ],
   "source": [
    "k = 3"
   ]
  },
  {
   "cell_type": "code",
   "execution_count": 11,
   "id": "75aba047",
   "metadata": {},
   "outputs": [],
   "source": [
    "distMethod = 'euclidean'; % distance method  "
   ]
  },
  {
   "cell_type": "code",
   "execution_count": 12,
   "id": "d2efbcda",
   "metadata": {},
   "outputs": [],
   "source": [
    "linkageMethod = 'complete'; % linkage metric for hierarchical clustering"
   ]
  },
  {
   "cell_type": "code",
   "execution_count": 13,
   "id": "92ba6a0f",
   "metadata": {},
   "outputs": [
    {
     "name": "stderr",
     "output_type": "stream",
     "text": [
      "\u001b[0;31mError using linkage (line 146)\n",
      "You have to have at least one distance (two observations) to do a linkage.\n",
      "\n",
      "Error in geneExprDist_hierarchy (line 91)\n",
      "Z = linkage(Y,linkageMethod);\n",
      "\n",
      "\u001b[0m"
     ]
    }
   ],
   "source": [
    "% Calculate clusters of enzyme expression\n",
    "clustObj = geneExprDist_hierarchy(enzymeData,[],edgeX,k,distMethod,linkageMethod);"
   ]
  },
  {
   "cell_type": "code",
   "execution_count": 14,
   "id": "be70a05c-bd5f-4101-b308-c0b76312c315",
   "metadata": {},
   "outputs": [
    {
     "name": "stderr",
     "output_type": "stream",
     "text": [
      "\u001b[0;31mError using eval\n",
      "Unrecognized function or variable 'Yhist'.\n",
      "\n",
      "\u001b[0m"
     ]
    }
   ],
   "source": [
    "disp(size(Yhist)); % Should show [nGenes, nBins], where nGenes > 1"
   ]
  },
  {
   "cell_type": "code",
   "execution_count": 15,
   "id": "e8990388-c9dc-45e4-8159-199cf4ee38eb",
   "metadata": {},
   "outputs": [
    {
     "name": "stdout",
     "output_type": "stream",
     "text": [
      "\n",
      "enzymeData = \n",
      "\n",
      "  struct with fields:\n",
      "\n",
      "    enzyme: {3951x1 cell}\n",
      "     value: [3951x2 double]\n",
      "      rxns: {3951x1 cell}\n",
      "    Tissue: {'WT'  'ZeLa'}\n",
      "\n"
     ]
    }
   ],
   "source": [
    "enzymeData"
   ]
  },
  {
   "cell_type": "code",
   "execution_count": 16,
   "id": "1cf5240a-424d-4e4b-9104-325d579e1ff4",
   "metadata": {},
   "outputs": [],
   "source": [
    "v = log10(enzymeData.value + 1); % Adding 1 or a small constant to avoid log10(0)\n"
   ]
  },
  {
   "cell_type": "code",
   "execution_count": null,
   "id": "f2f906f4-2cbe-42e7-b659-e85684f75aea",
   "metadata": {},
   "outputs": [],
   "source": []
  }
 ],
 "metadata": {
  "kernelspec": {
   "display_name": "Matlab",
   "language": "matlab",
   "name": "matlab"
  },
  "language_info": {
   "codemirror_mode": "octave",
   "file_extension": ".m",
   "help_links": [
    {
     "text": "MetaKernel Magics",
     "url": "https://metakernel.readthedocs.io/en/latest/source/README.html"
    }
   ],
   "mimetype": "text/x-octave",
   "name": "matlab",
   "version": "0.17.1"
  }
 },
 "nbformat": 4,
 "nbformat_minor": 5
}
