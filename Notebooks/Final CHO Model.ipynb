{
 "cells": [
  {
   "cell_type": "markdown",
   "id": "15ecee4b",
   "metadata": {},
   "source": [
    "# Final CHO Model\n",
    "This notebook is to asses the validity of our reconstruction and how complete it is."
   ]
  },
  {
   "cell_type": "code",
   "execution_count": 120,
   "id": "77cf3103",
   "metadata": {},
   "outputs": [],
   "source": [
    "# Import libraries\n",
    "\n",
    "import gspread\n",
    "import pandas as pd\n",
    "import numpy as np\n",
    "from cobra import Model, Reaction, Metabolite\n",
    "\n",
    "from cobra.io import validate_sbml_model"
   ]
  },
  {
   "cell_type": "markdown",
   "id": "db8ed354",
   "metadata": {},
   "source": [
    "### 1. Retrieve information from the Google Sheet datasets reactions and metabolites"
   ]
  },
  {
   "cell_type": "code",
   "execution_count": 2,
   "id": "719281dd",
   "metadata": {},
   "outputs": [],
   "source": [
    "# give service account details to gspread\n",
    "sa = gspread.service_account(filename='credentials.json')\n",
    "\n",
    "# sa is a gspread client, which can be used for connecting to the sheets\n",
    "# by using the open method and the sheet name.\n",
    "cho_recon = sa.open('CHO Network Reconstruction')\n",
    "\n",
    "# we also need to specify the page name before getting the data. In this case we use the Rxns and Metabolites sheet.\n",
    "rxns_sheet = cho_recon.worksheet('Rxns')\n",
    "rxns_attributes_sheet = cho_recon.worksheet('Attributes')\n",
    "metabolites_sheet = cho_recon.worksheet('Metabolites')\n",
    "\n",
    "# We can extract the data using the get_all_records method and create pd DataFrames\n",
    "\n",
    "# Reactions IDs, names, formulas, GPRs\n",
    "rxns = pd.DataFrame(rxns_sheet.get_all_records())\n",
    "\n",
    "# Reactions bounds\n",
    "rxns_attributes = pd.DataFrame(rxns_attributes_sheet.get_all_records())\n",
    "\n",
    "# Metabolites names, formulas and compartment\n",
    "metabolites = pd.DataFrame(metabolites_sheet.get_all_records())"
   ]
  },
  {
   "cell_type": "markdown",
   "id": "77bcd212",
   "metadata": {},
   "source": [
    "### 2. Build a model and feed it the information from the df generated"
   ]
  },
  {
   "cell_type": "code",
   "execution_count": null,
   "id": "927503f4",
   "metadata": {},
   "outputs": [],
   "source": [
    "# Create a model and add reactions\n",
    "model = Model(\"iCHO\")\n",
    "lr = []\n",
    "\n",
    "for _, row in rxns.iterrows():\n",
    "    r = Reaction(row['Reaction'])\n",
    "    lr.append(r)\n",
    "    \n",
    "model.add_reactions(lr)\n",
    "model"
   ]
  },
  {
   "cell_type": "code",
   "execution_count": null,
   "id": "5c619ef6",
   "metadata": {},
   "outputs": [],
   "source": [
    "# Add information to each one of the reactions\n",
    "for i,r in enumerate(model.reactions):\n",
    "    r.build_reaction_from_string(rxns['Reaction Formula'][i])\n",
    "    r.name = rxns['Reaction Name'][i]\n",
    "    r.subsystem = rxns['Subsystem'][i]\n",
    "    r.gene_reaction_rule = str(rxns['GPR_final'][i])\n",
    "    r.lower_bound = rxns_attributes['Lower bound'][i]\n",
    "    r.upper_bound = rxns_attributes['Upper bound'][i]\n",
    "    # print(r)"
   ]
  },
  {
   "cell_type": "code",
   "execution_count": 5,
   "id": "d22a76a8",
   "metadata": {},
   "outputs": [],
   "source": [
    "# Add information for each metabolite\n",
    "metabolites_dict = metabolites.set_index('BiGG ID').to_dict('dict')\n",
    "metabolites_dict['Name']\n",
    "\n",
    "for met in model.metabolites:\n",
    "    met.name = metabolites_dict['Name'][f'{met}']\n",
    "    met.formula = metabolites_dict['Formula'][f'{met}']\n",
    "    met.compartment = metabolites_dict['Compartment'][f'{met}'].split(' - ')[0]\n",
    "\n",
    "apocytc_m = model.metabolites.get_by_id('apocytc_m')\n",
    "apocytc_m"
   ]
  },
  {
   "cell_type": "code",
   "execution_count": 33,
   "id": "aafd5e6f",
   "metadata": {},
   "outputs": [],
   "source": [
    "# Check Mass Balance\n",
    "for rxn in model.reactions:\n",
    "    rxn.check_mass_balance()"
   ]
  },
  {
   "cell_type": "code",
   "execution_count": null,
   "id": "ae461157",
   "metadata": {},
   "outputs": [],
   "source": [
    "# Initiliase model\n",
    "for rxn_exchange in model.exchanges:\n",
    "    rxn_exchange.bounds = (-1000, 1000)\n",
    "bio_id = model.reactions.index('biomass_producing')\n",
    "atp_id = model.reactions.index('DM_atp_c')\n",
    "\n",
    "model.reactions[bio_id].bounds = (0, 100)\n",
    "model.objective = 'biomass_producing'\n",
    "# model.objective = 'DM_atp_c'\n",
    "model.optimize()"
   ]
  },
  {
   "cell_type": "code",
   "execution_count": 149,
   "id": "805061a3",
   "metadata": {},
   "outputs": [],
   "source": [
    "with open('Biomass_Metabolites_Reactions.txt', 'w') as f:\n",
    "    bio_mets = model.reactions.get_by_id('biomass_producing').metabolites\n",
    "    for bio_met in bio_mets:\n",
    "        f.write(\"Metabolite: \" + bio_met.name + \"\\n\")\n",
    "        f.write(\"Reactions: \" + \", \".join([r.name for r in bio_met.reactions]) + \"\\n\")\n",
    "        f.write(\"Formula: \" + \", \".join([r.build_reaction_string() for r in bio_met.reactions]) + \"\\n\\n\")\n",
    "\n",
    "# Detect all the excahnge reactions that have no uptake\n",
    "from cobra.flux_analysis import flux_variability_analysis\n",
    "FVA_Result = flux_variability_analysis(model, model.exchanges)\n",
    "\n",
    "FVA_Result = a[a.minimum == 0]\n",
    "with open('FVA_Excange.txt', 'w') as f:\n",
    "    f.write(\"reaction\\tminimum\\tmaximum\\n\")\n",
    "    for index, row in FVA_Result.iterrows():\n",
    "        f.write(f\"{index}\\t{row['minimum']}\\t{row['maximum']}\\n\")"
   ]
  },
  {
   "cell_type": "code",
   "execution_count": null,
   "id": "e22b7d56",
   "metadata": {},
   "outputs": [],
   "source": [
    "for reaction in model.reactions:\n",
    "    with model as model:\n",
    "        reaction.knock_out()\n",
    "        model.optimize()\n",
    "        print('%s blocked (bounds: %s), new growth rate %f' %\n",
    "              (reaction.id, str(reaction.bounds), model.objective.value))"
   ]
  },
  {
   "cell_type": "code",
   "execution_count": null,
   "id": "262b0d5a",
   "metadata": {},
   "outputs": [],
   "source": [
    "import tempfile\n",
    "from pprint import pprint\n",
    "from cobra.io import write_sbml_model, validate_sbml_model\n",
    "with tempfile.NamedTemporaryFile(suffix='.xml') as f_sbml:\n",
    "    write_sbml_model(model, filename=f_sbml.name)\n",
    "    report = validate_sbml_model(filename=f_sbml.name)\n",
    "\n",
    "pprint(report)"
   ]
  }
 ],
 "metadata": {
  "kernelspec": {
   "display_name": "Python 3 (ipykernel)",
   "language": "python",
   "name": "python3"
  },
  "language_info": {
   "codemirror_mode": {
    "name": "ipython",
    "version": 3
   },
   "file_extension": ".py",
   "mimetype": "text/x-python",
   "name": "python",
   "nbconvert_exporter": "python",
   "pygments_lexer": "ipython3",
   "version": "3.9.16"
  }
 },
 "nbformat": 4,
 "nbformat_minor": 5
}
