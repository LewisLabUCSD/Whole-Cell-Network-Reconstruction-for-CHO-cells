{
 "cells": [
  {
   "cell_type": "code",
   "execution_count": null,
   "id": "d6dc85b5-8eac-4cbd-9f40-467e423b0035",
   "metadata": {},
   "outputs": [],
   "source": [
    "cd('/Users/pablodigiusto/Documents/GitHub/Whole-Cell-Network-Reconstruction-for-CHO-cells/Notebooks');\n",
    "addpath('./Matlab code/mCADRE');"
   ]
  },
  {
   "cell_type": "code",
   "execution_count": null,
   "id": "e0b0c179-9cdb-4fc2-a94a-6ab0f1721079",
   "metadata": {},
   "outputs": [],
   "source": [
    "% Initialize COBRA\n",
    "initCobraToolbox"
   ]
  },
  {
   "cell_type": "code",
   "execution_count": null,
   "id": "9fdb2571-0f60-4de6-9f3a-3aa515c26008",
   "metadata": {},
   "outputs": [],
   "source": [
    "% method = 1; % fastFVA\n",
    "method = 2; % fastcc\n",
    "salvageCheck = 1;"
   ]
  },
  {
   "cell_type": "code",
   "execution_count": null,
   "id": "334e01ee-5574-4ba3-9dfb-713769d5bed9",
   "metadata": {},
   "outputs": [],
   "source": [
    "% Load Confidence Scores\n",
    "confidenceScores = readmatrix('../Data/Context_specific_models/confidence_scores.csv');\n",
    "\n",
    "% Load Model\n",
    "model = readCbModel('iCHO3644_unblocked.mat');\n",
    "\n",
    "% Load Ubiquity Scores\n",
    "load('../Data/Context_specific_models/UbiquityScores.mat');\n",
    "ubiScoreVector = ubiScore(:, 1);\n",
    "\n",
    "% Generate Gene List\n",
    "G = model.genes;\n",
    "%G = model.rxns;"
   ]
  },
  {
   "cell_type": "code",
   "execution_count": null,
   "id": "745ce382-1e89-40fe-8789-0d2a66fce13c",
   "metadata": {},
   "outputs": [],
   "source": [
    "[PM, GM, C, NC, Z, model_C, pruneTime, cRes] = ...\n",
    "    mcadre(model, G, ubiScoreVector, confidenceScores, salvageCheck, method);"
   ]
  },
  {
   "cell_type": "code",
   "execution_count": null,
   "id": "4f800330-42b5-49f4-81d7-065b2b1e5997",
   "metadata": {},
   "outputs": [],
   "source": []
  }
 ],
 "metadata": {
  "kernelspec": {
   "display_name": "Matlab",
   "language": "matlab",
   "name": "matlab"
  },
  "language_info": {
   "codemirror_mode": "octave",
   "file_extension": ".m",
   "help_links": [
    {
     "text": "MetaKernel Magics",
     "url": "https://metakernel.readthedocs.io/en/latest/source/README.html"
    }
   ],
   "mimetype": "text/x-octave",
   "name": "matlab",
   "version": "0.17.1"
  }
 },
 "nbformat": 4,
 "nbformat_minor": 5
}
