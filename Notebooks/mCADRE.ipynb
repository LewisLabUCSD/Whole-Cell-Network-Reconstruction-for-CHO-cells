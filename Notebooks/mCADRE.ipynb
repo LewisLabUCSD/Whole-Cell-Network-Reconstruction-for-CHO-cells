{
 "cells": [
  {
   "cell_type": "code",
   "execution_count": null,
   "id": "e0b0c179-9cdb-4fc2-a94a-6ab0f1721079",
   "metadata": {},
   "outputs": [],
   "source": [
    "% Initialize COBRA\n",
    "initCobraToolbox"
   ]
  },
  {
   "cell_type": "code",
   "execution_count": null,
   "id": "d6dc85b5-8eac-4cbd-9f40-467e423b0035",
   "metadata": {},
   "outputs": [],
   "source": [
    "cd('/Users/pablodigiusto/Documents/GitHub/Whole-Cell-Network-Reconstruction-for-CHO-cells/Notebooks');"
   ]
  },
  {
   "cell_type": "code",
   "execution_count": null,
   "id": "ac9af94b-903a-4c44-bcb1-bfb0565aaf23",
   "metadata": {},
   "outputs": [],
   "source": [
    "% change COBRA solver to CPLEX or quadMinos\n",
    "changeCobraSolver('quadMinos', 'all');"
   ]
  },
  {
   "cell_type": "code",
   "execution_count": null,
   "id": "9fdb2571-0f60-4de6-9f3a-3aa515c26008",
   "metadata": {},
   "outputs": [],
   "source": [
    "% method = 1; % fastFVA\n",
    "method = 2; % fastcc\n",
    "salvageCheck = 1;"
   ]
  },
  {
   "cell_type": "code",
   "execution_count": null,
   "id": "d7ca0eea",
   "metadata": {},
   "outputs": [],
   "source": [
    "% reactions names that are manually added to the core reaction\n",
    "protectedRxns = {'biomass_cho', 'DNAsyn', 'LipidSyn', 'PROTsyn', 'RNAsyn'}"
   ]
  },
  {
   "cell_type": "code",
   "execution_count": null,
   "id": "334e01ee-5574-4ba3-9dfb-713769d5bed9",
   "metadata": {},
   "outputs": [],
   "source": [
    "% Load Confidence Scores\n",
    "confidenceScores = readmatrix('../Data/Context_specific_models/confidence_scores.csv');\n",
    "\n",
    "% Load Model\n",
    "model = readCbModel('iCHO3644_unblocked.mat');\n",
    "\n",
    "% Load Ubiquity Scores\n",
    "load('../Data/Context_specific_models/UbiquityScores.mat');\n",
    "ubiScoreVector = ubiScore(:, 1);\n",
    "\n",
    "checkFunctionality = 1 % Boolean variable that determine if the model should be able to produce the metabolites associated with the protectedRxns\n",
    "eta = 1/3 % tradeoff between removing core and zero-expression reactions (default value: 1/3)\n",
    "tol = 1e-8 % minimum flux threshold for \"expressed\" reactions (default 1e-8)"
   ]
  },
  {
   "cell_type": "code",
   "execution_count": null,
   "id": "745ce382-1e89-40fe-8789-0d2a66fce13c",
   "metadata": {},
   "outputs": [],
   "source": [
    "[tissueModel, coreRxn, nonCoreRxn,zeroExpRxns, pruneTime, cRes] = mCADRE(model, ubiScoreVector, confidenceScores, protectedRxns, checkFunctionality, eta, tol)"
   ]
  },
  {
   "cell_type": "code",
   "execution_count": null,
   "id": "94deb10e-2495-4e76-8517-155e85983a98",
   "metadata": {},
   "outputs": [],
   "source": []
  }
 ],
 "metadata": {
  "kernelspec": {
   "display_name": "Matlab",
   "language": "matlab",
   "name": "matlab"
  },
  "language_info": {
   "codemirror_mode": "octave",
   "file_extension": ".m",
   "help_links": [
    {
     "text": "MetaKernel Magics",
     "url": "https://metakernel.readthedocs.io/en/latest/source/README.html"
    }
   ],
   "mimetype": "text/x-octave",
   "name": "matlab",
   "version": "0.17.1"
  }
 },
 "nbformat": 4,
 "nbformat_minor": 5
}
