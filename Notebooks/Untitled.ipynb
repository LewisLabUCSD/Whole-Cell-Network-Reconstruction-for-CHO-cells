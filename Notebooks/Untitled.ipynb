{
 "cells": [
  {
   "cell_type": "code",
   "execution_count": 1,
   "id": "f793376b",
   "metadata": {},
   "outputs": [
    {
     "name": "stderr",
     "output_type": "stream",
     "text": [
      "<frozen importlib._bootstrap>:241: RuntimeWarning: scipy._lib.messagestream.MessageStream size changed, may indicate binary incompatibility. Expected 56 from C header, got 64 from PyObject\n"
     ]
    }
   ],
   "source": [
    "import pandas as pd\n",
    "from cobra.io import read_sbml_model\n",
    "from cobra.flux_analysis import find_blocked_reactions\n",
    "from utils import detect_dead_ends"
   ]
  },
  {
   "cell_type": "code",
   "execution_count": 2,
   "id": "2d8b6c09",
   "metadata": {},
   "outputs": [
    {
     "name": "stdout",
     "output_type": "stream",
     "text": [
      "Set parameter Username\n",
      "Academic license - for non-commercial use only - expires 2024-03-24\n"
     ]
    }
   ],
   "source": [
    "model = read_sbml_model(\"/Users/pablodigiusto/Downloads/MODEL1907260015.xml\")"
   ]
  },
  {
   "cell_type": "code",
   "execution_count": 11,
   "id": "0a707ccf",
   "metadata": {},
   "outputs": [
    {
     "name": "stdout",
     "output_type": "stream",
     "text": [
      "biomass_specific: 0.1104 DNA_c + 0.2212 RNA_c + 0.0687 glc_D_c + 0.192 lipid_c + 5.0549 protein_c --> \n",
      "BIOMASS\n",
      "-------------------------------------------------\n",
      "lipid_specific: 0.0153 ak2gchol_cho_c + 0.1994 chsterol_c + 0.0083 clpn_cho_c + 0.0085 dag_cho_c + 0.0011 lpe_cho_c + 0.019 pa_cho_c + 0.0121 pail_cho_c + 0.3257 pchol_cho_c + 0.1097 pe_cho_c + 0.0206 pglyc_cho_e + 0.0487 ps_cho_c + 0.2316 sphmyln_cho_c --> lipid_c\n",
      "BIOMASS\n",
      "-------------------------------------------------\n",
      "protein_specific: 0.0781 ala_L_c + 0.0636 arg_L_c + 0.0489 asn_L_c + 0.0489 asp_L_c + 1.306 atp_c + 0.0194 cys_L_c + 0.0609 gln_L_c + 0.0609 glu_L_c + 0.0866 gly_c + 2.0 gtp_c + 2.306 h2o_c + 0.0191 his_L_c + 0.0374 ile_L_c + 0.0849 leu_L_c + 0.0716 lys_L_c + 0.019 met_L_c + 0.0342 phe_L_c + 0.056 pro_L_c + 0.0684 ser_L_c + 0.0531 thr_L_c + 0.0083 trp_L_c + 0.029 tyr_L_c + 0.0517 val_L_c --> 0.306 adp_c + amp_c + 2.0 gdp_c + 3.306 h_c + 2.306 pi_c + ppi_c + protein_c\n",
      "BIOMASS\n",
      "-------------------------------------------------\n",
      "DNA: 1.372 atp_c + 0.293500001099245 datp_c + 0.206499998900755 dctp_c + 0.206499998900755 dgtp_c + 0.293500001099245 dttp_c + 1.372 h2o_c --> DNA_c + 1.372 adp_c + 1.372 h_c + 1.372 pi_c + ppi_c\n",
      "BIOMASS\n",
      "-------------------------------------------------\n",
      "RNA: 0.667900002186051 atp_c + 0.249499999910303 ctp_c + 0.263799999144032 gtp_c + 0.4 h2o_c + 0.218799998759614 utp_c --> RNA_c + 0.4 adp_c + 0.4 h_c + 0.4 pi_c + ppi_c\n",
      "BIOMASS\n",
      "-------------------------------------------------\n"
     ]
    }
   ],
   "source": [
    "for r in model.reactions:\n",
    "    if r.subsystem == 'BIOMASS':\n",
    "        print(r)\n",
    "        print(r.subsystem)\n",
    "        print('-------------------------------------------------')\n",
    "        "
   ]
  },
  {
   "cell_type": "code",
   "execution_count": 7,
   "id": "8fc03777",
   "metadata": {},
   "outputs": [
    {
     "data": {
      "text/html": [
       "\n",
       "        <table>\n",
       "            <tr>\n",
       "                <td><strong>Name</strong></td>\n",
       "                <td>K1par0mMCD</td>\n",
       "            </tr><tr>\n",
       "                <td><strong>Memory address</strong></td>\n",
       "                <td>168262c80</td>\n",
       "            </tr><tr>\n",
       "                <td><strong>Number of metabolites</strong></td>\n",
       "                <td>2819</td>\n",
       "            </tr><tr>\n",
       "                <td><strong>Number of reactions</strong></td>\n",
       "                <td>4740</td>\n",
       "            </tr><tr>\n",
       "                <td><strong>Number of genes</strong></td>\n",
       "                <td>1298</td>\n",
       "            </tr><tr>\n",
       "                <td><strong>Number of groups</strong></td>\n",
       "                <td>105</td>\n",
       "            </tr><tr>\n",
       "                <td><strong>Objective expression</strong></td>\n",
       "                <td>1.0*biomass_specific - 1.0*biomass_specific_reverse_542d6</td>\n",
       "            </tr><tr>\n",
       "                <td><strong>Compartments</strong></td>\n",
       "                <td>endoplasmic reticulum, cytosol, mitochondria, peroxisome, golgi apparatus, extracellular space, nucleus, lysosome, intermembrane space of the mitochondria</td>\n",
       "            </tr>\n",
       "          </table>"
      ],
      "text/plain": [
       "<Model K1par0mMCD at 0x168262c80>"
      ]
     },
     "execution_count": 7,
     "metadata": {},
     "output_type": "execute_result"
    }
   ],
   "source": [
    "model.op"
   ]
  },
  {
   "cell_type": "code",
   "execution_count": 8,
   "id": "fb8f72b3",
   "metadata": {},
   "outputs": [
    {
     "name": "stdout",
     "output_type": "stream",
     "text": [
      "500 reactions analized\n",
      "1000 reactions analized\n",
      "1500 reactions analized\n",
      "2000 reactions analized\n",
      "2500 reactions analized\n",
      "3000 reactions analized\n",
      "3500 reactions analized\n",
      "4000 reactions analized\n",
      "4500 reactions analized\n"
     ]
    }
   ],
   "source": [
    "##### ----- FVA ----- #####\n",
    "import utils\n",
    "\n",
    "model.solver = 'gurobi'\n",
    "\n",
    "\n",
    "for rxn_exchange in model.exchanges:\n",
    "    rxn_exchange.bounds = (-1000, 1000)\n",
    "minmax = utils.runMinMax_Single(model, end_rxn_index=None)\n",
    "\n",
    "##### Print Reactions with the min and max fluxes #####\n",
    "with open('temp/FVA_Results.txt', 'w') as f:\n",
    "    for i, j in enumerate(minmax):\n",
    "        print(model.reactions[i].id, \"Min: \",j[0], \"Max: \", j[1], file=f)\n",
    "        \n",
    "##### Print Blocked Reactions #####\n",
    "with open('temp/Blocked_Reactions.txt', 'w') as f:\n",
    "    for i, j in enumerate(minmax):\n",
    "        if j[0] == 0 and j[1] == 0:\n",
    "            print(model.reactions[i].id, \"Min: \",j[0], \"Max: \", j[1], file=f)"
   ]
  },
  {
   "cell_type": "code",
   "execution_count": null,
   "id": "730683c2",
   "metadata": {},
   "outputs": [],
   "source": []
  }
 ],
 "metadata": {
  "kernelspec": {
   "display_name": "Python 3 (ipykernel)",
   "language": "python",
   "name": "python3"
  },
  "language_info": {
   "codemirror_mode": {
    "name": "ipython",
    "version": 3
   },
   "file_extension": ".py",
   "mimetype": "text/x-python",
   "name": "python",
   "nbconvert_exporter": "python",
   "pygments_lexer": "ipython3",
   "version": "3.10.8"
  }
 },
 "nbformat": 4,
 "nbformat_minor": 5
}
