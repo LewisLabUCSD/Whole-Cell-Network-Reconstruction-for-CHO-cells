{
 "cells": [
  {
   "cell_type": "markdown",
   "id": "01c38dd7",
   "metadata": {},
   "source": [
    "# Standarization of Datasets\n",
    "The following notebook is intended for the standarization of the two Network Reconstruction datasets (the one generated in this reconstruction effort and the one that it is been manually curated). The idea of this notebook is to have the first dataset as back in case something goes bad in the manually curated dataset."
   ]
  },
  {
   "cell_type": "code",
   "execution_count": 1,
   "id": "cdc262d5",
   "metadata": {},
   "outputs": [],
   "source": [
    "from google_sheet import GoogleSheet"
   ]
  },
  {
   "cell_type": "markdown",
   "id": "930d8ea7",
   "metadata": {},
   "source": [
    "### 1.Generate the two sets of datasets"
   ]
  },
  {
   "cell_type": "code",
   "execution_count": 2,
   "id": "f05995e7",
   "metadata": {},
   "outputs": [],
   "source": [
    "#Credential file\n",
    "KEY_FILE_PATH = 'credentials.json'\n",
    "\n",
    "# Read data from the Google Sheet (Sheet Names)\n",
    "sheet_rxns = 'Rxns'\n",
    "sheet_attributes = 'Attributes'\n",
    "sheet_boundary = 'BoundaryRxns'\n",
    "sheet_genes = 'Genes'\n",
    "sheet_met = 'Metabolites'"
   ]
  },
  {
   "cell_type": "code",
   "execution_count": 3,
   "id": "86420e96",
   "metadata": {},
   "outputs": [],
   "source": [
    "##### ----- Generate datasets from CHO Network Reconstruction + Recon3D_v3 ----- #####\n",
    "\n",
    "#CHO Network Reconstruction + Recon3D_v3 Google Sheet ID\n",
    "SPREADSHEET_ID = '1MlBXeHIKw8k8fZyXm-sN__AHTRSunJxar_-bqvukZws'\n",
    "\n",
    "# Initialize the GoogleSheet object\n",
    "sheet = GoogleSheet(SPREADSHEET_ID, KEY_FILE_PATH)\n",
    "\n",
    "\n",
    "rxns_v3 = sheet.read_google_sheet(sheet_rxns)\n",
    "rxns_attributes_v3 = sheet.read_google_sheet(sheet_attributes)\n",
    "boundary_rxns_v3 = sheet.read_google_sheet(sheet_boundary)\n",
    "genes_v3 = sheet.read_google_sheet(sheet_genes)\n",
    "metabolites_v3 = sheet.read_google_sheet(sheet_met)"
   ]
  },
  {
   "cell_type": "code",
   "execution_count": 4,
   "id": "ab36cae7",
   "metadata": {},
   "outputs": [],
   "source": [
    "##### ----- Generate datasets from Chinese Hamster Network Reconstruction ----- #####\n",
    "\n",
    "#CHO Network Reconstruction + Recon3D_v3 Google Sheet ID\n",
    "SPREADSHEET_ID = '1_bCHi0YbemnalomhVDmeHRJimxcVNI4GK6MoH3JdE8M'\n",
    "\n",
    "# Initialize the GoogleSheet object\n",
    "sheet = GoogleSheet(SPREADSHEET_ID, KEY_FILE_PATH)\n",
    "\n",
    "rxns_mc = sheet.read_google_sheet(sheet_rxns)\n",
    "rxns_attributes_mc = sheet.read_google_sheet(sheet_attributes)\n",
    "boundary_rxns_mc = sheet.read_google_sheet(sheet_boundary)\n",
    "genes_mc = sheet.read_google_sheet(sheet_genes)\n",
    "metabolites_mc = sheet.read_google_sheet(sheet_met)"
   ]
  },
  {
   "cell_type": "markdown",
   "id": "709160d0",
   "metadata": {},
   "source": [
    "### 2.Santity Check\n",
    "This checks if the Reaction IDs, formulas and subsystems have been changed by the curators, or if the dataset have been reorganized."
   ]
  },
  {
   "cell_type": "code",
   "execution_count": 5,
   "id": "096e4390",
   "metadata": {},
   "outputs": [
    {
     "name": "stdout",
     "output_type": "stream",
     "text": [
      "Reaction IDs are OK\n",
      "------------------------------\n",
      "Reaction formulas are OK\n",
      "------------------------------\n",
      "Reaction subsystems are OK\n",
      "------------------------------\n"
     ]
    }
   ],
   "source": [
    "# Function to find differences in two lists\n",
    "def find_differences(list1, list2):\n",
    "    return [(i, item1, item2) for i, (item1, item2) in enumerate(zip(list1, list2)) if item1 != item2]\n",
    "\n",
    "# Check differences in Reaction IDs\n",
    "rxns_ID_diff = find_differences(list(rxns_mc['Reaction']), list(rxns_attributes_mc['Reaction']))\n",
    "if not rxns_ID_diff:\n",
    "    print('Reaction IDs are OK')\n",
    "    print('------------------------------')\n",
    "else:\n",
    "    print('Differences in Reaction IDs at indices:', rxns_ID_diff)\n",
    "    print('------------------------------')\n",
    "\n",
    "# Check differences in Reaction Formulas\n",
    "rxns_forms_diff = find_differences(list(rxns_mc['Reaction Formula']), list(rxns_attributes_mc['Reaction Formula']))\n",
    "if not rxns_forms_diff:\n",
    "    print('Reaction formulas are OK')\n",
    "    print('------------------------------')\n",
    "else:\n",
    "    print('Differences in Reaction Formulas at indices:', rxns_forms_diff)\n",
    "    print('------------------------------')\n",
    "\n",
    "# Check differences in Subsystems\n",
    "rxns_subs_diff = find_differences(list(rxns_mc['Subsystem']), list(rxns_attributes_mc['Subsystem']))\n",
    "if not rxns_subs_diff:\n",
    "    print('Reaction subsystems are OK')\n",
    "    print('------------------------------')\n",
    "else:\n",
    "    print('Differences in Subsystems at indices:', rxns_subs_diff)\n",
    "    print('------------------------------')\n"
   ]
  },
  {
   "cell_type": "markdown",
   "id": "0d7cc15c",
   "metadata": {},
   "source": [
    "### 3.Check if the datasets are equal\n",
    "Next step is to check the diferences in all the sheets manupilated by the manual curators in comparison with the back up Google Sheet."
   ]
  },
  {
   "cell_type": "code",
   "execution_count": 6,
   "id": "41d5f0ac",
   "metadata": {},
   "outputs": [
    {
     "name": "stdout",
     "output_type": "stream",
     "text": [
      "\"Rxns\" Sheet in both datasets are equal: False\n",
      "     Curated       Conf. Score        Reaction\n",
      "        self other        self other          \n",
      "14       NaN   NaN        1.75   1.5  NACASPAH\n",
      "23       NaN   NaN        1.75   1.5    ARGDCm\n",
      "29       NaN   NaN        1.75   1.5  EHGLAT2m\n",
      "30       NaN   NaN        1.75   1.5   EHGLATm\n",
      "48       NaN   NaN        1.75   1.5      MTAP\n",
      "...      ...   ...         ...   ...       ...\n",
      "9979     NaN   NaN        1.75   1.5     CHATn\n",
      "9980     NaN   NaN        1.75   1.5      CHLP\n",
      "9981     NaN   NaN        1.75   1.5   CHLPCTD\n",
      "9988     NaN   NaN        1.75   1.5     EPCTX\n",
      "9990     NaN   NaN        1.75   1.5      ETHP\n",
      "\n",
      "[607 rows x 5 columns]\n",
      ".............................................................\n",
      "\"Attributes\" Sheet in both datasets are equal: True\n",
      ".............................................................\n",
      "\"BoundaryRxns\" Sheet in both datasets are equal: True\n",
      ".............................................................\n",
      "\"Genes\" Sheet in both datasets are equal: True\n",
      ".............................................................\n",
      "\"Metabolites\" Sheet in both datasets are equal: False\n",
      "     Charge         BiGG ID\n",
      "       self other          \n",
      "2986           -2  M02807_c\n"
     ]
    }
   ],
   "source": [
    "### ------- \"Rxns Sheet\" ------- ####\n",
    "rxns_equals = rxns_v3.equals(rxns_mc)\n",
    "print(f'\"Rxns\" Sheet in both datasets are equal: {rxns_v3.equals(rxns_mc)}')\n",
    "if not rxns_equals:\n",
    "    rxns_differences = rxns_v3.compare(rxns_mc)\n",
    "    rxns_differences['Reaction'] = rxns_v3['Reaction'][rxns_differences.index.to_list()]\n",
    "    print(rxns_differences)\n",
    "print('.............................................................')    \n",
    "rxns_attributes_equals = rxns_attributes_v3.equals(rxns_attributes_mc)    \n",
    "print(f'\"Attributes\" Sheet in both datasets are equal: {rxns_attributes_v3.equals(rxns_attributes_mc)}')\n",
    "\n",
    "### ------- \"Attributes Sheet\" ------- ####\n",
    "if not rxns_attributes_equals:\n",
    "    rxns_attributes_differences = rxns_attributes_v3.compare(rxns_attributes_mc)\n",
    "    rxns_attributes_differences['Reaction'] = rxns_attributes_v3['Reaction'][rxns_attributes_differences.index.to_list()]\n",
    "    print(rxns_attributes_differences)\n",
    "print('.............................................................')      \n",
    "boundary_rxns_equals = boundary_rxns_v3.equals(boundary_rxns_mc)     \n",
    "print(f'\"BoundaryRxns\" Sheet in both datasets are equal: {boundary_rxns_v3.equals(boundary_rxns_mc)}')\n",
    "\n",
    "### ------- \"Boundary Rxns Sheet\" ------- ####\n",
    "if not boundary_rxns_equals:\n",
    "    boundary_rxns_differences = boundary_rxns_v3.compare(boundary_rxns_mc)\n",
    "    boundary_rxns_differences['Reaction'] = boundary_rxns_v3['Reaction'][boundary_rxns_differences.index.to_list()]\n",
    "    print(boundary_rxns_differences)\n",
    "print('.............................................................') \n",
    "\n",
    "### ------- \"Genes Sheet\" ------- ####\n",
    "genes_equals = genes_v3.equals(genes_mc) \n",
    "print(f'\"Genes\" Sheet in both datasets are equal: {genes_v3.equals(genes_mc)}')\n",
    "if not genes_equals:\n",
    "    genes_differences = genes_v3.compare(genes_mc)\n",
    "    genes_differences['Gene Entrez ID'] = genes_v3['Gene Entrez ID'][genes_differences.index.to_list()]\n",
    "    print(genes_differences)\n",
    "print('.............................................................')  \n",
    "\n",
    "### ------- \"Metabolites Sheet\" ------- ####\n",
    "metabolites_equals = metabolites_v3.equals(metabolites_mc) \n",
    "print(f'\"Metabolites\" Sheet in both datasets are equal: {metabolites_v3.equals(metabolites_mc)}')\n",
    "if not metabolites_equals:\n",
    "    metabolites_differences = metabolites_v3.compare(metabolites_mc)\n",
    "    metabolites_differences['BiGG ID'] = metabolites_v3['BiGG ID'][metabolites_differences.index.to_list()]\n",
    "    print(metabolites_differences)"
   ]
  },
  {
   "cell_type": "markdown",
   "id": "ee557227",
   "metadata": {},
   "source": [
    "### 3.Update the v3 dataset with info from the manual curation dataset"
   ]
  },
  {
   "cell_type": "code",
   "execution_count": 7,
   "id": "e1bc8daa",
   "metadata": {},
   "outputs": [
    {
     "name": "stdout",
     "output_type": "stream",
     "text": [
      "No need to update \"Attributes\" Sheet\n",
      "No need to update \"Genes\" Sheet\n"
     ]
    }
   ],
   "source": [
    "# Update Rxns dataset\n",
    "rxns_changed = False\n",
    "if not rxns_equals:\n",
    "    for index in rxns_differences.index:\n",
    "        rxns_v3.loc[index].update(rxns_mc.loc[index])\n",
    "        rxns_changed = True\n",
    "else:\n",
    "    print('No need to update \"Rxns\" Sheet')\n",
    "\n",
    "# Update Attributes dataset\n",
    "attributes_changed = False\n",
    "if not rxns_attributes_equals:\n",
    "    for index in rxns_attributes_differences.index:\n",
    "        rxns_attributes_v3.loc[index].update(rxns_attributes_mc.loc[index])\n",
    "        attributes_changed = True\n",
    "else:\n",
    "    print('No need to update \"Attributes\" Sheet')    \n",
    "\n",
    "# Update Metabolites dataset\n",
    "metabolites_changed = False\n",
    "if not metabolites_equals:\n",
    "    for index in metabolites_differences.index:\n",
    "        metabolites_v3.loc[index].update(metabolites_mc.loc[index])\n",
    "        metabolites_changed = True\n",
    "else:\n",
    "    print('No need to update \"Metabolites\" Sheet')\n",
    "    \n",
    "# Update Genes dataset\n",
    "genes_changed = False\n",
    "if not genes_equals:\n",
    "    for index in genes_differences.index:\n",
    "        genes_v3.loc[index].update(genes_mc.loc[index])\n",
    "        genes_changed = True\n",
    "else:\n",
    "    print('No need to update \"Genes\" Sheet')"
   ]
  },
  {
   "cell_type": "code",
   "execution_count": 8,
   "id": "5956b8fe",
   "metadata": {},
   "outputs": [
    {
     "name": "stdout",
     "output_type": "stream",
     "text": [
      "Rxns Sheet updated.\n",
      "Metabolites Sheet updated.\n"
     ]
    }
   ],
   "source": [
    "#############################################\n",
    "#### ----------------------------------- ####\n",
    "#### ---- Update Rxns Google Sheet ----- ####\n",
    "#### ----------------------------------- ####\n",
    "#############################################\n",
    "\n",
    "#CHO Network Reconstruction + Recon3D_v3 Google Sheet ID\n",
    "SPREADSHEET_ID = '1MlBXeHIKw8k8fZyXm-sN__AHTRSunJxar_-bqvukZws'\n",
    "\n",
    "# Initialize the GoogleSheet object\n",
    "sheet = GoogleSheet(SPREADSHEET_ID, KEY_FILE_PATH)\n",
    "\n",
    "if rxns_changed:\n",
    "    sheet.update_google_sheet(sheet_rxns, rxns_v3)\n",
    "    print(\"Rxns Sheet updated.\")\n",
    "\n",
    "if attributes_changed:\n",
    "    sheet.update_google_sheet(sheet_attributes, rxns_attributes_v3)\n",
    "    print(\"Attributes Sheet updated.\")\n",
    "    \n",
    "if genes_changed:\n",
    "    sheet.update_google_sheet(sheet_genes, genes_v3)\n",
    "    print(\"Genes Sheet updated.\")\n",
    "\n",
    "if metabolites_changed:\n",
    "    sheet.update_google_sheet(sheet_met, metabolites_v3)\n",
    "    print(\"Metabolites Sheet updated.\")"
   ]
  },
  {
   "cell_type": "code",
   "execution_count": null,
   "id": "d5c4c672",
   "metadata": {},
   "outputs": [],
   "source": []
  }
 ],
 "metadata": {
  "kernelspec": {
   "display_name": "Python 3 (ipykernel)",
   "language": "python",
   "name": "python3"
  },
  "language_info": {
   "codemirror_mode": {
    "name": "ipython",
    "version": 3
   },
   "file_extension": ".py",
   "mimetype": "text/x-python",
   "name": "python",
   "nbconvert_exporter": "python",
   "pygments_lexer": "ipython3",
   "version": "3.10.8"
  }
 },
 "nbformat": 4,
 "nbformat_minor": 5
}
